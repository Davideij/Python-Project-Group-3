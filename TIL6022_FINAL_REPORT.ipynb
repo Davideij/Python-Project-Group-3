{
 "cells": [
  {
   "cell_type": "markdown",
   "metadata": {},
   "source": [
    "# Prospective High Speed Rail Connections in Western Europe\n",
    "\n",
    " #### TIL6022 Python Programming - Group 3  \n",
    " Nicholas Alvord - 6119131  \n",
    " Amelija Ancupane -   \n",
    " David Eijbergen -  5232724  \n",
    " Yannick Elsten - 6306292  \n",
    " Koen Groeneveld -  6283594\n"
   ]
  },
  {
   "cell_type": "markdown",
   "metadata": {},
   "source": [
    "## Introduction  \n",
    "  \n",
    "  \n",
    "After the end of WW2, many countries’ governments around the world believed cars and airplanes were the future of transport and invested heavily in airports and highways. While cars and planes are indeed useful forms of transportation and certainly have their places in the world economy, there exists another form of transportation which can transform and revitalize the cities and regions in which it’s built: high-speed rail. As a concept, high-speed rail (HSR) is not a new technology, yet the environment benefits and positive socio-economic externalities it can bring to communities are nothing short of extraordinary. Large reductions of greenhouse gas emissions, less congestion on roads and airplanes alike, and the spurring of development along corridors are just a few of them.  \n",
    "\n",
    "Within the last few decades, many countries in Europe have chosen to create and expand their HSR networks, connecting populations with a faster, greener, and more convenient mode of travel. However, there are still major gaps in those networks, especially across international borders. And given the EU goal to become a climate-neutral economy by 2050, it is crucial for investments in high-speed rail to be carried out in a timely manner. The only question left to answer is where such systems should be built. As such, this report was created to try and answer this question:\n",
    "\n",
    "**Which city-pairs in Europe could stand to benefit the most from a high-speed rail connection?**\n",
    "\n",
    "The answer to this question would be based upon three main factors: \n",
    "\n",
    "&nbsp;&nbsp;&nbsp;&nbsp;a.\tThe number of current air passengers.  \n",
    "&nbsp;&nbsp;&nbsp;&nbsp;b.\tThe distance between city centers.  \n",
    "&nbsp;&nbsp;&nbsp;&nbsp;c.\tThe metropolitan population of both cities.\n",
    "\n",
    "In addition, two sub-questions were devised to place and give better context to the main question:  \n",
    "\n",
    "&nbsp;&nbsp;&nbsp;&nbsp;1.\tWhich city pairs already have the highest number of air passengers?  \n",
    "&nbsp;&nbsp;&nbsp;&nbsp;2.\tWhich city pairs fall within the set distance range?  \n",
    "\n",
    "This report only focuses on cities which do not already have an HSR line between them. What constitutes a high-speed rail line was defined according to Category 3 of the European Union Directive 96/48/EC, Annex 1, which requires the tracks and infrastructure to be designed for high speeds, permitting a maximum speed of at least 200 km/h. For the purposes of this report, it was decided that for a rail line to be considered high speed, it would not need to reach those speeds along its whole length. Even if a route between two cities has a single segment where speeds over 200 km/h are reached, it would be considered a normal-speed line, and thus eligible for inclusion in the study.\n",
    "\n",
    "It was decided that the geographical area of the report was to be constrained to five countries in western Europe: France, Germany, Spain, Belgium, Luxembourg, and the Netherlands. These countries were chosen due to their economic and political strength within the EU, their geographic proximity to one another, their well-developed rail networks, and their likeliness to invest further to improve said networks.\n",
    "\n",
    "High-speed rail networks are expensive to build, and there are a few reasons for not building an HSR connection between cities, the first and foremost of which being distance. After consulting multiple sources, the ideal range for a HSR connection between two cities was determined to be between 150 – 1200 km. This range was considered appropriate because it is where the door-to-door travel time for HSR will be most competitive with other options. For shorter distances, the time differences between HSR and normal speed rail don’t justify the higher costs of a HSR line, and longer distances will be in heavy competition with airplanes, especially so if those routes go over large bodies of water and/or mountain ranges.\n",
    "\n",
    "Data from Eurostat was utilized due to its breadth, good formatting, and ease of access. A four-year timespan, stretching from 2016 – 2019, was decided upon so passenger number data could be compared from year to year and trends could be extrapolated. Data from after 2020 was not used due to the large impacts of the COVID-19 pandemic and the subsequent lockdowns on the global economy and passenger traffic between countries."
   ]
  },
  {
   "cell_type": "markdown",
   "metadata": {},
   "source": [
    "## Data Pipeline\n",
    "\n",
    "### Datasets used\n",
    "\n",
    "**Eurostat air passenger data**  \n",
    "6 datasets from Eurostat were used, each for one of the countries – Germany, Netherlands, Belgium, Luxembourg, Spain, France [1]. The datasets were processed to extract information on:  \n",
    "*\tYear [2016, 2017, 2018, 2019]  \n",
    "*\tOrigin airport code  \n",
    "*\tDestination airport code  \n",
    "*\tNumber of air passengers carried between city pairs  \n",
    "\n",
    "**City name dataset**  \n",
    "Since no relevant dataset was found, the airport codes from the Eurostat dataset were used in ChatGPT to create a table with 2 columns. The first is the 4-letter airport code and the second is the name of the city that the airport is located. The table was reviewed to ensure consistency and accuracy. This table was then saved to excel and imported into the jupyter notebook.  \n",
    "\n",
    "**NUTS-3 data**  \n",
    "To define the service area of the airport, we decided to use NUTS-3 (Nomenclature of Territorial Units for Statistics) regions. NUTS-3 regions represent the most detailed classification of territorial statistical units within the European Union and usually cover a large municipality or a group of municipalities. Information on the distances between pairs of NUTS-3 regions are found at Mendeley Data [2]. Furthermore, information on the number of inhabitants for each NUTS-3 region is available on Eurostat [3].  \n",
    "\n",
    "**High-speed rail information**   \n",
    "Information about the already existing high-speed rail infrastructure was taken from multiple sources and manually combined into a dataset containing a total of 33 unique rail routes. High-speed rail (HSR) refers to rail systems designed to operate at speeds exceeding 250 km/h (155 mph) on specially built tracks. While trains may need to reduce speed in certain areas, such as urban environments, most of the tracks should be suitable for high-speed travel.  \n",
    "\n",
    "**Population information**  \n",
    "Relevant population data was taken from a dataset found on Eurostat [4], providing the number of inhabitants for every NUTS-3 region in years 1990 to 2023.  \n",
    "\n",
    "**City Location Data**  \n",
    "Longitude and Latitude location data for cities identified in the previously mentioned datasets were obtained from OpenStreetMap (OSM) using Nominatim. Nominatim is a tool that can be used to access OSM data and its geocoding. Nominatim was installed as a python library.\n",
    "\n",
    "### Data Pipeline\n",
    "\n",
    "**Step 1: Air passenger data processing**\n",
    "\n",
    "Initially the air passenger data was processed to come up with an origin-destination file between all major airports in the selected European countries and their passenger flows. The following steps were taken:\n",
    "* The data retrieved from Eurostat was loaded into a single dataframe using the Pandas library.\n",
    "* Origin and destination columns were created in the dataframe for both the countries and airport codes.\n",
    "* The dataframe was grouped by year, from now on, processing takes place in distinct dataframes for each year.\n",
    "* The city name dataset was important and the airport codes were matched with the city names. \n",
    "* The numbert of passengers were obrained by adding the values for travel in both directions. Furthermore, the data for cities with multiple airports were also combined. \n",
    "* The dataframes were sorted based on the number of passengers and the data was exported to an excel file. \n",
    "\n",
    "**Step 2: Distance data processing**\n",
    "\n",
    "After the O-D data was processed and passenger flows between airports were gathered, the distances between the airports were added to the file. These distances are then used as a benchmark to assess whether a high speed rail would be feasible between the two cities. \n",
    "* The data on the distances between different NUTS-3 regions was imported into a 'distances' dataframe using the pandas library.\n",
    "* Based on this dataframe, a seperate function was written to easily retrieve the distance between two NUTS-3 regions.\n",
    "* For each distinct airport in the O-D dataset, the NUTS-3 region in which the airport is located was determined. \n",
    "* Using the 'distances' dataframe, the distance between each airport in the O-D dataset was added. (Note that the distances between airports will therefore actually be the distances between the centroids of the NUTS-3 regions they belong to.)\n",
    "\n",
    "**Step 3: High Speed Rail data processing**\n",
    "\n",
    "To ensure that city pairs which already have a High Speed Rail connection are not further considered in our analysis, data on the existing High Speed Rails within Europe was gathered. \n",
    "* All the existing high speed rail connections - within and between the countries considered in this report - were gathered using different sourcs. \n",
    "* For each of the rail connections, all stations at major cities were manually examined and added to the dataset\n",
    "* Then the years in which each High Speed Rail was opened were added as to ensure that for each year we analyse, the most accurate data is used.\n",
    "* This High Speed Rail dataset is then combined with the O-D dataset by adding a binary column for each entry which indicates if a HSR connection already exists between the regions.\n",
    "\n",
    "**Step 4: Population data processing**\n",
    "\n",
    "To determine which city pairs would candidate for a new HSR, the population data in each city would be essential. \n",
    "* Data on the population of each region was imported and processed to exclude any unnecessary and empty columns and rows.\n",
    "* These population numbers were then matched with the NUTS-3 region in the O-D dataset. \n",
    "\n",
    "**Step 5: Final fixes**\n",
    "\n",
    "After finishing up all of the pre-processing, a single O-D file remains which shows the most flown routes within our selected set of countries, the number of passengers for each route, the distance between the airports, whether a HSR already exists between the cities and the population of both cities. Each seperated for a different year. From this dataset, the top 10 city pairs based on air passenger numbers are obtained and certain inappropriate city pairs are removed.\n",
    "\n"
   ]
  },
  {
   "cell_type": "markdown",
   "metadata": {},
   "source": [
    "### Exploratory analysis\n",
    "\n",
    "To gain insights into the data that we have gathered, some summary statistics were generated for each year and displayed into the tables below.\n",
    "From these statistics we can observe that the mean number of air passengers has been increasing over the 4 years, with the most flown route carrying about 4.5 - 5 million passengers each year (between Barcelona and Madrid). Differences can be quite large, as the least flown route only carries about 16.000 passengers annually. To determine whether building a HSR is feasible, the distance between the city pairs should not be too long, nor be too short. The longest route flown is between Berlin and La Palma (about 3685 km), which obviously does not candidate for a HSR (both due to the distance and the body of water seperating the cities). The shortest route is between Luxembourg and Saarbrucken (only 85km), which is too short for the construction of a HSR to be profitable. The average trip between the selected Western-European countries is about 1200km in length, which is on the high side for a feasible HSR connection. Lastly, the combined population of the different cities that are connected by airports is about 3 million people. The smallest communities being on the Spanish islands such as La Palma, Menorca and Fuerteventura and the largest being Madrid, Berlin and Barcelona.\n",
    "\n",
    "![Plotly Figure](Plot_Graphics/Exploratory_2016.png) \n",
    "![Plotly Figure](Plot_Graphics/Exploratory_2017.png) \n",
    "![Plotly Figure](Plot_Graphics/Exploratory_2018.png) \n",
    "![Plotly Figure](Plot_Graphics/Exploratory_2019.png) "
   ]
  },
  {
   "cell_type": "markdown",
   "metadata": {},
   "source": [
    "## Results"
   ]
  },
  {
   "cell_type": "markdown",
   "metadata": {},
   "source": [
    "### Analysis of city population  \n",
    "To analyze the potential demand for new high-speed rail connections more comprehensively, we examine both real passenger flows and the population of the cities within our research scope. While there may be limited air passenger traffic between two highly populated areas, these cities could still benefit from high-speed rail services. This is because the demand for mobility between them may currently be met by alternative transportation modes, such as cars or buses, while the overall demand for travel remains substantial. Every city or airport gets assigned the number of inhabitants in the years 2016 to 2019 of the NUTS-3 region it is located in. It is found that the largest cities by population in the scope of this research are Madrid, Barcelona and Berlin among others (Figure PX1). The reason why Paris, as one of the largest urban agglomerations in Europe is not mentioned in that list is because the multiple airports of the city (Paris Orly and Paris Charles-de-Gaulle) are located in different NUTS-3 regions, which serve as reference for the number of inhabitants. Therefore, the population of Paris in its entirety is not represented in our dataset, though it is suspected to be relevant in reality when trying to gauge potential demand between it and other European cities.  \n",
    "![Plotly Figure](Plot_Graphics/Largest_cities.png)  \n",
    "Figure PX1: Largest cities by population  \n",
    "\n",
    "Figure PX2 shows a geographical overview over all chosen cities and airports in the scope of this research together with the number of inhabitants in their respective NUTS-3 region. The size of the bubble associated with each city represents the size of its 2019 population.  \n",
    "![Plotly Figure](Plot_Graphics/City_Population.png)  \n",
    "Figure PX2: Map of cities with associated population  \n",
    "\n",
    "In the following, the city pairs are analyzed based on the combined population of their NUTS-3 regions to determine candidates for a high-speed rail connection based on potential demand. Each city pair gets assigned the combined number of inhabitants of both urban areas and is plotted in Figure PX3, showing the combined population as well as the distance between the cities in kilometers. In this scatter plot, three major aggregations of data points can be identified. The largest one covering lower combined population numbers and reaching from distances of less than 100 km to about 2000 km. In it, intra-national as well as international connections of various kinds within western Europe can be found. The second aggregation features higher combined populations and a range of distances between ca. 250 km and 1500 km. Due to the significant number of combined population in these city pairs, they mostly consist of city pairs featuring Madrid and Barcelona, the two cities in the dataset with the largest population. The third aggregation lies between distances of about 3000 km and 3500 km with combined populations on the lower end, mostly featuring trans-european connections between urban areas in western Europe and Spanish islands in the Atlantic ocean, like Tenerife or Fuerteventura.  \n",
    "![Plotly Figure](Plot_Graphics/Scatterplot_Distance-Population.png)  \n",
    "Figure PX3: Scatter Plots distance in relation to combined population per year  \n",
    "\n",
    "The range of distances in which a connection between two cities using high speed rail is deemed viable lies between about 150 km and 1200 km. After application of these boundaries to the data, the top ten city pairs are determined for each year, featuring the highest combined population. The results of this analysis can be found in Figure PX4. As the NUTS-3 regions of Madrid and Barcelona both have a large population, these two cities are heavily featured in these lists, with the consistent number one being the connection between these two cities themselves. The other spots on the list are occupied by connections of these cities with other larger cities in Spain as well as France. \n",
    "![Plotly Figure](Plot_Graphics/Population_Top10_2016.png) \n",
    "![Plotly Figure](Plot_Graphics/Population_Top10_2017.png) \n",
    "![Plotly Figure](Plot_Graphics/Population_Top10_2018.png) \n",
    "![Plotly Figure](Plot_Graphics/Population_Top10_2019.png) \n",
    "Figure PX4: Top Ten city pairs by combined population and year"
   ]
  },
  {
   "cell_type": "markdown",
   "metadata": {},
   "source": [
    "### Analysis of air passenger volume  \n",
    "\n",
    "\n",
    "Figure AP1 shows the range of yearly air passenger volumes between city pairs, sorted by distance. As in the previous figures, the distances considered ranged between 150 and 1200 kilometers. To help increase visibility, the resulting data points were filtered to only include the top 50 city pairs with the highest volumes of air passenger traffic, otherwise the resulting graph would be too dense to read. Additionally, any points marked in red represent city pairs with pre-existing rail connections. Including these existing connections allows for a comparison between city pairs that are already linked by high-speed rail and those without such connections, highlighting differences across the dataset. Placing the cursor over the data point will show the names of the city pairs and their exact distance and passenger numbers. The scatterplot displays a fairly well-grouped dataset, with most data points spread evenly around the graph. One notable outlier is the data point representing the cities of Barcelona and Palma de Mallorca, which is symbolized by the isolated blue dot to the upper-left of the scatterplot.  \n",
    "\n",
    "![Plotly Figure](Plot_Graphics/Scatterplot_Distance-AP_Slider2016.png) \n",
    "![Plotly Figure](Plot_Graphics/Scatterplot_Distance-AP_Slider2017.png) \n",
    "![Plotly Figure](Plot_Graphics/Scatterplot_Distance-AP_Slider2018.png) \n",
    "![Plotly Figure](Plot_Graphics/Scatterplot_Distance-AP_Slider2019.png)  \n",
    "Figure AP1: Scatter plots distance in relation to air passenger volume per year  \n",
    "\n",
    "Based on the number of air passengers, the 10 most travelled-between city pairs were chosen for years 2016-2019 (Figure AP2). What is interesting to note is that the same city pairs were in the Top 10 for all four years, although their relative positions changed slightly.  \n",
    "![Plotly Figure](Plot_Graphics/AP_Top10.png)  \n",
    "Figure AP2: Top 10 city pairs based on air passenger volume  \n",
    "\n",
    "After this step, the Top 10 city pairs were refined – city pairs with already existing high-speed rail connection (Barcelona-Madrid) and city pairs connecting mainland and islands (Barcelona-Palma de Mallorca, Madrid-Palma de Mallorca) were excluded from the list, as they were deemed not feasible for a HSR connection. The final recommendations can be seen in Figure AP3.  \n",
    "![Plotly Figure](Plot_Graphics/AP_Top7.png)  \n",
    "Figure AP3: Refined top city pairs based on air passenger volume\n"
   ]
  },
  {
   "cell_type": "markdown",
   "metadata": {},
   "source": [
    "## Conclusion  \n",
    "\n",
    "The conducted research aims to identify certain western European city pairs that could benefit from a high-speed rail connection. The geographical scope of the research has been narrowed down to the BeNeLux countries as well as Germany, France and Spain. To determine which city pairs fall into that category, travel demand is taken into account alongside the distance between the two respective cities. Based on a literary review, we determined the distance in which high speed rail travel proves feasible to range from 150km to 1200km. To estimate the demand for mobility between the cities, we chose two approaches: The first one focuses on the combined population of the city pair, serving as an indicator for potential travel demand, whereas the second approach takes into account real air passenger data between the cities, thereby serving as an indicator for factual (revealed) travel demand.  \n",
    "\n",
    "According to the first approach, the city pairs most eligible for high-speed rail connection lie mostly in Spain, with the connection Barcelona-Madrid being the consistent number one, followed by pairs of Madrid or Barcelona with other destinations in Spain and France. These results however are to be interpreted with caution as judgement based on population size is dependent on NUTS-3 area division, which can vary between countries. Other metropolitan areas outside of Spain, like Paris feature a more tightly webbed NUTS-3 division, therefore not taking into account the entire population that potentially lies within the range of an airport. Due to these inconsistencies, this approach is not explored further.  \n",
    "\n",
    "These issues are mitigated by the second approach, which focusses on real air passenger numbers between city pairs to estimate travel demand. While the pair Madrid-Barcelona comes in first there as well, lower ranked places also feature major city links within France and Germany, namely Paris-Toulouse and Berlin-Munich among others. Because some of these city pairs do in fact already have a rail connection for high-speed travel, these instances are removed from the list to arrive to our final recommendation in which we conclude that a high-speed rail link could be especially beneficial between the cities of Paris-Toulouse, Paris-Nice, Berlin-Frankfurt and Berlin-Munich.\n"
   ]
  },
  {
   "cell_type": "markdown",
   "metadata": {},
   "source": [
    "## Discussion\n",
    "\n",
    "Throughout the creation of this report, there was constant debate as to which preexisting railway routes could meet the given criteria and qualify as high-speed rail. This was an easy question to answer for some countries, and tougher to resolve for others. For example, the majority of high-speed railway connections in Spain were built out relatively recently, with trains planned to reach 300 km/h speeds from the initial outlay. Thus, high-speed trains in Spain travel at a relatively constant speed from the beginning to the end of their journeys. However, other countries, like Germany, possess a dense and diverse railway network which has been built up over centuries. A high-speed train in Germany may transition between modern track segments designed for speeds of 300 km/h and older sections, some dating back to the 19th century, where speeds are limited to approximately 100 km/h. After some discussion, it was eventually decided any analysis carried out would try to remain relevant to countries which are at various stages of high-speed rail implementation, and so report would encompass any rail line that allows trains to exceed 200 km/h at any point along its length.  \n",
    "\n",
    "Another question posed during the initial stages of this report was to determine the minimum and maximum distances between city pairs where high-speed rail would be feasible. The economic feasibility of a high-speed rail line is a direct function of its total distance, and in any given region, a proposed high-speed rail system would have to compete against buses, private cars, air transportation, and even conventional trains. Various studies have found that the minimum financially advisable distance to build a high-speed line would be 150 kilometers [5] – any distances below that number will not be competitive with the door-to-door travel time offered by traditional modes of ground transportation, and thus not worth the cost.  \n",
    "\n",
    "As for the maximum distance, there was some more leeway. Different sources suggested an upper limit between 800 to 1200 kilometers being the maximum distances high-speed rail can be competitive with air travel. [6] Travelling at 300 km/h, a distance of 800 km/h can be covered in nearly three hours, with a distance of 1200 kilometers taking about five hours. It was eventually decided to settle on a maximum distance of 1200 kilometers, mainly due to the fact that when considering the time taken to get to and from remote airports, airport check-in, and security, an airplane would still break even with a high-speed train in door-to-door travel time. Moreover, the Beijing to Shanghai high-speed route, with a distance of 1300 kilometers, has proven to be an extremely popular route, proving the feasibility of longer high-speed rail links.  \n",
    "\n",
    "Additionally, economic feasibility, while a valid metric to judge a project by, should not be the only factor considered, and arguably may not even warrant significant weight in overall assessments. There is a case to be made that infrastructure such as sewers, electric grids, roads, railways, and other public works are so important to modern day lives and have such a great impact on the quality of life, that the outright capital costs of such investments are negligible compared to the amount of unmeasurable positive externalities they create. It is easy to quantify the costs of a high-speed rail system, but it is much harder to determine the benefits it brings to the public sphere. In the end, the political willpower and support a country gives to build a system remains one of the most important factors in determining the final feasibility of a project. \n"
   ]
  },
  {
   "cell_type": "markdown",
   "metadata": {},
   "source": [
    "#### Limitations\n",
    "\n",
    "There are several limitations to this study. Firstly, the conclusions drawn are heavily influenced by the definitions set at the beginning of this study, such as what the appropriate range for a HSR connection is. Although the value taken is based on existing research, this range could be explored further or more exactly defined on a case-by-case basis. The suitability of a HSR connection is by no means solely dependent on distance; there are also geographical factors to consider, whether the route passes through population centers, whether it can reuse existing rights-of-way, political willingness and environmental laws. Thus, further evaluation of the feasible distances and closer look at individual cases could be beneficial and help to include or exclude city pairs more appropriately.\n",
    "Secondly, as mentioned in the discussion section, the assumption of what can be considered a HSR connection can also be challenged. For example, an alternative definition could be the average travel speed of the train along its journey, or the total percentage of track which has been upgraded to 300 km/h speeds. However, given the amount of city pairs under consideration, these methods of determining what qualifies as a high-speed rail connection proved to be exceedingly time-consuming to carry out. Thus, factoring in time-constraints, simply checking the maximum speed reached during the journey proved to be an easier method of classification.\n",
    "Thirdly, the future market of the HSR is explored through looking at population data. This was done by looking at the NUTS-3 regions of the airports. In reality, the population using the airports and possible HSR connections can differ significantly from the population of the NUTS-3 region the airport is located in and is expected to be much larger in most cases. It can extend to multiple parts of the cities and also their metropolitan area and even nearby towns or cities. Furthermore, the division into NUTS-3 regions is assumed to be somewhat arbitrary, with large differences between countries. For example, the NUTS-3 regions of Madrid and Barcelona as well as other Spanish cities feature an extraordinarily high population number in comparison to other cities in the data set, while they might not factually deserve that spot regarding their overall metropolitan area. Tighter division of metropolitan areas in other countries, as has been exemplarily observed in Paris, does put those cities at a disadvantage and diminishes the quality of the overall results. For a better understanding of a future market and the potential demand for high-speed rail connections between European cities, a more appropriate population data set should be used, perhaps combining multiple NUTS-3 regions in some cases or using another area division system.\n"
   ]
  },
  {
   "cell_type": "markdown",
   "metadata": {},
   "source": [
    "## Contribution Statement\n",
    "\n",
    "Author 1 - Nicholas Alvord: Introduction, creation of distance/air passenger volume scatterplot and analysis, discussion, limitations \n",
    "\n",
    "Author 2 - Amelija Ancupane:  Air passenger data preprocessing, distance/air passenger top 10\n",
    "\n",
    "Author 3 - David Eijbergen: Air Travel Network Map\n",
    "\n",
    "Author 4 - Yannick Elsten: Population data preprocessing and analysis, conclusion, limitations\n",
    "\n",
    "Author 5 - Koen Groeneveld: Processing of the distance and the high speed rail data, exploratory analysis"
   ]
  },
  {
   "cell_type": "markdown",
   "metadata": {},
   "source": [
    "## References\n",
    "\n",
    "\n"
   ]
  }
 ],
 "metadata": {
  "kernelspec": {
   "display_name": "TIL6022",
   "language": "python",
   "name": "python3"
  },
  "language_info": {
   "codemirror_mode": {
    "name": "ipython",
    "version": 3
   },
   "file_extension": ".py",
   "mimetype": "text/x-python",
   "name": "python",
   "nbconvert_exporter": "python",
   "pygments_lexer": "ipython3",
   "version": "3.12.5"
  }
 },
 "nbformat": 4,
 "nbformat_minor": 2
}
