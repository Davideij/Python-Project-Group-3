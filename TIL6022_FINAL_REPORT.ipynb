{
 "cells": [
  {
   "cell_type": "markdown",
   "metadata": {},
   "source": [
    "# Prospective High Speed Rail Connections in Western Europe\n",
    "\n",
    " #### TIL6022 Python Programming - Group 3  \n",
    " Nicholas Alvord -   \n",
    " Amelija Ancupane -   \n",
    " David Eijbergen -   \n",
    " Yannick Elsten - 6306292  \n",
    " Koen Groeneveld -   \n",
    "\n",
    "\n"
   ]
  }
 ],
 "metadata": {
  "language_info": {
   "name": "python"
  }
 },
 "nbformat": 4,
 "nbformat_minor": 2
}
