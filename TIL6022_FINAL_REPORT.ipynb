{
 "cells": [
  {
   "cell_type": "markdown",
   "metadata": {},
   "source": [
    "# Prospective High Speed Rail Connections in Western Europe\n",
    "\n",
    " #### TIL6022 Python Programming - Group 3  \n",
    " Nicholas Alvord -   \n",
    " Amelija Ancupane -   \n",
    " David Eijbergen -   \n",
    " Yannick Elsten - 6306292  \n",
    " Koen Groeneveld -   \n",
    "\n",
    "\n"
   ]
  },
  {
   "cell_type": "markdown",
   "metadata": {},
   "source": [
    "## Introduction  \n",
    "  \n",
    "  \n",
    "After the end of WW2, many countries’ governments around the world believed cars and airplanes were the future of transport and invested heavily in airports and highways. While cars and planes are indeed useful forms of transportation and certainly have their places in the world economy, there exists another form of transportation which can transform and revitalize the cities and regions in which it’s built: high-speed rail. As a concept, high-speed rail (HSR) is not a new technology, yet the environment benefits and positive socio-economic externalities it can bring to communities are nothing short of extraordinary. Large reductions of greenhouse gas emissions, less congestion on roads and airplanes alike, and the spurring of development along corridors are just a few of them.  \n",
    "\n",
    "Within the last few decades, many countries in Europe have chosen to create and expand their HSR networks, connecting populations with a faster, greener, and more convenient mode of travel. However, there are still major gaps in those networks, especially across international borders. And given the EU goal to become a climate-neutral economy by 2050, it is crucial for investments in high-speed rail to be carried out in a timely manner. The only question left to answer is where such systems should be built. As such, this report was created to try and answer this question:\n",
    "\n",
    "**Which city-pairs in Europe could stand to benefit the most from a high-speed rail connection?**\n",
    "\n",
    "The answer to this question would be based upon three main factors: \n",
    "\n",
    "&nbsp;&nbsp;&nbsp;&nbsp;a.\tThe number of current air passengers.  \n",
    "&nbsp;&nbsp;&nbsp;&nbsp;b.\tThe distance between city centers.  \n",
    "&nbsp;&nbsp;&nbsp;&nbsp;c.\tThe metropolitan population of both cities.\n",
    "\n",
    "In addition, two sub-questions were devised to place and give better context to the main question:  \n",
    "\n",
    "&nbsp;&nbsp;&nbsp;&nbsp;1.\tWhich city pairs already have the highest number of air passengers?  \n",
    "&nbsp;&nbsp;&nbsp;&nbsp;2.\tWhich city pairs fall within the set distance range?  \n",
    "\n",
    "This report only focuses on cities which do not already have an HSR line between them. What constitutes a high-speed rail line was defined according to Category 3 of the European Union Directive 96/48/EC, Annex 1, which requires the tracks and infrastructure to be designed for high speeds, permitting a maximum speed of at least 200 km/h. For the purposes of this report, it was decided that for a rail line to be considered high speed, it would not need to reach those speeds along its whole length. Even if a route between two cities has a single segment where speeds over 200 km/h are reached, it would be considered a normal-speed line, and thus eligible for inclusion in the study.\n",
    "\n",
    "It was decided that the geographical area of the report was to be constrained to five of the largest economies in the EU: France, Germany, Spain, Belgium, Luxembourg, and the Netherlands. These countries were chosen due to their economic and political strength within the EU, their well-developed rail networks, and their likeliness to invest further to improve said networks.\n",
    "\n",
    "High-speed rail networks are expensive to build, and there are a few reasons for not building an HSR connection between cities, the first and foremost of which being distance. After consulting multiple sources, the ideal range for a HSR connection between two cities was determined to be between 150 – 1200 km. This range was considered appropriate because it is where the door-to-door travel time for HSR will be most competitive with other options. For shorter distances, the time differences between HSR and normal speed rail don’t justify the higher costs of a HSR line, and longer distances will be in heavy competition with airplanes, especially so if those routes go over large bodies of water and/or mountain ranges.\n",
    "\n",
    "Data from Eurostat was utilized due to its breadth, good formatting, and ease of access. A four-year timespan, stretching from 2016 – 2019, was decided upon so passenger number data could be compared from year to year and trends could be extrapolated. Data from after 2020 was not used due to the large impacts of the COVID-19 pandemic and the subsequent lockdowns on the global economy and passenger traffic between countries."
   ]
  }
 ],
 "metadata": {
  "language_info": {
   "name": "python"
  }
 },
 "nbformat": 4,
 "nbformat_minor": 2
}
