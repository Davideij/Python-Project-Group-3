{
 "cells": [
  {
   "cell_type": "code",
   "execution_count": 1,
   "metadata": {},
   "outputs": [],
   "source": [
    "# Creating scatterplot graph comparing Flight Passengers between City Pairs vs. Distance\n",
    "\n",
    "import pandas as pd\n",
    "import openpyxl\n",
    "import plotly.express as px"
   ]
  },
  {
   "cell_type": "code",
   "execution_count": 2,
   "metadata": {},
   "outputs": [
    {
     "data": {
      "text/html": [
       "<div>\n",
       "<style scoped>\n",
       "    .dataframe tbody tr th:only-of-type {\n",
       "        vertical-align: middle;\n",
       "    }\n",
       "\n",
       "    .dataframe tbody tr th {\n",
       "        vertical-align: top;\n",
       "    }\n",
       "\n",
       "    .dataframe thead th {\n",
       "        text-align: right;\n",
       "    }\n",
       "</style>\n",
       "<table border=\"1\" class=\"dataframe\">\n",
       "  <thead>\n",
       "    <tr style=\"text-align: right;\">\n",
       "      <th></th>\n",
       "      <th>City_A_Name</th>\n",
       "      <th>City_B_Name</th>\n",
       "      <th>City_A</th>\n",
       "      <th>City_B</th>\n",
       "      <th>Total passengers</th>\n",
       "      <th>NUTS_3_code_A</th>\n",
       "      <th>NUTS_3_code_B</th>\n",
       "      <th>Distance</th>\n",
       "      <th>has_connection</th>\n",
       "    </tr>\n",
       "  </thead>\n",
       "  <tbody>\n",
       "    <tr>\n",
       "      <th>0</th>\n",
       "      <td>Paris</td>\n",
       "      <td>Toulouse</td>\n",
       "      <td>LFPO</td>\n",
       "      <td>LFBO</td>\n",
       "      <td>4716804</td>\n",
       "      <td>FR107</td>\n",
       "      <td>FRJ23</td>\n",
       "      <td>610672.306409</td>\n",
       "      <td>0</td>\n",
       "    </tr>\n",
       "    <tr>\n",
       "      <th>1</th>\n",
       "      <td>Barcelona</td>\n",
       "      <td>Madrid</td>\n",
       "      <td>LEBL</td>\n",
       "      <td>LEMD</td>\n",
       "      <td>4657590</td>\n",
       "      <td>ES511</td>\n",
       "      <td>ES300</td>\n",
       "      <td>496744.786620</td>\n",
       "      <td>1</td>\n",
       "    </tr>\n",
       "    <tr>\n",
       "      <th>2</th>\n",
       "      <td>Nice</td>\n",
       "      <td>Paris</td>\n",
       "      <td>LFMN</td>\n",
       "      <td>LFPO</td>\n",
       "      <td>4249404</td>\n",
       "      <td>FRL03</td>\n",
       "      <td>FR107</td>\n",
       "      <td>645376.754517</td>\n",
       "      <td>0</td>\n",
       "    </tr>\n",
       "    <tr>\n",
       "      <th>3</th>\n",
       "      <td>Berlin</td>\n",
       "      <td>Munich</td>\n",
       "      <td>EDDT</td>\n",
       "      <td>EDDM</td>\n",
       "      <td>3878625</td>\n",
       "      <td>DE300</td>\n",
       "      <td>DE212</td>\n",
       "      <td>501031.167189</td>\n",
       "      <td>0</td>\n",
       "    </tr>\n",
       "    <tr>\n",
       "      <th>4</th>\n",
       "      <td>Berlin</td>\n",
       "      <td>Frankfurt</td>\n",
       "      <td>EDDT</td>\n",
       "      <td>EDDF</td>\n",
       "      <td>3869795</td>\n",
       "      <td>DE300</td>\n",
       "      <td>DE712</td>\n",
       "      <td>423686.712363</td>\n",
       "      <td>0</td>\n",
       "    </tr>\n",
       "  </tbody>\n",
       "</table>\n",
       "</div>"
      ],
      "text/plain": [
       "  City_A_Name City_B_Name City_A City_B  Total passengers NUTS_3_code_A  \\\n",
       "0       Paris    Toulouse   LFPO   LFBO           4716804         FR107   \n",
       "1   Barcelona      Madrid   LEBL   LEMD           4657590         ES511   \n",
       "2        Nice       Paris   LFMN   LFPO           4249404         FRL03   \n",
       "3      Berlin      Munich   EDDT   EDDM           3878625         DE300   \n",
       "4      Berlin   Frankfurt   EDDT   EDDF           3869795         DE300   \n",
       "\n",
       "  NUTS_3_code_B       Distance  has_connection  \n",
       "0         FRJ23  610672.306409               0  \n",
       "1         ES300  496744.786620               1  \n",
       "2         FR107  645376.754517               0  \n",
       "3         DE212  501031.167189               0  \n",
       "4         DE712  423686.712363               0  "
      ]
     },
     "execution_count": 2,
     "metadata": {},
     "output_type": "execute_result"
    }
   ],
   "source": [
    "file_path = 'C:/Users/alvor/OneDrive/Desktop/Masters Work/Winter 2024/TIL 6022/Group Project/Python-Project-Group-3/CITIES_FINAL.xlsx'\n",
    "df = pd.read_excel(file_path)\n",
    "df.head()"
   ]
  },
  {
   "cell_type": "code",
   "execution_count": 50,
   "metadata": {},
   "outputs": [
    {
     "data": {
      "application/vnd.plotly.v1+json": {
       "config": {
        "plotlyServerURL": "https://plot.ly"
       },
       "data": [
        {
         "customdata": [
          [
           "FR107",
           "FRJ23",
           "2016",
           "Paris",
           "Toulouse"
          ],
          [
           "FRL03",
           "FR107",
           "2016",
           "Nice",
           "Paris"
          ],
          [
           "DE300",
           "DE212",
           "2016",
           "Berlin",
           "Munich"
          ],
          [
           "DE300",
           "DE712",
           "2016",
           "Berlin",
           "Frankfurt"
          ],
          [
           "DE600",
           "DE212",
           "2016",
           "Hamburg",
           "Munich"
          ],
          [
           "ES511",
           "ES532",
           "2016",
           "Barcelona",
           "Palma de Mallorca"
          ],
          [
           "ES300",
           "ES532",
           "2016",
           "Madrid",
           "Palma de Mallorca"
          ],
          [
           "DEA11",
           "DE212",
           "2016",
           "DÃ¼sseldorf",
           "Munich"
          ],
          [
           "ES705",
           "ES300",
           "2016",
           "Gran Canaria",
           "Madrid"
          ],
          [
           "DE712",
           "DE600",
           "2016",
           "Frankfurt",
           "Hamburg"
          ],
          [
           "NL329",
           "ES511",
           "2016",
           "Amsterdam",
           "Barcelona"
          ],
          [
           "ES300",
           "ES709",
           "2016",
           "Madrid",
           "Tenerife North"
          ],
          [
           "DEA11",
           "ES532",
           "2016",
           "DÃ¼sseldorf",
           "Palma de Mallorca"
          ],
          [
           "DE300",
           "DEA23",
           "2016",
           "Berlin",
           "Cologne"
          ],
          [
           "ES511",
           "FR108",
           "2016",
           "Barcelona",
           "Paris"
          ],
          [
           "ES300",
           "FR107",
           "2016",
           "Madrid",
           "Paris"
          ],
          [
           "DE300",
           "DEA11",
           "2016",
           "Berlin",
           "DÃ¼sseldorf"
          ],
          [
           "DE712",
           "DE212",
           "2016",
           "Frankfurt",
           "Munich"
          ],
          [
           "ES300",
           "FR108",
           "2016",
           "Madrid",
           "Paris"
          ],
          [
           "DE712",
           "ES300",
           "2016",
           "Frankfurt",
           "Madrid"
          ],
          [
           "ES511",
           "ES531",
           "2016",
           "Barcelona",
           "Ibiza"
          ],
          [
           "ES511",
           "DE712",
           "2016",
           "Barcelona",
           "Frankfurt"
          ],
          [
           "ES511",
           "FR107",
           "2016",
           "Barcelona",
           "Paris"
          ],
          [
           "NL329",
           "ES300",
           "2016",
           "Amsterdam",
           "Madrid"
          ],
          [
           "FRI12",
           "FR107",
           "2016",
           "Bordeaux",
           "Paris"
          ],
          [
           "DE300",
           "DE111",
           "2016",
           "Berlin",
           "Stuttgart"
          ],
          [
           "DEA23",
           "DE212",
           "2016",
           "Cologne",
           "Munich"
          ],
          [
           "DEA23",
           "ES532",
           "2016",
           "Cologne",
           "Palma de Mallorca"
          ],
          [
           "DE712",
           "FR108",
           "2016",
           "Frankfurt",
           "Paris"
          ],
          [
           "FR108",
           "FRJ23",
           "2016",
           "Paris",
           "Toulouse"
          ],
          [
           "ES511",
           "BE100",
           "2016",
           "Barcelona",
           "Brussels"
          ],
          [
           "ES511",
           "ES618",
           "2016",
           "Barcelona",
           "Seville"
          ],
          [
           "DE212",
           "FR108",
           "2016",
           "Munich",
           "Paris"
          ],
          [
           "DE600",
           "ES532",
           "2016",
           "Hamburg",
           "Palma de Mallorca"
          ],
          [
           "DE712",
           "ES532",
           "2016",
           "Frankfurt",
           "Palma de Mallorca"
          ],
          [
           "FRL03",
           "FR108",
           "2016",
           "Nice",
           "Paris"
          ],
          [
           "NL329",
           "DE712",
           "2016",
           "Amsterdam",
           "Frankfurt"
          ],
          [
           "ES300",
           "DE212",
           "2016",
           "Madrid",
           "Munich"
          ],
          [
           "NL329",
           "DE212",
           "2016",
           "Amsterdam",
           "Munich"
          ],
          [
           "ES511",
           "DE212",
           "2016",
           "Barcelona",
           "Munich"
          ],
          [
           "BE100",
           "ES300",
           "2016",
           "Brussels",
           "Madrid"
          ],
          [
           "DE212",
           "ES532",
           "2016",
           "Munich",
           "Palma de Mallorca"
          ],
          [
           "ES532",
           "DE111",
           "2016",
           "Palma de Mallorca",
           "Stuttgart"
          ],
          [
           "ES213",
           "ES300",
           "2016",
           "Bilbao",
           "Madrid"
          ],
          [
           "ES511",
           "ES533",
           "2016",
           "Barcelona",
           "Menorca"
          ],
          [
           "DE600",
           "DE111",
           "2016",
           "Hamburg",
           "Stuttgart"
          ],
          [
           "DE300",
           "FR108",
           "2016",
           "Berlin",
           "Paris"
          ],
          [
           "ES531",
           "ES300",
           "2016",
           "Ibiza",
           "Madrid"
          ],
          [
           "ES705",
           "ES709",
           "2016",
           "Gran Canaria",
           "Tenerife North"
          ],
          [
           "FRI12",
           "FR108",
           "2016",
           "Bordeaux",
           "Paris"
          ],
          [
           "DEA11",
           "DE600",
           "2016",
           "DÃ¼sseldorf",
           "Hamburg"
          ],
          [
           "DE300",
           "DEA23",
           "2016",
           "Berlin",
           "Cologne"
          ],
          [
           "ES511",
           "ES617",
           "2016",
           "Barcelona",
           "Malaga"
          ],
          [
           "ES111",
           "ES300",
           "2016",
           "A Coruna",
           "Madrid"
          ],
          [
           "ES511",
           "ES213",
           "2016",
           "Barcelona",
           "Bilbao"
          ],
          [
           "NL329",
           "DE300",
           "2016",
           "Amsterdam",
           "Berlin"
          ],
          [
           "ES705",
           "ES708",
           "2016",
           "Gran Canaria",
           "Lanzarote"
          ],
          [
           "ES300",
           "ES114",
           "2016",
           "Madrid",
           "Vigo"
          ],
          [
           "DE300",
           "ES532",
           "2016",
           "Berlin",
           "Palma de Mallorca"
          ],
          [
           "NL329",
           "ES617",
           "2016",
           "Amsterdam",
           "Malaga"
          ],
          [
           "ES707",
           "ES709",
           "2016",
           "La Palma",
           "Tenerife North"
          ],
          [
           "LU000",
           "DE212",
           "2016",
           "Luxembourg City",
           "Munich"
          ],
          [
           "DE929",
           "DE212",
           "2016",
           "Hannover",
           "Munich"
          ],
          [
           "DE929",
           "ES532",
           "2016",
           "Hannover",
           "Palma de Mallorca"
          ],
          [
           "FRI12",
           "FRK26",
           "2016",
           "Bordeaux",
           "Lyon"
          ],
          [
           "BE100",
           "ES617",
           "2016",
           "Brussels",
           "Malaga"
          ],
          [
           "ES511",
           "DE300",
           "2016",
           "Barcelona",
           "Berlin"
          ],
          [
           "NL329",
           "DE600",
           "2016",
           "Amsterdam",
           "Hamburg"
          ],
          [
           "ES511",
           "ES709",
           "2016",
           "Barcelona",
           "Tenerife North"
          ],
          [
           "FRI15",
           "FR107",
           "2016",
           "Biarritz",
           "Paris"
          ],
          [
           "FRJ13",
           "FR107",
           "2016",
           "Montpellier",
           "Paris"
          ],
          [
           "FRM01",
           "FR107",
           "2016",
           "Ajaccio",
           "Paris"
          ],
          [
           "BE100",
           "DE712",
           "2016",
           "Brussels",
           "Frankfurt"
          ],
          [
           "ES704",
           "ES705",
           "2016",
           "Fuerteventura",
           "Gran Canaria"
          ],
          [
           "ES120",
           "ES300",
           "2016",
           "Asturias",
           "Madrid"
          ],
          [
           "NL329",
           "FRL03",
           "2016",
           "Amsterdam",
           "Nice"
          ],
          [
           "ES617",
           "FR108",
           "2016",
           "Malaga",
           "Paris"
          ],
          [
           "DEA11",
           "FR108",
           "2016",
           "DÃ¼sseldorf",
           "Paris"
          ],
          [
           "FRK26",
           "FRG01",
           "2016",
           "Lyon",
           "Nantes"
          ],
          [
           "ES708",
           "ES300",
           "2016",
           "Lanzarote",
           "Madrid"
          ],
          [
           "DEA23",
           "DE600",
           "2016",
           "Cologne",
           "Hamburg"
          ],
          [
           "DE712",
           "LU000",
           "2016",
           "Frankfurt",
           "Luxembourg City"
          ],
          [
           "ES531",
           "ES532",
           "2016",
           "Ibiza",
           "Palma de Mallorca"
          ],
          [
           "DE600",
           "FR108",
           "2016",
           "Hamburg",
           "Paris"
          ],
          [
           "DE300",
           "BE100",
           "2016",
           "Berlin",
           "Brussels"
          ],
          [
           "ES511",
           "ES111",
           "2016",
           "Barcelona",
           "Santiago de Compostela"
          ],
          [
           "ES511",
           "ES705",
           "2016",
           "Barcelona",
           "Gran Canaria"
          ],
          [
           "NL329",
           "LU000",
           "2016",
           "Amsterdam",
           "Luxembourg City"
          ],
          [
           "FRM02",
           "FR107",
           "2016",
           "Bastia",
           "Paris"
          ],
          [
           "FRG01",
           "FR108",
           "2016",
           "Nantes",
           "Paris"
          ],
          [
           "ES511",
           "DEA11",
           "2016",
           "Barcelona",
           "DÃ¼sseldorf"
          ],
          [
           "ES532",
           "ES523",
           "2016",
           "Palma de Mallorca",
           "Valencia"
          ],
          [
           "ES521",
           "NL329",
           "2016",
           "Alicante",
           "Amsterdam"
          ],
          [
           "FR107",
           "FRL05",
           "2016",
           "Paris",
           "Toulon"
          ]
         ],
         "hovertemplate": "City Pair: %{hovertext}<br>Distance: %{x} km<br>Passengers: %{y}",
         "hovertext": [
          "Paris & Toulouse",
          "Nice & Paris",
          "Berlin & Munich",
          "Berlin & Frankfurt",
          "Hamburg & Munich",
          "Barcelona & Palma de Mallorca",
          "Madrid & Palma de Mallorca",
          "DÃ¼sseldorf & Munich",
          "Gran Canaria & Madrid",
          "Frankfurt & Hamburg",
          "Amsterdam & Barcelona",
          "Madrid & Tenerife North",
          "DÃ¼sseldorf & Palma de Mallorca",
          "Berlin & Cologne",
          "Barcelona & Paris",
          "Madrid & Paris",
          "Berlin & DÃ¼sseldorf",
          "Frankfurt & Munich",
          "Madrid & Paris",
          "Frankfurt & Madrid",
          "Barcelona & Ibiza",
          "Barcelona & Frankfurt",
          "Barcelona & Paris",
          "Amsterdam & Madrid",
          "Bordeaux & Paris",
          "Berlin & Stuttgart",
          "Cologne & Munich",
          "Cologne & Palma de Mallorca",
          "Frankfurt & Paris",
          "Paris & Toulouse",
          "Barcelona & Brussels",
          "Barcelona & Seville",
          "Munich & Paris",
          "Hamburg & Palma de Mallorca",
          "Frankfurt & Palma de Mallorca",
          "Nice & Paris",
          "Amsterdam & Frankfurt",
          "Madrid & Munich",
          "Amsterdam & Munich",
          "Barcelona & Munich",
          "Brussels & Madrid",
          "Munich & Palma de Mallorca",
          "Palma de Mallorca & Stuttgart",
          "Bilbao & Madrid",
          "Barcelona & Menorca",
          "Hamburg & Stuttgart",
          "Berlin & Paris",
          "Ibiza & Madrid",
          "Gran Canaria & Tenerife North",
          "Bordeaux & Paris",
          "DÃ¼sseldorf & Hamburg",
          "Berlin & Cologne",
          "Barcelona & Malaga",
          "A Coruna & Madrid",
          "Barcelona & Bilbao",
          "Amsterdam & Berlin",
          "Gran Canaria & Lanzarote",
          "Madrid & Vigo",
          "Berlin & Palma de Mallorca",
          "Amsterdam & Malaga",
          "La Palma & Tenerife North",
          "Luxembourg City & Munich",
          "Hannover & Munich",
          "Hannover & Palma de Mallorca",
          "Bordeaux & Lyon",
          "Brussels & Malaga",
          "Barcelona & Berlin",
          "Amsterdam & Hamburg",
          "Barcelona & Tenerife North",
          "Biarritz & Paris",
          "Montpellier & Paris",
          "Ajaccio & Paris",
          "Brussels & Frankfurt",
          "Fuerteventura & Gran Canaria",
          "Asturias & Madrid",
          "Amsterdam & Nice",
          "Malaga & Paris",
          "DÃ¼sseldorf & Paris",
          "Lyon & Nantes",
          "Lanzarote & Madrid",
          "Cologne & Hamburg",
          "Frankfurt & Luxembourg City",
          "Ibiza & Palma de Mallorca",
          "Hamburg & Paris",
          "Berlin & Brussels",
          "Barcelona & Santiago de Compostela",
          "Barcelona & Gran Canaria",
          "Amsterdam & Luxembourg City",
          "Bastia & Paris",
          "Nantes & Paris",
          "Barcelona & DÃ¼sseldorf",
          "Palma de Mallorca & Valencia",
          "Alicante & Amsterdam",
          "Paris & Toulon"
         ],
         "legendgroup": "0",
         "marker": {
          "color": "blue",
          "symbol": "circle"
         },
         "mode": "markers",
         "name": "No pre-existing connection",
         "orientation": "v",
         "showlegend": true,
         "type": "scatter",
         "x": [
          610.672306408928,
          645.376754516887,
          501.031167189001,
          423.686712362807,
          608.827545798698,
          249.225541856928,
          576.185840400148,
          483.06189797833997,
          1767.46336319124,
          392.60885455236297,
          1205.3651599208802,
          1793.2037689993601,
          1326.42201990679,
          475.18279134836797,
          817.6545978779959,
          1042.11497925417,
          473.7790869111,
          303.686425226354,
          1059.88503714606,
          1438.33234549101,
          309.20293422786,
          1064.51760751428,
          784.517352689714,
          1475.49110884076,
          496.925829543844,
          510.30360551884297,
          452.861881060905,
          1298.2059571056502,
          483.079624586604,
          640.685603711761,
          1028.94825437443,
          811.655848444259,
          699.208424968156,
          1638.48948370042,
          1250.1093005840798,
          687.2958584211141,
          363.70986950103395,
          1478.7362134559298,
          667.3874185834001,
          1036.17036339819,
          1308.73982545621,
          1171.2395609419,
          1131.9399043855599,
          313.89499803948405,
          263.943607462963,
          533.5531595518011,
          877.442211340939,
          469.310061002716,
          101.687018729117,
          516.266724239048,
          336.68180757412404,
          475.18279134836797,
          794.792276847837,
          490.448768592743,
          430.36062762897996,
          577.1077854469729,
          224.714493808608,
          450.401891831389,
          1640.3214296164501,
          1887.9646684381798,
          134.559365036595,
          436.913073679687,
          491.99641946151604,
          1515.2998921642202,
          423.9083506484,
          1718.55709942472,
          1473.09809964803,
          367.17519833585396,
          2245.96784626233,
          662.344846583558,
          582.0937584207791,
          921.51894448017,
          312.67946252365005,
          160.57733314522,
          363.893605388651,
          954.3371356114591,
          1472.5022719332399,
          410.2779404023029,
          510.49181148738796,
          1562.53070009231,
          355.694141269246,
          186.445813326575,
          150.397059377353,
          738.8068156968959,
          649.232486942168,
          870.927855265631,
          2209.58048126711,
          302.697691471432,
          881.6546311610041,
          341.08849522780304,
          1119.1931371947899,
          322.350851451072,
          1603.32670789682,
          660.470063883719
         ],
         "xaxis": "x",
         "y": [
          4716804,
          4249404,
          3878625,
          3869795,
          3603238,
          3545242,
          3375136,
          3128381,
          3017944,
          2742869,
          2613353,
          2610224,
          2554075,
          2541202,
          2533343,
          2400998,
          2293096,
          2240350,
          2083535,
          2074767,
          2034994,
          2025566,
          2022878,
          1992776,
          1983326,
          1972516,
          1906621,
          1905569,
          1808471,
          1786777,
          1783265,
          1763444,
          1720728,
          1719710,
          1711276,
          1700624,
          1632021,
          1623790,
          1586957,
          1544325,
          1526508,
          1491466,
          1470971,
          1441680,
          1439570,
          1435723,
          1391433,
          1390394,
          1319318,
          1285409,
          1207026,
          1195571,
          1190360,
          1171380,
          1150288,
          1124598,
          1114618,
          1090084,
          1087274,
          1078202,
          1039056,
          1039042,
          1035023,
          1031556,
          1016037,
          1008283,
          1001433,
          999027,
          991760,
          971414,
          946415,
          932695,
          931130,
          906840,
          904820,
          898959,
          896578,
          891757,
          888743,
          882766,
          876110,
          873956,
          870934,
          862929,
          857825,
          820682,
          819148,
          818175,
          814487,
          811026,
          806306,
          797596,
          788352,
          782095
         ],
         "yaxis": "y"
        },
        {
         "customdata": [
          [
           "ES511",
           "ES300",
           "2016",
           "Barcelona",
           "Madrid"
          ],
          [
           "NL329",
           "FR108",
           "2016",
           "Amsterdam",
           "Paris"
          ],
          [
           "FRL04",
           "FR107",
           "2016",
           "Marseille",
           "Paris"
          ],
          [
           "FRL04",
           "FR108",
           "2016",
           "Marseille",
           "Paris"
          ],
          [
           "ES300",
           "ES111",
           "2016",
           "Madrid",
           "Santiago de Compostela"
          ],
          [
           "FRK26",
           "FR108",
           "2016",
           "Lyon",
           "Paris"
          ]
         ],
         "hovertemplate": "City Pair: %{hovertext}<br>Distance: %{x} km<br>Passengers: %{y}",
         "hovertext": [
          "Barcelona & Madrid",
          "Amsterdam & Paris",
          "Marseille & Paris",
          "Marseille & Paris",
          "Madrid & Santiago de Compostela",
          "Lyon & Paris"
         ],
         "legendgroup": "1",
         "marker": {
          "color": "#F31F1F",
          "symbol": "circle"
         },
         "mode": "markers",
         "name": "Already connected",
         "orientation": "v",
         "showlegend": true,
         "type": "scatter",
         "x": [
          496.744786620118,
          415.670102647753,
          615.7859629890961,
          656.2448881051671,
          490.448768592743,
          403.94194129509896
         ],
         "xaxis": "x",
         "y": [
          4657590,
          2358886,
          1875842,
          1354718,
          1165728,
          969164
         ],
         "yaxis": "y"
        }
       ],
       "frames": [
        {
         "data": [
          {
           "customdata": [
            [
             "FR107",
             "FRJ23",
             "2016",
             "Paris",
             "Toulouse"
            ],
            [
             "FRL03",
             "FR107",
             "2016",
             "Nice",
             "Paris"
            ],
            [
             "DE300",
             "DE212",
             "2016",
             "Berlin",
             "Munich"
            ],
            [
             "DE300",
             "DE712",
             "2016",
             "Berlin",
             "Frankfurt"
            ],
            [
             "DE600",
             "DE212",
             "2016",
             "Hamburg",
             "Munich"
            ],
            [
             "ES511",
             "ES532",
             "2016",
             "Barcelona",
             "Palma de Mallorca"
            ],
            [
             "ES300",
             "ES532",
             "2016",
             "Madrid",
             "Palma de Mallorca"
            ],
            [
             "DEA11",
             "DE212",
             "2016",
             "DÃ¼sseldorf",
             "Munich"
            ],
            [
             "ES705",
             "ES300",
             "2016",
             "Gran Canaria",
             "Madrid"
            ],
            [
             "DE712",
             "DE600",
             "2016",
             "Frankfurt",
             "Hamburg"
            ],
            [
             "NL329",
             "ES511",
             "2016",
             "Amsterdam",
             "Barcelona"
            ],
            [
             "ES300",
             "ES709",
             "2016",
             "Madrid",
             "Tenerife North"
            ],
            [
             "DEA11",
             "ES532",
             "2016",
             "DÃ¼sseldorf",
             "Palma de Mallorca"
            ],
            [
             "DE300",
             "DEA23",
             "2016",
             "Berlin",
             "Cologne"
            ],
            [
             "ES511",
             "FR108",
             "2016",
             "Barcelona",
             "Paris"
            ],
            [
             "ES300",
             "FR107",
             "2016",
             "Madrid",
             "Paris"
            ],
            [
             "DE300",
             "DEA11",
             "2016",
             "Berlin",
             "DÃ¼sseldorf"
            ],
            [
             "DE712",
             "DE212",
             "2016",
             "Frankfurt",
             "Munich"
            ],
            [
             "ES300",
             "FR108",
             "2016",
             "Madrid",
             "Paris"
            ],
            [
             "DE712",
             "ES300",
             "2016",
             "Frankfurt",
             "Madrid"
            ],
            [
             "ES511",
             "ES531",
             "2016",
             "Barcelona",
             "Ibiza"
            ],
            [
             "ES511",
             "DE712",
             "2016",
             "Barcelona",
             "Frankfurt"
            ],
            [
             "ES511",
             "FR107",
             "2016",
             "Barcelona",
             "Paris"
            ],
            [
             "NL329",
             "ES300",
             "2016",
             "Amsterdam",
             "Madrid"
            ],
            [
             "FRI12",
             "FR107",
             "2016",
             "Bordeaux",
             "Paris"
            ],
            [
             "DE300",
             "DE111",
             "2016",
             "Berlin",
             "Stuttgart"
            ],
            [
             "DEA23",
             "DE212",
             "2016",
             "Cologne",
             "Munich"
            ],
            [
             "DEA23",
             "ES532",
             "2016",
             "Cologne",
             "Palma de Mallorca"
            ],
            [
             "DE712",
             "FR108",
             "2016",
             "Frankfurt",
             "Paris"
            ],
            [
             "FR108",
             "FRJ23",
             "2016",
             "Paris",
             "Toulouse"
            ],
            [
             "ES511",
             "BE100",
             "2016",
             "Barcelona",
             "Brussels"
            ],
            [
             "ES511",
             "ES618",
             "2016",
             "Barcelona",
             "Seville"
            ],
            [
             "DE212",
             "FR108",
             "2016",
             "Munich",
             "Paris"
            ],
            [
             "DE600",
             "ES532",
             "2016",
             "Hamburg",
             "Palma de Mallorca"
            ],
            [
             "DE712",
             "ES532",
             "2016",
             "Frankfurt",
             "Palma de Mallorca"
            ],
            [
             "FRL03",
             "FR108",
             "2016",
             "Nice",
             "Paris"
            ],
            [
             "NL329",
             "DE712",
             "2016",
             "Amsterdam",
             "Frankfurt"
            ],
            [
             "ES300",
             "DE212",
             "2016",
             "Madrid",
             "Munich"
            ],
            [
             "NL329",
             "DE212",
             "2016",
             "Amsterdam",
             "Munich"
            ],
            [
             "ES511",
             "DE212",
             "2016",
             "Barcelona",
             "Munich"
            ],
            [
             "BE100",
             "ES300",
             "2016",
             "Brussels",
             "Madrid"
            ],
            [
             "DE212",
             "ES532",
             "2016",
             "Munich",
             "Palma de Mallorca"
            ],
            [
             "ES532",
             "DE111",
             "2016",
             "Palma de Mallorca",
             "Stuttgart"
            ],
            [
             "ES213",
             "ES300",
             "2016",
             "Bilbao",
             "Madrid"
            ],
            [
             "ES511",
             "ES533",
             "2016",
             "Barcelona",
             "Menorca"
            ],
            [
             "DE600",
             "DE111",
             "2016",
             "Hamburg",
             "Stuttgart"
            ],
            [
             "DE300",
             "FR108",
             "2016",
             "Berlin",
             "Paris"
            ],
            [
             "ES531",
             "ES300",
             "2016",
             "Ibiza",
             "Madrid"
            ],
            [
             "ES705",
             "ES709",
             "2016",
             "Gran Canaria",
             "Tenerife North"
            ],
            [
             "FRI12",
             "FR108",
             "2016",
             "Bordeaux",
             "Paris"
            ],
            [
             "DEA11",
             "DE600",
             "2016",
             "DÃ¼sseldorf",
             "Hamburg"
            ],
            [
             "DE300",
             "DEA23",
             "2016",
             "Berlin",
             "Cologne"
            ],
            [
             "ES511",
             "ES617",
             "2016",
             "Barcelona",
             "Malaga"
            ],
            [
             "ES111",
             "ES300",
             "2016",
             "A Coruna",
             "Madrid"
            ],
            [
             "ES511",
             "ES213",
             "2016",
             "Barcelona",
             "Bilbao"
            ],
            [
             "NL329",
             "DE300",
             "2016",
             "Amsterdam",
             "Berlin"
            ],
            [
             "ES705",
             "ES708",
             "2016",
             "Gran Canaria",
             "Lanzarote"
            ],
            [
             "ES300",
             "ES114",
             "2016",
             "Madrid",
             "Vigo"
            ],
            [
             "DE300",
             "ES532",
             "2016",
             "Berlin",
             "Palma de Mallorca"
            ],
            [
             "NL329",
             "ES617",
             "2016",
             "Amsterdam",
             "Malaga"
            ],
            [
             "ES707",
             "ES709",
             "2016",
             "La Palma",
             "Tenerife North"
            ],
            [
             "LU000",
             "DE212",
             "2016",
             "Luxembourg City",
             "Munich"
            ],
            [
             "DE929",
             "DE212",
             "2016",
             "Hannover",
             "Munich"
            ],
            [
             "DE929",
             "ES532",
             "2016",
             "Hannover",
             "Palma de Mallorca"
            ],
            [
             "FRI12",
             "FRK26",
             "2016",
             "Bordeaux",
             "Lyon"
            ],
            [
             "BE100",
             "ES617",
             "2016",
             "Brussels",
             "Malaga"
            ],
            [
             "ES511",
             "DE300",
             "2016",
             "Barcelona",
             "Berlin"
            ],
            [
             "NL329",
             "DE600",
             "2016",
             "Amsterdam",
             "Hamburg"
            ],
            [
             "ES511",
             "ES709",
             "2016",
             "Barcelona",
             "Tenerife North"
            ],
            [
             "FRI15",
             "FR107",
             "2016",
             "Biarritz",
             "Paris"
            ],
            [
             "FRJ13",
             "FR107",
             "2016",
             "Montpellier",
             "Paris"
            ],
            [
             "FRM01",
             "FR107",
             "2016",
             "Ajaccio",
             "Paris"
            ],
            [
             "BE100",
             "DE712",
             "2016",
             "Brussels",
             "Frankfurt"
            ],
            [
             "ES704",
             "ES705",
             "2016",
             "Fuerteventura",
             "Gran Canaria"
            ],
            [
             "ES120",
             "ES300",
             "2016",
             "Asturias",
             "Madrid"
            ],
            [
             "NL329",
             "FRL03",
             "2016",
             "Amsterdam",
             "Nice"
            ],
            [
             "ES617",
             "FR108",
             "2016",
             "Malaga",
             "Paris"
            ],
            [
             "DEA11",
             "FR108",
             "2016",
             "DÃ¼sseldorf",
             "Paris"
            ],
            [
             "FRK26",
             "FRG01",
             "2016",
             "Lyon",
             "Nantes"
            ],
            [
             "ES708",
             "ES300",
             "2016",
             "Lanzarote",
             "Madrid"
            ],
            [
             "DEA23",
             "DE600",
             "2016",
             "Cologne",
             "Hamburg"
            ],
            [
             "DE712",
             "LU000",
             "2016",
             "Frankfurt",
             "Luxembourg City"
            ],
            [
             "ES531",
             "ES532",
             "2016",
             "Ibiza",
             "Palma de Mallorca"
            ],
            [
             "DE600",
             "FR108",
             "2016",
             "Hamburg",
             "Paris"
            ],
            [
             "DE300",
             "BE100",
             "2016",
             "Berlin",
             "Brussels"
            ],
            [
             "ES511",
             "ES111",
             "2016",
             "Barcelona",
             "Santiago de Compostela"
            ],
            [
             "ES511",
             "ES705",
             "2016",
             "Barcelona",
             "Gran Canaria"
            ],
            [
             "NL329",
             "LU000",
             "2016",
             "Amsterdam",
             "Luxembourg City"
            ],
            [
             "FRM02",
             "FR107",
             "2016",
             "Bastia",
             "Paris"
            ],
            [
             "FRG01",
             "FR108",
             "2016",
             "Nantes",
             "Paris"
            ],
            [
             "ES511",
             "DEA11",
             "2016",
             "Barcelona",
             "DÃ¼sseldorf"
            ],
            [
             "ES532",
             "ES523",
             "2016",
             "Palma de Mallorca",
             "Valencia"
            ],
            [
             "ES521",
             "NL329",
             "2016",
             "Alicante",
             "Amsterdam"
            ],
            [
             "FR107",
             "FRL05",
             "2016",
             "Paris",
             "Toulon"
            ]
           ],
           "hovertemplate": "<b>%{hovertext}</b><br><br>has_connection=0<br>Distance (km)=%{x}<br>Total Yearly Passengers=%{y}<br>NUTS_3_code_A=%{customdata[0]}<br>NUTS_3_code_B=%{customdata[1]}<extra></extra>",
           "hovertext": [
            "Paris & Toulouse",
            "Nice & Paris",
            "Berlin & Munich",
            "Berlin & Frankfurt",
            "Hamburg & Munich",
            "Barcelona & Palma de Mallorca",
            "Madrid & Palma de Mallorca",
            "DÃ¼sseldorf & Munich",
            "Gran Canaria & Madrid",
            "Frankfurt & Hamburg",
            "Amsterdam & Barcelona",
            "Madrid & Tenerife North",
            "DÃ¼sseldorf & Palma de Mallorca",
            "Berlin & Cologne",
            "Barcelona & Paris",
            "Madrid & Paris",
            "Berlin & DÃ¼sseldorf",
            "Frankfurt & Munich",
            "Madrid & Paris",
            "Frankfurt & Madrid",
            "Barcelona & Ibiza",
            "Barcelona & Frankfurt",
            "Barcelona & Paris",
            "Amsterdam & Madrid",
            "Bordeaux & Paris",
            "Berlin & Stuttgart",
            "Cologne & Munich",
            "Cologne & Palma de Mallorca",
            "Frankfurt & Paris",
            "Paris & Toulouse",
            "Barcelona & Brussels",
            "Barcelona & Seville",
            "Munich & Paris",
            "Hamburg & Palma de Mallorca",
            "Frankfurt & Palma de Mallorca",
            "Nice & Paris",
            "Amsterdam & Frankfurt",
            "Madrid & Munich",
            "Amsterdam & Munich",
            "Barcelona & Munich",
            "Brussels & Madrid",
            "Munich & Palma de Mallorca",
            "Palma de Mallorca & Stuttgart",
            "Bilbao & Madrid",
            "Barcelona & Menorca",
            "Hamburg & Stuttgart",
            "Berlin & Paris",
            "Ibiza & Madrid",
            "Gran Canaria & Tenerife North",
            "Bordeaux & Paris",
            "DÃ¼sseldorf & Hamburg",
            "Berlin & Cologne",
            "Barcelona & Malaga",
            "A Coruna & Madrid",
            "Barcelona & Bilbao",
            "Amsterdam & Berlin",
            "Gran Canaria & Lanzarote",
            "Madrid & Vigo",
            "Berlin & Palma de Mallorca",
            "Amsterdam & Malaga",
            "La Palma & Tenerife North",
            "Luxembourg City & Munich",
            "Hannover & Munich",
            "Hannover & Palma de Mallorca",
            "Bordeaux & Lyon",
            "Brussels & Malaga",
            "Barcelona & Berlin",
            "Amsterdam & Hamburg",
            "Barcelona & Tenerife North",
            "Biarritz & Paris",
            "Montpellier & Paris",
            "Ajaccio & Paris",
            "Brussels & Frankfurt",
            "Fuerteventura & Gran Canaria",
            "Asturias & Madrid",
            "Amsterdam & Nice",
            "Malaga & Paris",
            "DÃ¼sseldorf & Paris",
            "Lyon & Nantes",
            "Lanzarote & Madrid",
            "Cologne & Hamburg",
            "Frankfurt & Luxembourg City",
            "Ibiza & Palma de Mallorca",
            "Hamburg & Paris",
            "Berlin & Brussels",
            "Barcelona & Santiago de Compostela",
            "Barcelona & Gran Canaria",
            "Amsterdam & Luxembourg City",
            "Bastia & Paris",
            "Nantes & Paris",
            "Barcelona & DÃ¼sseldorf",
            "Palma de Mallorca & Valencia",
            "Alicante & Amsterdam",
            "Paris & Toulon"
           ],
           "legendgroup": "0",
           "marker": {
            "color": "blue",
            "symbol": "circle"
           },
           "mode": "markers",
           "name": "0",
           "orientation": "v",
           "showlegend": true,
           "type": "scatter",
           "x": [
            610.672306408928,
            645.376754516887,
            501.031167189001,
            423.686712362807,
            608.827545798698,
            249.225541856928,
            576.185840400148,
            483.06189797833997,
            1767.46336319124,
            392.60885455236297,
            1205.3651599208802,
            1793.2037689993601,
            1326.42201990679,
            475.18279134836797,
            817.6545978779959,
            1042.11497925417,
            473.7790869111,
            303.686425226354,
            1059.88503714606,
            1438.33234549101,
            309.20293422786,
            1064.51760751428,
            784.517352689714,
            1475.49110884076,
            496.925829543844,
            510.30360551884297,
            452.861881060905,
            1298.2059571056502,
            483.079624586604,
            640.685603711761,
            1028.94825437443,
            811.655848444259,
            699.208424968156,
            1638.48948370042,
            1250.1093005840798,
            687.2958584211141,
            363.70986950103395,
            1478.7362134559298,
            667.3874185834001,
            1036.17036339819,
            1308.73982545621,
            1171.2395609419,
            1131.9399043855599,
            313.89499803948405,
            263.943607462963,
            533.5531595518011,
            877.442211340939,
            469.310061002716,
            101.687018729117,
            516.266724239048,
            336.68180757412404,
            475.18279134836797,
            794.792276847837,
            490.448768592743,
            430.36062762897996,
            577.1077854469729,
            224.714493808608,
            450.401891831389,
            1640.3214296164501,
            1887.9646684381798,
            134.559365036595,
            436.913073679687,
            491.99641946151604,
            1515.2998921642202,
            423.9083506484,
            1718.55709942472,
            1473.09809964803,
            367.17519833585396,
            2245.96784626233,
            662.344846583558,
            582.0937584207791,
            921.51894448017,
            312.67946252365005,
            160.57733314522,
            363.893605388651,
            954.3371356114591,
            1472.5022719332399,
            410.2779404023029,
            510.49181148738796,
            1562.53070009231,
            355.694141269246,
            186.445813326575,
            150.397059377353,
            738.8068156968959,
            649.232486942168,
            870.927855265631,
            2209.58048126711,
            302.697691471432,
            881.6546311610041,
            341.08849522780304,
            1119.1931371947899,
            322.350851451072,
            1603.32670789682,
            660.470063883719
           ],
           "xaxis": "x",
           "y": [
            4716804,
            4249404,
            3878625,
            3869795,
            3603238,
            3545242,
            3375136,
            3128381,
            3017944,
            2742869,
            2613353,
            2610224,
            2554075,
            2541202,
            2533343,
            2400998,
            2293096,
            2240350,
            2083535,
            2074767,
            2034994,
            2025566,
            2022878,
            1992776,
            1983326,
            1972516,
            1906621,
            1905569,
            1808471,
            1786777,
            1783265,
            1763444,
            1720728,
            1719710,
            1711276,
            1700624,
            1632021,
            1623790,
            1586957,
            1544325,
            1526508,
            1491466,
            1470971,
            1441680,
            1439570,
            1435723,
            1391433,
            1390394,
            1319318,
            1285409,
            1207026,
            1195571,
            1190360,
            1171380,
            1150288,
            1124598,
            1114618,
            1090084,
            1087274,
            1078202,
            1039056,
            1039042,
            1035023,
            1031556,
            1016037,
            1008283,
            1001433,
            999027,
            991760,
            971414,
            946415,
            932695,
            931130,
            906840,
            904820,
            898959,
            896578,
            891757,
            888743,
            882766,
            876110,
            873956,
            870934,
            862929,
            857825,
            820682,
            819148,
            818175,
            814487,
            811026,
            806306,
            797596,
            788352,
            782095
           ],
           "yaxis": "y"
          },
          {
           "customdata": [
            [
             "ES511",
             "ES300",
             "2016",
             "Barcelona",
             "Madrid"
            ],
            [
             "NL329",
             "FR108",
             "2016",
             "Amsterdam",
             "Paris"
            ],
            [
             "FRL04",
             "FR107",
             "2016",
             "Marseille",
             "Paris"
            ],
            [
             "FRL04",
             "FR108",
             "2016",
             "Marseille",
             "Paris"
            ],
            [
             "ES300",
             "ES111",
             "2016",
             "Madrid",
             "Santiago de Compostela"
            ],
            [
             "FRK26",
             "FR108",
             "2016",
             "Lyon",
             "Paris"
            ]
           ],
           "hovertemplate": "<b>%{hovertext}</b><br><br>has_connection=1<br>Distance (km)=%{x}<br>Total Yearly Passengers=%{y}<br>NUTS_3_code_A=%{customdata[0]}<br>NUTS_3_code_B=%{customdata[1]}<extra></extra>",
           "hovertext": [
            "Barcelona & Madrid",
            "Amsterdam & Paris",
            "Marseille & Paris",
            "Marseille & Paris",
            "Madrid & Santiago de Compostela",
            "Lyon & Paris"
           ],
           "legendgroup": "1",
           "marker": {
            "color": "#F31F1F",
            "symbol": "circle"
           },
           "mode": "markers",
           "name": "1",
           "orientation": "v",
           "showlegend": true,
           "type": "scatter",
           "x": [
            496.744786620118,
            415.670102647753,
            615.7859629890961,
            656.2448881051671,
            490.448768592743,
            403.94194129509896
           ],
           "xaxis": "x",
           "y": [
            4657590,
            2358886,
            1875842,
            1354718,
            1165728,
            969164
           ],
           "yaxis": "y"
          }
         ],
         "name": "2016"
        },
        {
         "data": [
          {
           "customdata": [
            [
             "FR107",
             "FRJ23",
             "2017",
             "Paris",
             "Toulouse"
            ],
            [
             "FRL03",
             "FR107",
             "2017",
             "Nice",
             "Paris"
            ],
            [
             "DE300",
             "DE212",
             "2017",
             "Berlin",
             "Munich"
            ],
            [
             "DE300",
             "DE712",
             "2017",
             "Berlin",
             "Frankfurt"
            ],
            [
             "ES511",
             "ES532",
             "2017",
             "Barcelona",
             "Palma de Mallorca"
            ],
            [
             "ES300",
             "ES532",
             "2017",
             "Madrid",
             "Palma de Mallorca"
            ],
            [
             "DE600",
             "DE212",
             "2017",
             "Hamburg",
             "Munich"
            ],
            [
             "DEA11",
             "DE212",
             "2017",
             "DÃ¼sseldorf",
             "Munich"
            ],
            [
             "ES705",
             "ES300",
             "2017",
             "Gran Canaria",
             "Madrid"
            ],
            [
             "DE712",
             "DE600",
             "2017",
             "Frankfurt",
             "Hamburg"
            ],
            [
             "ES300",
             "ES709",
             "2017",
             "Madrid",
             "Tenerife North"
            ],
            [
             "NL329",
             "ES511",
             "2017",
             "Amsterdam",
             "Barcelona"
            ],
            [
             "ES511",
             "FR108",
             "2017",
             "Barcelona",
             "Paris"
            ],
            [
             "DEA11",
             "ES532",
             "2017",
             "DÃ¼sseldorf",
             "Palma de Mallorca"
            ],
            [
             "DE300",
             "DEA23",
             "2017",
             "Berlin",
             "Cologne"
            ],
            [
             "DE712",
             "DE212",
             "2017",
             "Frankfurt",
             "Munich"
            ],
            [
             "ES511",
             "FR107",
             "2017",
             "Barcelona",
             "Paris"
            ],
            [
             "ES300",
             "FR107",
             "2017",
             "Madrid",
             "Paris"
            ],
            [
             "DE300",
             "DEA11",
             "2017",
             "Berlin",
             "DÃ¼sseldorf"
            ],
            [
             "ES300",
             "FR108",
             "2017",
             "Madrid",
             "Paris"
            ],
            [
             "ES511",
             "ES531",
             "2017",
             "Barcelona",
             "Ibiza"
            ],
            [
             "DE712",
             "ES300",
             "2017",
             "Frankfurt",
             "Madrid"
            ],
            [
             "DE300",
             "DE111",
             "2017",
             "Berlin",
             "Stuttgart"
            ],
            [
             "NL329",
             "ES300",
             "2017",
             "Amsterdam",
             "Madrid"
            ],
            [
             "DE600",
             "ES532",
             "2017",
             "Hamburg",
             "Palma de Mallorca"
            ],
            [
             "DEA23",
             "DE212",
             "2017",
             "Cologne",
             "Munich"
            ],
            [
             "BE100",
             "ES300",
             "2017",
             "Brussels",
             "Madrid"
            ],
            [
             "NL329",
             "DE212",
             "2017",
             "Amsterdam",
             "Munich"
            ],
            [
             "DE712",
             "FR108",
             "2017",
             "Frankfurt",
             "Paris"
            ],
            [
             "DE212",
             "FR108",
             "2017",
             "Munich",
             "Paris"
            ],
            [
             "ES511",
             "DE712",
             "2017",
             "Barcelona",
             "Frankfurt"
            ],
            [
             "ES511",
             "BE100",
             "2017",
             "Barcelona",
             "Brussels"
            ],
            [
             "FR108",
             "FRJ23",
             "2017",
             "Paris",
             "Toulouse"
            ],
            [
             "DE712",
             "ES532",
             "2017",
             "Frankfurt",
             "Palma de Mallorca"
            ],
            [
             "DEA23",
             "ES532",
             "2017",
             "Cologne",
             "Palma de Mallorca"
            ],
            [
             "FRL03",
             "FR108",
             "2017",
             "Nice",
             "Paris"
            ],
            [
             "ES511",
             "ES618",
             "2017",
             "Barcelona",
             "Seville"
            ],
            [
             "DE300",
             "FR108",
             "2017",
             "Berlin",
             "Paris"
            ],
            [
             "FRI12",
             "FR107",
             "2017",
             "Bordeaux",
             "Paris"
            ],
            [
             "NL329",
             "DE712",
             "2017",
             "Amsterdam",
             "Frankfurt"
            ],
            [
             "ES511",
             "DE212",
             "2017",
             "Barcelona",
             "Munich"
            ],
            [
             "ES300",
             "DE212",
             "2017",
             "Madrid",
             "Munich"
            ],
            [
             "ES705",
             "ES709",
             "2017",
             "Gran Canaria",
             "Tenerife North"
            ],
            [
             "DE212",
             "ES532",
             "2017",
             "Munich",
             "Palma de Mallorca"
            ],
            [
             "ES511",
             "ES213",
             "2017",
             "Barcelona",
             "Bilbao"
            ],
            [
             "ES511",
             "ES533",
             "2017",
             "Barcelona",
             "Menorca"
            ],
            [
             "ES213",
             "ES300",
             "2017",
             "Bilbao",
             "Madrid"
            ],
            [
             "ES531",
             "ES300",
             "2017",
             "Ibiza",
             "Madrid"
            ],
            [
             "NL329",
             "ES617",
             "2017",
             "Amsterdam",
             "Malaga"
            ],
            [
             "ES511",
             "ES617",
             "2017",
             "Barcelona",
             "Malaga"
            ],
            [
             "DE600",
             "DE111",
             "2017",
             "Hamburg",
             "Stuttgart"
            ],
            [
             "ES532",
             "DE111",
             "2017",
             "Palma de Mallorca",
             "Stuttgart"
            ],
            [
             "FRI12",
             "FR108",
             "2017",
             "Bordeaux",
             "Paris"
            ],
            [
             "ES705",
             "ES708",
             "2017",
             "Gran Canaria",
             "Lanzarote"
            ],
            [
             "ES111",
             "ES300",
             "2017",
             "A Coruna",
             "Madrid"
            ],
            [
             "ES707",
             "ES709",
             "2017",
             "La Palma",
             "Tenerife North"
            ],
            [
             "DEA11",
             "DE600",
             "2017",
             "DÃ¼sseldorf",
             "Hamburg"
            ],
            [
             "ES300",
             "ES114",
             "2017",
             "Madrid",
             "Vigo"
            ],
            [
             "NL329",
             "DE300",
             "2017",
             "Amsterdam",
             "Berlin"
            ],
            [
             "FRJ13",
             "FR107",
             "2017",
             "Montpellier",
             "Paris"
            ],
            [
             "DE929",
             "ES532",
             "2017",
             "Hannover",
             "Palma de Mallorca"
            ],
            [
             "BE100",
             "DE712",
             "2017",
             "Brussels",
             "Frankfurt"
            ],
            [
             "DE929",
             "DE212",
             "2017",
             "Hannover",
             "Munich"
            ],
            [
             "BE100",
             "ES617",
             "2017",
             "Brussels",
             "Malaga"
            ],
            [
             "ES704",
             "ES705",
             "2017",
             "Fuerteventura",
             "Gran Canaria"
            ],
            [
             "FRI12",
             "FRK26",
             "2017",
             "Bordeaux",
             "Lyon"
            ],
            [
             "LU000",
             "DE212",
             "2017",
             "Luxembourg City",
             "Munich"
            ],
            [
             "ES511",
             "ES709",
             "2017",
             "Barcelona",
             "Tenerife North"
            ],
            [
             "ES511",
             "DEA11",
             "2017",
             "Barcelona",
             "DÃ¼sseldorf"
            ],
            [
             "NL329",
             "FRL03",
             "2017",
             "Amsterdam",
             "Nice"
            ],
            [
             "DEA23",
             "DE600",
             "2017",
             "Cologne",
             "Hamburg"
            ],
            [
             "DE600",
             "FR108",
             "2017",
             "Hamburg",
             "Paris"
            ],
            [
             "FRK26",
             "FRG01",
             "2017",
             "Lyon",
             "Nantes"
            ],
            [
             "ES617",
             "FR108",
             "2017",
             "Malaga",
             "Paris"
            ],
            [
             "ES120",
             "ES300",
             "2017",
             "Asturias",
             "Madrid"
            ],
            [
             "ES521",
             "NL329",
             "2017",
             "Alicante",
             "Amsterdam"
            ],
            [
             "DE300",
             "ES532",
             "2017",
             "Berlin",
             "Palma de Mallorca"
            ],
            [
             "ES531",
             "ES532",
             "2017",
             "Ibiza",
             "Palma de Mallorca"
            ],
            [
             "FRM01",
             "FR107",
             "2017",
             "Ajaccio",
             "Paris"
            ],
            [
             "DEA11",
             "FR108",
             "2017",
             "DÃ¼sseldorf",
             "Paris"
            ],
            [
             "FRI15",
             "FR107",
             "2017",
             "Biarritz",
             "Paris"
            ],
            [
             "ES511",
             "DE300",
             "2017",
             "Barcelona",
             "Berlin"
            ],
            [
             "DE712",
             "LU000",
             "2017",
             "Frankfurt",
             "Luxembourg City"
            ],
            [
             "NL329",
             "DE600",
             "2017",
             "Amsterdam",
             "Hamburg"
            ],
            [
             "ES708",
             "ES300",
             "2017",
             "Lanzarote",
             "Madrid"
            ],
            [
             "ES511",
             "ES705",
             "2017",
             "Barcelona",
             "Gran Canaria"
            ],
            [
             "DE300",
             "DEA23",
             "2017",
             "Berlin",
             "Cologne"
            ],
            [
             "ES532",
             "ES523",
             "2017",
             "Palma de Mallorca",
             "Valencia"
            ],
            [
             "DEA11",
             "DE712",
             "2017",
             "DÃ¼sseldorf",
             "Frankfurt"
            ],
            [
             "ES511",
             "ES111",
             "2017",
             "Barcelona",
             "Santiago de Compostela"
            ],
            [
             "NL329",
             "LU000",
             "2017",
             "Amsterdam",
             "Luxembourg City"
            ],
            [
             "FRG01",
             "FR108",
             "2017",
             "Nantes",
             "Paris"
            ],
            [
             "FRM02",
             "FR107",
             "2017",
             "Bastia",
             "Paris"
            ],
            [
             "FRK26",
             "FRJ23",
             "2017",
             "Lyon",
             "Toulouse"
            ]
           ],
           "hovertemplate": "<b>%{hovertext}</b><br><br>has_connection=0<br>Distance (km)=%{x}<br>Total Yearly Passengers=%{y}<br>NUTS_3_code_A=%{customdata[0]}<br>NUTS_3_code_B=%{customdata[1]}<extra></extra>",
           "hovertext": [
            "Paris & Toulouse",
            "Nice & Paris",
            "Berlin & Munich",
            "Berlin & Frankfurt",
            "Barcelona & Palma de Mallorca",
            "Madrid & Palma de Mallorca",
            "Hamburg & Munich",
            "DÃ¼sseldorf & Munich",
            "Gran Canaria & Madrid",
            "Frankfurt & Hamburg",
            "Madrid & Tenerife North",
            "Amsterdam & Barcelona",
            "Barcelona & Paris",
            "DÃ¼sseldorf & Palma de Mallorca",
            "Berlin & Cologne",
            "Frankfurt & Munich",
            "Barcelona & Paris",
            "Madrid & Paris",
            "Berlin & DÃ¼sseldorf",
            "Madrid & Paris",
            "Barcelona & Ibiza",
            "Frankfurt & Madrid",
            "Berlin & Stuttgart",
            "Amsterdam & Madrid",
            "Hamburg & Palma de Mallorca",
            "Cologne & Munich",
            "Brussels & Madrid",
            "Amsterdam & Munich",
            "Frankfurt & Paris",
            "Munich & Paris",
            "Barcelona & Frankfurt",
            "Barcelona & Brussels",
            "Paris & Toulouse",
            "Frankfurt & Palma de Mallorca",
            "Cologne & Palma de Mallorca",
            "Nice & Paris",
            "Barcelona & Seville",
            "Berlin & Paris",
            "Bordeaux & Paris",
            "Amsterdam & Frankfurt",
            "Barcelona & Munich",
            "Madrid & Munich",
            "Gran Canaria & Tenerife North",
            "Munich & Palma de Mallorca",
            "Barcelona & Bilbao",
            "Barcelona & Menorca",
            "Bilbao & Madrid",
            "Ibiza & Madrid",
            "Amsterdam & Malaga",
            "Barcelona & Malaga",
            "Hamburg & Stuttgart",
            "Palma de Mallorca & Stuttgart",
            "Bordeaux & Paris",
            "Gran Canaria & Lanzarote",
            "A Coruna & Madrid",
            "La Palma & Tenerife North",
            "DÃ¼sseldorf & Hamburg",
            "Madrid & Vigo",
            "Amsterdam & Berlin",
            "Montpellier & Paris",
            "Hannover & Palma de Mallorca",
            "Brussels & Frankfurt",
            "Hannover & Munich",
            "Brussels & Malaga",
            "Fuerteventura & Gran Canaria",
            "Bordeaux & Lyon",
            "Luxembourg City & Munich",
            "Barcelona & Tenerife North",
            "Barcelona & DÃ¼sseldorf",
            "Amsterdam & Nice",
            "Cologne & Hamburg",
            "Hamburg & Paris",
            "Lyon & Nantes",
            "Malaga & Paris",
            "Asturias & Madrid",
            "Alicante & Amsterdam",
            "Berlin & Palma de Mallorca",
            "Ibiza & Palma de Mallorca",
            "Ajaccio & Paris",
            "DÃ¼sseldorf & Paris",
            "Biarritz & Paris",
            "Barcelona & Berlin",
            "Frankfurt & Luxembourg City",
            "Amsterdam & Hamburg",
            "Lanzarote & Madrid",
            "Barcelona & Gran Canaria",
            "Berlin & Cologne",
            "Palma de Mallorca & Valencia",
            "DÃ¼sseldorf & Frankfurt",
            "Barcelona & Santiago de Compostela",
            "Amsterdam & Luxembourg City",
            "Nantes & Paris",
            "Bastia & Paris",
            "Lyon & Toulouse"
           ],
           "legendgroup": "0",
           "marker": {
            "color": "blue",
            "symbol": "circle"
           },
           "mode": "markers",
           "name": "0",
           "orientation": "v",
           "showlegend": true,
           "type": "scatter",
           "x": [
            610.672306408928,
            645.376754516887,
            501.031167189001,
            423.686712362807,
            249.225541856928,
            576.185840400148,
            608.827545798698,
            483.06189797833997,
            1767.46336319124,
            392.60885455236297,
            1793.2037689993601,
            1205.3651599208802,
            817.6545978779959,
            1326.42201990679,
            475.18279134836797,
            303.686425226354,
            784.517352689714,
            1042.11497925417,
            473.7790869111,
            1059.88503714606,
            309.20293422786,
            1438.33234549101,
            510.30360551884297,
            1475.49110884076,
            1638.48948370042,
            452.861881060905,
            1308.73982545621,
            667.3874185834001,
            483.079624586604,
            699.208424968156,
            1064.51760751428,
            1028.94825437443,
            640.685603711761,
            1250.1093005840798,
            1298.2059571056502,
            687.2958584211141,
            811.655848444259,
            877.442211340939,
            496.925829543844,
            363.70986950103395,
            1036.17036339819,
            1478.7362134559298,
            101.687018729117,
            1171.2395609419,
            430.36062762897996,
            263.943607462963,
            313.89499803948405,
            469.310061002716,
            1887.9646684381798,
            794.792276847837,
            533.5531595518011,
            1131.9399043855599,
            516.266724239048,
            224.714493808608,
            490.448768592743,
            134.559365036595,
            336.68180757412404,
            450.401891831389,
            577.1077854469729,
            582.0937584207791,
            1515.2998921642202,
            312.67946252365005,
            491.99641946151604,
            1718.55709942472,
            160.57733314522,
            423.9083506484,
            436.913073679687,
            2245.96784626233,
            1119.1931371947899,
            954.3371356114591,
            355.694141269246,
            738.8068156968959,
            510.49181148738796,
            1472.5022719332399,
            363.893605388651,
            1603.32670789682,
            1640.3214296164501,
            150.397059377353,
            921.51894448017,
            410.2779404023029,
            662.344846583558,
            1473.09809964803,
            186.445813326575,
            367.17519833585396,
            1562.53070009231,
            2209.58048126711,
            475.18279134836797,
            322.350851451072,
            179.37660362849599,
            870.927855265631,
            302.697691471432,
            341.08849522780304,
            881.6546311610041,
            391.48334019243504
           ],
           "xaxis": "x",
           "y": [
            4649919,
            4343784,
            3944576,
            3911786,
            3889456,
            3631178,
            3480168,
            3105935,
            3020898,
            2790292,
            2761836,
            2725123,
            2562612,
            2538750,
            2464242,
            2341942,
            2319146,
            2299101,
            2284675,
            2204428,
            2117494,
            2091632,
            2074030,
            2049862,
            1978144,
            1976355,
            1932272,
            1905158,
            1887510,
            1871432,
            1869001,
            1854352,
            1851208,
            1845265,
            1834301,
            1818303,
            1817052,
            1734398,
            1723714,
            1681639,
            1669929,
            1653594,
            1583972,
            1531815,
            1519260,
            1506138,
            1488040,
            1460780,
            1410586,
            1382790,
            1377955,
            1346393,
            1313671,
            1310090,
            1242246,
            1221218,
            1212612,
            1187652,
            1184206,
            1113584,
            1105621,
            1096320,
            1086011,
            1068340,
            1061892,
            1060656,
            1054463,
            1035982,
            987141,
            977926,
            971483,
            967857,
            966448,
            961252,
            959130,
            948945,
            947968,
            937936,
            934048,
            932618,
            927096,
            924267,
            922312,
            913212,
            912020,
            900874,
            851815,
            851300,
            845836,
            839510,
            837591,
            830490,
            812783,
            807954
           ],
           "yaxis": "y"
          },
          {
           "customdata": [
            [
             "ES511",
             "ES300",
             "2017",
             "Barcelona",
             "Madrid"
            ],
            [
             "NL329",
             "FR108",
             "2017",
             "Amsterdam",
             "Paris"
            ],
            [
             "FRL04",
             "FR107",
             "2017",
             "Marseille",
             "Paris"
            ],
            [
             "FRL04",
             "FR108",
             "2017",
             "Marseille",
             "Paris"
            ],
            [
             "ES300",
             "ES111",
             "2017",
             "Madrid",
             "Santiago de Compostela"
            ],
            [
             "FRK26",
             "FR108",
             "2017",
             "Lyon",
             "Paris"
            ]
           ],
           "hovertemplate": "<b>%{hovertext}</b><br><br>has_connection=1<br>Distance (km)=%{x}<br>Total Yearly Passengers=%{y}<br>NUTS_3_code_A=%{customdata[0]}<br>NUTS_3_code_B=%{customdata[1]}<extra></extra>",
           "hovertext": [
            "Barcelona & Madrid",
            "Amsterdam & Paris",
            "Marseille & Paris",
            "Marseille & Paris",
            "Madrid & Santiago de Compostela",
            "Lyon & Paris"
           ],
           "legendgroup": "1",
           "marker": {
            "color": "#F31F1F",
            "symbol": "circle"
           },
           "mode": "markers",
           "name": "1",
           "orientation": "v",
           "showlegend": true,
           "type": "scatter",
           "x": [
            496.744786620118,
            415.670102647753,
            615.7859629890961,
            656.2448881051671,
            490.448768592743,
            403.94194129509896
           ],
           "xaxis": "x",
           "y": [
            4684032,
            2521986,
            1885359,
            1381549,
            1221640,
            1044060
           ],
           "yaxis": "y"
          }
         ],
         "name": "2017"
        },
        {
         "data": [
          {
           "customdata": [
            [
             "DE300",
             "DE712",
             "2018",
             "Berlin",
             "Frankfurt"
            ],
            [
             "FR107",
             "FRJ23",
             "2018",
             "Paris",
             "Toulouse"
            ],
            [
             "FRL03",
             "FR107",
             "2018",
             "Nice",
             "Paris"
            ],
            [
             "ES511",
             "ES532",
             "2018",
             "Barcelona",
             "Palma de Mallorca"
            ],
            [
             "DE300",
             "DE212",
             "2018",
             "Berlin",
             "Munich"
            ],
            [
             "ES300",
             "ES532",
             "2018",
             "Madrid",
             "Palma de Mallorca"
            ],
            [
             "DE600",
             "DE212",
             "2018",
             "Hamburg",
             "Munich"
            ],
            [
             "ES705",
             "ES300",
             "2018",
             "Gran Canaria",
             "Madrid"
            ],
            [
             "DEA11",
             "ES532",
             "2018",
             "DÃ¼sseldorf",
             "Palma de Mallorca"
            ],
            [
             "ES300",
             "ES709",
             "2018",
             "Madrid",
             "Tenerife North"
            ],
            [
             "DE712",
             "DE600",
             "2018",
             "Frankfurt",
             "Hamburg"
            ],
            [
             "NL329",
             "ES511",
             "2018",
             "Amsterdam",
             "Barcelona"
            ],
            [
             "DEA11",
             "DE212",
             "2018",
             "DÃ¼sseldorf",
             "Munich"
            ],
            [
             "ES300",
             "FR107",
             "2018",
             "Madrid",
             "Paris"
            ],
            [
             "ES511",
             "FR108",
             "2018",
             "Barcelona",
             "Paris"
            ],
            [
             "DE300",
             "DE111",
             "2018",
             "Berlin",
             "Stuttgart"
            ],
            [
             "ES511",
             "FR107",
             "2018",
             "Barcelona",
             "Paris"
            ],
            [
             "DE300",
             "DEA11",
             "2018",
             "Berlin",
             "DÃ¼sseldorf"
            ],
            [
             "DE712",
             "DE212",
             "2018",
             "Frankfurt",
             "Munich"
            ],
            [
             "ES511",
             "ES531",
             "2018",
             "Barcelona",
             "Ibiza"
            ],
            [
             "DE300",
             "DEA23",
             "2018",
             "Berlin",
             "Cologne"
            ],
            [
             "ES300",
             "FR108",
             "2018",
             "Madrid",
             "Paris"
            ],
            [
             "DE712",
             "ES300",
             "2018",
             "Frankfurt",
             "Madrid"
            ],
            [
             "NL329",
             "ES300",
             "2018",
             "Amsterdam",
             "Madrid"
            ],
            [
             "DEA23",
             "DE212",
             "2018",
             "Cologne",
             "Munich"
            ],
            [
             "ES511",
             "DE712",
             "2018",
             "Barcelona",
             "Frankfurt"
            ],
            [
             "BE100",
             "ES300",
             "2018",
             "Brussels",
             "Madrid"
            ],
            [
             "DE712",
             "FR108",
             "2018",
             "Frankfurt",
             "Paris"
            ],
            [
             "DE712",
             "ES532",
             "2018",
             "Frankfurt",
             "Palma de Mallorca"
            ],
            [
             "NL329",
             "DE212",
             "2018",
             "Amsterdam",
             "Munich"
            ],
            [
             "ES705",
             "ES709",
             "2018",
             "Gran Canaria",
             "Tenerife North"
            ],
            [
             "DE212",
             "FR108",
             "2018",
             "Munich",
             "Paris"
            ],
            [
             "FRL03",
             "FR108",
             "2018",
             "Nice",
             "Paris"
            ],
            [
             "ES511",
             "ES618",
             "2018",
             "Barcelona",
             "Seville"
            ],
            [
             "DEA23",
             "ES532",
             "2018",
             "Cologne",
             "Palma de Mallorca"
            ],
            [
             "ES511",
             "BE100",
             "2018",
             "Barcelona",
             "Brussels"
            ],
            [
             "FR108",
             "FRJ23",
             "2018",
             "Paris",
             "Toulouse"
            ],
            [
             "NL329",
             "DE712",
             "2018",
             "Amsterdam",
             "Frankfurt"
            ],
            [
             "ES511",
             "DE212",
             "2018",
             "Barcelona",
             "Munich"
            ],
            [
             "ES300",
             "DE212",
             "2018",
             "Madrid",
             "Munich"
            ],
            [
             "DE300",
             "FR108",
             "2018",
             "Berlin",
             "Paris"
            ],
            [
             "DE600",
             "ES532",
             "2018",
             "Hamburg",
             "Palma de Mallorca"
            ],
            [
             "DE300",
             "ES532",
             "2018",
             "Berlin",
             "Palma de Mallorca"
            ],
            [
             "ES213",
             "ES300",
             "2018",
             "Bilbao",
             "Madrid"
            ],
            [
             "ES511",
             "ES533",
             "2018",
             "Barcelona",
             "Menorca"
            ],
            [
             "ES531",
             "ES300",
             "2018",
             "Ibiza",
             "Madrid"
            ],
            [
             "ES705",
             "ES708",
             "2018",
             "Gran Canaria",
             "Lanzarote"
            ],
            [
             "ES511",
             "ES617",
             "2018",
             "Barcelona",
             "Malaga"
            ],
            [
             "DE212",
             "ES532",
             "2018",
             "Munich",
             "Palma de Mallorca"
            ],
            [
             "ES532",
             "DE111",
             "2018",
             "Palma de Mallorca",
             "Stuttgart"
            ],
            [
             "DE600",
             "DE111",
             "2018",
             "Hamburg",
             "Stuttgart"
            ],
            [
             "ES707",
             "ES709",
             "2018",
             "La Palma",
             "Tenerife North"
            ],
            [
             "ES300",
             "ES114",
             "2018",
             "Madrid",
             "Vigo"
            ],
            [
             "NL329",
             "DE300",
             "2018",
             "Amsterdam",
             "Berlin"
            ],
            [
             "NL329",
             "ES617",
             "2018",
             "Amsterdam",
             "Malaga"
            ],
            [
             "ES111",
             "ES300",
             "2018",
             "A Coruna",
             "Madrid"
            ],
            [
             "ES704",
             "ES705",
             "2018",
             "Fuerteventura",
             "Gran Canaria"
            ],
            [
             "FRI12",
             "FR107",
             "2018",
             "Bordeaux",
             "Paris"
            ],
            [
             "ES511",
             "ES213",
             "2018",
             "Barcelona",
             "Bilbao"
            ],
            [
             "DE929",
             "ES532",
             "2018",
             "Hannover",
             "Palma de Mallorca"
            ],
            [
             "FRI12",
             "FR108",
             "2018",
             "Bordeaux",
             "Paris"
            ],
            [
             "ES511",
             "ES709",
             "2018",
             "Barcelona",
             "Tenerife North"
            ],
            [
             "BE100",
             "DE712",
             "2018",
             "Brussels",
             "Frankfurt"
            ],
            [
             "FRJ13",
             "FR107",
             "2018",
             "Montpellier",
             "Paris"
            ],
            [
             "FRI12",
             "FRK26",
             "2018",
             "Bordeaux",
             "Lyon"
            ],
            [
             "LU000",
             "DE212",
             "2018",
             "Luxembourg City",
             "Munich"
            ],
            [
             "BE100",
             "ES617",
             "2018",
             "Brussels",
             "Malaga"
            ],
            [
             "DEA11",
             "DE600",
             "2018",
             "DÃ¼sseldorf",
             "Hamburg"
            ],
            [
             "DE929",
             "DE212",
             "2018",
             "Hannover",
             "Munich"
            ],
            [
             "FRK26",
             "FRG01",
             "2018",
             "Lyon",
             "Nantes"
            ],
            [
             "ES531",
             "ES532",
             "2018",
             "Ibiza",
             "Palma de Mallorca"
            ],
            [
             "ES617",
             "FR108",
             "2018",
             "Malaga",
             "Paris"
            ],
            [
             "ES511",
             "ES705",
             "2018",
             "Barcelona",
             "Gran Canaria"
            ],
            [
             "DE712",
             "LU000",
             "2018",
             "Frankfurt",
             "Luxembourg City"
            ],
            [
             "ES120",
             "ES300",
             "2018",
             "Asturias",
             "Madrid"
            ],
            [
             "ES532",
             "ES523",
             "2018",
             "Palma de Mallorca",
             "Valencia"
            ],
            [
             "NL329",
             "DE600",
             "2018",
             "Amsterdam",
             "Hamburg"
            ],
            [
             "DEA23",
             "DE600",
             "2018",
             "Cologne",
             "Hamburg"
            ],
            [
             "DEA11",
             "FR108",
             "2018",
             "DÃ¼sseldorf",
             "Paris"
            ],
            [
             "ES511",
             "DE300",
             "2018",
             "Barcelona",
             "Berlin"
            ],
            [
             "FRM01",
             "FR107",
             "2018",
             "Ajaccio",
             "Paris"
            ],
            [
             "NL329",
             "FRL03",
             "2018",
             "Amsterdam",
             "Nice"
            ],
            [
             "DE600",
             "FR108",
             "2018",
             "Hamburg",
             "Paris"
            ],
            [
             "NL329",
             "LU000",
             "2018",
             "Amsterdam",
             "Luxembourg City"
            ],
            [
             "ES708",
             "ES300",
             "2018",
             "Lanzarote",
             "Madrid"
            ],
            [
             "ES511",
             "ES614",
             "2018",
             "Barcelona",
             "Granada"
            ],
            [
             "ES521",
             "NL329",
             "2018",
             "Alicante",
             "Amsterdam"
            ],
            [
             "ES511",
             "ES111",
             "2018",
             "Barcelona",
             "Santiago de Compostela"
            ],
            [
             "DEA11",
             "ES300",
             "2018",
             "DÃ¼sseldorf",
             "Madrid"
            ],
            [
             "DEA11",
             "DE712",
             "2018",
             "DÃ¼sseldorf",
             "Frankfurt"
            ],
            [
             "FRK26",
             "FRJ23",
             "2018",
             "Lyon",
             "Toulouse"
            ],
            [
             "FRM02",
             "FR107",
             "2018",
             "Bastia",
             "Paris"
            ],
            [
             "BE100",
             "DE212",
             "2018",
             "Brussels",
             "Munich"
            ],
            [
             "ES521",
             "ES511",
             "2018",
             "Alicante",
             "Barcelona"
            ]
           ],
           "hovertemplate": "<b>%{hovertext}</b><br><br>has_connection=0<br>Distance (km)=%{x}<br>Total Yearly Passengers=%{y}<br>NUTS_3_code_A=%{customdata[0]}<br>NUTS_3_code_B=%{customdata[1]}<extra></extra>",
           "hovertext": [
            "Berlin & Frankfurt",
            "Paris & Toulouse",
            "Nice & Paris",
            "Barcelona & Palma de Mallorca",
            "Berlin & Munich",
            "Madrid & Palma de Mallorca",
            "Hamburg & Munich",
            "Gran Canaria & Madrid",
            "DÃ¼sseldorf & Palma de Mallorca",
            "Madrid & Tenerife North",
            "Frankfurt & Hamburg",
            "Amsterdam & Barcelona",
            "DÃ¼sseldorf & Munich",
            "Madrid & Paris",
            "Barcelona & Paris",
            "Berlin & Stuttgart",
            "Barcelona & Paris",
            "Berlin & DÃ¼sseldorf",
            "Frankfurt & Munich",
            "Barcelona & Ibiza",
            "Berlin & Cologne",
            "Madrid & Paris",
            "Frankfurt & Madrid",
            "Amsterdam & Madrid",
            "Cologne & Munich",
            "Barcelona & Frankfurt",
            "Brussels & Madrid",
            "Frankfurt & Paris",
            "Frankfurt & Palma de Mallorca",
            "Amsterdam & Munich",
            "Gran Canaria & Tenerife North",
            "Munich & Paris",
            "Nice & Paris",
            "Barcelona & Seville",
            "Cologne & Palma de Mallorca",
            "Barcelona & Brussels",
            "Paris & Toulouse",
            "Amsterdam & Frankfurt",
            "Barcelona & Munich",
            "Madrid & Munich",
            "Berlin & Paris",
            "Hamburg & Palma de Mallorca",
            "Berlin & Palma de Mallorca",
            "Bilbao & Madrid",
            "Barcelona & Menorca",
            "Ibiza & Madrid",
            "Gran Canaria & Lanzarote",
            "Barcelona & Malaga",
            "Munich & Palma de Mallorca",
            "Palma de Mallorca & Stuttgart",
            "Hamburg & Stuttgart",
            "La Palma & Tenerife North",
            "Madrid & Vigo",
            "Amsterdam & Berlin",
            "Amsterdam & Malaga",
            "A Coruna & Madrid",
            "Fuerteventura & Gran Canaria",
            "Bordeaux & Paris",
            "Barcelona & Bilbao",
            "Hannover & Palma de Mallorca",
            "Bordeaux & Paris",
            "Barcelona & Tenerife North",
            "Brussels & Frankfurt",
            "Montpellier & Paris",
            "Bordeaux & Lyon",
            "Luxembourg City & Munich",
            "Brussels & Malaga",
            "DÃ¼sseldorf & Hamburg",
            "Hannover & Munich",
            "Lyon & Nantes",
            "Ibiza & Palma de Mallorca",
            "Malaga & Paris",
            "Barcelona & Gran Canaria",
            "Frankfurt & Luxembourg City",
            "Asturias & Madrid",
            "Palma de Mallorca & Valencia",
            "Amsterdam & Hamburg",
            "Cologne & Hamburg",
            "DÃ¼sseldorf & Paris",
            "Barcelona & Berlin",
            "Ajaccio & Paris",
            "Amsterdam & Nice",
            "Hamburg & Paris",
            "Amsterdam & Luxembourg City",
            "Lanzarote & Madrid",
            "Barcelona & Granada",
            "Alicante & Amsterdam",
            "Barcelona & Santiago de Compostela",
            "DÃ¼sseldorf & Madrid",
            "DÃ¼sseldorf & Frankfurt",
            "Lyon & Toulouse",
            "Bastia & Paris",
            "Brussels & Munich",
            "Alicante & Barcelona"
           ],
           "legendgroup": "0",
           "marker": {
            "color": "blue",
            "symbol": "circle"
           },
           "mode": "markers",
           "name": "0",
           "orientation": "v",
           "showlegend": true,
           "type": "scatter",
           "x": [
            423.686712362807,
            610.672306408928,
            645.376754516887,
            249.225541856928,
            501.031167189001,
            576.185840400148,
            608.827545798698,
            1767.46336319124,
            1326.42201990679,
            1793.2037689993601,
            392.60885455236297,
            1205.3651599208802,
            483.06189797833997,
            1042.11497925417,
            817.6545978779959,
            510.30360551884297,
            784.517352689714,
            473.7790869111,
            303.686425226354,
            309.20293422786,
            475.18279134836797,
            1059.88503714606,
            1438.33234549101,
            1475.49110884076,
            452.861881060905,
            1064.51760751428,
            1308.73982545621,
            483.079624586604,
            1250.1093005840798,
            667.3874185834001,
            101.687018729117,
            699.208424968156,
            687.2958584211141,
            811.655848444259,
            1298.2059571056502,
            1028.94825437443,
            640.685603711761,
            363.70986950103395,
            1036.17036339819,
            1478.7362134559298,
            877.442211340939,
            1638.48948370042,
            1640.3214296164501,
            313.89499803948405,
            263.943607462963,
            469.310061002716,
            224.714493808608,
            794.792276847837,
            1171.2395609419,
            1131.9399043855599,
            533.5531595518011,
            134.559365036595,
            450.401891831389,
            577.1077854469729,
            1887.9646684381798,
            490.448768592743,
            160.57733314522,
            496.925829543844,
            430.36062762897996,
            1515.2998921642202,
            516.266724239048,
            2245.96784626233,
            312.67946252365005,
            582.0937584207791,
            423.9083506484,
            436.913073679687,
            1718.55709942472,
            336.68180757412404,
            491.99641946151604,
            510.49181148738796,
            150.397059377353,
            1472.5022719332399,
            2209.58048126711,
            186.445813326575,
            363.893605388651,
            322.350851451072,
            367.17519833585396,
            355.694141269246,
            410.2779404023029,
            1473.09809964803,
            921.51894448017,
            954.3371356114591,
            738.8068156968959,
            302.697691471432,
            1562.53070009231,
            666.318624905471,
            1603.32670789682,
            870.927855265631,
            1442.93073017592,
            179.37660362849599,
            391.48334019243504,
            881.6546311610041,
            597.4958029132459,
            421.73263278328596
           ],
           "xaxis": "x",
           "y": [
            4583867,
            4564556,
            4279947,
            4071446,
            3970355,
            3934560,
            3491075,
            3233130,
            3019737,
            2974654,
            2878508,
            2839265,
            2839081,
            2657591,
            2530269,
            2475194,
            2414052,
            2393734,
            2384825,
            2350534,
            2348734,
            2274958,
            2161967,
            2076586,
            2030314,
            2023550,
            2020174,
            2010107,
            2002458,
            1988914,
            1975054,
            1972172,
            1967723,
            1957396,
            1930367,
            1885628,
            1814363,
            1726691,
            1724454,
            1715912,
            1681081,
            1660511,
            1632013,
            1620852,
            1614948,
            1606540,
            1589034,
            1573016,
            1551685,
            1497416,
            1475298,
            1456192,
            1328412,
            1320911,
            1311621,
            1294278,
            1282224,
            1272224,
            1256508,
            1253995,
            1242014,
            1186020,
            1175967,
            1131865,
            1121539,
            1086969,
            1077991,
            1051252,
            1051235,
            1039632,
            1036016,
            1021376,
            1009360,
            981608,
            974012,
            970238,
            960786,
            954108,
            941744,
            935354,
            932261,
            925675,
            912237,
            902283,
            895638,
            887414,
            868441,
            855898,
            853302,
            851550,
            837223,
            833064,
            827690,
            825302
           ],
           "yaxis": "y"
          },
          {
           "customdata": [
            [
             "ES511",
             "ES300",
             "2018",
             "Barcelona",
             "Madrid"
            ],
            [
             "NL329",
             "FR108",
             "2018",
             "Amsterdam",
             "Paris"
            ],
            [
             "FRL04",
             "FR107",
             "2018",
             "Marseille",
             "Paris"
            ],
            [
             "FRL04",
             "FR108",
             "2018",
             "Marseille",
             "Paris"
            ],
            [
             "ES300",
             "ES111",
             "2018",
             "Madrid",
             "Santiago de Compostela"
            ],
            [
             "FRK26",
             "FR108",
             "2018",
             "Lyon",
             "Paris"
            ]
           ],
           "hovertemplate": "<b>%{hovertext}</b><br><br>has_connection=1<br>Distance (km)=%{x}<br>Total Yearly Passengers=%{y}<br>NUTS_3_code_A=%{customdata[0]}<br>NUTS_3_code_B=%{customdata[1]}<extra></extra>",
           "hovertext": [
            "Barcelona & Madrid",
            "Amsterdam & Paris",
            "Marseille & Paris",
            "Marseille & Paris",
            "Madrid & Santiago de Compostela",
            "Lyon & Paris"
           ],
           "legendgroup": "1",
           "marker": {
            "color": "#F31F1F",
            "symbol": "circle"
           },
           "mode": "markers",
           "name": "1",
           "orientation": "v",
           "showlegend": true,
           "type": "scatter",
           "x": [
            496.744786620118,
            415.670102647753,
            615.7859629890961,
            656.2448881051671,
            490.448768592743,
            403.94194129509896
           ],
           "xaxis": "x",
           "y": [
            4935536,
            2472968,
            1890772,
            1346718,
            1339460,
            960252
           ],
           "yaxis": "y"
          }
         ],
         "name": "2018"
        },
        {
         "data": [
          {
           "customdata": [
            [
             "DE300",
             "DE712",
             "2019",
             "Berlin",
             "Frankfurt"
            ],
            [
             "FR107",
             "FRJ23",
             "2019",
             "Paris",
             "Toulouse"
            ],
            [
             "ES511",
             "ES532",
             "2019",
             "Barcelona",
             "Palma de Mallorca"
            ],
            [
             "FRL03",
             "FR107",
             "2019",
             "Nice",
             "Paris"
            ],
            [
             "ES300",
             "ES532",
             "2019",
             "Madrid",
             "Palma de Mallorca"
            ],
            [
             "DE300",
             "DE212",
             "2019",
             "Berlin",
             "Munich"
            ],
            [
             "DE600",
             "DE212",
             "2019",
             "Hamburg",
             "Munich"
            ],
            [
             "ES705",
             "ES300",
             "2019",
             "Gran Canaria",
             "Madrid"
            ],
            [
             "DEA11",
             "ES532",
             "2019",
             "DÃ¼sseldorf",
             "Palma de Mallorca"
            ],
            [
             "ES300",
             "ES709",
             "2019",
             "Madrid",
             "Tenerife North"
            ],
            [
             "DEA11",
             "DE212",
             "2019",
             "DÃ¼sseldorf",
             "Munich"
            ],
            [
             "DE712",
             "DE600",
             "2019",
             "Frankfurt",
             "Hamburg"
            ],
            [
             "NL329",
             "ES511",
             "2019",
             "Amsterdam",
             "Barcelona"
            ],
            [
             "ES511",
             "FR108",
             "2019",
             "Barcelona",
             "Paris"
            ],
            [
             "ES300",
             "FR107",
             "2019",
             "Madrid",
             "Paris"
            ],
            [
             "DE300",
             "DEA23",
             "2019",
             "Berlin",
             "Cologne"
            ],
            [
             "DE300",
             "DE111",
             "2019",
             "Berlin",
             "Stuttgart"
            ],
            [
             "DE300",
             "DEA11",
             "2019",
             "Berlin",
             "DÃ¼sseldorf"
            ],
            [
             "ES511",
             "ES531",
             "2019",
             "Barcelona",
             "Ibiza"
            ],
            [
             "ES511",
             "FR107",
             "2019",
             "Barcelona",
             "Paris"
            ],
            [
             "NL329",
             "ES300",
             "2019",
             "Amsterdam",
             "Madrid"
            ],
            [
             "DE712",
             "DE212",
             "2019",
             "Frankfurt",
             "Munich"
            ],
            [
             "DE712",
             "ES532",
             "2019",
             "Frankfurt",
             "Palma de Mallorca"
            ],
            [
             "FRL03",
             "FR108",
             "2019",
             "Nice",
             "Paris"
            ],
            [
             "ES300",
             "FR108",
             "2019",
             "Madrid",
             "Paris"
            ],
            [
             "BE100",
             "ES300",
             "2019",
             "Brussels",
             "Madrid"
            ],
            [
             "DE712",
             "ES300",
             "2019",
             "Frankfurt",
             "Madrid"
            ],
            [
             "ES511",
             "ES618",
             "2019",
             "Barcelona",
             "Seville"
            ],
            [
             "DE712",
             "FR108",
             "2019",
             "Frankfurt",
             "Paris"
            ],
            [
             "ES511",
             "DE712",
             "2019",
             "Barcelona",
             "Frankfurt"
            ],
            [
             "DEA23",
             "DE212",
             "2019",
             "Cologne",
             "Munich"
            ],
            [
             "DE212",
             "FR108",
             "2019",
             "Munich",
             "Paris"
            ],
            [
             "ES705",
             "ES709",
             "2019",
             "Gran Canaria",
             "Tenerife North"
            ],
            [
             "FR108",
             "FRJ23",
             "2019",
             "Paris",
             "Toulouse"
            ],
            [
             "NL329",
             "DE212",
             "2019",
             "Amsterdam",
             "Munich"
            ],
            [
             "ES511",
             "BE100",
             "2019",
             "Barcelona",
             "Brussels"
            ],
            [
             "ES300",
             "DE212",
             "2019",
             "Madrid",
             "Munich"
            ],
            [
             "DE300",
             "ES532",
             "2019",
             "Berlin",
             "Palma de Mallorca"
            ],
            [
             "ES511",
             "DE212",
             "2019",
             "Barcelona",
             "Munich"
            ],
            [
             "DE600",
             "ES532",
             "2019",
             "Hamburg",
             "Palma de Mallorca"
            ],
            [
             "DE212",
             "ES532",
             "2019",
             "Munich",
             "Palma de Mallorca"
            ],
            [
             "NL329",
             "DE712",
             "2019",
             "Amsterdam",
             "Frankfurt"
            ],
            [
             "DE300",
             "FR108",
             "2019",
             "Berlin",
             "Paris"
            ],
            [
             "DEA23",
             "ES532",
             "2019",
             "Cologne",
             "Palma de Mallorca"
            ],
            [
             "ES511",
             "ES617",
             "2019",
             "Barcelona",
             "Malaga"
            ],
            [
             "ES511",
             "ES533",
             "2019",
             "Barcelona",
             "Menorca"
            ],
            [
             "ES531",
             "ES300",
             "2019",
             "Ibiza",
             "Madrid"
            ],
            [
             "ES213",
             "ES300",
             "2019",
             "Bilbao",
             "Madrid"
            ],
            [
             "ES705",
             "ES708",
             "2019",
             "Gran Canaria",
             "Lanzarote"
            ],
            [
             "ES532",
             "DE111",
             "2019",
             "Palma de Mallorca",
             "Stuttgart"
            ],
            [
             "ES707",
             "ES709",
             "2019",
             "La Palma",
             "Tenerife North"
            ],
            [
             "DE600",
             "DE111",
             "2019",
             "Hamburg",
             "Stuttgart"
            ],
            [
             "NL329",
             "DE300",
             "2019",
             "Amsterdam",
             "Berlin"
            ],
            [
             "ES300",
             "ES114",
             "2019",
             "Madrid",
             "Vigo"
            ],
            [
             "ES111",
             "ES300",
             "2019",
             "A Coruna",
             "Madrid"
            ],
            [
             "ES704",
             "ES705",
             "2019",
             "Fuerteventura",
             "Gran Canaria"
            ],
            [
             "NL329",
             "ES617",
             "2019",
             "Amsterdam",
             "Malaga"
            ],
            [
             "FRI12",
             "FR108",
             "2019",
             "Bordeaux",
             "Paris"
            ],
            [
             "DE929",
             "ES532",
             "2019",
             "Hannover",
             "Palma de Mallorca"
            ],
            [
             "ES511",
             "ES213",
             "2019",
             "Barcelona",
             "Bilbao"
            ],
            [
             "FRI12",
             "FRK26",
             "2019",
             "Bordeaux",
             "Lyon"
            ],
            [
             "BE100",
             "DE712",
             "2019",
             "Brussels",
             "Frankfurt"
            ],
            [
             "ES511",
             "ES709",
             "2019",
             "Barcelona",
             "Tenerife North"
            ],
            [
             "FRI12",
             "FR107",
             "2019",
             "Bordeaux",
             "Paris"
            ],
            [
             "FRJ13",
             "FR107",
             "2019",
             "Montpellier",
             "Paris"
            ],
            [
             "FRK26",
             "FRG01",
             "2019",
             "Lyon",
             "Nantes"
            ],
            [
             "ES120",
             "ES300",
             "2019",
             "Asturias",
             "Madrid"
            ],
            [
             "DE929",
             "DE212",
             "2019",
             "Hannover",
             "Munich"
            ],
            [
             "LU000",
             "DE212",
             "2019",
             "Luxembourg City",
             "Munich"
            ],
            [
             "ES532",
             "ES523",
             "2019",
             "Palma de Mallorca",
             "Valencia"
            ],
            [
             "ES531",
             "ES532",
             "2019",
             "Ibiza",
             "Palma de Mallorca"
            ],
            [
             "BE100",
             "ES617",
             "2019",
             "Brussels",
             "Malaga"
            ],
            [
             "DEA11",
             "DE600",
             "2019",
             "DÃ¼sseldorf",
             "Hamburg"
            ],
            [
             "ES708",
             "ES300",
             "2019",
             "Lanzarote",
             "Madrid"
            ],
            [
             "ES511",
             "ES705",
             "2019",
             "Barcelona",
             "Gran Canaria"
            ],
            [
             "DE712",
             "LU000",
             "2019",
             "Frankfurt",
             "Luxembourg City"
            ],
            [
             "ES511",
             "ES614",
             "2019",
             "Barcelona",
             "Granada"
            ],
            [
             "ES300",
             "ES618",
             "2019",
             "Madrid",
             "Seville"
            ],
            [
             "DEA11",
             "ES300",
             "2019",
             "DÃ¼sseldorf",
             "Madrid"
            ],
            [
             "ES511",
             "DE300",
             "2019",
             "Barcelona",
             "Berlin"
            ],
            [
             "NL329",
             "FRL03",
             "2019",
             "Amsterdam",
             "Nice"
            ],
            [
             "ES617",
             "FR108",
             "2019",
             "Malaga",
             "Paris"
            ],
            [
             "NL329",
             "DE600",
             "2019",
             "Amsterdam",
             "Hamburg"
            ],
            [
             "DE600",
             "FR108",
             "2019",
             "Hamburg",
             "Paris"
            ],
            [
             "DEA11",
             "FR108",
             "2019",
             "DÃ¼sseldorf",
             "Paris"
            ],
            [
             "DEA23",
             "DE600",
             "2019",
             "Cologne",
             "Hamburg"
            ],
            [
             "NL329",
             "LU000",
             "2019",
             "Amsterdam",
             "Luxembourg City"
            ],
            [
             "FRG01",
             "FR108",
             "2019",
             "Nantes",
             "Paris"
            ],
            [
             "ES521",
             "ES511",
             "2019",
             "Alicante",
             "Barcelona"
            ],
            [
             "FRM01",
             "FR107",
             "2019",
             "Ajaccio",
             "Paris"
            ],
            [
             "DE300",
             "ES300",
             "2019",
             "Berlin",
             "Madrid"
            ],
            [
             "BE100",
             "DE212",
             "2019",
             "Brussels",
             "Munich"
            ],
            [
             "ES521",
             "NL329",
             "2019",
             "Alicante",
             "Amsterdam"
            ],
            [
             "FRM02",
             "FR107",
             "2019",
             "Bastia",
             "Paris"
            ]
           ],
           "hovertemplate": "<b>%{hovertext}</b><br><br>has_connection=0<br>Distance (km)=%{x}<br>Total Yearly Passengers=%{y}<br>NUTS_3_code_A=%{customdata[0]}<br>NUTS_3_code_B=%{customdata[1]}<extra></extra>",
           "hovertext": [
            "Berlin & Frankfurt",
            "Paris & Toulouse",
            "Barcelona & Palma de Mallorca",
            "Nice & Paris",
            "Madrid & Palma de Mallorca",
            "Berlin & Munich",
            "Hamburg & Munich",
            "Gran Canaria & Madrid",
            "DÃ¼sseldorf & Palma de Mallorca",
            "Madrid & Tenerife North",
            "DÃ¼sseldorf & Munich",
            "Frankfurt & Hamburg",
            "Amsterdam & Barcelona",
            "Barcelona & Paris",
            "Madrid & Paris",
            "Berlin & Cologne",
            "Berlin & Stuttgart",
            "Berlin & DÃ¼sseldorf",
            "Barcelona & Ibiza",
            "Barcelona & Paris",
            "Amsterdam & Madrid",
            "Frankfurt & Munich",
            "Frankfurt & Palma de Mallorca",
            "Nice & Paris",
            "Madrid & Paris",
            "Brussels & Madrid",
            "Frankfurt & Madrid",
            "Barcelona & Seville",
            "Frankfurt & Paris",
            "Barcelona & Frankfurt",
            "Cologne & Munich",
            "Munich & Paris",
            "Gran Canaria & Tenerife North",
            "Paris & Toulouse",
            "Amsterdam & Munich",
            "Barcelona & Brussels",
            "Madrid & Munich",
            "Berlin & Palma de Mallorca",
            "Barcelona & Munich",
            "Hamburg & Palma de Mallorca",
            "Munich & Palma de Mallorca",
            "Amsterdam & Frankfurt",
            "Berlin & Paris",
            "Cologne & Palma de Mallorca",
            "Barcelona & Malaga",
            "Barcelona & Menorca",
            "Ibiza & Madrid",
            "Bilbao & Madrid",
            "Gran Canaria & Lanzarote",
            "Palma de Mallorca & Stuttgart",
            "La Palma & Tenerife North",
            "Hamburg & Stuttgart",
            "Amsterdam & Berlin",
            "Madrid & Vigo",
            "A Coruna & Madrid",
            "Fuerteventura & Gran Canaria",
            "Amsterdam & Malaga",
            "Bordeaux & Paris",
            "Hannover & Palma de Mallorca",
            "Barcelona & Bilbao",
            "Bordeaux & Lyon",
            "Brussels & Frankfurt",
            "Barcelona & Tenerife North",
            "Bordeaux & Paris",
            "Montpellier & Paris",
            "Lyon & Nantes",
            "Asturias & Madrid",
            "Hannover & Munich",
            "Luxembourg City & Munich",
            "Palma de Mallorca & Valencia",
            "Ibiza & Palma de Mallorca",
            "Brussels & Malaga",
            "DÃ¼sseldorf & Hamburg",
            "Lanzarote & Madrid",
            "Barcelona & Gran Canaria",
            "Frankfurt & Luxembourg City",
            "Barcelona & Granada",
            "Madrid & Seville",
            "DÃ¼sseldorf & Madrid",
            "Barcelona & Berlin",
            "Amsterdam & Nice",
            "Malaga & Paris",
            "Amsterdam & Hamburg",
            "Hamburg & Paris",
            "DÃ¼sseldorf & Paris",
            "Cologne & Hamburg",
            "Amsterdam & Luxembourg City",
            "Nantes & Paris",
            "Alicante & Barcelona",
            "Ajaccio & Paris",
            "Berlin & Madrid",
            "Brussels & Munich",
            "Alicante & Amsterdam",
            "Bastia & Paris"
           ],
           "legendgroup": "0",
           "marker": {
            "color": "blue",
            "symbol": "circle"
           },
           "mode": "markers",
           "name": "0",
           "orientation": "v",
           "showlegend": true,
           "type": "scatter",
           "x": [
            423.686712362807,
            610.672306408928,
            249.225541856928,
            645.376754516887,
            576.185840400148,
            501.031167189001,
            608.827545798698,
            1767.46336319124,
            1326.42201990679,
            1793.2037689993601,
            483.06189797833997,
            392.60885455236297,
            1205.3651599208802,
            817.6545978779959,
            1042.11497925417,
            475.18279134836797,
            510.30360551884297,
            473.7790869111,
            309.20293422786,
            784.517352689714,
            1475.49110884076,
            303.686425226354,
            1250.1093005840798,
            687.2958584211141,
            1059.88503714606,
            1308.73982545621,
            1438.33234549101,
            811.655848444259,
            483.079624586604,
            1064.51760751428,
            452.861881060905,
            699.208424968156,
            101.687018729117,
            640.685603711761,
            667.3874185834001,
            1028.94825437443,
            1478.7362134559298,
            1640.3214296164501,
            1036.17036339819,
            1638.48948370042,
            1171.2395609419,
            363.70986950103395,
            877.442211340939,
            1298.2059571056502,
            794.792276847837,
            263.943607462963,
            469.310061002716,
            313.89499803948405,
            224.714493808608,
            1131.9399043855599,
            134.559365036595,
            533.5531595518011,
            577.1077854469729,
            450.401891831389,
            490.448768592743,
            160.57733314522,
            1887.9646684381798,
            516.266724239048,
            1515.2998921642202,
            430.36062762897996,
            423.9083506484,
            312.67946252365005,
            2245.96784626233,
            496.925829543844,
            582.0937584207791,
            510.49181148738796,
            363.893605388651,
            491.99641946151604,
            436.913073679687,
            322.350851451072,
            150.397059377353,
            1718.55709942472,
            336.68180757412404,
            1562.53070009231,
            2209.58048126711,
            186.445813326575,
            666.318624905471,
            380.204645403803,
            1442.93073017592,
            1473.09809964803,
            954.3371356114591,
            1472.5022719332399,
            367.17519833585396,
            738.8068156968959,
            410.2779404023029,
            355.694141269246,
            302.697691471432,
            341.08849522780304,
            421.73263278328596,
            921.51894448017,
            1861.62636818675,
            597.4958029132459,
            1603.32670789682,
            881.6546311610041
           ],
           "xaxis": "x",
           "y": [
            4496494,
            4434528,
            4347878,
            4111741,
            3990208,
            3868042,
            3479956,
            3318212,
            3112251,
            2987510,
            2976389,
            2852058,
            2767594,
            2734126,
            2716816,
            2634070,
            2468838,
            2466167,
            2412630,
            2286218,
            2284589,
            2273134,
            2268019,
            2250154,
            2224548,
            2170868,
            2137551,
            2090058,
            2082334,
            2069551,
            2033904,
            2027858,
            2002356,
            2000541,
            1939242,
            1903670,
            1801378,
            1800217,
            1778048,
            1768530,
            1762688,
            1762428,
            1726911,
            1706109,
            1697928,
            1675584,
            1674014,
            1671516,
            1607930,
            1582912,
            1520452,
            1473649,
            1369996,
            1367860,
            1360150,
            1328936,
            1312609,
            1304573,
            1278716,
            1245202,
            1164186,
            1154578,
            1140116,
            1132633,
            1124596,
            1122014,
            1096426,
            1082070,
            1081432,
            1078426,
            1069190,
            1060487,
            1043893,
            1029772,
            1021210,
            1011231,
            979072,
            972876,
            972211,
            969016,
            956492,
            955254,
            952802,
            929776,
            929053,
            926861,
            924525,
            903324,
            898196,
            895172,
            877170,
            876395,
            873077,
            866427
           ],
           "yaxis": "y"
          },
          {
           "customdata": [
            [
             "ES511",
             "ES300",
             "2019",
             "Barcelona",
             "Madrid"
            ],
            [
             "NL329",
             "FR108",
             "2019",
             "Amsterdam",
             "Paris"
            ],
            [
             "FRL04",
             "FR107",
             "2019",
             "Marseille",
             "Paris"
            ],
            [
             "ES300",
             "ES111",
             "2019",
             "Madrid",
             "Santiago de Compostela"
            ],
            [
             "FRL04",
             "FR108",
             "2019",
             "Marseille",
             "Paris"
            ],
            [
             "FRK26",
             "FR108",
             "2019",
             "Lyon",
             "Paris"
            ]
           ],
           "hovertemplate": "<b>%{hovertext}</b><br><br>has_connection=1<br>Distance (km)=%{x}<br>Total Yearly Passengers=%{y}<br>NUTS_3_code_A=%{customdata[0]}<br>NUTS_3_code_B=%{customdata[1]}<extra></extra>",
           "hovertext": [
            "Barcelona & Madrid",
            "Amsterdam & Paris",
            "Marseille & Paris",
            "Madrid & Santiago de Compostela",
            "Marseille & Paris",
            "Lyon & Paris"
           ],
           "legendgroup": "1",
           "marker": {
            "color": "#F31F1F",
            "symbol": "circle"
           },
           "mode": "markers",
           "name": "1",
           "orientation": "v",
           "showlegend": true,
           "type": "scatter",
           "x": [
            496.744786620118,
            415.670102647753,
            615.7859629890961,
            490.448768592743,
            656.2448881051671,
            403.94194129509896
           ],
           "xaxis": "x",
           "y": [
            5145786,
            2474920,
            1768697,
            1439496,
            1352582,
            1075541
           ],
           "yaxis": "y"
          }
         ],
         "name": "2019"
        }
       ],
       "layout": {
        "legend": {
         "title": {
          "text": "HSR Connection Status"
         },
         "tracegroupgap": 0
        },
        "sliders": [
         {
          "active": 0,
          "currentvalue": {
           "prefix": "Year="
          },
          "len": 0.9,
          "pad": {
           "b": 10,
           "t": 60
          },
          "steps": [
           {
            "args": [
             [
              "2016"
             ],
             {
              "frame": {
               "duration": 0,
               "redraw": false
              },
              "fromcurrent": true,
              "mode": "immediate",
              "transition": {
               "duration": 0,
               "easing": "linear"
              }
             }
            ],
            "label": "2016",
            "method": "animate"
           },
           {
            "args": [
             [
              "2017"
             ],
             {
              "frame": {
               "duration": 0,
               "redraw": false
              },
              "fromcurrent": true,
              "mode": "immediate",
              "transition": {
               "duration": 0,
               "easing": "linear"
              }
             }
            ],
            "label": "2017",
            "method": "animate"
           },
           {
            "args": [
             [
              "2018"
             ],
             {
              "frame": {
               "duration": 0,
               "redraw": false
              },
              "fromcurrent": true,
              "mode": "immediate",
              "transition": {
               "duration": 0,
               "easing": "linear"
              }
             }
            ],
            "label": "2018",
            "method": "animate"
           },
           {
            "args": [
             [
              "2019"
             ],
             {
              "frame": {
               "duration": 0,
               "redraw": false
              },
              "fromcurrent": true,
              "mode": "immediate",
              "transition": {
               "duration": 0,
               "easing": "linear"
              }
             }
            ],
            "label": "2019",
            "method": "animate"
           }
          ],
          "x": 0.1,
          "xanchor": "left",
          "y": 0,
          "yanchor": "top"
         }
        ],
        "template": {
         "data": {
          "bar": [
           {
            "error_x": {
             "color": "#2a3f5f"
            },
            "error_y": {
             "color": "#2a3f5f"
            },
            "marker": {
             "line": {
              "color": "#E5ECF6",
              "width": 0.5
             },
             "pattern": {
              "fillmode": "overlay",
              "size": 10,
              "solidity": 0.2
             }
            },
            "type": "bar"
           }
          ],
          "barpolar": [
           {
            "marker": {
             "line": {
              "color": "#E5ECF6",
              "width": 0.5
             },
             "pattern": {
              "fillmode": "overlay",
              "size": 10,
              "solidity": 0.2
             }
            },
            "type": "barpolar"
           }
          ],
          "carpet": [
           {
            "aaxis": {
             "endlinecolor": "#2a3f5f",
             "gridcolor": "white",
             "linecolor": "white",
             "minorgridcolor": "white",
             "startlinecolor": "#2a3f5f"
            },
            "baxis": {
             "endlinecolor": "#2a3f5f",
             "gridcolor": "white",
             "linecolor": "white",
             "minorgridcolor": "white",
             "startlinecolor": "#2a3f5f"
            },
            "type": "carpet"
           }
          ],
          "choropleth": [
           {
            "colorbar": {
             "outlinewidth": 0,
             "ticks": ""
            },
            "type": "choropleth"
           }
          ],
          "contour": [
           {
            "colorbar": {
             "outlinewidth": 0,
             "ticks": ""
            },
            "colorscale": [
             [
              0,
              "#0d0887"
             ],
             [
              0.1111111111111111,
              "#46039f"
             ],
             [
              0.2222222222222222,
              "#7201a8"
             ],
             [
              0.3333333333333333,
              "#9c179e"
             ],
             [
              0.4444444444444444,
              "#bd3786"
             ],
             [
              0.5555555555555556,
              "#d8576b"
             ],
             [
              0.6666666666666666,
              "#ed7953"
             ],
             [
              0.7777777777777778,
              "#fb9f3a"
             ],
             [
              0.8888888888888888,
              "#fdca26"
             ],
             [
              1,
              "#f0f921"
             ]
            ],
            "type": "contour"
           }
          ],
          "contourcarpet": [
           {
            "colorbar": {
             "outlinewidth": 0,
             "ticks": ""
            },
            "type": "contourcarpet"
           }
          ],
          "heatmap": [
           {
            "colorbar": {
             "outlinewidth": 0,
             "ticks": ""
            },
            "colorscale": [
             [
              0,
              "#0d0887"
             ],
             [
              0.1111111111111111,
              "#46039f"
             ],
             [
              0.2222222222222222,
              "#7201a8"
             ],
             [
              0.3333333333333333,
              "#9c179e"
             ],
             [
              0.4444444444444444,
              "#bd3786"
             ],
             [
              0.5555555555555556,
              "#d8576b"
             ],
             [
              0.6666666666666666,
              "#ed7953"
             ],
             [
              0.7777777777777778,
              "#fb9f3a"
             ],
             [
              0.8888888888888888,
              "#fdca26"
             ],
             [
              1,
              "#f0f921"
             ]
            ],
            "type": "heatmap"
           }
          ],
          "heatmapgl": [
           {
            "colorbar": {
             "outlinewidth": 0,
             "ticks": ""
            },
            "colorscale": [
             [
              0,
              "#0d0887"
             ],
             [
              0.1111111111111111,
              "#46039f"
             ],
             [
              0.2222222222222222,
              "#7201a8"
             ],
             [
              0.3333333333333333,
              "#9c179e"
             ],
             [
              0.4444444444444444,
              "#bd3786"
             ],
             [
              0.5555555555555556,
              "#d8576b"
             ],
             [
              0.6666666666666666,
              "#ed7953"
             ],
             [
              0.7777777777777778,
              "#fb9f3a"
             ],
             [
              0.8888888888888888,
              "#fdca26"
             ],
             [
              1,
              "#f0f921"
             ]
            ],
            "type": "heatmapgl"
           }
          ],
          "histogram": [
           {
            "marker": {
             "pattern": {
              "fillmode": "overlay",
              "size": 10,
              "solidity": 0.2
             }
            },
            "type": "histogram"
           }
          ],
          "histogram2d": [
           {
            "colorbar": {
             "outlinewidth": 0,
             "ticks": ""
            },
            "colorscale": [
             [
              0,
              "#0d0887"
             ],
             [
              0.1111111111111111,
              "#46039f"
             ],
             [
              0.2222222222222222,
              "#7201a8"
             ],
             [
              0.3333333333333333,
              "#9c179e"
             ],
             [
              0.4444444444444444,
              "#bd3786"
             ],
             [
              0.5555555555555556,
              "#d8576b"
             ],
             [
              0.6666666666666666,
              "#ed7953"
             ],
             [
              0.7777777777777778,
              "#fb9f3a"
             ],
             [
              0.8888888888888888,
              "#fdca26"
             ],
             [
              1,
              "#f0f921"
             ]
            ],
            "type": "histogram2d"
           }
          ],
          "histogram2dcontour": [
           {
            "colorbar": {
             "outlinewidth": 0,
             "ticks": ""
            },
            "colorscale": [
             [
              0,
              "#0d0887"
             ],
             [
              0.1111111111111111,
              "#46039f"
             ],
             [
              0.2222222222222222,
              "#7201a8"
             ],
             [
              0.3333333333333333,
              "#9c179e"
             ],
             [
              0.4444444444444444,
              "#bd3786"
             ],
             [
              0.5555555555555556,
              "#d8576b"
             ],
             [
              0.6666666666666666,
              "#ed7953"
             ],
             [
              0.7777777777777778,
              "#fb9f3a"
             ],
             [
              0.8888888888888888,
              "#fdca26"
             ],
             [
              1,
              "#f0f921"
             ]
            ],
            "type": "histogram2dcontour"
           }
          ],
          "mesh3d": [
           {
            "colorbar": {
             "outlinewidth": 0,
             "ticks": ""
            },
            "type": "mesh3d"
           }
          ],
          "parcoords": [
           {
            "line": {
             "colorbar": {
              "outlinewidth": 0,
              "ticks": ""
             }
            },
            "type": "parcoords"
           }
          ],
          "pie": [
           {
            "automargin": true,
            "type": "pie"
           }
          ],
          "scatter": [
           {
            "fillpattern": {
             "fillmode": "overlay",
             "size": 10,
             "solidity": 0.2
            },
            "type": "scatter"
           }
          ],
          "scatter3d": [
           {
            "line": {
             "colorbar": {
              "outlinewidth": 0,
              "ticks": ""
             }
            },
            "marker": {
             "colorbar": {
              "outlinewidth": 0,
              "ticks": ""
             }
            },
            "type": "scatter3d"
           }
          ],
          "scattercarpet": [
           {
            "marker": {
             "colorbar": {
              "outlinewidth": 0,
              "ticks": ""
             }
            },
            "type": "scattercarpet"
           }
          ],
          "scattergeo": [
           {
            "marker": {
             "colorbar": {
              "outlinewidth": 0,
              "ticks": ""
             }
            },
            "type": "scattergeo"
           }
          ],
          "scattergl": [
           {
            "marker": {
             "colorbar": {
              "outlinewidth": 0,
              "ticks": ""
             }
            },
            "type": "scattergl"
           }
          ],
          "scattermapbox": [
           {
            "marker": {
             "colorbar": {
              "outlinewidth": 0,
              "ticks": ""
             }
            },
            "type": "scattermapbox"
           }
          ],
          "scatterpolar": [
           {
            "marker": {
             "colorbar": {
              "outlinewidth": 0,
              "ticks": ""
             }
            },
            "type": "scatterpolar"
           }
          ],
          "scatterpolargl": [
           {
            "marker": {
             "colorbar": {
              "outlinewidth": 0,
              "ticks": ""
             }
            },
            "type": "scatterpolargl"
           }
          ],
          "scatterternary": [
           {
            "marker": {
             "colorbar": {
              "outlinewidth": 0,
              "ticks": ""
             }
            },
            "type": "scatterternary"
           }
          ],
          "surface": [
           {
            "colorbar": {
             "outlinewidth": 0,
             "ticks": ""
            },
            "colorscale": [
             [
              0,
              "#0d0887"
             ],
             [
              0.1111111111111111,
              "#46039f"
             ],
             [
              0.2222222222222222,
              "#7201a8"
             ],
             [
              0.3333333333333333,
              "#9c179e"
             ],
             [
              0.4444444444444444,
              "#bd3786"
             ],
             [
              0.5555555555555556,
              "#d8576b"
             ],
             [
              0.6666666666666666,
              "#ed7953"
             ],
             [
              0.7777777777777778,
              "#fb9f3a"
             ],
             [
              0.8888888888888888,
              "#fdca26"
             ],
             [
              1,
              "#f0f921"
             ]
            ],
            "type": "surface"
           }
          ],
          "table": [
           {
            "cells": {
             "fill": {
              "color": "#EBF0F8"
             },
             "line": {
              "color": "white"
             }
            },
            "header": {
             "fill": {
              "color": "#C8D4E3"
             },
             "line": {
              "color": "white"
             }
            },
            "type": "table"
           }
          ]
         },
         "layout": {
          "annotationdefaults": {
           "arrowcolor": "#2a3f5f",
           "arrowhead": 0,
           "arrowwidth": 1
          },
          "autotypenumbers": "strict",
          "coloraxis": {
           "colorbar": {
            "outlinewidth": 0,
            "ticks": ""
           }
          },
          "colorscale": {
           "diverging": [
            [
             0,
             "#8e0152"
            ],
            [
             0.1,
             "#c51b7d"
            ],
            [
             0.2,
             "#de77ae"
            ],
            [
             0.3,
             "#f1b6da"
            ],
            [
             0.4,
             "#fde0ef"
            ],
            [
             0.5,
             "#f7f7f7"
            ],
            [
             0.6,
             "#e6f5d0"
            ],
            [
             0.7,
             "#b8e186"
            ],
            [
             0.8,
             "#7fbc41"
            ],
            [
             0.9,
             "#4d9221"
            ],
            [
             1,
             "#276419"
            ]
           ],
           "sequential": [
            [
             0,
             "#0d0887"
            ],
            [
             0.1111111111111111,
             "#46039f"
            ],
            [
             0.2222222222222222,
             "#7201a8"
            ],
            [
             0.3333333333333333,
             "#9c179e"
            ],
            [
             0.4444444444444444,
             "#bd3786"
            ],
            [
             0.5555555555555556,
             "#d8576b"
            ],
            [
             0.6666666666666666,
             "#ed7953"
            ],
            [
             0.7777777777777778,
             "#fb9f3a"
            ],
            [
             0.8888888888888888,
             "#fdca26"
            ],
            [
             1,
             "#f0f921"
            ]
           ],
           "sequentialminus": [
            [
             0,
             "#0d0887"
            ],
            [
             0.1111111111111111,
             "#46039f"
            ],
            [
             0.2222222222222222,
             "#7201a8"
            ],
            [
             0.3333333333333333,
             "#9c179e"
            ],
            [
             0.4444444444444444,
             "#bd3786"
            ],
            [
             0.5555555555555556,
             "#d8576b"
            ],
            [
             0.6666666666666666,
             "#ed7953"
            ],
            [
             0.7777777777777778,
             "#fb9f3a"
            ],
            [
             0.8888888888888888,
             "#fdca26"
            ],
            [
             1,
             "#f0f921"
            ]
           ]
          },
          "colorway": [
           "#636efa",
           "#EF553B",
           "#00cc96",
           "#ab63fa",
           "#FFA15A",
           "#19d3f3",
           "#FF6692",
           "#B6E880",
           "#FF97FF",
           "#FECB52"
          ],
          "font": {
           "color": "#2a3f5f"
          },
          "geo": {
           "bgcolor": "white",
           "lakecolor": "white",
           "landcolor": "#E5ECF6",
           "showlakes": true,
           "showland": true,
           "subunitcolor": "white"
          },
          "hoverlabel": {
           "align": "left"
          },
          "hovermode": "closest",
          "mapbox": {
           "style": "light"
          },
          "paper_bgcolor": "white",
          "plot_bgcolor": "#E5ECF6",
          "polar": {
           "angularaxis": {
            "gridcolor": "white",
            "linecolor": "white",
            "ticks": ""
           },
           "bgcolor": "#E5ECF6",
           "radialaxis": {
            "gridcolor": "white",
            "linecolor": "white",
            "ticks": ""
           }
          },
          "scene": {
           "xaxis": {
            "backgroundcolor": "#E5ECF6",
            "gridcolor": "white",
            "gridwidth": 2,
            "linecolor": "white",
            "showbackground": true,
            "ticks": "",
            "zerolinecolor": "white"
           },
           "yaxis": {
            "backgroundcolor": "#E5ECF6",
            "gridcolor": "white",
            "gridwidth": 2,
            "linecolor": "white",
            "showbackground": true,
            "ticks": "",
            "zerolinecolor": "white"
           },
           "zaxis": {
            "backgroundcolor": "#E5ECF6",
            "gridcolor": "white",
            "gridwidth": 2,
            "linecolor": "white",
            "showbackground": true,
            "ticks": "",
            "zerolinecolor": "white"
           }
          },
          "shapedefaults": {
           "line": {
            "color": "#2a3f5f"
           }
          },
          "ternary": {
           "aaxis": {
            "gridcolor": "white",
            "linecolor": "white",
            "ticks": ""
           },
           "baxis": {
            "gridcolor": "white",
            "linecolor": "white",
            "ticks": ""
           },
           "bgcolor": "#E5ECF6",
           "caxis": {
            "gridcolor": "white",
            "linecolor": "white",
            "ticks": ""
           }
          },
          "title": {
           "x": 0.05
          },
          "xaxis": {
           "automargin": true,
           "gridcolor": "white",
           "linecolor": "white",
           "ticks": "",
           "title": {
            "standoff": 15
           },
           "zerolinecolor": "white",
           "zerolinewidth": 2
          },
          "yaxis": {
           "automargin": true,
           "gridcolor": "white",
           "linecolor": "white",
           "ticks": "",
           "title": {
            "standoff": 15
           },
           "zerolinecolor": "white",
           "zerolinewidth": 2
          }
         }
        },
        "title": {
         "text": "Air Passenger Volumes vs Distance Between City Pairs (2016-2019)"
        },
        "updatemenus": [
         {
          "buttons": [
           {
            "args": [
             null,
             {
              "frame": {
               "duration": 500,
               "redraw": false
              },
              "fromcurrent": true,
              "mode": "immediate",
              "transition": {
               "duration": 500,
               "easing": "linear"
              }
             }
            ],
            "label": "&#9654;",
            "method": "animate"
           },
           {
            "args": [
             [
              null
             ],
             {
              "frame": {
               "duration": 0,
               "redraw": false
              },
              "fromcurrent": true,
              "mode": "immediate",
              "transition": {
               "duration": 0,
               "easing": "linear"
              }
             }
            ],
            "label": "&#9724;",
            "method": "animate"
           }
          ],
          "direction": "left",
          "pad": {
           "r": 10,
           "t": 70
          },
          "showactive": false,
          "type": "buttons",
          "x": 0.1,
          "xanchor": "right",
          "y": 0,
          "yanchor": "top"
         }
        ],
        "xaxis": {
         "anchor": "y",
         "domain": [
          0,
          1
         ],
         "title": {
          "text": "Distance (km)"
         }
        },
        "yaxis": {
         "anchor": "x",
         "domain": [
          0,
          1
         ],
         "title": {
          "text": "Total Yearly Passengers"
         }
        }
       }
      }
     },
     "metadata": {},
     "output_type": "display_data"
    }
   ],
   "source": [
    "# Creating list to store yearly dataFrames\n",
    "sheets = ['2016', '2017', '2018', '2019']\n",
    "data_frames = []\n",
    "\n",
    "# Loop through each sheet, add a 'Year' column, and append it to data_frames list\n",
    "for sheet in sheets:\n",
    "    df = pd.read_excel(file_path, sheet_name=sheet)\n",
    "    df['Year'] = sheet  # Add a Year column for each DataFrame\n",
    "    data_frames.append(df)\n",
    "\n",
    "# Concatenate all data into a single DataFrame\n",
    "df_all = pd.concat(data_frames, ignore_index=True)\n",
    "\n",
    "# Concatenate all data into a single DataFrame\n",
    "df_all = pd.concat(data_frames, ignore_index=True)\n",
    "\n",
    "# Convert Distance from meters to kilometers\n",
    "df_all['Distance'] = df_all['Distance'] / 1000\n",
    "\n",
    "# Extract relevant columns using the actual column names in the file\n",
    "df_all = df_all[['Total passengers', 'NUTS_3_code_A', 'NUTS_3_code_B', 'Distance', 'Year', 'City_A_Name', 'City_B_Name', 'has_connection']]\n",
    "\n",
    "# Combining city names for the custom hover name\n",
    "df_all['City_Pair'] = df_all['City_A_Name'] + \" & \" + df_all['City_B_Name']\n",
    "\n",
    "# Converts \"has_connection\" column to string for plotly express will see it as a binary option (not continuous\n",
    "df_all['has_connection'] = df_all['has_connection'].astype(str)\n",
    "\n",
    "# Filter to Top 50 Total passenger volumes\n",
    "df_all = df_all.sort_values(by='Total passengers', ascending=False).groupby('Year').head(100)\n",
    "\n",
    "# Sorting year slider in ascending order, aka making sure the slider is correctly laid out\n",
    "df_all = df_all.sort_values(by=['Year', 'Total passengers'], ascending=[True, False])\n",
    "\n",
    "# Map the 'has_connection' column to specific colors (why isn't the red showing up??)\n",
    "color_map = {'0': 'blue', '1': '#F31F1F'} # Medium-dark red for 1\n",
    "\n",
    "# Create a scatter plot using Plotly Express\n",
    "fig = px.scatter(\n",
    "    df_all,\n",
    "    x='Distance',\n",
    "    y='Total passengers',\n",
    "    color = 'has_connection',\n",
    "    color_discrete_map = color_map,\n",
    "    animation_frame='Year',\n",
    "    hover_name='City_Pair',\n",
    "   hover_data={'NUTS_3_code_A': True, 'NUTS_3_code_B': True, 'Distance': True, 'Total passengers': True, 'Year': False,'City_A_Name': False, 'City_B_Name': False},\n",
    "    title=\"Air Passenger Volumes vs Distance Between City Pairs (2016-2019)\",\n",
    "    labels={\"Distance\": \"Distance (km)\", \"Total passengers\": \"Total Yearly Passengers\"},\n",
    ")\n",
    "\n",
    "# Update hover template to show City Pair with custom text\n",
    "fig.update_traces(hovertemplate=\"<br>\".join([\n",
    "    \"City Pair: %{hovertext}\",\n",
    "    \"Distance: %{x} km\",\n",
    "    \"Passengers: %{y}\"\n",
    "]))\n",
    "# Ensure Legend Displays as Binary (0 and 1)\n",
    "fig.update_layout(legend_title_text='HSR Connection Status')\n",
    "\n",
    "# Update legend to rename \"0\" to \"No pre-existing connection\" and \"1\" to \"Already connected\"\n",
    "fig.for_each_trace(lambda t: t.update(name=\"No pre-existing connection\" if t.name == \"0\" else \"Already connected\"))\n",
    "\n",
    "\n",
    "fig.show()\n",
    "\n",
    "## Note: Paris to tolouse has a TGV connection?"
   ]
  }
 ],
 "metadata": {
  "kernelspec": {
   "display_name": "TIL6022",
   "language": "python",
   "name": "python3"
  },
  "language_info": {
   "codemirror_mode": {
    "name": "ipython",
    "version": 3
   },
   "file_extension": ".py",
   "mimetype": "text/x-python",
   "name": "python",
   "nbconvert_exporter": "python",
   "pygments_lexer": "ipython3",
   "version": "3.12.5"
  }
 },
 "nbformat": 4,
 "nbformat_minor": 2
}
