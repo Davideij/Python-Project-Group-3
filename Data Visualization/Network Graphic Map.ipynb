{
 "cells": [
  {
   "cell_type": "code",
   "execution_count": 2,
   "metadata": {},
   "outputs": [],
   "source": [
    "from geopy.geocoders import Nominatim\n",
    "from geopy.extra.rate_limiter import RateLimiter\n",
    "import pandas as pd\n",
    "import plotly_express as px"
   ]
  },
  {
   "cell_type": "code",
   "execution_count": null,
   "metadata": {},
   "outputs": [],
   "source": [
    "population_filepath = 'https://raw.githubusercontent.com/Davideij/Python-Project-Group-3/main/Data/AirportCodes_Cities_NUTS_Population.xlsx'\n",
    "population = pd.read_excel(population_filepath)"
   ]
  },
  {
   "cell_type": "code",
   "execution_count": null,
   "metadata": {},
   "outputs": [
    {
     "name": "stdout",
     "output_type": "stream",
     "text": [
      "['2016' '2017' '2018' '2019']\n"
     ]
    },
    {
     "data": {
      "text/html": [
       "<div>\n",
       "<style scoped>\n",
       "    .dataframe tbody tr th:only-of-type {\n",
       "        vertical-align: middle;\n",
       "    }\n",
       "\n",
       "    .dataframe tbody tr th {\n",
       "        vertical-align: top;\n",
       "    }\n",
       "\n",
       "    .dataframe thead th {\n",
       "        text-align: right;\n",
       "    }\n",
       "</style>\n",
       "<table border=\"1\" class=\"dataframe\">\n",
       "  <thead>\n",
       "    <tr style=\"text-align: right;\">\n",
       "      <th></th>\n",
       "      <th>City_A_Name</th>\n",
       "      <th>City_B_Name</th>\n",
       "      <th>City_A</th>\n",
       "      <th>City_B</th>\n",
       "      <th>Total passengers</th>\n",
       "      <th>NUTS_3_code_A</th>\n",
       "      <th>NUTS_3_code_B</th>\n",
       "      <th>Distance</th>\n",
       "      <th>has_connection</th>\n",
       "      <th>Year</th>\n",
       "    </tr>\n",
       "  </thead>\n",
       "  <tbody>\n",
       "    <tr>\n",
       "      <th>0</th>\n",
       "      <td>Paris</td>\n",
       "      <td>Toulouse</td>\n",
       "      <td>LFPO</td>\n",
       "      <td>LFBO</td>\n",
       "      <td>4716804</td>\n",
       "      <td>FR107</td>\n",
       "      <td>FRJ23</td>\n",
       "      <td>6.106723e+05</td>\n",
       "      <td>0</td>\n",
       "      <td>2016</td>\n",
       "    </tr>\n",
       "    <tr>\n",
       "      <th>1</th>\n",
       "      <td>Barcelona</td>\n",
       "      <td>Madrid</td>\n",
       "      <td>LEBL</td>\n",
       "      <td>LEMD</td>\n",
       "      <td>4657590</td>\n",
       "      <td>ES511</td>\n",
       "      <td>ES300</td>\n",
       "      <td>4.967448e+05</td>\n",
       "      <td>1</td>\n",
       "      <td>2016</td>\n",
       "    </tr>\n",
       "    <tr>\n",
       "      <th>2</th>\n",
       "      <td>Nice</td>\n",
       "      <td>Paris</td>\n",
       "      <td>LFMN</td>\n",
       "      <td>LFPO</td>\n",
       "      <td>4249404</td>\n",
       "      <td>FRL03</td>\n",
       "      <td>FR107</td>\n",
       "      <td>6.453768e+05</td>\n",
       "      <td>0</td>\n",
       "      <td>2016</td>\n",
       "    </tr>\n",
       "    <tr>\n",
       "      <th>3</th>\n",
       "      <td>Berlin</td>\n",
       "      <td>Munich</td>\n",
       "      <td>EDDT</td>\n",
       "      <td>EDDM</td>\n",
       "      <td>3878625</td>\n",
       "      <td>DE300</td>\n",
       "      <td>DE212</td>\n",
       "      <td>5.010312e+05</td>\n",
       "      <td>0</td>\n",
       "      <td>2016</td>\n",
       "    </tr>\n",
       "    <tr>\n",
       "      <th>4</th>\n",
       "      <td>Berlin</td>\n",
       "      <td>Frankfurt</td>\n",
       "      <td>EDDT</td>\n",
       "      <td>EDDF</td>\n",
       "      <td>3869795</td>\n",
       "      <td>DE300</td>\n",
       "      <td>DE712</td>\n",
       "      <td>4.236867e+05</td>\n",
       "      <td>0</td>\n",
       "      <td>2016</td>\n",
       "    </tr>\n",
       "    <tr>\n",
       "      <th>...</th>\n",
       "      <td>...</td>\n",
       "      <td>...</td>\n",
       "      <td>...</td>\n",
       "      <td>...</td>\n",
       "      <td>...</td>\n",
       "      <td>...</td>\n",
       "      <td>...</td>\n",
       "      <td>...</td>\n",
       "      <td>...</td>\n",
       "      <td>...</td>\n",
       "    </tr>\n",
       "    <tr>\n",
       "      <th>718</th>\n",
       "      <td>DÃ¼sseldorf</td>\n",
       "      <td>Friedrichshafen</td>\n",
       "      <td>EDDL</td>\n",
       "      <td>EDNY</td>\n",
       "      <td>15529</td>\n",
       "      <td>DEA11</td>\n",
       "      <td>DE147</td>\n",
       "      <td>4.336239e+05</td>\n",
       "      <td>0</td>\n",
       "      <td>2019</td>\n",
       "    </tr>\n",
       "    <tr>\n",
       "      <th>719</th>\n",
       "      <td>Groningen</td>\n",
       "      <td>Tenerife South</td>\n",
       "      <td>EHGG</td>\n",
       "      <td>GCTS</td>\n",
       "      <td>13734</td>\n",
       "      <td>NL111</td>\n",
       "      <td>ES709</td>\n",
       "      <td>3.366764e+06</td>\n",
       "      <td>0</td>\n",
       "      <td>2019</td>\n",
       "    </tr>\n",
       "    <tr>\n",
       "      <th>720</th>\n",
       "      <td>Liege</td>\n",
       "      <td>Palma de Mallorca</td>\n",
       "      <td>EBLG</td>\n",
       "      <td>LEPA</td>\n",
       "      <td>12985</td>\n",
       "      <td>BE332</td>\n",
       "      <td>ES532</td>\n",
       "      <td>1.240433e+06</td>\n",
       "      <td>0</td>\n",
       "      <td>2019</td>\n",
       "    </tr>\n",
       "    <tr>\n",
       "      <th>721</th>\n",
       "      <td>Limoges</td>\n",
       "      <td>Paris</td>\n",
       "      <td>LFBL</td>\n",
       "      <td>LFPO</td>\n",
       "      <td>10925</td>\n",
       "      <td>FRI23</td>\n",
       "      <td>FR107</td>\n",
       "      <td>3.339321e+05</td>\n",
       "      <td>0</td>\n",
       "      <td>2019</td>\n",
       "    </tr>\n",
       "    <tr>\n",
       "      <th>722</th>\n",
       "      <td>Antwerp</td>\n",
       "      <td>Ibiza</td>\n",
       "      <td>EBAW</td>\n",
       "      <td>LEIB</td>\n",
       "      <td>10887</td>\n",
       "      <td>BE211</td>\n",
       "      <td>ES531</td>\n",
       "      <td>1.388385e+06</td>\n",
       "      <td>0</td>\n",
       "      <td>2019</td>\n",
       "    </tr>\n",
       "  </tbody>\n",
       "</table>\n",
       "<p>2882 rows × 10 columns</p>\n",
       "</div>"
      ],
      "text/plain": [
       "     City_A_Name        City_B_Name City_A City_B  Total passengers  \\\n",
       "0          Paris           Toulouse   LFPO   LFBO           4716804   \n",
       "1      Barcelona             Madrid   LEBL   LEMD           4657590   \n",
       "2           Nice              Paris   LFMN   LFPO           4249404   \n",
       "3         Berlin             Munich   EDDT   EDDM           3878625   \n",
       "4         Berlin          Frankfurt   EDDT   EDDF           3869795   \n",
       "..           ...                ...    ...    ...               ...   \n",
       "718  DÃ¼sseldorf    Friedrichshafen   EDDL   EDNY             15529   \n",
       "719    Groningen     Tenerife South   EHGG   GCTS             13734   \n",
       "720        Liege  Palma de Mallorca   EBLG   LEPA             12985   \n",
       "721      Limoges              Paris   LFBL   LFPO             10925   \n",
       "722      Antwerp              Ibiza   EBAW   LEIB             10887   \n",
       "\n",
       "    NUTS_3_code_A NUTS_3_code_B      Distance  has_connection  Year  \n",
       "0           FR107         FRJ23  6.106723e+05               0  2016  \n",
       "1           ES511         ES300  4.967448e+05               1  2016  \n",
       "2           FRL03         FR107  6.453768e+05               0  2016  \n",
       "3           DE300         DE212  5.010312e+05               0  2016  \n",
       "4           DE300         DE712  4.236867e+05               0  2016  \n",
       "..            ...           ...           ...             ...   ...  \n",
       "718         DEA11         DE147  4.336239e+05               0  2019  \n",
       "719         NL111         ES709  3.366764e+06               0  2019  \n",
       "720         BE332         ES532  1.240433e+06               0  2019  \n",
       "721         FRI23         FR107  3.339321e+05               0  2019  \n",
       "722         BE211         ES531  1.388385e+06               0  2019  \n",
       "\n",
       "[2882 rows x 10 columns]"
      ]
     },
     "execution_count": 4,
     "metadata": {},
     "output_type": "execute_result"
    }
   ],
   "source": [
    "# Load the City Pairs data\n",
    "city_pairs_filepath = 'https://raw.githubusercontent.com/Davideij/Python-Project-Group-3/main/Data/CITIES_FINAL.xlsx'\n",
    "city_pairs_file = pd.read_excel(city_pairs_filepath, sheet_name=None)\n",
    "\n",
    "# Merge the excel tabs into one data frame\n",
    "city_pairs = pd.DataFrame()\n",
    "\n",
    "for sheet_name, frame in city_pairs_file.items():\n",
    "    frame[\"Year\"] = sheet_name\n",
    "\n",
    "    city_pairs = pd.concat([city_pairs,frame])\n",
    "\n",
    "# Confirm that all unique names of the tabs have been added to the year column\n",
    "print(city_pairs.Year.unique())\n",
    "\n",
    "city_pairs"
   ]
  },
  {
   "cell_type": "code",
   "execution_count": 6,
   "metadata": {},
   "outputs": [
    {
     "data": {
      "text/html": [
       "<div>\n",
       "<style scoped>\n",
       "    .dataframe tbody tr th:only-of-type {\n",
       "        vertical-align: middle;\n",
       "    }\n",
       "\n",
       "    .dataframe tbody tr th {\n",
       "        vertical-align: top;\n",
       "    }\n",
       "\n",
       "    .dataframe thead th {\n",
       "        text-align: right;\n",
       "    }\n",
       "</style>\n",
       "<table border=\"1\" class=\"dataframe\">\n",
       "  <thead>\n",
       "    <tr style=\"text-align: right;\">\n",
       "      <th></th>\n",
       "      <th>Unnamed: 0</th>\n",
       "      <th>Airport Code</th>\n",
       "      <th>NUTS_3_code</th>\n",
       "      <th>City</th>\n",
       "      <th>Country</th>\n",
       "      <th>1990</th>\n",
       "      <th>1991</th>\n",
       "      <th>1992</th>\n",
       "      <th>1993</th>\n",
       "      <th>1994</th>\n",
       "      <th>...</th>\n",
       "      <th>2016</th>\n",
       "      <th>2017</th>\n",
       "      <th>2018</th>\n",
       "      <th>2019</th>\n",
       "      <th>2020</th>\n",
       "      <th>2021</th>\n",
       "      <th>2022</th>\n",
       "      <th>2023</th>\n",
       "      <th>Latitude</th>\n",
       "      <th>Longitude</th>\n",
       "    </tr>\n",
       "  </thead>\n",
       "  <tbody>\n",
       "    <tr>\n",
       "      <th>0</th>\n",
       "      <td>0</td>\n",
       "      <td>EBAW</td>\n",
       "      <td>BE211</td>\n",
       "      <td>Antwerp</td>\n",
       "      <td>Belgium</td>\n",
       "      <td>:</td>\n",
       "      <td>:</td>\n",
       "      <td>:</td>\n",
       "      <td>:</td>\n",
       "      <td>:</td>\n",
       "      <td>...</td>\n",
       "      <td>1036031</td>\n",
       "      <td>1041811</td>\n",
       "      <td>1047030</td>\n",
       "      <td>1053033</td>\n",
       "      <td>1059946</td>\n",
       "      <td>1062427</td>\n",
       "      <td>1067117</td>\n",
       "      <td>1081771</td>\n",
       "      <td>51.221110</td>\n",
       "      <td>4.399708</td>\n",
       "    </tr>\n",
       "    <tr>\n",
       "      <th>1</th>\n",
       "      <td>1</td>\n",
       "      <td>EBBR</td>\n",
       "      <td>BE100</td>\n",
       "      <td>Brussels</td>\n",
       "      <td>Belgium</td>\n",
       "      <td>:</td>\n",
       "      <td>:</td>\n",
       "      <td>:</td>\n",
       "      <td>:</td>\n",
       "      <td>:</td>\n",
       "      <td>...</td>\n",
       "      <td>1201285</td>\n",
       "      <td>1199095</td>\n",
       "      <td>1205492</td>\n",
       "      <td>1215289</td>\n",
       "      <td>1223364</td>\n",
       "      <td>1226329</td>\n",
       "      <td>1228655</td>\n",
       "      <td>1253178</td>\n",
       "      <td>50.846557</td>\n",
       "      <td>4.351697</td>\n",
       "    </tr>\n",
       "    <tr>\n",
       "      <th>2</th>\n",
       "      <td>2</td>\n",
       "      <td>EBCI</td>\n",
       "      <td>BE322</td>\n",
       "      <td>Charleroi</td>\n",
       "      <td>Belgium</td>\n",
       "      <td>:</td>\n",
       "      <td>:</td>\n",
       "      <td>:</td>\n",
       "      <td>:</td>\n",
       "      <td>:</td>\n",
       "      <td>...</td>\n",
       "      <td>431693</td>\n",
       "      <td>431043</td>\n",
       "      <td>431398</td>\n",
       "      <td>431879</td>\n",
       "      <td>432660</td>\n",
       "      <td>:</td>\n",
       "      <td>:</td>\n",
       "      <td>:</td>\n",
       "      <td>50.411623</td>\n",
       "      <td>4.444528</td>\n",
       "    </tr>\n",
       "    <tr>\n",
       "      <th>3</th>\n",
       "      <td>3</td>\n",
       "      <td>EBLG</td>\n",
       "      <td>BE332</td>\n",
       "      <td>Liege</td>\n",
       "      <td>Belgium</td>\n",
       "      <td>:</td>\n",
       "      <td>:</td>\n",
       "      <td>:</td>\n",
       "      <td>:</td>\n",
       "      <td>:</td>\n",
       "      <td>...</td>\n",
       "      <td>623887</td>\n",
       "      <td>625131</td>\n",
       "      <td>626222</td>\n",
       "      <td>626627</td>\n",
       "      <td>628363</td>\n",
       "      <td>627304</td>\n",
       "      <td>628067</td>\n",
       "      <td>630743</td>\n",
       "      <td>50.470816</td>\n",
       "      <td>5.773546</td>\n",
       "    </tr>\n",
       "    <tr>\n",
       "      <th>4</th>\n",
       "      <td>4</td>\n",
       "      <td>EBOS</td>\n",
       "      <td>BE255</td>\n",
       "      <td>Ostend</td>\n",
       "      <td>Belgium</td>\n",
       "      <td>:</td>\n",
       "      <td>:</td>\n",
       "      <td>:</td>\n",
       "      <td>:</td>\n",
       "      <td>:</td>\n",
       "      <td>...</td>\n",
       "      <td>155256</td>\n",
       "      <td>155982</td>\n",
       "      <td>156638</td>\n",
       "      <td>157293</td>\n",
       "      <td>157925</td>\n",
       "      <td>158320</td>\n",
       "      <td>158339</td>\n",
       "      <td>159568</td>\n",
       "      <td>51.225856</td>\n",
       "      <td>2.919496</td>\n",
       "    </tr>\n",
       "    <tr>\n",
       "      <th>...</th>\n",
       "      <td>...</td>\n",
       "      <td>...</td>\n",
       "      <td>...</td>\n",
       "      <td>...</td>\n",
       "      <td>...</td>\n",
       "      <td>...</td>\n",
       "      <td>...</td>\n",
       "      <td>...</td>\n",
       "      <td>...</td>\n",
       "      <td>...</td>\n",
       "      <td>...</td>\n",
       "      <td>...</td>\n",
       "      <td>...</td>\n",
       "      <td>...</td>\n",
       "      <td>...</td>\n",
       "      <td>...</td>\n",
       "      <td>...</td>\n",
       "      <td>...</td>\n",
       "      <td>...</td>\n",
       "      <td>...</td>\n",
       "      <td>...</td>\n",
       "    </tr>\n",
       "    <tr>\n",
       "      <th>99</th>\n",
       "      <td>99</td>\n",
       "      <td>LFRS</td>\n",
       "      <td>FRG01</td>\n",
       "      <td>Nantes</td>\n",
       "      <td>France</td>\n",
       "      <td>1050539</td>\n",
       "      <td>1058966</td>\n",
       "      <td>1068983</td>\n",
       "      <td>1079601</td>\n",
       "      <td>1087854</td>\n",
       "      <td>...</td>\n",
       "      <td>1380852</td>\n",
       "      <td>1394909</td>\n",
       "      <td>1412502</td>\n",
       "      <td>1429272</td>\n",
       "      <td>1445171</td>\n",
       "      <td>1457806</td>\n",
       "      <td>1473637</td>\n",
       "      <td>1488876</td>\n",
       "      <td>47.218637</td>\n",
       "      <td>-1.554136</td>\n",
       "    </tr>\n",
       "    <tr>\n",
       "      <th>100</th>\n",
       "      <td>100</td>\n",
       "      <td>LFSB</td>\n",
       "      <td>FRF12</td>\n",
       "      <td>Basel/Mulhouse</td>\n",
       "      <td>France/Switzerland</td>\n",
       "      <td>670652</td>\n",
       "      <td>675110</td>\n",
       "      <td>679085</td>\n",
       "      <td>684357</td>\n",
       "      <td>688363</td>\n",
       "      <td>...</td>\n",
       "      <td>762743</td>\n",
       "      <td>764030</td>\n",
       "      <td>764981</td>\n",
       "      <td>767086</td>\n",
       "      <td>767842</td>\n",
       "      <td>767083</td>\n",
       "      <td>767909</td>\n",
       "      <td>768372</td>\n",
       "      <td>NaN</td>\n",
       "      <td>NaN</td>\n",
       "    </tr>\n",
       "    <tr>\n",
       "      <th>101</th>\n",
       "      <td>101</td>\n",
       "      <td>LFST</td>\n",
       "      <td>FRF11</td>\n",
       "      <td>Strasbourg</td>\n",
       "      <td>France</td>\n",
       "      <td>952158</td>\n",
       "      <td>960320</td>\n",
       "      <td>968879</td>\n",
       "      <td>978610</td>\n",
       "      <td>987370</td>\n",
       "      <td>...</td>\n",
       "      <td>1121407</td>\n",
       "      <td>1125559</td>\n",
       "      <td>1133552</td>\n",
       "      <td>1140057</td>\n",
       "      <td>1148073</td>\n",
       "      <td>1152662</td>\n",
       "      <td>1158915</td>\n",
       "      <td>1164485</td>\n",
       "      <td>48.584614</td>\n",
       "      <td>7.750713</td>\n",
       "    </tr>\n",
       "    <tr>\n",
       "      <th>102</th>\n",
       "      <td>102</td>\n",
       "      <td>LFTH</td>\n",
       "      <td>FRL05</td>\n",
       "      <td>Toulon</td>\n",
       "      <td>France</td>\n",
       "      <td>815714</td>\n",
       "      <td>825813</td>\n",
       "      <td>837166</td>\n",
       "      <td>846896</td>\n",
       "      <td>856303</td>\n",
       "      <td>...</td>\n",
       "      <td>1055821</td>\n",
       "      <td>1058740</td>\n",
       "      <td>1067697</td>\n",
       "      <td>1076711</td>\n",
       "      <td>1085189</td>\n",
       "      <td>1095337</td>\n",
       "      <td>1103664</td>\n",
       "      <td>1112421</td>\n",
       "      <td>43.125731</td>\n",
       "      <td>5.930492</td>\n",
       "    </tr>\n",
       "    <tr>\n",
       "      <th>103</th>\n",
       "      <td>103</td>\n",
       "      <td>LFTW</td>\n",
       "      <td>FRJ12</td>\n",
       "      <td>Nimes</td>\n",
       "      <td>France</td>\n",
       "      <td>584982</td>\n",
       "      <td>588745</td>\n",
       "      <td>593423</td>\n",
       "      <td>598655</td>\n",
       "      <td>602896</td>\n",
       "      <td>...</td>\n",
       "      <td>742006</td>\n",
       "      <td>744178</td>\n",
       "      <td>745458</td>\n",
       "      <td>748437</td>\n",
       "      <td>751457</td>\n",
       "      <td>756543</td>\n",
       "      <td>759973</td>\n",
       "      <td>763311</td>\n",
       "      <td>43.837425</td>\n",
       "      <td>4.360069</td>\n",
       "    </tr>\n",
       "  </tbody>\n",
       "</table>\n",
       "<p>104 rows × 41 columns</p>\n",
       "</div>"
      ],
      "text/plain": [
       "     Unnamed: 0 Airport Code NUTS_3_code            City             Country  \\\n",
       "0             0         EBAW       BE211         Antwerp             Belgium   \n",
       "1             1         EBBR       BE100        Brussels             Belgium   \n",
       "2             2         EBCI       BE322       Charleroi             Belgium   \n",
       "3             3         EBLG       BE332           Liege             Belgium   \n",
       "4             4         EBOS       BE255          Ostend             Belgium   \n",
       "..          ...          ...         ...             ...                 ...   \n",
       "99           99         LFRS       FRG01          Nantes              France   \n",
       "100         100         LFSB       FRF12  Basel/Mulhouse  France/Switzerland   \n",
       "101         101         LFST       FRF11      Strasbourg              France   \n",
       "102         102         LFTH       FRL05          Toulon              France   \n",
       "103         103         LFTW       FRJ12           Nimes              France   \n",
       "\n",
       "        1990     1991     1992     1993     1994  ...     2016     2017  \\\n",
       "0          :        :        :        :        :  ...  1036031  1041811   \n",
       "1          :        :        :        :        :  ...  1201285  1199095   \n",
       "2          :        :        :        :        :  ...   431693   431043   \n",
       "3          :        :        :        :        :  ...   623887   625131   \n",
       "4          :        :        :        :        :  ...   155256   155982   \n",
       "..       ...      ...      ...      ...      ...  ...      ...      ...   \n",
       "99   1050539  1058966  1068983  1079601  1087854  ...  1380852  1394909   \n",
       "100   670652   675110   679085   684357   688363  ...   762743   764030   \n",
       "101   952158   960320   968879   978610   987370  ...  1121407  1125559   \n",
       "102   815714   825813   837166   846896   856303  ...  1055821  1058740   \n",
       "103   584982   588745   593423   598655   602896  ...   742006   744178   \n",
       "\n",
       "        2018     2019     2020     2021     2022     2023   Latitude Longitude  \n",
       "0    1047030  1053033  1059946  1062427  1067117  1081771  51.221110  4.399708  \n",
       "1    1205492  1215289  1223364  1226329  1228655  1253178  50.846557  4.351697  \n",
       "2     431398   431879   432660        :        :        :  50.411623  4.444528  \n",
       "3     626222   626627   628363   627304   628067   630743  50.470816  5.773546  \n",
       "4     156638   157293   157925   158320   158339   159568  51.225856  2.919496  \n",
       "..       ...      ...      ...      ...      ...      ...        ...       ...  \n",
       "99   1412502  1429272  1445171  1457806  1473637  1488876  47.218637 -1.554136  \n",
       "100   764981   767086   767842   767083   767909   768372        NaN       NaN  \n",
       "101  1133552  1140057  1148073  1152662  1158915  1164485  48.584614  7.750713  \n",
       "102  1067697  1076711  1085189  1095337  1103664  1112421  43.125731  5.930492  \n",
       "103   745458   748437   751457   756543   759973   763311  43.837425  4.360069  \n",
       "\n",
       "[104 rows x 41 columns]"
      ]
     },
     "execution_count": 6,
     "metadata": {},
     "output_type": "execute_result"
    }
   ],
   "source": [
    "# Initialize the geolocator\n",
    "geolocator = Nominatim(user_agent=\"JohnDoe\")\n",
    "\n",
    "# Add a rate limiter to avoid exceeding the rate limits\n",
    "geocode = RateLimiter(geolocator.geocode, min_delay_seconds=1)\n",
    "\n",
    "# Helps the geocode function run faster by reducing nominatim calls for cityname/countrynames that repeat\n",
    "cache = {}\n",
    "\n",
    "# Function to get latitude and longitude\n",
    "def get_lat_lon(city_name, country_name):\n",
    "    # Check if the result is in the cache\n",
    "    if city_name in cache and country_name in cache[city_name]:\n",
    "        return cache[city_name][country_name]\n",
    "    \n",
    "    try:\n",
    "        location = geocode(f\"{city_name},{country_name}\")\n",
    "        if location:\n",
    "            coordinates = pd.Series([location.latitude, location.longitude])\n",
    "\n",
    "            if city_name not in cache:\n",
    "                cache[city_name] = {}\n",
    "\n",
    "            cache[city_name][country_name] = coordinates\n",
    "            return coordinates\n",
    "        else:\n",
    "            return pd.Series([None, None])\n",
    "    except Exception as e:\n",
    "        return pd.Series([None, None])\n",
    "\n",
    "# Apply the function to the 'City' column\n",
    "\n",
    "population_lat_lon = population\n",
    "population_lat_lon[['Latitude', 'Longitude']] = population_lat_lon.apply(lambda row: get_lat_lon(row['City'], row['Country']), axis=1)\n",
    "\n",
    "population_lat_lon"
   ]
  },
  {
   "cell_type": "code",
   "execution_count": 7,
   "metadata": {},
   "outputs": [
    {
     "data": {
      "text/html": [
       "<div>\n",
       "<style scoped>\n",
       "    .dataframe tbody tr th:only-of-type {\n",
       "        vertical-align: middle;\n",
       "    }\n",
       "\n",
       "    .dataframe tbody tr th {\n",
       "        vertical-align: top;\n",
       "    }\n",
       "\n",
       "    .dataframe thead th {\n",
       "        text-align: right;\n",
       "    }\n",
       "</style>\n",
       "<table border=\"1\" class=\"dataframe\">\n",
       "  <thead>\n",
       "    <tr style=\"text-align: right;\">\n",
       "      <th></th>\n",
       "      <th>City_A_Name</th>\n",
       "      <th>City_B_Name</th>\n",
       "      <th>City_A</th>\n",
       "      <th>City_B</th>\n",
       "      <th>Total passengers</th>\n",
       "      <th>NUTS_3_code_A</th>\n",
       "      <th>NUTS_3_code_B</th>\n",
       "      <th>Distance</th>\n",
       "      <th>has_connection</th>\n",
       "      <th>Year</th>\n",
       "      <th>Latitude_A</th>\n",
       "      <th>Longitude_A</th>\n",
       "      <th>Latitude_B</th>\n",
       "      <th>Longitude_B</th>\n",
       "    </tr>\n",
       "  </thead>\n",
       "  <tbody>\n",
       "    <tr>\n",
       "      <th>0</th>\n",
       "      <td>Paris</td>\n",
       "      <td>Toulouse</td>\n",
       "      <td>LFPO</td>\n",
       "      <td>LFBO</td>\n",
       "      <td>4716804</td>\n",
       "      <td>FR107</td>\n",
       "      <td>FRJ23</td>\n",
       "      <td>6.106723e+05</td>\n",
       "      <td>0</td>\n",
       "      <td>2016</td>\n",
       "      <td>48.730060</td>\n",
       "      <td>2.367831</td>\n",
       "      <td>43.604462</td>\n",
       "      <td>1.444247</td>\n",
       "    </tr>\n",
       "    <tr>\n",
       "      <th>1</th>\n",
       "      <td>Barcelona</td>\n",
       "      <td>Madrid</td>\n",
       "      <td>LEBL</td>\n",
       "      <td>LEMD</td>\n",
       "      <td>4657590</td>\n",
       "      <td>ES511</td>\n",
       "      <td>ES300</td>\n",
       "      <td>4.967448e+05</td>\n",
       "      <td>1</td>\n",
       "      <td>2016</td>\n",
       "      <td>41.382894</td>\n",
       "      <td>2.177432</td>\n",
       "      <td>40.416705</td>\n",
       "      <td>-3.703582</td>\n",
       "    </tr>\n",
       "    <tr>\n",
       "      <th>2</th>\n",
       "      <td>Nice</td>\n",
       "      <td>Paris</td>\n",
       "      <td>LFMN</td>\n",
       "      <td>LFPO</td>\n",
       "      <td>4249404</td>\n",
       "      <td>FRL03</td>\n",
       "      <td>FR107</td>\n",
       "      <td>6.453768e+05</td>\n",
       "      <td>0</td>\n",
       "      <td>2016</td>\n",
       "      <td>43.700936</td>\n",
       "      <td>7.268391</td>\n",
       "      <td>48.730060</td>\n",
       "      <td>2.367831</td>\n",
       "    </tr>\n",
       "    <tr>\n",
       "      <th>3</th>\n",
       "      <td>Berlin</td>\n",
       "      <td>Munich</td>\n",
       "      <td>EDDT</td>\n",
       "      <td>EDDM</td>\n",
       "      <td>3878625</td>\n",
       "      <td>DE300</td>\n",
       "      <td>DE212</td>\n",
       "      <td>5.010312e+05</td>\n",
       "      <td>0</td>\n",
       "      <td>2016</td>\n",
       "      <td>NaN</td>\n",
       "      <td>NaN</td>\n",
       "      <td>48.137108</td>\n",
       "      <td>11.575382</td>\n",
       "    </tr>\n",
       "    <tr>\n",
       "      <th>4</th>\n",
       "      <td>Berlin</td>\n",
       "      <td>Frankfurt</td>\n",
       "      <td>EDDT</td>\n",
       "      <td>EDDF</td>\n",
       "      <td>3869795</td>\n",
       "      <td>DE300</td>\n",
       "      <td>DE712</td>\n",
       "      <td>4.236867e+05</td>\n",
       "      <td>0</td>\n",
       "      <td>2016</td>\n",
       "      <td>NaN</td>\n",
       "      <td>NaN</td>\n",
       "      <td>50.110644</td>\n",
       "      <td>8.682092</td>\n",
       "    </tr>\n",
       "    <tr>\n",
       "      <th>...</th>\n",
       "      <td>...</td>\n",
       "      <td>...</td>\n",
       "      <td>...</td>\n",
       "      <td>...</td>\n",
       "      <td>...</td>\n",
       "      <td>...</td>\n",
       "      <td>...</td>\n",
       "      <td>...</td>\n",
       "      <td>...</td>\n",
       "      <td>...</td>\n",
       "      <td>...</td>\n",
       "      <td>...</td>\n",
       "      <td>...</td>\n",
       "      <td>...</td>\n",
       "    </tr>\n",
       "    <tr>\n",
       "      <th>718</th>\n",
       "      <td>DÃ¼sseldorf</td>\n",
       "      <td>Friedrichshafen</td>\n",
       "      <td>EDDL</td>\n",
       "      <td>EDNY</td>\n",
       "      <td>15529</td>\n",
       "      <td>DEA11</td>\n",
       "      <td>DE147</td>\n",
       "      <td>4.336239e+05</td>\n",
       "      <td>0</td>\n",
       "      <td>2019</td>\n",
       "      <td>51.225402</td>\n",
       "      <td>6.776314</td>\n",
       "      <td>47.650028</td>\n",
       "      <td>9.480086</td>\n",
       "    </tr>\n",
       "    <tr>\n",
       "      <th>719</th>\n",
       "      <td>Groningen</td>\n",
       "      <td>Tenerife South</td>\n",
       "      <td>EHGG</td>\n",
       "      <td>GCTS</td>\n",
       "      <td>13734</td>\n",
       "      <td>NL111</td>\n",
       "      <td>ES709</td>\n",
       "      <td>3.366764e+06</td>\n",
       "      <td>0</td>\n",
       "      <td>2019</td>\n",
       "      <td>53.219065</td>\n",
       "      <td>6.568008</td>\n",
       "      <td>28.046141</td>\n",
       "      <td>-16.572008</td>\n",
       "    </tr>\n",
       "    <tr>\n",
       "      <th>720</th>\n",
       "      <td>Liege</td>\n",
       "      <td>Palma de Mallorca</td>\n",
       "      <td>EBLG</td>\n",
       "      <td>LEPA</td>\n",
       "      <td>12985</td>\n",
       "      <td>BE332</td>\n",
       "      <td>ES532</td>\n",
       "      <td>1.240433e+06</td>\n",
       "      <td>0</td>\n",
       "      <td>2019</td>\n",
       "      <td>50.470816</td>\n",
       "      <td>5.773546</td>\n",
       "      <td>39.581252</td>\n",
       "      <td>2.709268</td>\n",
       "    </tr>\n",
       "    <tr>\n",
       "      <th>721</th>\n",
       "      <td>Limoges</td>\n",
       "      <td>Paris</td>\n",
       "      <td>LFBL</td>\n",
       "      <td>LFPO</td>\n",
       "      <td>10925</td>\n",
       "      <td>FRI23</td>\n",
       "      <td>FR107</td>\n",
       "      <td>3.339321e+05</td>\n",
       "      <td>0</td>\n",
       "      <td>2019</td>\n",
       "      <td>45.835424</td>\n",
       "      <td>1.264485</td>\n",
       "      <td>48.730060</td>\n",
       "      <td>2.367831</td>\n",
       "    </tr>\n",
       "    <tr>\n",
       "      <th>722</th>\n",
       "      <td>Antwerp</td>\n",
       "      <td>Ibiza</td>\n",
       "      <td>EBAW</td>\n",
       "      <td>LEIB</td>\n",
       "      <td>10887</td>\n",
       "      <td>BE211</td>\n",
       "      <td>ES531</td>\n",
       "      <td>1.388385e+06</td>\n",
       "      <td>0</td>\n",
       "      <td>2019</td>\n",
       "      <td>51.221110</td>\n",
       "      <td>4.399708</td>\n",
       "      <td>38.974390</td>\n",
       "      <td>1.419746</td>\n",
       "    </tr>\n",
       "  </tbody>\n",
       "</table>\n",
       "<p>2882 rows × 14 columns</p>\n",
       "</div>"
      ],
      "text/plain": [
       "     City_A_Name        City_B_Name City_A City_B  Total passengers  \\\n",
       "0          Paris           Toulouse   LFPO   LFBO           4716804   \n",
       "1      Barcelona             Madrid   LEBL   LEMD           4657590   \n",
       "2           Nice              Paris   LFMN   LFPO           4249404   \n",
       "3         Berlin             Munich   EDDT   EDDM           3878625   \n",
       "4         Berlin          Frankfurt   EDDT   EDDF           3869795   \n",
       "..           ...                ...    ...    ...               ...   \n",
       "718  DÃ¼sseldorf    Friedrichshafen   EDDL   EDNY             15529   \n",
       "719    Groningen     Tenerife South   EHGG   GCTS             13734   \n",
       "720        Liege  Palma de Mallorca   EBLG   LEPA             12985   \n",
       "721      Limoges              Paris   LFBL   LFPO             10925   \n",
       "722      Antwerp              Ibiza   EBAW   LEIB             10887   \n",
       "\n",
       "    NUTS_3_code_A NUTS_3_code_B      Distance  has_connection  Year  \\\n",
       "0           FR107         FRJ23  6.106723e+05               0  2016   \n",
       "1           ES511         ES300  4.967448e+05               1  2016   \n",
       "2           FRL03         FR107  6.453768e+05               0  2016   \n",
       "3           DE300         DE212  5.010312e+05               0  2016   \n",
       "4           DE300         DE712  4.236867e+05               0  2016   \n",
       "..            ...           ...           ...             ...   ...   \n",
       "718         DEA11         DE147  4.336239e+05               0  2019   \n",
       "719         NL111         ES709  3.366764e+06               0  2019   \n",
       "720         BE332         ES532  1.240433e+06               0  2019   \n",
       "721         FRI23         FR107  3.339321e+05               0  2019   \n",
       "722         BE211         ES531  1.388385e+06               0  2019   \n",
       "\n",
       "     Latitude_A  Longitude_A  Latitude_B  Longitude_B  \n",
       "0     48.730060     2.367831   43.604462     1.444247  \n",
       "1     41.382894     2.177432   40.416705    -3.703582  \n",
       "2     43.700936     7.268391   48.730060     2.367831  \n",
       "3           NaN          NaN   48.137108    11.575382  \n",
       "4           NaN          NaN   50.110644     8.682092  \n",
       "..          ...          ...         ...          ...  \n",
       "718   51.225402     6.776314   47.650028     9.480086  \n",
       "719   53.219065     6.568008   28.046141   -16.572008  \n",
       "720   50.470816     5.773546   39.581252     2.709268  \n",
       "721   45.835424     1.264485   48.730060     2.367831  \n",
       "722   51.221110     4.399708   38.974390     1.419746  \n",
       "\n",
       "[2882 rows x 14 columns]"
      ]
     },
     "execution_count": 7,
     "metadata": {},
     "output_type": "execute_result"
    }
   ],
   "source": [
    "# Merge the Population Lon Lat with onto the City Pairs Lon Lat\n",
    "city_pairs['Latitude_A'] = city_pairs['City_A'].map(population.set_index('Airport Code')['Latitude'])\n",
    "city_pairs['Longitude_A'] = city_pairs['City_A'].map(population.set_index('Airport Code')['Longitude'])\n",
    "city_pairs['Latitude_B'] = city_pairs['City_B'].map(population.set_index('Airport Code')['Latitude'])\n",
    "city_pairs['Longitude_B'] = city_pairs['City_B'].map(population.set_index('Airport Code')['Longitude'])\n",
    "city_pairs"
   ]
  },
  {
   "cell_type": "code",
   "execution_count": 8,
   "metadata": {},
   "outputs": [],
   "source": [
    "city_pairs_with_data = city_pairs.dropna(subset=['Latitude_A', 'Longitude_A','Latitude_B', 'Longitude_B', 'Year'])"
   ]
  },
  {
   "cell_type": "code",
   "execution_count": 14,
   "metadata": {},
   "outputs": [
    {
     "data": {
      "application/vnd.plotly.v1+json": {
       "config": {
        "plotlyServerURL": "https://plot.ly"
       },
       "data": [
        {
         "geo": "geo",
         "hovertemplate": "<b>%{hovertext}</b><br><br>Year=2019<br>Latitude_A=%{lat}<br>Longitude_A=%{lon}<extra></extra>",
         "hovertext": [
          "Barcelona",
          "Paris",
          "Barcelona",
          "Nice",
          "Madrid",
          "Hamburg",
          "Gran Canaria",
          "DÃ¼sseldorf",
          "Madrid",
          "DÃ¼sseldorf",
          "Frankfurt",
          "Amsterdam",
          "Barcelona",
          "Madrid",
          "Amsterdam",
          "Barcelona",
          "Barcelona",
          "Amsterdam",
          "Frankfurt",
          "Frankfurt",
          "Nice",
          "Madrid",
          "Brussels",
          "Frankfurt",
          "Barcelona",
          "Frankfurt",
          "Barcelona",
          "Cologne",
          "Munich",
          "Gran Canaria",
          "Paris",
          "Amsterdam",
          "Barcelona",
          "Madrid",
          "Barcelona",
          "Marseille",
          "Hamburg",
          "Munich",
          "Amsterdam",
          "Cologne",
          "Barcelona",
          "Barcelona",
          "Ibiza",
          "Bilbao",
          "Gran Canaria",
          "Palma de Mallorca",
          "La Palma",
          "Hamburg",
          "Madrid",
          "Madrid",
          "A Coruna",
          "Marseille",
          "Fuerteventura"
         ],
         "lat": [
          41.3828939,
          48.73005955,
          41.3828939,
          43.7009358,
          40.4167047,
          53.550341,
          27.9580004,
          51.2254018,
          40.4167047,
          51.2254018,
          50.1106444,
          52.3730796,
          41.3828939,
          40.4167047,
          52.3730796,
          41.3828939,
          41.3828939,
          52.3730796,
          50.1106444,
          50.1106444,
          43.7009358,
          40.4167047,
          50.8465573,
          50.1106444,
          41.3828939,
          50.1106444,
          41.3828939,
          50.938361,
          48.1371079,
          27.9580004,
          49.0068908,
          52.3730796,
          41.3828939,
          40.4167047,
          41.3828939,
          43.2961743,
          53.550341,
          48.1371079,
          52.3730796,
          50.938361,
          41.3828939,
          41.3828939,
          38.974390099999994,
          43.2630018,
          27.9580004,
          39.58125245,
          28.6551163,
          53.550341,
          40.4167047,
          40.4167047,
          43.3709703,
          43.2961743,
          28.40037685
         ],
         "legendgroup": "",
         "line": {
          "color": "blue",
          "dash": "solid",
          "width": 2
         },
         "lon": [
          2.1774322,
          2.3678312558143455,
          2.1774322,
          7.2683912,
          -3.7035825,
          10.000654,
          -15.6062305376665,
          6.7763137,
          -3.7035825,
          6.7763137,
          8.6820917,
          4.8924534,
          2.1774322,
          -3.7035825,
          4.8924534,
          2.1774322,
          2.1774322,
          4.8924534,
          8.6820917,
          8.6820917,
          7.2683912,
          -3.7035825,
          4.351697,
          8.6820917,
          2.1774322,
          8.6820917,
          2.1774322,
          6.959974,
          11.5753822,
          -15.6062305376665,
          2.5710819691019156,
          4.8924534,
          2.1774322,
          -3.7035825,
          2.1774322,
          5.3699525,
          10.000654,
          11.5753822,
          4.8924534,
          6.959974,
          2.1774322,
          2.1774322,
          1.4197463178515335,
          -2.9350039,
          -15.6062305376665,
          2.7092683401782343,
          -17.857268565579673,
          10.000654,
          -3.7035825,
          -3.7035825,
          -8.3959425,
          5.3699525,
          -14.004869713542156
         ],
         "marker": {
          "color": "orchid",
          "size": 4,
          "symbol": "circle"
         },
         "mode": "lines+markers",
         "name": "",
         "showlegend": false,
         "type": "scattergeo"
        },
        {
         "hoverinfo": "text",
         "lat": [
          41.3828939,
          40.4167047
         ],
         "line": {
          "color": "blue",
          "width": 2
         },
         "lon": [
          2.1774322,
          -3.7035825
         ],
         "marker": {
          "color": "orchid",
          "size": 4
         },
         "mode": "lines",
         "showlegend": true,
         "type": "scattergeo"
        },
        {
         "lat": [
          41.3828939
         ],
         "line": {
          "color": "blue",
          "width": 2
         },
         "lon": [
          2.1774322
         ],
         "marker": {
          "color": "orchid",
          "size": 4
         },
         "mode": "markers+text",
         "showlegend": false,
         "text": "Barcelona",
         "textposition": "top center",
         "type": "scattergeo"
        },
        {
         "lat": [
          40.4167047
         ],
         "line": {
          "color": "blue",
          "width": 2
         },
         "lon": [
          -3.7035825
         ],
         "marker": {
          "color": "orchid",
          "size": 4
         },
         "mode": "markers+text",
         "showlegend": false,
         "text": "Madrid",
         "textposition": "top center",
         "type": "scattergeo"
        }
       ],
       "frames": [
        {
         "data": [
          {
           "geo": "geo",
           "hovertemplate": "<b>%{hovertext}</b><br><br>Year=2019<br>Latitude_A=%{lat}<br>Longitude_A=%{lon}<extra></extra>",
           "hovertext": [
            "Barcelona",
            "Paris",
            "Barcelona",
            "Nice",
            "Madrid",
            "Hamburg",
            "Gran Canaria",
            "DÃ¼sseldorf",
            "Madrid",
            "DÃ¼sseldorf",
            "Frankfurt",
            "Amsterdam",
            "Barcelona",
            "Madrid",
            "Amsterdam",
            "Barcelona",
            "Barcelona",
            "Amsterdam",
            "Frankfurt",
            "Frankfurt",
            "Nice",
            "Madrid",
            "Brussels",
            "Frankfurt",
            "Barcelona",
            "Frankfurt",
            "Barcelona",
            "Cologne",
            "Munich",
            "Gran Canaria",
            "Paris",
            "Amsterdam",
            "Barcelona",
            "Madrid",
            "Barcelona",
            "Marseille",
            "Hamburg",
            "Munich",
            "Amsterdam",
            "Cologne",
            "Barcelona",
            "Barcelona",
            "Ibiza",
            "Bilbao",
            "Gran Canaria",
            "Palma de Mallorca",
            "La Palma",
            "Hamburg",
            "Madrid",
            "Madrid",
            "A Coruna",
            "Marseille",
            "Fuerteventura"
           ],
           "lat": [
            41.3828939,
            48.73005955,
            41.3828939,
            43.7009358,
            40.4167047,
            53.550341,
            27.9580004,
            51.2254018,
            40.4167047,
            51.2254018,
            50.1106444,
            52.3730796,
            41.3828939,
            40.4167047,
            52.3730796,
            41.3828939,
            41.3828939,
            52.3730796,
            50.1106444,
            50.1106444,
            43.7009358,
            40.4167047,
            50.8465573,
            50.1106444,
            41.3828939,
            50.1106444,
            41.3828939,
            50.938361,
            48.1371079,
            27.9580004,
            49.0068908,
            52.3730796,
            41.3828939,
            40.4167047,
            41.3828939,
            43.2961743,
            53.550341,
            48.1371079,
            52.3730796,
            50.938361,
            41.3828939,
            41.3828939,
            38.974390099999994,
            43.2630018,
            27.9580004,
            39.58125245,
            28.6551163,
            53.550341,
            40.4167047,
            40.4167047,
            43.3709703,
            43.2961743,
            28.40037685
           ],
           "legendgroup": "",
           "line": {
            "color": "#636efa",
            "dash": "solid"
           },
           "lon": [
            2.1774322,
            2.3678312558143455,
            2.1774322,
            7.2683912,
            -3.7035825,
            10.000654,
            -15.6062305376665,
            6.7763137,
            -3.7035825,
            6.7763137,
            8.6820917,
            4.8924534,
            2.1774322,
            -3.7035825,
            4.8924534,
            2.1774322,
            2.1774322,
            4.8924534,
            8.6820917,
            8.6820917,
            7.2683912,
            -3.7035825,
            4.351697,
            8.6820917,
            2.1774322,
            8.6820917,
            2.1774322,
            6.959974,
            11.5753822,
            -15.6062305376665,
            2.5710819691019156,
            4.8924534,
            2.1774322,
            -3.7035825,
            2.1774322,
            5.3699525,
            10.000654,
            11.5753822,
            4.8924534,
            6.959974,
            2.1774322,
            2.1774322,
            1.4197463178515335,
            -2.9350039,
            -15.6062305376665,
            2.7092683401782343,
            -17.857268565579673,
            10.000654,
            -3.7035825,
            -3.7035825,
            -8.3959425,
            5.3699525,
            -14.004869713542156
           ],
           "marker": {
            "symbol": "circle"
           },
           "mode": "lines+markers",
           "name": "",
           "showlegend": false,
           "type": "scattergeo"
          }
         ],
         "name": "2019"
        },
        {
         "data": [
          {
           "geo": "geo",
           "hovertemplate": "<b>%{hovertext}</b><br><br>Year=2018<br>Latitude_A=%{lat}<br>Longitude_A=%{lon}<extra></extra>",
           "hovertext": [
            "Barcelona",
            "Paris",
            "Nice",
            "Barcelona",
            "Madrid",
            "Hamburg",
            "Gran Canaria",
            "DÃ¼sseldorf",
            "Madrid",
            "Frankfurt",
            "Amsterdam",
            "DÃ¼sseldorf",
            "Madrid",
            "Barcelona",
            "Amsterdam",
            "Barcelona",
            "Frankfurt",
            "Barcelona",
            "Madrid",
            "Frankfurt",
            "Amsterdam",
            "Cologne",
            "Barcelona",
            "Brussels",
            "Frankfurt",
            "Frankfurt",
            "Amsterdam",
            "Gran Canaria",
            "Munich",
            "Nice",
            "Barcelona",
            "Cologne",
            "Marseille",
            "Barcelona",
            "Paris",
            "Amsterdam",
            "Barcelona",
            "Madrid",
            "Hamburg",
            "Bilbao",
            "Barcelona",
            "Ibiza",
            "Gran Canaria",
            "Barcelona",
            "Munich",
            "Palma de Mallorca",
            "Hamburg",
            "La Palma",
            "Marseille",
            "Madrid",
            "Madrid"
           ],
           "lat": [
            41.3828939,
            48.73005955,
            43.7009358,
            41.3828939,
            40.4167047,
            53.550341,
            27.9580004,
            51.2254018,
            40.4167047,
            50.1106444,
            52.3730796,
            51.2254018,
            40.4167047,
            41.3828939,
            52.3730796,
            41.3828939,
            50.1106444,
            41.3828939,
            40.4167047,
            50.1106444,
            52.3730796,
            50.938361,
            41.3828939,
            50.8465573,
            50.1106444,
            50.1106444,
            52.3730796,
            27.9580004,
            48.1371079,
            43.7009358,
            41.3828939,
            50.938361,
            43.2961743,
            41.3828939,
            49.0068908,
            52.3730796,
            41.3828939,
            40.4167047,
            53.550341,
            43.2630018,
            41.3828939,
            38.974390099999994,
            27.9580004,
            41.3828939,
            48.1371079,
            39.58125245,
            53.550341,
            28.6551163,
            43.2961743,
            40.4167047,
            40.4167047
           ],
           "legendgroup": "",
           "line": {
            "color": "#636efa",
            "dash": "solid"
           },
           "lon": [
            2.1774322,
            2.3678312558143455,
            7.2683912,
            2.1774322,
            -3.7035825,
            10.000654,
            -15.6062305376665,
            6.7763137,
            -3.7035825,
            8.6820917,
            4.8924534,
            6.7763137,
            -3.7035825,
            2.1774322,
            4.8924534,
            2.1774322,
            8.6820917,
            2.1774322,
            -3.7035825,
            8.6820917,
            4.8924534,
            6.959974,
            2.1774322,
            4.351697,
            8.6820917,
            8.6820917,
            4.8924534,
            -15.6062305376665,
            11.5753822,
            7.2683912,
            2.1774322,
            6.959974,
            5.3699525,
            2.1774322,
            2.5710819691019156,
            4.8924534,
            2.1774322,
            -3.7035825,
            10.000654,
            -2.9350039,
            2.1774322,
            1.4197463178515335,
            -15.6062305376665,
            2.1774322,
            11.5753822,
            2.7092683401782343,
            10.000654,
            -17.857268565579673,
            5.3699525,
            -3.7035825,
            -3.7035825
           ],
           "marker": {
            "symbol": "circle"
           },
           "mode": "lines+markers",
           "name": "",
           "showlegend": false,
           "type": "scattergeo"
          }
         ],
         "name": "2018"
        },
        {
         "data": [
          {
           "geo": "geo",
           "hovertemplate": "<b>%{hovertext}</b><br><br>Year=2016<br>Latitude_A=%{lat}<br>Longitude_A=%{lon}<extra></extra>",
           "hovertext": [
            "Paris",
            "Barcelona",
            "Nice",
            "Hamburg",
            "Barcelona",
            "Madrid",
            "DÃ¼sseldorf",
            "Gran Canaria",
            "Frankfurt",
            "Amsterdam",
            "Madrid",
            "DÃ¼sseldorf",
            "Barcelona",
            "Madrid",
            "Amsterdam",
            "Frankfurt",
            "Madrid",
            "Frankfurt",
            "Barcelona",
            "Barcelona",
            "Barcelona",
            "Amsterdam",
            "Bordeaux",
            "Cologne",
            "Cologne",
            "Marseille",
            "Frankfurt",
            "Paris",
            "Barcelona",
            "Barcelona",
            "Munich",
            "Hamburg",
            "Frankfurt",
            "Nice",
            "Amsterdam",
            "Madrid",
            "Amsterdam",
            "Barcelona",
            "Brussels",
            "Munich",
            "Palma de Mallorca",
            "Bilbao",
            "Barcelona",
            "Hamburg",
            "Ibiza",
            "Marseille"
           ],
           "lat": [
            48.73005955,
            41.3828939,
            43.7009358,
            53.550341,
            41.3828939,
            40.4167047,
            51.2254018,
            27.9580004,
            50.1106444,
            52.3730796,
            40.4167047,
            51.2254018,
            41.3828939,
            40.4167047,
            52.3730796,
            50.1106444,
            40.4167047,
            50.1106444,
            41.3828939,
            41.3828939,
            41.3828939,
            52.3730796,
            44.841225,
            50.938361,
            50.938361,
            43.2961743,
            50.1106444,
            49.0068908,
            41.3828939,
            41.3828939,
            48.1371079,
            53.550341,
            50.1106444,
            43.7009358,
            52.3730796,
            40.4167047,
            52.3730796,
            41.3828939,
            50.8465573,
            48.1371079,
            39.58125245,
            43.2630018,
            41.3828939,
            53.550341,
            38.974390099999994,
            43.2961743
           ],
           "legendgroup": "",
           "line": {
            "color": "#636efa",
            "dash": "solid"
           },
           "lon": [
            2.3678312558143455,
            2.1774322,
            7.2683912,
            10.000654,
            2.1774322,
            -3.7035825,
            6.7763137,
            -15.6062305376665,
            8.6820917,
            4.8924534,
            -3.7035825,
            6.7763137,
            2.1774322,
            -3.7035825,
            4.8924534,
            8.6820917,
            -3.7035825,
            8.6820917,
            2.1774322,
            2.1774322,
            2.1774322,
            4.8924534,
            -0.5800364,
            6.959974,
            6.959974,
            5.3699525,
            8.6820917,
            2.5710819691019156,
            2.1774322,
            2.1774322,
            11.5753822,
            10.000654,
            8.6820917,
            7.2683912,
            4.8924534,
            -3.7035825,
            4.8924534,
            2.1774322,
            4.351697,
            11.5753822,
            2.7092683401782343,
            -2.9350039,
            2.1774322,
            10.000654,
            1.4197463178515335,
            5.3699525
           ],
           "marker": {
            "symbol": "circle"
           },
           "mode": "lines+markers",
           "name": "",
           "showlegend": false,
           "type": "scattergeo"
          }
         ],
         "name": "2016"
        },
        {
         "data": [
          {
           "geo": "geo",
           "hovertemplate": "<b>%{hovertext}</b><br><br>Year=2017<br>Latitude_A=%{lat}<br>Longitude_A=%{lon}<extra></extra>",
           "hovertext": [
            "Barcelona",
            "Paris",
            "Nice",
            "Barcelona",
            "Madrid",
            "Hamburg",
            "DÃ¼sseldorf",
            "Gran Canaria",
            "Frankfurt",
            "Madrid",
            "Amsterdam",
            "Barcelona",
            "DÃ¼sseldorf",
            "Amsterdam",
            "Frankfurt",
            "Barcelona",
            "Madrid",
            "Madrid",
            "Barcelona",
            "Frankfurt",
            "Amsterdam",
            "Hamburg",
            "Cologne",
            "Brussels",
            "Amsterdam",
            "Frankfurt",
            "Marseille",
            "Munich",
            "Barcelona",
            "Barcelona",
            "Paris",
            "Frankfurt",
            "Cologne",
            "Nice",
            "Barcelona",
            "Bordeaux",
            "Amsterdam",
            "Barcelona",
            "Madrid",
            "Gran Canaria",
            "Munich",
            "Barcelona",
            "Barcelona",
            "Bilbao",
            "Ibiza",
            "Amsterdam",
            "Barcelona",
            "Marseille",
            "Hamburg",
            "Palma de Mallorca"
           ],
           "lat": [
            41.3828939,
            48.73005955,
            43.7009358,
            41.3828939,
            40.4167047,
            53.550341,
            51.2254018,
            27.9580004,
            50.1106444,
            40.4167047,
            52.3730796,
            41.3828939,
            51.2254018,
            52.3730796,
            50.1106444,
            41.3828939,
            40.4167047,
            40.4167047,
            41.3828939,
            50.1106444,
            52.3730796,
            53.550341,
            50.938361,
            50.8465573,
            52.3730796,
            50.1106444,
            43.2961743,
            48.1371079,
            41.3828939,
            41.3828939,
            49.0068908,
            50.1106444,
            50.938361,
            43.7009358,
            41.3828939,
            44.841225,
            52.3730796,
            41.3828939,
            40.4167047,
            27.9580004,
            48.1371079,
            41.3828939,
            41.3828939,
            43.2630018,
            38.974390099999994,
            52.3730796,
            41.3828939,
            43.2961743,
            53.550341,
            39.58125245
           ],
           "legendgroup": "",
           "line": {
            "color": "#636efa",
            "dash": "solid"
           },
           "lon": [
            2.1774322,
            2.3678312558143455,
            7.2683912,
            2.1774322,
            -3.7035825,
            10.000654,
            6.7763137,
            -15.6062305376665,
            8.6820917,
            -3.7035825,
            4.8924534,
            2.1774322,
            6.7763137,
            4.8924534,
            8.6820917,
            2.1774322,
            -3.7035825,
            -3.7035825,
            2.1774322,
            8.6820917,
            4.8924534,
            10.000654,
            6.959974,
            4.351697,
            4.8924534,
            8.6820917,
            5.3699525,
            11.5753822,
            2.1774322,
            2.1774322,
            2.5710819691019156,
            8.6820917,
            6.959974,
            7.2683912,
            2.1774322,
            -0.5800364,
            4.8924534,
            2.1774322,
            -3.7035825,
            -15.6062305376665,
            11.5753822,
            2.1774322,
            2.1774322,
            -2.9350039,
            1.4197463178515335,
            4.8924534,
            2.1774322,
            5.3699525,
            10.000654,
            2.7092683401782343
           ],
           "marker": {
            "symbol": "circle"
           },
           "mode": "lines+markers",
           "name": "",
           "showlegend": false,
           "type": "scattergeo"
          }
         ],
         "name": "2017"
        }
       ],
       "layout": {
        "geo": {
         "center": {},
         "coastlinecolor": "black",
         "domain": {
          "x": [
           0,
           1
          ],
          "y": [
           0,
           1
          ]
         },
         "lakecolor": "lightblue",
         "landcolor": "lightgray",
         "oceancolor": "lightblue",
         "projection": {
          "type": "natural earth"
         },
         "resolution": 50,
         "scope": "europe",
         "showcoastlines": true,
         "showlakes": true,
         "showland": true,
         "showocean": true
        },
        "height": 800,
        "legend": {
         "tracegroupgap": 0
        },
        "sliders": [
         {
          "active": 0,
          "currentvalue": {
           "prefix": "Year="
          },
          "len": 0.9,
          "pad": {
           "b": 10,
           "t": 60
          },
          "steps": [
           {
            "args": [
             [
              "2019"
             ],
             {
              "frame": {
               "duration": 0,
               "redraw": true
              },
              "fromcurrent": true,
              "mode": "immediate",
              "transition": {
               "duration": 0,
               "easing": "linear"
              }
             }
            ],
            "label": "2019",
            "method": "animate"
           },
           {
            "args": [
             [
              "2018"
             ],
             {
              "frame": {
               "duration": 0,
               "redraw": true
              },
              "fromcurrent": true,
              "mode": "immediate",
              "transition": {
               "duration": 0,
               "easing": "linear"
              }
             }
            ],
            "label": "2018",
            "method": "animate"
           },
           {
            "args": [
             [
              "2016"
             ],
             {
              "frame": {
               "duration": 0,
               "redraw": true
              },
              "fromcurrent": true,
              "mode": "immediate",
              "transition": {
               "duration": 0,
               "easing": "linear"
              }
             }
            ],
            "label": "2016",
            "method": "animate"
           },
           {
            "args": [
             [
              "2017"
             ],
             {
              "frame": {
               "duration": 0,
               "redraw": true
              },
              "fromcurrent": true,
              "mode": "immediate",
              "transition": {
               "duration": 0,
               "easing": "linear"
              }
             }
            ],
            "label": "2017",
            "method": "animate"
           }
          ],
          "x": 0.1,
          "xanchor": "left",
          "y": 0,
          "yanchor": "top"
         }
        ],
        "template": {
         "data": {
          "bar": [
           {
            "error_x": {
             "color": "#2a3f5f"
            },
            "error_y": {
             "color": "#2a3f5f"
            },
            "marker": {
             "line": {
              "color": "#E5ECF6",
              "width": 0.5
             },
             "pattern": {
              "fillmode": "overlay",
              "size": 10,
              "solidity": 0.2
             }
            },
            "type": "bar"
           }
          ],
          "barpolar": [
           {
            "marker": {
             "line": {
              "color": "#E5ECF6",
              "width": 0.5
             },
             "pattern": {
              "fillmode": "overlay",
              "size": 10,
              "solidity": 0.2
             }
            },
            "type": "barpolar"
           }
          ],
          "carpet": [
           {
            "aaxis": {
             "endlinecolor": "#2a3f5f",
             "gridcolor": "white",
             "linecolor": "white",
             "minorgridcolor": "white",
             "startlinecolor": "#2a3f5f"
            },
            "baxis": {
             "endlinecolor": "#2a3f5f",
             "gridcolor": "white",
             "linecolor": "white",
             "minorgridcolor": "white",
             "startlinecolor": "#2a3f5f"
            },
            "type": "carpet"
           }
          ],
          "choropleth": [
           {
            "colorbar": {
             "outlinewidth": 0,
             "ticks": ""
            },
            "type": "choropleth"
           }
          ],
          "contour": [
           {
            "colorbar": {
             "outlinewidth": 0,
             "ticks": ""
            },
            "colorscale": [
             [
              0,
              "#0d0887"
             ],
             [
              0.1111111111111111,
              "#46039f"
             ],
             [
              0.2222222222222222,
              "#7201a8"
             ],
             [
              0.3333333333333333,
              "#9c179e"
             ],
             [
              0.4444444444444444,
              "#bd3786"
             ],
             [
              0.5555555555555556,
              "#d8576b"
             ],
             [
              0.6666666666666666,
              "#ed7953"
             ],
             [
              0.7777777777777778,
              "#fb9f3a"
             ],
             [
              0.8888888888888888,
              "#fdca26"
             ],
             [
              1,
              "#f0f921"
             ]
            ],
            "type": "contour"
           }
          ],
          "contourcarpet": [
           {
            "colorbar": {
             "outlinewidth": 0,
             "ticks": ""
            },
            "type": "contourcarpet"
           }
          ],
          "heatmap": [
           {
            "colorbar": {
             "outlinewidth": 0,
             "ticks": ""
            },
            "colorscale": [
             [
              0,
              "#0d0887"
             ],
             [
              0.1111111111111111,
              "#46039f"
             ],
             [
              0.2222222222222222,
              "#7201a8"
             ],
             [
              0.3333333333333333,
              "#9c179e"
             ],
             [
              0.4444444444444444,
              "#bd3786"
             ],
             [
              0.5555555555555556,
              "#d8576b"
             ],
             [
              0.6666666666666666,
              "#ed7953"
             ],
             [
              0.7777777777777778,
              "#fb9f3a"
             ],
             [
              0.8888888888888888,
              "#fdca26"
             ],
             [
              1,
              "#f0f921"
             ]
            ],
            "type": "heatmap"
           }
          ],
          "heatmapgl": [
           {
            "colorbar": {
             "outlinewidth": 0,
             "ticks": ""
            },
            "colorscale": [
             [
              0,
              "#0d0887"
             ],
             [
              0.1111111111111111,
              "#46039f"
             ],
             [
              0.2222222222222222,
              "#7201a8"
             ],
             [
              0.3333333333333333,
              "#9c179e"
             ],
             [
              0.4444444444444444,
              "#bd3786"
             ],
             [
              0.5555555555555556,
              "#d8576b"
             ],
             [
              0.6666666666666666,
              "#ed7953"
             ],
             [
              0.7777777777777778,
              "#fb9f3a"
             ],
             [
              0.8888888888888888,
              "#fdca26"
             ],
             [
              1,
              "#f0f921"
             ]
            ],
            "type": "heatmapgl"
           }
          ],
          "histogram": [
           {
            "marker": {
             "pattern": {
              "fillmode": "overlay",
              "size": 10,
              "solidity": 0.2
             }
            },
            "type": "histogram"
           }
          ],
          "histogram2d": [
           {
            "colorbar": {
             "outlinewidth": 0,
             "ticks": ""
            },
            "colorscale": [
             [
              0,
              "#0d0887"
             ],
             [
              0.1111111111111111,
              "#46039f"
             ],
             [
              0.2222222222222222,
              "#7201a8"
             ],
             [
              0.3333333333333333,
              "#9c179e"
             ],
             [
              0.4444444444444444,
              "#bd3786"
             ],
             [
              0.5555555555555556,
              "#d8576b"
             ],
             [
              0.6666666666666666,
              "#ed7953"
             ],
             [
              0.7777777777777778,
              "#fb9f3a"
             ],
             [
              0.8888888888888888,
              "#fdca26"
             ],
             [
              1,
              "#f0f921"
             ]
            ],
            "type": "histogram2d"
           }
          ],
          "histogram2dcontour": [
           {
            "colorbar": {
             "outlinewidth": 0,
             "ticks": ""
            },
            "colorscale": [
             [
              0,
              "#0d0887"
             ],
             [
              0.1111111111111111,
              "#46039f"
             ],
             [
              0.2222222222222222,
              "#7201a8"
             ],
             [
              0.3333333333333333,
              "#9c179e"
             ],
             [
              0.4444444444444444,
              "#bd3786"
             ],
             [
              0.5555555555555556,
              "#d8576b"
             ],
             [
              0.6666666666666666,
              "#ed7953"
             ],
             [
              0.7777777777777778,
              "#fb9f3a"
             ],
             [
              0.8888888888888888,
              "#fdca26"
             ],
             [
              1,
              "#f0f921"
             ]
            ],
            "type": "histogram2dcontour"
           }
          ],
          "mesh3d": [
           {
            "colorbar": {
             "outlinewidth": 0,
             "ticks": ""
            },
            "type": "mesh3d"
           }
          ],
          "parcoords": [
           {
            "line": {
             "colorbar": {
              "outlinewidth": 0,
              "ticks": ""
             }
            },
            "type": "parcoords"
           }
          ],
          "pie": [
           {
            "automargin": true,
            "type": "pie"
           }
          ],
          "scatter": [
           {
            "fillpattern": {
             "fillmode": "overlay",
             "size": 10,
             "solidity": 0.2
            },
            "type": "scatter"
           }
          ],
          "scatter3d": [
           {
            "line": {
             "colorbar": {
              "outlinewidth": 0,
              "ticks": ""
             }
            },
            "marker": {
             "colorbar": {
              "outlinewidth": 0,
              "ticks": ""
             }
            },
            "type": "scatter3d"
           }
          ],
          "scattercarpet": [
           {
            "marker": {
             "colorbar": {
              "outlinewidth": 0,
              "ticks": ""
             }
            },
            "type": "scattercarpet"
           }
          ],
          "scattergeo": [
           {
            "marker": {
             "colorbar": {
              "outlinewidth": 0,
              "ticks": ""
             }
            },
            "type": "scattergeo"
           }
          ],
          "scattergl": [
           {
            "marker": {
             "colorbar": {
              "outlinewidth": 0,
              "ticks": ""
             }
            },
            "type": "scattergl"
           }
          ],
          "scattermapbox": [
           {
            "marker": {
             "colorbar": {
              "outlinewidth": 0,
              "ticks": ""
             }
            },
            "type": "scattermapbox"
           }
          ],
          "scatterpolar": [
           {
            "marker": {
             "colorbar": {
              "outlinewidth": 0,
              "ticks": ""
             }
            },
            "type": "scatterpolar"
           }
          ],
          "scatterpolargl": [
           {
            "marker": {
             "colorbar": {
              "outlinewidth": 0,
              "ticks": ""
             }
            },
            "type": "scatterpolargl"
           }
          ],
          "scatterternary": [
           {
            "marker": {
             "colorbar": {
              "outlinewidth": 0,
              "ticks": ""
             }
            },
            "type": "scatterternary"
           }
          ],
          "surface": [
           {
            "colorbar": {
             "outlinewidth": 0,
             "ticks": ""
            },
            "colorscale": [
             [
              0,
              "#0d0887"
             ],
             [
              0.1111111111111111,
              "#46039f"
             ],
             [
              0.2222222222222222,
              "#7201a8"
             ],
             [
              0.3333333333333333,
              "#9c179e"
             ],
             [
              0.4444444444444444,
              "#bd3786"
             ],
             [
              0.5555555555555556,
              "#d8576b"
             ],
             [
              0.6666666666666666,
              "#ed7953"
             ],
             [
              0.7777777777777778,
              "#fb9f3a"
             ],
             [
              0.8888888888888888,
              "#fdca26"
             ],
             [
              1,
              "#f0f921"
             ]
            ],
            "type": "surface"
           }
          ],
          "table": [
           {
            "cells": {
             "fill": {
              "color": "#EBF0F8"
             },
             "line": {
              "color": "white"
             }
            },
            "header": {
             "fill": {
              "color": "#C8D4E3"
             },
             "line": {
              "color": "white"
             }
            },
            "type": "table"
           }
          ]
         },
         "layout": {
          "annotationdefaults": {
           "arrowcolor": "#2a3f5f",
           "arrowhead": 0,
           "arrowwidth": 1
          },
          "autotypenumbers": "strict",
          "coloraxis": {
           "colorbar": {
            "outlinewidth": 0,
            "ticks": ""
           }
          },
          "colorscale": {
           "diverging": [
            [
             0,
             "#8e0152"
            ],
            [
             0.1,
             "#c51b7d"
            ],
            [
             0.2,
             "#de77ae"
            ],
            [
             0.3,
             "#f1b6da"
            ],
            [
             0.4,
             "#fde0ef"
            ],
            [
             0.5,
             "#f7f7f7"
            ],
            [
             0.6,
             "#e6f5d0"
            ],
            [
             0.7,
             "#b8e186"
            ],
            [
             0.8,
             "#7fbc41"
            ],
            [
             0.9,
             "#4d9221"
            ],
            [
             1,
             "#276419"
            ]
           ],
           "sequential": [
            [
             0,
             "#0d0887"
            ],
            [
             0.1111111111111111,
             "#46039f"
            ],
            [
             0.2222222222222222,
             "#7201a8"
            ],
            [
             0.3333333333333333,
             "#9c179e"
            ],
            [
             0.4444444444444444,
             "#bd3786"
            ],
            [
             0.5555555555555556,
             "#d8576b"
            ],
            [
             0.6666666666666666,
             "#ed7953"
            ],
            [
             0.7777777777777778,
             "#fb9f3a"
            ],
            [
             0.8888888888888888,
             "#fdca26"
            ],
            [
             1,
             "#f0f921"
            ]
           ],
           "sequentialminus": [
            [
             0,
             "#0d0887"
            ],
            [
             0.1111111111111111,
             "#46039f"
            ],
            [
             0.2222222222222222,
             "#7201a8"
            ],
            [
             0.3333333333333333,
             "#9c179e"
            ],
            [
             0.4444444444444444,
             "#bd3786"
            ],
            [
             0.5555555555555556,
             "#d8576b"
            ],
            [
             0.6666666666666666,
             "#ed7953"
            ],
            [
             0.7777777777777778,
             "#fb9f3a"
            ],
            [
             0.8888888888888888,
             "#fdca26"
            ],
            [
             1,
             "#f0f921"
            ]
           ]
          },
          "colorway": [
           "#636efa",
           "#EF553B",
           "#00cc96",
           "#ab63fa",
           "#FFA15A",
           "#19d3f3",
           "#FF6692",
           "#B6E880",
           "#FF97FF",
           "#FECB52"
          ],
          "font": {
           "color": "#2a3f5f"
          },
          "geo": {
           "bgcolor": "white",
           "lakecolor": "white",
           "landcolor": "#E5ECF6",
           "showlakes": true,
           "showland": true,
           "subunitcolor": "white"
          },
          "hoverlabel": {
           "align": "left"
          },
          "hovermode": "closest",
          "mapbox": {
           "style": "light"
          },
          "paper_bgcolor": "white",
          "plot_bgcolor": "#E5ECF6",
          "polar": {
           "angularaxis": {
            "gridcolor": "white",
            "linecolor": "white",
            "ticks": ""
           },
           "bgcolor": "#E5ECF6",
           "radialaxis": {
            "gridcolor": "white",
            "linecolor": "white",
            "ticks": ""
           }
          },
          "scene": {
           "xaxis": {
            "backgroundcolor": "#E5ECF6",
            "gridcolor": "white",
            "gridwidth": 2,
            "linecolor": "white",
            "showbackground": true,
            "ticks": "",
            "zerolinecolor": "white"
           },
           "yaxis": {
            "backgroundcolor": "#E5ECF6",
            "gridcolor": "white",
            "gridwidth": 2,
            "linecolor": "white",
            "showbackground": true,
            "ticks": "",
            "zerolinecolor": "white"
           },
           "zaxis": {
            "backgroundcolor": "#E5ECF6",
            "gridcolor": "white",
            "gridwidth": 2,
            "linecolor": "white",
            "showbackground": true,
            "ticks": "",
            "zerolinecolor": "white"
           }
          },
          "shapedefaults": {
           "line": {
            "color": "#2a3f5f"
           }
          },
          "ternary": {
           "aaxis": {
            "gridcolor": "white",
            "linecolor": "white",
            "ticks": ""
           },
           "baxis": {
            "gridcolor": "white",
            "linecolor": "white",
            "ticks": ""
           },
           "bgcolor": "#E5ECF6",
           "caxis": {
            "gridcolor": "white",
            "linecolor": "white",
            "ticks": ""
           }
          },
          "title": {
           "x": 0.05
          },
          "xaxis": {
           "automargin": true,
           "gridcolor": "white",
           "linecolor": "white",
           "ticks": "",
           "title": {
            "standoff": 15
           },
           "zerolinecolor": "white",
           "zerolinewidth": 2
          },
          "yaxis": {
           "automargin": true,
           "gridcolor": "white",
           "linecolor": "white",
           "ticks": "",
           "title": {
            "standoff": 15
           },
           "zerolinecolor": "white",
           "zerolinewidth": 2
          }
         }
        },
        "title": {
         "text": "European Air Passenger Connections"
        },
        "updatemenus": [
         {
          "buttons": [
           {
            "args": [
             null,
             {
              "frame": {
               "duration": 500,
               "redraw": true
              },
              "fromcurrent": true,
              "mode": "immediate",
              "transition": {
               "duration": 500,
               "easing": "linear"
              }
             }
            ],
            "label": "&#9654;",
            "method": "animate"
           },
           {
            "args": [
             [
              null
             ],
             {
              "frame": {
               "duration": 0,
               "redraw": true
              },
              "fromcurrent": true,
              "mode": "immediate",
              "transition": {
               "duration": 0,
               "easing": "linear"
              }
             }
            ],
            "label": "&#9724;",
            "method": "animate"
           }
          ],
          "direction": "left",
          "pad": {
           "r": 10,
           "t": 70
          },
          "showactive": false,
          "type": "buttons",
          "x": 0.1,
          "xanchor": "right",
          "y": 0,
          "yanchor": "top"
         }
        ],
        "width": 1200
       }
      }
     },
     "metadata": {},
     "output_type": "display_data"
    }
   ],
   "source": [
    "#Top 100 City Pairs - Reducing the map to the top 100 city pairs to facilitate map figure readibility\n",
    "\n",
    "top_city_pairs = city_pairs_with_data.nlargest(200,'Total passengers')\n",
    "max_passengers = top_city_pairs['Total passengers'].max()\n",
    "\n",
    "fig_network_map = px.line_geo(\n",
    "    top_city_pairs,\n",
    "    lat='Latitude_A',\n",
    "    lon='Longitude_A',\n",
    "    title='European Air Passenger Connections',\n",
    "    projection='natural earth',\n",
    "    scope='europe',\n",
    "    hover_name= 'City_A_Name',\n",
    "    animation_frame= 'Year',\n",
    "    labels={'lat': 'Latitude', 'lon': 'Longitude'},\n",
    "    markers=True,\n",
    ")\n",
    "    # Add line\n",
    "fig_network_map.add_scattergeo(\n",
    "        lat=[row['Latitude_A'], row['Latitude_B']],\n",
    "        lon=[row['Longitude_A'], row['Longitude_B']],\n",
    "        mode='lines',\n",
    "        hoverinfo='text',\n",
    "        line=dict(width=2, color= 'blue'),\n",
    "        showlegend=True\n",
    "    )\n",
    "        # Add markers with labels for City A\n",
    "fig_network_map.add_scattergeo(\n",
    "        lat=[row['Latitude_A']],\n",
    "        lon=[row['Longitude_A']],\n",
    "        mode='markers+text',\n",
    "        marker=dict(size=6, color='red'),\n",
    "        text=row['City_A_Name'],\n",
    "        textposition=\"top center\",\n",
    "        showlegend=False\n",
    "    )\n",
    "    \n",
    "    # Add markers with labels for City B\n",
    "fig_network_map.add_scattergeo(\n",
    "        lat=[row['Latitude_B']],\n",
    "        lon=[row['Longitude_B']],\n",
    "        mode='markers+text',\n",
    "        marker=dict(size=6, color='red'),\n",
    "        text=row['City_B_Name'],\n",
    "        textposition=\"top center\",\n",
    "        showlegend=False\n",
    "    )\n",
    "\n",
    "# Update traces to customize marker and line styles\n",
    "fig_network_map.update_traces(marker=dict(size=4, color='orchid'), line=dict(width=2, color='blue'))\n",
    "\n",
    "# Update layout for better visualization\n",
    "fig_network_map.update_layout(\n",
    "        width=1200,  \n",
    "        height=800,  \n",
    "        geo=dict(\n",
    "        resolution=50,\n",
    "        showland=True,\n",
    "        landcolor=\"lightgray\",\n",
    "        showcoastlines=True,\n",
    "        coastlinecolor=\"black\",\n",
    "        showocean=True,\n",
    "        oceancolor=\"lightblue\",\n",
    "        showlakes=True,\n",
    "        lakecolor=\"lightblue\"\n",
    "    )\n",
    ")\n",
    "\n",
    "# Show the plot\n",
    "fig_network_map.show()\n"
   ]
  },
  {
   "cell_type": "code",
   "execution_count": null,
   "metadata": {},
   "outputs": [],
   "source": []
  }
 ],
 "metadata": {
  "kernelspec": {
   "display_name": "base",
   "language": "python",
   "name": "python3"
  },
  "language_info": {
   "codemirror_mode": {
    "name": "ipython",
    "version": 3
   },
   "file_extension": ".py",
   "mimetype": "text/x-python",
   "name": "python",
   "nbconvert_exporter": "python",
   "pygments_lexer": "ipython3",
   "version": "3.12.3"
  }
 },
 "nbformat": 4,
 "nbformat_minor": 2
}
