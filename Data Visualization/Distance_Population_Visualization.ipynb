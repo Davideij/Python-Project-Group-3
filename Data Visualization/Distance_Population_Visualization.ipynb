{
 "cells": [
  {
   "cell_type": "markdown",
   "metadata": {},
   "source": [
    "Scatter Plot Distance-Population"
   ]
  },
  {
   "cell_type": "code",
   "execution_count": 1,
   "metadata": {},
   "outputs": [],
   "source": [
    "import pandas as pd\n",
    "import plotly_express as px"
   ]
  },
  {
   "cell_type": "code",
   "execution_count": 29,
   "metadata": {},
   "outputs": [],
   "source": [
    "# Read the datasets\n",
    "cities_filepath = '../Data/AirportCodes_Cities_NUTS_Population.xlsx'\n",
    "distance_filepath = '../Data/CITIES_FINAL.xlsx'\n",
    "\n",
    "cities = pd.read_excel(cities_filepath)\n",
    "cities = cities.rename(columns={cities.columns[0]: 'City_Index'}).set_index('City_Index')\n",
    "distance2016 = pd.read_excel(distance_filepath, sheet_name='2016')\n"
   ]
  },
  {
   "cell_type": "code",
   "execution_count": 35,
   "metadata": {},
   "outputs": [],
   "source": [
    "# Prepare columns\n",
    "df = distance2016[['City_A_Name', 'City_B_Name', 'NUTS_3_code_A', 'NUTS_3_code_B', 'Distance',]]\n",
    "df.insert(loc=2, column='City_Pair_Name', value=None)\n",
    "\n",
    "df = df.copy()\n",
    "df['City_Pair_Name'] = df['City_A_Name'] + ' - ' + df['City_B_Name']\n",
    "\n",
    "\n",
    "df[['Combined_Pop_2016', 'Combined_Pop_2017', 'Combined_Pop_2018', 'Combined_Pop_2019']] = None\n",
    "years = [2016, 2017, 2018, 2019]\n",
    "\n",
    "df = df.merge(cities[['NUTS_3_code', '2016']], \n",
    "               left_on='NUTS_3_code_A', \n",
    "               right_on='NUTS_3_code', \n",
    "               how='left').rename(columns={'2016': '2016 Population_A'})\n",
    "\n",
    "# Merge for City B population\n",
    "df = df.merge(cities[['NUTS_3_code', '2016']], \n",
    "               left_on='NUTS_3_code_B', \n",
    "               right_on='NUTS_3_code', \n",
    "               how='left').rename(columns={'2016': '2016 Population_B'})\n",
    "\n",
    "# Drop the extra NUTS_3_code columns created during merging\n",
    "df = df.drop(columns=['NUTS_3_code_x', 'NUTS_3_code_y'])\n",
    "df = df.drop_duplicates()"
   ]
  },
  {
   "cell_type": "code",
   "execution_count": null,
   "metadata": {},
   "outputs": [],
   "source": [
    "\n"
   ]
  }
 ],
 "metadata": {
  "kernelspec": {
   "display_name": "TIL6022",
   "language": "python",
   "name": "python3"
  },
  "language_info": {
   "codemirror_mode": {
    "name": "ipython",
    "version": 3
   },
   "file_extension": ".py",
   "mimetype": "text/x-python",
   "name": "python",
   "nbconvert_exporter": "python",
   "pygments_lexer": "ipython3",
   "version": "3.12.5"
  }
 },
 "nbformat": 4,
 "nbformat_minor": 2
}
