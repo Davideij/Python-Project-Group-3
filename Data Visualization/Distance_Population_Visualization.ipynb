{
 "cells": [
  {
   "cell_type": "markdown",
   "metadata": {},
   "source": [
    "Scatter Plot Distance-Population"
   ]
  },
  {
   "cell_type": "code",
   "execution_count": 1,
   "metadata": {},
   "outputs": [],
   "source": [
    "import pandas as pd\n",
    "import plotly_express as px"
   ]
  },
  {
   "cell_type": "code",
   "execution_count": 2,
   "metadata": {},
   "outputs": [],
   "source": [
    "# Read the datasets\n",
    "cities_filepath = '../Data/AirportCodes_Cities_NUTS_Population.xlsx'\n",
    "distance_filepath = '../Data/CITIES_FINAL.xlsx'\n",
    "\n",
    "cities = pd.read_excel(cities_filepath)\n",
    "cities = cities.rename(columns={cities.columns[0]: 'City_Index'}).set_index('City_Index')\n",
    "distance2016 = pd.read_excel(distance_filepath, sheet_name='2016')\n"
   ]
  },
  {
   "cell_type": "code",
   "execution_count": 3,
   "metadata": {},
   "outputs": [],
   "source": [
    "# Prepare columns\n",
    "df = distance2016[['City_A_Name', 'City_B_Name', 'NUTS_3_code_A', 'NUTS_3_code_B', 'Distance',]]\n",
    "df.insert(loc=2, column='City_Pair_Name', value=None)\n",
    "\n",
    "df = df.copy()\n",
    "df['City_Pair_Name'] = df['City_A_Name'] + ' - ' + df['City_B_Name']\n",
    "\n",
    "\n",
    "df['Combined_Pop_2016'] = None\n",
    "years = [2016, 2017, 2018, 2019]\n",
    "\n",
    "df = df.merge(cities[['NUTS_3_code', '2016']], \n",
    "               left_on='NUTS_3_code_A', \n",
    "               right_on='NUTS_3_code', \n",
    "               how='left').rename(columns={'2016': '2016 Population_A'})\n",
    "\n",
    "# Merge for City B population\n",
    "df = df.merge(cities[['NUTS_3_code', '2016']], \n",
    "               left_on='NUTS_3_code_B', \n",
    "               right_on='NUTS_3_code', \n",
    "               how='left').rename(columns={'2016': '2016 Population_B'})\n",
    "\n",
    "# Drop the extra NUTS_3_code columns created during merging\n",
    "df = df.drop(columns=['NUTS_3_code_x', 'NUTS_3_code_y'])\n",
    "df = df.drop_duplicates()"
   ]
  },
  {
   "cell_type": "code",
   "execution_count": 6,
   "metadata": {},
   "outputs": [
    {
     "data": {
      "application/vnd.plotly.v1+json": {
       "config": {
        "plotlyServerURL": "https://plot.ly"
       },
       "data": [
        {
         "hovertemplate": "<b>%{hovertext}</b><br><br>City_Pair_Name=Paris - Toulouse<br>Distance (km)=%{x}<br>Combined Population 2016=%{y}<extra></extra>",
         "hovertext": [
          "Paris - Toulouse",
          "Paris - Toulouse"
         ],
         "legendgroup": "Paris - Toulouse",
         "marker": {
          "color": "#636efa",
          "symbol": "circle"
         },
         "mode": "markers",
         "name": "Paris - Toulouse",
         "orientation": "v",
         "showlegend": true,
         "type": "scatter",
         "x": [
          610.672306408928,
          640.685603711761
         ],
         "xaxis": "x",
         "y": [
          2726334,
          2570106
         ],
         "yaxis": "y"
        },
        {
         "hovertemplate": "<b>%{hovertext}</b><br><br>City_Pair_Name=Barcelona - Madrid<br>Distance (km)=%{x}<br>Combined Population 2016=%{y}<extra></extra>",
         "hovertext": [
          "Barcelona - Madrid"
         ],
         "legendgroup": "Barcelona - Madrid",
         "marker": {
          "color": "#EF553B",
          "symbol": "circle"
         },
         "mode": "markers",
         "name": "Barcelona - Madrid",
         "orientation": "v",
         "showlegend": true,
         "type": "scatter",
         "x": [
          496.744786620118
         ],
         "xaxis": "x",
         "y": [
          11884392
         ],
         "yaxis": "y"
        },
        {
         "hovertemplate": "<b>%{hovertext}</b><br><br>City_Pair_Name=Nice - Paris<br>Distance (km)=%{x}<br>Combined Population 2016=%{y}<extra></extra>",
         "hovertext": [
          "Nice - Paris",
          "Nice - Paris"
         ],
         "legendgroup": "Nice - Paris",
         "marker": {
          "color": "#00cc96",
          "symbol": "circle"
         },
         "mode": "markers",
         "name": "Nice - Paris",
         "orientation": "v",
         "showlegend": true,
         "type": "scatter",
         "x": [
          645.376754516887,
          687.2958584211141
         ],
         "xaxis": "x",
         "y": [
          2461855,
          2305627
         ],
         "yaxis": "y"
        },
        {
         "hovertemplate": "<b>%{hovertext}</b><br><br>City_Pair_Name=Berlin - Munich<br>Distance (km)=%{x}<br>Combined Population 2016=%{y}<extra></extra>",
         "hovertext": [
          "Berlin - Munich"
         ],
         "legendgroup": "Berlin - Munich",
         "marker": {
          "color": "#ab63fa",
          "symbol": "circle"
         },
         "mode": "markers",
         "name": "Berlin - Munich",
         "orientation": "v",
         "showlegend": true,
         "type": "scatter",
         "x": [
          501.031167189001
         ],
         "xaxis": "x",
         "y": [
          4970412
         ],
         "yaxis": "y"
        },
        {
         "hovertemplate": "<b>%{hovertext}</b><br><br>City_Pair_Name=Berlin - Frankfurt<br>Distance (km)=%{x}<br>Combined Population 2016=%{y}<extra></extra>",
         "hovertext": [
          "Berlin - Frankfurt"
         ],
         "legendgroup": "Berlin - Frankfurt",
         "marker": {
          "color": "#FFA15A",
          "symbol": "circle"
         },
         "mode": "markers",
         "name": "Berlin - Frankfurt",
         "orientation": "v",
         "showlegend": true,
         "type": "scatter",
         "x": [
          423.686712362807
         ],
         "xaxis": "x",
         "y": [
          4252719
         ],
         "yaxis": "y"
        },
        {
         "hovertemplate": "<b>%{hovertext}</b><br><br>City_Pair_Name=Hamburg - Munich<br>Distance (km)=%{x}<br>Combined Population 2016=%{y}<extra></extra>",
         "hovertext": [
          "Hamburg - Munich"
         ],
         "legendgroup": "Hamburg - Munich",
         "marker": {
          "color": "#19d3f3",
          "symbol": "circle"
         },
         "mode": "markers",
         "name": "Hamburg - Munich",
         "orientation": "v",
         "showlegend": true,
         "type": "scatter",
         "x": [
          608.827545798698
         ],
         "xaxis": "x",
         "y": [
          3237789
         ],
         "yaxis": "y"
        },
        {
         "hovertemplate": "<b>%{hovertext}</b><br><br>City_Pair_Name=Barcelona - Palma de Mallorca<br>Distance (km)=%{x}<br>Combined Population 2016=%{y}<extra></extra>",
         "hovertext": [
          "Barcelona - Palma de Mallorca"
         ],
         "legendgroup": "Barcelona - Palma de Mallorca",
         "marker": {
          "color": "#FF6692",
          "symbol": "circle"
         },
         "mode": "markers",
         "name": "Barcelona - Palma de Mallorca",
         "orientation": "v",
         "showlegend": true,
         "type": "scatter",
         "x": [
          249.225541856928
         ],
         "xaxis": "x",
         "y": [
          6343260
         ],
         "yaxis": "y"
        },
        {
         "hovertemplate": "<b>%{hovertext}</b><br><br>City_Pair_Name=Madrid - Palma de Mallorca<br>Distance (km)=%{x}<br>Combined Population 2016=%{y}<extra></extra>",
         "hovertext": [
          "Madrid - Palma de Mallorca"
         ],
         "legendgroup": "Madrid - Palma de Mallorca",
         "marker": {
          "color": "#B6E880",
          "symbol": "circle"
         },
         "mode": "markers",
         "name": "Madrid - Palma de Mallorca",
         "orientation": "v",
         "showlegend": true,
         "type": "scatter",
         "x": [
          576.185840400148
         ],
         "xaxis": "x",
         "y": [
          7281800
         ],
         "yaxis": "y"
        },
        {
         "hovertemplate": "<b>%{hovertext}</b><br><br>City_Pair_Name=DÃ¼sseldorf - Munich<br>Distance (km)=%{x}<br>Combined Population 2016=%{y}<extra></extra>",
         "hovertext": [
          "DÃ¼sseldorf - Munich"
         ],
         "legendgroup": "DÃ¼sseldorf - Munich",
         "marker": {
          "color": "#FF97FF",
          "symbol": "circle"
         },
         "mode": "markers",
         "name": "DÃ¼sseldorf - Munich",
         "orientation": "v",
         "showlegend": true,
         "type": "scatter",
         "x": [
          483.06189797833997
         ],
         "xaxis": "x",
         "y": [
          2062559
         ],
         "yaxis": "y"
        },
        {
         "hovertemplate": "<b>%{hovertext}</b><br><br>City_Pair_Name=Gran Canaria - Madrid<br>Distance (km)=%{x}<br>Combined Population 2016=%{y}<extra></extra>",
         "hovertext": [
          "Gran Canaria - Madrid"
         ],
         "legendgroup": "Gran Canaria - Madrid",
         "marker": {
          "color": "#FECB52",
          "symbol": "circle"
         },
         "mode": "markers",
         "name": "Gran Canaria - Madrid",
         "orientation": "v",
         "showlegend": true,
         "type": "scatter",
         "x": [
          1767.46336319124
         ],
         "xaxis": "x",
         "y": [
          7258572
         ],
         "yaxis": "y"
        },
        {
         "hovertemplate": "<b>%{hovertext}</b><br><br>City_Pair_Name=Frankfurt - Hamburg<br>Distance (km)=%{x}<br>Combined Population 2016=%{y}<extra></extra>",
         "hovertext": [
          "Frankfurt - Hamburg"
         ],
         "legendgroup": "Frankfurt - Hamburg",
         "marker": {
          "color": "#636efa",
          "symbol": "circle"
         },
         "mode": "markers",
         "name": "Frankfurt - Hamburg",
         "orientation": "v",
         "showlegend": true,
         "type": "scatter",
         "x": [
          392.60885455236297
         ],
         "xaxis": "x",
         "y": [
          2520096
         ],
         "yaxis": "y"
        },
        {
         "hovertemplate": "<b>%{hovertext}</b><br><br>City_Pair_Name=Amsterdam - Barcelona<br>Distance (km)=%{x}<br>Combined Population 2016=%{y}<extra></extra>",
         "hovertext": [
          "Amsterdam - Barcelona"
         ],
         "legendgroup": "Amsterdam - Barcelona",
         "marker": {
          "color": "#EF553B",
          "symbol": "circle"
         },
         "mode": "markers",
         "name": "Amsterdam - Barcelona",
         "orientation": "v",
         "showlegend": true,
         "type": "scatter",
         "x": [
          1205.3651599208802
         ],
         "xaxis": "x",
         "y": [
          6802498
         ],
         "yaxis": "y"
        },
        {
         "hovertemplate": "<b>%{hovertext}</b><br><br>City_Pair_Name=Madrid - Tenerife North<br>Distance (km)=%{x}<br>Combined Population 2016=%{y}<extra></extra>",
         "hovertext": [
          "Madrid - Tenerife North"
         ],
         "legendgroup": "Madrid - Tenerife North",
         "marker": {
          "color": "#00cc96",
          "symbol": "circle"
         },
         "mode": "markers",
         "name": "Madrid - Tenerife North",
         "orientation": "v",
         "showlegend": true,
         "type": "scatter",
         "x": [
          1793.2037689993601
         ],
         "xaxis": "x",
         "y": [
          7301724
         ],
         "yaxis": "y"
        },
        {
         "hovertemplate": "<b>%{hovertext}</b><br><br>City_Pair_Name=DÃ¼sseldorf - Palma de Mallorca<br>Distance (km)=%{x}<br>Combined Population 2016=%{y}<extra></extra>",
         "hovertext": [
          "DÃ¼sseldorf - Palma de Mallorca"
         ],
         "legendgroup": "DÃ¼sseldorf - Palma de Mallorca",
         "marker": {
          "color": "#ab63fa",
          "symbol": "circle"
         },
         "mode": "markers",
         "name": "DÃ¼sseldorf - Palma de Mallorca",
         "orientation": "v",
         "showlegend": true,
         "type": "scatter",
         "x": [
          1326.42201990679
         ],
         "xaxis": "x",
         "y": [
          1482512
         ],
         "yaxis": "y"
        },
        {
         "hovertemplate": "<b>%{hovertext}</b><br><br>City_Pair_Name=Berlin - Cologne<br>Distance (km)=%{x}<br>Combined Population 2016=%{y}<extra></extra>",
         "hovertext": [
          "Berlin - Cologne"
         ],
         "legendgroup": "Berlin - Cologne",
         "marker": {
          "color": "#FFA15A",
          "symbol": "circle"
         },
         "mode": "markers",
         "name": "Berlin - Cologne",
         "orientation": "v",
         "showlegend": true,
         "type": "scatter",
         "x": [
          475.18279134836797
         ],
         "xaxis": "x",
         "y": [
          4580613
         ],
         "yaxis": "y"
        },
        {
         "hovertemplate": "<b>%{hovertext}</b><br><br>City_Pair_Name=Barcelona - Paris<br>Distance (km)=%{x}<br>Combined Population 2016=%{y}<extra></extra>",
         "hovertext": [
          "Barcelona - Paris",
          "Barcelona - Paris"
         ],
         "legendgroup": "Barcelona - Paris",
         "marker": {
          "color": "#19d3f3",
          "symbol": "circle"
         },
         "mode": "markers",
         "name": "Barcelona - Paris",
         "orientation": "v",
         "showlegend": true,
         "type": "scatter",
         "x": [
          817.6545978779959,
          784.517352689714
         ],
         "xaxis": "x",
         "y": [
          6694849,
          6851077
         ],
         "yaxis": "y"
        },
        {
         "hovertemplate": "<b>%{hovertext}</b><br><br>City_Pair_Name=Madrid - Paris<br>Distance (km)=%{x}<br>Combined Population 2016=%{y}<extra></extra>",
         "hovertext": [
          "Madrid - Paris",
          "Madrid - Paris"
         ],
         "legendgroup": "Madrid - Paris",
         "marker": {
          "color": "#FF6692",
          "symbol": "circle"
         },
         "mode": "markers",
         "name": "Madrid - Paris",
         "orientation": "v",
         "showlegend": true,
         "type": "scatter",
         "x": [
          1042.11497925417,
          1059.88503714606
         ],
         "xaxis": "x",
         "y": [
          7789617,
          7633389
         ],
         "yaxis": "y"
        },
        {
         "hovertemplate": "<b>%{hovertext}</b><br><br>City_Pair_Name=Amsterdam - Paris<br>Distance (km)=%{x}<br>Combined Population 2016=%{y}<extra></extra>",
         "hovertext": [
          "Amsterdam - Paris",
          "Amsterdam - Paris"
         ],
         "legendgroup": "Amsterdam - Paris",
         "marker": {
          "color": "#B6E880",
          "symbol": "circle"
         },
         "mode": "markers",
         "name": "Amsterdam - Paris",
         "orientation": "v",
         "showlegend": true,
         "type": "scatter",
         "x": [
          415.670102647753,
          436.478912401619
         ],
         "xaxis": "x",
         "y": [
          2551495,
          2707723
         ],
         "yaxis": "y"
        },
        {
         "hovertemplate": "<b>%{hovertext}</b><br><br>City_Pair_Name=Berlin - DÃ¼sseldorf<br>Distance (km)=%{x}<br>Combined Population 2016=%{y}<extra></extra>",
         "hovertext": [
          "Berlin - DÃ¼sseldorf"
         ],
         "legendgroup": "Berlin - DÃ¼sseldorf",
         "marker": {
          "color": "#FF97FF",
          "symbol": "circle"
         },
         "mode": "markers",
         "name": "Berlin - DÃ¼sseldorf",
         "orientation": "v",
         "showlegend": true,
         "type": "scatter",
         "x": [
          473.7790869111
         ],
         "xaxis": "x",
         "y": [
          4132209
         ],
         "yaxis": "y"
        },
        {
         "hovertemplate": "<b>%{hovertext}</b><br><br>City_Pair_Name=Frankfurt - Munich<br>Distance (km)=%{x}<br>Combined Population 2016=%{y}<extra></extra>",
         "hovertext": [
          "Frankfurt - Munich"
         ],
         "legendgroup": "Frankfurt - Munich",
         "marker": {
          "color": "#FECB52",
          "symbol": "circle"
         },
         "mode": "markers",
         "name": "Frankfurt - Munich",
         "orientation": "v",
         "showlegend": true,
         "type": "scatter",
         "x": [
          303.686425226354
         ],
         "xaxis": "x",
         "y": [
          2183069
         ],
         "yaxis": "y"
        },
        {
         "hovertemplate": "<b>%{hovertext}</b><br><br>City_Pair_Name=Frankfurt - Madrid<br>Distance (km)=%{x}<br>Combined Population 2016=%{y}<extra></extra>",
         "hovertext": [
          "Frankfurt - Madrid"
         ],
         "legendgroup": "Frankfurt - Madrid",
         "marker": {
          "color": "#636efa",
          "symbol": "circle"
         },
         "mode": "markers",
         "name": "Frankfurt - Madrid",
         "orientation": "v",
         "showlegend": true,
         "type": "scatter",
         "x": [
          1438.33234549101
         ],
         "xaxis": "x",
         "y": [
          7144154
         ],
         "yaxis": "y"
        },
        {
         "hovertemplate": "<b>%{hovertext}</b><br><br>City_Pair_Name=Barcelona - Ibiza<br>Distance (km)=%{x}<br>Combined Population 2016=%{y}<extra></extra>",
         "hovertext": [
          "Barcelona - Ibiza"
         ],
         "legendgroup": "Barcelona - Ibiza",
         "marker": {
          "color": "#EF553B",
          "symbol": "circle"
         },
         "mode": "markers",
         "name": "Barcelona - Ibiza",
         "orientation": "v",
         "showlegend": true,
         "type": "scatter",
         "x": [
          309.20293422786
         ],
         "xaxis": "x",
         "y": [
          5628052
         ],
         "yaxis": "y"
        },
        {
         "hovertemplate": "<b>%{hovertext}</b><br><br>City_Pair_Name=Barcelona - Frankfurt<br>Distance (km)=%{x}<br>Combined Population 2016=%{y}<extra></extra>",
         "hovertext": [
          "Barcelona - Frankfurt"
         ],
         "legendgroup": "Barcelona - Frankfurt",
         "marker": {
          "color": "#00cc96",
          "symbol": "circle"
         },
         "mode": "markers",
         "name": "Barcelona - Frankfurt",
         "orientation": "v",
         "showlegend": true,
         "type": "scatter",
         "x": [
          1064.51760751428
         ],
         "xaxis": "x",
         "y": [
          6205614
         ],
         "yaxis": "y"
        },
        {
         "hovertemplate": "<b>%{hovertext}</b><br><br>City_Pair_Name=Amsterdam - Madrid<br>Distance (km)=%{x}<br>Combined Population 2016=%{y}<extra></extra>",
         "hovertext": [
          "Amsterdam - Madrid"
         ],
         "legendgroup": "Amsterdam - Madrid",
         "marker": {
          "color": "#ab63fa",
          "symbol": "circle"
         },
         "mode": "markers",
         "name": "Amsterdam - Madrid",
         "orientation": "v",
         "showlegend": true,
         "type": "scatter",
         "x": [
          1475.49110884076
         ],
         "xaxis": "x",
         "y": [
          7741038
         ],
         "yaxis": "y"
        },
        {
         "hovertemplate": "<b>%{hovertext}</b><br><br>City_Pair_Name=Bordeaux - Paris<br>Distance (km)=%{x}<br>Combined Population 2016=%{y}<extra></extra>",
         "hovertext": [
          "Bordeaux - Paris",
          "Bordeaux - Paris"
         ],
         "legendgroup": "Bordeaux - Paris",
         "marker": {
          "color": "#FFA15A",
          "symbol": "circle"
         },
         "mode": "markers",
         "name": "Bordeaux - Paris",
         "orientation": "v",
         "showlegend": true,
         "type": "scatter",
         "x": [
          496.925829543844,
          516.266724239048
         ],
         "xaxis": "x",
         "y": [
          2944830,
          2788602
         ],
         "yaxis": "y"
        },
        {
         "hovertemplate": "<b>%{hovertext}</b><br><br>City_Pair_Name=Berlin - Stuttgart<br>Distance (km)=%{x}<br>Combined Population 2016=%{y}<extra></extra>",
         "hovertext": [
          "Berlin - Stuttgart"
         ],
         "legendgroup": "Berlin - Stuttgart",
         "marker": {
          "color": "#19d3f3",
          "symbol": "circle"
         },
         "mode": "markers",
         "name": "Berlin - Stuttgart",
         "orientation": "v",
         "showlegend": true,
         "type": "scatter",
         "x": [
          510.30360551884297
         ],
         "xaxis": "x",
         "y": [
          4143769
         ],
         "yaxis": "y"
        },
        {
         "hovertemplate": "<b>%{hovertext}</b><br><br>City_Pair_Name=Cologne - Munich<br>Distance (km)=%{x}<br>Combined Population 2016=%{y}<extra></extra>",
         "hovertext": [
          "Cologne - Munich"
         ],
         "legendgroup": "Cologne - Munich",
         "marker": {
          "color": "#FF6692",
          "symbol": "circle"
         },
         "mode": "markers",
         "name": "Cologne - Munich",
         "orientation": "v",
         "showlegend": true,
         "type": "scatter",
         "x": [
          452.861881060905
         ],
         "xaxis": "x",
         "y": [
          2510963
         ],
         "yaxis": "y"
        },
        {
         "hovertemplate": "<b>%{hovertext}</b><br><br>City_Pair_Name=Cologne - Palma de Mallorca<br>Distance (km)=%{x}<br>Combined Population 2016=%{y}<extra></extra>",
         "hovertext": [
          "Cologne - Palma de Mallorca"
         ],
         "legendgroup": "Cologne - Palma de Mallorca",
         "marker": {
          "color": "#B6E880",
          "symbol": "circle"
         },
         "mode": "markers",
         "name": "Cologne - Palma de Mallorca",
         "orientation": "v",
         "showlegend": true,
         "type": "scatter",
         "x": [
          1298.2059571056502
         ],
         "xaxis": "x",
         "y": [
          1930916
         ],
         "yaxis": "y"
        },
        {
         "hovertemplate": "<b>%{hovertext}</b><br><br>City_Pair_Name=Marseille - Paris<br>Distance (km)=%{x}<br>Combined Population 2016=%{y}<extra></extra>",
         "hovertext": [
          "Marseille - Paris",
          "Marseille - Paris"
         ],
         "legendgroup": "Marseille - Paris",
         "marker": {
          "color": "#FF97FF",
          "symbol": "circle"
         },
         "mode": "markers",
         "name": "Marseille - Paris",
         "orientation": "v",
         "showlegend": true,
         "type": "scatter",
         "x": [
          615.7859629890961,
          656.2448881051671
         ],
         "xaxis": "x",
         "y": [
          3397868,
          3241640
         ],
         "yaxis": "y"
        },
        {
         "hovertemplate": "<b>%{hovertext}</b><br><br>City_Pair_Name=Frankfurt - Paris<br>Distance (km)=%{x}<br>Combined Population 2016=%{y}<extra></extra>",
         "hovertext": [
          "Frankfurt - Paris"
         ],
         "legendgroup": "Frankfurt - Paris",
         "marker": {
          "color": "#FECB52",
          "symbol": "circle"
         },
         "mode": "markers",
         "name": "Frankfurt - Paris",
         "orientation": "v",
         "showlegend": true,
         "type": "scatter",
         "x": [
          483.079624586604
         ],
         "xaxis": "x",
         "y": [
          1954611
         ],
         "yaxis": "y"
        },
        {
         "hovertemplate": "<b>%{hovertext}</b><br><br>City_Pair_Name=Barcelona - Brussels<br>Distance (km)=%{x}<br>Combined Population 2016=%{y}<extra></extra>",
         "hovertext": [
          "Barcelona - Brussels"
         ],
         "legendgroup": "Barcelona - Brussels",
         "marker": {
          "color": "#636efa",
          "symbol": "circle"
         },
         "mode": "markers",
         "name": "Barcelona - Brussels",
         "orientation": "v",
         "showlegend": true,
         "type": "scatter",
         "x": [
          1028.94825437443
         ],
         "xaxis": "x",
         "y": [
          6674211
         ],
         "yaxis": "y"
        },
        {
         "hovertemplate": "<b>%{hovertext}</b><br><br>City_Pair_Name=Barcelona - Seville<br>Distance (km)=%{x}<br>Combined Population 2016=%{y}<extra></extra>",
         "hovertext": [
          "Barcelona - Seville"
         ],
         "legendgroup": "Barcelona - Seville",
         "marker": {
          "color": "#EF553B",
          "symbol": "circle"
         },
         "mode": "markers",
         "name": "Barcelona - Seville",
         "orientation": "v",
         "showlegend": true,
         "type": "scatter",
         "x": [
          811.655848444259
         ],
         "xaxis": "x",
         "y": [
          7408516
         ],
         "yaxis": "y"
        },
        {
         "hovertemplate": "<b>%{hovertext}</b><br><br>City_Pair_Name=Munich - Paris<br>Distance (km)=%{x}<br>Combined Population 2016=%{y}<extra></extra>",
         "hovertext": [
          "Munich - Paris",
          "Munich - Paris"
         ],
         "legendgroup": "Munich - Paris",
         "marker": {
          "color": "#00cc96",
          "symbol": "circle"
         },
         "mode": "markers",
         "name": "Munich - Paris",
         "orientation": "v",
         "showlegend": true,
         "type": "scatter",
         "x": [
          699.208424968156,
          672.4853091423829
         ],
         "xaxis": "x",
         "y": [
          2672304,
          2828532
         ],
         "yaxis": "y"
        },
        {
         "hovertemplate": "<b>%{hovertext}</b><br><br>City_Pair_Name=Hamburg - Palma de Mallorca<br>Distance (km)=%{x}<br>Combined Population 2016=%{y}<extra></extra>",
         "hovertext": [
          "Hamburg - Palma de Mallorca"
         ],
         "legendgroup": "Hamburg - Palma de Mallorca",
         "marker": {
          "color": "#ab63fa",
          "symbol": "circle"
         },
         "mode": "markers",
         "name": "Hamburg - Palma de Mallorca",
         "orientation": "v",
         "showlegend": true,
         "type": "scatter",
         "x": [
          1638.48948370042
         ],
         "xaxis": "x",
         "y": [
          2657742
         ],
         "yaxis": "y"
        },
        {
         "hovertemplate": "<b>%{hovertext}</b><br><br>City_Pair_Name=Frankfurt - Palma de Mallorca<br>Distance (km)=%{x}<br>Combined Population 2016=%{y}<extra></extra>",
         "hovertext": [
          "Frankfurt - Palma de Mallorca",
          "Frankfurt - Palma de Mallorca"
         ],
         "legendgroup": "Frankfurt - Palma de Mallorca",
         "marker": {
          "color": "#FFA15A",
          "symbol": "circle"
         },
         "mode": "markers",
         "name": "Frankfurt - Palma de Mallorca",
         "orientation": "v",
         "showlegend": true,
         "type": "scatter",
         "x": [
          1250.1093005840798,
          1213.25755177668
         ],
         "xaxis": "x",
         "y": [
          1603022,
          972863
         ],
         "yaxis": "y"
        },
        {
         "hovertemplate": "<b>%{hovertext}</b><br><br>City_Pair_Name=Amsterdam - Frankfurt<br>Distance (km)=%{x}<br>Combined Population 2016=%{y}<extra></extra>",
         "hovertext": [
          "Amsterdam - Frankfurt"
         ],
         "legendgroup": "Amsterdam - Frankfurt",
         "marker": {
          "color": "#19d3f3",
          "symbol": "circle"
         },
         "mode": "markers",
         "name": "Amsterdam - Frankfurt",
         "orientation": "v",
         "showlegend": true,
         "type": "scatter",
         "x": [
          363.70986950103395
         ],
         "xaxis": "x",
         "y": [
          2062260
         ],
         "yaxis": "y"
        },
        {
         "hovertemplate": "<b>%{hovertext}</b><br><br>City_Pair_Name=Madrid - Munich<br>Distance (km)=%{x}<br>Combined Population 2016=%{y}<extra></extra>",
         "hovertext": [
          "Madrid - Munich"
         ],
         "legendgroup": "Madrid - Munich",
         "marker": {
          "color": "#FF6692",
          "symbol": "circle"
         },
         "mode": "markers",
         "name": "Madrid - Munich",
         "orientation": "v",
         "showlegend": true,
         "type": "scatter",
         "x": [
          1478.7362134559298
         ],
         "xaxis": "x",
         "y": [
          7861847
         ],
         "yaxis": "y"
        },
        {
         "hovertemplate": "<b>%{hovertext}</b><br><br>City_Pair_Name=Amsterdam - Munich<br>Distance (km)=%{x}<br>Combined Population 2016=%{y}<extra></extra>",
         "hovertext": [
          "Amsterdam - Munich"
         ],
         "legendgroup": "Amsterdam - Munich",
         "marker": {
          "color": "#B6E880",
          "symbol": "circle"
         },
         "mode": "markers",
         "name": "Amsterdam - Munich",
         "orientation": "v",
         "showlegend": true,
         "type": "scatter",
         "x": [
          667.3874185834001
         ],
         "xaxis": "x",
         "y": [
          2779953
         ],
         "yaxis": "y"
        },
        {
         "hovertemplate": "<b>%{hovertext}</b><br><br>City_Pair_Name=Barcelona - Munich<br>Distance (km)=%{x}<br>Combined Population 2016=%{y}<extra></extra>",
         "hovertext": [
          "Barcelona - Munich"
         ],
         "legendgroup": "Barcelona - Munich",
         "marker": {
          "color": "#FF97FF",
          "symbol": "circle"
         },
         "mode": "markers",
         "name": "Barcelona - Munich",
         "orientation": "v",
         "showlegend": true,
         "type": "scatter",
         "x": [
          1036.17036339819
         ],
         "xaxis": "x",
         "y": [
          6923307
         ],
         "yaxis": "y"
        },
        {
         "hovertemplate": "<b>%{hovertext}</b><br><br>City_Pair_Name=Brussels - Madrid<br>Distance (km)=%{x}<br>Combined Population 2016=%{y}<extra></extra>",
         "hovertext": [
          "Brussels - Madrid"
         ],
         "legendgroup": "Brussels - Madrid",
         "marker": {
          "color": "#FECB52",
          "symbol": "circle"
         },
         "mode": "markers",
         "name": "Brussels - Madrid",
         "orientation": "v",
         "showlegend": true,
         "type": "scatter",
         "x": [
          1308.73982545621
         ],
         "xaxis": "x",
         "y": [
          7612751
         ],
         "yaxis": "y"
        },
        {
         "hovertemplate": "<b>%{hovertext}</b><br><br>City_Pair_Name=Munich - Palma de Mallorca<br>Distance (km)=%{x}<br>Combined Population 2016=%{y}<extra></extra>",
         "hovertext": [
          "Munich - Palma de Mallorca"
         ],
         "legendgroup": "Munich - Palma de Mallorca",
         "marker": {
          "color": "#636efa",
          "symbol": "circle"
         },
         "mode": "markers",
         "name": "Munich - Palma de Mallorca",
         "orientation": "v",
         "showlegend": true,
         "type": "scatter",
         "x": [
          1171.2395609419
         ],
         "xaxis": "x",
         "y": [
          2320715
         ],
         "yaxis": "y"
        },
        {
         "hovertemplate": "<b>%{hovertext}</b><br><br>City_Pair_Name=Palma de Mallorca - Stuttgart<br>Distance (km)=%{x}<br>Combined Population 2016=%{y}<extra></extra>",
         "hovertext": [
          "Palma de Mallorca - Stuttgart"
         ],
         "legendgroup": "Palma de Mallorca - Stuttgart",
         "marker": {
          "color": "#EF553B",
          "symbol": "circle"
         },
         "mode": "markers",
         "name": "Palma de Mallorca - Stuttgart",
         "orientation": "v",
         "showlegend": true,
         "type": "scatter",
         "x": [
          1131.9399043855599
         ],
         "xaxis": "x",
         "y": [
          1494072
         ],
         "yaxis": "y"
        },
        {
         "hovertemplate": "<b>%{hovertext}</b><br><br>City_Pair_Name=Bilbao - Madrid<br>Distance (km)=%{x}<br>Combined Population 2016=%{y}<extra></extra>",
         "hovertext": [
          "Bilbao - Madrid"
         ],
         "legendgroup": "Bilbao - Madrid",
         "marker": {
          "color": "#00cc96",
          "symbol": "circle"
         },
         "mode": "markers",
         "name": "Bilbao - Madrid",
         "orientation": "v",
         "showlegend": true,
         "type": "scatter",
         "x": [
          313.89499803948405
         ],
         "xaxis": "x",
         "y": [
          7551657
         ],
         "yaxis": "y"
        },
        {
         "hovertemplate": "<b>%{hovertext}</b><br><br>City_Pair_Name=Barcelona - Menorca<br>Distance (km)=%{x}<br>Combined Population 2016=%{y}<extra></extra>",
         "hovertext": [
          "Barcelona - Menorca"
         ],
         "legendgroup": "Barcelona - Menorca",
         "marker": {
          "color": "#ab63fa",
          "symbol": "circle"
         },
         "mode": "markers",
         "name": "Barcelona - Menorca",
         "orientation": "v",
         "showlegend": true,
         "type": "scatter",
         "x": [
          263.943607462963
         ],
         "xaxis": "x",
         "y": [
          5564819
         ],
         "yaxis": "y"
        },
        {
         "hovertemplate": "<b>%{hovertext}</b><br><br>City_Pair_Name=Hamburg - Stuttgart<br>Distance (km)=%{x}<br>Combined Population 2016=%{y}<extra></extra>",
         "hovertext": [
          "Hamburg - Stuttgart"
         ],
         "legendgroup": "Hamburg - Stuttgart",
         "marker": {
          "color": "#FFA15A",
          "symbol": "circle"
         },
         "mode": "markers",
         "name": "Hamburg - Stuttgart",
         "orientation": "v",
         "showlegend": true,
         "type": "scatter",
         "x": [
          533.5531595518011
         ],
         "xaxis": "x",
         "y": [
          2411146
         ],
         "yaxis": "y"
        },
        {
         "hovertemplate": "<b>%{hovertext}</b><br><br>City_Pair_Name=Berlin - Paris<br>Distance (km)=%{x}<br>Combined Population 2016=%{y}<extra></extra>",
         "hovertext": [
          "Berlin - Paris",
          "Berlin - Paris"
         ],
         "legendgroup": "Berlin - Paris",
         "marker": {
          "color": "#19d3f3",
          "symbol": "circle"
         },
         "mode": "markers",
         "name": "Berlin - Paris",
         "orientation": "v",
         "showlegend": true,
         "type": "scatter",
         "x": [
          877.442211340939,
          873.999503273001
         ],
         "xaxis": "x",
         "y": [
          4741954,
          4898182
         ],
         "yaxis": "y"
        },
        {
         "hovertemplate": "<b>%{hovertext}</b><br><br>City_Pair_Name=Ibiza - Madrid<br>Distance (km)=%{x}<br>Combined Population 2016=%{y}<extra></extra>",
         "hovertext": [
          "Ibiza - Madrid"
         ],
         "legendgroup": "Ibiza - Madrid",
         "marker": {
          "color": "#FF6692",
          "symbol": "circle"
         },
         "mode": "markers",
         "name": "Ibiza - Madrid",
         "orientation": "v",
         "showlegend": true,
         "type": "scatter",
         "x": [
          469.310061002716
         ],
         "xaxis": "x",
         "y": [
          6566592
         ],
         "yaxis": "y"
        },
        {
         "hovertemplate": "<b>%{hovertext}</b><br><br>City_Pair_Name=Gran Canaria - Tenerife North<br>Distance (km)=%{x}<br>Combined Population 2016=%{y}<extra></extra>",
         "hovertext": [
          "Gran Canaria - Tenerife North"
         ],
         "legendgroup": "Gran Canaria - Tenerife North",
         "marker": {
          "color": "#B6E880",
          "symbol": "circle"
         },
         "mode": "markers",
         "name": "Gran Canaria - Tenerife North",
         "orientation": "v",
         "showlegend": true,
         "type": "scatter",
         "x": [
          101.687018729117
         ],
         "xaxis": "x",
         "y": [
          1737364
         ],
         "yaxis": "y"
        },
        {
         "hovertemplate": "<b>%{hovertext}</b><br><br>City_Pair_Name=DÃ¼sseldorf - Hamburg<br>Distance (km)=%{x}<br>Combined Population 2016=%{y}<extra></extra>",
         "hovertext": [
          "DÃ¼sseldorf - Hamburg"
         ],
         "legendgroup": "DÃ¼sseldorf - Hamburg",
         "marker": {
          "color": "#FF97FF",
          "symbol": "circle"
         },
         "mode": "markers",
         "name": "DÃ¼sseldorf - Hamburg",
         "orientation": "v",
         "showlegend": true,
         "type": "scatter",
         "x": [
          336.68180757412404
         ],
         "xaxis": "x",
         "y": [
          2399586
         ],
         "yaxis": "y"
        },
        {
         "hovertemplate": "<b>%{hovertext}</b><br><br>City_Pair_Name=Barcelona - Malaga<br>Distance (km)=%{x}<br>Combined Population 2016=%{y}<extra></extra>",
         "hovertext": [
          "Barcelona - Malaga"
         ],
         "legendgroup": "Barcelona - Malaga",
         "marker": {
          "color": "#FECB52",
          "symbol": "circle"
         },
         "mode": "markers",
         "name": "Barcelona - Malaga",
         "orientation": "v",
         "showlegend": true,
         "type": "scatter",
         "x": [
          794.792276847837
         ],
         "xaxis": "x",
         "y": [
          7111304
         ],
         "yaxis": "y"
        },
        {
         "hovertemplate": "<b>%{hovertext}</b><br><br>City_Pair_Name=A Coruna - Madrid<br>Distance (km)=%{x}<br>Combined Population 2016=%{y}<extra></extra>",
         "hovertext": [
          "A Coruna - Madrid"
         ],
         "legendgroup": "A Coruna - Madrid",
         "marker": {
          "color": "#636efa",
          "symbol": "circle"
         },
         "mode": "markers",
         "name": "A Coruna - Madrid",
         "orientation": "v",
         "showlegend": true,
         "type": "scatter",
         "x": [
          490.448768592743
         ],
         "xaxis": "x",
         "y": [
          7534481
         ],
         "yaxis": "y"
        },
        {
         "hovertemplate": "<b>%{hovertext}</b><br><br>City_Pair_Name=Madrid - Santiago de Compostela<br>Distance (km)=%{x}<br>Combined Population 2016=%{y}<extra></extra>",
         "hovertext": [
          "Madrid - Santiago de Compostela"
         ],
         "legendgroup": "Madrid - Santiago de Compostela",
         "marker": {
          "color": "#EF553B",
          "symbol": "circle"
         },
         "mode": "markers",
         "name": "Madrid - Santiago de Compostela",
         "orientation": "v",
         "showlegend": true,
         "type": "scatter",
         "x": [
          490.448768592743
         ],
         "xaxis": "x",
         "y": [
          7534481
         ],
         "yaxis": "y"
        },
        {
         "hovertemplate": "<b>%{hovertext}</b><br><br>City_Pair_Name=Barcelona - Bilbao<br>Distance (km)=%{x}<br>Combined Population 2016=%{y}<extra></extra>",
         "hovertext": [
          "Barcelona - Bilbao"
         ],
         "legendgroup": "Barcelona - Bilbao",
         "marker": {
          "color": "#00cc96",
          "symbol": "circle"
         },
         "mode": "markers",
         "name": "Barcelona - Bilbao",
         "orientation": "v",
         "showlegend": true,
         "type": "scatter",
         "x": [
          430.36062762897996
         ],
         "xaxis": "x",
         "y": [
          6613117
         ],
         "yaxis": "y"
        },
        {
         "hovertemplate": "<b>%{hovertext}</b><br><br>City_Pair_Name=Amsterdam - Berlin<br>Distance (km)=%{x}<br>Combined Population 2016=%{y}<extra></extra>",
         "hovertext": [
          "Amsterdam - Berlin"
         ],
         "legendgroup": "Amsterdam - Berlin",
         "marker": {
          "color": "#ab63fa",
          "symbol": "circle"
         },
         "mode": "markers",
         "name": "Amsterdam - Berlin",
         "orientation": "v",
         "showlegend": true,
         "type": "scatter",
         "x": [
          577.1077854469729
         ],
         "xaxis": "x",
         "y": [
          4849603
         ],
         "yaxis": "y"
        },
        {
         "hovertemplate": "<b>%{hovertext}</b><br><br>City_Pair_Name=Gran Canaria - Lanzarote<br>Distance (km)=%{x}<br>Combined Population 2016=%{y}<extra></extra>",
         "hovertext": [
          "Gran Canaria - Lanzarote"
         ],
         "legendgroup": "Gran Canaria - Lanzarote",
         "marker": {
          "color": "#FFA15A",
          "symbol": "circle"
         },
         "mode": "markers",
         "name": "Gran Canaria - Lanzarote",
         "orientation": "v",
         "showlegend": true,
         "type": "scatter",
         "x": [
          224.714493808608
         ],
         "xaxis": "x",
         "y": [
          989970
         ],
         "yaxis": "y"
        },
        {
         "hovertemplate": "<b>%{hovertext}</b><br><br>City_Pair_Name=Madrid - Vigo<br>Distance (km)=%{x}<br>Combined Population 2016=%{y}<extra></extra>",
         "hovertext": [
          "Madrid - Vigo"
         ],
         "legendgroup": "Madrid - Vigo",
         "marker": {
          "color": "#19d3f3",
          "symbol": "circle"
         },
         "mode": "markers",
         "name": "Madrid - Vigo",
         "orientation": "v",
         "showlegend": true,
         "type": "scatter",
         "x": [
          450.401891831389
         ],
         "xaxis": "x",
         "y": [
          7357318
         ],
         "yaxis": "y"
        },
        {
         "hovertemplate": "<b>%{hovertext}</b><br><br>City_Pair_Name=Berlin - Palma de Mallorca<br>Distance (km)=%{x}<br>Combined Population 2016=%{y}<extra></extra>",
         "hovertext": [
          "Berlin - Palma de Mallorca"
         ],
         "legendgroup": "Berlin - Palma de Mallorca",
         "marker": {
          "color": "#FF6692",
          "symbol": "circle"
         },
         "mode": "markers",
         "name": "Berlin - Palma de Mallorca",
         "orientation": "v",
         "showlegend": true,
         "type": "scatter",
         "x": [
          1640.3214296164501
         ],
         "xaxis": "x",
         "y": [
          4390365
         ],
         "yaxis": "y"
        },
        {
         "hovertemplate": "<b>%{hovertext}</b><br><br>City_Pair_Name=Amsterdam - Malaga<br>Distance (km)=%{x}<br>Combined Population 2016=%{y}<extra></extra>",
         "hovertext": [
          "Amsterdam - Malaga"
         ],
         "legendgroup": "Amsterdam - Malaga",
         "marker": {
          "color": "#B6E880",
          "symbol": "circle"
         },
         "mode": "markers",
         "name": "Amsterdam - Malaga",
         "orientation": "v",
         "showlegend": true,
         "type": "scatter",
         "x": [
          1887.9646684381798
         ],
         "xaxis": "x",
         "y": [
          2967950
         ],
         "yaxis": "y"
        },
        {
         "hovertemplate": "<b>%{hovertext}</b><br><br>City_Pair_Name=La Palma - Tenerife North<br>Distance (km)=%{x}<br>Combined Population 2016=%{y}<extra></extra>",
         "hovertext": [
          "La Palma - Tenerife North"
         ],
         "legendgroup": "La Palma - Tenerife North",
         "marker": {
          "color": "#FF97FF",
          "symbol": "circle"
         },
         "mode": "markers",
         "name": "La Palma - Tenerife North",
         "orientation": "v",
         "showlegend": true,
         "type": "scatter",
         "x": [
          134.559365036595
         ],
         "xaxis": "x",
         "y": [
          971978
         ],
         "yaxis": "y"
        },
        {
         "hovertemplate": "<b>%{hovertext}</b><br><br>City_Pair_Name=Luxembourg City - Munich<br>Distance (km)=%{x}<br>Combined Population 2016=%{y}<extra></extra>",
         "hovertext": [
          "Luxembourg City - Munich"
         ],
         "legendgroup": "Luxembourg City - Munich",
         "marker": {
          "color": "#FECB52",
          "symbol": "circle"
         },
         "mode": "markers",
         "name": "Luxembourg City - Munich",
         "orientation": "v",
         "showlegend": true,
         "type": "scatter",
         "x": [
          436.913073679687
         ],
         "xaxis": "x",
         "y": [
          2026630
         ],
         "yaxis": "y"
        },
        {
         "hovertemplate": "<b>%{hovertext}</b><br><br>City_Pair_Name=Hannover - Munich<br>Distance (km)=%{x}<br>Combined Population 2016=%{y}<extra></extra>",
         "hovertext": [
          "Hannover - Munich"
         ],
         "legendgroup": "Hannover - Munich",
         "marker": {
          "color": "#636efa",
          "symbol": "circle"
         },
         "mode": "markers",
         "name": "Hannover - Munich",
         "orientation": "v",
         "showlegend": true,
         "type": "scatter",
         "x": [
          491.99641946151604
         ],
         "xaxis": "x",
         "y": [
          2594862
         ],
         "yaxis": "y"
        },
        {
         "hovertemplate": "<b>%{hovertext}</b><br><br>City_Pair_Name=Hannover - Palma de Mallorca<br>Distance (km)=%{x}<br>Combined Population 2016=%{y}<extra></extra>",
         "hovertext": [
          "Hannover - Palma de Mallorca"
         ],
         "legendgroup": "Hannover - Palma de Mallorca",
         "marker": {
          "color": "#EF553B",
          "symbol": "circle"
         },
         "mode": "markers",
         "name": "Hannover - Palma de Mallorca",
         "orientation": "v",
         "showlegend": true,
         "type": "scatter",
         "x": [
          1515.2998921642202
         ],
         "xaxis": "x",
         "y": [
          2014815
         ],
         "yaxis": "y"
        },
        {
         "hovertemplate": "<b>%{hovertext}</b><br><br>City_Pair_Name=Bordeaux - Lyon<br>Distance (km)=%{x}<br>Combined Population 2016=%{y}<extra></extra>",
         "hovertext": [
          "Bordeaux - Lyon"
         ],
         "legendgroup": "Bordeaux - Lyon",
         "marker": {
          "color": "#00cc96",
          "symbol": "circle"
         },
         "mode": "markers",
         "name": "Bordeaux - Lyon",
         "orientation": "v",
         "showlegend": true,
         "type": "scatter",
         "x": [
          423.9083506484
         ],
         "xaxis": "x",
         "y": [
          3402582
         ],
         "yaxis": "y"
        },
        {
         "hovertemplate": "<b>%{hovertext}</b><br><br>City_Pair_Name=Brussels - Malaga<br>Distance (km)=%{x}<br>Combined Population 2016=%{y}<extra></extra>",
         "hovertext": [
          "Brussels - Malaga"
         ],
         "legendgroup": "Brussels - Malaga",
         "marker": {
          "color": "#ab63fa",
          "symbol": "circle"
         },
         "mode": "markers",
         "name": "Brussels - Malaga",
         "orientation": "v",
         "showlegend": true,
         "type": "scatter",
         "x": [
          1718.55709942472
         ],
         "xaxis": "x",
         "y": [
          2839663
         ],
         "yaxis": "y"
        },
        {
         "hovertemplate": "<b>%{hovertext}</b><br><br>City_Pair_Name=Barcelona - Berlin<br>Distance (km)=%{x}<br>Combined Population 2016=%{y}<extra></extra>",
         "hovertext": [
          "Barcelona - Berlin"
         ],
         "legendgroup": "Barcelona - Berlin",
         "marker": {
          "color": "#FFA15A",
          "symbol": "circle"
         },
         "mode": "markers",
         "name": "Barcelona - Berlin",
         "orientation": "v",
         "showlegend": true,
         "type": "scatter",
         "x": [
          1473.09809964803
         ],
         "xaxis": "x",
         "y": [
          8992957
         ],
         "yaxis": "y"
        },
        {
         "hovertemplate": "<b>%{hovertext}</b><br><br>City_Pair_Name=Amsterdam - Hamburg<br>Distance (km)=%{x}<br>Combined Population 2016=%{y}<extra></extra>",
         "hovertext": [
          "Amsterdam - Hamburg"
         ],
         "legendgroup": "Amsterdam - Hamburg",
         "marker": {
          "color": "#19d3f3",
          "symbol": "circle"
         },
         "mode": "markers",
         "name": "Amsterdam - Hamburg",
         "orientation": "v",
         "showlegend": true,
         "type": "scatter",
         "x": [
          367.17519833585396
         ],
         "xaxis": "x",
         "y": [
          3116980
         ],
         "yaxis": "y"
        },
        {
         "hovertemplate": "<b>%{hovertext}</b><br><br>City_Pair_Name=Barcelona - Tenerife North<br>Distance (km)=%{x}<br>Combined Population 2016=%{y}<extra></extra>",
         "hovertext": [
          "Barcelona - Tenerife North"
         ],
         "legendgroup": "Barcelona - Tenerife North",
         "marker": {
          "color": "#FF6692",
          "symbol": "circle"
         },
         "mode": "markers",
         "name": "Barcelona - Tenerife North",
         "orientation": "v",
         "showlegend": true,
         "type": "scatter",
         "x": [
          2245.96784626233
         ],
         "xaxis": "x",
         "y": [
          6363184
         ],
         "yaxis": "y"
        },
        {
         "hovertemplate": "<b>%{hovertext}</b><br><br>City_Pair_Name=Biarritz - Paris<br>Distance (km)=%{x}<br>Combined Population 2016=%{y}<extra></extra>",
         "hovertext": [
          "Biarritz - Paris",
          "Biarritz - Paris"
         ],
         "legendgroup": "Biarritz - Paris",
         "marker": {
          "color": "#B6E880",
          "symbol": "circle"
         },
         "mode": "markers",
         "name": "Biarritz - Paris",
         "orientation": "v",
         "showlegend": true,
         "type": "scatter",
         "x": [
          662.344846583558,
          684.859966146958
         ],
         "xaxis": "x",
         "y": [
          2052137,
          1895909
         ],
         "yaxis": "y"
        },
        {
         "hovertemplate": "<b>%{hovertext}</b><br><br>City_Pair_Name=Lyon - Paris<br>Distance (km)=%{x}<br>Combined Population 2016=%{y}<extra></extra>",
         "hovertext": [
          "Lyon - Paris",
          "Lyon - Paris"
         ],
         "legendgroup": "Lyon - Paris",
         "marker": {
          "color": "#FF97FF",
          "symbol": "circle"
         },
         "mode": "markers",
         "name": "Lyon - Paris",
         "orientation": "v",
         "showlegend": true,
         "type": "scatter",
         "x": [
          403.94194129509896,
          362.393286537803
         ],
         "xaxis": "x",
         "y": [
          3057826,
          3214054
         ],
         "yaxis": "y"
        },
        {
         "hovertemplate": "<b>%{hovertext}</b><br><br>City_Pair_Name=Montpellier - Paris<br>Distance (km)=%{x}<br>Combined Population 2016=%{y}<extra></extra>",
         "hovertext": [
          "Montpellier - Paris",
          "Montpellier - Paris"
         ],
         "legendgroup": "Montpellier - Paris",
         "marker": {
          "color": "#FECB52",
          "symbol": "circle"
         },
         "mode": "markers",
         "name": "Montpellier - Paris",
         "orientation": "v",
         "showlegend": true,
         "type": "scatter",
         "x": [
          582.0937584207791,
          619.227019208811
         ],
         "xaxis": "x",
         "y": [
          2510632,
          2354404
         ],
         "yaxis": "y"
        },
        {
         "hovertemplate": "<b>%{hovertext}</b><br><br>City_Pair_Name=Ajaccio - Paris<br>Distance (km)=%{x}<br>Combined Population 2016=%{y}<extra></extra>",
         "hovertext": [
          "Ajaccio - Paris",
          "Ajaccio - Paris"
         ],
         "legendgroup": "Ajaccio - Paris",
         "marker": {
          "color": "#636efa",
          "symbol": "circle"
         },
         "mode": "markers",
         "name": "Ajaccio - Paris",
         "orientation": "v",
         "showlegend": true,
         "type": "scatter",
         "x": [
          921.51894448017,
          963.4393878273809
         ],
         "xaxis": "x",
         "y": [
          1532454,
          1376226
         ],
         "yaxis": "y"
        },
        {
         "hovertemplate": "<b>%{hovertext}</b><br><br>City_Pair_Name=Brussels - Frankfurt<br>Distance (km)=%{x}<br>Combined Population 2016=%{y}<extra></extra>",
         "hovertext": [
          "Brussels - Frankfurt"
         ],
         "legendgroup": "Brussels - Frankfurt",
         "marker": {
          "color": "#EF553B",
          "symbol": "circle"
         },
         "mode": "markers",
         "name": "Brussels - Frankfurt",
         "orientation": "v",
         "showlegend": true,
         "type": "scatter",
         "x": [
          312.67946252365005
         ],
         "xaxis": "x",
         "y": [
          1933973
         ],
         "yaxis": "y"
        },
        {
         "hovertemplate": "<b>%{hovertext}</b><br><br>City_Pair_Name=Fuerteventura - Gran Canaria<br>Distance (km)=%{x}<br>Combined Population 2016=%{y}<extra></extra>",
         "hovertext": [
          "Fuerteventura - Gran Canaria"
         ],
         "legendgroup": "Fuerteventura - Gran Canaria",
         "marker": {
          "color": "#00cc96",
          "symbol": "circle"
         },
         "mode": "markers",
         "name": "Fuerteventura - Gran Canaria",
         "orientation": "v",
         "showlegend": true,
         "type": "scatter",
         "x": [
          160.57733314522
         ],
         "xaxis": "x",
         "y": [
          957030
         ],
         "yaxis": "y"
        },
        {
         "hovertemplate": "<b>%{hovertext}</b><br><br>City_Pair_Name=Asturias - Madrid<br>Distance (km)=%{x}<br>Combined Population 2016=%{y}<extra></extra>",
         "hovertext": [
          "Asturias - Madrid"
         ],
         "legendgroup": "Asturias - Madrid",
         "marker": {
          "color": "#ab63fa",
          "symbol": "circle"
         },
         "mode": "markers",
         "name": "Asturias - Madrid",
         "orientation": "v",
         "showlegend": true,
         "type": "scatter",
         "x": [
          363.893605388651
         ],
         "xaxis": "x",
         "y": [
          7451873
         ],
         "yaxis": "y"
        },
        {
         "hovertemplate": "<b>%{hovertext}</b><br><br>City_Pair_Name=Amsterdam - Nice<br>Distance (km)=%{x}<br>Combined Population 2016=%{y}<extra></extra>",
         "hovertext": [
          "Amsterdam - Nice"
         ],
         "legendgroup": "Amsterdam - Nice",
         "marker": {
          "color": "#FFA15A",
          "symbol": "circle"
         },
         "mode": "markers",
         "name": "Amsterdam - Nice",
         "orientation": "v",
         "showlegend": true,
         "type": "scatter",
         "x": [
          954.3371356114591
         ],
         "xaxis": "x",
         "y": [
          2413276
         ],
         "yaxis": "y"
        },
        {
         "hovertemplate": "<b>%{hovertext}</b><br><br>City_Pair_Name=Malaga - Paris<br>Distance (km)=%{x}<br>Combined Population 2016=%{y}<extra></extra>",
         "hovertext": [
          "Malaga - Paris",
          "Malaga - Paris"
         ],
         "legendgroup": "Malaga - Paris",
         "marker": {
          "color": "#19d3f3",
          "symbol": "circle"
         },
         "mode": "markers",
         "name": "Malaga - Paris",
         "orientation": "v",
         "showlegend": true,
         "type": "scatter",
         "x": [
          1472.5022719332399,
          1452.41792616748
         ],
         "xaxis": "x",
         "y": [
          2860301,
          3016529
         ],
         "yaxis": "y"
        },
        {
         "hovertemplate": "<b>%{hovertext}</b><br><br>City_Pair_Name=DÃ¼sseldorf - Paris<br>Distance (km)=%{x}<br>Combined Population 2016=%{y}<extra></extra>",
         "hovertext": [
          "DÃ¼sseldorf - Paris"
         ],
         "legendgroup": "DÃ¼sseldorf - Paris",
         "marker": {
          "color": "#FF6692",
          "symbol": "circle"
         },
         "mode": "markers",
         "name": "DÃ¼sseldorf - Paris",
         "orientation": "v",
         "showlegend": true,
         "type": "scatter",
         "x": [
          410.2779404023029
         ],
         "xaxis": "x",
         "y": [
          1834101
         ],
         "yaxis": "y"
        },
        {
         "hovertemplate": "<b>%{hovertext}</b><br><br>City_Pair_Name=Lyon - Nantes<br>Distance (km)=%{x}<br>Combined Population 2016=%{y}<extra></extra>",
         "hovertext": [
          "Lyon - Nantes"
         ],
         "legendgroup": "Lyon - Nantes",
         "marker": {
          "color": "#B6E880",
          "symbol": "circle"
         },
         "mode": "markers",
         "name": "Lyon - Nantes",
         "orientation": "v",
         "showlegend": true,
         "type": "scatter",
         "x": [
          510.49181148738796
         ],
         "xaxis": "x",
         "y": [
          3216755
         ],
         "yaxis": "y"
        },
        {
         "hovertemplate": "<b>%{hovertext}</b><br><br>City_Pair_Name=Lanzarote - Madrid<br>Distance (km)=%{x}<br>Combined Population 2016=%{y}<extra></extra>",
         "hovertext": [
          "Lanzarote - Madrid"
         ],
         "legendgroup": "Lanzarote - Madrid",
         "marker": {
          "color": "#FF97FF",
          "symbol": "circle"
         },
         "mode": "markers",
         "name": "Lanzarote - Madrid",
         "orientation": "v",
         "showlegend": true,
         "type": "scatter",
         "x": [
          1562.53070009231
         ],
         "xaxis": "x",
         "y": [
          6554330
         ],
         "yaxis": "y"
        },
        {
         "hovertemplate": "<b>%{hovertext}</b><br><br>City_Pair_Name=Cologne - Hamburg<br>Distance (km)=%{x}<br>Combined Population 2016=%{y}<extra></extra>",
         "hovertext": [
          "Cologne - Hamburg"
         ],
         "legendgroup": "Cologne - Hamburg",
         "marker": {
          "color": "#FECB52",
          "symbol": "circle"
         },
         "mode": "markers",
         "name": "Cologne - Hamburg",
         "orientation": "v",
         "showlegend": true,
         "type": "scatter",
         "x": [
          355.694141269246
         ],
         "xaxis": "x",
         "y": [
          2847990
         ],
         "yaxis": "y"
        },
        {
         "hovertemplate": "<b>%{hovertext}</b><br><br>City_Pair_Name=Frankfurt - Luxembourg City<br>Distance (km)=%{x}<br>Combined Population 2016=%{y}<extra></extra>",
         "hovertext": [
          "Frankfurt - Luxembourg City"
         ],
         "legendgroup": "Frankfurt - Luxembourg City",
         "marker": {
          "color": "#636efa",
          "symbol": "circle"
         },
         "mode": "markers",
         "name": "Frankfurt - Luxembourg City",
         "orientation": "v",
         "showlegend": true,
         "type": "scatter",
         "x": [
          186.445813326575
         ],
         "xaxis": "x",
         "y": [
          1308937
         ],
         "yaxis": "y"
        },
        {
         "hovertemplate": "<b>%{hovertext}</b><br><br>City_Pair_Name=Ibiza - Palma de Mallorca<br>Distance (km)=%{x}<br>Combined Population 2016=%{y}<extra></extra>",
         "hovertext": [
          "Ibiza - Palma de Mallorca"
         ],
         "legendgroup": "Ibiza - Palma de Mallorca",
         "marker": {
          "color": "#EF553B",
          "symbol": "circle"
         },
         "mode": "markers",
         "name": "Ibiza - Palma de Mallorca",
         "orientation": "v",
         "showlegend": true,
         "type": "scatter",
         "x": [
          150.397059377353
         ],
         "xaxis": "x",
         "y": [
          1025460
         ],
         "yaxis": "y"
        },
        {
         "hovertemplate": "<b>%{hovertext}</b><br><br>City_Pair_Name=Hamburg - Paris<br>Distance (km)=%{x}<br>Combined Population 2016=%{y}<extra></extra>",
         "hovertext": [
          "Hamburg - Paris",
          "Hamburg - Paris"
         ],
         "legendgroup": "Hamburg - Paris",
         "marker": {
          "color": "#00cc96",
          "symbol": "circle"
         },
         "mode": "markers",
         "name": "Hamburg - Paris",
         "orientation": "v",
         "showlegend": true,
         "type": "scatter",
         "x": [
          738.8068156968959,
          746.624448235873
         ],
         "xaxis": "x",
         "y": [
          3009331,
          3165559
         ],
         "yaxis": "y"
        },
        {
         "hovertemplate": "<b>%{hovertext}</b><br><br>City_Pair_Name=Berlin - Brussels<br>Distance (km)=%{x}<br>Combined Population 2016=%{y}<extra></extra>",
         "hovertext": [
          "Berlin - Brussels"
         ],
         "legendgroup": "Berlin - Brussels",
         "marker": {
          "color": "#ab63fa",
          "symbol": "circle"
         },
         "mode": "markers",
         "name": "Berlin - Brussels",
         "orientation": "v",
         "showlegend": true,
         "type": "scatter",
         "x": [
          649.232486942168
         ],
         "xaxis": "x",
         "y": [
          4721316
         ],
         "yaxis": "y"
        },
        {
         "hovertemplate": "<b>%{hovertext}</b><br><br>City_Pair_Name=Barcelona - Santiago de Compostela<br>Distance (km)=%{x}<br>Combined Population 2016=%{y}<extra></extra>",
         "hovertext": [
          "Barcelona - Santiago de Compostela"
         ],
         "legendgroup": "Barcelona - Santiago de Compostela",
         "marker": {
          "color": "#FFA15A",
          "symbol": "circle"
         },
         "mode": "markers",
         "name": "Barcelona - Santiago de Compostela",
         "orientation": "v",
         "showlegend": true,
         "type": "scatter",
         "x": [
          870.927855265631
         ],
         "xaxis": "x",
         "y": [
          6595941
         ],
         "yaxis": "y"
        },
        {
         "hovertemplate": "<b>%{hovertext}</b><br><br>City_Pair_Name=Barcelona - Gran Canaria<br>Distance (km)=%{x}<br>Combined Population 2016=%{y}<extra></extra>",
         "hovertext": [
          "Barcelona - Gran Canaria"
         ],
         "legendgroup": "Barcelona - Gran Canaria",
         "marker": {
          "color": "#19d3f3",
          "symbol": "circle"
         },
         "mode": "markers",
         "name": "Barcelona - Gran Canaria",
         "orientation": "v",
         "showlegend": true,
         "type": "scatter",
         "x": [
          2209.58048126711
         ],
         "xaxis": "x",
         "y": [
          6320032
         ],
         "yaxis": "y"
        },
        {
         "hovertemplate": "<b>%{hovertext}</b><br><br>City_Pair_Name=Amsterdam - Luxembourg City<br>Distance (km)=%{x}<br>Combined Population 2016=%{y}<extra></extra>",
         "hovertext": [
          "Amsterdam - Luxembourg City"
         ],
         "legendgroup": "Amsterdam - Luxembourg City",
         "marker": {
          "color": "#FF6692",
          "symbol": "circle"
         },
         "mode": "markers",
         "name": "Amsterdam - Luxembourg City",
         "orientation": "v",
         "showlegend": true,
         "type": "scatter",
         "x": [
          302.697691471432
         ],
         "xaxis": "x",
         "y": [
          1905821
         ],
         "yaxis": "y"
        },
        {
         "hovertemplate": "<b>%{hovertext}</b><br><br>City_Pair_Name=Bastia - Paris<br>Distance (km)=%{x}<br>Combined Population 2016=%{y}<extra></extra>",
         "hovertext": [
          "Bastia - Paris",
          "Bastia - Paris"
         ],
         "legendgroup": "Bastia - Paris",
         "marker": {
          "color": "#B6E880",
          "symbol": "circle"
         },
         "mode": "markers",
         "name": "Bastia - Paris",
         "orientation": "v",
         "showlegend": true,
         "type": "scatter",
         "x": [
          881.6546311610041,
          923.5140870066341
         ],
         "xaxis": "x",
         "y": [
          1554303,
          1398075
         ],
         "yaxis": "y"
        },
        {
         "hovertemplate": "<b>%{hovertext}</b><br><br>City_Pair_Name=Nantes - Paris<br>Distance (km)=%{x}<br>Combined Population 2016=%{y}<extra></extra>",
         "hovertext": [
          "Nantes - Paris",
          "Nantes - Paris"
         ],
         "legendgroup": "Nantes - Paris",
         "marker": {
          "color": "#FF97FF",
          "symbol": "circle"
         },
         "mode": "markers",
         "name": "Nantes - Paris",
         "orientation": "v",
         "showlegend": true,
         "type": "scatter",
         "x": [
          341.08849522780304,
          346.061380986529
         ],
         "xaxis": "x",
         "y": [
          2602775,
          2759003
         ],
         "yaxis": "y"
        },
        {
         "hovertemplate": "<b>%{hovertext}</b><br><br>City_Pair_Name=Barcelona - DÃ¼sseldorf<br>Distance (km)=%{x}<br>Combined Population 2016=%{y}<extra></extra>",
         "hovertext": [
          "Barcelona - DÃ¼sseldorf"
         ],
         "legendgroup": "Barcelona - DÃ¼sseldorf",
         "marker": {
          "color": "#FECB52",
          "symbol": "circle"
         },
         "mode": "markers",
         "name": "Barcelona - DÃ¼sseldorf",
         "orientation": "v",
         "showlegend": true,
         "type": "scatter",
         "x": [
          1119.1931371947899
         ],
         "xaxis": "x",
         "y": [
          6085104
         ],
         "yaxis": "y"
        },
        {
         "hovertemplate": "<b>%{hovertext}</b><br><br>City_Pair_Name=Palma de Mallorca - Valencia<br>Distance (km)=%{x}<br>Combined Population 2016=%{y}<extra></extra>",
         "hovertext": [
          "Palma de Mallorca - Valencia"
         ],
         "legendgroup": "Palma de Mallorca - Valencia",
         "marker": {
          "color": "#636efa",
          "symbol": "circle"
         },
         "mode": "markers",
         "name": "Palma de Mallorca - Valencia",
         "orientation": "v",
         "showlegend": true,
         "type": "scatter",
         "x": [
          322.350851451072
         ],
         "xaxis": "x",
         "y": [
          3396803
         ],
         "yaxis": "y"
        },
        {
         "hovertemplate": "<b>%{hovertext}</b><br><br>City_Pair_Name=Alicante - Amsterdam<br>Distance (km)=%{x}<br>Combined Population 2016=%{y}<extra></extra>",
         "hovertext": [
          "Alicante - Amsterdam"
         ],
         "legendgroup": "Alicante - Amsterdam",
         "marker": {
          "color": "#EF553B",
          "symbol": "circle"
         },
         "mode": "markers",
         "name": "Alicante - Amsterdam",
         "orientation": "v",
         "showlegend": true,
         "type": "scatter",
         "x": [
          1603.32670789682
         ],
         "xaxis": "x",
         "y": [
          3167445
         ],
         "yaxis": "y"
        },
        {
         "hovertemplate": "<b>%{hovertext}</b><br><br>City_Pair_Name=Paris - Toulon<br>Distance (km)=%{x}<br>Combined Population 2016=%{y}<extra></extra>",
         "hovertext": [
          "Paris - Toulon"
         ],
         "legendgroup": "Paris - Toulon",
         "marker": {
          "color": "#00cc96",
          "symbol": "circle"
         },
         "mode": "markers",
         "name": "Paris - Toulon",
         "orientation": "v",
         "showlegend": true,
         "type": "scatter",
         "x": [
          660.470063883719
         ],
         "xaxis": "x",
         "y": [
          2433972
         ],
         "yaxis": "y"
        },
        {
         "hovertemplate": "<b>%{hovertext}</b><br><br>City_Pair_Name=DÃ¼sseldorf - Frankfurt<br>Distance (km)=%{x}<br>Combined Population 2016=%{y}<extra></extra>",
         "hovertext": [
          "DÃ¼sseldorf - Frankfurt"
         ],
         "legendgroup": "DÃ¼sseldorf - Frankfurt",
         "marker": {
          "color": "#ab63fa",
          "symbol": "circle"
         },
         "mode": "markers",
         "name": "DÃ¼sseldorf - Frankfurt",
         "orientation": "v",
         "showlegend": true,
         "type": "scatter",
         "x": [
          179.37660362849599
         ],
         "xaxis": "x",
         "y": [
          1344866
         ],
         "yaxis": "y"
        },
        {
         "hovertemplate": "<b>%{hovertext}</b><br><br>City_Pair_Name=Lyon - Toulouse<br>Distance (km)=%{x}<br>Combined Population 2016=%{y}<extra></extra>",
         "hovertext": [
          "Lyon - Toulouse"
         ],
         "legendgroup": "Lyon - Toulouse",
         "marker": {
          "color": "#FFA15A",
          "symbol": "circle"
         },
         "mode": "markers",
         "name": "Lyon - Toulouse",
         "orientation": "v",
         "showlegend": true,
         "type": "scatter",
         "x": [
          391.48334019243504
         ],
         "xaxis": "x",
         "y": [
          3184086
         ],
         "yaxis": "y"
        },
        {
         "hovertemplate": "<b>%{hovertext}</b><br><br>City_Pair_Name=DÃ¼sseldorf - Gran Canaria<br>Distance (km)=%{x}<br>Combined Population 2016=%{y}<extra></extra>",
         "hovertext": [
          "DÃ¼sseldorf - Gran Canaria"
         ],
         "legendgroup": "DÃ¼sseldorf - Gran Canaria",
         "marker": {
          "color": "#19d3f3",
          "symbol": "circle"
         },
         "mode": "markers",
         "name": "DÃ¼sseldorf - Gran Canaria",
         "orientation": "v",
         "showlegend": true,
         "type": "scatter",
         "x": [
          3195.52924124751
         ],
         "xaxis": "x",
         "y": [
          1459284
         ],
         "yaxis": "y"
        },
        {
         "hovertemplate": "<b>%{hovertext}</b><br><br>City_Pair_Name=Amsterdam - Gran Canaria<br>Distance (km)=%{x}<br>Combined Population 2016=%{y}<extra></extra>",
         "hovertext": [
          "Amsterdam - Gran Canaria"
         ],
         "legendgroup": "Amsterdam - Gran Canaria",
         "marker": {
          "color": "#FF6692",
          "symbol": "circle"
         },
         "mode": "markers",
         "name": "Amsterdam - Gran Canaria",
         "orientation": "v",
         "showlegend": true,
         "type": "scatter",
         "x": [
          3201.75604493216
         ],
         "xaxis": "x",
         "y": [
          2176678
         ],
         "yaxis": "y"
        },
        {
         "hovertemplate": "<b>%{hovertext}</b><br><br>City_Pair_Name=Brussels - Munich<br>Distance (km)=%{x}<br>Combined Population 2016=%{y}<extra></extra>",
         "hovertext": [
          "Brussels - Munich"
         ],
         "legendgroup": "Brussels - Munich",
         "marker": {
          "color": "#B6E880",
          "symbol": "circle"
         },
         "mode": "markers",
         "name": "Brussels - Munich",
         "orientation": "v",
         "showlegend": true,
         "type": "scatter",
         "x": [
          597.4958029132459
         ],
         "xaxis": "x",
         "y": [
          2651666
         ],
         "yaxis": "y"
        },
        {
         "hovertemplate": "<b>%{hovertext}</b><br><br>City_Pair_Name=Bremen - Munich<br>Distance (km)=%{x}<br>Combined Population 2016=%{y}<extra></extra>",
         "hovertext": [
          "Bremen - Munich"
         ],
         "legendgroup": "Bremen - Munich",
         "marker": {
          "color": "#FF97FF",
          "symbol": "circle"
         },
         "mode": "markers",
         "name": "Bremen - Munich",
         "orientation": "v",
         "showlegend": true,
         "type": "scatter",
         "x": [
          584.1660953359461
         ],
         "xaxis": "x",
         "y": [
          2007845
         ],
         "yaxis": "y"
        },
        {
         "hovertemplate": "<b>%{hovertext}</b><br><br>City_Pair_Name=Frankfurt - Hannover<br>Distance (km)=%{x}<br>Combined Population 2016=%{y}<extra></extra>",
         "hovertext": [
          "Frankfurt - Hannover"
         ],
         "legendgroup": "Frankfurt - Hannover",
         "marker": {
          "color": "#FECB52",
          "symbol": "circle"
         },
         "mode": "markers",
         "name": "Frankfurt - Hannover",
         "orientation": "v",
         "showlegend": true,
         "type": "scatter",
         "x": [
          266.927989622783
         ],
         "xaxis": "x",
         "y": [
          1877169
         ],
         "yaxis": "y"
        },
        {
         "hovertemplate": "<b>%{hovertext}</b><br><br>City_Pair_Name=Frankfurt - Stuttgart<br>Distance (km)=%{x}<br>Combined Population 2016=%{y}<extra></extra>",
         "hovertext": [
          "Frankfurt - Stuttgart"
         ],
         "legendgroup": "Frankfurt - Stuttgart",
         "marker": {
          "color": "#636efa",
          "symbol": "circle"
         },
         "mode": "markers",
         "name": "Frankfurt - Stuttgart",
         "orientation": "v",
         "showlegend": true,
         "type": "scatter",
         "x": [
          154.044021518455
         ],
         "xaxis": "x",
         "y": [
          1356426
         ],
         "yaxis": "y"
        },
        {
         "hovertemplate": "<b>%{hovertext}</b><br><br>City_Pair_Name=Paris - Pau<br>Distance (km)=%{x}<br>Combined Population 2016=%{y}<extra></extra>",
         "hovertext": [
          "Paris - Pau",
          "Paris - Pau"
         ],
         "legendgroup": "Paris - Pau",
         "marker": {
          "color": "#EF553B",
          "symbol": "circle"
         },
         "mode": "markers",
         "name": "Paris - Pau",
         "orientation": "v",
         "showlegend": true,
         "type": "scatter",
         "x": [
          662.344846583558,
          684.859966146958
         ],
         "xaxis": "x",
         "y": [
          2052137,
          1895909
         ],
         "yaxis": "y"
        },
        {
         "hovertemplate": "<b>%{hovertext}</b><br><br>City_Pair_Name=Barcelona - Granada<br>Distance (km)=%{x}<br>Combined Population 2016=%{y}<extra></extra>",
         "hovertext": [
          "Barcelona - Granada"
         ],
         "legendgroup": "Barcelona - Granada",
         "marker": {
          "color": "#00cc96",
          "symbol": "circle"
         },
         "mode": "markers",
         "name": "Barcelona - Granada",
         "orientation": "v",
         "showlegend": true,
         "type": "scatter",
         "x": [
          666.318624905471
         ],
         "xaxis": "x",
         "y": [
          6388632
         ],
         "yaxis": "y"
        },
        {
         "hovertemplate": "<b>%{hovertext}</b><br><br>City_Pair_Name=Amsterdam - Lyon<br>Distance (km)=%{x}<br>Combined Population 2016=%{y}<extra></extra>",
         "hovertext": [
          "Amsterdam - Lyon"
         ],
         "legendgroup": "Amsterdam - Lyon",
         "marker": {
          "color": "#ab63fa",
          "symbol": "circle"
         },
         "mode": "markers",
         "name": "Amsterdam - Lyon",
         "orientation": "v",
         "showlegend": true,
         "type": "scatter",
         "x": [
          725.3237708887671
         ],
         "xaxis": "x",
         "y": [
          3165475
         ],
         "yaxis": "y"
        },
        {
         "hovertemplate": "<b>%{hovertext}</b><br><br>City_Pair_Name=Alicante - Barcelona<br>Distance (km)=%{x}<br>Combined Population 2016=%{y}<extra></extra>",
         "hovertext": [
          "Alicante - Barcelona"
         ],
         "legendgroup": "Alicante - Barcelona",
         "marker": {
          "color": "#FFA15A",
          "symbol": "circle"
         },
         "mode": "markers",
         "name": "Alicante - Barcelona",
         "orientation": "v",
         "showlegend": true,
         "type": "scatter",
         "x": [
          421.73263278328596
         ],
         "xaxis": "x",
         "y": [
          7310799
         ],
         "yaxis": "y"
        },
        {
         "hovertemplate": "<b>%{hovertext}</b><br><br>City_Pair_Name=Nuremberg - Palma de Mallorca<br>Distance (km)=%{x}<br>Combined Population 2016=%{y}<extra></extra>",
         "hovertext": [
          "Nuremberg - Palma de Mallorca"
         ],
         "legendgroup": "Nuremberg - Palma de Mallorca",
         "marker": {
          "color": "#19d3f3",
          "symbol": "circle"
         },
         "mode": "markers",
         "name": "Nuremberg - Palma de Mallorca",
         "orientation": "v",
         "showlegend": true,
         "type": "scatter",
         "x": [
          1266.16529503194
         ],
         "xaxis": "x",
         "y": [
          1380309
         ],
         "yaxis": "y"
        },
        {
         "hovertemplate": "<b>%{hovertext}</b><br><br>City_Pair_Name=Bremen - Frankfurt<br>Distance (km)=%{x}<br>Combined Population 2016=%{y}<extra></extra>",
         "hovertext": [
          "Bremen - Frankfurt"
         ],
         "legendgroup": "Bremen - Frankfurt",
         "marker": {
          "color": "#FF6692",
          "symbol": "circle"
         },
         "mode": "markers",
         "name": "Bremen - Frankfurt",
         "orientation": "v",
         "showlegend": true,
         "type": "scatter",
         "x": [
          332.71930588979797
         ],
         "xaxis": "x",
         "y": [
          1290152
         ],
         "yaxis": "y"
        },
        {
         "hovertemplate": "<b>%{hovertext}</b><br><br>City_Pair_Name=Dresden - Frankfurt<br>Distance (km)=%{x}<br>Combined Population 2016=%{y}<extra></extra>",
         "hovertext": [
          "Dresden - Frankfurt"
         ],
         "legendgroup": "Dresden - Frankfurt",
         "marker": {
          "color": "#B6E880",
          "symbol": "circle"
         },
         "mode": "markers",
         "name": "Dresden - Frankfurt",
         "orientation": "v",
         "showlegend": true,
         "type": "scatter",
         "x": [
          377.687954843853
         ],
         "xaxis": "x",
         "y": [
          1276513
         ],
         "yaxis": "y"
        },
        {
         "hovertemplate": "<b>%{hovertext}</b><br><br>City_Pair_Name=Brussels - Nice<br>Distance (km)=%{x}<br>Combined Population 2016=%{y}<extra></extra>",
         "hovertext": [
          "Brussels - Nice"
         ],
         "legendgroup": "Brussels - Nice",
         "marker": {
          "color": "#FF97FF",
          "symbol": "circle"
         },
         "mode": "markers",
         "name": "Brussels - Nice",
         "orientation": "v",
         "showlegend": true,
         "type": "scatter",
         "x": [
          794.354709324204
         ],
         "xaxis": "x",
         "y": [
          2284989
         ],
         "yaxis": "y"
        },
        {
         "hovertemplate": "<b>%{hovertext}</b><br><br>City_Pair_Name=Berlin - Madrid<br>Distance (km)=%{x}<br>Combined Population 2016=%{y}<extra></extra>",
         "hovertext": [
          "Berlin - Madrid"
         ],
         "legendgroup": "Berlin - Madrid",
         "marker": {
          "color": "#FECB52",
          "symbol": "circle"
         },
         "mode": "markers",
         "name": "Berlin - Madrid",
         "orientation": "v",
         "showlegend": true,
         "type": "scatter",
         "x": [
          1861.62636818675
         ],
         "xaxis": "x",
         "y": [
          9931497
         ],
         "yaxis": "y"
        },
        {
         "hovertemplate": "<b>%{hovertext}</b><br><br>City_Pair_Name=DÃ¼sseldorf - Madrid<br>Distance (km)=%{x}<br>Combined Population 2016=%{y}<extra></extra>",
         "hovertext": [
          "DÃ¼sseldorf - Madrid"
         ],
         "legendgroup": "DÃ¼sseldorf - Madrid",
         "marker": {
          "color": "#636efa",
          "symbol": "circle"
         },
         "mode": "markers",
         "name": "DÃ¼sseldorf - Madrid",
         "orientation": "v",
         "showlegend": true,
         "type": "scatter",
         "x": [
          1442.93073017592
         ],
         "xaxis": "x",
         "y": [
          7023644
         ],
         "yaxis": "y"
        },
        {
         "hovertemplate": "<b>%{hovertext}</b><br><br>City_Pair_Name=Madrid - Malaga<br>Distance (km)=%{x}<br>Combined Population 2016=%{y}<extra></extra>",
         "hovertext": [
          "Madrid - Malaga"
         ],
         "legendgroup": "Madrid - Malaga",
         "marker": {
          "color": "#EF553B",
          "symbol": "circle"
         },
         "mode": "markers",
         "name": "Madrid - Malaga",
         "orientation": "v",
         "showlegend": true,
         "type": "scatter",
         "x": [
          418.508828796069
         ],
         "xaxis": "x",
         "y": [
          8049844
         ],
         "yaxis": "y"
        },
        {
         "hovertemplate": "<b>%{hovertext}</b><br><br>City_Pair_Name=DÃ¼sseldorf - Fuerteventura<br>Distance (km)=%{x}<br>Combined Population 2016=%{y}<extra></extra>",
         "hovertext": [
          "DÃ¼sseldorf - Fuerteventura"
         ],
         "legendgroup": "DÃ¼sseldorf - Fuerteventura",
         "marker": {
          "color": "#00cc96",
          "symbol": "circle"
         },
         "mode": "markers",
         "name": "DÃ¼sseldorf - Fuerteventura",
         "orientation": "v",
         "showlegend": true,
         "type": "scatter",
         "x": [
          3077.31231874038
         ],
         "xaxis": "x",
         "y": [
          722102
         ],
         "yaxis": "y"
        },
        {
         "hovertemplate": "<b>%{hovertext}</b><br><br>City_Pair_Name=Amsterdam - Stuttgart<br>Distance (km)=%{x}<br>Combined Population 2016=%{y}<extra></extra>",
         "hovertext": [
          "Amsterdam - Stuttgart"
         ],
         "legendgroup": "Amsterdam - Stuttgart",
         "marker": {
          "color": "#ab63fa",
          "symbol": "circle"
         },
         "mode": "markers",
         "name": "Amsterdam - Stuttgart",
         "orientation": "v",
         "showlegend": true,
         "type": "scatter",
         "x": [
          503.060625164199
         ],
         "xaxis": "x",
         "y": [
          1953310
         ],
         "yaxis": "y"
        },
        {
         "hovertemplate": "<b>%{hovertext}</b><br><br>City_Pair_Name=Amsterdam - Bordeaux<br>Distance (km)=%{x}<br>Combined Population 2016=%{y}<extra></extra>",
         "hovertext": [
          "Amsterdam - Bordeaux"
         ],
         "legendgroup": "Amsterdam - Bordeaux",
         "marker": {
          "color": "#FFA15A",
          "symbol": "circle"
         },
         "mode": "markers",
         "name": "Amsterdam - Bordeaux",
         "orientation": "v",
         "showlegend": true,
         "type": "scatter",
         "x": [
          931.7560377942759
         ],
         "xaxis": "x",
         "y": [
          2896251
         ],
         "yaxis": "y"
        },
        {
         "hovertemplate": "<b>%{hovertext}</b><br><br>City_Pair_Name=Marseille - Nantes<br>Distance (km)=%{x}<br>Combined Population 2016=%{y}<extra></extra>",
         "hovertext": [
          "Marseille - Nantes"
         ],
         "legendgroup": "Marseille - Nantes",
         "marker": {
          "color": "#19d3f3",
          "symbol": "circle"
         },
         "mode": "markers",
         "name": "Marseille - Nantes",
         "orientation": "v",
         "showlegend": true,
         "type": "scatter",
         "x": [
          677.074423186274
         ],
         "xaxis": "x",
         "y": [
          3400569
         ],
         "yaxis": "y"
        },
        {
         "hovertemplate": "<b>%{hovertext}</b><br><br>City_Pair_Name=Madrid - Valencia<br>Distance (km)=%{x}<br>Combined Population 2016=%{y}<extra></extra>",
         "hovertext": [
          "Madrid - Valencia"
         ],
         "legendgroup": "Madrid - Valencia",
         "marker": {
          "color": "#FF6692",
          "symbol": "circle"
         },
         "mode": "markers",
         "name": "Madrid - Valencia",
         "orientation": "v",
         "showlegend": true,
         "type": "scatter",
         "x": [
          280.920383321637
         ],
         "xaxis": "x",
         "y": [
          8937935
         ],
         "yaxis": "y"
        },
        {
         "hovertemplate": "<b>%{hovertext}</b><br><br>City_Pair_Name=Paris - Valencia<br>Distance (km)=%{x}<br>Combined Population 2016=%{y}<extra></extra>",
         "hovertext": [
          "Paris - Valencia",
          "Paris - Valencia"
         ],
         "legendgroup": "Paris - Valencia",
         "marker": {
          "color": "#B6E880",
          "symbol": "circle"
         },
         "mode": "markers",
         "name": "Paris - Valencia",
         "orientation": "v",
         "showlegend": true,
         "type": "scatter",
         "x": [
          1107.2972078921298,
          1080.33460974831
         ],
         "xaxis": "x",
         "y": [
          3748392,
          3904620
         ],
         "yaxis": "y"
        },
        {
         "hovertemplate": "<b>%{hovertext}</b><br><br>City_Pair_Name=Barcelona - Lyon<br>Distance (km)=%{x}<br>Combined Population 2016=%{y}<extra></extra>",
         "hovertext": [
          "Barcelona - Lyon"
         ],
         "legendgroup": "Barcelona - Lyon",
         "marker": {
          "color": "#FF97FF",
          "symbol": "circle"
         },
         "mode": "markers",
         "name": "Barcelona - Lyon",
         "orientation": "v",
         "showlegend": true,
         "type": "scatter",
         "x": [
          507.281565333512
         ],
         "xaxis": "x",
         "y": [
          7308829
         ],
         "yaxis": "y"
        },
        {
         "hovertemplate": "<b>%{hovertext}</b><br><br>City_Pair_Name=Barcelona - Hamburg<br>Distance (km)=%{x}<br>Combined Population 2016=%{y}<extra></extra>",
         "hovertext": [
          "Barcelona - Hamburg"
         ],
         "legendgroup": "Barcelona - Hamburg",
         "marker": {
          "color": "#FECB52",
          "symbol": "circle"
         },
         "mode": "markers",
         "name": "Barcelona - Hamburg",
         "orientation": "v",
         "showlegend": true,
         "type": "scatter",
         "x": [
          1443.06676928998
         ],
         "xaxis": "x",
         "y": [
          7260334
         ],
         "yaxis": "y"
        },
        {
         "hovertemplate": "<b>%{hovertext}</b><br><br>City_Pair_Name=Amsterdam - Marseille<br>Distance (km)=%{x}<br>Combined Population 2016=%{y}<extra></extra>",
         "hovertext": [
          "Amsterdam - Marseille"
         ],
         "legendgroup": "Amsterdam - Marseille",
         "marker": {
          "color": "#636efa",
          "symbol": "circle"
         },
         "mode": "markers",
         "name": "Amsterdam - Marseille",
         "orientation": "v",
         "showlegend": true,
         "type": "scatter",
         "x": [
          983.8629076111608
         ],
         "xaxis": "x",
         "y": [
          3349289
         ],
         "yaxis": "y"
        },
        {
         "hovertemplate": "<b>%{hovertext}</b><br><br>City_Pair_Name=Alicante - Brussels<br>Distance (km)=%{x}<br>Combined Population 2016=%{y}<extra></extra>",
         "hovertext": [
          "Alicante - Brussels"
         ],
         "legendgroup": "Alicante - Brussels",
         "marker": {
          "color": "#EF553B",
          "symbol": "circle"
         },
         "mode": "markers",
         "name": "Alicante - Brussels",
         "orientation": "v",
         "showlegend": true,
         "type": "scatter",
         "x": [
          1427.8554100599101
         ],
         "xaxis": "x",
         "y": [
          3039158
         ],
         "yaxis": "y"
        },
        {
         "hovertemplate": "<b>%{hovertext}</b><br><br>City_Pair_Name=Amsterdam - Palma de Mallorca<br>Distance (km)=%{x}<br>Combined Population 2016=%{y}<extra></extra>",
         "hovertext": [
          "Amsterdam - Palma de Mallorca"
         ],
         "legendgroup": "Amsterdam - Palma de Mallorca",
         "marker": {
          "color": "#00cc96",
          "symbol": "circle"
         },
         "mode": "markers",
         "name": "Amsterdam - Palma de Mallorca",
         "orientation": "v",
         "showlegend": true,
         "type": "scatter",
         "x": [
          1428.37985884906
         ],
         "xaxis": "x",
         "y": [
          2199906
         ],
         "yaxis": "y"
        },
        {
         "hovertemplate": "<b>%{hovertext}</b><br><br>City_Pair_Name=Brest - Paris<br>Distance (km)=%{x}<br>Combined Population 2016=%{y}<extra></extra>",
         "hovertext": [
          "Brest - Paris",
          "Brest - Paris"
         ],
         "legendgroup": "Brest - Paris",
         "marker": {
          "color": "#ab63fa",
          "symbol": "circle"
         },
         "mode": "markers",
         "name": "Brest - Paris",
         "orientation": "v",
         "showlegend": true,
         "type": "scatter",
         "x": [
          483.75450416846604,
          463.315367773508
         ],
         "xaxis": "x",
         "y": [
          2286400,
          2130172
         ],
         "yaxis": "y"
        },
        {
         "hovertemplate": "<b>%{hovertext}</b><br><br>City_Pair_Name=Fuerteventura - Madrid<br>Distance (km)=%{x}<br>Combined Population 2016=%{y}<extra></extra>",
         "hovertext": [
          "Fuerteventura - Madrid"
         ],
         "legendgroup": "Fuerteventura - Madrid",
         "marker": {
          "color": "#FFA15A",
          "symbol": "circle"
         },
         "mode": "markers",
         "name": "Fuerteventura - Madrid",
         "orientation": "v",
         "showlegend": true,
         "type": "scatter",
         "x": [
          1641.25319754251
         ],
         "xaxis": "x",
         "y": [
          6521390
         ],
         "yaxis": "y"
        },
        {
         "hovertemplate": "<b>%{hovertext}</b><br><br>City_Pair_Name=Frankfurt - Lyon<br>Distance (km)=%{x}<br>Combined Population 2016=%{y}<extra></extra>",
         "hovertext": [
          "Frankfurt - Lyon"
         ],
         "legendgroup": "Frankfurt - Lyon",
         "marker": {
          "color": "#19d3f3",
          "symbol": "circle"
         },
         "mode": "markers",
         "name": "Frankfurt - Lyon",
         "orientation": "v",
         "showlegend": true,
         "type": "scatter",
         "x": [
          558.236080898423
         ],
         "xaxis": "x",
         "y": [
          2568591
         ],
         "yaxis": "y"
        },
        {
         "hovertemplate": "<b>%{hovertext}</b><br><br>City_Pair_Name=Amsterdam - Ibiza<br>Distance (km)=%{x}<br>Combined Population 2016=%{y}<extra></extra>",
         "hovertext": [
          "Amsterdam - Ibiza"
         ],
         "legendgroup": "Amsterdam - Ibiza",
         "marker": {
          "color": "#FF6692",
          "symbol": "circle"
         },
         "mode": "markers",
         "name": "Amsterdam - Ibiza",
         "orientation": "v",
         "showlegend": true,
         "type": "scatter",
         "x": [
          1514.56601133096
         ],
         "xaxis": "x",
         "y": [
          1484698
         ],
         "yaxis": "y"
        },
        {
         "hovertemplate": "<b>%{hovertext}</b><br><br>City_Pair_Name=Frankfurt - Nice<br>Distance (km)=%{x}<br>Combined Population 2016=%{y}<extra></extra>",
         "hovertext": [
          "Frankfurt - Nice"
         ],
         "legendgroup": "Frankfurt - Nice",
         "marker": {
          "color": "#B6E880",
          "symbol": "circle"
         },
         "mode": "markers",
         "name": "Frankfurt - Nice",
         "orientation": "v",
         "showlegend": true,
         "type": "scatter",
         "x": [
          696.902013039684
         ],
         "xaxis": "x",
         "y": [
          1816392
         ],
         "yaxis": "y"
        },
        {
         "hovertemplate": "<b>%{hovertext}</b><br><br>City_Pair_Name=Madrid - Seville<br>Distance (km)=%{x}<br>Combined Population 2016=%{y}<extra></extra>",
         "hovertext": [
          "Madrid - Seville"
         ],
         "legendgroup": "Madrid - Seville",
         "marker": {
          "color": "#FF97FF",
          "symbol": "circle"
         },
         "mode": "markers",
         "name": "Madrid - Seville",
         "orientation": "v",
         "showlegend": true,
         "type": "scatter",
         "x": [
          380.204645403803
         ],
         "xaxis": "x",
         "y": [
          8347056
         ],
         "yaxis": "y"
        },
        {
         "hovertemplate": "<b>%{hovertext}</b><br><br>City_Pair_Name=Alicante - Madrid<br>Distance (km)=%{x}<br>Combined Population 2016=%{y}<extra></extra>",
         "hovertext": [
          "Alicante - Madrid"
         ],
         "legendgroup": "Alicante - Madrid",
         "marker": {
          "color": "#FECB52",
          "symbol": "circle"
         },
         "mode": "markers",
         "name": "Alicante - Madrid",
         "orientation": "v",
         "showlegend": true,
         "type": "scatter",
         "x": [
          350.84872752753597
         ],
         "xaxis": "x",
         "y": [
          8249339
         ],
         "yaxis": "y"
        },
        {
         "hovertemplate": "<b>%{hovertext}</b><br><br>City_Pair_Name=Madrid - Tenerife South<br>Distance (km)=%{x}<br>Combined Population 2016=%{y}<extra></extra>",
         "hovertext": [
          "Madrid - Tenerife South"
         ],
         "legendgroup": "Madrid - Tenerife South",
         "marker": {
          "color": "#636efa",
          "symbol": "circle"
         },
         "mode": "markers",
         "name": "Madrid - Tenerife South",
         "orientation": "v",
         "showlegend": true,
         "type": "scatter",
         "x": [
          1793.2037689993601
         ],
         "xaxis": "x",
         "y": [
          7301724
         ],
         "yaxis": "y"
        },
        {
         "hovertemplate": "<b>%{hovertext}</b><br><br>City_Pair_Name=Ibiza - Valencia<br>Distance (km)=%{x}<br>Combined Population 2016=%{y}<extra></extra>",
         "hovertext": [
          "Ibiza - Valencia"
         ],
         "legendgroup": "Ibiza - Valencia",
         "marker": {
          "color": "#EF553B",
          "symbol": "circle"
         },
         "mode": "markers",
         "name": "Ibiza - Valencia",
         "orientation": "v",
         "showlegend": true,
         "type": "scatter",
         "x": [
          193.272542758871
         ],
         "xaxis": "x",
         "y": [
          2681595
         ],
         "yaxis": "y"
        },
        {
         "hovertemplate": "<b>%{hovertext}</b><br><br>City_Pair_Name=Amsterdam - Toulouse<br>Distance (km)=%{x}<br>Combined Population 2016=%{y}<extra></extra>",
         "hovertext": [
          "Amsterdam - Toulouse"
         ],
         "legendgroup": "Amsterdam - Toulouse",
         "marker": {
          "color": "#00cc96",
          "symbol": "circle"
         },
         "mode": "markers",
         "name": "Amsterdam - Toulouse",
         "orientation": "v",
         "showlegend": true,
         "type": "scatter",
         "x": [
          1041.3805189295301
         ],
         "xaxis": "x",
         "y": [
          2677755
         ],
         "yaxis": "y"
        },
        {
         "hovertemplate": "<b>%{hovertext}</b><br><br>City_Pair_Name=Amsterdam - Tenerife South<br>Distance (km)=%{x}<br>Combined Population 2016=%{y}<extra></extra>",
         "hovertext": [
          "Amsterdam - Tenerife South"
         ],
         "legendgroup": "Amsterdam - Tenerife South",
         "marker": {
          "color": "#ab63fa",
          "symbol": "circle"
         },
         "mode": "markers",
         "name": "Amsterdam - Tenerife South",
         "orientation": "v",
         "showlegend": true,
         "type": "scatter",
         "x": [
          3211.32432577263
         ],
         "xaxis": "x",
         "y": [
          2219830
         ],
         "yaxis": "y"
        },
        {
         "hovertemplate": "<b>%{hovertext}</b><br><br>City_Pair_Name=Frankfurt - Leipzig<br>Distance (km)=%{x}<br>Combined Population 2016=%{y}<extra></extra>",
         "hovertext": [
          "Frankfurt - Leipzig"
         ],
         "legendgroup": "Frankfurt - Leipzig",
         "marker": {
          "color": "#FFA15A",
          "symbol": "circle"
         },
         "mode": "markers",
         "name": "Frankfurt - Leipzig",
         "orientation": "v",
         "showlegend": true,
         "type": "scatter",
         "x": [
          295.762045771421
         ],
         "xaxis": "x",
         "y": [
          1293160
         ],
         "yaxis": "y"
        },
        {
         "hovertemplate": "<b>%{hovertext}</b><br><br>City_Pair_Name=Barcelona - Vigo<br>Distance (km)=%{x}<br>Combined Population 2016=%{y}<extra></extra>",
         "hovertext": [
          "Barcelona - Vigo"
         ],
         "legendgroup": "Barcelona - Vigo",
         "marker": {
          "color": "#19d3f3",
          "symbol": "circle"
         },
         "mode": "markers",
         "name": "Barcelona - Vigo",
         "orientation": "v",
         "showlegend": true,
         "type": "scatter",
         "x": [
          864.931365551104
         ],
         "xaxis": "x",
         "y": [
          6418778
         ],
         "yaxis": "y"
        },
        {
         "hovertemplate": "<b>%{hovertext}</b><br><br>City_Pair_Name=Amsterdam - Valencia<br>Distance (km)=%{x}<br>Combined Population 2016=%{y}<extra></extra>",
         "hovertext": [
          "Amsterdam - Valencia"
         ],
         "legendgroup": "Amsterdam - Valencia",
         "marker": {
          "color": "#FF6692",
          "symbol": "circle"
         },
         "mode": "markers",
         "name": "Amsterdam - Valencia",
         "orientation": "v",
         "showlegend": true,
         "type": "scatter",
         "x": [
          1514.47495766368
         ],
         "xaxis": "x",
         "y": [
          3856041
         ],
         "yaxis": "y"
        },
        {
         "hovertemplate": "<b>%{hovertext}</b><br><br>City_Pair_Name=Asturias - Barcelona<br>Distance (km)=%{x}<br>Combined Population 2016=%{y}<extra></extra>",
         "hovertext": [
          "Asturias - Barcelona"
         ],
         "legendgroup": "Asturias - Barcelona",
         "marker": {
          "color": "#B6E880",
          "symbol": "circle"
         },
         "mode": "markers",
         "name": "Asturias - Barcelona",
         "orientation": "v",
         "showlegend": true,
         "type": "scatter",
         "x": [
          676.162683110905
         ],
         "xaxis": "x",
         "y": [
          6513333
         ],
         "yaxis": "y"
        },
        {
         "hovertemplate": "<b>%{hovertext}</b><br><br>City_Pair_Name=Frankfurt - Nuremberg<br>Distance (km)=%{x}<br>Combined Population 2016=%{y}<extra></extra>",
         "hovertext": [
          "Frankfurt - Nuremberg"
         ],
         "legendgroup": "Frankfurt - Nuremberg",
         "marker": {
          "color": "#FF97FF",
          "symbol": "circle"
         },
         "mode": "markers",
         "name": "Frankfurt - Nuremberg",
         "orientation": "v",
         "showlegend": true,
         "type": "scatter",
         "x": [
          190.529364563781
         ],
         "xaxis": "x",
         "y": [
          1242663
         ],
         "yaxis": "y"
        },
        {
         "hovertemplate": "<b>%{hovertext}</b><br><br>City_Pair_Name=Madrid - Menorca<br>Distance (km)=%{x}<br>Combined Population 2016=%{y}<extra></extra>",
         "hovertext": [
          "Madrid - Menorca"
         ],
         "legendgroup": "Madrid - Menorca",
         "marker": {
          "color": "#FECB52",
          "symbol": "circle"
         },
         "mode": "markers",
         "name": "Madrid - Menorca",
         "orientation": "v",
         "showlegend": true,
         "type": "scatter",
         "x": [
          663.813296242327
         ],
         "xaxis": "x",
         "y": [
          6503359
         ],
         "yaxis": "y"
        },
        {
         "hovertemplate": "<b>%{hovertext}</b><br><br>City_Pair_Name=Lanzarote - Tenerife North<br>Distance (km)=%{x}<br>Combined Population 2016=%{y}<extra></extra>",
         "hovertext": [
          "Lanzarote - Tenerife North"
         ],
         "legendgroup": "Lanzarote - Tenerife North",
         "marker": {
          "color": "#636efa",
          "symbol": "circle"
         },
         "mode": "markers",
         "name": "Lanzarote - Tenerife North",
         "orientation": "v",
         "showlegend": true,
         "type": "scatter",
         "x": [
          295.952918870015
         ],
         "xaxis": "x",
         "y": [
          1033122
         ],
         "yaxis": "y"
        },
        {
         "hovertemplate": "<b>%{hovertext}</b><br><br>City_Pair_Name=Lille - Nice<br>Distance (km)=%{x}<br>Combined Population 2016=%{y}<extra></extra>",
         "hovertext": [
          "Lille - Nice"
         ],
         "legendgroup": "Lille - Nice",
         "marker": {
          "color": "#EF553B",
          "symbol": "circle"
         },
         "mode": "markers",
         "name": "Lille - Nice",
         "orientation": "v",
         "showlegend": true,
         "type": "scatter",
         "x": [
          781.182340882753
         ],
         "xaxis": "x",
         "y": [
          3687427
         ],
         "yaxis": "y"
        },
        {
         "hovertemplate": "<b>%{hovertext}</b><br><br>City_Pair_Name=Menorca - Palma de Mallorca<br>Distance (km)=%{x}<br>Combined Population 2016=%{y}<extra></extra>",
         "hovertext": [
          "Menorca - Palma de Mallorca"
         ],
         "legendgroup": "Menorca - Palma de Mallorca",
         "marker": {
          "color": "#00cc96",
          "symbol": "circle"
         },
         "mode": "markers",
         "name": "Menorca - Palma de Mallorca",
         "orientation": "v",
         "showlegend": true,
         "type": "scatter",
         "x": [
          102.936032627187
         ],
         "xaxis": "x",
         "y": [
          962227
         ],
         "yaxis": "y"
        },
        {
         "hovertemplate": "<b>%{hovertext}</b><br><br>City_Pair_Name=Brussels - Tenerife South<br>Distance (km)=%{x}<br>Combined Population 2016=%{y}<extra></extra>",
         "hovertext": [
          "Brussels - Tenerife South"
         ],
         "legendgroup": "Brussels - Tenerife South",
         "marker": {
          "color": "#ab63fa",
          "symbol": "circle"
         },
         "mode": "markers",
         "name": "Brussels - Tenerife South",
         "orientation": "v",
         "showlegend": true,
         "type": "scatter",
         "x": [
          3059.73723025003
         ],
         "xaxis": "x",
         "y": [
          2091543
         ],
         "yaxis": "y"
        },
        {
         "hovertemplate": "<b>%{hovertext}</b><br><br>City_Pair_Name=Barcelona - Nice<br>Distance (km)=%{x}<br>Combined Population 2016=%{y}<extra></extra>",
         "hovertext": [
          "Barcelona - Nice"
         ],
         "legendgroup": "Barcelona - Nice",
         "marker": {
          "color": "#FFA15A",
          "symbol": "circle"
         },
         "mode": "markers",
         "name": "Barcelona - Nice",
         "orientation": "v",
         "showlegend": true,
         "type": "scatter",
         "x": [
          485.060820832026
         ],
         "xaxis": "x",
         "y": [
          6556630
         ],
         "yaxis": "y"
        },
        {
         "hovertemplate": "<b>%{hovertext}</b><br><br>City_Pair_Name=Bordeaux - Marseille<br>Distance (km)=%{x}<br>Combined Population 2016=%{y}<extra></extra>",
         "hovertext": [
          "Bordeaux - Marseille"
         ],
         "legendgroup": "Bordeaux - Marseille",
         "marker": {
          "color": "#19d3f3",
          "symbol": "circle"
         },
         "mode": "markers",
         "name": "Bordeaux - Marseille",
         "orientation": "v",
         "showlegend": true,
         "type": "scatter",
         "x": [
          473.21198007874204
         ],
         "xaxis": "x",
         "y": [
          3586396
         ],
         "yaxis": "y"
        },
        {
         "hovertemplate": "<b>%{hovertext}</b><br><br>City_Pair_Name=Charleroi - Madrid<br>Distance (km)=%{x}<br>Combined Population 2016=%{y}<extra></extra>",
         "hovertext": [
          "Charleroi - Madrid"
         ],
         "legendgroup": "Charleroi - Madrid",
         "marker": {
          "color": "#FF6692",
          "symbol": "circle"
         },
         "mode": "markers",
         "name": "Charleroi - Madrid",
         "orientation": "v",
         "showlegend": true,
         "type": "scatter",
         "x": [
          1274.8053769706698
         ],
         "xaxis": "x",
         "y": [
          6843159
         ],
         "yaxis": "y"
        },
        {
         "hovertemplate": "<b>%{hovertext}</b><br><br>City_Pair_Name=Paderborn - Palma de Mallorca<br>Distance (km)=%{x}<br>Combined Population 2016=%{y}<extra></extra>",
         "hovertext": [
          "Paderborn - Palma de Mallorca"
         ],
         "legendgroup": "Paderborn - Palma de Mallorca",
         "marker": {
          "color": "#B6E880",
          "symbol": "circle"
         },
         "mode": "markers",
         "name": "Paderborn - Palma de Mallorca",
         "orientation": "v",
         "showlegend": true,
         "type": "scatter",
         "x": [
          1411.8421604749099
         ],
         "xaxis": "x",
         "y": [
          1174666
         ],
         "yaxis": "y"
        },
        {
         "hovertemplate": "<b>%{hovertext}</b><br><br>City_Pair_Name=DÃ¼sseldorf - Tenerife South<br>Distance (km)=%{x}<br>Combined Population 2016=%{y}<extra></extra>",
         "hovertext": [
          "DÃ¼sseldorf - Tenerife South"
         ],
         "legendgroup": "DÃ¼sseldorf - Tenerife South",
         "marker": {
          "color": "#FF97FF",
          "symbol": "circle"
         },
         "mode": "markers",
         "name": "DÃ¼sseldorf - Tenerife South",
         "orientation": "v",
         "showlegend": true,
         "type": "scatter",
         "x": [
          3211.15329921143
         ],
         "xaxis": "x",
         "y": [
          1502436
         ],
         "yaxis": "y"
        },
        {
         "hovertemplate": "<b>%{hovertext}</b><br><br>City_Pair_Name=Luxembourg City - Palma de Mallorca<br>Distance (km)=%{x}<br>Combined Population 2016=%{y}<extra></extra>",
         "hovertext": [
          "Luxembourg City - Palma de Mallorca"
         ],
         "legendgroup": "Luxembourg City - Palma de Mallorca",
         "marker": {
          "color": "#FECB52",
          "symbol": "circle"
         },
         "mode": "markers",
         "name": "Luxembourg City - Palma de Mallorca",
         "orientation": "v",
         "showlegend": true,
         "type": "scatter",
         "x": [
          1156.62925813127
         ],
         "xaxis": "x",
         "y": [
          1446583
         ],
         "yaxis": "y"
        },
        {
         "hovertemplate": "<b>%{hovertext}</b><br><br>City_Pair_Name=Leipzig - Palma de Mallorca<br>Distance (km)=%{x}<br>Combined Population 2016=%{y}<extra></extra>",
         "hovertext": [
          "Leipzig - Palma de Mallorca"
         ],
         "legendgroup": "Leipzig - Palma de Mallorca",
         "marker": {
          "color": "#636efa",
          "symbol": "circle"
         },
         "mode": "markers",
         "name": "Leipzig - Palma de Mallorca",
         "orientation": "v",
         "showlegend": true,
         "type": "scatter",
         "x": [
          1493.87132729756
         ],
         "xaxis": "x",
         "y": [
          1430806
         ],
         "yaxis": "y"
        },
        {
         "hovertemplate": "<b>%{hovertext}</b><br><br>City_Pair_Name=Ajaccio - Marseille<br>Distance (km)=%{x}<br>Combined Population 2016=%{y}<extra></extra>",
         "hovertext": [
          "Ajaccio - Marseille"
         ],
         "legendgroup": "Ajaccio - Marseille",
         "marker": {
          "color": "#EF553B",
          "symbol": "circle"
         },
         "mode": "markers",
         "name": "Ajaccio - Marseille",
         "orientation": "v",
         "showlegend": true,
         "type": "scatter",
         "x": [
          369.347391696951
         ],
         "xaxis": "x",
         "y": [
          2174020
         ],
         "yaxis": "y"
        },
        {
         "hovertemplate": "<b>%{hovertext}</b><br><br>City_Pair_Name=Barcelona - Cologne<br>Distance (km)=%{x}<br>Combined Population 2016=%{y}<extra></extra>",
         "hovertext": [
          "Barcelona - Cologne"
         ],
         "legendgroup": "Barcelona - Cologne",
         "marker": {
          "color": "#00cc96",
          "symbol": "circle"
         },
         "mode": "markers",
         "name": "Barcelona - Cologne",
         "orientation": "v",
         "showlegend": true,
         "type": "scatter",
         "x": [
          1093.43500504363
         ],
         "xaxis": "x",
         "y": [
          6533508
         ],
         "yaxis": "y"
        },
        {
         "hovertemplate": "<b>%{hovertext}</b><br><br>City_Pair_Name=Barcelona - Stuttgart<br>Distance (km)=%{x}<br>Combined Population 2016=%{y}<extra></extra>",
         "hovertext": [
          "Barcelona - Stuttgart"
         ],
         "legendgroup": "Barcelona - Stuttgart",
         "marker": {
          "color": "#ab63fa",
          "symbol": "circle"
         },
         "mode": "markers",
         "name": "Barcelona - Stuttgart",
         "orientation": "v",
         "showlegend": true,
         "type": "scatter",
         "x": [
          963.6805309782769
         ],
         "xaxis": "x",
         "y": [
          6096664
         ],
         "yaxis": "y"
        },
        {
         "hovertemplate": "<b>%{hovertext}</b><br><br>City_Pair_Name=Frankfurt - Gran Canaria<br>Distance (km)=%{x}<br>Combined Population 2016=%{y}<extra></extra>",
         "hovertext": [
          "Frankfurt - Gran Canaria"
         ],
         "legendgroup": "Frankfurt - Gran Canaria",
         "marker": {
          "color": "#FFA15A",
          "symbol": "circle"
         },
         "mode": "markers",
         "name": "Frankfurt - Gran Canaria",
         "orientation": "v",
         "showlegend": true,
         "type": "scatter",
         "x": [
          3204.03814016553
         ],
         "xaxis": "x",
         "y": [
          1579794
         ],
         "yaxis": "y"
        },
        {
         "hovertemplate": "<b>%{hovertext}</b><br><br>City_Pair_Name=Bilbao - Frankfurt<br>Distance (km)=%{x}<br>Combined Population 2016=%{y}<extra></extra>",
         "hovertext": [
          "Bilbao - Frankfurt"
         ],
         "legendgroup": "Bilbao - Frankfurt",
         "marker": {
          "color": "#19d3f3",
          "symbol": "circle"
         },
         "mode": "markers",
         "name": "Bilbao - Frankfurt",
         "orientation": "v",
         "showlegend": true,
         "type": "scatter",
         "x": [
          1160.99692058146
         ],
         "xaxis": "x",
         "y": [
          1872879
         ],
         "yaxis": "y"
        },
        {
         "hovertemplate": "<b>%{hovertext}</b><br><br>City_Pair_Name=Bilbao - Munich<br>Distance (km)=%{x}<br>Combined Population 2016=%{y}<extra></extra>",
         "hovertext": [
          "Bilbao - Munich"
         ],
         "legendgroup": "Bilbao - Munich",
         "marker": {
          "color": "#FF6692",
          "symbol": "circle"
         },
         "mode": "markers",
         "name": "Bilbao - Munich",
         "orientation": "v",
         "showlegend": true,
         "type": "scatter",
         "x": [
          1241.59574501781
         ],
         "xaxis": "x",
         "y": [
          2590572
         ],
         "yaxis": "y"
        },
        {
         "hovertemplate": "<b>%{hovertext}</b><br><br>City_Pair_Name=Granada - Madrid<br>Distance (km)=%{x}<br>Combined Population 2016=%{y}<extra></extra>",
         "hovertext": [
          "Granada - Madrid"
         ],
         "legendgroup": "Granada - Madrid",
         "marker": {
          "color": "#B6E880",
          "symbol": "circle"
         },
         "mode": "markers",
         "name": "Granada - Madrid",
         "orientation": "v",
         "showlegend": true,
         "type": "scatter",
         "x": [
          355.812883452525
         ],
         "xaxis": "x",
         "y": [
          7327172
         ],
         "yaxis": "y"
        },
        {
         "hovertemplate": "<b>%{hovertext}</b><br><br>City_Pair_Name=Bastia - Marseille<br>Distance (km)=%{x}<br>Combined Population 2016=%{y}<extra></extra>",
         "hovertext": [
          "Bastia - Marseille"
         ],
         "legendgroup": "Bastia - Marseille",
         "marker": {
          "color": "#FF97FF",
          "symbol": "circle"
         },
         "mode": "markers",
         "name": "Bastia - Marseille",
         "orientation": "v",
         "showlegend": true,
         "type": "scatter",
         "x": [
          358.648431328745
         ],
         "xaxis": "x",
         "y": [
          2195869
         ],
         "yaxis": "y"
        },
        {
         "hovertemplate": "<b>%{hovertext}</b><br><br>City_Pair_Name=Dresden - DÃ¼sseldorf<br>Distance (km)=%{x}<br>Combined Population 2016=%{y}<extra></extra>",
         "hovertext": [
          "Dresden - DÃ¼sseldorf"
         ],
         "legendgroup": "Dresden - DÃ¼sseldorf",
         "marker": {
          "color": "#FECB52",
          "symbol": "circle"
         },
         "mode": "markers",
         "name": "Dresden - DÃ¼sseldorf",
         "orientation": "v",
         "showlegend": true,
         "type": "scatter",
         "x": [
          486.543008413706
         ],
         "xaxis": "x",
         "y": [
          1156003
         ],
         "yaxis": "y"
        },
        {
         "hovertemplate": "<b>%{hovertext}</b><br><br>City_Pair_Name=Palma de Mallorca - Seville<br>Distance (km)=%{x}<br>Combined Population 2016=%{y}<extra></extra>",
         "hovertext": [
          "Palma de Mallorca - Seville"
         ],
         "legendgroup": "Palma de Mallorca - Seville",
         "marker": {
          "color": "#636efa",
          "symbol": "circle"
         },
         "mode": "markers",
         "name": "Palma de Mallorca - Seville",
         "orientation": "v",
         "showlegend": true,
         "type": "scatter",
         "x": [
          789.295359072529
         ],
         "xaxis": "x",
         "y": [
          2805924
         ],
         "yaxis": "y"
        },
        {
         "hovertemplate": "<b>%{hovertext}</b><br><br>City_Pair_Name=Hamburg - Nuremberg<br>Distance (km)=%{x}<br>Combined Population 2016=%{y}<extra></extra>",
         "hovertext": [
          "Hamburg - Nuremberg"
         ],
         "legendgroup": "Hamburg - Nuremberg",
         "marker": {
          "color": "#EF553B",
          "symbol": "circle"
         },
         "mode": "markers",
         "name": "Hamburg - Nuremberg",
         "orientation": "v",
         "showlegend": true,
         "type": "scatter",
         "x": [
          462.59987219737695
         ],
         "xaxis": "x",
         "y": [
          2297383
         ],
         "yaxis": "y"
        },
        {
         "hovertemplate": "<b>%{hovertext}</b><br><br>City_Pair_Name=Jerez - Madrid<br>Distance (km)=%{x}<br>Combined Population 2016=%{y}<extra></extra>",
         "hovertext": [
          "Jerez - Madrid"
         ],
         "legendgroup": "Jerez - Madrid",
         "marker": {
          "color": "#00cc96",
          "symbol": "circle"
         },
         "mode": "markers",
         "name": "Jerez - Madrid",
         "orientation": "v",
         "showlegend": true,
         "type": "scatter",
         "x": [
          472.78339226086405
         ],
         "xaxis": "x",
         "y": [
          7655941
         ],
         "yaxis": "y"
        },
        {
         "hovertemplate": "<b>%{hovertext}</b><br><br>City_Pair_Name=Berlin - Nuremberg<br>Distance (km)=%{x}<br>Combined Population 2016=%{y}<extra></extra>",
         "hovertext": [
          "Berlin - Nuremberg"
         ],
         "legendgroup": "Berlin - Nuremberg",
         "marker": {
          "color": "#ab63fa",
          "symbol": "circle"
         },
         "mode": "markers",
         "name": "Berlin - Nuremberg",
         "orientation": "v",
         "showlegend": true,
         "type": "scatter",
         "x": [
          377.62147091391296
         ],
         "xaxis": "x",
         "y": [
          4030006
         ],
         "yaxis": "y"
        },
        {
         "hovertemplate": "<b>%{hovertext}</b><br><br>City_Pair_Name=A Coruna - Barcelona<br>Distance (km)=%{x}<br>Combined Population 2016=%{y}<extra></extra>",
         "hovertext": [
          "A Coruna - Barcelona"
         ],
         "legendgroup": "A Coruna - Barcelona",
         "marker": {
          "color": "#FFA15A",
          "symbol": "circle"
         },
         "mode": "markers",
         "name": "A Coruna - Barcelona",
         "orientation": "v",
         "showlegend": true,
         "type": "scatter",
         "x": [
          870.927855265631
         ],
         "xaxis": "x",
         "y": [
          6595941
         ],
         "yaxis": "y"
        },
        {
         "hovertemplate": "<b>%{hovertext}</b><br><br>City_Pair_Name=Amsterdam - DÃ¼sseldorf<br>Distance (km)=%{x}<br>Combined Population 2016=%{y}<extra></extra>",
         "hovertext": [
          "Amsterdam - DÃ¼sseldorf"
         ],
         "legendgroup": "Amsterdam - DÃ¼sseldorf",
         "marker": {
          "color": "#19d3f3",
          "symbol": "circle"
         },
         "mode": "markers",
         "name": "Amsterdam - DÃ¼sseldorf",
         "orientation": "v",
         "showlegend": true,
         "type": "scatter",
         "x": [
          184.372158078534
         ],
         "xaxis": "x",
         "y": [
          1941750
         ],
         "yaxis": "y"
        },
        {
         "hovertemplate": "<b>%{hovertext}</b><br><br>City_Pair_Name=Munich - Munster<br>Distance (km)=%{x}<br>Combined Population 2016=%{y}<extra></extra>",
         "hovertext": [
          "Munich - Munster"
         ],
         "legendgroup": "Munich - Munster",
         "marker": {
          "color": "#FF6692",
          "symbol": "circle"
         },
         "mode": "markers",
         "name": "Munich - Munster",
         "orientation": "v",
         "showlegend": true,
         "type": "scatter",
         "x": [
          506.827290347327
         ],
         "xaxis": "x",
         "y": [
          1760420
         ],
         "yaxis": "y"
        },
        {
         "hovertemplate": "<b>%{hovertext}</b><br><br>City_Pair_Name=Frankfurt - Toulouse<br>Distance (km)=%{x}<br>Combined Population 2016=%{y}<extra></extra>",
         "hovertext": [
          "Frankfurt - Toulouse"
         ],
         "legendgroup": "Frankfurt - Toulouse",
         "marker": {
          "color": "#B6E880",
          "symbol": "circle"
         },
         "mode": "markers",
         "name": "Frankfurt - Toulouse",
         "orientation": "v",
         "showlegend": true,
         "type": "scatter",
         "x": [
          941.846038782056
         ],
         "xaxis": "x",
         "y": [
          2080871
         ],
         "yaxis": "y"
        },
        {
         "hovertemplate": "<b>%{hovertext}</b><br><br>City_Pair_Name=Dresden - Munich<br>Distance (km)=%{x}<br>Combined Population 2016=%{y}<extra></extra>",
         "hovertext": [
          "Dresden - Munich"
         ],
         "legendgroup": "Dresden - Munich",
         "marker": {
          "color": "#FF97FF",
          "symbol": "circle"
         },
         "mode": "markers",
         "name": "Dresden - Munich",
         "orientation": "v",
         "showlegend": true,
         "type": "scatter",
         "x": [
          361.738348416228
         ],
         "xaxis": "x",
         "y": [
          1994206
         ],
         "yaxis": "y"
        },
        {
         "hovertemplate": "<b>%{hovertext}</b><br><br>City_Pair_Name=DÃ¼sseldorf - Nuremberg<br>Distance (km)=%{x}<br>Combined Population 2016=%{y}<extra></extra>",
         "hovertext": [
          "DÃ¼sseldorf - Nuremberg"
         ],
         "legendgroup": "DÃ¼sseldorf - Nuremberg",
         "marker": {
          "color": "#FECB52",
          "symbol": "circle"
         },
         "mode": "markers",
         "name": "DÃ¼sseldorf - Nuremberg",
         "orientation": "v",
         "showlegend": true,
         "type": "scatter",
         "x": [
          363.046787295589
         ],
         "xaxis": "x",
         "y": [
          1122153
         ],
         "yaxis": "y"
        },
        {
         "hovertemplate": "<b>%{hovertext}</b><br><br>City_Pair_Name=Gran Canaria - Munich<br>Distance (km)=%{x}<br>Combined Population 2016=%{y}<extra></extra>",
         "hovertext": [
          "Gran Canaria - Munich"
         ],
         "legendgroup": "Gran Canaria - Munich",
         "marker": {
          "color": "#636efa",
          "symbol": "circle"
         },
         "mode": "markers",
         "name": "Gran Canaria - Munich",
         "orientation": "v",
         "showlegend": true,
         "type": "scatter",
         "x": [
          3237.82884961482
         ],
         "xaxis": "x",
         "y": [
          2297487
         ],
         "yaxis": "y"
        },
        {
         "hovertemplate": "<b>%{hovertext}</b><br><br>City_Pair_Name=Lyon - Madrid<br>Distance (km)=%{x}<br>Combined Population 2016=%{y}<extra></extra>",
         "hovertext": [
          "Lyon - Madrid"
         ],
         "legendgroup": "Lyon - Madrid",
         "marker": {
          "color": "#EF553B",
          "symbol": "circle"
         },
         "mode": "markers",
         "name": "Lyon - Madrid",
         "orientation": "v",
         "showlegend": true,
         "type": "scatter",
         "x": [
          902.73314563454
         ],
         "xaxis": "x",
         "y": [
          8247369
         ],
         "yaxis": "y"
        },
        {
         "hovertemplate": "<b>%{hovertext}</b><br><br>City_Pair_Name=Paris - Perpignan<br>Distance (km)=%{x}<br>Combined Population 2016=%{y}<extra></extra>",
         "hovertext": [
          "Paris - Perpignan"
         ],
         "legendgroup": "Paris - Perpignan",
         "marker": {
          "color": "#00cc96",
          "symbol": "circle"
         },
         "mode": "markers",
         "name": "Paris - Perpignan",
         "orientation": "v",
         "showlegend": true,
         "type": "scatter",
         "x": [
          686.80008684408
         ],
         "xaxis": "x",
         "y": [
          1852520
         ],
         "yaxis": "y"
        },
        {
         "hovertemplate": "<b>%{hovertext}</b><br><br>City_Pair_Name=Munich - Nice<br>Distance (km)=%{x}<br>Combined Population 2016=%{y}<extra></extra>",
         "hovertext": [
          "Munich - Nice"
         ],
         "legendgroup": "Munich - Nice",
         "marker": {
          "color": "#ab63fa",
          "symbol": "circle"
         },
         "mode": "markers",
         "name": "Munich - Nice",
         "orientation": "v",
         "showlegend": true,
         "type": "scatter",
         "x": [
          580.054244521898
         ],
         "xaxis": "x",
         "y": [
          2534085
         ],
         "yaxis": "y"
        },
        {
         "hovertemplate": "<b>%{hovertext}</b><br><br>City_Pair_Name=Alicante - Eindhoven<br>Distance (km)=%{x}<br>Combined Population 2016=%{y}<extra></extra>",
         "hovertext": [
          "Alicante - Eindhoven"
         ],
         "legendgroup": "Alicante - Eindhoven",
         "marker": {
          "color": "#FFA15A",
          "symbol": "circle"
         },
         "mode": "markers",
         "name": "Alicante - Eindhoven",
         "orientation": "v",
         "showlegend": true,
         "type": "scatter",
         "x": [
          1515.11386484871
         ],
         "xaxis": "x",
         "y": [
          2594488
         ],
         "yaxis": "y"
        },
        {
         "hovertemplate": "<b>%{hovertext}</b><br><br>City_Pair_Name=Amsterdam - Brussels<br>Distance (km)=%{x}<br>Combined Population 2016=%{y}<extra></extra>",
         "hovertext": [
          "Amsterdam - Brussels"
         ],
         "legendgroup": "Amsterdam - Brussels",
         "marker": {
          "color": "#19d3f3",
          "symbol": "circle"
         },
         "mode": "markers",
         "name": "Amsterdam - Brussels",
         "orientation": "v",
         "showlegend": true,
         "type": "scatter",
         "x": [
          176.41806250953903
         ],
         "xaxis": "x",
         "y": [
          2530857
         ],
         "yaxis": "y"
        },
        {
         "hovertemplate": "<b>%{hovertext}</b><br><br>City_Pair_Name=Brussels - Palma de Mallorca<br>Distance (km)=%{x}<br>Combined Population 2016=%{y}<extra></extra>",
         "hovertext": [
          "Brussels - Palma de Mallorca"
         ],
         "legendgroup": "Brussels - Palma de Mallorca",
         "marker": {
          "color": "#FF6692",
          "symbol": "circle"
         },
         "mode": "markers",
         "name": "Brussels - Palma de Mallorca",
         "orientation": "v",
         "showlegend": true,
         "type": "scatter",
         "x": [
          1252.75235413236
         ],
         "xaxis": "x",
         "y": [
          2071619
         ],
         "yaxis": "y"
        },
        {
         "hovertemplate": "<b>%{hovertext}</b><br><br>City_Pair_Name=Brussels - Lyon<br>Distance (km)=%{x}<br>Combined Population 2016=%{y}<extra></extra>",
         "hovertext": [
          "Brussels - Lyon"
         ],
         "legendgroup": "Brussels - Lyon",
         "marker": {
          "color": "#B6E880",
          "symbol": "circle"
         },
         "mode": "markers",
         "name": "Brussels - Lyon",
         "orientation": "v",
         "showlegend": true,
         "type": "scatter",
         "x": [
          552.638580940427
         ],
         "xaxis": "x",
         "y": [
          3037188
         ],
         "yaxis": "y"
        },
        {
         "hovertemplate": "<b>%{hovertext}</b><br><br>City_Pair_Name=Lille - Marseille<br>Distance (km)=%{x}<br>Combined Population 2016=%{y}<extra></extra>",
         "hovertext": [
          "Lille - Marseille"
         ],
         "legendgroup": "Lille - Marseille",
         "marker": {
          "color": "#FF97FF",
          "symbol": "circle"
         },
         "mode": "markers",
         "name": "Lille - Marseille",
         "orientation": "v",
         "showlegend": true,
         "type": "scatter",
         "x": [
          780.5542461066041
         ],
         "xaxis": "x",
         "y": [
          4623440
         ],
         "yaxis": "y"
        },
        {
         "hovertemplate": "<b>%{hovertext}</b><br><br>City_Pair_Name=Frankfurt - Fuerteventura<br>Distance (km)=%{x}<br>Combined Population 2016=%{y}<extra></extra>",
         "hovertext": [
          "Frankfurt - Fuerteventura"
         ],
         "legendgroup": "Frankfurt - Fuerteventura",
         "marker": {
          "color": "#FECB52",
          "symbol": "circle"
         },
         "mode": "markers",
         "name": "Frankfurt - Fuerteventura",
         "orientation": "v",
         "showlegend": true,
         "type": "scatter",
         "x": [
          3079.5670244447
         ],
         "xaxis": "x",
         "y": [
          842612
         ],
         "yaxis": "y"
        },
        {
         "hovertemplate": "<b>%{hovertext}</b><br><br>City_Pair_Name=Nantes - Toulouse<br>Distance (km)=%{x}<br>Combined Population 2016=%{y}<extra></extra>",
         "hovertext": [
          "Nantes - Toulouse"
         ],
         "legendgroup": "Nantes - Toulouse",
         "marker": {
          "color": "#636efa",
          "symbol": "circle"
         },
         "mode": "markers",
         "name": "Nantes - Toulouse",
         "orientation": "v",
         "showlegend": true,
         "type": "scatter",
         "x": [
          497.826482340004
         ],
         "xaxis": "x",
         "y": [
          2729035
         ],
         "yaxis": "y"
        },
        {
         "hovertemplate": "<b>%{hovertext}</b><br><br>City_Pair_Name=Eindhoven - Malaga<br>Distance (km)=%{x}<br>Combined Population 2016=%{y}<extra></extra>",
         "hovertext": [
          "Eindhoven - Malaga"
         ],
         "legendgroup": "Eindhoven - Malaga",
         "marker": {
          "color": "#EF553B",
          "symbol": "circle"
         },
         "mode": "markers",
         "name": "Eindhoven - Malaga",
         "orientation": "v",
         "showlegend": true,
         "type": "scatter",
         "x": [
          1814.06372180281
         ],
         "xaxis": "x",
         "y": [
          2394993
         ],
         "yaxis": "y"
        },
        {
         "hovertemplate": "<b>%{hovertext}</b><br><br>City_Pair_Name=Nantes - Nice<br>Distance (km)=%{x}<br>Combined Population 2016=%{y}<extra></extra>",
         "hovertext": [
          "Nantes - Nice"
         ],
         "legendgroup": "Nantes - Nice",
         "marker": {
          "color": "#00cc96",
          "symbol": "circle"
         },
         "mode": "markers",
         "name": "Nantes - Nice",
         "orientation": "v",
         "showlegend": true,
         "type": "scatter",
         "x": [
          782.073753808513
         ],
         "xaxis": "x",
         "y": [
          2464556
         ],
         "yaxis": "y"
        },
        {
         "hovertemplate": "<b>%{hovertext}</b><br><br>City_Pair_Name=Munich - Toulouse<br>Distance (km)=%{x}<br>Combined Population 2016=%{y}<extra></extra>",
         "hovertext": [
          "Munich - Toulouse"
         ],
         "legendgroup": "Munich - Toulouse",
         "marker": {
          "color": "#ab63fa",
          "symbol": "circle"
         },
         "mode": "markers",
         "name": "Munich - Toulouse",
         "orientation": "v",
         "showlegend": true,
         "type": "scatter",
         "x": [
          964.033979381558
         ],
         "xaxis": "x",
         "y": [
          2798564
         ],
         "yaxis": "y"
        },
        {
         "hovertemplate": "<b>%{hovertext}</b><br><br>City_Pair_Name=Alicante - Palma de Mallorca<br>Distance (km)=%{x}<br>Combined Population 2016=%{y}<extra></extra>",
         "hovertext": [
          "Alicante - Palma de Mallorca"
         ],
         "legendgroup": "Alicante - Palma de Mallorca",
         "marker": {
          "color": "#FFA15A",
          "symbol": "circle"
         },
         "mode": "markers",
         "name": "Alicante - Palma de Mallorca",
         "orientation": "v",
         "showlegend": true,
         "type": "scatter",
         "x": [
          329.703308447327
         ],
         "xaxis": "x",
         "y": [
          2708207
         ],
         "yaxis": "y"
        },
        {
         "hovertemplate": "<b>%{hovertext}</b><br><br>City_Pair_Name=Paris - Seville<br>Distance (km)=%{x}<br>Combined Population 2016=%{y}<extra></extra>",
         "hovertext": [
          "Paris - Seville",
          "Paris - Seville"
         ],
         "legendgroup": "Paris - Seville",
         "marker": {
          "color": "#19d3f3",
          "symbol": "circle"
         },
         "mode": "markers",
         "name": "Paris - Seville",
         "orientation": "v",
         "showlegend": true,
         "type": "scatter",
         "x": [
          1422.24233075181,
          1439.58754939299
         ],
         "xaxis": "x",
         "y": [
          3313741,
          3157513
         ],
         "yaxis": "y"
        },
        {
         "hovertemplate": "<b>%{hovertext}</b><br><br>City_Pair_Name=Malaga - Melilla<br>Distance (km)=%{x}<br>Combined Population 2016=%{y}<extra></extra>",
         "hovertext": [
          "Malaga - Melilla"
         ],
         "legendgroup": "Malaga - Melilla",
         "marker": {
          "color": "#FF6692",
          "symbol": "circle"
         },
         "mode": "markers",
         "name": "Malaga - Melilla",
         "orientation": "v",
         "showlegend": true,
         "type": "scatter",
         "x": [
          232.829429560952
         ],
         "xaxis": "x",
         "y": [
          1723835
         ],
         "yaxis": "y"
        },
        {
         "hovertemplate": "<b>%{hovertext}</b><br><br>City_Pair_Name=Madrid - Toulouse<br>Distance (km)=%{x}<br>Combined Population 2016=%{y}<extra></extra>",
         "hovertext": [
          "Madrid - Toulouse"
         ],
         "legendgroup": "Madrid - Toulouse",
         "marker": {
          "color": "#B6E880",
          "symbol": "circle"
         },
         "mode": "markers",
         "name": "Madrid - Toulouse",
         "orientation": "v",
         "showlegend": true,
         "type": "scatter",
         "x": [
          514.7206858803211
         ],
         "xaxis": "x",
         "y": [
          7759649
         ],
         "yaxis": "y"
        },
        {
         "hovertemplate": "<b>%{hovertext}</b><br><br>City_Pair_Name=Lille - Toulouse<br>Distance (km)=%{x}<br>Combined Population 2016=%{y}<extra></extra>",
         "hovertext": [
          "Lille - Toulouse"
         ],
         "legendgroup": "Lille - Toulouse",
         "marker": {
          "color": "#FF97FF",
          "symbol": "circle"
         },
         "mode": "markers",
         "name": "Lille - Toulouse",
         "orientation": "v",
         "showlegend": true,
         "type": "scatter",
         "x": [
          803.4013897627369
         ],
         "xaxis": "x",
         "y": [
          3951906
         ],
         "yaxis": "y"
        },
        {
         "hovertemplate": "<b>%{hovertext}</b><br><br>City_Pair_Name=Madrid - Marseille<br>Distance (km)=%{x}<br>Combined Population 2016=%{y}<extra></extra>",
         "hovertext": [
          "Madrid - Marseille"
         ],
         "legendgroup": "Madrid - Marseille",
         "marker": {
          "color": "#FECB52",
          "symbol": "circle"
         },
         "mode": "markers",
         "name": "Madrid - Marseille",
         "orientation": "v",
         "showlegend": true,
         "type": "scatter",
         "x": [
          801.822877864122
         ],
         "xaxis": "x",
         "y": [
          8431183
         ],
         "yaxis": "y"
        },
        {
         "hovertemplate": "<b>%{hovertext}</b><br><br>City_Pair_Name=Barcelona - Beauvais<br>Distance (km)=%{x}<br>Combined Population 2016=%{y}<extra></extra>",
         "hovertext": [
          "Barcelona - Beauvais"
         ],
         "legendgroup": "Barcelona - Beauvais",
         "marker": {
          "color": "#636efa",
          "symbol": "circle"
         },
         "mode": "markers",
         "name": "Barcelona - Beauvais",
         "orientation": "v",
         "showlegend": true,
         "type": "scatter",
         "x": [
          854.642040614875
         ],
         "xaxis": "x",
         "y": [
          6296468
         ],
         "yaxis": "y"
        },
        {
         "hovertemplate": "<b>%{hovertext}</b><br><br>City_Pair_Name=Marseille - Munich<br>Distance (km)=%{x}<br>Combined Population 2016=%{y}<extra></extra>",
         "hovertext": [
          "Marseille - Munich"
         ],
         "legendgroup": "Marseille - Munich",
         "marker": {
          "color": "#EF553B",
          "symbol": "circle"
         },
         "mode": "markers",
         "name": "Marseille - Munich",
         "orientation": "v",
         "showlegend": true,
         "type": "scatter",
         "x": [
          715.7822190221159
         ],
         "xaxis": "x",
         "y": [
          3470098
         ],
         "yaxis": "y"
        },
        {
         "hovertemplate": "<b>%{hovertext}</b><br><br>City_Pair_Name=Karlsruhe/Baden-Baden - Palma de Mallorca<br>Distance (km)=%{x}<br>Combined Population 2016=%{y}<extra></extra>",
         "hovertext": [
          "Karlsruhe/Baden-Baden - Palma de Mallorca"
         ],
         "legendgroup": "Karlsruhe/Baden-Baden - Palma de Mallorca",
         "marker": {
          "color": "#00cc96",
          "symbol": "circle"
         },
         "mode": "markers",
         "name": "Karlsruhe/Baden-Baden - Palma de Mallorca",
         "orientation": "v",
         "showlegend": true,
         "type": "scatter",
         "x": [
          1130.7619417563099
         ],
         "xaxis": "x",
         "y": [
          1178089
         ],
         "yaxis": "y"
        },
        {
         "hovertemplate": "<b>%{hovertext}</b><br><br>City_Pair_Name=Hannover - Stuttgart<br>Distance (km)=%{x}<br>Combined Population 2016=%{y}<extra></extra>",
         "hovertext": [
          "Hannover - Stuttgart"
         ],
         "legendgroup": "Hannover - Stuttgart",
         "marker": {
          "color": "#ab63fa",
          "symbol": "circle"
         },
         "mode": "markers",
         "name": "Hannover - Stuttgart",
         "orientation": "v",
         "showlegend": true,
         "type": "scatter",
         "x": [
          407.302484768457
         ],
         "xaxis": "x",
         "y": [
          1768219
         ],
         "yaxis": "y"
        },
        {
         "hovertemplate": "<b>%{hovertext}</b><br><br>City_Pair_Name=Bremen - Palma de Mallorca<br>Distance (km)=%{x}<br>Combined Population 2016=%{y}<extra></extra>",
         "hovertext": [
          "Bremen - Palma de Mallorca"
         ],
         "legendgroup": "Bremen - Palma de Mallorca",
         "marker": {
          "color": "#FFA15A",
          "symbol": "circle"
         },
         "mode": "markers",
         "name": "Bremen - Palma de Mallorca",
         "orientation": "v",
         "showlegend": true,
         "type": "scatter",
         "x": [
          1564.5534500009999
         ],
         "xaxis": "x",
         "y": [
          1427798
         ],
         "yaxis": "y"
        },
        {
         "hovertemplate": "<b>%{hovertext}</b><br><br>City_Pair_Name=Almeria - Madrid<br>Distance (km)=%{x}<br>Combined Population 2016=%{y}<extra></extra>",
         "hovertext": [
          "Almeria - Madrid"
         ],
         "legendgroup": "Almeria - Madrid",
         "marker": {
          "color": "#19d3f3",
          "symbol": "circle"
         },
         "mode": "markers",
         "name": "Almeria - Madrid",
         "orientation": "v",
         "showlegend": true,
         "type": "scatter",
         "x": [
          385.47783288224895
         ],
         "xaxis": "x",
         "y": [
          7111521
         ],
         "yaxis": "y"
        },
        {
         "hovertemplate": "<b>%{hovertext}</b><br><br>City_Pair_Name=Amsterdam - Bilbao<br>Distance (km)=%{x}<br>Combined Population 2016=%{y}<extra></extra>",
         "hovertext": [
          "Amsterdam - Bilbao"
         ],
         "legendgroup": "Amsterdam - Bilbao",
         "marker": {
          "color": "#FF6692",
          "symbol": "circle"
         },
         "mode": "markers",
         "name": "Amsterdam - Bilbao",
         "orientation": "v",
         "showlegend": true,
         "type": "scatter",
         "x": [
          1168.2243109449
         ],
         "xaxis": "x",
         "y": [
          2469763
         ],
         "yaxis": "y"
        },
        {
         "hovertemplate": "<b>%{hovertext}</b><br><br>City_Pair_Name=Amsterdam - Nuremberg<br>Distance (km)=%{x}<br>Combined Population 2016=%{y}<extra></extra>",
         "hovertext": [
          "Amsterdam - Nuremberg"
         ],
         "legendgroup": "Amsterdam - Nuremberg",
         "marker": {
          "color": "#B6E880",
          "symbol": "circle"
         },
         "mode": "markers",
         "name": "Amsterdam - Nuremberg",
         "orientation": "v",
         "showlegend": true,
         "type": "scatter",
         "x": [
          544.23927968415
         ],
         "xaxis": "x",
         "y": [
          1839547
         ],
         "yaxis": "y"
        },
        {
         "hovertemplate": "<b>%{hovertext}</b><br><br>City_Pair_Name=Lyon - Munich<br>Distance (km)=%{x}<br>Combined Population 2016=%{y}<extra></extra>",
         "hovertext": [
          "Lyon - Munich"
         ],
         "legendgroup": "Lyon - Munich",
         "marker": {
          "color": "#FF97FF",
          "symbol": "circle"
         },
         "mode": "markers",
         "name": "Lyon - Munich",
         "orientation": "v",
         "showlegend": true,
         "type": "scatter",
         "x": [
          581.528336083554
         ],
         "xaxis": "x",
         "y": [
          3286284
         ],
         "yaxis": "y"
        },
        {
         "hovertemplate": "<b>%{hovertext}</b><br><br>City_Pair_Name=Figari - Paris<br>Distance (km)=%{x}<br>Combined Population 2016=%{y}<extra></extra>",
         "hovertext": [
          "Figari - Paris",
          "Figari - Paris"
         ],
         "legendgroup": "Figari - Paris",
         "marker": {
          "color": "#FECB52",
          "symbol": "circle"
         },
         "mode": "markers",
         "name": "Figari - Paris",
         "orientation": "v",
         "showlegend": true,
         "type": "scatter",
         "x": [
          921.51894448017,
          963.4393878273809
         ],
         "xaxis": "x",
         "y": [
          1532454,
          1376226
         ],
         "yaxis": "y"
        },
        {
         "hovertemplate": "<b>%{hovertext}</b><br><br>City_Pair_Name=Frankfurt - Valencia<br>Distance (km)=%{x}<br>Combined Population 2016=%{y}<extra></extra>",
         "hovertext": [
          "Frankfurt - Valencia",
          "Frankfurt - Valencia"
         ],
         "legendgroup": "Frankfurt - Valencia",
         "marker": {
          "color": "#636efa",
          "symbol": "circle"
         },
         "mode": "markers",
         "name": "Frankfurt - Valencia",
         "orientation": "v",
         "showlegend": true,
         "type": "scatter",
         "x": [
          1408.07979050299,
          1356.08127134518
         ],
         "xaxis": "x",
         "y": [
          3259157,
          2628998
         ],
         "yaxis": "y"
        },
        {
         "hovertemplate": "<b>%{hovertext}</b><br><br>City_Pair_Name=Hamburg - Madrid<br>Distance (km)=%{x}<br>Combined Population 2016=%{y}<extra></extra>",
         "hovertext": [
          "Hamburg - Madrid"
         ],
         "legendgroup": "Hamburg - Madrid",
         "marker": {
          "color": "#EF553B",
          "symbol": "circle"
         },
         "mode": "markers",
         "name": "Hamburg - Madrid",
         "orientation": "v",
         "showlegend": true,
         "type": "scatter",
         "x": [
          1779.58086857442
         ],
         "xaxis": "x",
         "y": [
          8198874
         ],
         "yaxis": "y"
        },
        {
         "hovertemplate": "<b>%{hovertext}</b><br><br>City_Pair_Name=Munich - Tenerife South<br>Distance (km)=%{x}<br>Combined Population 2016=%{y}<extra></extra>",
         "hovertext": [
          "Munich - Tenerife South"
         ],
         "legendgroup": "Munich - Tenerife South",
         "marker": {
          "color": "#00cc96",
          "symbol": "circle"
         },
         "mode": "markers",
         "name": "Munich - Tenerife South",
         "orientation": "v",
         "showlegend": true,
         "type": "scatter",
         "x": [
          3268.82772321726
         ],
         "xaxis": "x",
         "y": [
          2340639
         ],
         "yaxis": "y"
        },
        {
         "hovertemplate": "<b>%{hovertext}</b><br><br>City_Pair_Name=Palma de Mallorca - Paris<br>Distance (km)=%{x}<br>Combined Population 2016=%{y}<extra></extra>",
         "hovertext": [
          "Palma de Mallorca - Paris"
         ],
         "legendgroup": "Palma de Mallorca - Paris",
         "marker": {
          "color": "#ab63fa",
          "symbol": "circle"
         },
         "mode": "markers",
         "name": "Palma de Mallorca - Paris",
         "orientation": "v",
         "showlegend": true,
         "type": "scatter",
         "x": [
          1019.65370089033
         ],
         "xaxis": "x",
         "y": [
          2248485
         ],
         "yaxis": "y"
        },
        {
         "hovertemplate": "<b>%{hovertext}</b><br><br>City_Pair_Name=Bilbao - Malaga<br>Distance (km)=%{x}<br>Combined Population 2016=%{y}<extra></extra>",
         "hovertext": [
          "Bilbao - Malaga"
         ],
         "legendgroup": "Bilbao - Malaga",
         "marker": {
          "color": "#FFA15A",
          "symbol": "circle"
         },
         "mode": "markers",
         "name": "Bilbao - Malaga",
         "orientation": "v",
         "showlegend": true,
         "type": "scatter",
         "x": [
          732.396766024926
         ],
         "xaxis": "x",
         "y": [
          2778569
         ],
         "yaxis": "y"
        },
        {
         "hovertemplate": "<b>%{hovertext}</b><br><br>City_Pair_Name=Barcelona - Lanzarote<br>Distance (km)=%{x}<br>Combined Population 2016=%{y}<extra></extra>",
         "hovertext": [
          "Barcelona - Lanzarote"
         ],
         "legendgroup": "Barcelona - Lanzarote",
         "marker": {
          "color": "#19d3f3",
          "symbol": "circle"
         },
         "mode": "markers",
         "name": "Barcelona - Lanzarote",
         "orientation": "v",
         "showlegend": true,
         "type": "scatter",
         "x": [
          1994.54313120935
         ],
         "xaxis": "x",
         "y": [
          5615790
         ],
         "yaxis": "y"
        },
        {
         "hovertemplate": "<b>%{hovertext}</b><br><br>City_Pair_Name=Bilbao - Paris<br>Distance (km)=%{x}<br>Combined Population 2016=%{y}<extra></extra>",
         "hovertext": [
          "Bilbao - Paris",
          "Bilbao - Paris"
         ],
         "legendgroup": "Bilbao - Paris",
         "marker": {
          "color": "#FF6692",
          "symbol": "circle"
         },
         "mode": "markers",
         "name": "Bilbao - Paris",
         "orientation": "v",
         "showlegend": true,
         "type": "scatter",
         "x": [
          753.874571526791,
          739.462171463173
         ],
         "xaxis": "x",
         "y": [
          2362114,
          2518342
         ],
         "yaxis": "y"
        },
        {
         "hovertemplate": "<b>%{hovertext}</b><br><br>City_Pair_Name=Madrid - Santander<br>Distance (km)=%{x}<br>Combined Population 2016=%{y}<extra></extra>",
         "hovertext": [
          "Madrid - Santander"
         ],
         "legendgroup": "Madrid - Santander",
         "marker": {
          "color": "#B6E880",
          "symbol": "circle"
         },
         "mode": "markers",
         "name": "Madrid - Santander",
         "orientation": "v",
         "showlegend": true,
         "type": "scatter",
         "x": [
          301.790859489597
         ],
         "xaxis": "x",
         "y": [
          6993960
         ],
         "yaxis": "y"
        },
        {
         "hovertemplate": "<b>%{hovertext}</b><br><br>City_Pair_Name=Paris - Stuttgart<br>Distance (km)=%{x}<br>Combined Population 2016=%{y}<extra></extra>",
         "hovertext": [
          "Paris - Stuttgart"
         ],
         "legendgroup": "Paris - Stuttgart",
         "marker": {
          "color": "#FF97FF",
          "symbol": "circle"
         },
         "mode": "markers",
         "name": "Paris - Stuttgart",
         "orientation": "v",
         "showlegend": true,
         "type": "scatter",
         "x": [
          515.316255682175
         ],
         "xaxis": "x",
         "y": [
          1845661
         ],
         "yaxis": "y"
        },
        {
         "hovertemplate": "<b>%{hovertext}</b><br><br>City_Pair_Name=Malaga - Munich<br>Distance (km)=%{x}<br>Combined Population 2016=%{y}<extra></extra>",
         "hovertext": [
          "Malaga - Munich"
         ],
         "legendgroup": "Malaga - Munich",
         "marker": {
          "color": "#FECB52",
          "symbol": "circle"
         },
         "mode": "markers",
         "name": "Malaga - Munich",
         "orientation": "v",
         "showlegend": true,
         "type": "scatter",
         "x": [
          1828.8361495561398
         ],
         "xaxis": "x",
         "y": [
          3088759
         ],
         "yaxis": "y"
        },
        {
         "hovertemplate": "<b>%{hovertext}</b><br><br>City_Pair_Name=Gran Canaria - Hamburg<br>Distance (km)=%{x}<br>Combined Population 2016=%{y}<extra></extra>",
         "hovertext": [
          "Gran Canaria - Hamburg"
         ],
         "legendgroup": "Gran Canaria - Hamburg",
         "marker": {
          "color": "#636efa",
          "symbol": "circle"
         },
         "mode": "markers",
         "name": "Gran Canaria - Hamburg",
         "orientation": "v",
         "showlegend": true,
         "type": "scatter",
         "x": [
          3530.8704175908597
         ],
         "xaxis": "x",
         "y": [
          2634514
         ],
         "yaxis": "y"
        },
        {
         "hovertemplate": "<b>%{hovertext}</b><br><br>City_Pair_Name=Brussels - Paris<br>Distance (km)=%{x}<br>Combined Population 2016=%{y}<extra></extra>",
         "hovertext": [
          "Brussels - Paris"
         ],
         "legendgroup": "Brussels - Paris",
         "marker": {
          "color": "#EF553B",
          "symbol": "circle"
         },
         "mode": "markers",
         "name": "Brussels - Paris",
         "orientation": "v",
         "showlegend": true,
         "type": "scatter",
         "x": [
          252.38244049535498
         ],
         "xaxis": "x",
         "y": [
          2423208
         ],
         "yaxis": "y"
        },
        {
         "hovertemplate": "<b>%{hovertext}</b><br><br>City_Pair_Name=Brussels - Hamburg<br>Distance (km)=%{x}<br>Combined Population 2016=%{y}<extra></extra>",
         "hovertext": [
          "Brussels - Hamburg"
         ],
         "legendgroup": "Brussels - Hamburg",
         "marker": {
          "color": "#00cc96",
          "symbol": "circle"
         },
         "mode": "markers",
         "name": "Brussels - Hamburg",
         "orientation": "v",
         "showlegend": true,
         "type": "scatter",
         "x": [
          488.718797016252
         ],
         "xaxis": "x",
         "y": [
          2988693
         ],
         "yaxis": "y"
        },
        {
         "hovertemplate": "<b>%{hovertext}</b><br><br>City_Pair_Name=Amsterdam - Hannover<br>Distance (km)=%{x}<br>Combined Population 2016=%{y}<extra></extra>",
         "hovertext": [
          "Amsterdam - Hannover"
         ],
         "legendgroup": "Amsterdam - Hannover",
         "marker": {
          "color": "#ab63fa",
          "symbol": "circle"
         },
         "mode": "markers",
         "name": "Amsterdam - Hannover",
         "orientation": "v",
         "showlegend": true,
         "type": "scatter",
         "x": [
          327.96036693335805
         ],
         "xaxis": "x",
         "y": [
          2474053
         ],
         "yaxis": "y"
        },
        {
         "hovertemplate": "<b>%{hovertext}</b><br><br>City_Pair_Name=Malaga - Palma de Mallorca<br>Distance (km)=%{x}<br>Combined Population 2016=%{y}<extra></extra>",
         "hovertext": [
          "Malaga - Palma de Mallorca"
         ],
         "legendgroup": "Malaga - Palma de Mallorca",
         "marker": {
          "color": "#FFA15A",
          "symbol": "circle"
         },
         "mode": "markers",
         "name": "Malaga - Palma de Mallorca",
         "orientation": "v",
         "showlegend": true,
         "type": "scatter",
         "x": [
          739.6461791416571
         ],
         "xaxis": "x",
         "y": [
          2508712
         ],
         "yaxis": "y"
        },
        {
         "hovertemplate": "<b>%{hovertext}</b><br><br>City_Pair_Name=Fuerteventura - Tenerife North<br>Distance (km)=%{x}<br>Combined Population 2016=%{y}<extra></extra>",
         "hovertext": [
          "Fuerteventura - Tenerife North"
         ],
         "legendgroup": "Fuerteventura - Tenerife North",
         "marker": {
          "color": "#19d3f3",
          "symbol": "circle"
         },
         "mode": "markers",
         "name": "Fuerteventura - Tenerife North",
         "orientation": "v",
         "showlegend": true,
         "type": "scatter",
         "x": [
          247.048478796183
         ],
         "xaxis": "x",
         "y": [
          1000182
         ],
         "yaxis": "y"
        },
        {
         "hovertemplate": "<b>%{hovertext}</b><br><br>City_Pair_Name=Fuerteventura - Munich<br>Distance (km)=%{x}<br>Combined Population 2016=%{y}<extra></extra>",
         "hovertext": [
          "Fuerteventura - Munich"
         ],
         "legendgroup": "Fuerteventura - Munich",
         "marker": {
          "color": "#FF6692",
          "symbol": "circle"
         },
         "mode": "markers",
         "name": "Fuerteventura - Munich",
         "orientation": "v",
         "showlegend": true,
         "type": "scatter",
         "x": [
          3103.8640325382903
         ],
         "xaxis": "x",
         "y": [
          1560305
         ],
         "yaxis": "y"
        },
        {
         "hovertemplate": "<b>%{hovertext}</b><br><br>City_Pair_Name=Lyon - Nice<br>Distance (km)=%{x}<br>Combined Population 2016=%{y}<extra></extra>",
         "hovertext": [
          "Lyon - Nice"
         ],
         "legendgroup": "Lyon - Nice",
         "marker": {
          "color": "#B6E880",
          "symbol": "circle"
         },
         "mode": "markers",
         "name": "Lyon - Nice",
         "orientation": "v",
         "showlegend": true,
         "type": "scatter",
         "x": [
          290.06992622109505
         ],
         "xaxis": "x",
         "y": [
          2919607
         ],
         "yaxis": "y"
        },
        {
         "hovertemplate": "<b>%{hovertext}</b><br><br>City_Pair_Name=Munich - Stuttgart<br>Distance (km)=%{x}<br>Combined Population 2016=%{y}<extra></extra>",
         "hovertext": [
          "Munich - Stuttgart"
         ],
         "legendgroup": "Munich - Stuttgart",
         "marker": {
          "color": "#FF97FF",
          "symbol": "circle"
         },
         "mode": "markers",
         "name": "Munich - Stuttgart",
         "orientation": "v",
         "showlegend": true,
         "type": "scatter",
         "x": [
          188.13539524465102
         ],
         "xaxis": "x",
         "y": [
          2074119
         ],
         "yaxis": "y"
        },
        {
         "hovertemplate": "<b>%{hovertext}</b><br><br>City_Pair_Name=Hamburg - Malaga<br>Distance (km)=%{x}<br>Combined Population 2016=%{y}<extra></extra>",
         "hovertext": [
          "Hamburg - Malaga"
         ],
         "legendgroup": "Hamburg - Malaga",
         "marker": {
          "color": "#FECB52",
          "symbol": "circle"
         },
         "mode": "markers",
         "name": "Hamburg - Malaga",
         "orientation": "v",
         "showlegend": true,
         "type": "scatter",
         "x": [
          2180.66021792262
         ],
         "xaxis": "x",
         "y": [
          3425786
         ],
         "yaxis": "y"
        },
        {
         "hovertemplate": "<b>%{hovertext}</b><br><br>City_Pair_Name=Gran Canaria - Hannover<br>Distance (km)=%{x}<br>Combined Population 2016=%{y}<extra></extra>",
         "hovertext": [
          "Gran Canaria - Hannover"
         ],
         "legendgroup": "Gran Canaria - Hannover",
         "marker": {
          "color": "#636efa",
          "symbol": "circle"
         },
         "mode": "markers",
         "name": "Gran Canaria - Hannover",
         "orientation": "v",
         "showlegend": true,
         "type": "scatter",
         "x": [
          3430.86392020216
         ],
         "xaxis": "x",
         "y": [
          1991587
         ],
         "yaxis": "y"
        },
        {
         "hovertemplate": "<b>%{hovertext}</b><br><br>City_Pair_Name=Alicante - Paris<br>Distance (km)=%{x}<br>Combined Population 2016=%{y}<extra></extra>",
         "hovertext": [
          "Alicante - Paris"
         ],
         "legendgroup": "Alicante - Paris",
         "marker": {
          "color": "#EF553B",
          "symbol": "circle"
         },
         "mode": "markers",
         "name": "Alicante - Paris",
         "orientation": "v",
         "showlegend": true,
         "type": "scatter",
         "x": [
          1170.7428834534799
         ],
         "xaxis": "x",
         "y": [
          3216024
         ],
         "yaxis": "y"
        },
        {
         "hovertemplate": "<b>%{hovertext}</b><br><br>City_Pair_Name=Gran Canaria - Seville<br>Distance (km)=%{x}<br>Combined Population 2016=%{y}<extra></extra>",
         "hovertext": [
          "Gran Canaria - Seville"
         ],
         "legendgroup": "Gran Canaria - Seville",
         "marker": {
          "color": "#00cc96",
          "symbol": "circle"
         },
         "mode": "markers",
         "name": "Gran Canaria - Seville",
         "orientation": "v",
         "showlegend": true,
         "type": "scatter",
         "x": [
          1402.31651753094
         ],
         "xaxis": "x",
         "y": [
          2782696
         ],
         "yaxis": "y"
        },
        {
         "hovertemplate": "<b>%{hovertext}</b><br><br>City_Pair_Name=Frankfurt - Tenerife South<br>Distance (km)=%{x}<br>Combined Population 2016=%{y}<extra></extra>",
         "hovertext": [
          "Frankfurt - Tenerife South",
          "Frankfurt - Tenerife South"
         ],
         "legendgroup": "Frankfurt - Tenerife South",
         "marker": {
          "color": "#ab63fa",
          "symbol": "circle"
         },
         "mode": "markers",
         "name": "Frankfurt - Tenerife South",
         "orientation": "v",
         "showlegend": true,
         "type": "scatter",
         "x": [
          3225.4823656589197,
          3157.7901579759
         ],
         "xaxis": "x",
         "y": [
          1622946,
          992787
         ],
         "yaxis": "y"
        },
        {
         "hovertemplate": "<b>%{hovertext}</b><br><br>City_Pair_Name=Barcelona - Basel/Mulhouse<br>Distance (km)=%{x}<br>Combined Population 2016=%{y}<extra></extra>",
         "hovertext": [
          "Barcelona - Basel/Mulhouse"
         ],
         "legendgroup": "Barcelona - Basel/Mulhouse",
         "marker": {
          "color": "#FFA15A",
          "symbol": "circle"
         },
         "mode": "markers",
         "name": "Barcelona - Basel/Mulhouse",
         "orientation": "v",
         "showlegend": true,
         "type": "scatter",
         "x": [
          798.72155102583
         ],
         "xaxis": "x",
         "y": [
          6235669
         ],
         "yaxis": "y"
        },
        {
         "hovertemplate": "<b>%{hovertext}</b><br><br>City_Pair_Name=Dortmund - Munich<br>Distance (km)=%{x}<br>Combined Population 2016=%{y}<extra></extra>",
         "hovertext": [
          "Dortmund - Munich"
         ],
         "legendgroup": "Dortmund - Munich",
         "marker": {
          "color": "#19d3f3",
          "symbol": "circle"
         },
         "mode": "markers",
         "name": "Dortmund - Munich",
         "orientation": "v",
         "showlegend": true,
         "type": "scatter",
         "x": [
          474.221067374529
         ],
         "xaxis": "x",
         "y": [
          2036562
         ],
         "yaxis": "y"
        },
        {
         "hovertemplate": "<b>%{hovertext}</b><br><br>City_Pair_Name=Bordeaux - Nice<br>Distance (km)=%{x}<br>Combined Population 2016=%{y}<extra></extra>",
         "hovertext": [
          "Bordeaux - Nice"
         ],
         "legendgroup": "Bordeaux - Nice",
         "marker": {
          "color": "#FF6692",
          "symbol": "circle"
         },
         "mode": "markers",
         "name": "Bordeaux - Nice",
         "orientation": "v",
         "showlegend": true,
         "type": "scatter",
         "x": [
          618.8704048257849
         ],
         "xaxis": "x",
         "y": [
          2650383
         ],
         "yaxis": "y"
        },
        {
         "hovertemplate": "<b>%{hovertext}</b><br><br>City_Pair_Name=Fuerteventura - Hannover<br>Distance (km)=%{x}<br>Combined Population 2016=%{y}<extra></extra>",
         "hovertext": [
          "Fuerteventura - Hannover"
         ],
         "legendgroup": "Fuerteventura - Hannover",
         "marker": {
          "color": "#B6E880",
          "symbol": "circle"
         },
         "mode": "markers",
         "name": "Fuerteventura - Hannover",
         "orientation": "v",
         "showlegend": true,
         "type": "scatter",
         "x": [
          3310.97171756571
         ],
         "xaxis": "x",
         "y": [
          1254405
         ],
         "yaxis": "y"
        },
        {
         "hovertemplate": "<b>%{hovertext}</b><br><br>City_Pair_Name=Madrid - San Sebastian<br>Distance (km)=%{x}<br>Combined Population 2016=%{y}<extra></extra>",
         "hovertext": [
          "Madrid - San Sebastian"
         ],
         "legendgroup": "Madrid - San Sebastian",
         "marker": {
          "color": "#FF97FF",
          "symbol": "circle"
         },
         "mode": "markers",
         "name": "Madrid - San Sebastian",
         "orientation": "v",
         "showlegend": true,
         "type": "scatter",
         "x": [
          320.469996677356
         ],
         "xaxis": "x",
         "y": [
          7122727
         ],
         "yaxis": "y"
        },
        {
         "hovertemplate": "<b>%{hovertext}</b><br><br>City_Pair_Name=Brussels - Valencia<br>Distance (km)=%{x}<br>Combined Population 2016=%{y}<extra></extra>",
         "hovertext": [
          "Brussels - Valencia"
         ],
         "legendgroup": "Brussels - Valencia",
         "marker": {
          "color": "#FECB52",
          "symbol": "circle"
         },
         "mode": "markers",
         "name": "Brussels - Valencia",
         "orientation": "v",
         "showlegend": true,
         "type": "scatter",
         "x": [
          1339.60339565823
         ],
         "xaxis": "x",
         "y": [
          3727754
         ],
         "yaxis": "y"
        },
        {
         "hovertemplate": "<b>%{hovertext}</b><br><br>City_Pair_Name=Clermont-Ferrand - Paris<br>Distance (km)=%{x}<br>Combined Population 2016=%{y}<extra></extra>",
         "hovertext": [
          "Clermont-Ferrand - Paris",
          "Clermont-Ferrand - Paris"
         ],
         "legendgroup": "Clermont-Ferrand - Paris",
         "marker": {
          "color": "#636efa",
          "symbol": "circle"
         },
         "mode": "markers",
         "name": "Clermont-Ferrand - Paris",
         "orientation": "v",
         "showlegend": true,
         "type": "scatter",
         "x": [
          380.902654983856,
          343.07093631485
         ],
         "xaxis": "x",
         "y": [
          1872623,
          2028851
         ],
         "yaxis": "y"
        },
        {
         "hovertemplate": "<b>%{hovertext}</b><br><br>City_Pair_Name=Cologne - Gran Canaria<br>Distance (km)=%{x}<br>Combined Population 2016=%{y}<extra></extra>",
         "hovertext": [
          "Cologne - Gran Canaria"
         ],
         "legendgroup": "Cologne - Gran Canaria",
         "marker": {
          "color": "#EF553B",
          "symbol": "circle"
         },
         "mode": "markers",
         "name": "Cologne - Gran Canaria",
         "orientation": "v",
         "showlegend": true,
         "type": "scatter",
         "x": [
          3180.65853134551
         ],
         "xaxis": "x",
         "y": [
          1907688
         ],
         "yaxis": "y"
        },
        {
         "hovertemplate": "<b>%{hovertext}</b><br><br>City_Pair_Name=Brussels - Toulouse<br>Distance (km)=%{x}<br>Combined Population 2016=%{y}<extra></extra>",
         "hovertext": [
          "Brussels - Toulouse"
         ],
         "legendgroup": "Brussels - Toulouse",
         "marker": {
          "color": "#00cc96",
          "symbol": "circle"
         },
         "mode": "markers",
         "name": "Brussels - Toulouse",
         "orientation": "v",
         "showlegend": true,
         "type": "scatter",
         "x": [
          865.779359503234
         ],
         "xaxis": "x",
         "y": [
          2549468
         ],
         "yaxis": "y"
        },
        {
         "hovertemplate": "<b>%{hovertext}</b><br><br>City_Pair_Name=Barcelona - Valladolid<br>Distance (km)=%{x}<br>Combined Population 2016=%{y}<extra></extra>",
         "hovertext": [
          "Barcelona - Valladolid"
         ],
         "legendgroup": "Barcelona - Valladolid",
         "marker": {
          "color": "#ab63fa",
          "symbol": "circle"
         },
         "mode": "markers",
         "name": "Barcelona - Valladolid",
         "orientation": "v",
         "showlegend": true,
         "type": "scatter",
         "x": [
          566.892977618421
         ],
         "xaxis": "x",
         "y": [
          5997595
         ],
         "yaxis": "y"
        },
        {
         "hovertemplate": "<b>%{hovertext}</b><br><br>City_Pair_Name=Barcelona - Jerez<br>Distance (km)=%{x}<br>Combined Population 2016=%{y}<extra></extra>",
         "hovertext": [
          "Barcelona - Jerez"
         ],
         "legendgroup": "Barcelona - Jerez",
         "marker": {
          "color": "#FFA15A",
          "symbol": "circle"
         },
         "mode": "markers",
         "name": "Barcelona - Jerez",
         "orientation": "v",
         "showlegend": true,
         "type": "scatter",
         "x": [
          880.954891587325
         ],
         "xaxis": "x",
         "y": [
          6717401
         ],
         "yaxis": "y"
        },
        {
         "hovertemplate": "<b>%{hovertext}</b><br><br>City_Pair_Name=Munster - Palma de Mallorca<br>Distance (km)=%{x}<br>Combined Population 2016=%{y}<extra></extra>",
         "hovertext": [
          "Munster - Palma de Mallorca"
         ],
         "legendgroup": "Munster - Palma de Mallorca",
         "marker": {
          "color": "#19d3f3",
          "symbol": "circle"
         },
         "mode": "markers",
         "name": "Munster - Palma de Mallorca",
         "orientation": "v",
         "showlegend": true,
         "type": "scatter",
         "x": [
          1418.39467206598
         ],
         "xaxis": "x",
         "y": [
          1180373
         ],
         "yaxis": "y"
        },
        {
         "hovertemplate": "<b>%{hovertext}</b><br><br>City_Pair_Name=Ibiza - Paris<br>Distance (km)=%{x}<br>Combined Population 2016=%{y}<extra></extra>",
         "hovertext": [
          "Ibiza - Paris"
         ],
         "legendgroup": "Ibiza - Paris",
         "marker": {
          "color": "#FF6692",
          "symbol": "circle"
         },
         "mode": "markers",
         "name": "Ibiza - Paris",
         "orientation": "v",
         "showlegend": true,
         "type": "scatter",
         "x": [
          1092.23941682669
         ],
         "xaxis": "x",
         "y": [
          1533277
         ],
         "yaxis": "y"
        },
        {
         "hovertemplate": "<b>%{hovertext}</b><br><br>City_Pair_Name=Bilbao - Seville<br>Distance (km)=%{x}<br>Combined Population 2016=%{y}<extra></extra>",
         "hovertext": [
          "Bilbao - Seville"
         ],
         "legendgroup": "Bilbao - Seville",
         "marker": {
          "color": "#B6E880",
          "symbol": "circle"
         },
         "mode": "markers",
         "name": "Bilbao - Seville",
         "orientation": "v",
         "showlegend": true,
         "type": "scatter",
         "x": [
          688.7762293842779
         ],
         "xaxis": "x",
         "y": [
          3075781
         ],
         "yaxis": "y"
        },
        {
         "hovertemplate": "<b>%{hovertext}</b><br><br>City_Pair_Name=Frankfurt - Marseille<br>Distance (km)=%{x}<br>Combined Population 2016=%{y}<extra></extra>",
         "hovertext": [
          "Frankfurt - Marseille"
         ],
         "legendgroup": "Frankfurt - Marseille",
         "marker": {
          "color": "#FF97FF",
          "symbol": "circle"
         },
         "mode": "markers",
         "name": "Frankfurt - Marseille",
         "orientation": "v",
         "showlegend": true,
         "type": "scatter",
         "x": [
          779.25432793199
         ],
         "xaxis": "x",
         "y": [
          2752405
         ],
         "yaxis": "y"
        },
        {
         "hovertemplate": "<b>%{hovertext}</b><br><br>City_Pair_Name=Leipzig - Munich<br>Distance (km)=%{x}<br>Combined Population 2016=%{y}<extra></extra>",
         "hovertext": [
          "Leipzig - Munich"
         ],
         "legendgroup": "Leipzig - Munich",
         "marker": {
          "color": "#FECB52",
          "symbol": "circle"
         },
         "mode": "markers",
         "name": "Leipzig - Munich",
         "orientation": "v",
         "showlegend": true,
         "type": "scatter",
         "x": [
          359.4990366099621
         ],
         "xaxis": "x",
         "y": [
          2010853
         ],
         "yaxis": "y"
        },
        {
         "hovertemplate": "<b>%{hovertext}</b><br><br>City_Pair_Name=Basel/Mulhouse - Palma de Mallorca<br>Distance (km)=%{x}<br>Combined Population 2016=%{y}<extra></extra>",
         "hovertext": [
          "Basel/Mulhouse - Palma de Mallorca"
         ],
         "legendgroup": "Basel/Mulhouse - Palma de Mallorca",
         "marker": {
          "color": "#636efa",
          "symbol": "circle"
         },
         "mode": "markers",
         "name": "Basel/Mulhouse - Palma de Mallorca",
         "orientation": "v",
         "showlegend": true,
         "type": "scatter",
         "x": [
          979.762935708695
         ],
         "xaxis": "x",
         "y": [
          1633077
         ],
         "yaxis": "y"
        },
        {
         "hovertemplate": "<b>%{hovertext}</b><br><br>City_Pair_Name=DÃ¼sseldorf - Malaga<br>Distance (km)=%{x}<br>Combined Population 2016=%{y}<extra></extra>",
         "hovertext": [
          "DÃ¼sseldorf - Malaga"
         ],
         "legendgroup": "DÃ¼sseldorf - Malaga",
         "marker": {
          "color": "#EF553B",
          "symbol": "circle"
         },
         "mode": "markers",
         "name": "DÃ¼sseldorf - Malaga",
         "orientation": "v",
         "showlegend": true,
         "type": "scatter",
         "x": [
          1845.06232388017
         ],
         "xaxis": "x",
         "y": [
          2250556
         ],
         "yaxis": "y"
        },
        {
         "hovertemplate": "<b>%{hovertext}</b><br><br>City_Pair_Name=Nuremberg - Paris<br>Distance (km)=%{x}<br>Combined Population 2016=%{y}<extra></extra>",
         "hovertext": [
          "Nuremberg - Paris"
         ],
         "legendgroup": "Nuremberg - Paris",
         "marker": {
          "color": "#00cc96",
          "symbol": "circle"
         },
         "mode": "markers",
         "name": "Nuremberg - Paris",
         "orientation": "v",
         "showlegend": true,
         "type": "scatter",
         "x": [
          650.1060350791589
         ],
         "xaxis": "x",
         "y": [
          1731898
         ],
         "yaxis": "y"
        },
        {
         "hovertemplate": "<b>%{hovertext}</b><br><br>City_Pair_Name=Nice - Toulouse<br>Distance (km)=%{x}<br>Combined Population 2016=%{y}<extra></extra>",
         "hovertext": [
          "Nice - Toulouse"
         ],
         "legendgroup": "Nice - Toulouse",
         "marker": {
          "color": "#ab63fa",
          "symbol": "circle"
         },
         "mode": "markers",
         "name": "Nice - Toulouse",
         "orientation": "v",
         "showlegend": true,
         "type": "scatter",
         "x": [
          482.355287002287
         ],
         "xaxis": "x",
         "y": [
          2431887
         ],
         "yaxis": "y"
        },
        {
         "hovertemplate": "<b>%{hovertext}</b><br><br>City_Pair_Name=Bremen - Stuttgart<br>Distance (km)=%{x}<br>Combined Population 2016=%{y}<extra></extra>",
         "hovertext": [
          "Bremen - Stuttgart"
         ],
         "legendgroup": "Bremen - Stuttgart",
         "marker": {
          "color": "#FFA15A",
          "symbol": "circle"
         },
         "mode": "markers",
         "name": "Bremen - Stuttgart",
         "orientation": "v",
         "showlegend": true,
         "type": "scatter",
         "x": [
          482.554727778442
         ],
         "xaxis": "x",
         "y": [
          1181202
         ],
         "yaxis": "y"
        },
        {
         "hovertemplate": "<b>%{hovertext}</b><br><br>City_Pair_Name=Bilbao - Palma de Mallorca<br>Distance (km)=%{x}<br>Combined Population 2016=%{y}<extra></extra>",
         "hovertext": [
          "Bilbao - Palma de Mallorca"
         ],
         "legendgroup": "Bilbao - Palma de Mallorca",
         "marker": {
          "color": "#19d3f3",
          "symbol": "circle"
         },
         "mode": "markers",
         "name": "Bilbao - Palma de Mallorca",
         "orientation": "v",
         "showlegend": true,
         "type": "scatter",
         "x": [
          629.879800041316
         ],
         "xaxis": "x",
         "y": [
          2010525
         ],
         "yaxis": "y"
        },
        {
         "hovertemplate": "<b>%{hovertext}</b><br><br>City_Pair_Name=Berlin - Malaga<br>Distance (km)=%{x}<br>Combined Population 2016=%{y}<extra></extra>",
         "hovertext": [
          "Berlin - Malaga"
         ],
         "legendgroup": "Berlin - Malaga",
         "marker": {
          "color": "#FF6692",
          "symbol": "circle"
         },
         "mode": "markers",
         "name": "Berlin - Malaga",
         "orientation": "v",
         "showlegend": true,
         "type": "scatter",
         "x": [
          2244.96256153245
         ],
         "xaxis": "x",
         "y": [
          5158409
         ],
         "yaxis": "y"
        },
        {
         "hovertemplate": "<b>%{hovertext}</b><br><br>City_Pair_Name=Hannover - Paris<br>Distance (km)=%{x}<br>Combined Population 2016=%{y}<extra></extra>",
         "hovertext": [
          "Hannover - Paris"
         ],
         "legendgroup": "Hannover - Paris",
         "marker": {
          "color": "#B6E880",
          "symbol": "circle"
         },
         "mode": "markers",
         "name": "Hannover - Paris",
         "orientation": "v",
         "showlegend": true,
         "type": "scatter",
         "x": [
          649.738665687427
         ],
         "xaxis": "x",
         "y": [
          2366404
         ],
         "yaxis": "y"
        },
        {
         "hovertemplate": "<b>%{hovertext}</b><br><br>City_Pair_Name=Amsterdam - Bremen<br>Distance (km)=%{x}<br>Combined Population 2016=%{y}<extra></extra>",
         "hovertext": [
          "Amsterdam - Bremen"
         ],
         "legendgroup": "Amsterdam - Bremen",
         "marker": {
          "color": "#FF97FF",
          "symbol": "circle"
         },
         "mode": "markers",
         "name": "Amsterdam - Bremen",
         "orientation": "v",
         "showlegend": true,
         "type": "scatter",
         "x": [
          274.576095901916
         ],
         "xaxis": "x",
         "y": [
          1887036
         ],
         "yaxis": "y"
        },
        {
         "hovertemplate": "<b>%{hovertext}</b><br><br>City_Pair_Name=Barcelona - Rotterdam<br>Distance (km)=%{x}<br>Combined Population 2016=%{y}<extra></extra>",
         "hovertext": [
          "Barcelona - Rotterdam"
         ],
         "legendgroup": "Barcelona - Rotterdam",
         "marker": {
          "color": "#FECB52",
          "symbol": "circle"
         },
         "mode": "markers",
         "name": "Barcelona - Rotterdam",
         "orientation": "v",
         "showlegend": true,
         "type": "scatter",
         "x": [
          1137.6478376843202
         ],
         "xaxis": "x",
         "y": [
          6885248
         ],
         "yaxis": "y"
        },
        {
         "hovertemplate": "<b>%{hovertext}</b><br><br>City_Pair_Name=Gran Canaria - Malaga<br>Distance (km)=%{x}<br>Combined Population 2016=%{y}<extra></extra>",
         "hovertext": [
          "Gran Canaria - Malaga"
         ],
         "legendgroup": "Gran Canaria - Malaga",
         "marker": {
          "color": "#636efa",
          "symbol": "circle"
         },
         "mode": "markers",
         "name": "Gran Canaria - Malaga",
         "orientation": "v",
         "showlegend": true,
         "type": "scatter",
         "x": [
          1416.4144253253398
         ],
         "xaxis": "x",
         "y": [
          2485484
         ],
         "yaxis": "y"
        },
        {
         "hovertemplate": "<b>%{hovertext}</b><br><br>City_Pair_Name=DÃ¼sseldorf - Stuttgart<br>Distance (km)=%{x}<br>Combined Population 2016=%{y}<extra></extra>",
         "hovertext": [
          "DÃ¼sseldorf - Stuttgart"
         ],
         "legendgroup": "DÃ¼sseldorf - Stuttgart",
         "marker": {
          "color": "#EF553B",
          "symbol": "circle"
         },
         "mode": "markers",
         "name": "DÃ¼sseldorf - Stuttgart",
         "orientation": "v",
         "showlegend": true,
         "type": "scatter",
         "x": [
          321.494523229844
         ],
         "xaxis": "x",
         "y": [
          1235916
         ],
         "yaxis": "y"
        },
        {
         "hovertemplate": "<b>%{hovertext}</b><br><br>City_Pair_Name=DÃ¼sseldorf - Ibiza<br>Distance (km)=%{x}<br>Combined Population 2016=%{y}<extra></extra>",
         "hovertext": [
          "DÃ¼sseldorf - Ibiza"
         ],
         "legendgroup": "DÃ¼sseldorf - Ibiza",
         "marker": {
          "color": "#00cc96",
          "symbol": "circle"
         },
         "mode": "markers",
         "name": "DÃ¼sseldorf - Ibiza",
         "orientation": "v",
         "showlegend": true,
         "type": "scatter",
         "x": [
          1425.83233333047
         ],
         "xaxis": "x",
         "y": [
          767304
         ],
         "yaxis": "y"
        },
        {
         "hovertemplate": "<b>%{hovertext}</b><br><br>City_Pair_Name=Dortmund - Palma de Mallorca<br>Distance (km)=%{x}<br>Combined Population 2016=%{y}<extra></extra>",
         "hovertext": [
          "Dortmund - Palma de Mallorca"
         ],
         "legendgroup": "Dortmund - Palma de Mallorca",
         "marker": {
          "color": "#ab63fa",
          "symbol": "circle"
         },
         "mode": "markers",
         "name": "Dortmund - Palma de Mallorca",
         "orientation": "v",
         "showlegend": true,
         "type": "scatter",
         "x": [
          1368.68094339373
         ],
         "xaxis": "x",
         "y": [
          1456515
         ],
         "yaxis": "y"
        },
        {
         "hovertemplate": "<b>%{hovertext}</b><br><br>City_Pair_Name=Charleroi - Marseille<br>Distance (km)=%{x}<br>Combined Population 2016=%{y}<extra></extra>",
         "hovertext": [
          "Charleroi - Marseille"
         ],
         "legendgroup": "Charleroi - Marseille",
         "marker": {
          "color": "#FFA15A",
          "symbol": "circle"
         },
         "mode": "markers",
         "name": "Charleroi - Marseille",
         "orientation": "v",
         "showlegend": true,
         "type": "scatter",
         "x": [
          770.5230039014771
         ],
         "xaxis": "x",
         "y": [
          2451410
         ],
         "yaxis": "y"
        },
        {
         "hovertemplate": "<b>%{hovertext}</b><br><br>City_Pair_Name=Charleroi - Tenerife South<br>Distance (km)=%{x}<br>Combined Population 2016=%{y}<extra></extra>",
         "hovertext": [
          "Charleroi - Tenerife South"
         ],
         "legendgroup": "Charleroi - Tenerife South",
         "marker": {
          "color": "#19d3f3",
          "symbol": "circle"
         },
         "mode": "markers",
         "name": "Charleroi - Tenerife South",
         "orientation": "v",
         "showlegend": true,
         "type": "scatter",
         "x": [
          3031.20738498674
         ],
         "xaxis": "x",
         "y": [
          1321951
         ],
         "yaxis": "y"
        },
        {
         "hovertemplate": "<b>%{hovertext}</b><br><br>City_Pair_Name=Bordeaux - Lille<br>Distance (km)=%{x}<br>Combined Population 2016=%{y}<extra></extra>",
         "hovertext": [
          "Bordeaux - Lille"
         ],
         "legendgroup": "Bordeaux - Lille",
         "marker": {
          "color": "#FF6692",
          "symbol": "circle"
         },
         "mode": "markers",
         "name": "Bordeaux - Lille",
         "orientation": "v",
         "showlegend": true,
         "type": "scatter",
         "x": [
          686.983684876585
         ],
         "xaxis": "x",
         "y": [
          4170402
         ],
         "yaxis": "y"
        },
        {
         "hovertemplate": "<b>%{hovertext}</b><br><br>City_Pair_Name=Alicante - Charleroi<br>Distance (km)=%{x}<br>Combined Population 2016=%{y}<extra></extra>",
         "hovertext": [
          "Alicante - Charleroi"
         ],
         "legendgroup": "Alicante - Charleroi",
         "marker": {
          "color": "#B6E880",
          "symbol": "circle"
         },
         "mode": "markers",
         "name": "Alicante - Charleroi",
         "orientation": "v",
         "showlegend": true,
         "type": "scatter",
         "x": [
          1388.81149853392
         ],
         "xaxis": "x",
         "y": [
          2269566
         ],
         "yaxis": "y"
        },
        {
         "hovertemplate": "<b>%{hovertext}</b><br><br>City_Pair_Name=Calvi - Paris<br>Distance (km)=%{x}<br>Combined Population 2016=%{y}<extra></extra>",
         "hovertext": [
          "Calvi - Paris"
         ],
         "legendgroup": "Calvi - Paris",
         "marker": {
          "color": "#FF97FF",
          "symbol": "circle"
         },
         "mode": "markers",
         "name": "Calvi - Paris",
         "orientation": "v",
         "showlegend": true,
         "type": "scatter",
         "x": [
          881.6546311610041
         ],
         "xaxis": "x",
         "y": [
          1554303
         ],
         "yaxis": "y"
        },
        {
         "hovertemplate": "<b>%{hovertext}</b><br><br>City_Pair_Name=Palma de Mallorca - Santiago de Compostela<br>Distance (km)=%{x}<br>Combined Population 2016=%{y}<extra></extra>",
         "hovertext": [
          "Palma de Mallorca - Santiago de Compostela"
         ],
         "legendgroup": "Palma de Mallorca - Santiago de Compostela",
         "marker": {
          "color": "#FECB52",
          "symbol": "circle"
         },
         "mode": "markers",
         "name": "Palma de Mallorca - Santiago de Compostela",
         "orientation": "v",
         "showlegend": true,
         "type": "scatter",
         "x": [
          1029.01732705609
         ],
         "xaxis": "x",
         "y": [
          1993349
         ],
         "yaxis": "y"
        },
        {
         "hovertemplate": "<b>%{hovertext}</b><br><br>City_Pair_Name=Barcelona - Eindhoven<br>Distance (km)=%{x}<br>Combined Population 2016=%{y}<extra></extra>",
         "hovertext": [
          "Barcelona - Eindhoven"
         ],
         "legendgroup": "Barcelona - Eindhoven",
         "marker": {
          "color": "#636efa",
          "symbol": "circle"
         },
         "mode": "markers",
         "name": "Barcelona - Eindhoven",
         "orientation": "v",
         "showlegend": true,
         "type": "scatter",
         "x": [
          1110.2155092547
         ],
         "xaxis": "x",
         "y": [
          6229541
         ],
         "yaxis": "y"
        },
        {
         "hovertemplate": "<b>%{hovertext}</b><br><br>City_Pair_Name=Montpellier - Nantes<br>Distance (km)=%{x}<br>Combined Population 2016=%{y}<extra></extra>",
         "hovertext": [
          "Montpellier - Nantes"
         ],
         "legendgroup": "Montpellier - Nantes",
         "marker": {
          "color": "#EF553B",
          "symbol": "circle"
         },
         "mode": "markers",
         "name": "Montpellier - Nantes",
         "orientation": "v",
         "showlegend": true,
         "type": "scatter",
         "x": [
          575.8958776199571
         ],
         "xaxis": "x",
         "y": [
          2513333
         ],
         "yaxis": "y"
        },
        {
         "hovertemplate": "<b>%{hovertext}</b><br><br>City_Pair_Name=Seville - Tenerife North<br>Distance (km)=%{x}<br>Combined Population 2016=%{y}<extra></extra>",
         "hovertext": [
          "Seville - Tenerife North"
         ],
         "legendgroup": "Seville - Tenerife North",
         "marker": {
          "color": "#00cc96",
          "symbol": "circle"
         },
         "mode": "markers",
         "name": "Seville - Tenerife North",
         "orientation": "v",
         "showlegend": true,
         "type": "scatter",
         "x": [
          1435.31009579663
         ],
         "xaxis": "x",
         "y": [
          2825848
         ],
         "yaxis": "y"
        },
        {
         "hovertemplate": "<b>%{hovertext}</b><br><br>City_Pair_Name=Hamburg - Tenerife South<br>Distance (km)=%{x}<br>Combined Population 2016=%{y}<extra></extra>",
         "hovertext": [
          "Hamburg - Tenerife South"
         ],
         "legendgroup": "Hamburg - Tenerife South",
         "marker": {
          "color": "#ab63fa",
          "symbol": "circle"
         },
         "mode": "markers",
         "name": "Hamburg - Tenerife South",
         "orientation": "v",
         "showlegend": true,
         "type": "scatter",
         "x": [
          3545.39051236168
         ],
         "xaxis": "x",
         "y": [
          2677666
         ],
         "yaxis": "y"
        },
        {
         "hovertemplate": "<b>%{hovertext}</b><br><br>City_Pair_Name=Gran Canaria - Stuttgart<br>Distance (km)=%{x}<br>Combined Population 2016=%{y}<extra></extra>",
         "hovertext": [
          "Gran Canaria - Stuttgart"
         ],
         "legendgroup": "Gran Canaria - Stuttgart",
         "marker": {
          "color": "#FFA15A",
          "symbol": "circle"
         },
         "mode": "markers",
         "name": "Gran Canaria - Stuttgart",
         "orientation": "v",
         "showlegend": true,
         "type": "scatter",
         "x": [
          3137.72030792323
         ],
         "xaxis": "x",
         "y": [
          1470844
         ],
         "yaxis": "y"
        },
        {
         "hovertemplate": "<b>%{hovertext}</b><br><br>City_Pair_Name=Berlin - Tenerife South<br>Distance (km)=%{x}<br>Combined Population 2016=%{y}<extra></extra>",
         "hovertext": [
          "Berlin - Tenerife South"
         ],
         "legendgroup": "Berlin - Tenerife South",
         "marker": {
          "color": "#19d3f3",
          "symbol": "circle"
         },
         "mode": "markers",
         "name": "Berlin - Tenerife South",
         "orientation": "v",
         "showlegend": true,
         "type": "scatter",
         "x": [
          3649.0869410474797
         ],
         "xaxis": "x",
         "y": [
          4410289
         ],
         "yaxis": "y"
        },
        {
         "hovertemplate": "<b>%{hovertext}</b><br><br>City_Pair_Name=Palma de Mallorca - Weeze<br>Distance (km)=%{x}<br>Combined Population 2016=%{y}<extra></extra>",
         "hovertext": [
          "Palma de Mallorca - Weeze"
         ],
         "legendgroup": "Palma de Mallorca - Weeze",
         "marker": {
          "color": "#FF6692",
          "symbol": "circle"
         },
         "mode": "markers",
         "name": "Palma de Mallorca - Weeze",
         "orientation": "v",
         "showlegend": true,
         "type": "scatter",
         "x": [
          1362.61697931415
         ],
         "xaxis": "x",
         "y": [
          1180671
         ],
         "yaxis": "y"
        },
        {
         "hovertemplate": "<b>%{hovertext}</b><br><br>City_Pair_Name=Brest - Lyon<br>Distance (km)=%{x}<br>Combined Population 2016=%{y}<extra></extra>",
         "hovertext": [
          "Brest - Lyon"
         ],
         "legendgroup": "Brest - Lyon",
         "marker": {
          "color": "#B6E880",
          "symbol": "circle"
         },
         "mode": "markers",
         "name": "Brest - Lyon",
         "orientation": "v",
         "showlegend": true,
         "type": "scatter",
         "x": [
          709.8096391703699
         ],
         "xaxis": "x",
         "y": [
          2744152
         ],
         "yaxis": "y"
        },
        {
         "hovertemplate": "<b>%{hovertext}</b><br><br>City_Pair_Name=Fuerteventura - Stuttgart<br>Distance (km)=%{x}<br>Combined Population 2016=%{y}<extra></extra>",
         "hovertext": [
          "Fuerteventura - Stuttgart"
         ],
         "legendgroup": "Fuerteventura - Stuttgart",
         "marker": {
          "color": "#FF97FF",
          "symbol": "circle"
         },
         "mode": "markers",
         "name": "Fuerteventura - Stuttgart",
         "orientation": "v",
         "showlegend": true,
         "type": "scatter",
         "x": [
          3008.69589552483
         ],
         "xaxis": "x",
         "y": [
          733662
         ],
         "yaxis": "y"
        },
        {
         "hovertemplate": "<b>%{hovertext}</b><br><br>City_Pair_Name=DÃ¼sseldorf - Lanzarote<br>Distance (km)=%{x}<br>Combined Population 2016=%{y}<extra></extra>",
         "hovertext": [
          "DÃ¼sseldorf - Lanzarote"
         ],
         "legendgroup": "DÃ¼sseldorf - Lanzarote",
         "marker": {
          "color": "#FECB52",
          "symbol": "circle"
         },
         "mode": "markers",
         "name": "DÃ¼sseldorf - Lanzarote",
         "orientation": "v",
         "showlegend": true,
         "type": "scatter",
         "x": [
          2998.45974398101
         ],
         "xaxis": "x",
         "y": [
          755042
         ],
         "yaxis": "y"
        },
        {
         "hovertemplate": "<b>%{hovertext}</b><br><br>City_Pair_Name=Fuerteventura - Hamburg<br>Distance (km)=%{x}<br>Combined Population 2016=%{y}<extra></extra>",
         "hovertext": [
          "Fuerteventura - Hamburg"
         ],
         "legendgroup": "Fuerteventura - Hamburg",
         "marker": {
          "color": "#636efa",
          "symbol": "circle"
         },
         "mode": "markers",
         "name": "Fuerteventura - Hamburg",
         "orientation": "v",
         "showlegend": true,
         "type": "scatter",
         "x": [
          3413.49113914579
         ],
         "xaxis": "x",
         "y": [
          1897332
         ],
         "yaxis": "y"
        },
        {
         "hovertemplate": "<b>%{hovertext}</b><br><br>City_Pair_Name=Bilbao - Brussels<br>Distance (km)=%{x}<br>Combined Population 2016=%{y}<extra></extra>",
         "hovertext": [
          "Bilbao - Brussels"
         ],
         "legendgroup": "Bilbao - Brussels",
         "marker": {
          "color": "#EF553B",
          "symbol": "circle"
         },
         "mode": "markers",
         "name": "Bilbao - Brussels",
         "orientation": "v",
         "showlegend": true,
         "type": "scatter",
         "x": [
          1005.1633717132
         ],
         "xaxis": "x",
         "y": [
          2341476
         ],
         "yaxis": "y"
        },
        {
         "hovertemplate": "<b>%{hovertext}</b><br><br>City_Pair_Name=Madrid - Nice<br>Distance (km)=%{x}<br>Combined Population 2016=%{y}<extra></extra>",
         "hovertext": [
          "Madrid - Nice"
         ],
         "legendgroup": "Madrid - Nice",
         "marker": {
          "color": "#00cc96",
          "symbol": "circle"
         },
         "mode": "markers",
         "name": "Madrid - Nice",
         "orientation": "v",
         "showlegend": true,
         "type": "scatter",
         "x": [
          969.773405106244
         ],
         "xaxis": "x",
         "y": [
          7495170
         ],
         "yaxis": "y"
        },
        {
         "hovertemplate": "<b>%{hovertext}</b><br><br>City_Pair_Name=Brussels - Gran Canaria<br>Distance (km)=%{x}<br>Combined Population 2016=%{y}<extra></extra>",
         "hovertext": [
          "Brussels - Gran Canaria"
         ],
         "legendgroup": "Brussels - Gran Canaria",
         "marker": {
          "color": "#ab63fa",
          "symbol": "circle"
         },
         "mode": "markers",
         "name": "Brussels - Gran Canaria",
         "orientation": "v",
         "showlegend": true,
         "type": "scatter",
         "x": [
          3047.2191246809402
         ],
         "xaxis": "x",
         "y": [
          2048391
         ],
         "yaxis": "y"
        },
        {
         "hovertemplate": "<b>%{hovertext}</b><br><br>City_Pair_Name=Cologne - Malaga<br>Distance (km)=%{x}<br>Combined Population 2016=%{y}<extra></extra>",
         "hovertext": [
          "Cologne - Malaga"
         ],
         "legendgroup": "Cologne - Malaga",
         "marker": {
          "color": "#FFA15A",
          "symbol": "circle"
         },
         "mode": "markers",
         "name": "Cologne - Malaga",
         "orientation": "v",
         "showlegend": true,
         "type": "scatter",
         "x": [
          1824.98047410859
         ],
         "xaxis": "x",
         "y": [
          2698960
         ],
         "yaxis": "y"
        },
        {
         "hovertemplate": "<b>%{hovertext}</b><br><br>City_Pair_Name=Amsterdam - Lanzarote<br>Distance (km)=%{x}<br>Combined Population 2016=%{y}<extra></extra>",
         "hovertext": [
          "Amsterdam - Lanzarote"
         ],
         "legendgroup": "Amsterdam - Lanzarote",
         "marker": {
          "color": "#19d3f3",
          "symbol": "circle"
         },
         "mode": "markers",
         "name": "Amsterdam - Lanzarote",
         "orientation": "v",
         "showlegend": true,
         "type": "scatter",
         "x": [
          3011.73208376558
         ],
         "xaxis": "x",
         "y": [
          1472436
         ],
         "yaxis": "y"
        },
        {
         "hovertemplate": "<b>%{hovertext}</b><br><br>City_Pair_Name=Cologne - Tenerife South<br>Distance (km)=%{x}<br>Combined Population 2016=%{y}<extra></extra>",
         "hovertext": [
          "Cologne - Tenerife South"
         ],
         "legendgroup": "Cologne - Tenerife South",
         "marker": {
          "color": "#FF6692",
          "symbol": "circle"
         },
         "mode": "markers",
         "name": "Cologne - Tenerife South",
         "orientation": "v",
         "showlegend": true,
         "type": "scatter",
         "x": [
          3197.30055054751
         ],
         "xaxis": "x",
         "y": [
          1950840
         ],
         "yaxis": "y"
        },
        {
         "hovertemplate": "<b>%{hovertext}</b><br><br>City_Pair_Name=Amsterdam - Seville<br>Distance (km)=%{x}<br>Combined Population 2016=%{y}<extra></extra>",
         "hovertext": [
          "Amsterdam - Seville"
         ],
         "legendgroup": "Amsterdam - Seville",
         "marker": {
          "color": "#B6E880",
          "symbol": "circle"
         },
         "mode": "markers",
         "name": "Amsterdam - Seville",
         "orientation": "v",
         "showlegend": true,
         "type": "scatter",
         "x": [
          1855.04072437071
         ],
         "xaxis": "x",
         "y": [
          3265162
         ],
         "yaxis": "y"
        },
        {
         "hovertemplate": "<b>%{hovertext}</b><br><br>City_Pair_Name=Palma de Mallorca - Saarbrucken<br>Distance (km)=%{x}<br>Combined Population 2016=%{y}<extra></extra>",
         "hovertext": [
          "Palma de Mallorca - Saarbrucken"
         ],
         "legendgroup": "Palma de Mallorca - Saarbrucken",
         "marker": {
          "color": "#FF97FF",
          "symbol": "circle"
         },
         "mode": "markers",
         "name": "Palma de Mallorca - Saarbrucken",
         "orientation": "v",
         "showlegend": true,
         "type": "scatter",
         "x": [
          1117.39055437379
         ],
         "xaxis": "x",
         "y": [
          1197714
         ],
         "yaxis": "y"
        },
        {
         "hovertemplate": "<b>%{hovertext}</b><br><br>City_Pair_Name=Paris - Rennes<br>Distance (km)=%{x}<br>Combined Population 2016=%{y}<extra></extra>",
         "hovertext": [
          "Paris - Rennes"
         ],
         "legendgroup": "Paris - Rennes",
         "marker": {
          "color": "#FECB52",
          "symbol": "circle"
         },
         "mode": "markers",
         "name": "Paris - Rennes",
         "orientation": "v",
         "showlegend": true,
         "type": "scatter",
         "x": [
          295.56394510154405
         ],
         "xaxis": "x",
         "y": [
          2273702
         ],
         "yaxis": "y"
        },
        {
         "hovertemplate": "<b>%{hovertext}</b><br><br>City_Pair_Name=Brest - Marseille<br>Distance (km)=%{x}<br>Combined Population 2016=%{y}<extra></extra>",
         "hovertext": [
          "Brest - Marseille"
         ],
         "legendgroup": "Brest - Marseille",
         "marker": {
          "color": "#636efa",
          "symbol": "circle"
         },
         "mode": "markers",
         "name": "Brest - Marseille",
         "orientation": "v",
         "showlegend": true,
         "type": "scatter",
         "x": [
          879.589741716885
         ],
         "xaxis": "x",
         "y": [
          2927966
         ],
         "yaxis": "y"
        },
        {
         "hovertemplate": "<b>%{hovertext}</b><br><br>City_Pair_Name=Granada - Palma de Mallorca<br>Distance (km)=%{x}<br>Combined Population 2016=%{y}<extra></extra>",
         "hovertext": [
          "Granada - Palma de Mallorca"
         ],
         "legendgroup": "Granada - Palma de Mallorca",
         "marker": {
          "color": "#EF553B",
          "symbol": "circle"
         },
         "mode": "markers",
         "name": "Granada - Palma de Mallorca",
         "orientation": "v",
         "showlegend": true,
         "type": "scatter",
         "x": [
          599.382848889675
         ],
         "xaxis": "x",
         "y": [
          1786040
         ],
         "yaxis": "y"
        },
        {
         "hovertemplate": "<b>%{hovertext}</b><br><br>City_Pair_Name=Strasbourg - Toulouse<br>Distance (km)=%{x}<br>Combined Population 2016=%{y}<extra></extra>",
         "hovertext": [
          "Strasbourg - Toulouse"
         ],
         "legendgroup": "Strasbourg - Toulouse",
         "marker": {
          "color": "#00cc96",
          "symbol": "circle"
         },
         "mode": "markers",
         "name": "Strasbourg - Toulouse",
         "orientation": "v",
         "showlegend": true,
         "type": "scatter",
         "x": [
          768.501054038834
         ],
         "xaxis": "x",
         "y": [
          2469590
         ],
         "yaxis": "y"
        },
        {
         "hovertemplate": "<b>%{hovertext}</b><br><br>City_Pair_Name=Barcelona - Luxembourg City<br>Distance (km)=%{x}<br>Combined Population 2016=%{y}<extra></extra>",
         "hovertext": [
          "Barcelona - Luxembourg City"
         ],
         "legendgroup": "Barcelona - Luxembourg City",
         "marker": {
          "color": "#ab63fa",
          "symbol": "circle"
         },
         "mode": "markers",
         "name": "Barcelona - Luxembourg City",
         "orientation": "v",
         "showlegend": true,
         "type": "scatter",
         "x": [
          949.4713833476691
         ],
         "xaxis": "x",
         "y": [
          6049175
         ],
         "yaxis": "y"
        },
        {
         "hovertemplate": "<b>%{hovertext}</b><br><br>City_Pair_Name=Munich - Nuremberg<br>Distance (km)=%{x}<br>Combined Population 2016=%{y}<extra></extra>",
         "hovertext": [
          "Munich - Nuremberg"
         ],
         "legendgroup": "Munich - Nuremberg",
         "marker": {
          "color": "#FFA15A",
          "symbol": "circle"
         },
         "mode": "markers",
         "name": "Munich - Nuremberg",
         "orientation": "v",
         "showlegend": true,
         "type": "scatter",
         "x": [
          146.648767149153
         ],
         "xaxis": "x",
         "y": [
          1960356
         ],
         "yaxis": "y"
        },
        {
         "hovertemplate": "<b>%{hovertext}</b><br><br>City_Pair_Name=Malaga - Weeze<br>Distance (km)=%{x}<br>Combined Population 2016=%{y}<extra></extra>",
         "hovertext": [
          "Malaga - Weeze"
         ],
         "legendgroup": "Malaga - Weeze",
         "marker": {
          "color": "#19d3f3",
          "symbol": "circle"
         },
         "mode": "markers",
         "name": "Malaga - Weeze",
         "orientation": "v",
         "showlegend": true,
         "type": "scatter",
         "x": [
          1862.97940931248
         ],
         "xaxis": "x",
         "y": [
          1948715
         ],
         "yaxis": "y"
        },
        {
         "hovertemplate": "<b>%{hovertext}</b><br><br>City_Pair_Name=Amsterdam - Nantes<br>Distance (km)=%{x}<br>Combined Population 2016=%{y}<extra></extra>",
         "hovertext": [
          "Amsterdam - Nantes"
         ],
         "legendgroup": "Amsterdam - Nantes",
         "marker": {
          "color": "#FF6692",
          "symbol": "circle"
         },
         "mode": "markers",
         "name": "Amsterdam - Nantes",
         "orientation": "v",
         "showlegend": true,
         "type": "scatter",
         "x": [
          730.1432103914179
         ],
         "xaxis": "x",
         "y": [
          2710424
         ],
         "yaxis": "y"
        },
        {
         "hovertemplate": "<b>%{hovertext}</b><br><br>City_Pair_Name=Barcelona - Santander<br>Distance (km)=%{x}<br>Combined Population 2016=%{y}<extra></extra>",
         "hovertext": [
          "Barcelona - Santander"
         ],
         "legendgroup": "Barcelona - Santander",
         "marker": {
          "color": "#B6E880",
          "symbol": "circle"
         },
         "mode": "markers",
         "name": "Barcelona - Santander",
         "orientation": "v",
         "showlegend": true,
         "type": "scatter",
         "x": [
          519.60436219058
         ],
         "xaxis": "x",
         "y": [
          6055420
         ],
         "yaxis": "y"
        },
        {
         "hovertemplate": "<b>%{hovertext}</b><br><br>City_Pair_Name=Barcelona - Nantes<br>Distance (km)=%{x}<br>Combined Population 2016=%{y}<extra></extra>",
         "hovertext": [
          "Barcelona - Nantes"
         ],
         "legendgroup": "Barcelona - Nantes",
         "marker": {
          "color": "#FF97FF",
          "symbol": "circle"
         },
         "mode": "markers",
         "name": "Barcelona - Nantes",
         "orientation": "v",
         "showlegend": true,
         "type": "scatter",
         "x": [
          690.150931036904
         ],
         "xaxis": "x",
         "y": [
          6853778
         ],
         "yaxis": "y"
        },
        {
         "hovertemplate": "<b>%{hovertext}</b><br><br>City_Pair_Name=Munich - Paderborn<br>Distance (km)=%{x}<br>Combined Population 2016=%{y}<extra></extra>",
         "hovertext": [
          "Munich - Paderborn"
         ],
         "legendgroup": "Munich - Paderborn",
         "marker": {
          "color": "#FECB52",
          "symbol": "circle"
         },
         "mode": "markers",
         "name": "Munich - Paderborn",
         "orientation": "v",
         "showlegend": true,
         "type": "scatter",
         "x": [
          439.676920787637
         ],
         "xaxis": "x",
         "y": [
          1754713
         ],
         "yaxis": "y"
        },
        {
         "hovertemplate": "<b>%{hovertext}</b><br><br>City_Pair_Name=Barcelona - Fuerteventura<br>Distance (km)=%{x}<br>Combined Population 2016=%{y}<extra></extra>",
         "hovertext": [
          "Barcelona - Fuerteventura"
         ],
         "legendgroup": "Barcelona - Fuerteventura",
         "marker": {
          "color": "#636efa",
          "symbol": "circle"
         },
         "mode": "markers",
         "name": "Barcelona - Fuerteventura",
         "orientation": "v",
         "showlegend": true,
         "type": "scatter",
         "x": [
          2071.8813042965103
         ],
         "xaxis": "x",
         "y": [
          5582850
         ],
         "yaxis": "y"
        },
        {
         "hovertemplate": "<b>%{hovertext}</b><br><br>City_Pair_Name=Alicante - DÃ¼sseldorf<br>Distance (km)=%{x}<br>Combined Population 2016=%{y}<extra></extra>",
         "hovertext": [
          "Alicante - DÃ¼sseldorf"
         ],
         "legendgroup": "Alicante - DÃ¼sseldorf",
         "marker": {
          "color": "#EF553B",
          "symbol": "circle"
         },
         "mode": "markers",
         "name": "Alicante - DÃ¼sseldorf",
         "orientation": "v",
         "showlegend": true,
         "type": "scatter",
         "x": [
          1531.4035654884099
         ],
         "xaxis": "x",
         "y": [
          2450051
         ],
         "yaxis": "y"
        },
        {
         "hovertemplate": "<b>%{hovertext}</b><br><br>City_Pair_Name=Cologne - Dresden<br>Distance (km)=%{x}<br>Combined Population 2016=%{y}<extra></extra>",
         "hovertext": [
          "Cologne - Dresden"
         ],
         "legendgroup": "Cologne - Dresden",
         "marker": {
          "color": "#00cc96",
          "symbol": "circle"
         },
         "mode": "markers",
         "name": "Cologne - Dresden",
         "orientation": "v",
         "showlegend": true,
         "type": "scatter",
         "x": [
          476.466294203852
         ],
         "xaxis": "x",
         "y": [
          1604407
         ],
         "yaxis": "y"
        },
        {
         "hovertemplate": "<b>%{hovertext}</b><br><br>City_Pair_Name=Eindhoven - Ibiza<br>Distance (km)=%{x}<br>Combined Population 2016=%{y}<extra></extra>",
         "hovertext": [
          "Eindhoven - Ibiza"
         ],
         "legendgroup": "Eindhoven - Ibiza",
         "marker": {
          "color": "#ab63fa",
          "symbol": "circle"
         },
         "mode": "markers",
         "name": "Eindhoven - Ibiza",
         "orientation": "v",
         "showlegend": true,
         "type": "scatter",
         "x": [
          1418.94371197528
         ],
         "xaxis": "x",
         "y": [
          911741
         ],
         "yaxis": "y"
        },
        {
         "hovertemplate": "<b>%{hovertext}</b><br><br>City_Pair_Name=Malaga - Rotterdam<br>Distance (km)=%{x}<br>Combined Population 2016=%{y}<extra></extra>",
         "hovertext": [
          "Malaga - Rotterdam"
         ],
         "legendgroup": "Malaga - Rotterdam",
         "marker": {
          "color": "#FFA15A",
          "symbol": "circle"
         },
         "mode": "markers",
         "name": "Malaga - Rotterdam",
         "orientation": "v",
         "showlegend": true,
         "type": "scatter",
         "x": [
          1815.34010676559
         ],
         "xaxis": "x",
         "y": [
          3050700
         ],
         "yaxis": "y"
        },
        {
         "hovertemplate": "<b>%{hovertext}</b><br><br>City_Pair_Name=Frankfurt - Friedrichshafen<br>Distance (km)=%{x}<br>Combined Population 2016=%{y}<extra></extra>",
         "hovertext": [
          "Frankfurt - Friedrichshafen"
         ],
         "legendgroup": "Frankfurt - Friedrichshafen",
         "marker": {
          "color": "#19d3f3",
          "symbol": "circle"
         },
         "mode": "markers",
         "name": "Frankfurt - Friedrichshafen",
         "orientation": "v",
         "showlegend": true,
         "type": "scatter",
         "x": [
          272.726116997288
         ],
         "xaxis": "x",
         "y": [
          944889
         ],
         "yaxis": "y"
        },
        {
         "hovertemplate": "<b>%{hovertext}</b><br><br>City_Pair_Name=Charleroi - Seville<br>Distance (km)=%{x}<br>Combined Population 2016=%{y}<extra></extra>",
         "hovertext": [
          "Charleroi - Seville"
         ],
         "legendgroup": "Charleroi - Seville",
         "marker": {
          "color": "#FF6692",
          "symbol": "circle"
         },
         "mode": "markers",
         "name": "Charleroi - Seville",
         "orientation": "v",
         "showlegend": true,
         "type": "scatter",
         "x": [
          1655.00721519495
         ],
         "xaxis": "x",
         "y": [
          2367283
         ],
         "yaxis": "y"
        },
        {
         "hovertemplate": "<b>%{hovertext}</b><br><br>City_Pair_Name=Frankfurt - Munster<br>Distance (km)=%{x}<br>Combined Population 2016=%{y}<extra></extra>",
         "hovertext": [
          "Frankfurt - Munster"
         ],
         "legendgroup": "Frankfurt - Munster",
         "marker": {
          "color": "#B6E880",
          "symbol": "circle"
         },
         "mode": "markers",
         "name": "Frankfurt - Munster",
         "orientation": "v",
         "showlegend": true,
         "type": "scatter",
         "x": [
          216.361310997835
         ],
         "xaxis": "x",
         "y": [
          1042727
         ],
         "yaxis": "y"
        },
        {
         "hovertemplate": "<b>%{hovertext}</b><br><br>City_Pair_Name=Hannover - Tenerife South<br>Distance (km)=%{x}<br>Combined Population 2016=%{y}<extra></extra>",
         "hovertext": [
          "Hannover - Tenerife South"
         ],
         "legendgroup": "Hannover - Tenerife South",
         "marker": {
          "color": "#FF97FF",
          "symbol": "circle"
         },
         "mode": "markers",
         "name": "Hannover - Tenerife South",
         "orientation": "v",
         "showlegend": true,
         "type": "scatter",
         "x": [
          3447.7725829855303
         ],
         "xaxis": "x",
         "y": [
          2034739
         ],
         "yaxis": "y"
        },
        {
         "hovertemplate": "<b>%{hovertext}</b><br><br>City_Pair_Name=Barcelona - Bordeaux<br>Distance (km)=%{x}<br>Combined Population 2016=%{y}<extra></extra>",
         "hovertext": [
          "Barcelona - Bordeaux"
         ],
         "legendgroup": "Barcelona - Bordeaux",
         "marker": {
          "color": "#FECB52",
          "symbol": "circle"
         },
         "mode": "markers",
         "name": "Barcelona - Bordeaux",
         "orientation": "v",
         "showlegend": true,
         "type": "scatter",
         "x": [
          401.358242527069
         ],
         "xaxis": "x",
         "y": [
          7039605
         ],
         "yaxis": "y"
        },
        {
         "hovertemplate": "<b>%{hovertext}</b><br><br>City_Pair_Name=Frankfurt - Malaga<br>Distance (km)=%{x}<br>Combined Population 2016=%{y}<extra></extra>",
         "hovertext": [
          "Frankfurt - Malaga",
          "Frankfurt - Malaga"
         ],
         "legendgroup": "Frankfurt - Malaga",
         "marker": {
          "color": "#636efa",
          "symbol": "circle"
         },
         "mode": "markers",
         "name": "Frankfurt - Malaga",
         "orientation": "v",
         "showlegend": true,
         "type": "scatter",
         "x": [
          1825.09589926632,
          1766.71139759636
         ],
         "xaxis": "x",
         "y": [
          2371066,
          1740907
         ],
         "yaxis": "y"
        },
        {
         "hovertemplate": "<b>%{hovertext}</b><br><br>City_Pair_Name=Berlin - Saarbrucken<br>Distance (km)=%{x}<br>Combined Population 2016=%{y}<extra></extra>",
         "hovertext": [
          "Berlin - Saarbrucken"
         ],
         "legendgroup": "Berlin - Saarbrucken",
         "marker": {
          "color": "#EF553B",
          "symbol": "circle"
         },
         "mode": "markers",
         "name": "Berlin - Saarbrucken",
         "orientation": "v",
         "showlegend": true,
         "type": "scatter",
         "x": [
          578.412687693906
         ],
         "xaxis": "x",
         "y": [
          3847411
         ],
         "yaxis": "y"
        },
        {
         "hovertemplate": "<b>%{hovertext}</b><br><br>City_Pair_Name=Almeria - Barcelona<br>Distance (km)=%{x}<br>Combined Population 2016=%{y}<extra></extra>",
         "hovertext": [
          "Almeria - Barcelona"
         ],
         "legendgroup": "Almeria - Barcelona",
         "marker": {
          "color": "#00cc96",
          "symbol": "circle"
         },
         "mode": "markers",
         "name": "Almeria - Barcelona",
         "orientation": "v",
         "showlegend": true,
         "type": "scatter",
         "x": [
          626.220257971729
         ],
         "xaxis": "x",
         "y": [
          6172981
         ],
         "yaxis": "y"
        },
        {
         "hovertemplate": "<b>%{hovertext}</b><br><br>City_Pair_Name=Bilbao - Tenerife North<br>Distance (km)=%{x}<br>Combined Population 2016=%{y}<extra></extra>",
         "hovertext": [
          "Bilbao - Tenerife North"
         ],
         "legendgroup": "Bilbao - Tenerife North",
         "marker": {
          "color": "#ab63fa",
          "symbol": "circle"
         },
         "mode": "markers",
         "name": "Bilbao - Tenerife North",
         "orientation": "v",
         "showlegend": true,
         "type": "scatter",
         "x": [
          2066.25886707845
         ],
         "xaxis": "x",
         "y": [
          2030449
         ],
         "yaxis": "y"
        },
        {
         "hovertemplate": "<b>%{hovertext}</b><br><br>City_Pair_Name=Fuerteventura - Paris<br>Distance (km)=%{x}<br>Combined Population 2016=%{y}<extra></extra>",
         "hovertext": [
          "Fuerteventura - Paris"
         ],
         "legendgroup": "Fuerteventura - Paris",
         "marker": {
          "color": "#FFA15A",
          "symbol": "circle"
         },
         "mode": "markers",
         "name": "Fuerteventura - Paris",
         "orientation": "v",
         "showlegend": true,
         "type": "scatter",
         "x": [
          2680.3989991024796
         ],
         "xaxis": "x",
         "y": [
          1331847
         ],
         "yaxis": "y"
        },
        {
         "hovertemplate": "<b>%{hovertext}</b><br><br>City_Pair_Name=Cologne - Fuerteventura<br>Distance (km)=%{x}<br>Combined Population 2016=%{y}<extra></extra>",
         "hovertext": [
          "Cologne - Fuerteventura"
         ],
         "legendgroup": "Cologne - Fuerteventura",
         "marker": {
          "color": "#19d3f3",
          "symbol": "circle"
         },
         "mode": "markers",
         "name": "Cologne - Fuerteventura",
         "orientation": "v",
         "showlegend": true,
         "type": "scatter",
         "x": [
          3061.34247292856
         ],
         "xaxis": "x",
         "y": [
          1170506
         ],
         "yaxis": "y"
        },
        {
         "hovertemplate": "<b>%{hovertext}</b><br><br>City_Pair_Name=Alicante - Santiago de Compostela<br>Distance (km)=%{x}<br>Combined Population 2016=%{y}<extra></extra>",
         "hovertext": [
          "Alicante - Santiago de Compostela"
         ],
         "legendgroup": "Alicante - Santiago de Compostela",
         "marker": {
          "color": "#FF6692",
          "symbol": "circle"
         },
         "mode": "markers",
         "name": "Alicante - Santiago de Compostela",
         "orientation": "v",
         "showlegend": true,
         "type": "scatter",
         "x": [
          841.290236712473
         ],
         "xaxis": "x",
         "y": [
          2960888
         ],
         "yaxis": "y"
        },
        {
         "hovertemplate": "<b>%{hovertext}</b><br><br>City_Pair_Name=Dresden - Palma de Mallorca<br>Distance (km)=%{x}<br>Combined Population 2016=%{y}<extra></extra>",
         "hovertext": [
          "Dresden - Palma de Mallorca"
         ],
         "legendgroup": "Dresden - Palma de Mallorca",
         "marker": {
          "color": "#B6E880",
          "symbol": "circle"
         },
         "mode": "markers",
         "name": "Dresden - Palma de Mallorca",
         "orientation": "v",
         "showlegend": true,
         "type": "scatter",
         "x": [
          1525.42248067247
         ],
         "xaxis": "x",
         "y": [
          1414159
         ],
         "yaxis": "y"
        },
        {
         "hovertemplate": "<b>%{hovertext}</b><br><br>City_Pair_Name=Carcassonne - Charleroi<br>Distance (km)=%{x}<br>Combined Population 2016=%{y}<extra></extra>",
         "hovertext": [
          "Carcassonne - Charleroi"
         ],
         "legendgroup": "Carcassonne - Charleroi",
         "marker": {
          "color": "#FF97FF",
          "symbol": "circle"
         },
         "mode": "markers",
         "name": "Carcassonne - Charleroi",
         "orientation": "v",
         "showlegend": true,
         "type": "scatter",
         "x": [
          831.784665140153
         ],
         "xaxis": "x",
         "y": [
          799718
         ],
         "yaxis": "y"
        },
        {
         "hovertemplate": "<b>%{hovertext}</b><br><br>City_Pair_Name=Beauvais - Madrid<br>Distance (km)=%{x}<br>Combined Population 2016=%{y}<extra></extra>",
         "hovertext": [
          "Beauvais - Madrid"
         ],
         "legendgroup": "Beauvais - Madrid",
         "marker": {
          "color": "#FECB52",
          "symbol": "circle"
         },
         "mode": "markers",
         "name": "Beauvais - Madrid",
         "orientation": "v",
         "showlegend": true,
         "type": "scatter",
         "x": [
          1101.9928474230899
         ],
         "xaxis": "x",
         "y": [
          7235008
         ],
         "yaxis": "y"
        },
        {
         "hovertemplate": "<b>%{hovertext}</b><br><br>City_Pair_Name=Malaga - Santiago de Compostela<br>Distance (km)=%{x}<br>Combined Population 2016=%{y}<extra></extra>",
         "hovertext": [
          "Malaga - Santiago de Compostela"
         ],
         "legendgroup": "Malaga - Santiago de Compostela",
         "marker": {
          "color": "#636efa",
          "symbol": "circle"
         },
         "mode": "markers",
         "name": "Malaga - Santiago de Compostela",
         "orientation": "v",
         "showlegend": true,
         "type": "scatter",
         "x": [
          770.700428295922
         ],
         "xaxis": "x",
         "y": [
          2761393
         ],
         "yaxis": "y"
        },
        {
         "hovertemplate": "<b>%{hovertext}</b><br><br>City_Pair_Name=Seville - Valencia<br>Distance (km)=%{x}<br>Combined Population 2016=%{y}<extra></extra>",
         "hovertext": [
          "Seville - Valencia"
         ],
         "legendgroup": "Seville - Valencia",
         "marker": {
          "color": "#EF553B",
          "symbol": "circle"
         },
         "mode": "markers",
         "name": "Seville - Valencia",
         "orientation": "v",
         "showlegend": true,
         "type": "scatter",
         "x": [
          476.802758451822
         ],
         "xaxis": "x",
         "y": [
          4462059
         ],
         "yaxis": "y"
        },
        {
         "hovertemplate": "<b>%{hovertext}</b><br><br>City_Pair_Name=Biarritz - Lyon<br>Distance (km)=%{x}<br>Combined Population 2016=%{y}<extra></extra>",
         "hovertext": [
          "Biarritz - Lyon"
         ],
         "legendgroup": "Biarritz - Lyon",
         "marker": {
          "color": "#00cc96",
          "symbol": "circle"
         },
         "mode": "markers",
         "name": "Biarritz - Lyon",
         "orientation": "v",
         "showlegend": true,
         "type": "scatter",
         "x": [
          517.075811726689
         ],
         "xaxis": "x",
         "y": [
          2509889
         ],
         "yaxis": "y"
        },
        {
         "hovertemplate": "<b>%{hovertext}</b><br><br>City_Pair_Name=Ibiza - Malaga<br>Distance (km)=%{x}<br>Combined Population 2016=%{y}<extra></extra>",
         "hovertext": [
          "Ibiza - Malaga"
         ],
         "legendgroup": "Ibiza - Malaga",
         "marker": {
          "color": "#ab63fa",
          "symbol": "circle"
         },
         "mode": "markers",
         "name": "Ibiza - Malaga",
         "orientation": "v",
         "showlegend": true,
         "type": "scatter",
         "x": [
          589.911878802234
         ],
         "xaxis": "x",
         "y": [
          1793504
         ],
         "yaxis": "y"
        },
        {
         "hovertemplate": "<b>%{hovertext}</b><br><br>City_Pair_Name=Berlin - Luxembourg City<br>Distance (km)=%{x}<br>Combined Population 2016=%{y}<extra></extra>",
         "hovertext": [
          "Berlin - Luxembourg City"
         ],
         "legendgroup": "Berlin - Luxembourg City",
         "marker": {
          "color": "#FFA15A",
          "symbol": "circle"
         },
         "mode": "markers",
         "name": "Berlin - Luxembourg City",
         "orientation": "v",
         "showlegend": true,
         "type": "scatter",
         "x": [
          592.774799352686
         ],
         "xaxis": "x",
         "y": [
          4096280
         ],
         "yaxis": "y"
        },
        {
         "hovertemplate": "<b>%{hovertext}</b><br><br>City_Pair_Name=Alicante - Bilbao<br>Distance (km)=%{x}<br>Combined Population 2016=%{y}<extra></extra>",
         "hovertext": [
          "Alicante - Bilbao"
         ],
         "legendgroup": "Alicante - Bilbao",
         "marker": {
          "color": "#19d3f3",
          "symbol": "circle"
         },
         "mode": "markers",
         "name": "Alicante - Bilbao",
         "orientation": "v",
         "showlegend": true,
         "type": "scatter",
         "x": [
          563.26372707141
         ],
         "xaxis": "x",
         "y": [
          2978064
         ],
         "yaxis": "y"
        },
        {
         "hovertemplate": "<b>%{hovertext}</b><br><br>City_Pair_Name=Paris - Tarbes<br>Distance (km)=%{x}<br>Combined Population 2016=%{y}<extra></extra>",
         "hovertext": [
          "Paris - Tarbes"
         ],
         "legendgroup": "Paris - Tarbes",
         "marker": {
          "color": "#FF6692",
          "symbol": "circle"
         },
         "mode": "markers",
         "name": "Paris - Tarbes",
         "orientation": "v",
         "showlegend": true,
         "type": "scatter",
         "x": [
          661.051472789347
         ],
         "xaxis": "x",
         "y": [
          1605980
         ],
         "yaxis": "y"
        },
        {
         "hovertemplate": "<b>%{hovertext}</b><br><br>City_Pair_Name=Alicante - Hamburg<br>Distance (km)=%{x}<br>Combined Population 2016=%{y}<extra></extra>",
         "hovertext": [
          "Alicante - Hamburg"
         ],
         "legendgroup": "Alicante - Hamburg",
         "marker": {
          "color": "#B6E880",
          "symbol": "circle"
         },
         "mode": "markers",
         "name": "Alicante - Hamburg",
         "orientation": "v",
         "showlegend": true,
         "type": "scatter",
         "x": [
          1859.71113067638
         ],
         "xaxis": "x",
         "y": [
          3625281
         ],
         "yaxis": "y"
        },
        {
         "hovertemplate": "<b>%{hovertext}</b><br><br>City_Pair_Name=La Palma - Madrid<br>Distance (km)=%{x}<br>Combined Population 2016=%{y}<extra></extra>",
         "hovertext": [
          "La Palma - Madrid"
         ],
         "legendgroup": "La Palma - Madrid",
         "marker": {
          "color": "#FF97FF",
          "symbol": "circle"
         },
         "mode": "markers",
         "name": "La Palma - Madrid",
         "orientation": "v",
         "showlegend": true,
         "type": "scatter",
         "x": [
          1838.84337600993
         ],
         "xaxis": "x",
         "y": [
          6493186
         ],
         "yaxis": "y"
        },
        {
         "hovertemplate": "<b>%{hovertext}</b><br><br>City_Pair_Name=Alicante - Rotterdam<br>Distance (km)=%{x}<br>Combined Population 2016=%{y}<extra></extra>",
         "hovertext": [
          "Alicante - Rotterdam"
         ],
         "legendgroup": "Alicante - Rotterdam",
         "marker": {
          "color": "#FECB52",
          "symbol": "circle"
         },
         "mode": "markers",
         "name": "Alicante - Rotterdam",
         "orientation": "v",
         "showlegend": true,
         "type": "scatter",
         "x": [
          1533.0998588831399
         ],
         "xaxis": "x",
         "y": [
          3250195
         ],
         "yaxis": "y"
        },
        {
         "hovertemplate": "<b>%{hovertext}</b><br><br>City_Pair_Name=Brussels - Marseille<br>Distance (km)=%{x}<br>Combined Population 2016=%{y}<extra></extra>",
         "hovertext": [
          "Brussels - Marseille"
         ],
         "legendgroup": "Brussels - Marseille",
         "marker": {
          "color": "#636efa",
          "symbol": "circle"
         },
         "mode": "markers",
         "name": "Brussels - Marseille",
         "orientation": "v",
         "showlegend": true,
         "type": "scatter",
         "x": [
          812.705693134501
         ],
         "xaxis": "x",
         "y": [
          3221002
         ],
         "yaxis": "y"
        },
        {
         "hovertemplate": "<b>%{hovertext}</b><br><br>City_Pair_Name=Eindhoven - Palma de Mallorca<br>Distance (km)=%{x}<br>Combined Population 2016=%{y}<extra></extra>",
         "hovertext": [
          "Eindhoven - Palma de Mallorca"
         ],
         "legendgroup": "Eindhoven - Palma de Mallorca",
         "marker": {
          "color": "#EF553B",
          "symbol": "circle"
         },
         "mode": "markers",
         "name": "Eindhoven - Palma de Mallorca",
         "orientation": "v",
         "showlegend": true,
         "type": "scatter",
         "x": [
          1327.38503763763
         ],
         "xaxis": "x",
         "y": [
          1626949
         ],
         "yaxis": "y"
        },
        {
         "hovertemplate": "<b>%{hovertext}</b><br><br>City_Pair_Name=Amsterdam - Fuerteventura<br>Distance (km)=%{x}<br>Combined Population 2016=%{y}<extra></extra>",
         "hovertext": [
          "Amsterdam - Fuerteventura"
         ],
         "legendgroup": "Amsterdam - Fuerteventura",
         "marker": {
          "color": "#00cc96",
          "symbol": "circle"
         },
         "mode": "markers",
         "name": "Amsterdam - Fuerteventura",
         "orientation": "v",
         "showlegend": true,
         "type": "scatter",
         "x": [
          3090.39243740538
         ],
         "xaxis": "x",
         "y": [
          1439496
         ],
         "yaxis": "y"
        },
        {
         "hovertemplate": "<b>%{hovertext}</b><br><br>City_Pair_Name=Malaga - Tenerife North<br>Distance (km)=%{x}<br>Combined Population 2016=%{y}<extra></extra>",
         "hovertext": [
          "Malaga - Tenerife North"
         ],
         "legendgroup": "Malaga - Tenerife North",
         "marker": {
          "color": "#ab63fa",
          "symbol": "circle"
         },
         "mode": "markers",
         "name": "Malaga - Tenerife North",
         "orientation": "v",
         "showlegend": true,
         "type": "scatter",
         "x": [
          1456.6411711174699
         ],
         "xaxis": "x",
         "y": [
          2528636
         ],
         "yaxis": "y"
        },
        {
         "hovertemplate": "<b>%{hovertext}</b><br><br>City_Pair_Name=Bordeaux - Strasbourg<br>Distance (km)=%{x}<br>Combined Population 2016=%{y}<extra></extra>",
         "hovertext": [
          "Bordeaux - Strasbourg"
         ],
         "legendgroup": "Bordeaux - Strasbourg",
         "marker": {
          "color": "#FFA15A",
          "symbol": "circle"
         },
         "mode": "markers",
         "name": "Bordeaux - Strasbourg",
         "orientation": "v",
         "showlegend": true,
         "type": "scatter",
         "x": [
          752.023052449198
         ],
         "xaxis": "x",
         "y": [
          2688086
         ],
         "yaxis": "y"
        },
        {
         "hovertemplate": "<b>%{hovertext}</b><br><br>City_Pair_Name=Berlin - Karlsruhe/Baden-Baden<br>Distance (km)=%{x}<br>Combined Population 2016=%{y}<extra></extra>",
         "hovertext": [
          "Berlin - Karlsruhe/Baden-Baden"
         ],
         "legendgroup": "Berlin - Karlsruhe/Baden-Baden",
         "marker": {
          "color": "#19d3f3",
          "symbol": "circle"
         },
         "mode": "markers",
         "name": "Berlin - Karlsruhe/Baden-Baden",
         "orientation": "v",
         "showlegend": true,
         "type": "scatter",
         "x": [
          523.0485739274721
         ],
         "xaxis": "x",
         "y": [
          3827786
         ],
         "yaxis": "y"
        },
        {
         "hovertemplate": "<b>%{hovertext}</b><br><br>City_Pair_Name=Stuttgart - Tenerife South<br>Distance (km)=%{x}<br>Combined Population 2016=%{y}<extra></extra>",
         "hovertext": [
          "Stuttgart - Tenerife South"
         ],
         "legendgroup": "Stuttgart - Tenerife South",
         "marker": {
          "color": "#FF6692",
          "symbol": "circle"
         },
         "mode": "markers",
         "name": "Stuttgart - Tenerife South",
         "orientation": "v",
         "showlegend": true,
         "type": "scatter",
         "x": [
          3163.70354962067
         ],
         "xaxis": "x",
         "y": [
          1513996
         ],
         "yaxis": "y"
        },
        {
         "hovertemplate": "<b>%{hovertext}</b><br><br>City_Pair_Name=Luxembourg City - Nice<br>Distance (km)=%{x}<br>Combined Population 2016=%{y}<extra></extra>",
         "hovertext": [
          "Luxembourg City - Nice"
         ],
         "legendgroup": "Luxembourg City - Nice",
         "marker": {
          "color": "#B6E880",
          "symbol": "circle"
         },
         "mode": "markers",
         "name": "Luxembourg City - Nice",
         "orientation": "v",
         "showlegend": true,
         "type": "scatter",
         "x": [
          653.927795080906
         ],
         "xaxis": "x",
         "y": [
          1659953
         ],
         "yaxis": "y"
        },
        {
         "hovertemplate": "<b>%{hovertext}</b><br><br>City_Pair_Name=Alicante - Weeze<br>Distance (km)=%{x}<br>Combined Population 2016=%{y}<extra></extra>",
         "hovertext": [
          "Alicante - Weeze"
         ],
         "legendgroup": "Alicante - Weeze",
         "marker": {
          "color": "#FF97FF",
          "symbol": "circle"
         },
         "mode": "markers",
         "name": "Alicante - Weeze",
         "orientation": "v",
         "showlegend": true,
         "type": "scatter",
         "x": [
          1558.26966435464
         ],
         "xaxis": "x",
         "y": [
          2148210
         ],
         "yaxis": "y"
        },
        {
         "hovertemplate": "<b>%{hovertext}</b><br><br>City_Pair_Name=Frankfurt - Ibiza<br>Distance (km)=%{x}<br>Combined Population 2016=%{y}<extra></extra>",
         "hovertext": [
          "Frankfurt - Ibiza",
          "Frankfurt - Ibiza"
         ],
         "legendgroup": "Frankfurt - Ibiza",
         "marker": {
          "color": "#FECB52",
          "symbol": "circle"
         },
         "mode": "markers",
         "name": "Frankfurt - Ibiza",
         "orientation": "v",
         "showlegend": true,
         "type": "scatter",
         "x": [
          1362.74845743177,
          1320.11636921614
         ],
         "xaxis": "x",
         "y": [
          887814,
          257655
         ],
         "yaxis": "y"
        },
        {
         "hovertemplate": "<b>%{hovertext}</b><br><br>City_Pair_Name=Basel/Mulhouse - Paris<br>Distance (km)=%{x}<br>Combined Population 2016=%{y}<extra></extra>",
         "hovertext": [
          "Basel/Mulhouse - Paris"
         ],
         "legendgroup": "Basel/Mulhouse - Paris",
         "marker": {
          "color": "#636efa",
          "symbol": "circle"
         },
         "mode": "markers",
         "name": "Basel/Mulhouse - Paris",
         "orientation": "v",
         "showlegend": true,
         "type": "scatter",
         "x": [
          369.71678520651204
         ],
         "xaxis": "x",
         "y": [
          2140894
         ],
         "yaxis": "y"
        },
        {
         "hovertemplate": "<b>%{hovertext}</b><br><br>City_Pair_Name=Barcelona - Tenerife South<br>Distance (km)=%{x}<br>Combined Population 2016=%{y}<extra></extra>",
         "hovertext": [
          "Barcelona - Tenerife South"
         ],
         "legendgroup": "Barcelona - Tenerife South",
         "marker": {
          "color": "#EF553B",
          "symbol": "circle"
         },
         "mode": "markers",
         "name": "Barcelona - Tenerife South",
         "orientation": "v",
         "showlegend": true,
         "type": "scatter",
         "x": [
          2245.96784626233
         ],
         "xaxis": "x",
         "y": [
          6363184
         ],
         "yaxis": "y"
        },
        {
         "hovertemplate": "<b>%{hovertext}</b><br><br>City_Pair_Name=Luxembourg City - Madrid<br>Distance (km)=%{x}<br>Combined Population 2016=%{y}<extra></extra>",
         "hovertext": [
          "Luxembourg City - Madrid"
         ],
         "legendgroup": "Luxembourg City - Madrid",
         "marker": {
          "color": "#00cc96",
          "symbol": "circle"
         },
         "mode": "markers",
         "name": "Luxembourg City - Madrid",
         "orientation": "v",
         "showlegend": true,
         "type": "scatter",
         "x": [
          1285.0900589695998
         ],
         "xaxis": "x",
         "y": [
          6987715
         ],
         "yaxis": "y"
        },
        {
         "hovertemplate": "<b>%{hovertext}</b><br><br>City_Pair_Name=Barcelona - Hannover<br>Distance (km)=%{x}<br>Combined Population 2016=%{y}<extra></extra>",
         "hovertext": [
          "Barcelona - Hannover"
         ],
         "legendgroup": "Barcelona - Hannover",
         "marker": {
          "color": "#ab63fa",
          "symbol": "circle"
         },
         "mode": "markers",
         "name": "Barcelona - Hannover",
         "orientation": "v",
         "showlegend": true,
         "type": "scatter",
         "x": [
          1323.6348230323
         ],
         "xaxis": "x",
         "y": [
          6617407
         ],
         "yaxis": "y"
        },
        {
         "hovertemplate": "<b>%{hovertext}</b><br><br>City_Pair_Name=Cologne - Madrid<br>Distance (km)=%{x}<br>Combined Population 2016=%{y}<extra></extra>",
         "hovertext": [
          "Cologne - Madrid"
         ],
         "legendgroup": "Cologne - Madrid",
         "marker": {
          "color": "#FFA15A",
          "symbol": "circle"
         },
         "mode": "markers",
         "name": "Cologne - Madrid",
         "orientation": "v",
         "showlegend": true,
         "type": "scatter",
         "x": [
          1424.9667633189301
         ],
         "xaxis": "x",
         "y": [
          7472048
         ],
         "yaxis": "y"
        },
        {
         "hovertemplate": "<b>%{hovertext}</b><br><br>City_Pair_Name=Ajaccio - Nice<br>Distance (km)=%{x}<br>Combined Population 2016=%{y}<extra></extra>",
         "hovertext": [
          "Ajaccio - Nice"
         ],
         "legendgroup": "Ajaccio - Nice",
         "marker": {
          "color": "#19d3f3",
          "symbol": "circle"
         },
         "mode": "markers",
         "name": "Ajaccio - Nice",
         "orientation": "v",
         "showlegend": true,
         "type": "scatter",
         "x": [
          276.291692549213
         ],
         "xaxis": "x",
         "y": [
          1238007
         ],
         "yaxis": "y"
        },
        {
         "hovertemplate": "<b>%{hovertext}</b><br><br>City_Pair_Name=Charleroi - Malaga<br>Distance (km)=%{x}<br>Combined Population 2016=%{y}<extra></extra>",
         "hovertext": [
          "Charleroi - Malaga"
         ],
         "legendgroup": "Charleroi - Malaga",
         "marker": {
          "color": "#FF6692",
          "symbol": "circle"
         },
         "mode": "markers",
         "name": "Charleroi - Malaga",
         "orientation": "v",
         "showlegend": true,
         "type": "scatter",
         "x": [
          1683.17992982137
         ],
         "xaxis": "x",
         "y": [
          2070071
         ],
         "yaxis": "y"
        },
        {
         "hovertemplate": "<b>%{hovertext}</b><br><br>City_Pair_Name=Berlin - Nice<br>Distance (km)=%{x}<br>Combined Population 2016=%{y}<extra></extra>",
         "hovertext": [
          "Berlin - Nice"
         ],
         "legendgroup": "Berlin - Nice",
         "marker": {
          "color": "#B6E880",
          "symbol": "circle"
         },
         "mode": "markers",
         "name": "Berlin - Nice",
         "orientation": "v",
         "showlegend": true,
         "type": "scatter",
         "x": [
          1059.12123914928
         ],
         "xaxis": "x",
         "y": [
          4603735
         ],
         "yaxis": "y"
        },
        {
         "hovertemplate": "<b>%{hovertext}</b><br><br>City_Pair_Name=Madrid - Nantes<br>Distance (km)=%{x}<br>Combined Population 2016=%{y}<extra></extra>",
         "hovertext": [
          "Madrid - Nantes"
         ],
         "legendgroup": "Madrid - Nantes",
         "marker": {
          "color": "#FF97FF",
          "symbol": "circle"
         },
         "mode": "markers",
         "name": "Madrid - Nantes",
         "orientation": "v",
         "showlegend": true,
         "type": "scatter",
         "x": [
          780.8513444851029
         ],
         "xaxis": "x",
         "y": [
          7792318
         ],
         "yaxis": "y"
        },
        {
         "hovertemplate": "<b>%{hovertext}</b><br><br>City_Pair_Name=Gran Canaria - La Palma<br>Distance (km)=%{x}<br>Combined Population 2016=%{y}<extra></extra>",
         "hovertext": [
          "Gran Canaria - La Palma"
         ],
         "legendgroup": "Gran Canaria - La Palma",
         "marker": {
          "color": "#FECB52",
          "symbol": "circle"
         },
         "mode": "markers",
         "name": "Gran Canaria - La Palma",
         "orientation": "v",
         "showlegend": true,
         "type": "scatter",
         "x": [
          236.221718611066
         ],
         "xaxis": "x",
         "y": [
          928826
         ],
         "yaxis": "y"
        },
        {
         "hovertemplate": "<b>%{hovertext}</b><br><br>City_Pair_Name=Bilbao - Gran Canaria<br>Distance (km)=%{x}<br>Combined Population 2016=%{y}<extra></extra>",
         "hovertext": [
          "Bilbao - Gran Canaria"
         ],
         "legendgroup": "Bilbao - Gran Canaria",
         "marker": {
          "color": "#636efa",
          "symbol": "circle"
         },
         "mode": "markers",
         "name": "Bilbao - Gran Canaria",
         "orientation": "v",
         "showlegend": true,
         "type": "scatter",
         "x": [
          2048.29269103622
         ],
         "xaxis": "x",
         "y": [
          1987297
         ],
         "yaxis": "y"
        },
        {
         "hovertemplate": "<b>%{hovertext}</b><br><br>City_Pair_Name=Santiago de Compostela - Valencia<br>Distance (km)=%{x}<br>Combined Population 2016=%{y}<extra></extra>",
         "hovertext": [
          "Santiago de Compostela - Valencia"
         ],
         "legendgroup": "Santiago de Compostela - Valencia",
         "marker": {
          "color": "#EF553B",
          "symbol": "circle"
         },
         "mode": "markers",
         "name": "Santiago de Compostela - Valencia",
         "orientation": "v",
         "showlegend": true,
         "type": "scatter",
         "x": [
          767.399618523523
         ],
         "xaxis": "x",
         "y": [
          3649484
         ],
         "yaxis": "y"
        },
        {
         "hovertemplate": "<b>%{hovertext}</b><br><br>City_Pair_Name=Nice - Strasbourg<br>Distance (km)=%{x}<br>Combined Population 2016=%{y}<extra></extra>",
         "hovertext": [
          "Nice - Strasbourg"
         ],
         "legendgroup": "Nice - Strasbourg",
         "marker": {
          "color": "#00cc96",
          "symbol": "circle"
         },
         "mode": "markers",
         "name": "Nice - Strasbourg",
         "orientation": "v",
         "showlegend": true,
         "type": "scatter",
         "x": [
          527.416830462748
         ],
         "xaxis": "x",
         "y": [
          2205111
         ],
         "yaxis": "y"
        },
        {
         "hovertemplate": "<b>%{hovertext}</b><br><br>City_Pair_Name=Lyon - Strasbourg<br>Distance (km)=%{x}<br>Combined Population 2016=%{y}<extra></extra>",
         "hovertext": [
          "Lyon - Strasbourg"
         ],
         "legendgroup": "Lyon - Strasbourg",
         "marker": {
          "color": "#ab63fa",
          "symbol": "circle"
         },
         "mode": "markers",
         "name": "Lyon - Strasbourg",
         "orientation": "v",
         "showlegend": true,
         "type": "scatter",
         "x": [
          380.997663131704
         ],
         "xaxis": "x",
         "y": [
          2957310
         ],
         "yaxis": "y"
        },
        {
         "hovertemplate": "<b>%{hovertext}</b><br><br>City_Pair_Name=Bilbao - Lanzarote<br>Distance (km)=%{x}<br>Combined Population 2016=%{y}<extra></extra>",
         "hovertext": [
          "Bilbao - Lanzarote"
         ],
         "legendgroup": "Bilbao - Lanzarote",
         "marker": {
          "color": "#FFA15A",
          "symbol": "circle"
         },
         "mode": "markers",
         "name": "Bilbao - Lanzarote",
         "orientation": "v",
         "showlegend": true,
         "type": "scatter",
         "x": [
          1850.79477660236
         ],
         "xaxis": "x",
         "y": [
          1283055
         ],
         "yaxis": "y"
        },
        {
         "hovertemplate": "<b>%{hovertext}</b><br><br>City_Pair_Name=Dresden - Stuttgart<br>Distance (km)=%{x}<br>Combined Population 2016=%{y}<extra></extra>",
         "hovertext": [
          "Dresden - Stuttgart"
         ],
         "legendgroup": "Dresden - Stuttgart",
         "marker": {
          "color": "#19d3f3",
          "symbol": "circle"
         },
         "mode": "markers",
         "name": "Dresden - Stuttgart",
         "orientation": "v",
         "showlegend": true,
         "type": "scatter",
         "x": [
          416.798921658464
         ],
         "xaxis": "x",
         "y": [
          1167563
         ],
         "yaxis": "y"
        },
        {
         "hovertemplate": "<b>%{hovertext}</b><br><br>City_Pair_Name=Girona - Weeze<br>Distance (km)=%{x}<br>Combined Population 2016=%{y}<extra></extra>",
         "hovertext": [
          "Girona - Weeze"
         ],
         "legendgroup": "Girona - Weeze",
         "marker": {
          "color": "#FF6692",
          "symbol": "circle"
         },
         "mode": "markers",
         "name": "Girona - Weeze",
         "orientation": "v",
         "showlegend": true,
         "type": "scatter",
         "x": [
          1093.1368629946699
         ],
         "xaxis": "x",
         "y": [
          1056134
         ],
         "yaxis": "y"
        },
        {
         "hovertemplate": "<b>%{hovertext}</b><br><br>City_Pair_Name=Bilbao - Valencia<br>Distance (km)=%{x}<br>Combined Population 2016=%{y}<extra></extra>",
         "hovertext": [
          "Bilbao - Valencia"
         ],
         "legendgroup": "Bilbao - Valencia",
         "marker": {
          "color": "#B6E880",
          "symbol": "circle"
         },
         "mode": "markers",
         "name": "Bilbao - Valencia",
         "orientation": "v",
         "showlegend": true,
         "type": "scatter",
         "x": [
          466.5284107496321
         ],
         "xaxis": "x",
         "y": [
          3666660
         ],
         "yaxis": "y"
        },
        {
         "hovertemplate": "<b>%{hovertext}</b><br><br>City_Pair_Name=Berlin - Gran Canaria<br>Distance (km)=%{x}<br>Combined Population 2016=%{y}<extra></extra>",
         "hovertext": [
          "Berlin - Gran Canaria"
         ],
         "legendgroup": "Berlin - Gran Canaria",
         "marker": {
          "color": "#FF97FF",
          "symbol": "circle"
         },
         "mode": "markers",
         "name": "Berlin - Gran Canaria",
         "orientation": "v",
         "showlegend": true,
         "type": "scatter",
         "x": [
          3627.70004822331
         ],
         "xaxis": "x",
         "y": [
          4367137
         ],
         "yaxis": "y"
        },
        {
         "hovertemplate": "<b>%{hovertext}</b><br><br>City_Pair_Name=DÃ¼sseldorf - Jerez<br>Distance (km)=%{x}<br>Combined Population 2016=%{y}<extra></extra>",
         "hovertext": [
          "DÃ¼sseldorf - Jerez"
         ],
         "legendgroup": "DÃ¼sseldorf - Jerez",
         "marker": {
          "color": "#FECB52",
          "symbol": "circle"
         },
         "mode": "markers",
         "name": "DÃ¼sseldorf - Jerez",
         "orientation": "v",
         "showlegend": true,
         "type": "scatter",
         "x": [
          1912.3298834470302
         ],
         "xaxis": "x",
         "y": [
          1856653
         ],
         "yaxis": "y"
        },
        {
         "hovertemplate": "<b>%{hovertext}</b><br><br>City_Pair_Name=DÃ¼sseldorf - Leipzig<br>Distance (km)=%{x}<br>Combined Population 2016=%{y}<extra></extra>",
         "hovertext": [
          "DÃ¼sseldorf - Leipzig"
         ],
         "legendgroup": "DÃ¼sseldorf - Leipzig",
         "marker": {
          "color": "#636efa",
          "symbol": "circle"
         },
         "mode": "markers",
         "name": "DÃ¼sseldorf - Leipzig",
         "orientation": "v",
         "showlegend": true,
         "type": "scatter",
         "x": [
          387.111209724485
         ],
         "xaxis": "x",
         "y": [
          1172650
         ],
         "yaxis": "y"
        },
        {
         "hovertemplate": "<b>%{hovertext}</b><br><br>City_Pair_Name=Ibiza - Munich<br>Distance (km)=%{x}<br>Combined Population 2016=%{y}<extra></extra>",
         "hovertext": [
          "Ibiza - Munich"
         ],
         "legendgroup": "Ibiza - Munich",
         "marker": {
          "color": "#EF553B",
          "symbol": "circle"
         },
         "mode": "markers",
         "name": "Ibiza - Munich",
         "orientation": "v",
         "showlegend": true,
         "type": "scatter",
         "x": [
          1303.98406460306
         ],
         "xaxis": "x",
         "y": [
          1605507
         ],
         "yaxis": "y"
        },
        {
         "hovertemplate": "<b>%{hovertext}</b><br><br>City_Pair_Name=Figari - Marseille<br>Distance (km)=%{x}<br>Combined Population 2016=%{y}<extra></extra>",
         "hovertext": [
          "Figari - Marseille"
         ],
         "legendgroup": "Figari - Marseille",
         "marker": {
          "color": "#00cc96",
          "symbol": "circle"
         },
         "mode": "markers",
         "name": "Figari - Marseille",
         "orientation": "v",
         "showlegend": true,
         "type": "scatter",
         "x": [
          369.347391696951
         ],
         "xaxis": "x",
         "y": [
          2174020
         ],
         "yaxis": "y"
        },
        {
         "hovertemplate": "<b>%{hovertext}</b><br><br>City_Pair_Name=Bastia - Nice<br>Distance (km)=%{x}<br>Combined Population 2016=%{y}<extra></extra>",
         "hovertext": [
          "Bastia - Nice"
         ],
         "legendgroup": "Bastia - Nice",
         "marker": {
          "color": "#ab63fa",
          "symbol": "circle"
         },
         "mode": "markers",
         "name": "Bastia - Nice",
         "orientation": "v",
         "showlegend": true,
         "type": "scatter",
         "x": [
          241.14770398938902
         ],
         "xaxis": "x",
         "y": [
          1259856
         ],
         "yaxis": "y"
        },
        {
         "hovertemplate": "<b>%{hovertext}</b><br><br>City_Pair_Name=Nantes - Strasbourg<br>Distance (km)=%{x}<br>Combined Population 2016=%{y}<extra></extra>",
         "hovertext": [
          "Nantes - Strasbourg"
         ],
         "legendgroup": "Nantes - Strasbourg",
         "marker": {
          "color": "#FFA15A",
          "symbol": "circle"
         },
         "mode": "markers",
         "name": "Nantes - Strasbourg",
         "orientation": "v",
         "showlegend": true,
         "type": "scatter",
         "x": [
          701.504137829528
         ],
         "xaxis": "x",
         "y": [
          2502259
         ],
         "yaxis": "y"
        },
        {
         "hovertemplate": "<b>%{hovertext}</b><br><br>City_Pair_Name=Luxembourg City - Malaga<br>Distance (km)=%{x}<br>Combined Population 2016=%{y}<extra></extra>",
         "hovertext": [
          "Luxembourg City - Malaga"
         ],
         "legendgroup": "Luxembourg City - Malaga",
         "marker": {
          "color": "#19d3f3",
          "symbol": "circle"
         },
         "mode": "markers",
         "name": "Luxembourg City - Malaga",
         "orientation": "v",
         "showlegend": true,
         "type": "scatter",
         "x": [
          1682.6401541077498
         ],
         "xaxis": "x",
         "y": [
          2214627
         ],
         "yaxis": "y"
        },
        {
         "hovertemplate": "<b>%{hovertext}</b><br><br>City_Pair_Name=Barcelona - San Sebastian<br>Distance (km)=%{x}<br>Combined Population 2016=%{y}<extra></extra>",
         "hovertext": [
          "Barcelona - San Sebastian"
         ],
         "legendgroup": "Barcelona - San Sebastian",
         "marker": {
          "color": "#FF6692",
          "symbol": "circle"
         },
         "mode": "markers",
         "name": "Barcelona - San Sebastian",
         "orientation": "v",
         "showlegend": true,
         "type": "scatter",
         "x": [
          377.15253739142304
         ],
         "xaxis": "x",
         "y": [
          6184187
         ],
         "yaxis": "y"
        },
        {
         "hovertemplate": "<b>%{hovertext}</b><br><br>City_Pair_Name=DÃ¼sseldorf - Nice<br>Distance (km)=%{x}<br>Combined Population 2016=%{y}<extra></extra>",
         "hovertext": [
          "DÃ¼sseldorf - Nice"
         ],
         "legendgroup": "DÃ¼sseldorf - Nice",
         "marker": {
          "color": "#B6E880",
          "symbol": "circle"
         },
         "mode": "markers",
         "name": "DÃ¼sseldorf - Nice",
         "orientation": "v",
         "showlegend": true,
         "type": "scatter",
         "x": [
          811.972816532679
         ],
         "xaxis": "x",
         "y": [
          1695882
         ],
         "yaxis": "y"
        },
        {
         "hovertemplate": "<b>%{hovertext}</b><br><br>City_Pair_Name=Gran Canaria - Santiago de Compostela<br>Distance (km)=%{x}<br>Combined Population 2016=%{y}<extra></extra>",
         "hovertext": [
          "Gran Canaria - Santiago de Compostela"
         ],
         "legendgroup": "Gran Canaria - Santiago de Compostela",
         "marker": {
          "color": "#FF97FF",
          "symbol": "circle"
         },
         "mode": "markers",
         "name": "Gran Canaria - Santiago de Compostela",
         "orientation": "v",
         "showlegend": true,
         "type": "scatter",
         "x": [
          1804.41523908071
         ],
         "xaxis": "x",
         "y": [
          1970121
         ],
         "yaxis": "y"
        },
        {
         "hovertemplate": "<b>%{hovertext}</b><br><br>City_Pair_Name=Madrid - Melilla<br>Distance (km)=%{x}<br>Combined Population 2016=%{y}<extra></extra>",
         "hovertext": [
          "Madrid - Melilla"
         ],
         "legendgroup": "Madrid - Melilla",
         "marker": {
          "color": "#FECB52",
          "symbol": "circle"
         },
         "mode": "markers",
         "name": "Madrid - Melilla",
         "orientation": "v",
         "showlegend": true,
         "type": "scatter",
         "x": [
          582.540147613239
         ],
         "xaxis": "x",
         "y": [
          6496923
         ],
         "yaxis": "y"
        },
        {
         "hovertemplate": "<b>%{hovertext}</b><br><br>City_Pair_Name=Eindhoven - Girona<br>Distance (km)=%{x}<br>Combined Population 2016=%{y}<extra></extra>",
         "hovertext": [
          "Eindhoven - Girona"
         ],
         "legendgroup": "Eindhoven - Girona",
         "marker": {
          "color": "#636efa",
          "symbol": "circle"
         },
         "mode": "markers",
         "name": "Eindhoven - Girona",
         "orientation": "v",
         "showlegend": true,
         "type": "scatter",
         "x": [
          1055.18425021912
         ],
         "xaxis": "x",
         "y": [
          1502412
         ],
         "yaxis": "y"
        },
        {
         "hovertemplate": "<b>%{hovertext}</b><br><br>City_Pair_Name=Frankfurt - Lanzarote<br>Distance (km)=%{x}<br>Combined Population 2016=%{y}<extra></extra>",
         "hovertext": [
          "Frankfurt - Lanzarote"
         ],
         "legendgroup": "Frankfurt - Lanzarote",
         "marker": {
          "color": "#EF553B",
          "symbol": "circle"
         },
         "mode": "markers",
         "name": "Frankfurt - Lanzarote",
         "orientation": "v",
         "showlegend": true,
         "type": "scatter",
         "x": [
          3000.8266710242697
         ],
         "xaxis": "x",
         "y": [
          875552
         ],
         "yaxis": "y"
        },
        {
         "hovertemplate": "<b>%{hovertext}</b><br><br>City_Pair_Name=Charleroi - Girona<br>Distance (km)=%{x}<br>Combined Population 2016=%{y}<extra></extra>",
         "hovertext": [
          "Charleroi - Girona"
         ],
         "legendgroup": "Charleroi - Girona",
         "marker": {
          "color": "#00cc96",
          "symbol": "circle"
         },
         "mode": "markers",
         "name": "Charleroi - Girona",
         "orientation": "v",
         "showlegend": true,
         "type": "scatter",
         "x": [
          935.819510791952
         ],
         "xaxis": "x",
         "y": [
          1177490
         ],
         "yaxis": "y"
        },
        {
         "hovertemplate": "<b>%{hovertext}</b><br><br>City_Pair_Name=Lyon - Rennes<br>Distance (km)=%{x}<br>Combined Population 2016=%{y}<extra></extra>",
         "hovertext": [
          "Lyon - Rennes"
         ],
         "legendgroup": "Lyon - Rennes",
         "marker": {
          "color": "#ab63fa",
          "symbol": "circle"
         },
         "mode": "markers",
         "name": "Lyon - Rennes",
         "orientation": "v",
         "showlegend": true,
         "type": "scatter",
         "x": [
          539.036948610645
         ],
         "xaxis": "x",
         "y": [
          2887682
         ],
         "yaxis": "y"
        },
        {
         "hovertemplate": "<b>%{hovertext}</b><br><br>City_Pair_Name=Marseille - Strasbourg<br>Distance (km)=%{x}<br>Combined Population 2016=%{y}<extra></extra>",
         "hovertext": [
          "Marseille - Strasbourg"
         ],
         "legendgroup": "Marseille - Strasbourg",
         "marker": {
          "color": "#FFA15A",
          "symbol": "circle"
         },
         "mode": "markers",
         "name": "Marseille - Strasbourg",
         "orientation": "v",
         "showlegend": true,
         "type": "scatter",
         "x": [
          600.8460730895479
         ],
         "xaxis": "x",
         "y": [
          3141124
         ],
         "yaxis": "y"
        },
        {
         "hovertemplate": "<b>%{hovertext}</b><br><br>City_Pair_Name=Amsterdam - Girona<br>Distance (km)=%{x}<br>Combined Population 2016=%{y}<extra></extra>",
         "hovertext": [
          "Amsterdam - Girona"
         ],
         "legendgroup": "Amsterdam - Girona",
         "marker": {
          "color": "#19d3f3",
          "symbol": "circle"
         },
         "mode": "markers",
         "name": "Amsterdam - Girona",
         "orientation": "v",
         "showlegend": true,
         "type": "scatter",
         "x": [
          1153.15136693124
         ],
         "xaxis": "x",
         "y": [
          2075369
         ],
         "yaxis": "y"
        },
        {
         "hovertemplate": "<b>%{hovertext}</b><br><br>City_Pair_Name=Eindhoven - Valencia<br>Distance (km)=%{x}<br>Combined Population 2016=%{y}<extra></extra>",
         "hovertext": [
          "Eindhoven - Valencia"
         ],
         "legendgroup": "Eindhoven - Valencia",
         "marker": {
          "color": "#FF6692",
          "symbol": "circle"
         },
         "mode": "markers",
         "name": "Eindhoven - Valencia",
         "orientation": "v",
         "showlegend": true,
         "type": "scatter",
         "x": [
          1428.51385741734
         ],
         "xaxis": "x",
         "y": [
          3283084
         ],
         "yaxis": "y"
        },
        {
         "hovertemplate": "<b>%{hovertext}</b><br><br>City_Pair_Name=Charleroi - Nimes<br>Distance (km)=%{x}<br>Combined Population 2016=%{y}<extra></extra>",
         "hovertext": [
          "Charleroi - Nimes"
         ],
         "legendgroup": "Charleroi - Nimes",
         "marker": {
          "color": "#B6E880",
          "symbol": "circle"
         },
         "mode": "markers",
         "name": "Charleroi - Nimes",
         "orientation": "v",
         "showlegend": true,
         "type": "scatter",
         "x": [
          719.089256677492
         ],
         "xaxis": "x",
         "y": [
          1173699
         ],
         "yaxis": "y"
        },
        {
         "hovertemplate": "<b>%{hovertext}</b><br><br>City_Pair_Name=Fuerteventura - Leipzig<br>Distance (km)=%{x}<br>Combined Population 2016=%{y}<extra></extra>",
         "hovertext": [
          "Fuerteventura - Leipzig"
         ],
         "legendgroup": "Fuerteventura - Leipzig",
         "marker": {
          "color": "#FF97FF",
          "symbol": "circle"
         },
         "mode": "markers",
         "name": "Fuerteventura - Leipzig",
         "orientation": "v",
         "showlegend": true,
         "type": "scatter",
         "x": [
          3366.90273744483
         ],
         "xaxis": "x",
         "y": [
          670396
         ],
         "yaxis": "y"
        },
        {
         "hovertemplate": "<b>%{hovertext}</b><br><br>City_Pair_Name=Cologne - Leipzig<br>Distance (km)=%{x}<br>Combined Population 2016=%{y}<extra></extra>",
         "hovertext": [
          "Cologne - Leipzig"
         ],
         "legendgroup": "Cologne - Leipzig",
         "marker": {
          "color": "#FECB52",
          "symbol": "circle"
         },
         "mode": "markers",
         "name": "Cologne - Leipzig",
         "orientation": "v",
         "showlegend": true,
         "type": "scatter",
         "x": [
          379.316665557909
         ],
         "xaxis": "x",
         "y": [
          1621054
         ],
         "yaxis": "y"
        },
        {
         "hovertemplate": "<b>%{hovertext}</b><br><br>City_Pair_Name=Ajaccio - Nantes<br>Distance (km)=%{x}<br>Combined Population 2016=%{y}<extra></extra>",
         "hovertext": [
          "Ajaccio - Nantes"
         ],
         "legendgroup": "Ajaccio - Nantes",
         "marker": {
          "color": "#636efa",
          "symbol": "circle"
         },
         "mode": "markers",
         "name": "Ajaccio - Nantes",
         "orientation": "v",
         "showlegend": true,
         "type": "scatter",
         "x": [
          1041.03381137313
         ],
         "xaxis": "x",
         "y": [
          1535155
         ],
         "yaxis": "y"
        },
        {
         "hovertemplate": "<b>%{hovertext}</b><br><br>City_Pair_Name=Bremen - Paris<br>Distance (km)=%{x}<br>Combined Population 2016=%{y}<extra></extra>",
         "hovertext": [
          "Bremen - Paris"
         ],
         "legendgroup": "Bremen - Paris",
         "marker": {
          "color": "#EF553B",
          "symbol": "circle"
         },
         "mode": "markers",
         "name": "Bremen - Paris",
         "orientation": "v",
         "showlegend": true,
         "type": "scatter",
         "x": [
          644.869151504471
         ],
         "xaxis": "x",
         "y": [
          1779387
         ],
         "yaxis": "y"
        },
        {
         "hovertemplate": "<b>%{hovertext}</b><br><br>City_Pair_Name=Bilbao - DÃ¼sseldorf<br>Distance (km)=%{x}<br>Combined Population 2016=%{y}<extra></extra>",
         "hovertext": [
          "Bilbao - DÃ¼sseldorf"
         ],
         "legendgroup": "Bilbao - DÃ¼sseldorf",
         "marker": {
          "color": "#00cc96",
          "symbol": "circle"
         },
         "mode": "markers",
         "name": "Bilbao - DÃ¼sseldorf",
         "orientation": "v",
         "showlegend": true,
         "type": "scatter",
         "x": [
          1147.78001464888
         ],
         "xaxis": "x",
         "y": [
          1752369
         ],
         "yaxis": "y"
        },
        {
         "hovertemplate": "<b>%{hovertext}</b><br><br>City_Pair_Name=Santiago de Compostela - Tenerife South<br>Distance (km)=%{x}<br>Combined Population 2016=%{y}<extra></extra>",
         "hovertext": [
          "Santiago de Compostela - Tenerife South"
         ],
         "legendgroup": "Santiago de Compostela - Tenerife South",
         "marker": {
          "color": "#ab63fa",
          "symbol": "circle"
         },
         "mode": "markers",
         "name": "Santiago de Compostela - Tenerife South",
         "orientation": "v",
         "showlegend": true,
         "type": "scatter",
         "x": [
          1802.18189663588
         ],
         "xaxis": "x",
         "y": [
          2013273
         ],
         "yaxis": "y"
        },
        {
         "hovertemplate": "<b>%{hovertext}</b><br><br>City_Pair_Name=Alicante - Munich<br>Distance (km)=%{x}<br>Combined Population 2016=%{y}<extra></extra>",
         "hovertext": [
          "Alicante - Munich"
         ],
         "legendgroup": "Alicante - Munich",
         "marker": {
          "color": "#FFA15A",
          "symbol": "circle"
         },
         "mode": "markers",
         "name": "Alicante - Munich",
         "orientation": "v",
         "showlegend": true,
         "type": "scatter",
         "x": [
          1451.98374757935
         ],
         "xaxis": "x",
         "y": [
          3288254
         ],
         "yaxis": "y"
        },
        {
         "hovertemplate": "<b>%{hovertext}</b><br><br>City_Pair_Name=Frankfurt - Jerez<br>Distance (km)=%{x}<br>Combined Population 2016=%{y}<extra></extra>",
         "hovertext": [
          "Frankfurt - Jerez",
          "Frankfurt - Jerez"
         ],
         "legendgroup": "Frankfurt - Jerez",
         "marker": {
          "color": "#19d3f3",
          "symbol": "circle"
         },
         "mode": "markers",
         "name": "Frankfurt - Jerez",
         "orientation": "v",
         "showlegend": true,
         "type": "scatter",
         "x": [
          1898.75940847889,
          1838.37869516887
         ],
         "xaxis": "x",
         "y": [
          1977163,
          1347004
         ],
         "yaxis": "y"
        },
        {
         "hovertemplate": "<b>%{hovertext}</b><br><br>City_Pair_Name=Bordeaux - Charleroi<br>Distance (km)=%{x}<br>Combined Population 2016=%{y}<extra></extra>",
         "hovertext": [
          "Bordeaux - Charleroi"
         ],
         "legendgroup": "Bordeaux - Charleroi",
         "marker": {
          "color": "#FF6692",
          "symbol": "circle"
         },
         "mode": "markers",
         "name": "Bordeaux - Charleroi",
         "orientation": "v",
         "showlegend": true,
         "type": "scatter",
         "x": [
          729.372232895363
         ],
         "xaxis": "x",
         "y": [
          1998372
         ],
         "yaxis": "y"
        },
        {
         "hovertemplate": "<b>%{hovertext}</b><br><br>City_Pair_Name=Barcelona - Marseille<br>Distance (km)=%{x}<br>Combined Population 2016=%{y}<extra></extra>",
         "hovertext": [
          "Barcelona - Marseille"
         ],
         "legendgroup": "Barcelona - Marseille",
         "marker": {
          "color": "#B6E880",
          "symbol": "circle"
         },
         "mode": "markers",
         "name": "Barcelona - Marseille",
         "orientation": "v",
         "showlegend": true,
         "type": "scatter",
         "x": [
          324.192263672051
         ],
         "xaxis": "x",
         "y": [
          7492643
         ],
         "yaxis": "y"
        },
        {
         "hovertemplate": "<b>%{hovertext}</b><br><br>City_Pair_Name=Nantes - Palma de Mallorca<br>Distance (km)=%{x}<br>Combined Population 2016=%{y}<extra></extra>",
         "hovertext": [
          "Nantes - Palma de Mallorca"
         ],
         "legendgroup": "Nantes - Palma de Mallorca",
         "marker": {
          "color": "#FF97FF",
          "symbol": "circle"
         },
         "mode": "markers",
         "name": "Nantes - Palma de Mallorca",
         "orientation": "v",
         "showlegend": true,
         "type": "scatter",
         "x": [
          938.919031213831
         ],
         "xaxis": "x",
         "y": [
          2251186
         ],
         "yaxis": "y"
        },
        {
         "hovertemplate": "<b>%{hovertext}</b><br><br>City_Pair_Name=Alicante - Cologne<br>Distance (km)=%{x}<br>Combined Population 2016=%{y}<extra></extra>",
         "hovertext": [
          "Alicante - Cologne"
         ],
         "legendgroup": "Alicante - Cologne",
         "marker": {
          "color": "#FECB52",
          "symbol": "circle"
         },
         "mode": "markers",
         "name": "Alicante - Cologne",
         "orientation": "v",
         "showlegend": true,
         "type": "scatter",
         "x": [
          1507.19540316657
         ],
         "xaxis": "x",
         "y": [
          2898455
         ],
         "yaxis": "y"
        },
        {
         "hovertemplate": "<b>%{hovertext}</b><br><br>City_Pair_Name=Alicante - Ibiza<br>Distance (km)=%{x}<br>Combined Population 2016=%{y}<extra></extra>",
         "hovertext": [
          "Alicante - Ibiza"
         ],
         "legendgroup": "Alicante - Ibiza",
         "marker": {
          "color": "#636efa",
          "symbol": "circle"
         },
         "mode": "markers",
         "name": "Alicante - Ibiza",
         "orientation": "v",
         "showlegend": true,
         "type": "scatter",
         "x": [
          180.75196164560302
         ],
         "xaxis": "x",
         "y": [
          1992999
         ],
         "yaxis": "y"
        },
        {
         "hovertemplate": "<b>%{hovertext}</b><br><br>City_Pair_Name=Lanzarote - Santiago de Compostela<br>Distance (km)=%{x}<br>Combined Population 2016=%{y}<extra></extra>",
         "hovertext": [
          "Lanzarote - Santiago de Compostela"
         ],
         "legendgroup": "Lanzarote - Santiago de Compostela",
         "marker": {
          "color": "#EF553B",
          "symbol": "circle"
         },
         "mode": "markers",
         "name": "Lanzarote - Santiago de Compostela",
         "orientation": "v",
         "showlegend": true,
         "type": "scatter",
         "x": [
          1634.82497546176
         ],
         "xaxis": "x",
         "y": [
          1265879
         ],
         "yaxis": "y"
        },
        {
         "hovertemplate": "<b>%{hovertext}</b><br><br>City_Pair_Name=Leipzig - Stuttgart<br>Distance (km)=%{x}<br>Combined Population 2016=%{y}<extra></extra>",
         "hovertext": [
          "Leipzig - Stuttgart"
         ],
         "legendgroup": "Leipzig - Stuttgart",
         "marker": {
          "color": "#00cc96",
          "symbol": "circle"
         },
         "mode": "markers",
         "name": "Leipzig - Stuttgart",
         "orientation": "v",
         "showlegend": true,
         "type": "scatter",
         "x": [
          365.599553982107
         ],
         "xaxis": "x",
         "y": [
          1184210
         ],
         "yaxis": "y"
        },
        {
         "hovertemplate": "<b>%{hovertext}</b><br><br>City_Pair_Name=Friedrichshafen - Palma de Mallorca<br>Distance (km)=%{x}<br>Combined Population 2016=%{y}<extra></extra>",
         "hovertext": [
          "Friedrichshafen - Palma de Mallorca"
         ],
         "legendgroup": "Friedrichshafen - Palma de Mallorca",
         "marker": {
          "color": "#ab63fa",
          "symbol": "circle"
         },
         "mode": "markers",
         "name": "Friedrichshafen - Palma de Mallorca",
         "orientation": "v",
         "showlegend": true,
         "type": "scatter",
         "x": [
          1037.83092718897
         ],
         "xaxis": "x",
         "y": [
          1082535
         ],
         "yaxis": "y"
        },
        {
         "hovertemplate": "<b>%{hovertext}</b><br><br>City_Pair_Name=Eindhoven - Munich<br>Distance (km)=%{x}<br>Combined Population 2016=%{y}<extra></extra>",
         "hovertext": [
          "Eindhoven - Munich"
         ],
         "legendgroup": "Eindhoven - Munich",
         "marker": {
          "color": "#FFA15A",
          "symbol": "circle"
         },
         "mode": "markers",
         "name": "Eindhoven - Munich",
         "orientation": "v",
         "showlegend": true,
         "type": "scatter",
         "x": [
          564.640355751249
         ],
         "xaxis": "x",
         "y": [
          2206996
         ],
         "yaxis": "y"
        },
        {
         "hovertemplate": "<b>%{hovertext}</b><br><br>City_Pair_Name=Brussels - Stuttgart<br>Distance (km)=%{x}<br>Combined Population 2016=%{y}<extra></extra>",
         "hovertext": [
          "Brussels - Stuttgart"
         ],
         "legendgroup": "Brussels - Stuttgart",
         "marker": {
          "color": "#19d3f3",
          "symbol": "circle"
         },
         "mode": "markers",
         "name": "Brussels - Stuttgart",
         "orientation": "v",
         "showlegend": true,
         "type": "scatter",
         "x": [
          413.652512230641
         ],
         "xaxis": "x",
         "y": [
          1825023
         ],
         "yaxis": "y"
        },
        {
         "hovertemplate": "<b>%{hovertext}</b><br><br>City_Pair_Name=Amsterdam - Strasbourg<br>Distance (km)=%{x}<br>Combined Population 2016=%{y}<extra></extra>",
         "hovertext": [
          "Amsterdam - Strasbourg"
         ],
         "legendgroup": "Amsterdam - Strasbourg",
         "marker": {
          "color": "#FF6692",
          "symbol": "circle"
         },
         "mode": "markers",
         "name": "Amsterdam - Strasbourg",
         "orientation": "v",
         "showlegend": true,
         "type": "scatter",
         "x": [
          454.491339574473
         ],
         "xaxis": "x",
         "y": [
          2450979
         ],
         "yaxis": "y"
        },
        {
         "hovertemplate": "<b>%{hovertext}</b><br><br>City_Pair_Name=Santiago de Compostela - Seville<br>Distance (km)=%{x}<br>Combined Population 2016=%{y}<extra></extra>",
         "hovertext": [
          "Santiago de Compostela - Seville"
         ],
         "legendgroup": "Santiago de Compostela - Seville",
         "marker": {
          "color": "#B6E880",
          "symbol": "circle"
         },
         "mode": "markers",
         "name": "Santiago de Compostela - Seville",
         "orientation": "v",
         "showlegend": true,
         "type": "scatter",
         "x": [
          675.342268314775
         ],
         "xaxis": "x",
         "y": [
          3058605
         ],
         "yaxis": "y"
        },
        {
         "hovertemplate": "<b>%{hovertext}</b><br><br>City_Pair_Name=Leipzig - Tenerife South<br>Distance (km)=%{x}<br>Combined Population 2016=%{y}<extra></extra>",
         "hovertext": [
          "Leipzig - Tenerife South"
         ],
         "legendgroup": "Leipzig - Tenerife South",
         "marker": {
          "color": "#FF97FF",
          "symbol": "circle"
         },
         "mode": "markers",
         "name": "Leipzig - Tenerife South",
         "orientation": "v",
         "showlegend": true,
         "type": "scatter",
         "x": [
          3516.65460015536
         ],
         "xaxis": "x",
         "y": [
          1450730
         ],
         "yaxis": "y"
        },
        {
         "hovertemplate": "<b>%{hovertext}</b><br><br>City_Pair_Name=Asturias - Malaga<br>Distance (km)=%{x}<br>Combined Population 2016=%{y}<extra></extra>",
         "hovertext": [
          "Asturias - Malaga"
         ],
         "legendgroup": "Asturias - Malaga",
         "marker": {
          "color": "#FECB52",
          "symbol": "circle"
         },
         "mode": "markers",
         "name": "Asturias - Malaga",
         "orientation": "v",
         "showlegend": true,
         "type": "scatter",
         "x": [
          728.549560862294
         ],
         "xaxis": "x",
         "y": [
          2678785
         ],
         "yaxis": "y"
        },
        {
         "hovertemplate": "<b>%{hovertext}</b><br><br>City_Pair_Name=Bilbao - Ibiza<br>Distance (km)=%{x}<br>Combined Population 2016=%{y}<extra></extra>",
         "hovertext": [
          "Bilbao - Ibiza"
         ],
         "legendgroup": "Bilbao - Ibiza",
         "marker": {
          "color": "#636efa",
          "symbol": "circle"
         },
         "mode": "markers",
         "name": "Bilbao - Ibiza",
         "orientation": "v",
         "showlegend": true,
         "type": "scatter",
         "x": [
          592.73255530863
         ],
         "xaxis": "x",
         "y": [
          1295317
         ],
         "yaxis": "y"
        },
        {
         "hovertemplate": "<b>%{hovertext}</b><br><br>City_Pair_Name=Luxembourg City - Tenerife South<br>Distance (km)=%{x}<br>Combined Population 2016=%{y}<extra></extra>",
         "hovertext": [
          "Luxembourg City - Tenerife South"
         ],
         "legendgroup": "Luxembourg City - Tenerife South",
         "marker": {
          "color": "#EF553B",
          "symbol": "circle"
         },
         "mode": "markers",
         "name": "Luxembourg City - Tenerife South",
         "orientation": "v",
         "showlegend": true,
         "type": "scatter",
         "x": [
          3062.95589628877
         ],
         "xaxis": "x",
         "y": [
          1466507
         ],
         "yaxis": "y"
        },
        {
         "hovertemplate": "<b>%{hovertext}</b><br><br>City_Pair_Name=Lanzarote - Seville<br>Distance (km)=%{x}<br>Combined Population 2016=%{y}<extra></extra>",
         "hovertext": [
          "Lanzarote - Seville"
         ],
         "legendgroup": "Lanzarote - Seville",
         "marker": {
          "color": "#00cc96",
          "symbol": "circle"
         },
         "mode": "markers",
         "name": "Lanzarote - Seville",
         "orientation": "v",
         "showlegend": true,
         "type": "scatter",
         "x": [
          1191.7885882785
         ],
         "xaxis": "x",
         "y": [
          2078454
         ],
         "yaxis": "y"
        },
        {
         "hovertemplate": "<b>%{hovertext}</b><br><br>City_Pair_Name=Ajaccio - Lyon<br>Distance (km)=%{x}<br>Combined Population 2016=%{y}<extra></extra>",
         "hovertext": [
          "Ajaccio - Lyon"
         ],
         "legendgroup": "Ajaccio - Lyon",
         "marker": {
          "color": "#ab63fa",
          "symbol": "circle"
         },
         "mode": "markers",
         "name": "Ajaccio - Lyon",
         "orientation": "v",
         "showlegend": true,
         "type": "scatter",
         "x": [
          565.240552553474
         ],
         "xaxis": "x",
         "y": [
          1990206
         ],
         "yaxis": "y"
        },
        {
         "hovertemplate": "<b>%{hovertext}</b><br><br>City_Pair_Name=Frankfurt - Girona<br>Distance (km)=%{x}<br>Combined Population 2016=%{y}<extra></extra>",
         "hovertext": [
          "Frankfurt - Girona"
         ],
         "legendgroup": "Frankfurt - Girona",
         "marker": {
          "color": "#FFA15A",
          "symbol": "circle"
         },
         "mode": "markers",
         "name": "Frankfurt - Girona",
         "orientation": "v",
         "showlegend": true,
         "type": "scatter",
         "x": [
          955.1231634409271
         ],
         "xaxis": "x",
         "y": [
          848326
         ],
         "yaxis": "y"
        },
        {
         "hovertemplate": "<b>%{hovertext}</b><br><br>City_Pair_Name=Bastia - Lyon<br>Distance (km)=%{x}<br>Combined Population 2016=%{y}<extra></extra>",
         "hovertext": [
          "Bastia - Lyon"
         ],
         "legendgroup": "Bastia - Lyon",
         "marker": {
          "color": "#19d3f3",
          "symbol": "circle"
         },
         "mode": "markers",
         "name": "Bastia - Lyon",
         "orientation": "v",
         "showlegend": true,
         "type": "scatter",
         "x": [
          530.890477922378
         ],
         "xaxis": "x",
         "y": [
          2012055
         ],
         "yaxis": "y"
        },
        {
         "hovertemplate": "<b>%{hovertext}</b><br><br>City_Pair_Name=Charleroi - Valencia<br>Distance (km)=%{x}<br>Combined Population 2016=%{y}<extra></extra>",
         "hovertext": [
          "Charleroi - Valencia"
         ],
         "legendgroup": "Charleroi - Valencia",
         "marker": {
          "color": "#FF6692",
          "symbol": "circle"
         },
         "mode": "markers",
         "name": "Charleroi - Valencia",
         "orientation": "v",
         "showlegend": true,
         "type": "scatter",
         "x": [
          1301.08862809218
         ],
         "xaxis": "x",
         "y": [
          2958162
         ],
         "yaxis": "y"
        },
        {
         "hovertemplate": "<b>%{hovertext}</b><br><br>City_Pair_Name=Lille - Lyon<br>Distance (km)=%{x}<br>Combined Population 2016=%{y}<extra></extra>",
         "hovertext": [
          "Lille - Lyon"
         ],
         "legendgroup": "Lille - Lyon",
         "marker": {
          "color": "#B6E880",
          "symbol": "circle"
         },
         "mode": "markers",
         "name": "Lille - Lyon",
         "orientation": "v",
         "showlegend": true,
         "type": "scatter",
         "x": [
          519.81640116926
         ],
         "xaxis": "x",
         "y": [
          4439626
         ],
         "yaxis": "y"
        },
        {
         "hovertemplate": "<b>%{hovertext}</b><br><br>City_Pair_Name=A Coruna - Seville<br>Distance (km)=%{x}<br>Combined Population 2016=%{y}<extra></extra>",
         "hovertext": [
          "A Coruna - Seville"
         ],
         "legendgroup": "A Coruna - Seville",
         "marker": {
          "color": "#FF97FF",
          "symbol": "circle"
         },
         "mode": "markers",
         "name": "A Coruna - Seville",
         "orientation": "v",
         "showlegend": true,
         "type": "scatter",
         "x": [
          675.342268314775
         ],
         "xaxis": "x",
         "y": [
          3058605
         ],
         "yaxis": "y"
        },
        {
         "hovertemplate": "<b>%{hovertext}</b><br><br>City_Pair_Name=Charleroi - Montpellier<br>Distance (km)=%{x}<br>Combined Population 2016=%{y}<extra></extra>",
         "hovertext": [
          "Charleroi - Montpellier"
         ],
         "legendgroup": "Charleroi - Montpellier",
         "marker": {
          "color": "#FECB52",
          "symbol": "circle"
         },
         "mode": "markers",
         "name": "Charleroi - Montpellier",
         "orientation": "v",
         "showlegend": true,
         "type": "scatter",
         "x": [
          769.0017884155109
         ],
         "xaxis": "x",
         "y": [
          1564174
         ],
         "yaxis": "y"
        },
        {
         "hovertemplate": "<b>%{hovertext}</b><br><br>City_Pair_Name=Rennes - Toulouse<br>Distance (km)=%{x}<br>Combined Population 2016=%{y}<extra></extra>",
         "hovertext": [
          "Rennes - Toulouse"
         ],
         "legendgroup": "Rennes - Toulouse",
         "marker": {
          "color": "#636efa",
          "symbol": "circle"
         },
         "mode": "markers",
         "name": "Rennes - Toulouse",
         "orientation": "v",
         "showlegend": true,
         "type": "scatter",
         "x": [
          575.5887707637571
         ],
         "xaxis": "x",
         "y": [
          2399962
         ],
         "yaxis": "y"
        },
        {
         "hovertemplate": "<b>%{hovertext}</b><br><br>City_Pair_Name=Beauvais - Seville<br>Distance (km)=%{x}<br>Combined Population 2016=%{y}<extra></extra>",
         "hovertext": [
          "Beauvais - Seville"
         ],
         "legendgroup": "Beauvais - Seville",
         "marker": {
          "color": "#EF553B",
          "symbol": "circle"
         },
         "mode": "markers",
         "name": "Beauvais - Seville",
         "orientation": "v",
         "showlegend": true,
         "type": "scatter",
         "x": [
          1481.71594555137
         ],
         "xaxis": "x",
         "y": [
          2759132
         ],
         "yaxis": "y"
        },
        {
         "hovertemplate": "<b>%{hovertext}</b><br><br>City_Pair_Name=Lyon - Pau<br>Distance (km)=%{x}<br>Combined Population 2016=%{y}<extra></extra>",
         "hovertext": [
          "Lyon - Pau"
         ],
         "legendgroup": "Lyon - Pau",
         "marker": {
          "color": "#00cc96",
          "symbol": "circle"
         },
         "mode": "markers",
         "name": "Lyon - Pau",
         "orientation": "v",
         "showlegend": true,
         "type": "scatter",
         "x": [
          517.075811726689
         ],
         "xaxis": "x",
         "y": [
          2509889
         ],
         "yaxis": "y"
        },
        {
         "hovertemplate": "<b>%{hovertext}</b><br><br>City_Pair_Name=Charleroi - Santander<br>Distance (km)=%{x}<br>Combined Population 2016=%{y}<extra></extra>",
         "hovertext": [
          "Charleroi - Santander"
         ],
         "legendgroup": "Charleroi - Santander",
         "marker": {
          "color": "#ab63fa",
          "symbol": "circle"
         },
         "mode": "markers",
         "name": "Charleroi - Santander",
         "orientation": "v",
         "showlegend": true,
         "type": "scatter",
         "x": [
          1030.55883859542
         ],
         "xaxis": "x",
         "y": [
          1014187
         ],
         "yaxis": "y"
        },
        {
         "hovertemplate": "<b>%{hovertext}</b><br><br>City_Pair_Name=Bastia - Nantes<br>Distance (km)=%{x}<br>Combined Population 2016=%{y}<extra></extra>",
         "hovertext": [
          "Bastia - Nantes"
         ],
         "legendgroup": "Bastia - Nantes",
         "marker": {
          "color": "#FFA15A",
          "symbol": "circle"
         },
         "mode": "markers",
         "name": "Bastia - Nantes",
         "orientation": "v",
         "showlegend": true,
         "type": "scatter",
         "x": [
          1018.89883617044
         ],
         "xaxis": "x",
         "y": [
          1557004
         ],
         "yaxis": "y"
        },
        {
         "hovertemplate": "<b>%{hovertext}</b><br><br>City_Pair_Name=Marseille - Rennes<br>Distance (km)=%{x}<br>Combined Population 2016=%{y}<extra></extra>",
         "hovertext": [
          "Marseille - Rennes"
         ],
         "legendgroup": "Marseille - Rennes",
         "marker": {
          "color": "#19d3f3",
          "symbol": "circle"
         },
         "mode": "markers",
         "name": "Marseille - Rennes",
         "orientation": "v",
         "showlegend": true,
         "type": "scatter",
         "x": [
          729.8979058548979
         ],
         "xaxis": "x",
         "y": [
          3071496
         ],
         "yaxis": "y"
        },
        {
         "hovertemplate": "<b>%{hovertext}</b><br><br>City_Pair_Name=Bilbao - Menorca<br>Distance (km)=%{x}<br>Combined Population 2016=%{y}<extra></extra>",
         "hovertext": [
          "Bilbao - Menorca"
         ],
         "legendgroup": "Bilbao - Menorca",
         "marker": {
          "color": "#FF6692",
          "symbol": "circle"
         },
         "mode": "markers",
         "name": "Bilbao - Menorca",
         "orientation": "v",
         "showlegend": true,
         "type": "scatter",
         "x": [
          681.26282742219
         ],
         "xaxis": "x",
         "y": [
          1232084
         ],
         "yaxis": "y"
        },
        {
         "hovertemplate": "<b>%{hovertext}</b><br><br>City_Pair_Name=Eindhoven - Reus<br>Distance (km)=%{x}<br>Combined Population 2016=%{y}<extra></extra>",
         "hovertext": [
          "Eindhoven - Reus"
         ],
         "legendgroup": "Eindhoven - Reus",
         "marker": {
          "color": "#B6E880",
          "symbol": "circle"
         },
         "mode": "markers",
         "name": "Eindhoven - Reus",
         "orientation": "v",
         "showlegend": true,
         "type": "scatter",
         "x": [
          1203.33281331387
         ],
         "xaxis": "x",
         "y": [
          1548778
         ],
         "yaxis": "y"
        },
        {
         "hovertemplate": "<b>%{hovertext}</b><br><br>City_Pair_Name=Gran Canaria - Luxembourg City<br>Distance (km)=%{x}<br>Combined Population 2016=%{y}<extra></extra>",
         "hovertext": [
          "Gran Canaria - Luxembourg City"
         ],
         "legendgroup": "Gran Canaria - Luxembourg City",
         "marker": {
          "color": "#FF97FF",
          "symbol": "circle"
         },
         "mode": "markers",
         "name": "Gran Canaria - Luxembourg City",
         "orientation": "v",
         "showlegend": true,
         "type": "scatter",
         "x": [
          3044.62896632083
         ],
         "xaxis": "x",
         "y": [
          1423355
         ],
         "yaxis": "y"
        },
        {
         "hovertemplate": "<b>%{hovertext}</b><br><br>City_Pair_Name=Santiago de Compostela - Tenerife North<br>Distance (km)=%{x}<br>Combined Population 2016=%{y}<extra></extra>",
         "hovertext": [
          "Santiago de Compostela - Tenerife North"
         ],
         "legendgroup": "Santiago de Compostela - Tenerife North",
         "marker": {
          "color": "#FECB52",
          "symbol": "circle"
         },
         "mode": "markers",
         "name": "Santiago de Compostela - Tenerife North",
         "orientation": "v",
         "showlegend": true,
         "type": "scatter",
         "x": [
          1802.18189663588
         ],
         "xaxis": "x",
         "y": [
          2013273
         ],
         "yaxis": "y"
        },
        {
         "hovertemplate": "<b>%{hovertext}</b><br><br>City_Pair_Name=Fuerteventura - Nuremberg<br>Distance (km)=%{x}<br>Combined Population 2016=%{y}<extra></extra>",
         "hovertext": [
          "Fuerteventura - Nuremberg"
         ],
         "legendgroup": "Fuerteventura - Nuremberg",
         "marker": {
          "color": "#636efa",
          "symbol": "circle"
         },
         "mode": "markers",
         "name": "Fuerteventura - Nuremberg",
         "orientation": "v",
         "showlegend": true,
         "type": "scatter",
         "x": [
          3162.56204162107
         ],
         "xaxis": "x",
         "y": [
          619899
         ],
         "yaxis": "y"
        },
        {
         "hovertemplate": "<b>%{hovertext}</b><br><br>City_Pair_Name=Marseille - Toulouse<br>Distance (km)=%{x}<br>Combined Population 2016=%{y}<extra></extra>",
         "hovertext": [
          "Marseille - Toulouse"
         ],
         "legendgroup": "Marseille - Toulouse",
         "marker": {
          "color": "#EF553B",
          "symbol": "circle"
         },
         "mode": "markers",
         "name": "Marseille - Toulouse",
         "orientation": "v",
         "showlegend": true,
         "type": "scatter",
         "x": [
          316.549549924394
         ],
         "xaxis": "x",
         "y": [
          3367900
         ],
         "yaxis": "y"
        },
        {
         "hovertemplate": "<b>%{hovertext}</b><br><br>City_Pair_Name=Girona - Karlsruhe/Baden-Baden<br>Distance (km)=%{x}<br>Combined Population 2016=%{y}<extra></extra>",
         "hovertext": [
          "Girona - Karlsruhe/Baden-Baden"
         ],
         "legendgroup": "Girona - Karlsruhe/Baden-Baden",
         "marker": {
          "color": "#00cc96",
          "symbol": "circle"
         },
         "mode": "markers",
         "name": "Girona - Karlsruhe/Baden-Baden",
         "orientation": "v",
         "showlegend": true,
         "type": "scatter",
         "x": [
          885.537103563917
         ],
         "xaxis": "x",
         "y": [
          1053552
         ],
         "yaxis": "y"
        },
        {
         "hovertemplate": "<b>%{hovertext}</b><br><br>City_Pair_Name=Ajaccio - Bordeaux<br>Distance (km)=%{x}<br>Combined Population 2016=%{y}<extra></extra>",
         "hovertext": [
          "Ajaccio - Bordeaux"
         ],
         "legendgroup": "Ajaccio - Bordeaux",
         "marker": {
          "color": "#ab63fa",
          "symbol": "circle"
         },
         "mode": "markers",
         "name": "Ajaccio - Bordeaux",
         "orientation": "v",
         "showlegend": true,
         "type": "scatter",
         "x": [
          839.654296574013
         ],
         "xaxis": "x",
         "y": [
          1720982
         ],
         "yaxis": "y"
        },
        {
         "hovertemplate": "<b>%{hovertext}</b><br><br>City_Pair_Name=Eindhoven - Lanzarote<br>Distance (km)=%{x}<br>Combined Population 2016=%{y}<extra></extra>",
         "hovertext": [
          "Eindhoven - Lanzarote"
         ],
         "legendgroup": "Eindhoven - Lanzarote",
         "marker": {
          "color": "#FFA15A",
          "symbol": "circle"
         },
         "mode": "markers",
         "name": "Eindhoven - Lanzarote",
         "orientation": "v",
         "showlegend": true,
         "type": "scatter",
         "x": [
          2954.46019524414
         ],
         "xaxis": "x",
         "y": [
          899479
         ],
         "yaxis": "y"
        },
        {
         "hovertemplate": "<b>%{hovertext}</b><br><br>City_Pair_Name=Charleroi - Figari<br>Distance (km)=%{x}<br>Combined Population 2016=%{y}<extra></extra>",
         "hovertext": [
          "Charleroi - Figari"
         ],
         "legendgroup": "Charleroi - Figari",
         "marker": {
          "color": "#19d3f3",
          "symbol": "circle"
         },
         "mode": "markers",
         "name": "Charleroi - Figari",
         "orientation": "v",
         "showlegend": true,
         "type": "scatter",
         "x": [
          1017.8563071197401
         ],
         "xaxis": "x",
         "y": [
          585996
         ],
         "yaxis": "y"
        },
        {
         "hovertemplate": "<b>%{hovertext}</b><br><br>City_Pair_Name=Calvi - Marseille<br>Distance (km)=%{x}<br>Combined Population 2016=%{y}<extra></extra>",
         "hovertext": [
          "Calvi - Marseille"
         ],
         "legendgroup": "Calvi - Marseille",
         "marker": {
          "color": "#FF6692",
          "symbol": "circle"
         },
         "mode": "markers",
         "name": "Calvi - Marseille",
         "orientation": "v",
         "showlegend": true,
         "type": "scatter",
         "x": [
          358.648431328745
         ],
         "xaxis": "x",
         "y": [
          2195869
         ],
         "yaxis": "y"
        },
        {
         "hovertemplate": "<b>%{hovertext}</b><br><br>City_Pair_Name=Hannover - Lanzarote<br>Distance (km)=%{x}<br>Combined Population 2016=%{y}<extra></extra>",
         "hovertext": [
          "Hannover - Lanzarote"
         ],
         "legendgroup": "Hannover - Lanzarote",
         "marker": {
          "color": "#B6E880",
          "symbol": "circle"
         },
         "mode": "markers",
         "name": "Hannover - Lanzarote",
         "orientation": "v",
         "showlegend": true,
         "type": "scatter",
         "x": [
          3232.12079702848
         ],
         "xaxis": "x",
         "y": [
          1287345
         ],
         "yaxis": "y"
        },
        {
         "hovertemplate": "<b>%{hovertext}</b><br><br>City_Pair_Name=Menorca - Valencia<br>Distance (km)=%{x}<br>Combined Population 2016=%{y}<extra></extra>",
         "hovertext": [
          "Menorca - Valencia"
         ],
         "legendgroup": "Menorca - Valencia",
         "marker": {
          "color": "#FF97FF",
          "symbol": "circle"
         },
         "mode": "markers",
         "name": "Menorca - Valencia",
         "orientation": "v",
         "showlegend": true,
         "type": "scatter",
         "x": [
          421.378415481104
         ],
         "xaxis": "x",
         "y": [
          2618362
         ],
         "yaxis": "y"
        },
        {
         "hovertemplate": "<b>%{hovertext}</b><br><br>City_Pair_Name=Beauvais - Beziers<br>Distance (km)=%{x}<br>Combined Population 2016=%{y}<extra></extra>",
         "hovertext": [
          "Beauvais - Beziers"
         ],
         "legendgroup": "Beauvais - Beziers",
         "marker": {
          "color": "#FECB52",
          "symbol": "circle"
         },
         "mode": "markers",
         "name": "Beauvais - Beziers",
         "orientation": "v",
         "showlegend": true,
         "type": "scatter",
         "x": [
          652.313090978898
         ],
         "xaxis": "x",
         "y": [
          1956023
         ],
         "yaxis": "y"
        },
        {
         "hovertemplate": "<b>%{hovertext}</b><br><br>City_Pair_Name=Basel/Mulhouse - Madrid<br>Distance (km)=%{x}<br>Combined Population 2016=%{y}<extra></extra>",
         "hovertext": [
          "Basel/Mulhouse - Madrid"
         ],
         "legendgroup": "Basel/Mulhouse - Madrid",
         "marker": {
          "color": "#636efa",
          "symbol": "circle"
         },
         "mode": "markers",
         "name": "Basel/Mulhouse - Madrid",
         "orientation": "v",
         "showlegend": true,
         "type": "scatter",
         "x": [
          1197.31580560411
         ],
         "xaxis": "x",
         "y": [
          7174209
         ],
         "yaxis": "y"
        },
        {
         "hovertemplate": "<b>%{hovertext}</b><br><br>City_Pair_Name=Ibiza - Seville<br>Distance (km)=%{x}<br>Combined Population 2016=%{y}<extra></extra>",
         "hovertext": [
          "Ibiza - Seville"
         ],
         "legendgroup": "Ibiza - Seville",
         "marker": {
          "color": "#EF553B",
          "symbol": "circle"
         },
         "mode": "markers",
         "name": "Ibiza - Seville",
         "orientation": "v",
         "showlegend": true,
         "type": "scatter",
         "x": [
          643.0346379367251
         ],
         "xaxis": "x",
         "y": [
          2090716
         ],
         "yaxis": "y"
        },
        {
         "hovertemplate": "<b>%{hovertext}</b><br><br>City_Pair_Name=Basel/Mulhouse - Brussels<br>Distance (km)=%{x}<br>Combined Population 2016=%{y}<extra></extra>",
         "hovertext": [
          "Basel/Mulhouse - Brussels"
         ],
         "legendgroup": "Basel/Mulhouse - Brussels",
         "marker": {
          "color": "#00cc96",
          "symbol": "circle"
         },
         "mode": "markers",
         "name": "Basel/Mulhouse - Brussels",
         "orientation": "v",
         "showlegend": true,
         "type": "scatter",
         "x": [
          392.198870689918
         ],
         "xaxis": "x",
         "y": [
          1964028
         ],
         "yaxis": "y"
        },
        {
         "hovertemplate": "<b>%{hovertext}</b><br><br>City_Pair_Name=Eindhoven - Marseille<br>Distance (km)=%{x}<br>Combined Population 2016=%{y}<extra></extra>",
         "hovertext": [
          "Eindhoven - Marseille"
         ],
         "legendgroup": "Eindhoven - Marseille",
         "marker": {
          "color": "#ab63fa",
          "symbol": "circle"
         },
         "mode": "markers",
         "name": "Eindhoven - Marseille",
         "orientation": "v",
         "showlegend": true,
         "type": "scatter",
         "x": [
          876.153846285104
         ],
         "xaxis": "x",
         "y": [
          2776332
         ],
         "yaxis": "y"
        },
        {
         "hovertemplate": "<b>%{hovertext}</b><br><br>City_Pair_Name=Ibiza - Rotterdam<br>Distance (km)=%{x}<br>Combined Population 2016=%{y}<extra></extra>",
         "hovertext": [
          "Ibiza - Rotterdam"
         ],
         "legendgroup": "Ibiza - Rotterdam",
         "marker": {
          "color": "#FFA15A",
          "symbol": "circle"
         },
         "mode": "markers",
         "name": "Ibiza - Rotterdam",
         "orientation": "v",
         "showlegend": true,
         "type": "scatter",
         "x": [
          1446.8054725242
         ],
         "xaxis": "x",
         "y": [
          1567448
         ],
         "yaxis": "y"
        },
        {
         "hovertemplate": "<b>%{hovertext}</b><br><br>City_Pair_Name=Beauvais - Girona<br>Distance (km)=%{x}<br>Combined Population 2016=%{y}<extra></extra>",
         "hovertext": [
          "Beauvais - Girona"
         ],
         "legendgroup": "Beauvais - Girona",
         "marker": {
          "color": "#19d3f3",
          "symbol": "circle"
         },
         "mode": "markers",
         "name": "Beauvais - Girona",
         "orientation": "v",
         "showlegend": true,
         "type": "scatter",
         "x": [
          809.947365669876
         ],
         "xaxis": "x",
         "y": [
          1569339
         ],
         "yaxis": "y"
        },
        {
         "hovertemplate": "<b>%{hovertext}</b><br><br>City_Pair_Name=Seville - Toulouse<br>Distance (km)=%{x}<br>Combined Population 2016=%{y}<extra></extra>",
         "hovertext": [
          "Seville - Toulouse"
         ],
         "legendgroup": "Seville - Toulouse",
         "marker": {
          "color": "#FF6692",
          "symbol": "circle"
         },
         "mode": "markers",
         "name": "Seville - Toulouse",
         "orientation": "v",
         "showlegend": true,
         "type": "scatter",
         "x": [
          877.388681201478
         ],
         "xaxis": "x",
         "y": [
          3283773
         ],
         "yaxis": "y"
        },
        {
         "hovertemplate": "<b>%{hovertext}</b><br><br>City_Pair_Name=Charleroi - Ibiza<br>Distance (km)=%{x}<br>Combined Population 2016=%{y}<extra></extra>",
         "hovertext": [
          "Charleroi - Ibiza"
         ],
         "legendgroup": "Charleroi - Ibiza",
         "marker": {
          "color": "#B6E880",
          "symbol": "circle"
         },
         "mode": "markers",
         "name": "Charleroi - Ibiza",
         "orientation": "v",
         "showlegend": true,
         "type": "scatter",
         "x": [
          1297.52228294799
         ],
         "xaxis": "x",
         "y": [
          586819
         ],
         "yaxis": "y"
        },
        {
         "hovertemplate": "<b>%{hovertext}</b><br><br>City_Pair_Name=Basel/Mulhouse - Gran Canaria<br>Distance (km)=%{x}<br>Combined Population 2016=%{y}<extra></extra>",
         "hovertext": [
          "Basel/Mulhouse - Gran Canaria"
         ],
         "legendgroup": "Basel/Mulhouse - Gran Canaria",
         "marker": {
          "color": "#FF97FF",
          "symbol": "circle"
         },
         "mode": "markers",
         "name": "Basel/Mulhouse - Gran Canaria",
         "orientation": "v",
         "showlegend": true,
         "type": "scatter",
         "x": [
          2964.49031605643
         ],
         "xaxis": "x",
         "y": [
          1609849
         ],
         "yaxis": "y"
        },
        {
         "hovertemplate": "<b>%{hovertext}</b><br><br>City_Pair_Name=Lille - Nantes<br>Distance (km)=%{x}<br>Combined Population 2016=%{y}<extra></extra>",
         "hovertext": [
          "Lille - Nantes"
         ],
         "legendgroup": "Lille - Nantes",
         "marker": {
          "color": "#FECB52",
          "symbol": "circle"
         },
         "mode": "markers",
         "name": "Lille - Nantes",
         "orientation": "v",
         "showlegend": true,
         "type": "scatter",
         "x": [
          495.963531176512
         ],
         "xaxis": "x",
         "y": [
          3984575
         ],
         "yaxis": "y"
        },
        {
         "hovertemplate": "<b>%{hovertext}</b><br><br>City_Pair_Name=Marseille - Seville<br>Distance (km)=%{x}<br>Combined Population 2016=%{y}<extra></extra>",
         "hovertext": [
          "Marseille - Seville"
         ],
         "legendgroup": "Marseille - Seville",
         "marker": {
          "color": "#636efa",
          "symbol": "circle"
         },
         "mode": "markers",
         "name": "Marseille - Seville",
         "orientation": "v",
         "showlegend": true,
         "type": "scatter",
         "x": [
          1134.58015441339
         ],
         "xaxis": "x",
         "y": [
          3955307
         ],
         "yaxis": "y"
        },
        {
         "hovertemplate": "<b>%{hovertext}</b><br><br>City_Pair_Name=Charleroi - Perpignan<br>Distance (km)=%{x}<br>Combined Population 2016=%{y}<extra></extra>",
         "hovertext": [
          "Charleroi - Perpignan"
         ],
         "legendgroup": "Charleroi - Perpignan",
         "marker": {
          "color": "#EF553B",
          "symbol": "circle"
         },
         "mode": "markers",
         "name": "Charleroi - Perpignan",
         "orientation": "v",
         "showlegend": true,
         "type": "scatter",
         "x": [
          885.565386276061
         ],
         "xaxis": "x",
         "y": [
          906062
         ],
         "yaxis": "y"
        },
        {
         "hovertemplate": "<b>%{hovertext}</b><br><br>City_Pair_Name=Lyon - Metz-Nancy-Lorraine<br>Distance (km)=%{x}<br>Combined Population 2016=%{y}<extra></extra>",
         "hovertext": [
          "Lyon - Metz-Nancy-Lorraine"
         ],
         "legendgroup": "Lyon - Metz-Nancy-Lorraine",
         "marker": {
          "color": "#00cc96",
          "symbol": "circle"
         },
         "mode": "markers",
         "name": "Lyon - Metz-Nancy-Lorraine",
         "orientation": "v",
         "showlegend": true,
         "type": "scatter",
         "x": [
          383.6083020942321
         ],
         "xaxis": "x",
         "y": [
          2881174
         ],
         "yaxis": "y"
        },
        {
         "hovertemplate": "<b>%{hovertext}</b><br><br>City_Pair_Name=Alicante - Basel/Mulhouse<br>Distance (km)=%{x}<br>Combined Population 2016=%{y}<extra></extra>",
         "hovertext": [
          "Alicante - Basel/Mulhouse"
         ],
         "legendgroup": "Alicante - Basel/Mulhouse",
         "marker": {
          "color": "#ab63fa",
          "symbol": "circle"
         },
         "mode": "markers",
         "name": "Alicante - Basel/Mulhouse",
         "orientation": "v",
         "showlegend": true,
         "type": "scatter",
         "x": [
          1220.25742041435
         ],
         "xaxis": "x",
         "y": [
          2600616
         ],
         "yaxis": "y"
        },
        {
         "hovertemplate": "<b>%{hovertext}</b><br><br>City_Pair_Name=Beauvais - Valencia<br>Distance (km)=%{x}<br>Combined Population 2016=%{y}<extra></extra>",
         "hovertext": [
          "Beauvais - Valencia"
         ],
         "legendgroup": "Beauvais - Valencia",
         "marker": {
          "color": "#FFA15A",
          "symbol": "circle"
         },
         "mode": "markers",
         "name": "Beauvais - Valencia",
         "orientation": "v",
         "showlegend": true,
         "type": "scatter",
         "x": [
          1147.6513242462402
         ],
         "xaxis": "x",
         "y": [
          3350011
         ],
         "yaxis": "y"
        },
        {
         "hovertemplate": "<b>%{hovertext}</b><br><br>City_Pair_Name=Charleroi - Zaragoza<br>Distance (km)=%{x}<br>Combined Population 2016=%{y}<extra></extra>",
         "hovertext": [
          "Charleroi - Zaragoza"
         ],
         "legendgroup": "Charleroi - Zaragoza",
         "marker": {
          "color": "#19d3f3",
          "symbol": "circle"
         },
         "mode": "markers",
         "name": "Charleroi - Zaragoza",
         "orientation": "v",
         "showlegend": true,
         "type": "scatter",
         "x": [
          1069.19608283994
         ],
         "xaxis": "x",
         "y": [
          1391863
         ],
         "yaxis": "y"
        },
        {
         "hovertemplate": "<b>%{hovertext}</b><br><br>City_Pair_Name=Valencia - Weeze<br>Distance (km)=%{x}<br>Combined Population 2016=%{y}<extra></extra>",
         "hovertext": [
          "Valencia - Weeze"
         ],
         "legendgroup": "Valencia - Weeze",
         "marker": {
          "color": "#FF6692",
          "symbol": "circle"
         },
         "mode": "markers",
         "name": "Valencia - Weeze",
         "orientation": "v",
         "showlegend": true,
         "type": "scatter",
         "x": [
          1472.86148632271
         ],
         "xaxis": "x",
         "y": [
          2836806
         ],
         "yaxis": "y"
        },
        {
         "hovertemplate": "<b>%{hovertext}</b><br><br>City_Pair_Name=Luxembourg City - Paris<br>Distance (km)=%{x}<br>Combined Population 2016=%{y}<extra></extra>",
         "hovertext": [
          "Luxembourg City - Paris"
         ],
         "legendgroup": "Luxembourg City - Paris",
         "marker": {
          "color": "#B6E880",
          "symbol": "circle"
         },
         "mode": "markers",
         "name": "Luxembourg City - Paris",
         "orientation": "v",
         "showlegend": true,
         "type": "scatter",
         "x": [
          296.646276176254
         ],
         "xaxis": "x",
         "y": [
          1798172
         ],
         "yaxis": "y"
        },
        {
         "hovertemplate": "<b>%{hovertext}</b><br><br>City_Pair_Name=Lyon - Marseille<br>Distance (km)=%{x}<br>Combined Population 2016=%{y}<extra></extra>",
         "hovertext": [
          "Lyon - Marseille"
         ],
         "legendgroup": "Lyon - Marseille",
         "marker": {
          "color": "#FF97FF",
          "symbol": "circle"
         },
         "mode": "markers",
         "name": "Lyon - Marseille",
         "orientation": "v",
         "showlegend": true,
         "type": "scatter",
         "x": [
          261.018665010324
         ],
         "xaxis": "x",
         "y": [
          3855620
         ],
         "yaxis": "y"
        },
        {
         "hovertemplate": "<b>%{hovertext}</b><br><br>City_Pair_Name=Lanzarote - Luxembourg City<br>Distance (km)=%{x}<br>Combined Population 2016=%{y}<extra></extra>",
         "hovertext": [
          "Lanzarote - Luxembourg City"
         ],
         "legendgroup": "Lanzarote - Luxembourg City",
         "marker": {
          "color": "#FECB52",
          "symbol": "circle"
         },
         "mode": "markers",
         "name": "Lanzarote - Luxembourg City",
         "orientation": "v",
         "showlegend": true,
         "type": "scatter",
         "x": [
          2844.81371898429
         ],
         "xaxis": "x",
         "y": [
          719113
         ],
         "yaxis": "y"
        },
        {
         "hovertemplate": "<b>%{hovertext}</b><br><br>City_Pair_Name=Fuerteventura - Nantes<br>Distance (km)=%{x}<br>Combined Population 2016=%{y}<extra></extra>",
         "hovertext": [
          "Fuerteventura - Nantes"
         ],
         "legendgroup": "Fuerteventura - Nantes",
         "marker": {
          "color": "#636efa",
          "symbol": "circle"
         },
         "mode": "markers",
         "name": "Fuerteventura - Nantes",
         "orientation": "v",
         "showlegend": true,
         "type": "scatter",
         "x": [
          2363.70133929858
         ],
         "xaxis": "x",
         "y": [
          1490776
         ],
         "yaxis": "y"
        },
        {
         "hovertemplate": "<b>%{hovertext}</b><br><br>City_Pair_Name=Caen - Lyon<br>Distance (km)=%{x}<br>Combined Population 2016=%{y}<extra></extra>",
         "hovertext": [
          "Caen - Lyon"
         ],
         "legendgroup": "Caen - Lyon",
         "marker": {
          "color": "#EF553B",
          "symbol": "circle"
         },
         "mode": "markers",
         "name": "Caen - Lyon",
         "orientation": "v",
         "showlegend": true,
         "type": "scatter",
         "x": [
          519.8460442083228
         ],
         "xaxis": "x",
         "y": [
          2529582
         ],
         "yaxis": "y"
        },
        {
         "hovertemplate": "<b>%{hovertext}</b><br><br>City_Pair_Name=Bordeaux - Brussels<br>Distance (km)=%{x}<br>Combined Population 2016=%{y}<extra></extra>",
         "hovertext": [
          "Bordeaux - Brussels"
         ],
         "legendgroup": "Bordeaux - Brussels",
         "marker": {
          "color": "#00cc96",
          "symbol": "circle"
         },
         "mode": "markers",
         "name": "Bordeaux - Brussels",
         "orientation": "v",
         "showlegend": true,
         "type": "scatter",
         "x": [
          763.513098592753
         ],
         "xaxis": "x",
         "y": [
          2767964
         ],
         "yaxis": "y"
        },
        {
         "hovertemplate": "<b>%{hovertext}</b><br><br>City_Pair_Name=Lanzarote - Weeze<br>Distance (km)=%{x}<br>Combined Population 2016=%{y}<extra></extra>",
         "hovertext": [
          "Lanzarote - Weeze"
         ],
         "legendgroup": "Lanzarote - Weeze",
         "marker": {
          "color": "#ab63fa",
          "symbol": "circle"
         },
         "mode": "markers",
         "name": "Lanzarote - Weeze",
         "orientation": "v",
         "showlegend": true,
         "type": "scatter",
         "x": [
          3007.6211477327
         ],
         "xaxis": "x",
         "y": [
          453201
         ],
         "yaxis": "y"
        },
        {
         "hovertemplate": "<b>%{hovertext}</b><br><br>City_Pair_Name=Ajaccio - Toulouse<br>Distance (km)=%{x}<br>Combined Population 2016=%{y}<extra></extra>",
         "hovertext": [
          "Ajaccio - Toulouse"
         ],
         "legendgroup": "Ajaccio - Toulouse",
         "marker": {
          "color": "#FFA15A",
          "symbol": "circle"
         },
         "mode": "markers",
         "name": "Ajaccio - Toulouse",
         "orientation": "v",
         "showlegend": true,
         "type": "scatter",
         "x": [
          660.4400007128651
         ],
         "xaxis": "x",
         "y": [
          1502486
         ],
         "yaxis": "y"
        },
        {
         "hovertemplate": "<b>%{hovertext}</b><br><br>City_Pair_Name=Hannover - Jerez<br>Distance (km)=%{x}<br>Combined Population 2016=%{y}<extra></extra>",
         "hovertext": [
          "Hannover - Jerez"
         ],
         "legendgroup": "Hannover - Jerez",
         "marker": {
          "color": "#19d3f3",
          "symbol": "circle"
         },
         "mode": "markers",
         "name": "Hannover - Jerez",
         "orientation": "v",
         "showlegend": true,
         "type": "scatter",
         "x": [
          2139.86979228146
         ],
         "xaxis": "x",
         "y": [
          2388956
         ],
         "yaxis": "y"
        },
        {
         "hovertemplate": "<b>%{hovertext}</b><br><br>City_Pair_Name=Ibiza - Weeze<br>Distance (km)=%{x}<br>Combined Population 2016=%{y}<extra></extra>",
         "hovertext": [
          "Ibiza - Weeze"
         ],
         "legendgroup": "Ibiza - Weeze",
         "marker": {
          "color": "#FF6692",
          "symbol": "circle"
         },
         "mode": "markers",
         "name": "Ibiza - Weeze",
         "orientation": "v",
         "showlegend": true,
         "type": "scatter",
         "x": [
          1457.94016022855
         ],
         "xaxis": "x",
         "y": [
          465463
         ],
         "yaxis": "y"
        },
        {
         "hovertemplate": "<b>%{hovertext}</b><br><br>City_Pair_Name=Basel/Mulhouse - Tenerife South<br>Distance (km)=%{x}<br>Combined Population 2016=%{y}<extra></extra>",
         "hovertext": [
          "Basel/Mulhouse - Tenerife South"
         ],
         "legendgroup": "Basel/Mulhouse - Tenerife South",
         "marker": {
          "color": "#B6E880",
          "symbol": "circle"
         },
         "mode": "markers",
         "name": "Basel/Mulhouse - Tenerife South",
         "orientation": "v",
         "showlegend": true,
         "type": "scatter",
         "x": [
          2990.23734712868
         ],
         "xaxis": "x",
         "y": [
          1653001
         ],
         "yaxis": "y"
        },
        {
         "hovertemplate": "<b>%{hovertext}</b><br><br>City_Pair_Name=Frankfurt - Santiago de Compostela<br>Distance (km)=%{x}<br>Combined Population 2016=%{y}<extra></extra>",
         "hovertext": [
          "Frankfurt - Santiago de Compostela"
         ],
         "legendgroup": "Frankfurt - Santiago de Compostela",
         "marker": {
          "color": "#FF97FF",
          "symbol": "circle"
         },
         "mode": "markers",
         "name": "Frankfurt - Santiago de Compostela",
         "orientation": "v",
         "showlegend": true,
         "type": "scatter",
         "x": [
          1437.7794954941999
         ],
         "xaxis": "x",
         "y": [
          1225544
         ],
         "yaxis": "y"
        },
        {
         "hovertemplate": "<b>%{hovertext}</b><br><br>City_Pair_Name=Bremen - Girona<br>Distance (km)=%{x}<br>Combined Population 2016=%{y}<extra></extra>",
         "hovertext": [
          "Bremen - Girona"
         ],
         "legendgroup": "Bremen - Girona",
         "marker": {
          "color": "#FECB52",
          "symbol": "circle"
         },
         "mode": "markers",
         "name": "Bremen - Girona",
         "orientation": "v",
         "showlegend": true,
         "type": "scatter",
         "x": [
          1302.96270842435
         ],
         "xaxis": "x",
         "y": [
          1303261
         ],
         "yaxis": "y"
        },
        {
         "hovertemplate": "<b>%{hovertext}</b><br><br>City_Pair_Name=DÃ¼sseldorf - Valencia<br>Distance (km)=%{x}<br>Combined Population 2016=%{y}<extra></extra>",
         "hovertext": [
          "DÃ¼sseldorf - Valencia"
         ],
         "legendgroup": "DÃ¼sseldorf - Valencia",
         "marker": {
          "color": "#636efa",
          "symbol": "circle"
         },
         "mode": "markers",
         "name": "DÃ¼sseldorf - Valencia",
         "orientation": "v",
         "showlegend": true,
         "type": "scatter",
         "x": [
          1447.79689998405
         ],
         "xaxis": "x",
         "y": [
          3138647
         ],
         "yaxis": "y"
        },
        {
         "hovertemplate": "<b>%{hovertext}</b><br><br>City_Pair_Name=Brussels - Ibiza<br>Distance (km)=%{x}<br>Combined Population 2016=%{y}<extra></extra>",
         "hovertext": [
          "Brussels - Ibiza"
         ],
         "legendgroup": "Brussels - Ibiza",
         "marker": {
          "color": "#EF553B",
          "symbol": "circle"
         },
         "mode": "markers",
         "name": "Brussels - Ibiza",
         "orientation": "v",
         "showlegend": true,
         "type": "scatter",
         "x": [
          1338.1497021893401
         ],
         "xaxis": "x",
         "y": [
          1356411
         ],
         "yaxis": "y"
        },
        {
         "hovertemplate": "<b>%{hovertext}</b><br><br>City_Pair_Name=Gran Canaria - Nuremberg<br>Distance (km)=%{x}<br>Combined Population 2016=%{y}<extra></extra>",
         "hovertext": [
          "Gran Canaria - Nuremberg"
         ],
         "legendgroup": "Gran Canaria - Nuremberg",
         "marker": {
          "color": "#00cc96",
          "symbol": "circle"
         },
         "mode": "markers",
         "name": "Gran Canaria - Nuremberg",
         "orientation": "v",
         "showlegend": true,
         "type": "scatter",
         "x": [
          3292.49165259962
         ],
         "xaxis": "x",
         "y": [
          1357081
         ],
         "yaxis": "y"
        },
        {
         "hovertemplate": "<b>%{hovertext}</b><br><br>City_Pair_Name=Malaga - Nantes<br>Distance (km)=%{x}<br>Combined Population 2016=%{y}<extra></extra>",
         "hovertext": [
          "Malaga - Nantes"
         ],
         "legendgroup": "Malaga - Nantes",
         "marker": {
          "color": "#ab63fa",
          "symbol": "circle"
         },
         "mode": "markers",
         "name": "Malaga - Nantes",
         "orientation": "v",
         "showlegend": true,
         "type": "scatter",
         "x": [
          1199.31167988579
         ],
         "xaxis": "x",
         "y": [
          3019230
         ],
         "yaxis": "y"
        },
        {
         "hovertemplate": "<b>%{hovertext}</b><br><br>City_Pair_Name=DÃ¼sseldorf - Lyon<br>Distance (km)=%{x}<br>Combined Population 2016=%{y}<extra></extra>",
         "hovertext": [
          "DÃ¼sseldorf - Lyon"
         ],
         "legendgroup": "DÃ¼sseldorf - Lyon",
         "marker": {
          "color": "#FFA15A",
          "symbol": "circle"
         },
         "mode": "markers",
         "name": "DÃ¼sseldorf - Lyon",
         "orientation": "v",
         "showlegend": true,
         "type": "scatter",
         "x": [
          617.659300810351
         ],
         "xaxis": "x",
         "y": [
          2448081
         ],
         "yaxis": "y"
        },
        {
         "hovertemplate": "<b>%{hovertext}</b><br><br>City_Pair_Name=Asturias - Seville<br>Distance (km)=%{x}<br>Combined Population 2016=%{y}<extra></extra>",
         "hovertext": [
          "Asturias - Seville"
         ],
         "legendgroup": "Asturias - Seville",
         "marker": {
          "color": "#19d3f3",
          "symbol": "circle"
         },
         "mode": "markers",
         "name": "Asturias - Seville",
         "orientation": "v",
         "showlegend": true,
         "type": "scatter",
         "x": [
          651.964369121194
         ],
         "xaxis": "x",
         "y": [
          2975997
         ],
         "yaxis": "y"
        },
        {
         "hovertemplate": "<b>%{hovertext}</b><br><br>City_Pair_Name=Asturias - Palma de Mallorca<br>Distance (km)=%{x}<br>Combined Population 2016=%{y}<extra></extra>",
         "hovertext": [
          "Asturias - Palma de Mallorca"
         ],
         "legendgroup": "Asturias - Palma de Mallorca",
         "marker": {
          "color": "#FF6692",
          "symbol": "circle"
         },
         "mode": "markers",
         "name": "Asturias - Palma de Mallorca",
         "orientation": "v",
         "showlegend": true,
         "type": "scatter",
         "x": [
          850.061001329588
         ],
         "xaxis": "x",
         "y": [
          1910741
         ],
         "yaxis": "y"
        },
        {
         "hovertemplate": "<b>%{hovertext}</b><br><br>City_Pair_Name=Bilbao - Santiago de Compostela<br>Distance (km)=%{x}<br>Combined Population 2016=%{y}<extra></extra>",
         "hovertext": [
          "Bilbao - Santiago de Compostela"
         ],
         "legendgroup": "Bilbao - Santiago de Compostela",
         "marker": {
          "color": "#B6E880",
          "symbol": "circle"
         },
         "mode": "markers",
         "name": "Bilbao - Santiago de Compostela",
         "orientation": "v",
         "showlegend": true,
         "type": "scatter",
         "x": [
          455.457235337756
         ],
         "xaxis": "x",
         "y": [
          2263206
         ],
         "yaxis": "y"
        },
        {
         "hovertemplate": "<b>%{hovertext}</b><br><br>City_Pair_Name=Lanzarote - Paris<br>Distance (km)=%{x}<br>Combined Population 2016=%{y}<extra></extra>",
         "hovertext": [
          "Lanzarote - Paris"
         ],
         "legendgroup": "Lanzarote - Paris",
         "marker": {
          "color": "#FF97FF",
          "symbol": "circle"
         },
         "mode": "markers",
         "name": "Lanzarote - Paris",
         "orientation": "v",
         "showlegend": true,
         "type": "scatter",
         "x": [
          2601.6255607603002
         ],
         "xaxis": "x",
         "y": [
          1364787
         ],
         "yaxis": "y"
        },
        {
         "hovertemplate": "<b>%{hovertext}</b><br><br>City_Pair_Name=Charleroi - Palma de Mallorca<br>Distance (km)=%{x}<br>Combined Population 2016=%{y}<extra></extra>",
         "hovertext": [
          "Charleroi - Palma de Mallorca"
         ],
         "legendgroup": "Charleroi - Palma de Mallorca",
         "marker": {
          "color": "#FECB52",
          "symbol": "circle"
         },
         "mode": "markers",
         "name": "Charleroi - Palma de Mallorca",
         "orientation": "v",
         "showlegend": true,
         "type": "scatter",
         "x": [
          1211.21224949577
         ],
         "xaxis": "x",
         "y": [
          1302027
         ],
         "yaxis": "y"
        },
        {
         "hovertemplate": "<b>%{hovertext}</b><br><br>City_Pair_Name=Bordeaux - Madrid<br>Distance (km)=%{x}<br>Combined Population 2016=%{y}<extra></extra>",
         "hovertext": [
          "Bordeaux - Madrid"
         ],
         "legendgroup": "Bordeaux - Madrid",
         "marker": {
          "color": "#636efa",
          "symbol": "circle"
         },
         "mode": "markers",
         "name": "Bordeaux - Madrid",
         "orientation": "v",
         "showlegend": true,
         "type": "scatter",
         "x": [
          545.4343626416239
         ],
         "xaxis": "x",
         "y": [
          7978145
         ],
         "yaxis": "y"
        },
        {
         "hovertemplate": "<b>%{hovertext}</b><br><br>City_Pair_Name=Gran Canaria - Valencia<br>Distance (km)=%{x}<br>Combined Population 2016=%{y}<extra></extra>",
         "hovertext": [
          "Gran Canaria - Valencia"
         ],
         "legendgroup": "Gran Canaria - Valencia",
         "marker": {
          "color": "#EF553B",
          "symbol": "circle"
         },
         "mode": "markers",
         "name": "Gran Canaria - Valencia",
         "orientation": "v",
         "showlegend": true,
         "type": "scatter",
         "x": [
          1861.64933708418
         ],
         "xaxis": "x",
         "y": [
          3373575
         ],
         "yaxis": "y"
        },
        {
         "hovertemplate": "<b>%{hovertext}</b><br><br>City_Pair_Name=Gran Canaria - Leipzig<br>Distance (km)=%{x}<br>Combined Population 2016=%{y}<extra></extra>",
         "hovertext": [
          "Gran Canaria - Leipzig"
         ],
         "legendgroup": "Gran Canaria - Leipzig",
         "marker": {
          "color": "#00cc96",
          "symbol": "circle"
         },
         "mode": "markers",
         "name": "Gran Canaria - Leipzig",
         "orientation": "v",
         "showlegend": true,
         "type": "scatter",
         "x": [
          3493.46365184555
         ],
         "xaxis": "x",
         "y": [
          1407578
         ],
         "yaxis": "y"
        },
        {
         "hovertemplate": "<b>%{hovertext}</b><br><br>City_Pair_Name=Munich - Seville<br>Distance (km)=%{x}<br>Combined Population 2016=%{y}<extra></extra>",
         "hovertext": [
          "Munich - Seville"
         ],
         "legendgroup": "Munich - Seville",
         "marker": {
          "color": "#ab63fa",
          "symbol": "circle"
         },
         "mode": "markers",
         "name": "Munich - Seville",
         "orientation": "v",
         "showlegend": true,
         "type": "scatter",
         "x": [
          1835.51296627508
         ],
         "xaxis": "x",
         "y": [
          3385971
         ],
         "yaxis": "y"
        },
        {
         "hovertemplate": "<b>%{hovertext}</b><br><br>City_Pair_Name=Asturias - Tenerife North<br>Distance (km)=%{x}<br>Combined Population 2016=%{y}<extra></extra>",
         "hovertext": [
          "Asturias - Tenerife North"
         ],
         "legendgroup": "Asturias - Tenerife North",
         "marker": {
          "color": "#FFA15A",
          "symbol": "circle"
         },
         "mode": "markers",
         "name": "Asturias - Tenerife North",
         "orientation": "v",
         "showlegend": true,
         "type": "scatter",
         "x": [
          1917.6749271013198
         ],
         "xaxis": "x",
         "y": [
          1930665
         ],
         "yaxis": "y"
        },
        {
         "hovertemplate": "<b>%{hovertext}</b><br><br>City_Pair_Name=Eindhoven - Seville<br>Distance (km)=%{x}<br>Combined Population 2016=%{y}<extra></extra>",
         "hovertext": [
          "Eindhoven - Seville"
         ],
         "legendgroup": "Eindhoven - Seville",
         "marker": {
          "color": "#19d3f3",
          "symbol": "circle"
         },
         "mode": "markers",
         "name": "Eindhoven - Seville",
         "orientation": "v",
         "showlegend": true,
         "type": "scatter",
         "x": [
          1786.49355642475
         ],
         "xaxis": "x",
         "y": [
          2692205
         ],
         "yaxis": "y"
        },
        {
         "hovertemplate": "<b>%{hovertext}</b><br><br>City_Pair_Name=Hamburg - Lanzarote<br>Distance (km)=%{x}<br>Combined Population 2016=%{y}<extra></extra>",
         "hovertext": [
          "Hamburg - Lanzarote"
         ],
         "legendgroup": "Hamburg - Lanzarote",
         "marker": {
          "color": "#FF6692",
          "symbol": "circle"
         },
         "mode": "markers",
         "name": "Hamburg - Lanzarote",
         "orientation": "v",
         "showlegend": true,
         "type": "scatter",
         "x": [
          3334.6434909077198
         ],
         "xaxis": "x",
         "y": [
          1930272
         ],
         "yaxis": "y"
        },
        {
         "hovertemplate": "<b>%{hovertext}</b><br><br>City_Pair_Name=Figari - Nantes<br>Distance (km)=%{x}<br>Combined Population 2016=%{y}<extra></extra>",
         "hovertext": [
          "Figari - Nantes"
         ],
         "legendgroup": "Figari - Nantes",
         "marker": {
          "color": "#B6E880",
          "symbol": "circle"
         },
         "mode": "markers",
         "name": "Figari - Nantes",
         "orientation": "v",
         "showlegend": true,
         "type": "scatter",
         "x": [
          1041.03381137313
         ],
         "xaxis": "x",
         "y": [
          1535155
         ],
         "yaxis": "y"
        },
        {
         "hovertemplate": "<b>%{hovertext}</b><br><br>City_Pair_Name=Ajaccio - Lille<br>Distance (km)=%{x}<br>Combined Population 2016=%{y}<extra></extra>",
         "hovertext": [
          "Ajaccio - Lille"
         ],
         "legendgroup": "Ajaccio - Lille",
         "marker": {
          "color": "#FF97FF",
          "symbol": "circle"
         },
         "mode": "markers",
         "name": "Ajaccio - Lille",
         "orientation": "v",
         "showlegend": true,
         "type": "scatter",
         "x": [
          1051.87451621038
         ],
         "xaxis": "x",
         "y": [
          2758026
         ],
         "yaxis": "y"
        },
        {
         "hovertemplate": "<b>%{hovertext}</b><br><br>City_Pair_Name=Amsterdam - Montpellier<br>Distance (km)=%{x}<br>Combined Population 2016=%{y}<extra></extra>",
         "hovertext": [
          "Amsterdam - Montpellier"
         ],
         "legendgroup": "Amsterdam - Montpellier",
         "marker": {
          "color": "#FECB52",
          "symbol": "circle"
         },
         "mode": "markers",
         "name": "Amsterdam - Montpellier",
         "orientation": "v",
         "showlegend": true,
         "type": "scatter",
         "x": [
          986.226067397321
         ],
         "xaxis": "x",
         "y": [
          2462053
         ],
         "yaxis": "y"
        },
        {
         "hovertemplate": "<b>%{hovertext}</b><br><br>City_Pair_Name=Brussels - Hannover<br>Distance (km)=%{x}<br>Combined Population 2016=%{y}<extra></extra>",
         "hovertext": [
          "Brussels - Hannover"
         ],
         "legendgroup": "Brussels - Hannover",
         "marker": {
          "color": "#636efa",
          "symbol": "circle"
         },
         "mode": "markers",
         "name": "Brussels - Hannover",
         "orientation": "v",
         "showlegend": true,
         "type": "scatter",
         "x": [
          408.95382447655595
         ],
         "xaxis": "x",
         "y": [
          2345766
         ],
         "yaxis": "y"
        },
        {
         "hovertemplate": "<b>%{hovertext}</b><br><br>City_Pair_Name=Charleroi - Gran Canaria<br>Distance (km)=%{x}<br>Combined Population 2016=%{y}<extra></extra>",
         "hovertext": [
          "Charleroi - Gran Canaria"
         ],
         "legendgroup": "Charleroi - Gran Canaria",
         "marker": {
          "color": "#EF553B",
          "symbol": "circle"
         },
         "mode": "markers",
         "name": "Charleroi - Gran Canaria",
         "orientation": "v",
         "showlegend": true,
         "type": "scatter",
         "x": [
          3017.63512572265
         ],
         "xaxis": "x",
         "y": [
          1278799
         ],
         "yaxis": "y"
        },
        {
         "hovertemplate": "<b>%{hovertext}</b><br><br>City_Pair_Name=Eindhoven - Gran Canaria<br>Distance (km)=%{x}<br>Combined Population 2016=%{y}<extra></extra>",
         "hovertext": [
          "Eindhoven - Gran Canaria"
         ],
         "legendgroup": "Eindhoven - Gran Canaria",
         "marker": {
          "color": "#00cc96",
          "symbol": "circle"
         },
         "mode": "markers",
         "name": "Eindhoven - Gran Canaria",
         "orientation": "v",
         "showlegend": true,
         "type": "scatter",
         "x": [
          3148.5272350928003
         ],
         "xaxis": "x",
         "y": [
          1603721
         ],
         "yaxis": "y"
        },
        {
         "hovertemplate": "<b>%{hovertext}</b><br><br>City_Pair_Name=Lanzarote - Munich<br>Distance (km)=%{x}<br>Combined Population 2016=%{y}<extra></extra>",
         "hovertext": [
          "Lanzarote - Munich"
         ],
         "legendgroup": "Lanzarote - Munich",
         "marker": {
          "color": "#ab63fa",
          "symbol": "circle"
         },
         "mode": "markers",
         "name": "Lanzarote - Munich",
         "orientation": "v",
         "showlegend": true,
         "type": "scatter",
         "x": [
          3025.97879162563
         ],
         "xaxis": "x",
         "y": [
          1593245
         ],
         "yaxis": "y"
        },
        {
         "hovertemplate": "<b>%{hovertext}</b><br><br>City_Pair_Name=Eindhoven - Nice<br>Distance (km)=%{x}<br>Combined Population 2016=%{y}<extra></extra>",
         "hovertext": [
          "Eindhoven - Nice"
         ],
         "legendgroup": "Eindhoven - Nice",
         "marker": {
          "color": "#FFA15A",
          "symbol": "circle"
         },
         "mode": "markers",
         "name": "Eindhoven - Nice",
         "orientation": "v",
         "showlegend": true,
         "type": "scatter",
         "x": [
          840.3513570739519
         ],
         "xaxis": "x",
         "y": [
          1840319
         ],
         "yaxis": "y"
        },
        {
         "hovertemplate": "<b>%{hovertext}</b><br><br>City_Pair_Name=Berlin - Lyon<br>Distance (km)=%{x}<br>Combined Population 2016=%{y}<extra></extra>",
         "hovertext": [
          "Berlin - Lyon"
         ],
         "legendgroup": "Berlin - Lyon",
         "marker": {
          "color": "#19d3f3",
          "symbol": "circle"
         },
         "mode": "markers",
         "name": "Berlin - Lyon",
         "orientation": "v",
         "showlegend": true,
         "type": "scatter",
         "x": [
          972.8607752692601
         ],
         "xaxis": "x",
         "y": [
          5355934
         ],
         "yaxis": "y"
        },
        {
         "hovertemplate": "<b>%{hovertext}</b><br><br>City_Pair_Name=Ibiza - Stuttgart<br>Distance (km)=%{x}<br>Combined Population 2016=%{y}<extra></extra>",
         "hovertext": [
          "Ibiza - Stuttgart"
         ],
         "legendgroup": "Ibiza - Stuttgart",
         "marker": {
          "color": "#FF6692",
          "symbol": "circle"
         },
         "mode": "markers",
         "name": "Ibiza - Stuttgart",
         "orientation": "v",
         "showlegend": true,
         "type": "scatter",
         "x": [
          1252.48891721447
         ],
         "xaxis": "x",
         "y": [
          778864
         ],
         "yaxis": "y"
        },
        {
         "hovertemplate": "<b>%{hovertext}</b><br><br>City_Pair_Name=Girona - Memmingen<br>Distance (km)=%{x}<br>Combined Population 2016=%{y}<extra></extra>",
         "hovertext": [
          "Girona - Memmingen"
         ],
         "legendgroup": "Girona - Memmingen",
         "marker": {
          "color": "#B6E880",
          "symbol": "circle"
         },
         "mode": "markers",
         "name": "Girona - Memmingen",
         "orientation": "v",
         "showlegend": true,
         "type": "scatter",
         "x": [
          876.26247919553
         ],
         "xaxis": "x",
         "y": [
          788638
         ],
         "yaxis": "y"
        },
        {
         "hovertemplate": "<b>%{hovertext}</b><br><br>City_Pair_Name=Barcelona - Rennes<br>Distance (km)=%{x}<br>Combined Population 2016=%{y}<extra></extra>",
         "hovertext": [
          "Barcelona - Rennes"
         ],
         "legendgroup": "Barcelona - Rennes",
         "marker": {
          "color": "#FF97FF",
          "symbol": "circle"
         },
         "mode": "markers",
         "name": "Barcelona - Rennes",
         "orientation": "v",
         "showlegend": true,
         "type": "scatter",
         "x": [
          768.472526857533
         ],
         "xaxis": "x",
         "y": [
          6524705
         ],
         "yaxis": "y"
        },
        {
         "hovertemplate": "<b>%{hovertext}</b><br><br>City_Pair_Name=Hamburg - Karlsruhe/Baden-Baden<br>Distance (km)=%{x}<br>Combined Population 2016=%{y}<extra></extra>",
         "hovertext": [
          "Hamburg - Karlsruhe/Baden-Baden"
         ],
         "legendgroup": "Hamburg - Karlsruhe/Baden-Baden",
         "marker": {
          "color": "#FECB52",
          "symbol": "circle"
         },
         "mode": "markers",
         "name": "Hamburg - Karlsruhe/Baden-Baden",
         "orientation": "v",
         "showlegend": true,
         "type": "scatter",
         "x": [
          516.31961236262
         ],
         "xaxis": "x",
         "y": [
          2095163
         ],
         "yaxis": "y"
        },
        {
         "hovertemplate": "<b>%{hovertext}</b><br><br>City_Pair_Name=Alicante - Ostend<br>Distance (km)=%{x}<br>Combined Population 2016=%{y}<extra></extra>",
         "hovertext": [
          "Alicante - Ostend"
         ],
         "legendgroup": "Alicante - Ostend",
         "marker": {
          "color": "#636efa",
          "symbol": "circle"
         },
         "mode": "markers",
         "name": "Alicante - Ostend",
         "orientation": "v",
         "showlegend": true,
         "type": "scatter",
         "x": [
          1438.62122279088
         ],
         "xaxis": "x",
         "y": [
          1993129
         ],
         "yaxis": "y"
        },
        {
         "hovertemplate": "<b>%{hovertext}</b><br><br>City_Pair_Name=Almeria - Seville<br>Distance (km)=%{x}<br>Combined Population 2016=%{y}<extra></extra>",
         "hovertext": [
          "Almeria - Seville"
         ],
         "legendgroup": "Almeria - Seville",
         "marker": {
          "color": "#EF553B",
          "symbol": "circle"
         },
         "mode": "markers",
         "name": "Almeria - Seville",
         "orientation": "v",
         "showlegend": true,
         "type": "scatter",
         "x": [
          296.269525766256
         ],
         "xaxis": "x",
         "y": [
          2635645
         ],
         "yaxis": "y"
        },
        {
         "hovertemplate": "<b>%{hovertext}</b><br><br>City_Pair_Name=Berlin - Rotterdam<br>Distance (km)=%{x}<br>Combined Population 2016=%{y}<extra></extra>",
         "hovertext": [
          "Berlin - Rotterdam"
         ],
         "legendgroup": "Berlin - Rotterdam",
         "marker": {
          "color": "#00cc96",
          "symbol": "circle"
         },
         "mode": "markers",
         "name": "Berlin - Rotterdam",
         "orientation": "v",
         "showlegend": true,
         "type": "scatter",
         "x": [
          624.1657125145979
         ],
         "xaxis": "x",
         "y": [
          4932353
         ],
         "yaxis": "y"
        },
        {
         "hovertemplate": "<b>%{hovertext}</b><br><br>City_Pair_Name=Frankfurt - Montpellier<br>Distance (km)=%{x}<br>Combined Population 2016=%{y}<extra></extra>",
         "hovertext": [
          "Frankfurt - Montpellier"
         ],
         "legendgroup": "Frankfurt - Montpellier",
         "marker": {
          "color": "#ab63fa",
          "symbol": "circle"
         },
         "mode": "markers",
         "name": "Frankfurt - Montpellier",
         "orientation": "v",
         "showlegend": true,
         "type": "scatter",
         "x": [
          784.326593868977
         ],
         "xaxis": "x",
         "y": [
          1235010
         ],
         "yaxis": "y"
        },
        {
         "hovertemplate": "<b>%{hovertext}</b><br><br>City_Pair_Name=Berlin - Fuerteventura<br>Distance (km)=%{x}<br>Combined Population 2016=%{y}<extra></extra>",
         "hovertext": [
          "Berlin - Fuerteventura"
         ],
         "legendgroup": "Berlin - Fuerteventura",
         "marker": {
          "color": "#FFA15A",
          "symbol": "circle"
         },
         "mode": "markers",
         "name": "Berlin - Fuerteventura",
         "orientation": "v",
         "showlegend": true,
         "type": "scatter",
         "x": [
          3502.87096011088
         ],
         "xaxis": "x",
         "y": [
          3629955
         ],
         "yaxis": "y"
        },
        {
         "hovertemplate": "<b>%{hovertext}</b><br><br>City_Pair_Name=Brest - Toulon<br>Distance (km)=%{x}<br>Combined Population 2016=%{y}<extra></extra>",
         "hovertext": [
          "Brest - Toulon"
         ],
         "legendgroup": "Brest - Toulon",
         "marker": {
          "color": "#19d3f3",
          "symbol": "circle"
         },
         "mode": "markers",
         "name": "Brest - Toulon",
         "orientation": "v",
         "showlegend": true,
         "type": "scatter",
         "x": [
          959.536020557009
         ],
         "xaxis": "x",
         "y": [
          1964070
         ],
         "yaxis": "y"
        },
        {
         "hovertemplate": "<b>%{hovertext}</b><br><br>City_Pair_Name=Alicante - Bremen<br>Distance (km)=%{x}<br>Combined Population 2016=%{y}<extra></extra>",
         "hovertext": [
          "Alicante - Bremen"
         ],
         "legendgroup": "Alicante - Bremen",
         "marker": {
          "color": "#FF6692",
          "symbol": "circle"
         },
         "mode": "markers",
         "name": "Alicante - Bremen",
         "orientation": "v",
         "showlegend": true,
         "type": "scatter",
         "x": [
          1777.7638981033801
         ],
         "xaxis": "x",
         "y": [
          2395337
         ],
         "yaxis": "y"
        },
        {
         "hovertemplate": "<b>%{hovertext}</b><br><br>City_Pair_Name=Eindhoven - Madrid<br>Distance (km)=%{x}<br>Combined Population 2016=%{y}<extra></extra>",
         "hovertext": [
          "Eindhoven - Madrid"
         ],
         "legendgroup": "Eindhoven - Madrid",
         "marker": {
          "color": "#B6E880",
          "symbol": "circle"
         },
         "mode": "markers",
         "name": "Eindhoven - Madrid",
         "orientation": "v",
         "showlegend": true,
         "type": "scatter",
         "x": [
          1406.28891123472
         ],
         "xaxis": "x",
         "y": [
          7168081
         ],
         "yaxis": "y"
        },
        {
         "hovertemplate": "<b>%{hovertext}</b><br><br>City_Pair_Name=Lille - Strasbourg<br>Distance (km)=%{x}<br>Combined Population 2016=%{y}<extra></extra>",
         "hovertext": [
          "Lille - Strasbourg"
         ],
         "legendgroup": "Lille - Strasbourg",
         "marker": {
          "color": "#FF97FF",
          "symbol": "circle"
         },
         "mode": "markers",
         "name": "Lille - Strasbourg",
         "orientation": "v",
         "showlegend": true,
         "type": "scatter",
         "x": [
          369.41994127937
         ],
         "xaxis": "x",
         "y": [
          3725130
         ],
         "yaxis": "y"
        },
        {
         "hovertemplate": "<b>%{hovertext}</b><br><br>City_Pair_Name=Nantes - Seville<br>Distance (km)=%{x}<br>Combined Population 2016=%{y}<extra></extra>",
         "hovertext": [
          "Nantes - Seville"
         ],
         "legendgroup": "Nantes - Seville",
         "marker": {
          "color": "#FECB52",
          "symbol": "circle"
         },
         "mode": "markers",
         "name": "Nantes - Seville",
         "orientation": "v",
         "showlegend": true,
         "type": "scatter",
         "x": [
          1151.27254108851
         ],
         "xaxis": "x",
         "y": [
          3316442
         ],
         "yaxis": "y"
        },
        {
         "hovertemplate": "<b>%{hovertext}</b><br><br>City_Pair_Name=Cologne - Ibiza<br>Distance (km)=%{x}<br>Combined Population 2016=%{y}<extra></extra>",
         "hovertext": [
          "Cologne - Ibiza"
         ],
         "legendgroup": "Cologne - Ibiza",
         "marker": {
          "color": "#636efa",
          "symbol": "circle"
         },
         "mode": "markers",
         "name": "Cologne - Ibiza",
         "orientation": "v",
         "showlegend": true,
         "type": "scatter",
         "x": [
          1399.3189825956802
         ],
         "xaxis": "x",
         "y": [
          1215708
         ],
         "yaxis": "y"
        },
        {
         "hovertemplate": "<b>%{hovertext}</b><br><br>City_Pair_Name=Beauvais - Figari<br>Distance (km)=%{x}<br>Combined Population 2016=%{y}<extra></extra>",
         "hovertext": [
          "Beauvais - Figari"
         ],
         "legendgroup": "Beauvais - Figari",
         "marker": {
          "color": "#EF553B",
          "symbol": "circle"
         },
         "mode": "markers",
         "name": "Beauvais - Figari",
         "orientation": "v",
         "showlegend": true,
         "type": "scatter",
         "x": [
          981.09216789611
         ],
         "xaxis": "x",
         "y": [
          977845
         ],
         "yaxis": "y"
        },
        {
         "hovertemplate": "<b>%{hovertext}</b><br><br>City_Pair_Name=Hamburg - Ibiza<br>Distance (km)=%{x}<br>Combined Population 2016=%{y}<extra></extra>",
         "hovertext": [
          "Hamburg - Ibiza"
         ],
         "legendgroup": "Hamburg - Ibiza",
         "marker": {
          "color": "#00cc96",
          "symbol": "circle"
         },
         "mode": "markers",
         "name": "Hamburg - Ibiza",
         "orientation": "v",
         "showlegend": true,
         "type": "scatter",
         "x": [
          1746.19867862495
         ],
         "xaxis": "x",
         "y": [
          1942534
         ],
         "yaxis": "y"
        },
        {
         "hovertemplate": "<b>%{hovertext}</b><br><br>City_Pair_Name=Hamburg - Luxembourg City<br>Distance (km)=%{x}<br>Combined Population 2016=%{y}<extra></extra>",
         "hovertext": [
          "Hamburg - Luxembourg City"
         ],
         "legendgroup": "Hamburg - Luxembourg City",
         "marker": {
          "color": "#ab63fa",
          "symbol": "circle"
         },
         "mode": "markers",
         "name": "Hamburg - Luxembourg City",
         "orientation": "v",
         "showlegend": true,
         "type": "scatter",
         "x": [
          498.85901748705203
         ],
         "xaxis": "x",
         "y": [
          2363657
         ],
         "yaxis": "y"
        },
        {
         "hovertemplate": "<b>%{hovertext}</b><br><br>City_Pair_Name=Lanzarote - Stuttgart<br>Distance (km)=%{x}<br>Combined Population 2016=%{y}<extra></extra>",
         "hovertext": [
          "Lanzarote - Stuttgart"
         ],
         "legendgroup": "Lanzarote - Stuttgart",
         "marker": {
          "color": "#FFA15A",
          "symbol": "circle"
         },
         "mode": "markers",
         "name": "Lanzarote - Stuttgart",
         "orientation": "v",
         "showlegend": true,
         "type": "scatter",
         "x": [
          2930.24427185587
         ],
         "xaxis": "x",
         "y": [
          766602
         ],
         "yaxis": "y"
        },
        {
         "hovertemplate": "<b>%{hovertext}</b><br><br>City_Pair_Name=Alicante - Beauvais<br>Distance (km)=%{x}<br>Combined Population 2016=%{y}<extra></extra>",
         "hovertext": [
          "Alicante - Beauvais"
         ],
         "legendgroup": "Alicante - Beauvais",
         "marker": {
          "color": "#19d3f3",
          "symbol": "circle"
         },
         "mode": "markers",
         "name": "Alicante - Beauvais",
         "orientation": "v",
         "showlegend": true,
         "type": "scatter",
         "x": [
          1238.6902702431198
         ],
         "xaxis": "x",
         "y": [
          2661415
         ],
         "yaxis": "y"
        },
        {
         "hovertemplate": "<b>%{hovertext}</b><br><br>City_Pair_Name=Berlin - Valencia<br>Distance (km)=%{x}<br>Combined Population 2016=%{y}<extra></extra>",
         "hovertext": [
          "Berlin - Valencia"
         ],
         "legendgroup": "Berlin - Valencia",
         "marker": {
          "color": "#FF6692",
          "symbol": "circle"
         },
         "mode": "markers",
         "name": "Berlin - Valencia",
         "orientation": "v",
         "showlegend": true,
         "type": "scatter",
         "x": [
          1821.8016094378502
         ],
         "xaxis": "x",
         "y": [
          6046500
         ],
         "yaxis": "y"
        },
        {
         "hovertemplate": "<b>%{hovertext}</b><br><br>City_Pair_Name=Cologne - Valencia<br>Distance (km)=%{x}<br>Combined Population 2016=%{y}<extra></extra>",
         "hovertext": [
          "Cologne - Valencia"
         ],
         "legendgroup": "Cologne - Valencia",
         "marker": {
          "color": "#B6E880",
          "symbol": "circle"
         },
         "mode": "markers",
         "name": "Cologne - Valencia",
         "orientation": "v",
         "showlegend": true,
         "type": "scatter",
         "x": [
          1424.4604532507199
         ],
         "xaxis": "x",
         "y": [
          3587051
         ],
         "yaxis": "y"
        },
        {
         "hovertemplate": "<b>%{hovertext}</b><br><br>City_Pair_Name=Seville - Tenerife South<br>Distance (km)=%{x}<br>Combined Population 2016=%{y}<extra></extra>",
         "hovertext": [
          "Seville - Tenerife South"
         ],
         "legendgroup": "Seville - Tenerife South",
         "marker": {
          "color": "#FF97FF",
          "symbol": "circle"
         },
         "mode": "markers",
         "name": "Seville - Tenerife South",
         "orientation": "v",
         "showlegend": true,
         "type": "scatter",
         "x": [
          1435.31009579663
         ],
         "xaxis": "x",
         "y": [
          2825848
         ],
         "yaxis": "y"
        },
        {
         "hovertemplate": "<b>%{hovertext}</b><br><br>City_Pair_Name=Girona - Rotterdam<br>Distance (km)=%{x}<br>Combined Population 2016=%{y}<extra></extra>",
         "hovertext": [
          "Girona - Rotterdam"
         ],
         "legendgroup": "Girona - Rotterdam",
         "marker": {
          "color": "#FECB52",
          "symbol": "circle"
         },
         "mode": "markers",
         "name": "Girona - Rotterdam",
         "orientation": "v",
         "showlegend": true,
         "type": "scatter",
         "x": [
          1086.7147949262699
         ],
         "xaxis": "x",
         "y": [
          2158119
         ],
         "yaxis": "y"
        },
        {
         "hovertemplate": "<b>%{hovertext}</b><br><br>City_Pair_Name=Beauvais - Zaragoza<br>Distance (km)=%{x}<br>Combined Population 2016=%{y}<extra></extra>",
         "hovertext": [
          "Beauvais - Zaragoza"
         ],
         "legendgroup": "Beauvais - Zaragoza",
         "marker": {
          "color": "#636efa",
          "symbol": "circle"
         },
         "mode": "markers",
         "name": "Beauvais - Zaragoza",
         "orientation": "v",
         "showlegend": true,
         "type": "scatter",
         "x": [
          907.57745701248
         ],
         "xaxis": "x",
         "y": [
          1783712
         ],
         "yaxis": "y"
        },
        {
         "hovertemplate": "<b>%{hovertext}</b><br><br>City_Pair_Name=Lyon - Palma de Mallorca<br>Distance (km)=%{x}<br>Combined Population 2016=%{y}<extra></extra>",
         "hovertext": [
          "Lyon - Palma de Mallorca"
         ],
         "legendgroup": "Lyon - Palma de Mallorca",
         "marker": {
          "color": "#EF553B",
          "symbol": "circle"
         },
         "mode": "markers",
         "name": "Lyon - Palma de Mallorca",
         "orientation": "v",
         "showlegend": true,
         "type": "scatter",
         "x": [
          709.0536131932529
         ],
         "xaxis": "x",
         "y": [
          2706237
         ],
         "yaxis": "y"
        },
        {
         "hovertemplate": "<b>%{hovertext}</b><br><br>City_Pair_Name=Basel/Mulhouse - Fuerteventura<br>Distance (km)=%{x}<br>Combined Population 2016=%{y}<extra></extra>",
         "hovertext": [
          "Basel/Mulhouse - Fuerteventura"
         ],
         "legendgroup": "Basel/Mulhouse - Fuerteventura",
         "marker": {
          "color": "#00cc96",
          "symbol": "circle"
         },
         "mode": "markers",
         "name": "Basel/Mulhouse - Fuerteventura",
         "orientation": "v",
         "showlegend": true,
         "type": "scatter",
         "x": [
          2835.89432815568
         ],
         "xaxis": "x",
         "y": [
          872667
         ],
         "yaxis": "y"
        },
        {
         "hovertemplate": "<b>%{hovertext}</b><br><br>City_Pair_Name=Luxembourg City - Saarbrucken<br>Distance (km)=%{x}<br>Combined Population 2016=%{y}<extra></extra>",
         "hovertext": [
          "Luxembourg City - Saarbrucken"
         ],
         "legendgroup": "Luxembourg City - Saarbrucken",
         "marker": {
          "color": "#ab63fa",
          "symbol": "circle"
         },
         "mode": "markers",
         "name": "Luxembourg City - Saarbrucken",
         "orientation": "v",
         "showlegend": true,
         "type": "scatter",
         "x": [
          85.45435226554909
         ],
         "xaxis": "x",
         "y": [
          903629
         ],
         "yaxis": "y"
        },
        {
         "hovertemplate": "<b>%{hovertext}</b><br><br>City_Pair_Name=Bastia - Lille<br>Distance (km)=%{x}<br>Combined Population 2016=%{y}<extra></extra>",
         "hovertext": [
          "Bastia - Lille"
         ],
         "legendgroup": "Bastia - Lille",
         "marker": {
          "color": "#FFA15A",
          "symbol": "circle"
         },
         "mode": "markers",
         "name": "Bastia - Lille",
         "orientation": "v",
         "showlegend": true,
         "type": "scatter",
         "x": [
          1005.34404244062
         ],
         "xaxis": "x",
         "y": [
          2779875
         ],
         "yaxis": "y"
        },
        {
         "hovertemplate": "<b>%{hovertext}</b><br><br>City_Pair_Name=Malaga - Ostend<br>Distance (km)=%{x}<br>Combined Population 2016=%{y}<extra></extra>",
         "hovertext": [
          "Malaga - Ostend"
         ],
         "legendgroup": "Malaga - Ostend",
         "marker": {
          "color": "#19d3f3",
          "symbol": "circle"
         },
         "mode": "markers",
         "name": "Malaga - Ostend",
         "orientation": "v",
         "showlegend": true,
         "type": "scatter",
         "x": [
          1708.84868680707
         ],
         "xaxis": "x",
         "y": [
          1793634
         ],
         "yaxis": "y"
        },
        {
         "hovertemplate": "<b>%{hovertext}</b><br><br>City_Pair_Name=Brussels - Lanzarote<br>Distance (km)=%{x}<br>Combined Population 2016=%{y}<extra></extra>",
         "hovertext": [
          "Brussels - Lanzarote"
         ],
         "legendgroup": "Brussels - Lanzarote",
         "marker": {
          "color": "#FF6692",
          "symbol": "circle"
         },
         "mode": "markers",
         "name": "Brussels - Lanzarote",
         "orientation": "v",
         "showlegend": true,
         "type": "scatter",
         "x": [
          2853.89616557904
         ],
         "xaxis": "x",
         "y": [
          1344149
         ],
         "yaxis": "y"
        },
        {
         "hovertemplate": "<b>%{hovertext}</b><br><br>City_Pair_Name=Nuremberg - Tenerife South<br>Distance (km)=%{x}<br>Combined Population 2016=%{y}<extra></extra>",
         "hovertext": [
          "Nuremberg - Tenerife South"
         ],
         "legendgroup": "Nuremberg - Tenerife South",
         "marker": {
          "color": "#B6E880",
          "symbol": "circle"
         },
         "mode": "markers",
         "name": "Nuremberg - Tenerife South",
         "orientation": "v",
         "showlegend": true,
         "type": "scatter",
         "x": [
          3319.23465315315
         ],
         "xaxis": "x",
         "y": [
          1400233
         ],
         "yaxis": "y"
        },
        {
         "hovertemplate": "<b>%{hovertext}</b><br><br>City_Pair_Name=Almeria - Brussels<br>Distance (km)=%{x}<br>Combined Population 2016=%{y}<extra></extra>",
         "hovertext": [
          "Almeria - Brussels"
         ],
         "legendgroup": "Almeria - Brussels",
         "marker": {
          "color": "#FF97FF",
          "symbol": "circle"
         },
         "mode": "markers",
         "name": "Almeria - Brussels",
         "orientation": "v",
         "showlegend": true,
         "type": "scatter",
         "x": [
          1607.4855697354099
         ],
         "xaxis": "x",
         "y": [
          1901340
         ],
         "yaxis": "y"
        },
        {
         "hovertemplate": "<b>%{hovertext}</b><br><br>City_Pair_Name=Alicante - Frankfurt<br>Distance (km)=%{x}<br>Combined Population 2016=%{y}<extra></extra>",
         "hovertext": [
          "Alicante - Frankfurt"
         ],
         "legendgroup": "Alicante - Frankfurt",
         "marker": {
          "color": "#FECB52",
          "symbol": "circle"
         },
         "mode": "markers",
         "name": "Alicante - Frankfurt",
         "orientation": "v",
         "showlegend": true,
         "type": "scatter",
         "x": [
          1435.68139572359
         ],
         "xaxis": "x",
         "y": [
          1940402
         ],
         "yaxis": "y"
        },
        {
         "hovertemplate": "<b>%{hovertext}</b><br><br>City_Pair_Name=Eindhoven - Murcia<br>Distance (km)=%{x}<br>Combined Population 2016=%{y}<extra></extra>",
         "hovertext": [
          "Eindhoven - Murcia"
         ],
         "legendgroup": "Eindhoven - Murcia",
         "marker": {
          "color": "#636efa",
          "symbol": "circle"
         },
         "mode": "markers",
         "name": "Eindhoven - Murcia",
         "orientation": "v",
         "showlegend": true,
         "type": "scatter",
         "x": [
          1589.36251588059
         ],
         "xaxis": "x",
         "y": [
          2224982
         ],
         "yaxis": "y"
        },
        {
         "hovertemplate": "<b>%{hovertext}</b><br><br>City_Pair_Name=Palma de Mallorca - Rotterdam<br>Distance (km)=%{x}<br>Combined Population 2016=%{y}<extra></extra>",
         "hovertext": [
          "Palma de Mallorca - Rotterdam"
         ],
         "legendgroup": "Palma de Mallorca - Rotterdam",
         "marker": {
          "color": "#EF553B",
          "symbol": "circle"
         },
         "mode": "markers",
         "name": "Palma de Mallorca - Rotterdam",
         "orientation": "v",
         "showlegend": true,
         "type": "scatter",
         "x": [
          1363.23700998563
         ],
         "xaxis": "x",
         "y": [
          2282656
         ],
         "yaxis": "y"
        },
        {
         "hovertemplate": "<b>%{hovertext}</b><br><br>City_Pair_Name=Malaga - Marseille<br>Distance (km)=%{x}<br>Combined Population 2016=%{y}<extra></extra>",
         "hovertext": [
          "Malaga - Marseille"
         ],
         "legendgroup": "Malaga - Marseille",
         "marker": {
          "color": "#00cc96",
          "symbol": "circle"
         },
         "mode": "markers",
         "name": "Malaga - Marseille",
         "orientation": "v",
         "showlegend": true,
         "type": "scatter",
         "x": [
          1118.8772349430099
         ],
         "xaxis": "x",
         "y": [
          3658095
         ],
         "yaxis": "y"
        },
        {
         "hovertemplate": "<b>%{hovertext}</b><br><br>City_Pair_Name=Tenerife South - Valencia<br>Distance (km)=%{x}<br>Combined Population 2016=%{y}<extra></extra>",
         "hovertext": [
          "Tenerife South - Valencia"
         ],
         "legendgroup": "Tenerife South - Valencia",
         "marker": {
          "color": "#ab63fa",
          "symbol": "circle"
         },
         "mode": "markers",
         "name": "Tenerife South - Valencia",
         "orientation": "v",
         "showlegend": true,
         "type": "scatter",
         "x": [
          1901.36152713235
         ],
         "xaxis": "x",
         "y": [
          3416727
         ],
         "yaxis": "y"
        },
        {
         "hovertemplate": "<b>%{hovertext}</b><br><br>City_Pair_Name=Ostend - Tenerife South<br>Distance (km)=%{x}<br>Combined Population 2016=%{y}<extra></extra>",
         "hovertext": [
          "Ostend - Tenerife South"
         ],
         "legendgroup": "Ostend - Tenerife South",
         "marker": {
          "color": "#FFA15A",
          "symbol": "circle"
         },
         "mode": "markers",
         "name": "Ostend - Tenerife South",
         "orientation": "v",
         "showlegend": true,
         "type": "scatter",
         "x": [
          3022.26077461349
         ],
         "xaxis": "x",
         "y": [
          1045514
         ],
         "yaxis": "y"
        },
        {
         "hovertemplate": "<b>%{hovertext}</b><br><br>City_Pair_Name=Berlin - Toulouse<br>Distance (km)=%{x}<br>Combined Population 2016=%{y}<extra></extra>",
         "hovertext": [
          "Berlin - Toulouse"
         ],
         "legendgroup": "Berlin - Toulouse",
         "marker": {
          "color": "#19d3f3",
          "symbol": "circle"
         },
         "mode": "markers",
         "name": "Berlin - Toulouse",
         "orientation": "v",
         "showlegend": true,
         "type": "scatter",
         "x": [
          1361.4844345828699
         ],
         "xaxis": "x",
         "y": [
          4868214
         ],
         "yaxis": "y"
        },
        {
         "hovertemplate": "<b>%{hovertext}</b><br><br>City_Pair_Name=Munich - Valencia<br>Distance (km)=%{x}<br>Combined Population 2016=%{y}<extra></extra>",
         "hovertext": [
          "Munich - Valencia"
         ],
         "legendgroup": "Munich - Valencia",
         "marker": {
          "color": "#FF6692",
          "symbol": "circle"
         },
         "mode": "markers",
         "name": "Munich - Valencia",
         "orientation": "v",
         "showlegend": true,
         "type": "scatter",
         "x": [
          1389.6929113709
         ],
         "xaxis": "x",
         "y": [
          3976850
         ],
         "yaxis": "y"
        },
        {
         "hovertemplate": "<b>%{hovertext}</b><br><br>City_Pair_Name=Beziers - Weeze<br>Distance (km)=%{x}<br>Combined Population 2016=%{y}<extra></extra>",
         "hovertext": [
          "Beziers - Weeze"
         ],
         "legendgroup": "Beziers - Weeze",
         "marker": {
          "color": "#B6E880",
          "symbol": "circle"
         },
         "mode": "markers",
         "name": "Beziers - Weeze",
         "orientation": "v",
         "showlegend": true,
         "type": "scatter",
         "x": [
          923.257761592655
         ],
         "xaxis": "x",
         "y": [
          1442818
         ],
         "yaxis": "y"
        },
        {
         "hovertemplate": "<b>%{hovertext}</b><br><br>City_Pair_Name=DÃ¼sseldorf - La Palma<br>Distance (km)=%{x}<br>Combined Population 2016=%{y}<extra></extra>",
         "hovertext": [
          "DÃ¼sseldorf - La Palma"
         ],
         "legendgroup": "DÃ¼sseldorf - La Palma",
         "marker": {
          "color": "#FF97FF",
          "symbol": "circle"
         },
         "mode": "markers",
         "name": "DÃ¼sseldorf - La Palma",
         "orientation": "v",
         "showlegend": true,
         "type": "scatter",
         "x": [
          3240.04671280775
         ],
         "xaxis": "x",
         "y": [
          693898
         ],
         "yaxis": "y"
        },
        {
         "hovertemplate": "<b>%{hovertext}</b><br><br>City_Pair_Name=Brussels - Nantes<br>Distance (km)=%{x}<br>Combined Population 2016=%{y}<extra></extra>",
         "hovertext": [
          "Brussels - Nantes"
         ],
         "legendgroup": "Brussels - Nantes",
         "marker": {
          "color": "#FECB52",
          "symbol": "circle"
         },
         "mode": "markers",
         "name": "Brussels - Nantes",
         "orientation": "v",
         "showlegend": true,
         "type": "scatter",
         "x": [
          585.6948684904789
         ],
         "xaxis": "x",
         "y": [
          2582137
         ],
         "yaxis": "y"
        },
        {
         "hovertemplate": "<b>%{hovertext}</b><br><br>City_Pair_Name=Alicante - Karlsruhe/Baden-Baden<br>Distance (km)=%{x}<br>Combined Population 2016=%{y}<extra></extra>",
         "hovertext": [
          "Alicante - Karlsruhe/Baden-Baden"
         ],
         "legendgroup": "Alicante - Karlsruhe/Baden-Baden",
         "marker": {
          "color": "#636efa",
          "symbol": "circle"
         },
         "mode": "markers",
         "name": "Alicante - Karlsruhe/Baden-Baden",
         "orientation": "v",
         "showlegend": true,
         "type": "scatter",
         "x": [
          1373.45919580655
         ],
         "xaxis": "x",
         "y": [
          2145628
         ],
         "yaxis": "y"
        },
        {
         "hovertemplate": "<b>%{hovertext}</b><br><br>City_Pair_Name=Beauvais - Malaga<br>Distance (km)=%{x}<br>Combined Population 2016=%{y}<extra></extra>",
         "hovertext": [
          "Beauvais - Malaga"
         ],
         "legendgroup": "Beauvais - Malaga",
         "marker": {
          "color": "#EF553B",
          "symbol": "circle"
         },
         "mode": "markers",
         "name": "Beauvais - Malaga",
         "orientation": "v",
         "showlegend": true,
         "type": "scatter",
         "x": [
          1514.4521359502799
         ],
         "xaxis": "x",
         "y": [
          2461920
         ],
         "yaxis": "y"
        },
        {
         "hovertemplate": "<b>%{hovertext}</b><br><br>City_Pair_Name=Amsterdam - La Palma<br>Distance (km)=%{x}<br>Combined Population 2016=%{y}<extra></extra>",
         "hovertext": [
          "Amsterdam - La Palma"
         ],
         "legendgroup": "Amsterdam - La Palma",
         "marker": {
          "color": "#00cc96",
          "symbol": "circle"
         },
         "mode": "markers",
         "name": "Amsterdam - La Palma",
         "orientation": "v",
         "showlegend": true,
         "type": "scatter",
         "x": [
          3232.3249041039503
         ],
         "xaxis": "x",
         "y": [
          1411292
         ],
         "yaxis": "y"
        },
        {
         "hovertemplate": "<b>%{hovertext}</b><br><br>City_Pair_Name=Almeria - Bilbao<br>Distance (km)=%{x}<br>Combined Population 2016=%{y}<extra></extra>",
         "hovertext": [
          "Almeria - Bilbao"
         ],
         "legendgroup": "Almeria - Bilbao",
         "marker": {
          "color": "#ab63fa",
          "symbol": "circle"
         },
         "mode": "markers",
         "name": "Almeria - Bilbao",
         "orientation": "v",
         "showlegend": true,
         "type": "scatter",
         "x": [
          673.72087321227
         ],
         "xaxis": "x",
         "y": [
          1840246
         ],
         "yaxis": "y"
        },
        {
         "hovertemplate": "<b>%{hovertext}</b><br><br>City_Pair_Name=Bordeaux - Palma de Mallorca<br>Distance (km)=%{x}<br>Combined Population 2016=%{y}<extra></extra>",
         "hovertext": [
          "Bordeaux - Palma de Mallorca"
         ],
         "legendgroup": "Bordeaux - Palma de Mallorca",
         "marker": {
          "color": "#FFA15A",
          "symbol": "circle"
         },
         "mode": "markers",
         "name": "Bordeaux - Palma de Mallorca",
         "orientation": "v",
         "showlegend": true,
         "type": "scatter",
         "x": [
          647.9362266149909
         ],
         "xaxis": "x",
         "y": [
          2437013
         ],
         "yaxis": "y"
        },
        {
         "hovertemplate": "<b>%{hovertext}</b><br><br>City_Pair_Name=Nice - Rennes<br>Distance (km)=%{x}<br>Combined Population 2016=%{y}<extra></extra>",
         "hovertext": [
          "Nice - Rennes"
         ],
         "legendgroup": "Nice - Rennes",
         "marker": {
          "color": "#19d3f3",
          "symbol": "circle"
         },
         "mode": "markers",
         "name": "Nice - Rennes",
         "orientation": "v",
         "showlegend": true,
         "type": "scatter",
         "x": [
          821.21700866461
         ],
         "xaxis": "x",
         "y": [
          2135483
         ],
         "yaxis": "y"
        },
        {
         "hovertemplate": "<b>%{hovertext}</b><br><br>City_Pair_Name=Figari - Lille<br>Distance (km)=%{x}<br>Combined Population 2016=%{y}<extra></extra>",
         "hovertext": [
          "Figari - Lille"
         ],
         "legendgroup": "Figari - Lille",
         "marker": {
          "color": "#FF6692",
          "symbol": "circle"
         },
         "mode": "markers",
         "name": "Figari - Lille",
         "orientation": "v",
         "showlegend": true,
         "type": "scatter",
         "x": [
          1051.87451621038
         ],
         "xaxis": "x",
         "y": [
          2758026
         ],
         "yaxis": "y"
        },
        {
         "hovertemplate": "<b>%{hovertext}</b><br><br>City_Pair_Name=Palma de Mallorca - Toulouse<br>Distance (km)=%{x}<br>Combined Population 2016=%{y}<extra></extra>",
         "hovertext": [
          "Palma de Mallorca - Toulouse"
         ],
         "legendgroup": "Palma de Mallorca - Toulouse",
         "marker": {
          "color": "#B6E880",
          "symbol": "circle"
         },
         "mode": "markers",
         "name": "Palma de Mallorca - Toulouse",
         "orientation": "v",
         "showlegend": true,
         "type": "scatter",
         "x": [
          442.123586652798
         ],
         "xaxis": "x",
         "y": [
          2218517
         ],
         "yaxis": "y"
        },
        {
         "hovertemplate": "<b>%{hovertext}</b><br><br>City_Pair_Name=Eindhoven - Tenerife South<br>Distance (km)=%{x}<br>Combined Population 2016=%{y}<extra></extra>",
         "hovertext": [
          "Eindhoven - Tenerife South"
         ],
         "legendgroup": "Eindhoven - Tenerife South",
         "marker": {
          "color": "#FF97FF",
          "symbol": "circle"
         },
         "mode": "markers",
         "name": "Eindhoven - Tenerife South",
         "orientation": "v",
         "showlegend": true,
         "type": "scatter",
         "x": [
          3161.55822221777
         ],
         "xaxis": "x",
         "y": [
          1646873
         ],
         "yaxis": "y"
        },
        {
         "hovertemplate": "<b>%{hovertext}</b><br><br>City_Pair_Name=Alicante - Maastricht<br>Distance (km)=%{x}<br>Combined Population 2016=%{y}<extra></extra>",
         "hovertext": [
          "Alicante - Maastricht"
         ],
         "legendgroup": "Alicante - Maastricht",
         "marker": {
          "color": "#FECB52",
          "symbol": "circle"
         },
         "mode": "markers",
         "name": "Alicante - Maastricht",
         "orientation": "v",
         "showlegend": true,
         "type": "scatter",
         "x": [
          1468.81558292615
         ],
         "xaxis": "x",
         "y": [
          2438733
         ],
         "yaxis": "y"
        },
        {
         "hovertemplate": "<b>%{hovertext}</b><br><br>City_Pair_Name=Girona - Maastricht<br>Distance (km)=%{x}<br>Combined Population 2016=%{y}<extra></extra>",
         "hovertext": [
          "Girona - Maastricht"
         ],
         "legendgroup": "Girona - Maastricht",
         "marker": {
          "color": "#636efa",
          "symbol": "circle"
         },
         "mode": "markers",
         "name": "Girona - Maastricht",
         "orientation": "v",
         "showlegend": true,
         "type": "scatter",
         "x": [
          1003.45921941855
         ],
         "xaxis": "x",
         "y": [
          1346657
         ],
         "yaxis": "y"
        },
        {
         "hovertemplate": "<b>%{hovertext}</b><br><br>City_Pair_Name=Figari - Nice<br>Distance (km)=%{x}<br>Combined Population 2016=%{y}<extra></extra>",
         "hovertext": [
          "Figari - Nice"
         ],
         "legendgroup": "Figari - Nice",
         "marker": {
          "color": "#EF553B",
          "symbol": "circle"
         },
         "mode": "markers",
         "name": "Figari - Nice",
         "orientation": "v",
         "showlegend": true,
         "type": "scatter",
         "x": [
          276.291692549213
         ],
         "xaxis": "x",
         "y": [
          1238007
         ],
         "yaxis": "y"
        },
        {
         "hovertemplate": "<b>%{hovertext}</b><br><br>City_Pair_Name=Memmingen - Palma de Mallorca<br>Distance (km)=%{x}<br>Combined Population 2016=%{y}<extra></extra>",
         "hovertext": [
          "Memmingen - Palma de Mallorca"
         ],
         "legendgroup": "Memmingen - Palma de Mallorca",
         "marker": {
          "color": "#00cc96",
          "symbol": "circle"
         },
         "mode": "markers",
         "name": "Memmingen - Palma de Mallorca",
         "orientation": "v",
         "showlegend": true,
         "type": "scatter",
         "x": [
          1094.2279099407501
         ],
         "xaxis": "x",
         "y": [
          913175
         ],
         "yaxis": "y"
        },
        {
         "hovertemplate": "<b>%{hovertext}</b><br><br>City_Pair_Name=Tenerife South - Weeze<br>Distance (km)=%{x}<br>Combined Population 2016=%{y}<extra></extra>",
         "hovertext": [
          "Tenerife South - Weeze"
         ],
         "legendgroup": "Tenerife South - Weeze",
         "marker": {
          "color": "#ab63fa",
          "symbol": "circle"
         },
         "mode": "markers",
         "name": "Tenerife South - Weeze",
         "orientation": "v",
         "showlegend": true,
         "type": "scatter",
         "x": [
          3216.16845616964
         ],
         "xaxis": "x",
         "y": [
          1200595
         ],
         "yaxis": "y"
        },
        {
         "hovertemplate": "<b>%{hovertext}</b><br><br>City_Pair_Name=Marseille - Palma de Mallorca<br>Distance (km)=%{x}<br>Combined Population 2016=%{y}<extra></extra>",
         "hovertext": [
          "Marseille - Palma de Mallorca"
         ],
         "legendgroup": "Marseille - Palma de Mallorca",
         "marker": {
          "color": "#FFA15A",
          "symbol": "circle"
         },
         "mode": "markers",
         "name": "Marseille - Palma de Mallorca",
         "orientation": "v",
         "showlegend": true,
         "type": "scatter",
         "x": [
          471.485071589303
         ],
         "xaxis": "x",
         "y": [
          2890051
         ],
         "yaxis": "y"
        },
        {
         "hovertemplate": "<b>%{hovertext}</b><br><br>City_Pair_Name=Basel/Mulhouse - Santiago de Compostela<br>Distance (km)=%{x}<br>Combined Population 2016=%{y}<extra></extra>",
         "hovertext": [
          "Basel/Mulhouse - Santiago de Compostela"
         ],
         "legendgroup": "Basel/Mulhouse - Santiago de Compostela",
         "marker": {
          "color": "#19d3f3",
          "symbol": "circle"
         },
         "mode": "markers",
         "name": "Basel/Mulhouse - Santiago de Compostela",
         "orientation": "v",
         "showlegend": true,
         "type": "scatter",
         "x": [
          1331.7897952807298
         ],
         "xaxis": "x",
         "y": [
          1885758
         ],
         "yaxis": "y"
        },
        {
         "hovertemplate": "<b>%{hovertext}</b><br><br>City_Pair_Name=Dresden - Hamburg<br>Distance (km)=%{x}<br>Combined Population 2016=%{y}<extra></extra>",
         "hovertext": [
          "Dresden - Hamburg"
         ],
         "legendgroup": "Dresden - Hamburg",
         "marker": {
          "color": "#FF6692",
          "symbol": "circle"
         },
         "mode": "markers",
         "name": "Dresden - Hamburg",
         "orientation": "v",
         "showlegend": true,
         "type": "scatter",
         "x": [
          375.747189247411
         ],
         "xaxis": "x",
         "y": [
          2331233
         ],
         "yaxis": "y"
        },
        {
         "hovertemplate": "<b>%{hovertext}</b><br><br>City_Pair_Name=Malaga - Valencia<br>Distance (km)=%{x}<br>Combined Population 2016=%{y}<extra></extra>",
         "hovertext": [
          "Malaga - Valencia"
         ],
         "legendgroup": "Malaga - Valencia",
         "marker": {
          "color": "#B6E880",
          "symbol": "circle"
         },
         "mode": "markers",
         "name": "Malaga - Valencia",
         "orientation": "v",
         "showlegend": true,
         "type": "scatter",
         "x": [
          445.251632595466
         ],
         "xaxis": "x",
         "y": [
          4164847
         ],
         "yaxis": "y"
        },
        {
         "hovertemplate": "<b>%{hovertext}</b><br><br>City_Pair_Name=Hamburg - Saarbrucken<br>Distance (km)=%{x}<br>Combined Population 2016=%{y}<extra></extra>",
         "hovertext": [
          "Hamburg - Saarbrucken"
         ],
         "legendgroup": "Hamburg - Saarbrucken",
         "marker": {
          "color": "#FF97FF",
          "symbol": "circle"
         },
         "mode": "markers",
         "name": "Hamburg - Saarbrucken",
         "orientation": "v",
         "showlegend": true,
         "type": "scatter",
         "x": [
          522.397872649647
         ],
         "xaxis": "x",
         "y": [
          2114788
         ],
         "yaxis": "y"
        },
        {
         "hovertemplate": "<b>%{hovertext}</b><br><br>City_Pair_Name=Paris - Santiago de Compostela<br>Distance (km)=%{x}<br>Combined Population 2016=%{y}<extra></extra>",
         "hovertext": [
          "Paris - Santiago de Compostela"
         ],
         "legendgroup": "Paris - Santiago de Compostela",
         "marker": {
          "color": "#FECB52",
          "symbol": "circle"
         },
         "mode": "markers",
         "name": "Paris - Santiago de Compostela",
         "orientation": "v",
         "showlegend": true,
         "type": "scatter",
         "x": [
          1049.9992282059
         ],
         "xaxis": "x",
         "y": [
          2344938
         ],
         "yaxis": "y"
        },
        {
         "hovertemplate": "<b>%{hovertext}</b><br><br>City_Pair_Name=Palma de Mallorca - Zaragoza<br>Distance (km)=%{x}<br>Combined Population 2016=%{y}<extra></extra>",
         "hovertext": [
          "Palma de Mallorca - Zaragoza"
         ],
         "legendgroup": "Palma de Mallorca - Zaragoza",
         "marker": {
          "color": "#636efa",
          "symbol": "circle"
         },
         "mode": "markers",
         "name": "Palma de Mallorca - Zaragoza",
         "orientation": "v",
         "showlegend": true,
         "type": "scatter",
         "x": [
          406.102112786242
         ],
         "xaxis": "x",
         "y": [
          1830504
         ],
         "yaxis": "y"
        },
        {
         "hovertemplate": "<b>%{hovertext}</b><br><br>City_Pair_Name=Frankfurt - Reus<br>Distance (km)=%{x}<br>Combined Population 2016=%{y}<extra></extra>",
         "hovertext": [
          "Frankfurt - Reus"
         ],
         "legendgroup": "Frankfurt - Reus",
         "marker": {
          "color": "#EF553B",
          "symbol": "circle"
         },
         "mode": "markers",
         "name": "Frankfurt - Reus",
         "orientation": "v",
         "showlegend": true,
         "type": "scatter",
         "x": [
          1122.36492223725
         ],
         "xaxis": "x",
         "y": [
          894692
         ],
         "yaxis": "y"
        },
        {
         "hovertemplate": "<b>%{hovertext}</b><br><br>City_Pair_Name=Rotterdam - Toulon<br>Distance (km)=%{x}<br>Combined Population 2016=%{y}<extra></extra>",
         "hovertext": [
          "Rotterdam - Toulon"
         ],
         "legendgroup": "Rotterdam - Toulon",
         "marker": {
          "color": "#00cc96",
          "symbol": "circle"
         },
         "mode": "markers",
         "name": "Rotterdam - Toulon",
         "orientation": "v",
         "showlegend": true,
         "type": "scatter",
         "x": [
          944.5354061992241
         ],
         "xaxis": "x",
         "y": [
          2468143
         ],
         "yaxis": "y"
        },
        {
         "hovertemplate": "<b>%{hovertext}</b><br><br>City_Pair_Name=Frankfurt - Seville<br>Distance (km)=%{x}<br>Combined Population 2016=%{y}<extra></extra>",
         "hovertext": [
          "Frankfurt - Seville"
         ],
         "legendgroup": "Frankfurt - Seville",
         "marker": {
          "color": "#ab63fa",
          "symbol": "circle"
         },
         "mode": "markers",
         "name": "Frankfurt - Seville",
         "orientation": "v",
         "showlegend": true,
         "type": "scatter",
         "x": [
          1813.34865561455
         ],
         "xaxis": "x",
         "y": [
          2668278
         ],
         "yaxis": "y"
        },
        {
         "hovertemplate": "<b>%{hovertext}</b><br><br>City_Pair_Name=Jerez - Munich<br>Distance (km)=%{x}<br>Combined Population 2016=%{y}<extra></extra>",
         "hovertext": [
          "Jerez - Munich"
         ],
         "legendgroup": "Jerez - Munich",
         "marker": {
          "color": "#FFA15A",
          "symbol": "circle"
         },
         "mode": "markers",
         "name": "Jerez - Munich",
         "orientation": "v",
         "showlegend": true,
         "type": "scatter",
         "x": [
          1911.77969164717
         ],
         "xaxis": "x",
         "y": [
          2694856
         ],
         "yaxis": "y"
        },
        {
         "hovertemplate": "<b>%{hovertext}</b><br><br>City_Pair_Name=Bremen - Gran Canaria<br>Distance (km)=%{x}<br>Combined Population 2016=%{y}<extra></extra>",
         "hovertext": [
          "Bremen - Gran Canaria"
         ],
         "legendgroup": "Bremen - Gran Canaria",
         "marker": {
          "color": "#19d3f3",
          "symbol": "circle"
         },
         "mode": "markers",
         "name": "Bremen - Gran Canaria",
         "orientation": "v",
         "showlegend": true,
         "type": "scatter",
         "x": [
          3438.26886240826
         ],
         "xaxis": "x",
         "y": [
          1404570
         ],
         "yaxis": "y"
        },
        {
         "hovertemplate": "<b>%{hovertext}</b><br><br>City_Pair_Name=Berlin - Bordeaux<br>Distance (km)=%{x}<br>Combined Population 2016=%{y}<extra></extra>",
         "hovertext": [
          "Berlin - Bordeaux"
         ],
         "legendgroup": "Berlin - Bordeaux",
         "marker": {
          "color": "#FF6692",
          "symbol": "circle"
         },
         "mode": "markers",
         "name": "Berlin - Bordeaux",
         "orientation": "v",
         "showlegend": true,
         "type": "scatter",
         "x": [
          1331.2825870584302
         ],
         "xaxis": "x",
         "y": [
          5086710
         ],
         "yaxis": "y"
        },
        {
         "hovertemplate": "<b>%{hovertext}</b><br><br>City_Pair_Name=A Coruna - Bilbao<br>Distance (km)=%{x}<br>Combined Population 2016=%{y}<extra></extra>",
         "hovertext": [
          "A Coruna - Bilbao"
         ],
         "legendgroup": "A Coruna - Bilbao",
         "marker": {
          "color": "#B6E880",
          "symbol": "circle"
         },
         "mode": "markers",
         "name": "A Coruna - Bilbao",
         "orientation": "v",
         "showlegend": true,
         "type": "scatter",
         "x": [
          455.457235337756
         ],
         "xaxis": "x",
         "y": [
          2263206
         ],
         "yaxis": "y"
        },
        {
         "hovertemplate": "<b>%{hovertext}</b><br><br>City_Pair_Name=Montpellier - Rotterdam<br>Distance (km)=%{x}<br>Combined Population 2016=%{y}<extra></extra>",
         "hovertext": [
          "Montpellier - Rotterdam"
         ],
         "legendgroup": "Montpellier - Rotterdam",
         "marker": {
          "color": "#FF97FF",
          "symbol": "circle"
         },
         "mode": "markers",
         "name": "Montpellier - Rotterdam",
         "orientation": "v",
         "showlegend": true,
         "type": "scatter",
         "x": [
          920.9962802543671
         ],
         "xaxis": "x",
         "y": [
          2544803
         ],
         "yaxis": "y"
        },
        {
         "hovertemplate": "<b>%{hovertext}</b><br><br>City_Pair_Name=Lille - Palma de Mallorca<br>Distance (km)=%{x}<br>Combined Population 2016=%{y}<extra></extra>",
         "hovertext": [
          "Lille - Palma de Mallorca"
         ],
         "legendgroup": "Lille - Palma de Mallorca",
         "marker": {
          "color": "#FECB52",
          "symbol": "circle"
         },
         "mode": "markers",
         "name": "Lille - Palma de Mallorca",
         "orientation": "v",
         "showlegend": true,
         "type": "scatter",
         "x": [
          1204.87978761638
         ],
         "xaxis": "x",
         "y": [
          3474057
         ],
         "yaxis": "y"
        },
        {
         "hovertemplate": "<b>%{hovertext}</b><br><br>City_Pair_Name=Bastia - Toulouse<br>Distance (km)=%{x}<br>Combined Population 2016=%{y}<extra></extra>",
         "hovertext": [
          "Bastia - Toulouse"
         ],
         "legendgroup": "Bastia - Toulouse",
         "marker": {
          "color": "#636efa",
          "symbol": "circle"
         },
         "mode": "markers",
         "name": "Bastia - Toulouse",
         "orientation": "v",
         "showlegend": true,
         "type": "scatter",
         "x": [
          663.015241986781
         ],
         "xaxis": "x",
         "y": [
          1524335
         ],
         "yaxis": "y"
        },
        {
         "hovertemplate": "<b>%{hovertext}</b><br><br>City_Pair_Name=Jerez - Stuttgart<br>Distance (km)=%{x}<br>Combined Population 2016=%{y}<extra></extra>",
         "hovertext": [
          "Jerez - Stuttgart"
         ],
         "legendgroup": "Jerez - Stuttgart",
         "marker": {
          "color": "#EF553B",
          "symbol": "circle"
         },
         "mode": "markers",
         "name": "Jerez - Stuttgart",
         "orientation": "v",
         "showlegend": true,
         "type": "scatter",
         "x": [
          1820.36770560055
         ],
         "xaxis": "x",
         "y": [
          1868213
         ],
         "yaxis": "y"
        },
        {
         "hovertemplate": "<b>%{hovertext}</b><br><br>City_Pair_Name=Karlsruhe/Baden-Baden - Malaga<br>Distance (km)=%{x}<br>Combined Population 2016=%{y}<extra></extra>",
         "hovertext": [
          "Karlsruhe/Baden-Baden - Malaga"
         ],
         "legendgroup": "Karlsruhe/Baden-Baden - Malaga",
         "marker": {
          "color": "#00cc96",
          "symbol": "circle"
         },
         "mode": "markers",
         "name": "Karlsruhe/Baden-Baden - Malaga",
         "orientation": "v",
         "showlegend": true,
         "type": "scatter",
         "x": [
          1722.37344886286
         ],
         "xaxis": "x",
         "y": [
          1946133
         ],
         "yaxis": "y"
        },
        {
         "hovertemplate": "<b>%{hovertext}</b><br><br>City_Pair_Name=Lanzarote - Leipzig<br>Distance (km)=%{x}<br>Combined Population 2016=%{y}<extra></extra>",
         "hovertext": [
          "Lanzarote - Leipzig"
         ],
         "legendgroup": "Lanzarote - Leipzig",
         "marker": {
          "color": "#ab63fa",
          "symbol": "circle"
         },
         "mode": "markers",
         "name": "Lanzarote - Leipzig",
         "orientation": "v",
         "showlegend": true,
         "type": "scatter",
         "x": [
          3288.28028183474
         ],
         "xaxis": "x",
         "y": [
          703336
         ],
         "yaxis": "y"
        },
        {
         "hovertemplate": "<b>%{hovertext}</b><br><br>City_Pair_Name=Biarritz - Charleroi<br>Distance (km)=%{x}<br>Combined Population 2016=%{y}<extra></extra>",
         "hovertext": [
          "Biarritz - Charleroi"
         ],
         "legendgroup": "Biarritz - Charleroi",
         "marker": {
          "color": "#FFA15A",
          "symbol": "circle"
         },
         "mode": "markers",
         "name": "Biarritz - Charleroi",
         "orientation": "v",
         "showlegend": true,
         "type": "scatter",
         "x": [
          891.705615112411
         ],
         "xaxis": "x",
         "y": [
          1105679
         ],
         "yaxis": "y"
        },
        {
         "hovertemplate": "<b>%{hovertext}</b><br><br>City_Pair_Name=Amsterdam - Bergerac<br>Distance (km)=%{x}<br>Combined Population 2016=%{y}<extra></extra>",
         "hovertext": [
          "Amsterdam - Bergerac"
         ],
         "legendgroup": "Amsterdam - Bergerac",
         "marker": {
          "color": "#19d3f3",
          "symbol": "circle"
         },
         "mode": "markers",
         "name": "Amsterdam - Bergerac",
         "orientation": "v",
         "showlegend": true,
         "type": "scatter",
         "x": [
          864.947211245372
         ],
         "xaxis": "x",
         "y": [
          1744361
         ],
         "yaxis": "y"
        },
        {
         "hovertemplate": "<b>%{hovertext}</b><br><br>City_Pair_Name=Malaga - Santander<br>Distance (km)=%{x}<br>Combined Population 2016=%{y}<extra></extra>",
         "hovertext": [
          "Malaga - Santander"
         ],
         "legendgroup": "Malaga - Santander",
         "marker": {
          "color": "#FF6692",
          "symbol": "circle"
         },
         "mode": "markers",
         "name": "Malaga - Santander",
         "orientation": "v",
         "showlegend": true,
         "type": "scatter",
         "x": [
          712.3139742585009
         ],
         "xaxis": "x",
         "y": [
          2220872
         ],
         "yaxis": "y"
        },
        {
         "hovertemplate": "<b>%{hovertext}</b><br><br>City_Pair_Name=DÃ¼sseldorf - Menorca<br>Distance (km)=%{x}<br>Combined Population 2016=%{y}<extra></extra>",
         "hovertext": [
          "DÃ¼sseldorf - Menorca"
         ],
         "legendgroup": "DÃ¼sseldorf - Menorca",
         "marker": {
          "color": "#B6E880",
          "symbol": "circle"
         },
         "mode": "markers",
         "name": "DÃ¼sseldorf - Menorca",
         "orientation": "v",
         "showlegend": true,
         "type": "scatter",
         "x": [
          1271.58870898169
         ],
         "xaxis": "x",
         "y": [
          704071
         ],
         "yaxis": "y"
        },
        {
         "hovertemplate": "<b>%{hovertext}</b><br><br>City_Pair_Name=Memmingen - Tenerife South<br>Distance (km)=%{x}<br>Combined Population 2016=%{y}<extra></extra>",
         "hovertext": [
          "Memmingen - Tenerife South"
         ],
         "legendgroup": "Memmingen - Tenerife South",
         "marker": {
          "color": "#FF97FF",
          "symbol": "circle"
         },
         "mode": "markers",
         "name": "Memmingen - Tenerife South",
         "orientation": "v",
         "showlegend": true,
         "type": "scatter",
         "x": [
          3172.19604504691
         ],
         "xaxis": "x",
         "y": [
          933099
         ],
         "yaxis": "y"
        },
        {
         "hovertemplate": "<b>%{hovertext}</b><br><br>City_Pair_Name=Alicante - Memmingen<br>Distance (km)=%{x}<br>Combined Population 2016=%{y}<extra></extra>",
         "hovertext": [
          "Alicante - Memmingen"
         ],
         "legendgroup": "Alicante - Memmingen",
         "marker": {
          "color": "#FECB52",
          "symbol": "circle"
         },
         "mode": "markers",
         "name": "Alicante - Memmingen",
         "orientation": "v",
         "showlegend": true,
         "type": "scatter",
         "x": [
          1365.63474203468
         ],
         "xaxis": "x",
         "y": [
          1880714
         ],
         "yaxis": "y"
        },
        {
         "hovertemplate": "<b>%{hovertext}</b><br><br>City_Pair_Name=Fuerteventura - Weeze<br>Distance (km)=%{x}<br>Combined Population 2016=%{y}<extra></extra>",
         "hovertext": [
          "Fuerteventura - Weeze"
         ],
         "legendgroup": "Fuerteventura - Weeze",
         "marker": {
          "color": "#636efa",
          "symbol": "circle"
         },
         "mode": "markers",
         "name": "Fuerteventura - Weeze",
         "orientation": "v",
         "showlegend": true,
         "type": "scatter",
         "x": [
          3086.44568062477
         ],
         "xaxis": "x",
         "y": [
          420261
         ],
         "yaxis": "y"
        },
        {
         "hovertemplate": "<b>%{hovertext}</b><br><br>City_Pair_Name=Beauvais - Tenerife South<br>Distance (km)=%{x}<br>Combined Population 2016=%{y}<extra></extra>",
         "hovertext": [
          "Beauvais - Tenerife South"
         ],
         "legendgroup": "Beauvais - Tenerife South",
         "marker": {
          "color": "#EF553B",
          "symbol": "circle"
         },
         "mode": "markers",
         "name": "Beauvais - Tenerife South",
         "orientation": "v",
         "showlegend": true,
         "type": "scatter",
         "x": [
          2848.9908699123703
         ],
         "xaxis": "x",
         "y": [
          1713800
         ],
         "yaxis": "y"
        },
        {
         "hovertemplate": "<b>%{hovertext}</b><br><br>City_Pair_Name=Santander - Tenerife South<br>Distance (km)=%{x}<br>Combined Population 2016=%{y}<extra></extra>",
         "hovertext": [
          "Santander - Tenerife South"
         ],
         "legendgroup": "Santander - Tenerife South",
         "marker": {
          "color": "#00cc96",
          "symbol": "circle"
         },
         "mode": "markers",
         "name": "Santander - Tenerife South",
         "orientation": "v",
         "showlegend": true,
         "type": "scatter",
         "x": [
          2001.4000912140898
         ],
         "xaxis": "x",
         "y": [
          1472752
         ],
         "yaxis": "y"
        },
        {
         "hovertemplate": "<b>%{hovertext}</b><br><br>City_Pair_Name=Charleroi - Reus<br>Distance (km)=%{x}<br>Combined Population 2016=%{y}<extra></extra>",
         "hovertext": [
          "Charleroi - Reus"
         ],
         "legendgroup": "Charleroi - Reus",
         "marker": {
          "color": "#ab63fa",
          "symbol": "circle"
         },
         "mode": "markers",
         "name": "Charleroi - Reus",
         "orientation": "v",
         "showlegend": true,
         "type": "scatter",
         "x": [
          1078.19306284033
         ],
         "xaxis": "x",
         "y": [
          1223856
         ],
         "yaxis": "y"
        },
        {
         "hovertemplate": "<b>%{hovertext}</b><br><br>City_Pair_Name=Malaga - Memmingen<br>Distance (km)=%{x}<br>Combined Population 2016=%{y}<extra></extra>",
         "hovertext": [
          "Malaga - Memmingen"
         ],
         "legendgroup": "Malaga - Memmingen",
         "marker": {
          "color": "#FFA15A",
          "symbol": "circle"
         },
         "mode": "markers",
         "name": "Malaga - Memmingen",
         "orientation": "v",
         "showlegend": true,
         "type": "scatter",
         "x": [
          1736.66785323408
         ],
         "xaxis": "x",
         "y": [
          1681219
         ],
         "yaxis": "y"
        },
        {
         "hovertemplate": "<b>%{hovertext}</b><br><br>City_Pair_Name=Alicante - Asturias<br>Distance (km)=%{x}<br>Combined Population 2016=%{y}<extra></extra>",
         "hovertext": [
          "Alicante - Asturias"
         ],
         "legendgroup": "Alicante - Asturias",
         "marker": {
          "color": "#19d3f3",
          "symbol": "circle"
         },
         "mode": "markers",
         "name": "Alicante - Asturias",
         "orientation": "v",
         "showlegend": true,
         "type": "scatter",
         "x": [
          702.8980323127589
         ],
         "xaxis": "x",
         "y": [
          2878280
         ],
         "yaxis": "y"
        },
        {
         "hovertemplate": "<b>%{hovertext}</b><br><br>City_Pair_Name=Lyon - Seville<br>Distance (km)=%{x}<br>Combined Population 2016=%{y}<extra></extra>",
         "hovertext": [
          "Lyon - Seville"
         ],
         "legendgroup": "Lyon - Seville",
         "marker": {
          "color": "#FF6692",
          "symbol": "circle"
         },
         "mode": "markers",
         "name": "Lyon - Seville",
         "orientation": "v",
         "showlegend": true,
         "type": "scatter",
         "x": [
          1268.86673640085
         ],
         "xaxis": "x",
         "y": [
          3771493
         ],
         "yaxis": "y"
        },
        {
         "hovertemplate": "<b>%{hovertext}</b><br><br>City_Pair_Name=Barcelona - Nuremberg<br>Distance (km)=%{x}<br>Combined Population 2016=%{y}<extra></extra>",
         "hovertext": [
          "Barcelona - Nuremberg"
         ],
         "legendgroup": "Barcelona - Nuremberg",
         "marker": {
          "color": "#B6E880",
          "symbol": "circle"
         },
         "mode": "markers",
         "name": "Barcelona - Nuremberg",
         "orientation": "v",
         "showlegend": true,
         "type": "scatter",
         "x": [
          1109.8062268972699
         ],
         "xaxis": "x",
         "y": [
          5982901
         ],
         "yaxis": "y"
        },
        {
         "hovertemplate": "<b>%{hovertext}</b><br><br>City_Pair_Name=Bremen - Fuerteventura<br>Distance (km)=%{x}<br>Combined Population 2016=%{y}<extra></extra>",
         "hovertext": [
          "Bremen - Fuerteventura"
         ],
         "legendgroup": "Bremen - Fuerteventura",
         "marker": {
          "color": "#FF97FF",
          "symbol": "circle"
         },
         "mode": "markers",
         "name": "Bremen - Fuerteventura",
         "orientation": "v",
         "showlegend": true,
         "type": "scatter",
         "x": [
          3321.69523911239
         ],
         "xaxis": "x",
         "y": [
          667388
         ],
         "yaxis": "y"
        },
        {
         "hovertemplate": "<b>%{hovertext}</b><br><br>City_Pair_Name=Munich - Rotterdam<br>Distance (km)=%{x}<br>Combined Population 2016=%{y}<extra></extra>",
         "hovertext": [
          "Munich - Rotterdam"
         ],
         "legendgroup": "Munich - Rotterdam",
         "marker": {
          "color": "#FECB52",
          "symbol": "circle"
         },
         "mode": "markers",
         "name": "Munich - Rotterdam",
         "orientation": "v",
         "showlegend": true,
         "type": "scatter",
         "x": [
          659.3753196068211
         ],
         "xaxis": "x",
         "y": [
          2862703
         ],
         "yaxis": "y"
        },
        {
         "hovertemplate": "<b>%{hovertext}</b><br><br>City_Pair_Name=Tenerife North - Valencia<br>Distance (km)=%{x}<br>Combined Population 2016=%{y}<extra></extra>",
         "hovertext": [
          "Tenerife North - Valencia"
         ],
         "legendgroup": "Tenerife North - Valencia",
         "marker": {
          "color": "#636efa",
          "symbol": "circle"
         },
         "mode": "markers",
         "name": "Tenerife North - Valencia",
         "orientation": "v",
         "showlegend": true,
         "type": "scatter",
         "x": [
          1901.36152713235
         ],
         "xaxis": "x",
         "y": [
          3416727
         ],
         "yaxis": "y"
        },
        {
         "hovertemplate": "<b>%{hovertext}</b><br><br>City_Pair_Name=Fuerteventura - Paderborn<br>Distance (km)=%{x}<br>Combined Population 2016=%{y}<extra></extra>",
         "hovertext": [
          "Fuerteventura - Paderborn"
         ],
         "legendgroup": "Fuerteventura - Paderborn",
         "marker": {
          "color": "#EF553B",
          "symbol": "circle"
         },
         "mode": "markers",
         "name": "Fuerteventura - Paderborn",
         "orientation": "v",
         "showlegend": true,
         "type": "scatter",
         "x": [
          3203.151428382
         ],
         "xaxis": "x",
         "y": [
          414256
         ],
         "yaxis": "y"
        },
        {
         "hovertemplate": "<b>%{hovertext}</b><br><br>City_Pair_Name=Bremen - Tenerife South<br>Distance (km)=%{x}<br>Combined Population 2016=%{y}<extra></extra>",
         "hovertext": [
          "Bremen - Tenerife South"
         ],
         "legendgroup": "Bremen - Tenerife South",
         "marker": {
          "color": "#00cc96",
          "symbol": "circle"
         },
         "mode": "markers",
         "name": "Bremen - Tenerife South",
         "orientation": "v",
         "showlegend": true,
         "type": "scatter",
         "x": [
          3452.1540466880597
         ],
         "xaxis": "x",
         "y": [
          1447722
         ],
         "yaxis": "y"
        },
        {
         "hovertemplate": "<b>%{hovertext}</b><br><br>City_Pair_Name=Brussels - Seville<br>Distance (km)=%{x}<br>Combined Population 2016=%{y}<extra></extra>",
         "hovertext": [
          "Brussels - Seville"
         ],
         "legendgroup": "Brussels - Seville",
         "marker": {
          "color": "#ab63fa",
          "symbol": "circle"
         },
         "mode": "markers",
         "name": "Brussels - Seville",
         "orientation": "v",
         "showlegend": true,
         "type": "scatter",
         "x": [
          1688.85996502836
         ],
         "xaxis": "x",
         "y": [
          3136875
         ],
         "yaxis": "y"
        },
        {
         "hovertemplate": "<b>%{hovertext}</b><br><br>City_Pair_Name=Alicante - Antwerp<br>Distance (km)=%{x}<br>Combined Population 2016=%{y}<extra></extra>",
         "hovertext": [
          "Alicante - Antwerp"
         ],
         "legendgroup": "Alicante - Antwerp",
         "marker": {
          "color": "#FFA15A",
          "symbol": "circle"
         },
         "mode": "markers",
         "name": "Alicante - Antwerp",
         "orientation": "v",
         "showlegend": true,
         "type": "scatter",
         "x": [
          1477.72810495058
         ],
         "xaxis": "x",
         "y": [
          2873904
         ],
         "yaxis": "y"
        },
        {
         "hovertemplate": "<b>%{hovertext}</b><br><br>City_Pair_Name=Lanzarote - Nantes<br>Distance (km)=%{x}<br>Combined Population 2016=%{y}<extra></extra>",
         "hovertext": [
          "Lanzarote - Nantes"
         ],
         "legendgroup": "Lanzarote - Nantes",
         "marker": {
          "color": "#19d3f3",
          "symbol": "circle"
         },
         "mode": "markers",
         "name": "Lanzarote - Nantes",
         "orientation": "v",
         "showlegend": true,
         "type": "scatter",
         "x": [
          2285.22508572949
         ],
         "xaxis": "x",
         "y": [
          1523716
         ],
         "yaxis": "y"
        },
        {
         "hovertemplate": "<b>%{hovertext}</b><br><br>City_Pair_Name=Fuerteventura - Santiago de Compostela<br>Distance (km)=%{x}<br>Combined Population 2016=%{y}<extra></extra>",
         "hovertext": [
          "Fuerteventura - Santiago de Compostela"
         ],
         "legendgroup": "Fuerteventura - Santiago de Compostela",
         "marker": {
          "color": "#FF6692",
          "symbol": "circle"
         },
         "mode": "markers",
         "name": "Fuerteventura - Santiago de Compostela",
         "orientation": "v",
         "showlegend": true,
         "type": "scatter",
         "x": [
          1711.3646807422701
         ],
         "xaxis": "x",
         "y": [
          1232939
         ],
         "yaxis": "y"
        },
        {
         "hovertemplate": "<b>%{hovertext}</b><br><br>City_Pair_Name=Barcelona - Ostend<br>Distance (km)=%{x}<br>Combined Population 2016=%{y}<extra></extra>",
         "hovertext": [
          "Barcelona - Ostend"
         ],
         "legendgroup": "Barcelona - Ostend",
         "marker": {
          "color": "#B6E880",
          "symbol": "circle"
         },
         "mode": "markers",
         "name": "Barcelona - Ostend",
         "orientation": "v",
         "showlegend": true,
         "type": "scatter",
         "x": [
          1053.00681033194
         ],
         "xaxis": "x",
         "y": [
          5628182
         ],
         "yaxis": "y"
        },
        {
         "hovertemplate": "<b>%{hovertext}</b><br><br>City_Pair_Name=Hamburg - Jerez<br>Distance (km)=%{x}<br>Combined Population 2016=%{y}<extra></extra>",
         "hovertext": [
          "Hamburg - Jerez"
         ],
         "legendgroup": "Hamburg - Jerez",
         "marker": {
          "color": "#FF97FF",
          "symbol": "circle"
         },
         "mode": "markers",
         "name": "Hamburg - Jerez",
         "orientation": "v",
         "showlegend": true,
         "type": "scatter",
         "x": [
          2248.65792069771
         ],
         "xaxis": "x",
         "y": [
          3031883
         ],
         "yaxis": "y"
        },
        {
         "hovertemplate": "<b>%{hovertext}</b><br><br>City_Pair_Name=Basel/Mulhouse - Seville<br>Distance (km)=%{x}<br>Combined Population 2016=%{y}<extra></extra>",
         "hovertext": [
          "Basel/Mulhouse - Seville"
         ],
         "legendgroup": "Basel/Mulhouse - Seville",
         "marker": {
          "color": "#FECB52",
          "symbol": "circle"
         },
         "mode": "markers",
         "name": "Basel/Mulhouse - Seville",
         "orientation": "v",
         "showlegend": true,
         "type": "scatter",
         "x": [
          1566.23571817591
         ],
         "xaxis": "x",
         "y": [
          2698333
         ],
         "yaxis": "y"
        },
        {
         "hovertemplate": "<b>%{hovertext}</b><br><br>City_Pair_Name=Liege - Tenerife South<br>Distance (km)=%{x}<br>Combined Population 2016=%{y}<extra></extra>",
         "hovertext": [
          "Liege - Tenerife South"
         ],
         "legendgroup": "Liege - Tenerife South",
         "marker": {
          "color": "#636efa",
          "symbol": "circle"
         },
         "mode": "markers",
         "name": "Liege - Tenerife South",
         "orientation": "v",
         "showlegend": true,
         "type": "scatter",
         "x": [
          3102.40811281014
         ],
         "xaxis": "x",
         "y": [
          1514145
         ],
         "yaxis": "y"
        },
        {
         "hovertemplate": "<b>%{hovertext}</b><br><br>City_Pair_Name=Barcelona - Lille<br>Distance (km)=%{x}<br>Combined Population 2016=%{y}<extra></extra>",
         "hovertext": [
          "Barcelona - Lille"
         ],
         "legendgroup": "Barcelona - Lille",
         "marker": {
          "color": "#EF553B",
          "symbol": "circle"
         },
         "mode": "markers",
         "name": "Barcelona - Lille",
         "orientation": "v",
         "showlegend": true,
         "type": "scatter",
         "x": [
          974.051693968597
         ],
         "xaxis": "x",
         "y": [
          8076649
         ],
         "yaxis": "y"
        },
        {
         "hovertemplate": "<b>%{hovertext}</b><br><br>City_Pair_Name=Biarritz - Marseille<br>Distance (km)=%{x}<br>Combined Population 2016=%{y}<extra></extra>",
         "hovertext": [
          "Biarritz - Marseille"
         ],
         "legendgroup": "Biarritz - Marseille",
         "marker": {
          "color": "#00cc96",
          "symbol": "circle"
         },
         "mode": "markers",
         "name": "Biarritz - Marseille",
         "orientation": "v",
         "showlegend": true,
         "type": "scatter",
         "x": [
          473.365753506872
         ],
         "xaxis": "x",
         "y": [
          2693703
         ],
         "yaxis": "y"
        },
        {
         "hovertemplate": "<b>%{hovertext}</b><br><br>City_Pair_Name=Beauvais - Palma de Mallorca<br>Distance (km)=%{x}<br>Combined Population 2016=%{y}<extra></extra>",
         "hovertext": [
          "Beauvais - Palma de Mallorca"
         ],
         "legendgroup": "Beauvais - Palma de Mallorca",
         "marker": {
          "color": "#ab63fa",
          "symbol": "circle"
         },
         "mode": "markers",
         "name": "Beauvais - Palma de Mallorca",
         "orientation": "v",
         "showlegend": true,
         "type": "scatter",
         "x": [
          1090.0755591050802
         ],
         "xaxis": "x",
         "y": [
          1693876
         ],
         "yaxis": "y"
        },
        {
         "hovertemplate": "<b>%{hovertext}</b><br><br>City_Pair_Name=Gran Canaria - Paderborn<br>Distance (km)=%{x}<br>Combined Population 2016=%{y}<extra></extra>",
         "hovertext": [
          "Gran Canaria - Paderborn"
         ],
         "legendgroup": "Gran Canaria - Paderborn",
         "marker": {
          "color": "#FFA15A",
          "symbol": "circle"
         },
         "mode": "markers",
         "name": "Gran Canaria - Paderborn",
         "orientation": "v",
         "showlegend": true,
         "type": "scatter",
         "x": [
          3323.49496017255
         ],
         "xaxis": "x",
         "y": [
          1151438
         ],
         "yaxis": "y"
        },
        {
         "hovertemplate": "<b>%{hovertext}</b><br><br>City_Pair_Name=Paris - Strasbourg<br>Distance (km)=%{x}<br>Combined Population 2016=%{y}<extra></extra>",
         "hovertext": [
          "Paris - Strasbourg"
         ],
         "legendgroup": "Paris - Strasbourg",
         "marker": {
          "color": "#19d3f3",
          "symbol": "circle"
         },
         "mode": "markers",
         "name": "Paris - Strasbourg",
         "orientation": "v",
         "showlegend": true,
         "type": "scatter",
         "x": [
          373.000401089145
         ],
         "xaxis": "x",
         "y": [
          2499558
         ],
         "yaxis": "y"
        },
        {
         "hovertemplate": "<b>%{hovertext}</b><br><br>City_Pair_Name=Madrid - Rostock<br>Distance (km)=%{x}<br>Combined Population 2016=%{y}<extra></extra>",
         "hovertext": [
          "Madrid - Rostock"
         ],
         "legendgroup": "Madrid - Rostock",
         "marker": {
          "color": "#FF6692",
          "symbol": "circle"
         },
         "mode": "markers",
         "name": "Madrid - Rostock",
         "orientation": "v",
         "showlegend": true,
         "type": "scatter",
         "x": [
          1923.07091526822
         ],
         "xaxis": "x",
         "y": [
          6617477
         ],
         "yaxis": "y"
        },
        {
         "hovertemplate": "<b>%{hovertext}</b><br><br>City_Pair_Name=Bastia - Bordeaux<br>Distance (km)=%{x}<br>Combined Population 2016=%{y}<extra></extra>",
         "hovertext": [
          "Bastia - Bordeaux"
         ],
         "legendgroup": "Bastia - Bordeaux",
         "marker": {
          "color": "#B6E880",
          "symbol": "circle"
         },
         "mode": "markers",
         "name": "Bastia - Bordeaux",
         "orientation": "v",
         "showlegend": true,
         "type": "scatter",
         "x": [
          831.860398924283
         ],
         "xaxis": "x",
         "y": [
          1742831
         ],
         "yaxis": "y"
        },
        {
         "hovertemplate": "<b>%{hovertext}</b><br><br>City_Pair_Name=Bilbao - Stuttgart<br>Distance (km)=%{x}<br>Combined Population 2016=%{y}<extra></extra>",
         "hovertext": [
          "Bilbao - Stuttgart"
         ],
         "legendgroup": "Bilbao - Stuttgart",
         "marker": {
          "color": "#FF97FF",
          "symbol": "circle"
         },
         "mode": "markers",
         "name": "Bilbao - Stuttgart",
         "orientation": "v",
         "showlegend": true,
         "type": "scatter",
         "x": [
          1111.82086236773
         ],
         "xaxis": "x",
         "y": [
          1763929
         ],
         "yaxis": "y"
        },
        {
         "hovertemplate": "<b>%{hovertext}</b><br><br>City_Pair_Name=Alicante - Tenerife North<br>Distance (km)=%{x}<br>Combined Population 2016=%{y}<extra></extra>",
         "hovertext": [
          "Alicante - Tenerife North"
         ],
         "legendgroup": "Alicante - Tenerife North",
         "marker": {
          "color": "#FECB52",
          "symbol": "circle"
         },
         "mode": "markers",
         "name": "Alicante - Tenerife North",
         "orientation": "v",
         "showlegend": true,
         "type": "scatter",
         "x": [
          1862.62924437935
         ],
         "xaxis": "x",
         "y": [
          2728131
         ],
         "yaxis": "y"
        },
        {
         "hovertemplate": "<b>%{hovertext}</b><br><br>City_Pair_Name=Nantes - Tenerife South<br>Distance (km)=%{x}<br>Combined Population 2016=%{y}<extra></extra>",
         "hovertext": [
          "Nantes - Tenerife South"
         ],
         "legendgroup": "Nantes - Tenerife South",
         "marker": {
          "color": "#636efa",
          "symbol": "circle"
         },
         "mode": "markers",
         "name": "Nantes - Tenerife South",
         "orientation": "v",
         "showlegend": true,
         "type": "scatter",
         "x": [
          2481.2795444583303
         ],
         "xaxis": "x",
         "y": [
          2271110
         ],
         "yaxis": "y"
        },
        {
         "hovertemplate": "<b>%{hovertext}</b><br><br>City_Pair_Name=Antwerp - Malaga<br>Distance (km)=%{x}<br>Combined Population 2016=%{y}<extra></extra>",
         "hovertext": [
          "Antwerp - Malaga"
         ],
         "legendgroup": "Antwerp - Malaga",
         "marker": {
          "color": "#EF553B",
          "symbol": "circle"
         },
         "mode": "markers",
         "name": "Antwerp - Malaga",
         "orientation": "v",
         "showlegend": true,
         "type": "scatter",
         "x": [
          1766.47471024392
         ],
         "xaxis": "x",
         "y": [
          2674409
         ],
         "yaxis": "y"
        },
        {
         "hovertemplate": "<b>%{hovertext}</b><br><br>City_Pair_Name=Berlin - La Palma<br>Distance (km)=%{x}<br>Combined Population 2016=%{y}<extra></extra>",
         "hovertext": [
          "Berlin - La Palma"
         ],
         "legendgroup": "Berlin - La Palma",
         "marker": {
          "color": "#00cc96",
          "symbol": "circle"
         },
         "mode": "markers",
         "name": "Berlin - La Palma",
         "orientation": "v",
         "showlegend": true,
         "type": "scatter",
         "x": [
          3684.8412571457498
         ],
         "xaxis": "x",
         "y": [
          3601751
         ],
         "yaxis": "y"
        },
        {
         "hovertemplate": "<b>%{hovertext}</b><br><br>City_Pair_Name=Alicante - Seville<br>Distance (km)=%{x}<br>Combined Population 2016=%{y}<extra></extra>",
         "hovertext": [
          "Alicante - Seville"
         ],
         "legendgroup": "Alicante - Seville",
         "marker": {
          "color": "#ab63fa",
          "symbol": "circle"
         },
         "mode": "markers",
         "name": "Alicante - Seville",
         "orientation": "v",
         "showlegend": true,
         "type": "scatter",
         "x": [
          462.952870056231
         ],
         "xaxis": "x",
         "y": [
          3773463
         ],
         "yaxis": "y"
        },
        {
         "hovertemplate": "<b>%{hovertext}</b><br><br>City_Pair_Name=Amsterdam - Menorca<br>Distance (km)=%{x}<br>Combined Population 2016=%{y}<extra></extra>",
         "hovertext": [
          "Amsterdam - Menorca"
         ],
         "legendgroup": "Amsterdam - Menorca",
         "marker": {
          "color": "#FFA15A",
          "symbol": "circle"
         },
         "mode": "markers",
         "name": "Amsterdam - Menorca",
         "orientation": "v",
         "showlegend": true,
         "type": "scatter",
         "x": [
          1383.6249958071398
         ],
         "xaxis": "x",
         "y": [
          1421465
         ],
         "yaxis": "y"
        },
        {
         "hovertemplate": "<b>%{hovertext}</b><br><br>City_Pair_Name=Antwerp - Barcelona<br>Distance (km)=%{x}<br>Combined Population 2016=%{y}<extra></extra>",
         "hovertext": [
          "Antwerp - Barcelona"
         ],
         "legendgroup": "Antwerp - Barcelona",
         "marker": {
          "color": "#19d3f3",
          "symbol": "circle"
         },
         "mode": "markers",
         "name": "Antwerp - Barcelona",
         "orientation": "v",
         "showlegend": true,
         "type": "scatter",
         "x": [
          1079.1833596859701
         ],
         "xaxis": "x",
         "y": [
          6508957
         ],
         "yaxis": "y"
        },
        {
         "hovertemplate": "<b>%{hovertext}</b><br><br>City_Pair_Name=Charleroi - Toulon<br>Distance (km)=%{x}<br>Combined Population 2016=%{y}<extra></extra>",
         "hovertext": [
          "Charleroi - Toulon"
         ],
         "legendgroup": "Charleroi - Toulon",
         "marker": {
          "color": "#FF6692",
          "symbol": "circle"
         },
         "mode": "markers",
         "name": "Charleroi - Toulon",
         "orientation": "v",
         "showlegend": true,
         "type": "scatter",
         "x": [
          792.1886185192691
         ],
         "xaxis": "x",
         "y": [
          1487514
         ],
         "yaxis": "y"
        },
        {
         "hovertemplate": "<b>%{hovertext}</b><br><br>City_Pair_Name=Amsterdam - Dresden<br>Distance (km)=%{x}<br>Combined Population 2016=%{y}<extra></extra>",
         "hovertext": [
          "Amsterdam - Dresden"
         ],
         "legendgroup": "Amsterdam - Dresden",
         "marker": {
          "color": "#B6E880",
          "symbol": "circle"
         },
         "mode": "markers",
         "name": "Amsterdam - Dresden",
         "orientation": "v",
         "showlegend": true,
         "type": "scatter",
         "x": [
          629.874490271469
         ],
         "xaxis": "x",
         "y": [
          1873397
         ],
         "yaxis": "y"
        },
        {
         "hovertemplate": "<b>%{hovertext}</b><br><br>City_Pair_Name=Bilbao - Fuerteventura<br>Distance (km)=%{x}<br>Combined Population 2016=%{y}<extra></extra>",
         "hovertext": [
          "Bilbao - Fuerteventura"
         ],
         "legendgroup": "Bilbao - Fuerteventura",
         "marker": {
          "color": "#FF97FF",
          "symbol": "circle"
         },
         "mode": "markers",
         "name": "Bilbao - Fuerteventura",
         "orientation": "v",
         "showlegend": true,
         "type": "scatter",
         "x": [
          1929.64146827393
         ],
         "xaxis": "x",
         "y": [
          1250115
         ],
         "yaxis": "y"
        },
        {
         "hovertemplate": "<b>%{hovertext}</b><br><br>City_Pair_Name=Alicante - Liege<br>Distance (km)=%{x}<br>Combined Population 2016=%{y}<extra></extra>",
         "hovertext": [
          "Alicante - Liege"
         ],
         "legendgroup": "Alicante - Liege",
         "marker": {
          "color": "#FECB52",
          "symbol": "circle"
         },
         "mode": "markers",
         "name": "Alicante - Liege",
         "orientation": "v",
         "showlegend": true,
         "type": "scatter",
         "x": [
          1434.16150442786
         ],
         "xaxis": "x",
         "y": [
          2461760
         ],
         "yaxis": "y"
        },
        {
         "hovertemplate": "<b>%{hovertext}</b><br><br>City_Pair_Name=Fuerteventura - Lille<br>Distance (km)=%{x}<br>Combined Population 2016=%{y}<extra></extra>",
         "hovertext": [
          "Fuerteventura - Lille"
         ],
         "legendgroup": "Fuerteventura - Lille",
         "marker": {
          "color": "#636efa",
          "symbol": "circle"
         },
         "mode": "markers",
         "name": "Fuerteventura - Lille",
         "orientation": "v",
         "showlegend": true,
         "type": "scatter",
         "x": [
          2848.79443181589
         ],
         "xaxis": "x",
         "y": [
          2713647
         ],
         "yaxis": "y"
        },
        {
         "hovertemplate": "<b>%{hovertext}</b><br><br>City_Pair_Name=Gran Canaria - Weeze<br>Distance (km)=%{x}<br>Combined Population 2016=%{y}<extra></extra>",
         "hovertext": [
          "Gran Canaria - Weeze"
         ],
         "legendgroup": "Gran Canaria - Weeze",
         "marker": {
          "color": "#EF553B",
          "symbol": "circle"
         },
         "mode": "markers",
         "name": "Gran Canaria - Weeze",
         "orientation": "v",
         "showlegend": true,
         "type": "scatter",
         "x": [
          3202.49792334342
         ],
         "xaxis": "x",
         "y": [
          1157443
         ],
         "yaxis": "y"
        },
        {
         "hovertemplate": "<b>%{hovertext}</b><br><br>City_Pair_Name=Ostend - Palma de Mallorca<br>Distance (km)=%{x}<br>Combined Population 2016=%{y}<extra></extra>",
         "hovertext": [
          "Ostend - Palma de Mallorca"
         ],
         "legendgroup": "Ostend - Palma de Mallorca",
         "marker": {
          "color": "#00cc96",
          "symbol": "circle"
         },
         "mode": "markers",
         "name": "Ostend - Palma de Mallorca",
         "orientation": "v",
         "showlegend": true,
         "type": "scatter",
         "x": [
          1285.72237016506
         ],
         "xaxis": "x",
         "y": [
          1025590
         ],
         "yaxis": "y"
        },
        {
         "hovertemplate": "<b>%{hovertext}</b><br><br>City_Pair_Name=Charleroi - Murcia<br>Distance (km)=%{x}<br>Combined Population 2016=%{y}<extra></extra>",
         "hovertext": [
          "Charleroi - Murcia"
         ],
         "legendgroup": "Charleroi - Murcia",
         "marker": {
          "color": "#ab63fa",
          "symbol": "circle"
         },
         "mode": "markers",
         "name": "Charleroi - Murcia",
         "orientation": "v",
         "showlegend": true,
         "type": "scatter",
         "x": [
          1461.6218351903299
         ],
         "xaxis": "x",
         "y": [
          1900060
         ],
         "yaxis": "y"
        },
        {
         "hovertemplate": "<b>%{hovertext}</b><br><br>City_Pair_Name=Asturias - Lanzarote<br>Distance (km)=%{x}<br>Combined Population 2016=%{y}<extra></extra>",
         "hovertext": [
          "Asturias - Lanzarote"
         ],
         "legendgroup": "Asturias - Lanzarote",
         "marker": {
          "color": "#FFA15A",
          "symbol": "circle"
         },
         "mode": "markers",
         "name": "Asturias - Lanzarote",
         "orientation": "v",
         "showlegend": true,
         "type": "scatter",
         "x": [
          1727.0662196175601
         ],
         "xaxis": "x",
         "y": [
          1183271
         ],
         "yaxis": "y"
        },
        {
         "hovertemplate": "<b>%{hovertext}</b><br><br>City_Pair_Name=Frankfurt - La Palma<br>Distance (km)=%{x}<br>Combined Population 2016=%{y}<extra></extra>",
         "hovertext": [
          "Frankfurt - La Palma"
         ],
         "legendgroup": "Frankfurt - La Palma",
         "marker": {
          "color": "#19d3f3",
          "symbol": "circle"
         },
         "mode": "markers",
         "name": "Frankfurt - La Palma",
         "orientation": "v",
         "showlegend": true,
         "type": "scatter",
         "x": [
          3261.8962950435603
         ],
         "xaxis": "x",
         "y": [
          814408
         ],
         "yaxis": "y"
        },
        {
         "hovertemplate": "<b>%{hovertext}</b><br><br>City_Pair_Name=Barcelona - La Palma<br>Distance (km)=%{x}<br>Combined Population 2016=%{y}<extra></extra>",
         "hovertext": [
          "Barcelona - La Palma"
         ],
         "legendgroup": "Barcelona - La Palma",
         "marker": {
          "color": "#FF6692",
          "symbol": "circle"
         },
         "mode": "markers",
         "name": "Barcelona - La Palma",
         "orientation": "v",
         "showlegend": true,
         "type": "scatter",
         "x": [
          2303.43502055928
         ],
         "xaxis": "x",
         "y": [
          5554646
         ],
         "yaxis": "y"
        },
        {
         "hovertemplate": "<b>%{hovertext}</b><br><br>City_Pair_Name=Calvi - Nice<br>Distance (km)=%{x}<br>Combined Population 2016=%{y}<extra></extra>",
         "hovertext": [
          "Calvi - Nice"
         ],
         "legendgroup": "Calvi - Nice",
         "marker": {
          "color": "#B6E880",
          "symbol": "circle"
         },
         "mode": "markers",
         "name": "Calvi - Nice",
         "orientation": "v",
         "showlegend": true,
         "type": "scatter",
         "x": [
          241.14770398938902
         ],
         "xaxis": "x",
         "y": [
          1259856
         ],
         "yaxis": "y"
        },
        {
         "hovertemplate": "<b>%{hovertext}</b><br><br>City_Pair_Name=Asturias - Paris<br>Distance (km)=%{x}<br>Combined Population 2016=%{y}<extra></extra>",
         "hovertext": [
          "Asturias - Paris"
         ],
         "legendgroup": "Asturias - Paris",
         "marker": {
          "color": "#FF97FF",
          "symbol": "circle"
         },
         "mode": "markers",
         "name": "Asturias - Paris",
         "orientation": "v",
         "showlegend": true,
         "type": "scatter",
         "x": [
          896.4652505579729
         ],
         "xaxis": "x",
         "y": [
          2262330
         ],
         "yaxis": "y"
        },
        {
         "hovertemplate": "<b>%{hovertext}</b><br><br>City_Pair_Name=Liege - Malaga<br>Distance (km)=%{x}<br>Combined Population 2016=%{y}<extra></extra>",
         "hovertext": [
          "Liege - Malaga"
         ],
         "legendgroup": "Liege - Malaga",
         "marker": {
          "color": "#FECB52",
          "symbol": "circle"
         },
         "mode": "markers",
         "name": "Liege - Malaga",
         "orientation": "v",
         "showlegend": true,
         "type": "scatter",
         "x": [
          1740.95641796009
         ],
         "xaxis": "x",
         "y": [
          2262265
         ],
         "yaxis": "y"
        },
        {
         "hovertemplate": "<b>%{hovertext}</b><br><br>City_Pair_Name=Erfurt - Palma de Mallorca<br>Distance (km)=%{x}<br>Combined Population 2016=%{y}<extra></extra>",
         "hovertext": [
          "Erfurt - Palma de Mallorca"
         ],
         "legendgroup": "Erfurt - Palma de Mallorca",
         "marker": {
          "color": "#636efa",
          "symbol": "circle"
         },
         "mode": "markers",
         "name": "Erfurt - Palma de Mallorca",
         "orientation": "v",
         "showlegend": true,
         "type": "scatter",
         "x": [
          1410.79106326939
         ],
         "xaxis": "x",
         "y": [
          1080452
         ],
         "yaxis": "y"
        },
        {
         "hovertemplate": "<b>%{hovertext}</b><br><br>City_Pair_Name=La Palma - Munich<br>Distance (km)=%{x}<br>Combined Population 2016=%{y}<extra></extra>",
         "hovertext": [
          "La Palma - Munich"
         ],
         "legendgroup": "La Palma - Munich",
         "marker": {
          "color": "#EF553B",
          "symbol": "circle"
         },
         "mode": "markers",
         "name": "La Palma - Munich",
         "orientation": "v",
         "showlegend": true,
         "type": "scatter",
         "x": [
          3317.47216584099
         ],
         "xaxis": "x",
         "y": [
          1532101
         ],
         "yaxis": "y"
        },
        {
         "hovertemplate": "<b>%{hovertext}</b><br><br>City_Pair_Name=Bremen - Malaga<br>Distance (km)=%{x}<br>Combined Population 2016=%{y}<extra></extra>",
         "hovertext": [
          "Bremen - Malaga"
         ],
         "legendgroup": "Bremen - Malaga",
         "marker": {
          "color": "#00cc96",
          "symbol": "circle"
         },
         "mode": "markers",
         "name": "Bremen - Malaga",
         "orientation": "v",
         "showlegend": true,
         "type": "scatter",
         "x": [
          2092.97822881527
         ],
         "xaxis": "x",
         "y": [
          2195842
         ],
         "yaxis": "y"
        },
        {
         "hovertemplate": "<b>%{hovertext}</b><br><br>City_Pair_Name=Brussels - Jerez<br>Distance (km)=%{x}<br>Combined Population 2016=%{y}<extra></extra>",
         "hovertext": [
          "Brussels - Jerez"
         ],
         "legendgroup": "Brussels - Jerez",
         "marker": {
          "color": "#ab63fa",
          "symbol": "circle"
         },
         "mode": "markers",
         "name": "Brussels - Jerez",
         "orientation": "v",
         "showlegend": true,
         "type": "scatter",
         "x": [
          1781.0187282773802
         ],
         "xaxis": "x",
         "y": [
          2445760
         ],
         "yaxis": "y"
        },
        {
         "hovertemplate": "<b>%{hovertext}</b><br><br>City_Pair_Name=Menorca - Paris<br>Distance (km)=%{x}<br>Combined Population 2016=%{y}<extra></extra>",
         "hovertext": [
          "Menorca - Paris",
          "Menorca - Paris"
         ],
         "legendgroup": "Menorca - Paris",
         "marker": {
          "color": "#FFA15A",
          "symbol": "circle"
         },
         "mode": "markers",
         "name": "Menorca - Paris",
         "orientation": "v",
         "showlegend": true,
         "type": "scatter",
         "x": [
          1025.91599839001,
          988.63427035656
         ],
         "xaxis": "x",
         "y": [
          1313816,
          1470044
         ],
         "yaxis": "y"
        },
        {
         "hovertemplate": "<b>%{hovertext}</b><br><br>City_Pair_Name=Liege - Madrid<br>Distance (km)=%{x}<br>Combined Population 2016=%{y}<extra></extra>",
         "hovertext": [
          "Liege - Madrid"
         ],
         "legendgroup": "Liege - Madrid",
         "marker": {
          "color": "#19d3f3",
          "symbol": "circle"
         },
         "mode": "markers",
         "name": "Liege - Madrid",
         "orientation": "v",
         "showlegend": true,
         "type": "scatter",
         "x": [
          1336.74359475175
         ],
         "xaxis": "x",
         "y": [
          7035353
         ],
         "yaxis": "y"
        },
        {
         "hovertemplate": "<b>%{hovertext}</b><br><br>City_Pair_Name=Metz-Nancy-Lorraine - Nice<br>Distance (km)=%{x}<br>Combined Population 2016=%{y}<extra></extra>",
         "hovertext": [
          "Metz-Nancy-Lorraine - Nice"
         ],
         "legendgroup": "Metz-Nancy-Lorraine - Nice",
         "marker": {
          "color": "#FF6692",
          "symbol": "circle"
         },
         "mode": "markers",
         "name": "Metz-Nancy-Lorraine - Nice",
         "orientation": "v",
         "showlegend": true,
         "type": "scatter",
         "x": [
          568.181685735133
         ],
         "xaxis": "x",
         "y": [
          2128975
         ],
         "yaxis": "y"
        },
        {
         "hovertemplate": "<b>%{hovertext}</b><br><br>City_Pair_Name=Malaga - Nuremberg<br>Distance (km)=%{x}<br>Combined Population 2016=%{y}<extra></extra>",
         "hovertext": [
          "Malaga - Nuremberg"
         ],
         "legendgroup": "Malaga - Nuremberg",
         "marker": {
          "color": "#B6E880",
          "symbol": "circle"
         },
         "mode": "markers",
         "name": "Malaga - Nuremberg",
         "orientation": "v",
         "showlegend": true,
         "type": "scatter",
         "x": [
          1893.74673886999
         ],
         "xaxis": "x",
         "y": [
          2148353
         ],
         "yaxis": "y"
        },
        {
         "hovertemplate": "<b>%{hovertext}</b><br><br>City_Pair_Name=Dortmund - Malaga<br>Distance (km)=%{x}<br>Combined Population 2016=%{y}<extra></extra>",
         "hovertext": [
          "Dortmund - Malaga"
         ],
         "legendgroup": "Dortmund - Malaga",
         "marker": {
          "color": "#FF97FF",
          "symbol": "circle"
         },
         "mode": "markers",
         "name": "Dortmund - Malaga",
         "orientation": "v",
         "showlegend": true,
         "type": "scatter",
         "x": [
          1896.82174351643
         ],
         "xaxis": "x",
         "y": [
          2224559
         ],
         "yaxis": "y"
        },
        {
         "hovertemplate": "<b>%{hovertext}</b><br><br>City_Pair_Name=Alicante - Nuremberg<br>Distance (km)=%{x}<br>Combined Population 2016=%{y}<extra></extra>",
         "hovertext": [
          "Alicante - Nuremberg"
         ],
         "legendgroup": "Alicante - Nuremberg",
         "marker": {
          "color": "#FECB52",
          "symbol": "circle"
         },
         "mode": "markers",
         "name": "Alicante - Nuremberg",
         "orientation": "v",
         "showlegend": true,
         "type": "scatter",
         "x": [
          1530.5667933593
         ],
         "xaxis": "x",
         "y": [
          2347848
         ],
         "yaxis": "y"
        },
        {
         "hovertemplate": "<b>%{hovertext}</b><br><br>City_Pair_Name=Alicante - Menorca<br>Distance (km)=%{x}<br>Combined Population 2016=%{y}<extra></extra>",
         "hovertext": [
          "Alicante - Menorca"
         ],
         "legendgroup": "Alicante - Menorca",
         "marker": {
          "color": "#636efa",
          "symbol": "circle"
         },
         "mode": "markers",
         "name": "Alicante - Menorca",
         "orientation": "v",
         "showlegend": true,
         "type": "scatter",
         "x": [
          432.62924195455787
         ],
         "xaxis": "x",
         "y": [
          1929766
         ],
         "yaxis": "y"
        },
        {
         "hovertemplate": "<b>%{hovertext}</b><br><br>City_Pair_Name=Gran Canaria - Nantes<br>Distance (km)=%{x}<br>Combined Population 2016=%{y}<extra></extra>",
         "hovertext": [
          "Gran Canaria - Nantes"
         ],
         "legendgroup": "Gran Canaria - Nantes",
         "marker": {
          "color": "#EF553B",
          "symbol": "circle"
         },
         "mode": "markers",
         "name": "Gran Canaria - Nantes",
         "orientation": "v",
         "showlegend": true,
         "type": "scatter",
         "x": [
          2472.6598379650304
         ],
         "xaxis": "x",
         "y": [
          2227958
         ],
         "yaxis": "y"
        },
        {
         "hovertemplate": "<b>%{hovertext}</b><br><br>City_Pair_Name=Almeria - Charleroi<br>Distance (km)=%{x}<br>Combined Population 2016=%{y}<extra></extra>",
         "hovertext": [
          "Almeria - Charleroi"
         ],
         "legendgroup": "Almeria - Charleroi",
         "marker": {
          "color": "#00cc96",
          "symbol": "circle"
         },
         "mode": "markers",
         "name": "Almeria - Charleroi",
         "orientation": "v",
         "showlegend": true,
         "type": "scatter",
         "x": [
          1569.73798353496
         ],
         "xaxis": "x",
         "y": [
          1131748
         ],
         "yaxis": "y"
        },
        {
         "hovertemplate": "<b>%{hovertext}</b><br><br>City_Pair_Name=Karlsruhe/Baden-Baden - Tenerife South<br>Distance (km)=%{x}<br>Combined Population 2016=%{y}<extra></extra>",
         "hovertext": [
          "Karlsruhe/Baden-Baden - Tenerife South"
         ],
         "legendgroup": "Karlsruhe/Baden-Baden - Tenerife South",
         "marker": {
          "color": "#ab63fa",
          "symbol": "circle"
         },
         "mode": "markers",
         "name": "Karlsruhe/Baden-Baden - Tenerife South",
         "orientation": "v",
         "showlegend": true,
         "type": "scatter",
         "x": [
          3135.42306985253
         ],
         "xaxis": "x",
         "y": [
          1198013
         ],
         "yaxis": "y"
        },
        {
         "hovertemplate": "<b>%{hovertext}</b><br><br>City_Pair_Name=Clermont-Ferrand - Lyon<br>Distance (km)=%{x}<br>Combined Population 2016=%{y}<extra></extra>",
         "hovertext": [
          "Clermont-Ferrand - Lyon"
         ],
         "legendgroup": "Clermont-Ferrand - Lyon",
         "marker": {
          "color": "#FFA15A",
          "symbol": "circle"
         },
         "mode": "markers",
         "name": "Clermont-Ferrand - Lyon",
         "orientation": "v",
         "showlegend": true,
         "type": "scatter",
         "x": [
          117.432552599895
         ],
         "xaxis": "x",
         "y": [
          2486603
         ],
         "yaxis": "y"
        },
        {
         "hovertemplate": "<b>%{hovertext}</b><br><br>City_Pair_Name=Gran Canaria - Ostend<br>Distance (km)=%{x}<br>Combined Population 2016=%{y}<extra></extra>",
         "hovertext": [
          "Gran Canaria - Ostend"
         ],
         "legendgroup": "Gran Canaria - Ostend",
         "marker": {
          "color": "#19d3f3",
          "symbol": "circle"
         },
         "mode": "markers",
         "name": "Gran Canaria - Ostend",
         "orientation": "v",
         "showlegend": true,
         "type": "scatter",
         "x": [
          3013.20519853675
         ],
         "xaxis": "x",
         "y": [
          1002362
         ],
         "yaxis": "y"
        },
        {
         "hovertemplate": "<b>%{hovertext}</b><br><br>City_Pair_Name=Bordeaux - Figari<br>Distance (km)=%{x}<br>Combined Population 2016=%{y}<extra></extra>",
         "hovertext": [
          "Bordeaux - Figari"
         ],
         "legendgroup": "Bordeaux - Figari",
         "marker": {
          "color": "#FF6692",
          "symbol": "circle"
         },
         "mode": "markers",
         "name": "Bordeaux - Figari",
         "orientation": "v",
         "showlegend": true,
         "type": "scatter",
         "x": [
          839.654296574013
         ],
         "xaxis": "x",
         "y": [
          1720982
         ],
         "yaxis": "y"
        },
        {
         "hovertemplate": "<b>%{hovertext}</b><br><br>City_Pair_Name=Ajaccio - Caen<br>Distance (km)=%{x}<br>Combined Population 2016=%{y}<extra></extra>",
         "hovertext": [
          "Ajaccio - Caen"
         ],
         "legendgroup": "Ajaccio - Caen",
         "marker": {
          "color": "#B6E880",
          "symbol": "circle"
         },
         "mode": "markers",
         "name": "Ajaccio - Caen",
         "orientation": "v",
         "showlegend": true,
         "type": "scatter",
         "x": [
          1084.08121517241
         ],
         "xaxis": "x",
         "y": [
          847982
         ],
         "yaxis": "y"
        },
        {
         "hovertemplate": "<b>%{hovertext}</b><br><br>City_Pair_Name=Asturias - Valencia<br>Distance (km)=%{x}<br>Combined Population 2016=%{y}<extra></extra>",
         "hovertext": [
          "Asturias - Valencia"
         ],
         "legendgroup": "Asturias - Valencia",
         "marker": {
          "color": "#FF97FF",
          "symbol": "circle"
         },
         "mode": "markers",
         "name": "Asturias - Valencia",
         "orientation": "v",
         "showlegend": true,
         "type": "scatter",
         "x": [
          617.9842766355071
         ],
         "xaxis": "x",
         "y": [
          3566876
         ],
         "yaxis": "y"
        },
        {
         "hovertemplate": "<b>%{hovertext}</b><br><br>City_Pair_Name=Figari - Toulouse<br>Distance (km)=%{x}<br>Combined Population 2016=%{y}<extra></extra>",
         "hovertext": [
          "Figari - Toulouse"
         ],
         "legendgroup": "Figari - Toulouse",
         "marker": {
          "color": "#FECB52",
          "symbol": "circle"
         },
         "mode": "markers",
         "name": "Figari - Toulouse",
         "orientation": "v",
         "showlegend": true,
         "type": "scatter",
         "x": [
          660.4400007128651
         ],
         "xaxis": "x",
         "y": [
          1502486
         ],
         "yaxis": "y"
        },
        {
         "hovertemplate": "<b>%{hovertext}</b><br><br>City_Pair_Name=Amsterdam - Santiago de Compostela<br>Distance (km)=%{x}<br>Combined Population 2016=%{y}<extra></extra>",
         "hovertext": [
          "Amsterdam - Santiago de Compostela"
         ],
         "legendgroup": "Amsterdam - Santiago de Compostela",
         "marker": {
          "color": "#636efa",
          "symbol": "circle"
         },
         "mode": "markers",
         "name": "Amsterdam - Santiago de Compostela",
         "orientation": "v",
         "showlegend": true,
         "type": "scatter",
         "x": [
          1429.81179053902
         ],
         "xaxis": "x",
         "y": [
          2452587
         ],
         "yaxis": "y"
        },
        {
         "hovertemplate": "<b>%{hovertext}</b><br><br>City_Pair_Name=Menorca - Munich<br>Distance (km)=%{x}<br>Combined Population 2016=%{y}<extra></extra>",
         "hovertext": [
          "Menorca - Munich"
         ],
         "legendgroup": "Menorca - Munich",
         "marker": {
          "color": "#EF553B",
          "symbol": "circle"
         },
         "mode": "markers",
         "name": "Menorca - Munich",
         "orientation": "v",
         "showlegend": true,
         "type": "scatter",
         "x": [
          1088.12461435428
         ],
         "xaxis": "x",
         "y": [
          1542274
         ],
         "yaxis": "y"
        },
        {
         "hovertemplate": "<b>%{hovertext}</b><br><br>City_Pair_Name=Lille - Malaga<br>Distance (km)=%{x}<br>Combined Population 2016=%{y}<extra></extra>",
         "hovertext": [
          "Lille - Malaga"
         ],
         "legendgroup": "Lille - Malaga",
         "marker": {
          "color": "#00cc96",
          "symbol": "circle"
         },
         "mode": "markers",
         "name": "Lille - Malaga",
         "orientation": "v",
         "showlegend": true,
         "type": "scatter",
         "x": [
          1643.2208856977202
         ],
         "xaxis": "x",
         "y": [
          4242101
         ],
         "yaxis": "y"
        },
        {
         "hovertemplate": "<b>%{hovertext}</b><br><br>City_Pair_Name=Rotterdam - Tenerife South<br>Distance (km)=%{x}<br>Combined Population 2016=%{y}<extra></extra>",
         "hovertext": [
          "Rotterdam - Tenerife South"
         ],
         "legendgroup": "Rotterdam - Tenerife South",
         "marker": {
          "color": "#ab63fa",
          "symbol": "circle"
         },
         "mode": "markers",
         "name": "Rotterdam - Tenerife South",
         "orientation": "v",
         "showlegend": true,
         "type": "scatter",
         "x": [
          3139.2464417534698
         ],
         "xaxis": "x",
         "y": [
          2302580
         ],
         "yaxis": "y"
        },
        {
         "hovertemplate": "<b>%{hovertext}</b><br><br>City_Pair_Name=Amsterdam - Rennes<br>Distance (km)=%{x}<br>Combined Population 2016=%{y}<extra></extra>",
         "hovertext": [
          "Amsterdam - Rennes"
         ],
         "legendgroup": "Amsterdam - Rennes",
         "marker": {
          "color": "#FFA15A",
          "symbol": "circle"
         },
         "mode": "markers",
         "name": "Amsterdam - Rennes",
         "orientation": "v",
         "showlegend": true,
         "type": "scatter",
         "x": [
          660.4828151681661
         ],
         "xaxis": "x",
         "y": [
          2381351
         ],
         "yaxis": "y"
        },
        {
         "hovertemplate": "<b>%{hovertext}</b><br><br>City_Pair_Name=Munich - Rostock<br>Distance (km)=%{x}<br>Combined Population 2016=%{y}<extra></extra>",
         "hovertext": [
          "Munich - Rostock"
         ],
         "legendgroup": "Munich - Rostock",
         "marker": {
          "color": "#19d3f3",
          "symbol": "circle"
         },
         "mode": "markers",
         "name": "Munich - Rostock",
         "orientation": "v",
         "showlegend": true,
         "type": "scatter",
         "x": [
          667.702897805608
         ],
         "xaxis": "x",
         "y": [
          1656392
         ],
         "yaxis": "y"
        },
        {
         "hovertemplate": "<b>%{hovertext}</b><br><br>City_Pair_Name=Bordeaux - Seville<br>Distance (km)=%{x}<br>Combined Population 2016=%{y}<extra></extra>",
         "hovertext": [
          "Bordeaux - Seville"
         ],
         "legendgroup": "Bordeaux - Seville",
         "marker": {
          "color": "#FF6692",
          "symbol": "circle"
         },
         "mode": "markers",
         "name": "Bordeaux - Seville",
         "orientation": "v",
         "showlegend": true,
         "type": "scatter",
         "x": [
          925.6381494184441
         ],
         "xaxis": "x",
         "y": [
          3502269
         ],
         "yaxis": "y"
        },
        {
         "hovertemplate": "<b>%{hovertext}</b><br><br>City_Pair_Name=Charleroi - La Rochelle<br>Distance (km)=%{x}<br>Combined Population 2016=%{y}<extra></extra>",
         "hovertext": [
          "Charleroi - La Rochelle"
         ],
         "legendgroup": "Charleroi - La Rochelle",
         "marker": {
          "color": "#B6E880",
          "symbol": "circle"
         },
         "mode": "markers",
         "name": "Charleroi - La Rochelle",
         "orientation": "v",
         "showlegend": true,
         "type": "scatter",
         "x": [
          642.26069756057
         ],
         "xaxis": "x",
         "y": [
          1073884
         ],
         "yaxis": "y"
        },
        {
         "hovertemplate": "<b>%{hovertext}</b><br><br>City_Pair_Name=Bergerac - Charleroi<br>Distance (km)=%{x}<br>Combined Population 2016=%{y}<extra></extra>",
         "hovertext": [
          "Bergerac - Charleroi"
         ],
         "legendgroup": "Bergerac - Charleroi",
         "marker": {
          "color": "#FF97FF",
          "symbol": "circle"
         },
         "mode": "markers",
         "name": "Bergerac - Charleroi",
         "orientation": "v",
         "showlegend": true,
         "type": "scatter",
         "x": [
          655.405903409532
         ],
         "xaxis": "x",
         "y": [
          846482
         ],
         "yaxis": "y"
        },
        {
         "hovertemplate": "<b>%{hovertext}</b><br><br>City_Pair_Name=Marseille - Tours<br>Distance (km)=%{x}<br>Combined Population 2016=%{y}<extra></extra>",
         "hovertext": [
          "Marseille - Tours"
         ],
         "legendgroup": "Marseille - Tours",
         "marker": {
          "color": "#FECB52",
          "symbol": "circle"
         },
         "mode": "markers",
         "name": "Marseille - Tours",
         "orientation": "v",
         "showlegend": true,
         "type": "scatter",
         "x": [
          536.848013204736
         ],
         "xaxis": "x",
         "y": [
          2625940
         ],
         "yaxis": "y"
        },
        {
         "hovertemplate": "<b>%{hovertext}</b><br><br>City_Pair_Name=Ajaccio - Strasbourg<br>Distance (km)=%{x}<br>Combined Population 2016=%{y}<extra></extra>",
         "hovertext": [
          "Ajaccio - Strasbourg"
         ],
         "legendgroup": "Ajaccio - Strasbourg",
         "marker": {
          "color": "#636efa",
          "symbol": "circle"
         },
         "mode": "markers",
         "name": "Ajaccio - Strasbourg",
         "orientation": "v",
         "showlegend": true,
         "type": "scatter",
         "x": [
          765.0712684767041
         ],
         "xaxis": "x",
         "y": [
          1275710
         ],
         "yaxis": "y"
        },
        {
         "hovertemplate": "<b>%{hovertext}</b><br><br>City_Pair_Name=Bastia - Strasbourg<br>Distance (km)=%{x}<br>Combined Population 2016=%{y}<extra></extra>",
         "hovertext": [
          "Bastia - Strasbourg"
         ],
         "legendgroup": "Bastia - Strasbourg",
         "marker": {
          "color": "#EF553B",
          "symbol": "circle"
         },
         "mode": "markers",
         "name": "Bastia - Strasbourg",
         "orientation": "v",
         "showlegend": true,
         "type": "scatter",
         "x": [
          709.661533942146
         ],
         "xaxis": "x",
         "y": [
          1297559
         ],
         "yaxis": "y"
        },
        {
         "hovertemplate": "<b>%{hovertext}</b><br><br>City_Pair_Name=Santander - Weeze<br>Distance (km)=%{x}<br>Combined Population 2016=%{y}<extra></extra>",
         "hovertext": [
          "Santander - Weeze"
         ],
         "legendgroup": "Santander - Weeze",
         "marker": {
          "color": "#00cc96",
          "symbol": "circle"
         },
         "mode": "markers",
         "name": "Santander - Weeze",
         "orientation": "v",
         "showlegend": true,
         "type": "scatter",
         "x": [
          1215.44767823896
         ],
         "xaxis": "x",
         "y": [
          892831
         ],
         "yaxis": "y"
        },
        {
         "hovertemplate": "<b>%{hovertext}</b><br><br>City_Pair_Name=Figari - Lyon<br>Distance (km)=%{x}<br>Combined Population 2016=%{y}<extra></extra>",
         "hovertext": [
          "Figari - Lyon"
         ],
         "legendgroup": "Figari - Lyon",
         "marker": {
          "color": "#ab63fa",
          "symbol": "circle"
         },
         "mode": "markers",
         "name": "Figari - Lyon",
         "orientation": "v",
         "showlegend": true,
         "type": "scatter",
         "x": [
          565.240552553474
         ],
         "xaxis": "x",
         "y": [
          1990206
         ],
         "yaxis": "y"
        },
        {
         "hovertemplate": "<b>%{hovertext}</b><br><br>City_Pair_Name=La Rochelle - Lyon<br>Distance (km)=%{x}<br>Combined Population 2016=%{y}<extra></extra>",
         "hovertext": [
          "La Rochelle - Lyon"
         ],
         "legendgroup": "La Rochelle - Lyon",
         "marker": {
          "color": "#FFA15A",
          "symbol": "circle"
         },
         "mode": "markers",
         "name": "La Rochelle - Lyon",
         "orientation": "v",
         "showlegend": true,
         "type": "scatter",
         "x": [
          409.76880877885503
         ],
         "xaxis": "x",
         "y": [
          2478094
         ],
         "yaxis": "y"
        },
        {
         "hovertemplate": "<b>%{hovertext}</b><br><br>City_Pair_Name=Gran Canaria - Liege<br>Distance (km)=%{x}<br>Combined Population 2016=%{y}<extra></extra>",
         "hovertext": [
          "Gran Canaria - Liege"
         ],
         "legendgroup": "Gran Canaria - Liege",
         "marker": {
          "color": "#19d3f3",
          "symbol": "circle"
         },
         "mode": "markers",
         "name": "Gran Canaria - Liege",
         "orientation": "v",
         "showlegend": true,
         "type": "scatter",
         "x": [
          3087.1485161220303
         ],
         "xaxis": "x",
         "y": [
          1470993
         ],
         "yaxis": "y"
        },
        {
         "hovertemplate": "<b>%{hovertext}</b><br><br>City_Pair_Name=Palma de Mallorca - Rostock<br>Distance (km)=%{x}<br>Combined Population 2016=%{y}<extra></extra>",
         "hovertext": [
          "Palma de Mallorca - Rostock"
         ],
         "legendgroup": "Palma de Mallorca - Rostock",
         "marker": {
          "color": "#FF6692",
          "symbol": "circle"
         },
         "mode": "markers",
         "name": "Palma de Mallorca - Rostock",
         "orientation": "v",
         "showlegend": true,
         "type": "scatter",
         "x": [
          1756.9250891255301
         ],
         "xaxis": "x",
         "y": [
          1076345
         ],
         "yaxis": "y"
        },
        {
         "hovertemplate": "<b>%{hovertext}</b><br><br>City_Pair_Name=Jerez - Palma de Mallorca<br>Distance (km)=%{x}<br>Combined Population 2016=%{y}<extra></extra>",
         "hovertext": [
          "Jerez - Palma de Mallorca"
         ],
         "legendgroup": "Jerez - Palma de Mallorca",
         "marker": {
          "color": "#B6E880",
          "symbol": "circle"
         },
         "mode": "markers",
         "name": "Jerez - Palma de Mallorca",
         "orientation": "v",
         "showlegend": true,
         "type": "scatter",
         "x": [
          834.9260677773509
         ],
         "xaxis": "x",
         "y": [
          2114809
         ],
         "yaxis": "y"
        },
        {
         "hovertemplate": "<b>%{hovertext}</b><br><br>City_Pair_Name=Rostock - Stuttgart<br>Distance (km)=%{x}<br>Combined Population 2016=%{y}<extra></extra>",
         "hovertext": [
          "Rostock - Stuttgart"
         ],
         "legendgroup": "Rostock - Stuttgart",
         "marker": {
          "color": "#FF97FF",
          "symbol": "circle"
         },
         "mode": "markers",
         "name": "Rostock - Stuttgart",
         "orientation": "v",
         "showlegend": true,
         "type": "scatter",
         "x": [
          631.5686171833651
         ],
         "xaxis": "x",
         "y": [
          829749
         ],
         "yaxis": "y"
        },
        {
         "hovertemplate": "<b>%{hovertext}</b><br><br>City_Pair_Name=Brussels - Tarbes<br>Distance (km)=%{x}<br>Combined Population 2016=%{y}<extra></extra>",
         "hovertext": [
          "Brussels - Tarbes"
         ],
         "legendgroup": "Brussels - Tarbes",
         "marker": {
          "color": "#FECB52",
          "symbol": "circle"
         },
         "mode": "markers",
         "name": "Brussels - Tarbes",
         "orientation": "v",
         "showlegend": true,
         "type": "scatter",
         "x": [
          922.299579609949
         ],
         "xaxis": "x",
         "y": [
          1429114
         ],
         "yaxis": "y"
        },
        {
         "hovertemplate": "<b>%{hovertext}</b><br><br>City_Pair_Name=Brussels - Reus<br>Distance (km)=%{x}<br>Combined Population 2016=%{y}<extra></extra>",
         "hovertext": [
          "Brussels - Reus"
         ],
         "legendgroup": "Brussels - Reus",
         "marker": {
          "color": "#636efa",
          "symbol": "circle"
         },
         "mode": "markers",
         "name": "Brussels - Reus",
         "orientation": "v",
         "showlegend": true,
         "type": "scatter",
         "x": [
          1117.79055303337
         ],
         "xaxis": "x",
         "y": [
          1993448
         ],
         "yaxis": "y"
        },
        {
         "hovertemplate": "<b>%{hovertext}</b><br><br>City_Pair_Name=Barcelona - Brest<br>Distance (km)=%{x}<br>Combined Population 2016=%{y}<extra></extra>",
         "hovertext": [
          "Barcelona - Brest"
         ],
         "legendgroup": "Barcelona - Brest",
         "marker": {
          "color": "#EF553B",
          "symbol": "circle"
         },
         "mode": "markers",
         "name": "Barcelona - Brest",
         "orientation": "v",
         "showlegend": true,
         "type": "scatter",
         "x": [
          866.918540254301
         ],
         "xaxis": "x",
         "y": [
          6381175
         ],
         "yaxis": "y"
        },
        {
         "hovertemplate": "<b>%{hovertext}</b><br><br>City_Pair_Name=Cologne - Rostock<br>Distance (km)=%{x}<br>Combined Population 2016=%{y}<extra></extra>",
         "hovertext": [
          "Cologne - Rostock"
         ],
         "legendgroup": "Cologne - Rostock",
         "marker": {
          "color": "#00cc96",
          "symbol": "circle"
         },
         "mode": "markers",
         "name": "Cologne - Rostock",
         "orientation": "v",
         "showlegend": true,
         "type": "scatter",
         "x": [
          498.60180434967504
         ],
         "xaxis": "x",
         "y": [
          1266593
         ],
         "yaxis": "y"
        },
        {
         "hovertemplate": "<b>%{hovertext}</b><br><br>City_Pair_Name=Limoges - Lyon<br>Distance (km)=%{x}<br>Combined Population 2016=%{y}<extra></extra>",
         "hovertext": [
          "Limoges - Lyon"
         ],
         "legendgroup": "Limoges - Lyon",
         "marker": {
          "color": "#ab63fa",
          "symbol": "circle"
         },
         "mode": "markers",
         "name": "Limoges - Lyon",
         "orientation": "v",
         "showlegend": true,
         "type": "scatter",
         "x": [
          263.658721366062
         ],
         "xaxis": "x",
         "y": [
          2210881
         ],
         "yaxis": "y"
        },
        {
         "hovertemplate": "<b>%{hovertext}</b><br><br>City_Pair_Name=Almeria - Amsterdam<br>Distance (km)=%{x}<br>Combined Population 2016=%{y}<extra></extra>",
         "hovertext": [
          "Almeria - Amsterdam"
         ],
         "legendgroup": "Almeria - Amsterdam",
         "marker": {
          "color": "#FFA15A",
          "symbol": "circle"
         },
         "mode": "markers",
         "name": "Almeria - Amsterdam",
         "orientation": "v",
         "showlegend": true,
         "type": "scatter",
         "x": [
          1781.2123400079201
         ],
         "xaxis": "x",
         "y": [
          2029627
         ],
         "yaxis": "y"
        },
        {
         "hovertemplate": "<b>%{hovertext}</b><br><br>City_Pair_Name=Gran Canaria - Munster<br>Distance (km)=%{x}<br>Combined Population 2016=%{y}<extra></extra>",
         "hovertext": [
          "Gran Canaria - Munster"
         ],
         "legendgroup": "Gran Canaria - Munster",
         "marker": {
          "color": "#19d3f3",
          "symbol": "circle"
         },
         "mode": "markers",
         "name": "Gran Canaria - Munster",
         "orientation": "v",
         "showlegend": true,
         "type": "scatter",
         "x": [
          3291.83542473097
         ],
         "xaxis": "x",
         "y": [
          1157145
         ],
         "yaxis": "y"
        },
        {
         "hovertemplate": "<b>%{hovertext}</b><br><br>City_Pair_Name=Almeria - Luxembourg City<br>Distance (km)=%{x}<br>Combined Population 2016=%{y}<extra></extra>",
         "hovertext": [
          "Almeria - Luxembourg City"
         ],
         "legendgroup": "Almeria - Luxembourg City",
         "marker": {
          "color": "#FF6692",
          "symbol": "circle"
         },
         "mode": "markers",
         "name": "Almeria - Luxembourg City",
         "orientation": "v",
         "showlegend": true,
         "type": "scatter",
         "x": [
          1553.49963928575
         ],
         "xaxis": "x",
         "y": [
          1276304
         ],
         "yaxis": "y"
        },
        {
         "hovertemplate": "<b>%{hovertext}</b><br><br>City_Pair_Name=Berlin - Santander<br>Distance (km)=%{x}<br>Combined Population 2016=%{y}<extra></extra>",
         "hovertext": [
          "Berlin - Santander"
         ],
         "legendgroup": "Berlin - Santander",
         "marker": {
          "color": "#B6E880",
          "symbol": "circle"
         },
         "mode": "markers",
         "name": "Berlin - Santander",
         "orientation": "v",
         "showlegend": true,
         "type": "scatter",
         "x": [
          1654.7843435281
         ],
         "xaxis": "x",
         "y": [
          4102525
         ],
         "yaxis": "y"
        },
        {
         "hovertemplate": "<b>%{hovertext}</b><br><br>City_Pair_Name=Gran Canaria - Groningen<br>Distance (km)=%{x}<br>Combined Population 2016=%{y}<extra></extra>",
         "hovertext": [
          "Gran Canaria - Groningen"
         ],
         "legendgroup": "Gran Canaria - Groningen",
         "marker": {
          "color": "#FF97FF",
          "symbol": "circle"
         },
         "mode": "markers",
         "name": "Gran Canaria - Groningen",
         "orientation": "v",
         "showlegend": true,
         "type": "scatter",
         "x": [
          3355.41899137075
         ],
         "xaxis": "x",
         "y": [
          995689
         ],
         "yaxis": "y"
        },
        {
         "hovertemplate": "<b>%{hovertext}</b><br><br>City_Pair_Name=Friedrichshafen - Gran Canaria<br>Distance (km)=%{x}<br>Combined Population 2016=%{y}<extra></extra>",
         "hovertext": [
          "Friedrichshafen - Gran Canaria"
         ],
         "legendgroup": "Friedrichshafen - Gran Canaria",
         "marker": {
          "color": "#FECB52",
          "symbol": "circle"
         },
         "mode": "markers",
         "name": "Friedrichshafen - Gran Canaria",
         "orientation": "v",
         "showlegend": true,
         "type": "scatter",
         "x": [
          3078.42462555023
         ],
         "xaxis": "x",
         "y": [
          1059307
         ],
         "yaxis": "y"
        },
        {
         "hovertemplate": "<b>%{hovertext}</b><br><br>City_Pair_Name=Amsterdam - Clermont-Ferrand<br>Distance (km)=%{x}<br>Combined Population 2016=%{y}<extra></extra>",
         "hovertext": [
          "Amsterdam - Clermont-Ferrand"
         ],
         "legendgroup": "Amsterdam - Clermont-Ferrand",
         "marker": {
          "color": "#636efa",
          "symbol": "circle"
         },
         "mode": "markers",
         "name": "Amsterdam - Clermont-Ferrand",
         "orientation": "v",
         "showlegend": true,
         "type": "scatter",
         "x": [
          751.8655896114129
         ],
         "xaxis": "x",
         "y": [
          1980272
         ],
         "yaxis": "y"
        },
        {
         "hovertemplate": "<b>%{hovertext}</b><br><br>City_Pair_Name=Groningen - Palma de Mallorca<br>Distance (km)=%{x}<br>Combined Population 2016=%{y}<extra></extra>",
         "hovertext": [
          "Groningen - Palma de Mallorca"
         ],
         "legendgroup": "Groningen - Palma de Mallorca",
         "marker": {
          "color": "#EF553B",
          "symbol": "circle"
         },
         "mode": "markers",
         "name": "Groningen - Palma de Mallorca",
         "orientation": "v",
         "showlegend": true,
         "type": "scatter",
         "x": [
          1529.9874682807401
         ],
         "xaxis": "x",
         "y": [
          1018917
         ],
         "yaxis": "y"
        },
        {
         "hovertemplate": "<b>%{hovertext}</b><br><br>City_Pair_Name=Madrid - Rennes<br>Distance (km)=%{x}<br>Combined Population 2016=%{y}<extra></extra>",
         "hovertext": [
          "Madrid - Rennes"
         ],
         "legendgroup": "Madrid - Rennes",
         "marker": {
          "color": "#00cc96",
          "symbol": "circle"
         },
         "mode": "markers",
         "name": "Madrid - Rennes",
         "orientation": "v",
         "showlegend": true,
         "type": "scatter",
         "x": [
          867.3142830004791
         ],
         "xaxis": "x",
         "y": [
          7463245
         ],
         "yaxis": "y"
        },
        {
         "hovertemplate": "<b>%{hovertext}</b><br><br>City_Pair_Name=Bordeaux - Brest<br>Distance (km)=%{x}<br>Combined Population 2016=%{y}<extra></extra>",
         "hovertext": [
          "Bordeaux - Brest"
         ],
         "legendgroup": "Bordeaux - Brest",
         "marker": {
          "color": "#ab63fa",
          "symbol": "circle"
         },
         "mode": "markers",
         "name": "Bordeaux - Brest",
         "orientation": "v",
         "showlegend": true,
         "type": "scatter",
         "x": [
          465.650711671284
         ],
         "xaxis": "x",
         "y": [
          2474928
         ],
         "yaxis": "y"
        },
        {
         "hovertemplate": "<b>%{hovertext}</b><br><br>City_Pair_Name=Lanzarote - Metz-Nancy-Lorraine<br>Distance (km)=%{x}<br>Combined Population 2016=%{y}<extra></extra>",
         "hovertext": [
          "Lanzarote - Metz-Nancy-Lorraine"
         ],
         "legendgroup": "Lanzarote - Metz-Nancy-Lorraine",
         "marker": {
          "color": "#FFA15A",
          "symbol": "circle"
         },
         "mode": "markers",
         "name": "Lanzarote - Metz-Nancy-Lorraine",
         "orientation": "v",
         "showlegend": true,
         "type": "scatter",
         "x": [
          2814.64651453542
         ],
         "xaxis": "x",
         "y": [
          1188135
         ],
         "yaxis": "y"
        },
        {
         "hovertemplate": "<b>%{hovertext}</b><br><br>City_Pair_Name=Erfurt - Gran Canaria<br>Distance (km)=%{x}<br>Combined Population 2016=%{y}<extra></extra>",
         "hovertext": [
          "Erfurt - Gran Canaria"
         ],
         "legendgroup": "Erfurt - Gran Canaria",
         "marker": {
          "color": "#19d3f3",
          "symbol": "circle"
         },
         "mode": "markers",
         "name": "Erfurt - Gran Canaria",
         "orientation": "v",
         "showlegend": true,
         "type": "scatter",
         "x": [
          3394.51001466609
         ],
         "xaxis": "x",
         "y": [
          1057224
         ],
         "yaxis": "y"
        },
        {
         "hovertemplate": "<b>%{hovertext}</b><br><br>City_Pair_Name=Erfurt - Fuerteventura<br>Distance (km)=%{x}<br>Combined Population 2016=%{y}<extra></extra>",
         "hovertext": [
          "Erfurt - Fuerteventura"
         ],
         "legendgroup": "Erfurt - Fuerteventura",
         "marker": {
          "color": "#FF6692",
          "symbol": "circle"
         },
         "mode": "markers",
         "name": "Erfurt - Fuerteventura",
         "orientation": "v",
         "showlegend": true,
         "type": "scatter",
         "x": [
          3268.82154709373
         ],
         "xaxis": "x",
         "y": [
          320042
         ],
         "yaxis": "y"
        },
        {
         "hovertemplate": "<b>%{hovertext}</b><br><br>City_Pair_Name=Groningen - Lanzarote<br>Distance (km)=%{x}<br>Combined Population 2016=%{y}<extra></extra>",
         "hovertext": [
          "Groningen - Lanzarote"
         ],
         "legendgroup": "Groningen - Lanzarote",
         "marker": {
          "color": "#B6E880",
          "symbol": "circle"
         },
         "mode": "markers",
         "name": "Groningen - Lanzarote",
         "orientation": "v",
         "showlegend": true,
         "type": "scatter",
         "x": [
          3163.04940400554
         ],
         "xaxis": "x",
         "y": [
          291447
         ],
         "yaxis": "y"
        },
        {
         "hovertemplate": "<b>%{hovertext}</b><br><br>City_Pair_Name=Barcelona - Rostock<br>Distance (km)=%{x}<br>Combined Population 2016=%{y}<extra></extra>",
         "hovertext": [
          "Barcelona - Rostock"
         ],
         "legendgroup": "Barcelona - Rostock",
         "marker": {
          "color": "#FF97FF",
          "symbol": "circle"
         },
         "mode": "markers",
         "name": "Barcelona - Rostock",
         "orientation": "v",
         "showlegend": true,
         "type": "scatter",
         "x": [
          1570.91518973752
         ],
         "xaxis": "x",
         "y": [
          5678937
         ],
         "yaxis": "y"
        },
        {
         "hovertemplate": "<b>%{hovertext}</b><br><br>City_Pair_Name=Erfurt - Tenerife South<br>Distance (km)=%{x}<br>Combined Population 2016=%{y}<extra></extra>",
         "hovertext": [
          "Erfurt - Tenerife South"
         ],
         "legendgroup": "Erfurt - Tenerife South",
         "marker": {
          "color": "#FECB52",
          "symbol": "circle"
         },
         "mode": "markers",
         "name": "Erfurt - Tenerife South",
         "orientation": "v",
         "showlegend": true,
         "type": "scatter",
         "x": [
          3416.9390211395003
         ],
         "xaxis": "x",
         "y": [
          1100376
         ],
         "yaxis": "y"
        },
        {
         "hovertemplate": "<b>%{hovertext}</b><br><br>City_Pair_Name=Antwerp - Palma de Mallorca<br>Distance (km)=%{x}<br>Combined Population 2016=%{y}<extra></extra>",
         "hovertext": [
          "Antwerp - Palma de Mallorca"
         ],
         "legendgroup": "Antwerp - Palma de Mallorca",
         "marker": {
          "color": "#636efa",
          "symbol": "circle"
         },
         "mode": "markers",
         "name": "Antwerp - Palma de Mallorca",
         "orientation": "v",
         "showlegend": true,
         "type": "scatter",
         "x": [
          1302.80138033457
         ],
         "xaxis": "x",
         "y": [
          1906365
         ],
         "yaxis": "y"
        },
        {
         "hovertemplate": "<b>%{hovertext}</b><br><br>City_Pair_Name=Erfurt - Malaga<br>Distance (km)=%{x}<br>Combined Population 2016=%{y}<extra></extra>",
         "hovertext": [
          "Erfurt - Malaga"
         ],
         "legendgroup": "Erfurt - Malaga",
         "marker": {
          "color": "#EF553B",
          "symbol": "circle"
         },
         "mode": "markers",
         "name": "Erfurt - Malaga",
         "orientation": "v",
         "showlegend": true,
         "type": "scatter",
         "x": [
          2009.68671837125
         ],
         "xaxis": "x",
         "y": [
          1848496
         ],
         "yaxis": "y"
        }
       ],
       "layout": {
        "legend": {
         "title": {
          "text": "City_Pair_Name"
         },
         "tracegroupgap": 0
        },
        "template": {
         "data": {
          "bar": [
           {
            "error_x": {
             "color": "#2a3f5f"
            },
            "error_y": {
             "color": "#2a3f5f"
            },
            "marker": {
             "line": {
              "color": "#E5ECF6",
              "width": 0.5
             },
             "pattern": {
              "fillmode": "overlay",
              "size": 10,
              "solidity": 0.2
             }
            },
            "type": "bar"
           }
          ],
          "barpolar": [
           {
            "marker": {
             "line": {
              "color": "#E5ECF6",
              "width": 0.5
             },
             "pattern": {
              "fillmode": "overlay",
              "size": 10,
              "solidity": 0.2
             }
            },
            "type": "barpolar"
           }
          ],
          "carpet": [
           {
            "aaxis": {
             "endlinecolor": "#2a3f5f",
             "gridcolor": "white",
             "linecolor": "white",
             "minorgridcolor": "white",
             "startlinecolor": "#2a3f5f"
            },
            "baxis": {
             "endlinecolor": "#2a3f5f",
             "gridcolor": "white",
             "linecolor": "white",
             "minorgridcolor": "white",
             "startlinecolor": "#2a3f5f"
            },
            "type": "carpet"
           }
          ],
          "choropleth": [
           {
            "colorbar": {
             "outlinewidth": 0,
             "ticks": ""
            },
            "type": "choropleth"
           }
          ],
          "contour": [
           {
            "colorbar": {
             "outlinewidth": 0,
             "ticks": ""
            },
            "colorscale": [
             [
              0,
              "#0d0887"
             ],
             [
              0.1111111111111111,
              "#46039f"
             ],
             [
              0.2222222222222222,
              "#7201a8"
             ],
             [
              0.3333333333333333,
              "#9c179e"
             ],
             [
              0.4444444444444444,
              "#bd3786"
             ],
             [
              0.5555555555555556,
              "#d8576b"
             ],
             [
              0.6666666666666666,
              "#ed7953"
             ],
             [
              0.7777777777777778,
              "#fb9f3a"
             ],
             [
              0.8888888888888888,
              "#fdca26"
             ],
             [
              1,
              "#f0f921"
             ]
            ],
            "type": "contour"
           }
          ],
          "contourcarpet": [
           {
            "colorbar": {
             "outlinewidth": 0,
             "ticks": ""
            },
            "type": "contourcarpet"
           }
          ],
          "heatmap": [
           {
            "colorbar": {
             "outlinewidth": 0,
             "ticks": ""
            },
            "colorscale": [
             [
              0,
              "#0d0887"
             ],
             [
              0.1111111111111111,
              "#46039f"
             ],
             [
              0.2222222222222222,
              "#7201a8"
             ],
             [
              0.3333333333333333,
              "#9c179e"
             ],
             [
              0.4444444444444444,
              "#bd3786"
             ],
             [
              0.5555555555555556,
              "#d8576b"
             ],
             [
              0.6666666666666666,
              "#ed7953"
             ],
             [
              0.7777777777777778,
              "#fb9f3a"
             ],
             [
              0.8888888888888888,
              "#fdca26"
             ],
             [
              1,
              "#f0f921"
             ]
            ],
            "type": "heatmap"
           }
          ],
          "heatmapgl": [
           {
            "colorbar": {
             "outlinewidth": 0,
             "ticks": ""
            },
            "colorscale": [
             [
              0,
              "#0d0887"
             ],
             [
              0.1111111111111111,
              "#46039f"
             ],
             [
              0.2222222222222222,
              "#7201a8"
             ],
             [
              0.3333333333333333,
              "#9c179e"
             ],
             [
              0.4444444444444444,
              "#bd3786"
             ],
             [
              0.5555555555555556,
              "#d8576b"
             ],
             [
              0.6666666666666666,
              "#ed7953"
             ],
             [
              0.7777777777777778,
              "#fb9f3a"
             ],
             [
              0.8888888888888888,
              "#fdca26"
             ],
             [
              1,
              "#f0f921"
             ]
            ],
            "type": "heatmapgl"
           }
          ],
          "histogram": [
           {
            "marker": {
             "pattern": {
              "fillmode": "overlay",
              "size": 10,
              "solidity": 0.2
             }
            },
            "type": "histogram"
           }
          ],
          "histogram2d": [
           {
            "colorbar": {
             "outlinewidth": 0,
             "ticks": ""
            },
            "colorscale": [
             [
              0,
              "#0d0887"
             ],
             [
              0.1111111111111111,
              "#46039f"
             ],
             [
              0.2222222222222222,
              "#7201a8"
             ],
             [
              0.3333333333333333,
              "#9c179e"
             ],
             [
              0.4444444444444444,
              "#bd3786"
             ],
             [
              0.5555555555555556,
              "#d8576b"
             ],
             [
              0.6666666666666666,
              "#ed7953"
             ],
             [
              0.7777777777777778,
              "#fb9f3a"
             ],
             [
              0.8888888888888888,
              "#fdca26"
             ],
             [
              1,
              "#f0f921"
             ]
            ],
            "type": "histogram2d"
           }
          ],
          "histogram2dcontour": [
           {
            "colorbar": {
             "outlinewidth": 0,
             "ticks": ""
            },
            "colorscale": [
             [
              0,
              "#0d0887"
             ],
             [
              0.1111111111111111,
              "#46039f"
             ],
             [
              0.2222222222222222,
              "#7201a8"
             ],
             [
              0.3333333333333333,
              "#9c179e"
             ],
             [
              0.4444444444444444,
              "#bd3786"
             ],
             [
              0.5555555555555556,
              "#d8576b"
             ],
             [
              0.6666666666666666,
              "#ed7953"
             ],
             [
              0.7777777777777778,
              "#fb9f3a"
             ],
             [
              0.8888888888888888,
              "#fdca26"
             ],
             [
              1,
              "#f0f921"
             ]
            ],
            "type": "histogram2dcontour"
           }
          ],
          "mesh3d": [
           {
            "colorbar": {
             "outlinewidth": 0,
             "ticks": ""
            },
            "type": "mesh3d"
           }
          ],
          "parcoords": [
           {
            "line": {
             "colorbar": {
              "outlinewidth": 0,
              "ticks": ""
             }
            },
            "type": "parcoords"
           }
          ],
          "pie": [
           {
            "automargin": true,
            "type": "pie"
           }
          ],
          "scatter": [
           {
            "fillpattern": {
             "fillmode": "overlay",
             "size": 10,
             "solidity": 0.2
            },
            "type": "scatter"
           }
          ],
          "scatter3d": [
           {
            "line": {
             "colorbar": {
              "outlinewidth": 0,
              "ticks": ""
             }
            },
            "marker": {
             "colorbar": {
              "outlinewidth": 0,
              "ticks": ""
             }
            },
            "type": "scatter3d"
           }
          ],
          "scattercarpet": [
           {
            "marker": {
             "colorbar": {
              "outlinewidth": 0,
              "ticks": ""
             }
            },
            "type": "scattercarpet"
           }
          ],
          "scattergeo": [
           {
            "marker": {
             "colorbar": {
              "outlinewidth": 0,
              "ticks": ""
             }
            },
            "type": "scattergeo"
           }
          ],
          "scattergl": [
           {
            "marker": {
             "colorbar": {
              "outlinewidth": 0,
              "ticks": ""
             }
            },
            "type": "scattergl"
           }
          ],
          "scattermapbox": [
           {
            "marker": {
             "colorbar": {
              "outlinewidth": 0,
              "ticks": ""
             }
            },
            "type": "scattermapbox"
           }
          ],
          "scatterpolar": [
           {
            "marker": {
             "colorbar": {
              "outlinewidth": 0,
              "ticks": ""
             }
            },
            "type": "scatterpolar"
           }
          ],
          "scatterpolargl": [
           {
            "marker": {
             "colorbar": {
              "outlinewidth": 0,
              "ticks": ""
             }
            },
            "type": "scatterpolargl"
           }
          ],
          "scatterternary": [
           {
            "marker": {
             "colorbar": {
              "outlinewidth": 0,
              "ticks": ""
             }
            },
            "type": "scatterternary"
           }
          ],
          "surface": [
           {
            "colorbar": {
             "outlinewidth": 0,
             "ticks": ""
            },
            "colorscale": [
             [
              0,
              "#0d0887"
             ],
             [
              0.1111111111111111,
              "#46039f"
             ],
             [
              0.2222222222222222,
              "#7201a8"
             ],
             [
              0.3333333333333333,
              "#9c179e"
             ],
             [
              0.4444444444444444,
              "#bd3786"
             ],
             [
              0.5555555555555556,
              "#d8576b"
             ],
             [
              0.6666666666666666,
              "#ed7953"
             ],
             [
              0.7777777777777778,
              "#fb9f3a"
             ],
             [
              0.8888888888888888,
              "#fdca26"
             ],
             [
              1,
              "#f0f921"
             ]
            ],
            "type": "surface"
           }
          ],
          "table": [
           {
            "cells": {
             "fill": {
              "color": "#EBF0F8"
             },
             "line": {
              "color": "white"
             }
            },
            "header": {
             "fill": {
              "color": "#C8D4E3"
             },
             "line": {
              "color": "white"
             }
            },
            "type": "table"
           }
          ]
         },
         "layout": {
          "annotationdefaults": {
           "arrowcolor": "#2a3f5f",
           "arrowhead": 0,
           "arrowwidth": 1
          },
          "autotypenumbers": "strict",
          "coloraxis": {
           "colorbar": {
            "outlinewidth": 0,
            "ticks": ""
           }
          },
          "colorscale": {
           "diverging": [
            [
             0,
             "#8e0152"
            ],
            [
             0.1,
             "#c51b7d"
            ],
            [
             0.2,
             "#de77ae"
            ],
            [
             0.3,
             "#f1b6da"
            ],
            [
             0.4,
             "#fde0ef"
            ],
            [
             0.5,
             "#f7f7f7"
            ],
            [
             0.6,
             "#e6f5d0"
            ],
            [
             0.7,
             "#b8e186"
            ],
            [
             0.8,
             "#7fbc41"
            ],
            [
             0.9,
             "#4d9221"
            ],
            [
             1,
             "#276419"
            ]
           ],
           "sequential": [
            [
             0,
             "#0d0887"
            ],
            [
             0.1111111111111111,
             "#46039f"
            ],
            [
             0.2222222222222222,
             "#7201a8"
            ],
            [
             0.3333333333333333,
             "#9c179e"
            ],
            [
             0.4444444444444444,
             "#bd3786"
            ],
            [
             0.5555555555555556,
             "#d8576b"
            ],
            [
             0.6666666666666666,
             "#ed7953"
            ],
            [
             0.7777777777777778,
             "#fb9f3a"
            ],
            [
             0.8888888888888888,
             "#fdca26"
            ],
            [
             1,
             "#f0f921"
            ]
           ],
           "sequentialminus": [
            [
             0,
             "#0d0887"
            ],
            [
             0.1111111111111111,
             "#46039f"
            ],
            [
             0.2222222222222222,
             "#7201a8"
            ],
            [
             0.3333333333333333,
             "#9c179e"
            ],
            [
             0.4444444444444444,
             "#bd3786"
            ],
            [
             0.5555555555555556,
             "#d8576b"
            ],
            [
             0.6666666666666666,
             "#ed7953"
            ],
            [
             0.7777777777777778,
             "#fb9f3a"
            ],
            [
             0.8888888888888888,
             "#fdca26"
            ],
            [
             1,
             "#f0f921"
            ]
           ]
          },
          "colorway": [
           "#636efa",
           "#EF553B",
           "#00cc96",
           "#ab63fa",
           "#FFA15A",
           "#19d3f3",
           "#FF6692",
           "#B6E880",
           "#FF97FF",
           "#FECB52"
          ],
          "font": {
           "color": "#2a3f5f"
          },
          "geo": {
           "bgcolor": "white",
           "lakecolor": "white",
           "landcolor": "#E5ECF6",
           "showlakes": true,
           "showland": true,
           "subunitcolor": "white"
          },
          "hoverlabel": {
           "align": "left"
          },
          "hovermode": "closest",
          "mapbox": {
           "style": "light"
          },
          "paper_bgcolor": "white",
          "plot_bgcolor": "#E5ECF6",
          "polar": {
           "angularaxis": {
            "gridcolor": "white",
            "linecolor": "white",
            "ticks": ""
           },
           "bgcolor": "#E5ECF6",
           "radialaxis": {
            "gridcolor": "white",
            "linecolor": "white",
            "ticks": ""
           }
          },
          "scene": {
           "xaxis": {
            "backgroundcolor": "#E5ECF6",
            "gridcolor": "white",
            "gridwidth": 2,
            "linecolor": "white",
            "showbackground": true,
            "ticks": "",
            "zerolinecolor": "white"
           },
           "yaxis": {
            "backgroundcolor": "#E5ECF6",
            "gridcolor": "white",
            "gridwidth": 2,
            "linecolor": "white",
            "showbackground": true,
            "ticks": "",
            "zerolinecolor": "white"
           },
           "zaxis": {
            "backgroundcolor": "#E5ECF6",
            "gridcolor": "white",
            "gridwidth": 2,
            "linecolor": "white",
            "showbackground": true,
            "ticks": "",
            "zerolinecolor": "white"
           }
          },
          "shapedefaults": {
           "line": {
            "color": "#2a3f5f"
           }
          },
          "ternary": {
           "aaxis": {
            "gridcolor": "white",
            "linecolor": "white",
            "ticks": ""
           },
           "baxis": {
            "gridcolor": "white",
            "linecolor": "white",
            "ticks": ""
           },
           "bgcolor": "#E5ECF6",
           "caxis": {
            "gridcolor": "white",
            "linecolor": "white",
            "ticks": ""
           }
          },
          "title": {
           "x": 0.05
          },
          "xaxis": {
           "automargin": true,
           "gridcolor": "white",
           "linecolor": "white",
           "ticks": "",
           "title": {
            "standoff": 15
           },
           "zerolinecolor": "white",
           "zerolinewidth": 2
          },
          "yaxis": {
           "automargin": true,
           "gridcolor": "white",
           "linecolor": "white",
           "ticks": "",
           "title": {
            "standoff": 15
           },
           "zerolinecolor": "white",
           "zerolinewidth": 2
          }
         }
        },
        "title": {
         "text": "Scatter Plot of Distance vs Combined Population (2016)"
        },
        "xaxis": {
         "anchor": "y",
         "domain": [
          0,
          1
         ],
         "title": {
          "text": "Distance (km)"
         }
        },
        "yaxis": {
         "anchor": "x",
         "domain": [
          0,
          1
         ],
         "title": {
          "text": "Combined Population 2016"
         }
        }
       }
      }
     },
     "metadata": {},
     "output_type": "display_data"
    }
   ],
   "source": [
    "df['Combined_Pop_2016'] = df['2016 Population_A'] + df['2016 Population_B']\n",
    "df['Distance_km'] = df['Distance'] / 1000\n",
    "\n",
    "fig = px.scatter(\n",
    "    df, \n",
    "    x='Distance_km', \n",
    "    y='Combined_Pop_2016', \n",
    "    hover_name='City_Pair_Name',  # Use City_Pair_Name to label the points\n",
    "    title='Scatter Plot of Distance vs Combined Population (2016)',\n",
    "    labels={'Distance_km': 'Distance (km)', 'Combined_Pop_2016': 'Combined Population 2016'},\n",
    "    color='City_Pair_Name'\n",
    ")\n",
    "\n",
    "# Show the plot\n",
    "fig.show()\n"
   ]
  }
 ],
 "metadata": {
  "kernelspec": {
   "display_name": "TIL6022",
   "language": "python",
   "name": "python3"
  },
  "language_info": {
   "codemirror_mode": {
    "name": "ipython",
    "version": 3
   },
   "file_extension": ".py",
   "mimetype": "text/x-python",
   "name": "python",
   "nbconvert_exporter": "python",
   "pygments_lexer": "ipython3",
   "version": "3.12.5"
  }
 },
 "nbformat": 4,
 "nbformat_minor": 2
}
