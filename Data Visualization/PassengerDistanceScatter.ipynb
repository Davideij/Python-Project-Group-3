{
 "cells": [
  {
   "cell_type": "code",
   "execution_count": 1,
   "metadata": {},
   "outputs": [],
   "source": [
    "# Creating scatterplot graph comparing Flight Passengers between City Pairs vs. Distance\n",
    "\n",
    "import pandas as pd\n",
    "import openpyxl\n",
    "import plotly.express as px\n",
    "import plotly.graph_objects as go"
   ]
  },
  {
   "cell_type": "code",
   "execution_count": 2,
   "metadata": {},
   "outputs": [
    {
     "data": {
      "text/html": [
       "<div>\n",
       "<style scoped>\n",
       "    .dataframe tbody tr th:only-of-type {\n",
       "        vertical-align: middle;\n",
       "    }\n",
       "\n",
       "    .dataframe tbody tr th {\n",
       "        vertical-align: top;\n",
       "    }\n",
       "\n",
       "    .dataframe thead th {\n",
       "        text-align: right;\n",
       "    }\n",
       "</style>\n",
       "<table border=\"1\" class=\"dataframe\">\n",
       "  <thead>\n",
       "    <tr style=\"text-align: right;\">\n",
       "      <th></th>\n",
       "      <th>City_A_Name</th>\n",
       "      <th>City_B_Name</th>\n",
       "      <th>City_A</th>\n",
       "      <th>City_B</th>\n",
       "      <th>Total passengers</th>\n",
       "      <th>NUTS_3_code_A</th>\n",
       "      <th>NUTS_3_code_B</th>\n",
       "      <th>Distance</th>\n",
       "      <th>has_connection</th>\n",
       "    </tr>\n",
       "  </thead>\n",
       "  <tbody>\n",
       "    <tr>\n",
       "      <th>0</th>\n",
       "      <td>Paris</td>\n",
       "      <td>Toulouse</td>\n",
       "      <td>LFPO</td>\n",
       "      <td>LFBO</td>\n",
       "      <td>4716804</td>\n",
       "      <td>FR107</td>\n",
       "      <td>FRJ23</td>\n",
       "      <td>610672.306409</td>\n",
       "      <td>0</td>\n",
       "    </tr>\n",
       "    <tr>\n",
       "      <th>1</th>\n",
       "      <td>Barcelona</td>\n",
       "      <td>Madrid</td>\n",
       "      <td>LEBL</td>\n",
       "      <td>LEMD</td>\n",
       "      <td>4657590</td>\n",
       "      <td>ES511</td>\n",
       "      <td>ES300</td>\n",
       "      <td>496744.786620</td>\n",
       "      <td>1</td>\n",
       "    </tr>\n",
       "    <tr>\n",
       "      <th>2</th>\n",
       "      <td>Nice</td>\n",
       "      <td>Paris</td>\n",
       "      <td>LFMN</td>\n",
       "      <td>LFPO</td>\n",
       "      <td>4249404</td>\n",
       "      <td>FRL03</td>\n",
       "      <td>FR107</td>\n",
       "      <td>645376.754517</td>\n",
       "      <td>0</td>\n",
       "    </tr>\n",
       "    <tr>\n",
       "      <th>3</th>\n",
       "      <td>Berlin</td>\n",
       "      <td>Munich</td>\n",
       "      <td>EDDT</td>\n",
       "      <td>EDDM</td>\n",
       "      <td>3878625</td>\n",
       "      <td>DE300</td>\n",
       "      <td>DE212</td>\n",
       "      <td>501031.167189</td>\n",
       "      <td>0</td>\n",
       "    </tr>\n",
       "    <tr>\n",
       "      <th>4</th>\n",
       "      <td>Berlin</td>\n",
       "      <td>Frankfurt</td>\n",
       "      <td>EDDT</td>\n",
       "      <td>EDDF</td>\n",
       "      <td>3869795</td>\n",
       "      <td>DE300</td>\n",
       "      <td>DE712</td>\n",
       "      <td>423686.712363</td>\n",
       "      <td>0</td>\n",
       "    </tr>\n",
       "  </tbody>\n",
       "</table>\n",
       "</div>"
      ],
      "text/plain": [
       "  City_A_Name City_B_Name City_A City_B  Total passengers NUTS_3_code_A  \\\n",
       "0       Paris    Toulouse   LFPO   LFBO           4716804         FR107   \n",
       "1   Barcelona      Madrid   LEBL   LEMD           4657590         ES511   \n",
       "2        Nice       Paris   LFMN   LFPO           4249404         FRL03   \n",
       "3      Berlin      Munich   EDDT   EDDM           3878625         DE300   \n",
       "4      Berlin   Frankfurt   EDDT   EDDF           3869795         DE300   \n",
       "\n",
       "  NUTS_3_code_B       Distance  has_connection  \n",
       "0         FRJ23  610672.306409               0  \n",
       "1         ES300  496744.786620               1  \n",
       "2         FR107  645376.754517               0  \n",
       "3         DE212  501031.167189               0  \n",
       "4         DE712  423686.712363               0  "
      ]
     },
     "execution_count": 2,
     "metadata": {},
     "output_type": "execute_result"
    }
   ],
   "source": [
    "file_path = 'https://raw.githubusercontent.com/Davideij/Python-Project-Group-3/main/Data/CITIES_FINAL.xlsx'\n",
    "df = pd.read_excel(file_path)\n",
    "df.head()"
   ]
  },
  {
   "cell_type": "code",
   "execution_count": 3,
   "metadata": {},
   "outputs": [
    {
     "data": {
      "application/vnd.plotly.v1+json": {
       "config": {
        "plotlyServerURL": "https://plot.ly"
       },
       "data": [
        {
         "customdata": [
          [
           "FR107",
           "FRJ23",
           "2016",
           "Paris",
           "Toulouse"
          ],
          [
           "FRL03",
           "FR107",
           "2016",
           "Nice",
           "Paris"
          ],
          [
           "DE300",
           "DE212",
           "2016",
           "Berlin",
           "Munich"
          ],
          [
           "DE300",
           "DE712",
           "2016",
           "Berlin",
           "Frankfurt"
          ],
          [
           "DE600",
           "DE212",
           "2016",
           "Hamburg",
           "Munich"
          ],
          [
           "ES511",
           "ES532",
           "2016",
           "Barcelona",
           "Palma de Mallorca"
          ],
          [
           "ES300",
           "ES532",
           "2016",
           "Madrid",
           "Palma de Mallorca"
          ],
          [
           "DEA11",
           "DE212",
           "2016",
           "DÃ¼sseldorf",
           "Munich"
          ],
          [
           "DE712",
           "DE600",
           "2016",
           "Frankfurt",
           "Hamburg"
          ],
          [
           "DE300",
           "DEA23",
           "2016",
           "Berlin",
           "Cologne"
          ],
          [
           "ES511",
           "FR108",
           "2016",
           "Barcelona",
           "Paris"
          ],
          [
           "ES300",
           "FR107",
           "2016",
           "Madrid",
           "Paris"
          ],
          [
           "DE300",
           "DEA11",
           "2016",
           "Berlin",
           "DÃ¼sseldorf"
          ],
          [
           "DE712",
           "DE212",
           "2016",
           "Frankfurt",
           "Munich"
          ],
          [
           "ES300",
           "FR108",
           "2016",
           "Madrid",
           "Paris"
          ],
          [
           "ES511",
           "ES531",
           "2016",
           "Barcelona",
           "Ibiza"
          ],
          [
           "ES511",
           "DE712",
           "2016",
           "Barcelona",
           "Frankfurt"
          ],
          [
           "ES511",
           "FR107",
           "2016",
           "Barcelona",
           "Paris"
          ],
          [
           "FRI12",
           "FR107",
           "2016",
           "Bordeaux",
           "Paris"
          ],
          [
           "DE300",
           "DE111",
           "2016",
           "Berlin",
           "Stuttgart"
          ],
          [
           "DEA23",
           "DE212",
           "2016",
           "Cologne",
           "Munich"
          ],
          [
           "DE712",
           "FR108",
           "2016",
           "Frankfurt",
           "Paris"
          ],
          [
           "FR108",
           "FRJ23",
           "2016",
           "Paris",
           "Toulouse"
          ],
          [
           "ES511",
           "BE100",
           "2016",
           "Barcelona",
           "Brussels"
          ],
          [
           "ES511",
           "ES618",
           "2016",
           "Barcelona",
           "Seville"
          ],
          [
           "DE212",
           "FR108",
           "2016",
           "Munich",
           "Paris"
          ],
          [
           "FRL03",
           "FR108",
           "2016",
           "Nice",
           "Paris"
          ],
          [
           "NL329",
           "DE712",
           "2016",
           "Amsterdam",
           "Frankfurt"
          ],
          [
           "NL329",
           "DE212",
           "2016",
           "Amsterdam",
           "Munich"
          ],
          [
           "ES511",
           "DE212",
           "2016",
           "Barcelona",
           "Munich"
          ],
          [
           "DE212",
           "ES532",
           "2016",
           "Munich",
           "Palma de Mallorca"
          ],
          [
           "ES532",
           "DE111",
           "2016",
           "Palma de Mallorca",
           "Stuttgart"
          ],
          [
           "ES213",
           "ES300",
           "2016",
           "Bilbao",
           "Madrid"
          ],
          [
           "ES511",
           "ES533",
           "2016",
           "Barcelona",
           "Menorca"
          ],
          [
           "DE600",
           "DE111",
           "2016",
           "Hamburg",
           "Stuttgart"
          ],
          [
           "DE300",
           "FR108",
           "2016",
           "Berlin",
           "Paris"
          ],
          [
           "ES531",
           "ES300",
           "2016",
           "Ibiza",
           "Madrid"
          ],
          [
           "FRI12",
           "FR108",
           "2016",
           "Bordeaux",
           "Paris"
          ],
          [
           "DEA11",
           "DE600",
           "2016",
           "DÃ¼sseldorf",
           "Hamburg"
          ],
          [
           "DE300",
           "DEA23",
           "2016",
           "Berlin",
           "Cologne"
          ],
          [
           "ES511",
           "ES617",
           "2016",
           "Barcelona",
           "Malaga"
          ],
          [
           "ES111",
           "ES300",
           "2016",
           "A Coruna",
           "Madrid"
          ],
          [
           "ES511",
           "ES213",
           "2016",
           "Barcelona",
           "Bilbao"
          ],
          [
           "NL329",
           "DE300",
           "2016",
           "Amsterdam",
           "Berlin"
          ],
          [
           "ES705",
           "ES708",
           "2016",
           "Gran Canaria",
           "Lanzarote"
          ],
          [
           "ES300",
           "ES114",
           "2016",
           "Madrid",
           "Vigo"
          ],
          [
           "LU000",
           "DE212",
           "2016",
           "Luxembourg City",
           "Munich"
          ],
          [
           "DE929",
           "DE212",
           "2016",
           "Hannover",
           "Munich"
          ],
          [
           "FRI12",
           "FRK26",
           "2016",
           "Bordeaux",
           "Lyon"
          ],
          [
           "NL329",
           "DE600",
           "2016",
           "Amsterdam",
           "Hamburg"
          ],
          [
           "FRI15",
           "FR107",
           "2016",
           "Biarritz",
           "Paris"
          ],
          [
           "FRJ13",
           "FR107",
           "2016",
           "Montpellier",
           "Paris"
          ],
          [
           "FRM01",
           "FR107",
           "2016",
           "Ajaccio",
           "Paris"
          ],
          [
           "BE100",
           "DE712",
           "2016",
           "Brussels",
           "Frankfurt"
          ],
          [
           "ES704",
           "ES705",
           "2016",
           "Fuerteventura",
           "Gran Canaria"
          ],
          [
           "ES120",
           "ES300",
           "2016",
           "Asturias",
           "Madrid"
          ],
          [
           "NL329",
           "FRL03",
           "2016",
           "Amsterdam",
           "Nice"
          ],
          [
           "DEA11",
           "FR108",
           "2016",
           "DÃ¼sseldorf",
           "Paris"
          ],
          [
           "FRK26",
           "FRG01",
           "2016",
           "Lyon",
           "Nantes"
          ],
          [
           "DEA23",
           "DE600",
           "2016",
           "Cologne",
           "Hamburg"
          ],
          [
           "DE712",
           "LU000",
           "2016",
           "Frankfurt",
           "Luxembourg City"
          ],
          [
           "ES531",
           "ES532",
           "2016",
           "Ibiza",
           "Palma de Mallorca"
          ],
          [
           "DE600",
           "FR108",
           "2016",
           "Hamburg",
           "Paris"
          ],
          [
           "DE300",
           "BE100",
           "2016",
           "Berlin",
           "Brussels"
          ],
          [
           "ES511",
           "ES111",
           "2016",
           "Barcelona",
           "Santiago de Compostela"
          ],
          [
           "NL329",
           "LU000",
           "2016",
           "Amsterdam",
           "Luxembourg City"
          ],
          [
           "FRM02",
           "FR107",
           "2016",
           "Bastia",
           "Paris"
          ],
          [
           "FRG01",
           "FR108",
           "2016",
           "Nantes",
           "Paris"
          ],
          [
           "ES511",
           "DEA11",
           "2016",
           "Barcelona",
           "DÃ¼sseldorf"
          ],
          [
           "ES532",
           "ES523",
           "2016",
           "Palma de Mallorca",
           "Valencia"
          ],
          [
           "FR107",
           "FRL05",
           "2016",
           "Paris",
           "Toulon"
          ],
          [
           "FRJ13",
           "FR108",
           "2016",
           "Montpellier",
           "Paris"
          ],
          [
           "DEA11",
           "DE712",
           "2016",
           "DÃ¼sseldorf",
           "Frankfurt"
          ],
          [
           "FRK26",
           "FRJ23",
           "2016",
           "Lyon",
           "Toulouse"
          ],
          [
           "BE100",
           "DE212",
           "2016",
           "Brussels",
           "Munich"
          ],
          [
           "DE501",
           "DE212",
           "2016",
           "Bremen",
           "Munich"
          ],
          [
           "DE712",
           "DE929",
           "2016",
           "Frankfurt",
           "Hannover"
          ],
          [
           "DE712",
           "DE111",
           "2016",
           "Frankfurt",
           "Stuttgart"
          ],
          [
           "FR107",
           "FRI15",
           "2016",
           "Paris",
           "Pau"
          ],
          [
           "ES511",
           "ES614",
           "2016",
           "Barcelona",
           "Granada"
          ],
          [
           "NL329",
           "FRK26",
           "2016",
           "Amsterdam",
           "Lyon"
          ],
          [
           "ES521",
           "ES511",
           "2016",
           "Alicante",
           "Barcelona"
          ],
          [
           "DE501",
           "DE712",
           "2016",
           "Bremen",
           "Frankfurt"
          ],
          [
           "DED21",
           "DE712",
           "2016",
           "Dresden",
           "Frankfurt"
          ],
          [
           "BE100",
           "FRL03",
           "2016",
           "Brussels",
           "Nice"
          ],
          [
           "ES300",
           "ES617",
           "2016",
           "Madrid",
           "Malaga"
          ],
          [
           "NL329",
           "DE111",
           "2016",
           "Amsterdam",
           "Stuttgart"
          ],
          [
           "NL329",
           "FRI12",
           "2016",
           "Amsterdam",
           "Bordeaux"
          ],
          [
           "FRL04",
           "FRG01",
           "2016",
           "Marseille",
           "Nantes"
          ],
          [
           "FR108",
           "ES523",
           "2016",
           "Paris",
           "Valencia"
          ],
          [
           "ES511",
           "FRK26",
           "2016",
           "Barcelona",
           "Lyon"
          ],
          [
           "NL329",
           "FRL04",
           "2016",
           "Amsterdam",
           "Marseille"
          ],
          [
           "NL329",
           "DE300",
           "2016",
           "Amsterdam",
           "Berlin"
          ]
         ],
         "hovertemplate": "City Pair: %{hovertext}<br>Distance: %{x} km<br>Passengers: %{y}",
         "hovertext": [
          "Paris & Toulouse",
          "Nice & Paris",
          "Berlin & Munich",
          "Berlin & Frankfurt",
          "Hamburg & Munich",
          "Barcelona & Palma de Mallorca",
          "Madrid & Palma de Mallorca",
          "DÃ¼sseldorf & Munich",
          "Frankfurt & Hamburg",
          "Berlin & Cologne",
          "Barcelona & Paris",
          "Madrid & Paris",
          "Berlin & DÃ¼sseldorf",
          "Frankfurt & Munich",
          "Madrid & Paris",
          "Barcelona & Ibiza",
          "Barcelona & Frankfurt",
          "Barcelona & Paris",
          "Bordeaux & Paris",
          "Berlin & Stuttgart",
          "Cologne & Munich",
          "Frankfurt & Paris",
          "Paris & Toulouse",
          "Barcelona & Brussels",
          "Barcelona & Seville",
          "Munich & Paris",
          "Nice & Paris",
          "Amsterdam & Frankfurt",
          "Amsterdam & Munich",
          "Barcelona & Munich",
          "Munich & Palma de Mallorca",
          "Palma de Mallorca & Stuttgart",
          "Bilbao & Madrid",
          "Barcelona & Menorca",
          "Hamburg & Stuttgart",
          "Berlin & Paris",
          "Ibiza & Madrid",
          "Bordeaux & Paris",
          "DÃ¼sseldorf & Hamburg",
          "Berlin & Cologne",
          "Barcelona & Malaga",
          "A Coruna & Madrid",
          "Barcelona & Bilbao",
          "Amsterdam & Berlin",
          "Gran Canaria & Lanzarote",
          "Madrid & Vigo",
          "Luxembourg City & Munich",
          "Hannover & Munich",
          "Bordeaux & Lyon",
          "Amsterdam & Hamburg",
          "Biarritz & Paris",
          "Montpellier & Paris",
          "Ajaccio & Paris",
          "Brussels & Frankfurt",
          "Fuerteventura & Gran Canaria",
          "Asturias & Madrid",
          "Amsterdam & Nice",
          "DÃ¼sseldorf & Paris",
          "Lyon & Nantes",
          "Cologne & Hamburg",
          "Frankfurt & Luxembourg City",
          "Ibiza & Palma de Mallorca",
          "Hamburg & Paris",
          "Berlin & Brussels",
          "Barcelona & Santiago de Compostela",
          "Amsterdam & Luxembourg City",
          "Bastia & Paris",
          "Nantes & Paris",
          "Barcelona & DÃ¼sseldorf",
          "Palma de Mallorca & Valencia",
          "Paris & Toulon",
          "Montpellier & Paris",
          "DÃ¼sseldorf & Frankfurt",
          "Lyon & Toulouse",
          "Brussels & Munich",
          "Bremen & Munich",
          "Frankfurt & Hannover",
          "Frankfurt & Stuttgart",
          "Paris & Pau",
          "Barcelona & Granada",
          "Amsterdam & Lyon",
          "Alicante & Barcelona",
          "Bremen & Frankfurt",
          "Dresden & Frankfurt",
          "Brussels & Nice",
          "Madrid & Malaga",
          "Amsterdam & Stuttgart",
          "Amsterdam & Bordeaux",
          "Marseille & Nantes",
          "Paris & Valencia",
          "Barcelona & Lyon",
          "Amsterdam & Marseille",
          "Amsterdam & Berlin"
         ],
         "legendgroup": "0",
         "marker": {
          "color": "blue",
          "symbol": "circle"
         },
         "mode": "markers",
         "name": "No pre-existing connection",
         "orientation": "v",
         "showlegend": true,
         "type": "scatter",
         "x": [
          610.672306408928,
          645.376754516887,
          501.031167189001,
          423.686712362807,
          608.827545798698,
          249.225541856928,
          576.185840400148,
          483.06189797833997,
          392.60885455236297,
          475.18279134836797,
          817.6545978779959,
          1042.11497925417,
          473.7790869111,
          303.686425226354,
          1059.88503714606,
          309.20293422786,
          1064.51760751428,
          784.517352689714,
          496.925829543844,
          510.30360551884297,
          452.861881060905,
          483.079624586604,
          640.685603711761,
          1028.94825437443,
          811.655848444259,
          699.208424968156,
          687.2958584211141,
          363.70986950103395,
          667.3874185834001,
          1036.17036339819,
          1171.2395609419,
          1131.9399043855599,
          313.89499803948405,
          263.943607462963,
          533.5531595518011,
          877.442211340939,
          469.310061002716,
          516.266724239048,
          336.68180757412404,
          475.18279134836797,
          794.792276847837,
          490.448768592743,
          430.36062762897996,
          577.1077854469729,
          224.714493808608,
          450.401891831389,
          436.913073679687,
          491.99641946151604,
          423.9083506484,
          367.17519833585396,
          662.344846583558,
          582.0937584207791,
          921.51894448017,
          312.67946252365005,
          160.57733314522,
          363.893605388651,
          954.3371356114591,
          410.2779404023029,
          510.49181148738796,
          355.694141269246,
          186.445813326575,
          150.397059377353,
          738.8068156968959,
          649.232486942168,
          870.927855265631,
          302.697691471432,
          881.6546311610041,
          341.08849522780304,
          1119.1931371947899,
          322.350851451072,
          660.470063883719,
          619.227019208811,
          179.37660362849599,
          391.48334019243504,
          597.4958029132459,
          584.1660953359461,
          266.927989622783,
          154.044021518455,
          662.344846583558,
          666.318624905471,
          725.3237708887671,
          421.73263278328596,
          332.71930588979797,
          377.687954843853,
          794.354709324204,
          418.508828796069,
          503.060625164199,
          931.7560377942759,
          677.074423186274,
          1107.2972078921298,
          507.281565333512,
          983.8629076111608,
          577.1077854469729
         ],
         "xaxis": "x",
         "y": [
          4716804,
          4249404,
          3878625,
          3869795,
          3603238,
          3545242,
          3375136,
          3128381,
          2742869,
          2541202,
          2533343,
          2400998,
          2293096,
          2240350,
          2083535,
          2034994,
          2025566,
          2022878,
          1983326,
          1972516,
          1906621,
          1808471,
          1786777,
          1783265,
          1763444,
          1720728,
          1700624,
          1632021,
          1586957,
          1544325,
          1491466,
          1470971,
          1441680,
          1439570,
          1435723,
          1391433,
          1390394,
          1285409,
          1207026,
          1195571,
          1190360,
          1171380,
          1150288,
          1124598,
          1114618,
          1090084,
          1039042,
          1035023,
          1016037,
          999027,
          971414,
          946415,
          932695,
          931130,
          906840,
          904820,
          898959,
          891757,
          888743,
          876110,
          873956,
          870934,
          862929,
          857825,
          820682,
          818175,
          814487,
          811026,
          806306,
          797596,
          782095,
          767272,
          743904,
          742623,
          699603,
          697042,
          694965,
          688217,
          685939,
          685134,
          680346,
          672888,
          661041,
          656933,
          651293,
          637506,
          624977,
          624852,
          623637,
          620999,
          617648,
          617333,
          616448
         ],
         "yaxis": "y"
        },
        {
         "customdata": [
          [
           "ES511",
           "ES300",
           "2016",
           "Barcelona",
           "Madrid"
          ],
          [
           "NL329",
           "FR108",
           "2016",
           "Amsterdam",
           "Paris"
          ],
          [
           "FRL04",
           "FR107",
           "2016",
           "Marseille",
           "Paris"
          ],
          [
           "FRL04",
           "FR108",
           "2016",
           "Marseille",
           "Paris"
          ],
          [
           "ES300",
           "ES111",
           "2016",
           "Madrid",
           "Santiago de Compostela"
          ],
          [
           "FRK26",
           "FR108",
           "2016",
           "Lyon",
           "Paris"
          ],
          [
           "ES300",
           "ES523",
           "2016",
           "Madrid",
           "Valencia"
          ]
         ],
         "hovertemplate": "City Pair: %{hovertext}<br>Distance: %{x} km<br>Passengers: %{y}",
         "hovertext": [
          "Barcelona & Madrid",
          "Amsterdam & Paris",
          "Marseille & Paris",
          "Marseille & Paris",
          "Madrid & Santiago de Compostela",
          "Lyon & Paris",
          "Madrid & Valencia"
         ],
         "legendgroup": "1",
         "marker": {
          "color": "#F31F1F",
          "symbol": "circle"
         },
         "mode": "markers",
         "name": "Already connected",
         "orientation": "v",
         "showlegend": true,
         "type": "scatter",
         "x": [
          496.744786620118,
          415.670102647753,
          615.7859629890961,
          656.2448881051671,
          490.448768592743,
          403.94194129509896,
          280.920383321637
         ],
         "xaxis": "x",
         "y": [
          4657590,
          2358886,
          1875842,
          1354718,
          1165728,
          969164,
          622460
         ],
         "yaxis": "y"
        }
       ],
       "frames": [
        {
         "data": [
          {
           "customdata": [
            [
             "FR107",
             "FRJ23",
             "2016",
             "Paris",
             "Toulouse"
            ],
            [
             "FRL03",
             "FR107",
             "2016",
             "Nice",
             "Paris"
            ],
            [
             "DE300",
             "DE212",
             "2016",
             "Berlin",
             "Munich"
            ],
            [
             "DE300",
             "DE712",
             "2016",
             "Berlin",
             "Frankfurt"
            ],
            [
             "DE600",
             "DE212",
             "2016",
             "Hamburg",
             "Munich"
            ],
            [
             "ES511",
             "ES532",
             "2016",
             "Barcelona",
             "Palma de Mallorca"
            ],
            [
             "ES300",
             "ES532",
             "2016",
             "Madrid",
             "Palma de Mallorca"
            ],
            [
             "DEA11",
             "DE212",
             "2016",
             "DÃ¼sseldorf",
             "Munich"
            ],
            [
             "DE712",
             "DE600",
             "2016",
             "Frankfurt",
             "Hamburg"
            ],
            [
             "DE300",
             "DEA23",
             "2016",
             "Berlin",
             "Cologne"
            ],
            [
             "ES511",
             "FR108",
             "2016",
             "Barcelona",
             "Paris"
            ],
            [
             "ES300",
             "FR107",
             "2016",
             "Madrid",
             "Paris"
            ],
            [
             "DE300",
             "DEA11",
             "2016",
             "Berlin",
             "DÃ¼sseldorf"
            ],
            [
             "DE712",
             "DE212",
             "2016",
             "Frankfurt",
             "Munich"
            ],
            [
             "ES300",
             "FR108",
             "2016",
             "Madrid",
             "Paris"
            ],
            [
             "ES511",
             "ES531",
             "2016",
             "Barcelona",
             "Ibiza"
            ],
            [
             "ES511",
             "DE712",
             "2016",
             "Barcelona",
             "Frankfurt"
            ],
            [
             "ES511",
             "FR107",
             "2016",
             "Barcelona",
             "Paris"
            ],
            [
             "FRI12",
             "FR107",
             "2016",
             "Bordeaux",
             "Paris"
            ],
            [
             "DE300",
             "DE111",
             "2016",
             "Berlin",
             "Stuttgart"
            ],
            [
             "DEA23",
             "DE212",
             "2016",
             "Cologne",
             "Munich"
            ],
            [
             "DE712",
             "FR108",
             "2016",
             "Frankfurt",
             "Paris"
            ],
            [
             "FR108",
             "FRJ23",
             "2016",
             "Paris",
             "Toulouse"
            ],
            [
             "ES511",
             "BE100",
             "2016",
             "Barcelona",
             "Brussels"
            ],
            [
             "ES511",
             "ES618",
             "2016",
             "Barcelona",
             "Seville"
            ],
            [
             "DE212",
             "FR108",
             "2016",
             "Munich",
             "Paris"
            ],
            [
             "FRL03",
             "FR108",
             "2016",
             "Nice",
             "Paris"
            ],
            [
             "NL329",
             "DE712",
             "2016",
             "Amsterdam",
             "Frankfurt"
            ],
            [
             "NL329",
             "DE212",
             "2016",
             "Amsterdam",
             "Munich"
            ],
            [
             "ES511",
             "DE212",
             "2016",
             "Barcelona",
             "Munich"
            ],
            [
             "DE212",
             "ES532",
             "2016",
             "Munich",
             "Palma de Mallorca"
            ],
            [
             "ES532",
             "DE111",
             "2016",
             "Palma de Mallorca",
             "Stuttgart"
            ],
            [
             "ES213",
             "ES300",
             "2016",
             "Bilbao",
             "Madrid"
            ],
            [
             "ES511",
             "ES533",
             "2016",
             "Barcelona",
             "Menorca"
            ],
            [
             "DE600",
             "DE111",
             "2016",
             "Hamburg",
             "Stuttgart"
            ],
            [
             "DE300",
             "FR108",
             "2016",
             "Berlin",
             "Paris"
            ],
            [
             "ES531",
             "ES300",
             "2016",
             "Ibiza",
             "Madrid"
            ],
            [
             "FRI12",
             "FR108",
             "2016",
             "Bordeaux",
             "Paris"
            ],
            [
             "DEA11",
             "DE600",
             "2016",
             "DÃ¼sseldorf",
             "Hamburg"
            ],
            [
             "DE300",
             "DEA23",
             "2016",
             "Berlin",
             "Cologne"
            ],
            [
             "ES511",
             "ES617",
             "2016",
             "Barcelona",
             "Malaga"
            ],
            [
             "ES111",
             "ES300",
             "2016",
             "A Coruna",
             "Madrid"
            ],
            [
             "ES511",
             "ES213",
             "2016",
             "Barcelona",
             "Bilbao"
            ],
            [
             "NL329",
             "DE300",
             "2016",
             "Amsterdam",
             "Berlin"
            ],
            [
             "ES705",
             "ES708",
             "2016",
             "Gran Canaria",
             "Lanzarote"
            ],
            [
             "ES300",
             "ES114",
             "2016",
             "Madrid",
             "Vigo"
            ],
            [
             "LU000",
             "DE212",
             "2016",
             "Luxembourg City",
             "Munich"
            ],
            [
             "DE929",
             "DE212",
             "2016",
             "Hannover",
             "Munich"
            ],
            [
             "FRI12",
             "FRK26",
             "2016",
             "Bordeaux",
             "Lyon"
            ],
            [
             "NL329",
             "DE600",
             "2016",
             "Amsterdam",
             "Hamburg"
            ],
            [
             "FRI15",
             "FR107",
             "2016",
             "Biarritz",
             "Paris"
            ],
            [
             "FRJ13",
             "FR107",
             "2016",
             "Montpellier",
             "Paris"
            ],
            [
             "FRM01",
             "FR107",
             "2016",
             "Ajaccio",
             "Paris"
            ],
            [
             "BE100",
             "DE712",
             "2016",
             "Brussels",
             "Frankfurt"
            ],
            [
             "ES704",
             "ES705",
             "2016",
             "Fuerteventura",
             "Gran Canaria"
            ],
            [
             "ES120",
             "ES300",
             "2016",
             "Asturias",
             "Madrid"
            ],
            [
             "NL329",
             "FRL03",
             "2016",
             "Amsterdam",
             "Nice"
            ],
            [
             "DEA11",
             "FR108",
             "2016",
             "DÃ¼sseldorf",
             "Paris"
            ],
            [
             "FRK26",
             "FRG01",
             "2016",
             "Lyon",
             "Nantes"
            ],
            [
             "DEA23",
             "DE600",
             "2016",
             "Cologne",
             "Hamburg"
            ],
            [
             "DE712",
             "LU000",
             "2016",
             "Frankfurt",
             "Luxembourg City"
            ],
            [
             "ES531",
             "ES532",
             "2016",
             "Ibiza",
             "Palma de Mallorca"
            ],
            [
             "DE600",
             "FR108",
             "2016",
             "Hamburg",
             "Paris"
            ],
            [
             "DE300",
             "BE100",
             "2016",
             "Berlin",
             "Brussels"
            ],
            [
             "ES511",
             "ES111",
             "2016",
             "Barcelona",
             "Santiago de Compostela"
            ],
            [
             "NL329",
             "LU000",
             "2016",
             "Amsterdam",
             "Luxembourg City"
            ],
            [
             "FRM02",
             "FR107",
             "2016",
             "Bastia",
             "Paris"
            ],
            [
             "FRG01",
             "FR108",
             "2016",
             "Nantes",
             "Paris"
            ],
            [
             "ES511",
             "DEA11",
             "2016",
             "Barcelona",
             "DÃ¼sseldorf"
            ],
            [
             "ES532",
             "ES523",
             "2016",
             "Palma de Mallorca",
             "Valencia"
            ],
            [
             "FR107",
             "FRL05",
             "2016",
             "Paris",
             "Toulon"
            ],
            [
             "FRJ13",
             "FR108",
             "2016",
             "Montpellier",
             "Paris"
            ],
            [
             "DEA11",
             "DE712",
             "2016",
             "DÃ¼sseldorf",
             "Frankfurt"
            ],
            [
             "FRK26",
             "FRJ23",
             "2016",
             "Lyon",
             "Toulouse"
            ],
            [
             "BE100",
             "DE212",
             "2016",
             "Brussels",
             "Munich"
            ],
            [
             "DE501",
             "DE212",
             "2016",
             "Bremen",
             "Munich"
            ],
            [
             "DE712",
             "DE929",
             "2016",
             "Frankfurt",
             "Hannover"
            ],
            [
             "DE712",
             "DE111",
             "2016",
             "Frankfurt",
             "Stuttgart"
            ],
            [
             "FR107",
             "FRI15",
             "2016",
             "Paris",
             "Pau"
            ],
            [
             "ES511",
             "ES614",
             "2016",
             "Barcelona",
             "Granada"
            ],
            [
             "NL329",
             "FRK26",
             "2016",
             "Amsterdam",
             "Lyon"
            ],
            [
             "ES521",
             "ES511",
             "2016",
             "Alicante",
             "Barcelona"
            ],
            [
             "DE501",
             "DE712",
             "2016",
             "Bremen",
             "Frankfurt"
            ],
            [
             "DED21",
             "DE712",
             "2016",
             "Dresden",
             "Frankfurt"
            ],
            [
             "BE100",
             "FRL03",
             "2016",
             "Brussels",
             "Nice"
            ],
            [
             "ES300",
             "ES617",
             "2016",
             "Madrid",
             "Malaga"
            ],
            [
             "NL329",
             "DE111",
             "2016",
             "Amsterdam",
             "Stuttgart"
            ],
            [
             "NL329",
             "FRI12",
             "2016",
             "Amsterdam",
             "Bordeaux"
            ],
            [
             "FRL04",
             "FRG01",
             "2016",
             "Marseille",
             "Nantes"
            ],
            [
             "FR108",
             "ES523",
             "2016",
             "Paris",
             "Valencia"
            ],
            [
             "ES511",
             "FRK26",
             "2016",
             "Barcelona",
             "Lyon"
            ],
            [
             "NL329",
             "FRL04",
             "2016",
             "Amsterdam",
             "Marseille"
            ],
            [
             "NL329",
             "DE300",
             "2016",
             "Amsterdam",
             "Berlin"
            ]
           ],
           "hovertemplate": "<b>%{hovertext}</b><br><br>has_connection=0<br>Distance (km)=%{x}<br>Total Yearly Passengers=%{y}<br>NUTS_3_code_A=%{customdata[0]}<br>NUTS_3_code_B=%{customdata[1]}<extra></extra>",
           "hovertext": [
            "Paris & Toulouse",
            "Nice & Paris",
            "Berlin & Munich",
            "Berlin & Frankfurt",
            "Hamburg & Munich",
            "Barcelona & Palma de Mallorca",
            "Madrid & Palma de Mallorca",
            "DÃ¼sseldorf & Munich",
            "Frankfurt & Hamburg",
            "Berlin & Cologne",
            "Barcelona & Paris",
            "Madrid & Paris",
            "Berlin & DÃ¼sseldorf",
            "Frankfurt & Munich",
            "Madrid & Paris",
            "Barcelona & Ibiza",
            "Barcelona & Frankfurt",
            "Barcelona & Paris",
            "Bordeaux & Paris",
            "Berlin & Stuttgart",
            "Cologne & Munich",
            "Frankfurt & Paris",
            "Paris & Toulouse",
            "Barcelona & Brussels",
            "Barcelona & Seville",
            "Munich & Paris",
            "Nice & Paris",
            "Amsterdam & Frankfurt",
            "Amsterdam & Munich",
            "Barcelona & Munich",
            "Munich & Palma de Mallorca",
            "Palma de Mallorca & Stuttgart",
            "Bilbao & Madrid",
            "Barcelona & Menorca",
            "Hamburg & Stuttgart",
            "Berlin & Paris",
            "Ibiza & Madrid",
            "Bordeaux & Paris",
            "DÃ¼sseldorf & Hamburg",
            "Berlin & Cologne",
            "Barcelona & Malaga",
            "A Coruna & Madrid",
            "Barcelona & Bilbao",
            "Amsterdam & Berlin",
            "Gran Canaria & Lanzarote",
            "Madrid & Vigo",
            "Luxembourg City & Munich",
            "Hannover & Munich",
            "Bordeaux & Lyon",
            "Amsterdam & Hamburg",
            "Biarritz & Paris",
            "Montpellier & Paris",
            "Ajaccio & Paris",
            "Brussels & Frankfurt",
            "Fuerteventura & Gran Canaria",
            "Asturias & Madrid",
            "Amsterdam & Nice",
            "DÃ¼sseldorf & Paris",
            "Lyon & Nantes",
            "Cologne & Hamburg",
            "Frankfurt & Luxembourg City",
            "Ibiza & Palma de Mallorca",
            "Hamburg & Paris",
            "Berlin & Brussels",
            "Barcelona & Santiago de Compostela",
            "Amsterdam & Luxembourg City",
            "Bastia & Paris",
            "Nantes & Paris",
            "Barcelona & DÃ¼sseldorf",
            "Palma de Mallorca & Valencia",
            "Paris & Toulon",
            "Montpellier & Paris",
            "DÃ¼sseldorf & Frankfurt",
            "Lyon & Toulouse",
            "Brussels & Munich",
            "Bremen & Munich",
            "Frankfurt & Hannover",
            "Frankfurt & Stuttgart",
            "Paris & Pau",
            "Barcelona & Granada",
            "Amsterdam & Lyon",
            "Alicante & Barcelona",
            "Bremen & Frankfurt",
            "Dresden & Frankfurt",
            "Brussels & Nice",
            "Madrid & Malaga",
            "Amsterdam & Stuttgart",
            "Amsterdam & Bordeaux",
            "Marseille & Nantes",
            "Paris & Valencia",
            "Barcelona & Lyon",
            "Amsterdam & Marseille",
            "Amsterdam & Berlin"
           ],
           "legendgroup": "0",
           "marker": {
            "color": "blue",
            "symbol": "circle"
           },
           "mode": "markers",
           "name": "0",
           "orientation": "v",
           "showlegend": true,
           "type": "scatter",
           "x": [
            610.672306408928,
            645.376754516887,
            501.031167189001,
            423.686712362807,
            608.827545798698,
            249.225541856928,
            576.185840400148,
            483.06189797833997,
            392.60885455236297,
            475.18279134836797,
            817.6545978779959,
            1042.11497925417,
            473.7790869111,
            303.686425226354,
            1059.88503714606,
            309.20293422786,
            1064.51760751428,
            784.517352689714,
            496.925829543844,
            510.30360551884297,
            452.861881060905,
            483.079624586604,
            640.685603711761,
            1028.94825437443,
            811.655848444259,
            699.208424968156,
            687.2958584211141,
            363.70986950103395,
            667.3874185834001,
            1036.17036339819,
            1171.2395609419,
            1131.9399043855599,
            313.89499803948405,
            263.943607462963,
            533.5531595518011,
            877.442211340939,
            469.310061002716,
            516.266724239048,
            336.68180757412404,
            475.18279134836797,
            794.792276847837,
            490.448768592743,
            430.36062762897996,
            577.1077854469729,
            224.714493808608,
            450.401891831389,
            436.913073679687,
            491.99641946151604,
            423.9083506484,
            367.17519833585396,
            662.344846583558,
            582.0937584207791,
            921.51894448017,
            312.67946252365005,
            160.57733314522,
            363.893605388651,
            954.3371356114591,
            410.2779404023029,
            510.49181148738796,
            355.694141269246,
            186.445813326575,
            150.397059377353,
            738.8068156968959,
            649.232486942168,
            870.927855265631,
            302.697691471432,
            881.6546311610041,
            341.08849522780304,
            1119.1931371947899,
            322.350851451072,
            660.470063883719,
            619.227019208811,
            179.37660362849599,
            391.48334019243504,
            597.4958029132459,
            584.1660953359461,
            266.927989622783,
            154.044021518455,
            662.344846583558,
            666.318624905471,
            725.3237708887671,
            421.73263278328596,
            332.71930588979797,
            377.687954843853,
            794.354709324204,
            418.508828796069,
            503.060625164199,
            931.7560377942759,
            677.074423186274,
            1107.2972078921298,
            507.281565333512,
            983.8629076111608,
            577.1077854469729
           ],
           "xaxis": "x",
           "y": [
            4716804,
            4249404,
            3878625,
            3869795,
            3603238,
            3545242,
            3375136,
            3128381,
            2742869,
            2541202,
            2533343,
            2400998,
            2293096,
            2240350,
            2083535,
            2034994,
            2025566,
            2022878,
            1983326,
            1972516,
            1906621,
            1808471,
            1786777,
            1783265,
            1763444,
            1720728,
            1700624,
            1632021,
            1586957,
            1544325,
            1491466,
            1470971,
            1441680,
            1439570,
            1435723,
            1391433,
            1390394,
            1285409,
            1207026,
            1195571,
            1190360,
            1171380,
            1150288,
            1124598,
            1114618,
            1090084,
            1039042,
            1035023,
            1016037,
            999027,
            971414,
            946415,
            932695,
            931130,
            906840,
            904820,
            898959,
            891757,
            888743,
            876110,
            873956,
            870934,
            862929,
            857825,
            820682,
            818175,
            814487,
            811026,
            806306,
            797596,
            782095,
            767272,
            743904,
            742623,
            699603,
            697042,
            694965,
            688217,
            685939,
            685134,
            680346,
            672888,
            661041,
            656933,
            651293,
            637506,
            624977,
            624852,
            623637,
            620999,
            617648,
            617333,
            616448
           ],
           "yaxis": "y"
          },
          {
           "customdata": [
            [
             "ES511",
             "ES300",
             "2016",
             "Barcelona",
             "Madrid"
            ],
            [
             "NL329",
             "FR108",
             "2016",
             "Amsterdam",
             "Paris"
            ],
            [
             "FRL04",
             "FR107",
             "2016",
             "Marseille",
             "Paris"
            ],
            [
             "FRL04",
             "FR108",
             "2016",
             "Marseille",
             "Paris"
            ],
            [
             "ES300",
             "ES111",
             "2016",
             "Madrid",
             "Santiago de Compostela"
            ],
            [
             "FRK26",
             "FR108",
             "2016",
             "Lyon",
             "Paris"
            ],
            [
             "ES300",
             "ES523",
             "2016",
             "Madrid",
             "Valencia"
            ]
           ],
           "hovertemplate": "<b>%{hovertext}</b><br><br>has_connection=1<br>Distance (km)=%{x}<br>Total Yearly Passengers=%{y}<br>NUTS_3_code_A=%{customdata[0]}<br>NUTS_3_code_B=%{customdata[1]}<extra></extra>",
           "hovertext": [
            "Barcelona & Madrid",
            "Amsterdam & Paris",
            "Marseille & Paris",
            "Marseille & Paris",
            "Madrid & Santiago de Compostela",
            "Lyon & Paris",
            "Madrid & Valencia"
           ],
           "legendgroup": "1",
           "marker": {
            "color": "#F31F1F",
            "symbol": "circle"
           },
           "mode": "markers",
           "name": "1",
           "orientation": "v",
           "showlegend": true,
           "type": "scatter",
           "x": [
            496.744786620118,
            415.670102647753,
            615.7859629890961,
            656.2448881051671,
            490.448768592743,
            403.94194129509896,
            280.920383321637
           ],
           "xaxis": "x",
           "y": [
            4657590,
            2358886,
            1875842,
            1354718,
            1165728,
            969164,
            622460
           ],
           "yaxis": "y"
          }
         ],
         "name": "2016"
        },
        {
         "data": [
          {
           "customdata": [
            [
             "FR107",
             "FRJ23",
             "2017",
             "Paris",
             "Toulouse"
            ],
            [
             "FRL03",
             "FR107",
             "2017",
             "Nice",
             "Paris"
            ],
            [
             "DE300",
             "DE212",
             "2017",
             "Berlin",
             "Munich"
            ],
            [
             "DE300",
             "DE712",
             "2017",
             "Berlin",
             "Frankfurt"
            ],
            [
             "ES511",
             "ES532",
             "2017",
             "Barcelona",
             "Palma de Mallorca"
            ],
            [
             "ES300",
             "ES532",
             "2017",
             "Madrid",
             "Palma de Mallorca"
            ],
            [
             "DE600",
             "DE212",
             "2017",
             "Hamburg",
             "Munich"
            ],
            [
             "DEA11",
             "DE212",
             "2017",
             "DÃ¼sseldorf",
             "Munich"
            ],
            [
             "DE712",
             "DE600",
             "2017",
             "Frankfurt",
             "Hamburg"
            ],
            [
             "ES511",
             "FR108",
             "2017",
             "Barcelona",
             "Paris"
            ],
            [
             "DE300",
             "DEA23",
             "2017",
             "Berlin",
             "Cologne"
            ],
            [
             "DE712",
             "DE212",
             "2017",
             "Frankfurt",
             "Munich"
            ],
            [
             "ES511",
             "FR107",
             "2017",
             "Barcelona",
             "Paris"
            ],
            [
             "ES300",
             "FR107",
             "2017",
             "Madrid",
             "Paris"
            ],
            [
             "DE300",
             "DEA11",
             "2017",
             "Berlin",
             "DÃ¼sseldorf"
            ],
            [
             "ES300",
             "FR108",
             "2017",
             "Madrid",
             "Paris"
            ],
            [
             "ES511",
             "ES531",
             "2017",
             "Barcelona",
             "Ibiza"
            ],
            [
             "DE300",
             "DE111",
             "2017",
             "Berlin",
             "Stuttgart"
            ],
            [
             "DEA23",
             "DE212",
             "2017",
             "Cologne",
             "Munich"
            ],
            [
             "NL329",
             "DE212",
             "2017",
             "Amsterdam",
             "Munich"
            ],
            [
             "DE712",
             "FR108",
             "2017",
             "Frankfurt",
             "Paris"
            ],
            [
             "DE212",
             "FR108",
             "2017",
             "Munich",
             "Paris"
            ],
            [
             "ES511",
             "DE712",
             "2017",
             "Barcelona",
             "Frankfurt"
            ],
            [
             "ES511",
             "BE100",
             "2017",
             "Barcelona",
             "Brussels"
            ],
            [
             "FR108",
             "FRJ23",
             "2017",
             "Paris",
             "Toulouse"
            ],
            [
             "FRL03",
             "FR108",
             "2017",
             "Nice",
             "Paris"
            ],
            [
             "ES511",
             "ES618",
             "2017",
             "Barcelona",
             "Seville"
            ],
            [
             "DE300",
             "FR108",
             "2017",
             "Berlin",
             "Paris"
            ],
            [
             "FRI12",
             "FR107",
             "2017",
             "Bordeaux",
             "Paris"
            ],
            [
             "NL329",
             "DE712",
             "2017",
             "Amsterdam",
             "Frankfurt"
            ],
            [
             "ES511",
             "DE212",
             "2017",
             "Barcelona",
             "Munich"
            ],
            [
             "DE212",
             "ES532",
             "2017",
             "Munich",
             "Palma de Mallorca"
            ],
            [
             "ES511",
             "ES213",
             "2017",
             "Barcelona",
             "Bilbao"
            ],
            [
             "ES511",
             "ES533",
             "2017",
             "Barcelona",
             "Menorca"
            ],
            [
             "ES213",
             "ES300",
             "2017",
             "Bilbao",
             "Madrid"
            ],
            [
             "ES531",
             "ES300",
             "2017",
             "Ibiza",
             "Madrid"
            ],
            [
             "ES511",
             "ES617",
             "2017",
             "Barcelona",
             "Malaga"
            ],
            [
             "DE600",
             "DE111",
             "2017",
             "Hamburg",
             "Stuttgart"
            ],
            [
             "ES532",
             "DE111",
             "2017",
             "Palma de Mallorca",
             "Stuttgart"
            ],
            [
             "FRI12",
             "FR108",
             "2017",
             "Bordeaux",
             "Paris"
            ],
            [
             "ES705",
             "ES708",
             "2017",
             "Gran Canaria",
             "Lanzarote"
            ],
            [
             "ES111",
             "ES300",
             "2017",
             "A Coruna",
             "Madrid"
            ],
            [
             "DEA11",
             "DE600",
             "2017",
             "DÃ¼sseldorf",
             "Hamburg"
            ],
            [
             "ES300",
             "ES114",
             "2017",
             "Madrid",
             "Vigo"
            ],
            [
             "NL329",
             "DE300",
             "2017",
             "Amsterdam",
             "Berlin"
            ],
            [
             "FRJ13",
             "FR107",
             "2017",
             "Montpellier",
             "Paris"
            ],
            [
             "BE100",
             "DE712",
             "2017",
             "Brussels",
             "Frankfurt"
            ],
            [
             "DE929",
             "DE212",
             "2017",
             "Hannover",
             "Munich"
            ],
            [
             "ES704",
             "ES705",
             "2017",
             "Fuerteventura",
             "Gran Canaria"
            ],
            [
             "FRI12",
             "FRK26",
             "2017",
             "Bordeaux",
             "Lyon"
            ],
            [
             "LU000",
             "DE212",
             "2017",
             "Luxembourg City",
             "Munich"
            ],
            [
             "ES511",
             "DEA11",
             "2017",
             "Barcelona",
             "DÃ¼sseldorf"
            ],
            [
             "NL329",
             "FRL03",
             "2017",
             "Amsterdam",
             "Nice"
            ],
            [
             "DEA23",
             "DE600",
             "2017",
             "Cologne",
             "Hamburg"
            ],
            [
             "DE600",
             "FR108",
             "2017",
             "Hamburg",
             "Paris"
            ],
            [
             "FRK26",
             "FRG01",
             "2017",
             "Lyon",
             "Nantes"
            ],
            [
             "ES120",
             "ES300",
             "2017",
             "Asturias",
             "Madrid"
            ],
            [
             "ES531",
             "ES532",
             "2017",
             "Ibiza",
             "Palma de Mallorca"
            ],
            [
             "FRM01",
             "FR107",
             "2017",
             "Ajaccio",
             "Paris"
            ],
            [
             "DEA11",
             "FR108",
             "2017",
             "DÃ¼sseldorf",
             "Paris"
            ],
            [
             "FRI15",
             "FR107",
             "2017",
             "Biarritz",
             "Paris"
            ],
            [
             "DE712",
             "LU000",
             "2017",
             "Frankfurt",
             "Luxembourg City"
            ],
            [
             "NL329",
             "DE600",
             "2017",
             "Amsterdam",
             "Hamburg"
            ],
            [
             "DE300",
             "DEA23",
             "2017",
             "Berlin",
             "Cologne"
            ],
            [
             "ES532",
             "ES523",
             "2017",
             "Palma de Mallorca",
             "Valencia"
            ],
            [
             "DEA11",
             "DE712",
             "2017",
             "DÃ¼sseldorf",
             "Frankfurt"
            ],
            [
             "ES511",
             "ES111",
             "2017",
             "Barcelona",
             "Santiago de Compostela"
            ],
            [
             "NL329",
             "LU000",
             "2017",
             "Amsterdam",
             "Luxembourg City"
            ],
            [
             "FRG01",
             "FR108",
             "2017",
             "Nantes",
             "Paris"
            ],
            [
             "FRM02",
             "FR107",
             "2017",
             "Bastia",
             "Paris"
            ],
            [
             "FRK26",
             "FRJ23",
             "2017",
             "Lyon",
             "Toulouse"
            ],
            [
             "BE100",
             "DE212",
             "2017",
             "Brussels",
             "Munich"
            ],
            [
             "ES511",
             "ES614",
             "2017",
             "Barcelona",
             "Granada"
            ],
            [
             "FRJ13",
             "FR108",
             "2017",
             "Montpellier",
             "Paris"
            ],
            [
             "FR107",
             "FRL05",
             "2017",
             "Paris",
             "Toulon"
            ],
            [
             "DE712",
             "DE929",
             "2017",
             "Frankfurt",
             "Hannover"
            ],
            [
             "DE501",
             "DE212",
             "2017",
             "Bremen",
             "Munich"
            ],
            [
             "DE712",
             "DE111",
             "2017",
             "Frankfurt",
             "Stuttgart"
            ],
            [
             "ES300",
             "FRJ23",
             "2017",
             "Madrid",
             "Toulouse"
            ],
            [
             "BE100",
             "FRL03",
             "2017",
             "Brussels",
             "Nice"
            ],
            [
             "NL329",
             "FRK26",
             "2017",
             "Amsterdam",
             "Lyon"
            ],
            [
             "ES521",
             "ES511",
             "2017",
             "Alicante",
             "Barcelona"
            ],
            [
             "DED21",
             "DE712",
             "2017",
             "Dresden",
             "Frankfurt"
            ],
            [
             "DE501",
             "DE712",
             "2017",
             "Bremen",
             "Frankfurt"
            ],
            [
             "FR107",
             "FRI15",
             "2017",
             "Paris",
             "Pau"
            ],
            [
             "NL329",
             "FRL04",
             "2017",
             "Amsterdam",
             "Marseille"
            ],
            [
             "ES708",
             "ES709",
             "2017",
             "Lanzarote",
             "Tenerife North"
            ],
            [
             "FRL04",
             "FRG01",
             "2017",
             "Marseille",
             "Nantes"
            ],
            [
             "NL329",
             "DE111",
             "2017",
             "Amsterdam",
             "Stuttgart"
            ],
            [
             "DE712",
             "FRK26",
             "2017",
             "Frankfurt",
             "Lyon"
            ],
            [
             "ES300",
             "ES617",
             "2017",
             "Madrid",
             "Malaga"
            ],
            [
             "DE300",
             "BE100",
             "2017",
             "Berlin",
             "Brussels"
            ],
            [
             "NL329",
             "FRI12",
             "2017",
             "Amsterdam",
             "Bordeaux"
            ]
           ],
           "hovertemplate": "<b>%{hovertext}</b><br><br>has_connection=0<br>Distance (km)=%{x}<br>Total Yearly Passengers=%{y}<br>NUTS_3_code_A=%{customdata[0]}<br>NUTS_3_code_B=%{customdata[1]}<extra></extra>",
           "hovertext": [
            "Paris & Toulouse",
            "Nice & Paris",
            "Berlin & Munich",
            "Berlin & Frankfurt",
            "Barcelona & Palma de Mallorca",
            "Madrid & Palma de Mallorca",
            "Hamburg & Munich",
            "DÃ¼sseldorf & Munich",
            "Frankfurt & Hamburg",
            "Barcelona & Paris",
            "Berlin & Cologne",
            "Frankfurt & Munich",
            "Barcelona & Paris",
            "Madrid & Paris",
            "Berlin & DÃ¼sseldorf",
            "Madrid & Paris",
            "Barcelona & Ibiza",
            "Berlin & Stuttgart",
            "Cologne & Munich",
            "Amsterdam & Munich",
            "Frankfurt & Paris",
            "Munich & Paris",
            "Barcelona & Frankfurt",
            "Barcelona & Brussels",
            "Paris & Toulouse",
            "Nice & Paris",
            "Barcelona & Seville",
            "Berlin & Paris",
            "Bordeaux & Paris",
            "Amsterdam & Frankfurt",
            "Barcelona & Munich",
            "Munich & Palma de Mallorca",
            "Barcelona & Bilbao",
            "Barcelona & Menorca",
            "Bilbao & Madrid",
            "Ibiza & Madrid",
            "Barcelona & Malaga",
            "Hamburg & Stuttgart",
            "Palma de Mallorca & Stuttgart",
            "Bordeaux & Paris",
            "Gran Canaria & Lanzarote",
            "A Coruna & Madrid",
            "DÃ¼sseldorf & Hamburg",
            "Madrid & Vigo",
            "Amsterdam & Berlin",
            "Montpellier & Paris",
            "Brussels & Frankfurt",
            "Hannover & Munich",
            "Fuerteventura & Gran Canaria",
            "Bordeaux & Lyon",
            "Luxembourg City & Munich",
            "Barcelona & DÃ¼sseldorf",
            "Amsterdam & Nice",
            "Cologne & Hamburg",
            "Hamburg & Paris",
            "Lyon & Nantes",
            "Asturias & Madrid",
            "Ibiza & Palma de Mallorca",
            "Ajaccio & Paris",
            "DÃ¼sseldorf & Paris",
            "Biarritz & Paris",
            "Frankfurt & Luxembourg City",
            "Amsterdam & Hamburg",
            "Berlin & Cologne",
            "Palma de Mallorca & Valencia",
            "DÃ¼sseldorf & Frankfurt",
            "Barcelona & Santiago de Compostela",
            "Amsterdam & Luxembourg City",
            "Nantes & Paris",
            "Bastia & Paris",
            "Lyon & Toulouse",
            "Brussels & Munich",
            "Barcelona & Granada",
            "Montpellier & Paris",
            "Paris & Toulon",
            "Frankfurt & Hannover",
            "Bremen & Munich",
            "Frankfurt & Stuttgart",
            "Madrid & Toulouse",
            "Brussels & Nice",
            "Amsterdam & Lyon",
            "Alicante & Barcelona",
            "Dresden & Frankfurt",
            "Bremen & Frankfurt",
            "Paris & Pau",
            "Amsterdam & Marseille",
            "Lanzarote & Tenerife North",
            "Marseille & Nantes",
            "Amsterdam & Stuttgart",
            "Frankfurt & Lyon",
            "Madrid & Malaga",
            "Berlin & Brussels",
            "Amsterdam & Bordeaux"
           ],
           "legendgroup": "0",
           "marker": {
            "color": "blue",
            "symbol": "circle"
           },
           "mode": "markers",
           "name": "0",
           "orientation": "v",
           "showlegend": true,
           "type": "scatter",
           "x": [
            610.672306408928,
            645.376754516887,
            501.031167189001,
            423.686712362807,
            249.225541856928,
            576.185840400148,
            608.827545798698,
            483.06189797833997,
            392.60885455236297,
            817.6545978779959,
            475.18279134836797,
            303.686425226354,
            784.517352689714,
            1042.11497925417,
            473.7790869111,
            1059.88503714606,
            309.20293422786,
            510.30360551884297,
            452.861881060905,
            667.3874185834001,
            483.079624586604,
            699.208424968156,
            1064.51760751428,
            1028.94825437443,
            640.685603711761,
            687.2958584211141,
            811.655848444259,
            877.442211340939,
            496.925829543844,
            363.70986950103395,
            1036.17036339819,
            1171.2395609419,
            430.36062762897996,
            263.943607462963,
            313.89499803948405,
            469.310061002716,
            794.792276847837,
            533.5531595518011,
            1131.9399043855599,
            516.266724239048,
            224.714493808608,
            490.448768592743,
            336.68180757412404,
            450.401891831389,
            577.1077854469729,
            582.0937584207791,
            312.67946252365005,
            491.99641946151604,
            160.57733314522,
            423.9083506484,
            436.913073679687,
            1119.1931371947899,
            954.3371356114591,
            355.694141269246,
            738.8068156968959,
            510.49181148738796,
            363.893605388651,
            150.397059377353,
            921.51894448017,
            410.2779404023029,
            662.344846583558,
            186.445813326575,
            367.17519833585396,
            475.18279134836797,
            322.350851451072,
            179.37660362849599,
            870.927855265631,
            302.697691471432,
            341.08849522780304,
            881.6546311610041,
            391.48334019243504,
            597.4958029132459,
            666.318624905471,
            619.227019208811,
            660.470063883719,
            266.927989622783,
            584.1660953359461,
            154.044021518455,
            514.7206858803211,
            794.354709324204,
            725.3237708887671,
            421.73263278328596,
            377.687954843853,
            332.71930588979797,
            662.344846583558,
            983.8629076111608,
            295.952918870015,
            677.074423186274,
            503.060625164199,
            558.236080898423,
            418.508828796069,
            649.232486942168,
            931.7560377942759
           ],
           "xaxis": "x",
           "y": [
            4649919,
            4343784,
            3944576,
            3911786,
            3889456,
            3631178,
            3480168,
            3105935,
            2790292,
            2562612,
            2464242,
            2341942,
            2319146,
            2299101,
            2284675,
            2204428,
            2117494,
            2074030,
            1976355,
            1905158,
            1887510,
            1871432,
            1869001,
            1854352,
            1851208,
            1818303,
            1817052,
            1734398,
            1723714,
            1681639,
            1669929,
            1531815,
            1519260,
            1506138,
            1488040,
            1460780,
            1382790,
            1377955,
            1346393,
            1313671,
            1310090,
            1242246,
            1212612,
            1187652,
            1184206,
            1113584,
            1096320,
            1086011,
            1061892,
            1060656,
            1054463,
            987141,
            977926,
            971483,
            967857,
            966448,
            959130,
            937936,
            934048,
            932618,
            927096,
            922312,
            913212,
            851815,
            851300,
            845836,
            839510,
            837591,
            830490,
            812783,
            807954,
            806089,
            777372,
            769280,
            758207,
            748185,
            747765,
            741222,
            732819,
            718658,
            712080,
            711758,
            688792,
            681997,
            668260,
            665932,
            663138,
            660692,
            650493,
            641850,
            638574,
            637928,
            612890
           ],
           "yaxis": "y"
          },
          {
           "customdata": [
            [
             "ES511",
             "ES300",
             "2017",
             "Barcelona",
             "Madrid"
            ],
            [
             "NL329",
             "FR108",
             "2017",
             "Amsterdam",
             "Paris"
            ],
            [
             "FRL04",
             "FR107",
             "2017",
             "Marseille",
             "Paris"
            ],
            [
             "FRL04",
             "FR108",
             "2017",
             "Marseille",
             "Paris"
            ],
            [
             "ES300",
             "ES111",
             "2017",
             "Madrid",
             "Santiago de Compostela"
            ],
            [
             "FRK26",
             "FR108",
             "2017",
             "Lyon",
             "Paris"
            ],
            [
             "ES300",
             "ES523",
             "2017",
             "Madrid",
             "Valencia"
            ]
           ],
           "hovertemplate": "<b>%{hovertext}</b><br><br>has_connection=1<br>Distance (km)=%{x}<br>Total Yearly Passengers=%{y}<br>NUTS_3_code_A=%{customdata[0]}<br>NUTS_3_code_B=%{customdata[1]}<extra></extra>",
           "hovertext": [
            "Barcelona & Madrid",
            "Amsterdam & Paris",
            "Marseille & Paris",
            "Marseille & Paris",
            "Madrid & Santiago de Compostela",
            "Lyon & Paris",
            "Madrid & Valencia"
           ],
           "legendgroup": "1",
           "marker": {
            "color": "#F31F1F",
            "symbol": "circle"
           },
           "mode": "markers",
           "name": "1",
           "orientation": "v",
           "showlegend": true,
           "type": "scatter",
           "x": [
            496.744786620118,
            415.670102647753,
            615.7859629890961,
            656.2448881051671,
            490.448768592743,
            403.94194129509896,
            280.920383321637
           ],
           "xaxis": "x",
           "y": [
            4684032,
            2521986,
            1885359,
            1381549,
            1221640,
            1044060,
            684128
           ],
           "yaxis": "y"
          }
         ],
         "name": "2017"
        },
        {
         "data": [
          {
           "customdata": [
            [
             "DE300",
             "DE712",
             "2018",
             "Berlin",
             "Frankfurt"
            ],
            [
             "FR107",
             "FRJ23",
             "2018",
             "Paris",
             "Toulouse"
            ],
            [
             "FRL03",
             "FR107",
             "2018",
             "Nice",
             "Paris"
            ],
            [
             "ES511",
             "ES532",
             "2018",
             "Barcelona",
             "Palma de Mallorca"
            ],
            [
             "DE300",
             "DE212",
             "2018",
             "Berlin",
             "Munich"
            ],
            [
             "ES300",
             "ES532",
             "2018",
             "Madrid",
             "Palma de Mallorca"
            ],
            [
             "DE600",
             "DE212",
             "2018",
             "Hamburg",
             "Munich"
            ],
            [
             "DE712",
             "DE600",
             "2018",
             "Frankfurt",
             "Hamburg"
            ],
            [
             "DEA11",
             "DE212",
             "2018",
             "DÃ¼sseldorf",
             "Munich"
            ],
            [
             "ES300",
             "FR107",
             "2018",
             "Madrid",
             "Paris"
            ],
            [
             "ES511",
             "FR108",
             "2018",
             "Barcelona",
             "Paris"
            ],
            [
             "DE300",
             "DE111",
             "2018",
             "Berlin",
             "Stuttgart"
            ],
            [
             "ES511",
             "FR107",
             "2018",
             "Barcelona",
             "Paris"
            ],
            [
             "DE300",
             "DEA11",
             "2018",
             "Berlin",
             "DÃ¼sseldorf"
            ],
            [
             "DE712",
             "DE212",
             "2018",
             "Frankfurt",
             "Munich"
            ],
            [
             "ES511",
             "ES531",
             "2018",
             "Barcelona",
             "Ibiza"
            ],
            [
             "DE300",
             "DEA23",
             "2018",
             "Berlin",
             "Cologne"
            ],
            [
             "ES300",
             "FR108",
             "2018",
             "Madrid",
             "Paris"
            ],
            [
             "DEA23",
             "DE212",
             "2018",
             "Cologne",
             "Munich"
            ],
            [
             "ES511",
             "DE712",
             "2018",
             "Barcelona",
             "Frankfurt"
            ],
            [
             "DE712",
             "FR108",
             "2018",
             "Frankfurt",
             "Paris"
            ],
            [
             "NL329",
             "DE212",
             "2018",
             "Amsterdam",
             "Munich"
            ],
            [
             "DE212",
             "FR108",
             "2018",
             "Munich",
             "Paris"
            ],
            [
             "FRL03",
             "FR108",
             "2018",
             "Nice",
             "Paris"
            ],
            [
             "ES511",
             "ES618",
             "2018",
             "Barcelona",
             "Seville"
            ],
            [
             "ES511",
             "BE100",
             "2018",
             "Barcelona",
             "Brussels"
            ],
            [
             "FR108",
             "FRJ23",
             "2018",
             "Paris",
             "Toulouse"
            ],
            [
             "NL329",
             "DE712",
             "2018",
             "Amsterdam",
             "Frankfurt"
            ],
            [
             "ES511",
             "DE212",
             "2018",
             "Barcelona",
             "Munich"
            ],
            [
             "DE300",
             "FR108",
             "2018",
             "Berlin",
             "Paris"
            ],
            [
             "ES213",
             "ES300",
             "2018",
             "Bilbao",
             "Madrid"
            ],
            [
             "ES511",
             "ES533",
             "2018",
             "Barcelona",
             "Menorca"
            ],
            [
             "ES531",
             "ES300",
             "2018",
             "Ibiza",
             "Madrid"
            ],
            [
             "ES705",
             "ES708",
             "2018",
             "Gran Canaria",
             "Lanzarote"
            ],
            [
             "ES511",
             "ES617",
             "2018",
             "Barcelona",
             "Malaga"
            ],
            [
             "DE212",
             "ES532",
             "2018",
             "Munich",
             "Palma de Mallorca"
            ],
            [
             "ES532",
             "DE111",
             "2018",
             "Palma de Mallorca",
             "Stuttgart"
            ],
            [
             "DE600",
             "DE111",
             "2018",
             "Hamburg",
             "Stuttgart"
            ],
            [
             "ES300",
             "ES114",
             "2018",
             "Madrid",
             "Vigo"
            ],
            [
             "NL329",
             "DE300",
             "2018",
             "Amsterdam",
             "Berlin"
            ],
            [
             "ES111",
             "ES300",
             "2018",
             "A Coruna",
             "Madrid"
            ],
            [
             "ES704",
             "ES705",
             "2018",
             "Fuerteventura",
             "Gran Canaria"
            ],
            [
             "FRI12",
             "FR107",
             "2018",
             "Bordeaux",
             "Paris"
            ],
            [
             "ES511",
             "ES213",
             "2018",
             "Barcelona",
             "Bilbao"
            ],
            [
             "FRI12",
             "FR108",
             "2018",
             "Bordeaux",
             "Paris"
            ],
            [
             "BE100",
             "DE712",
             "2018",
             "Brussels",
             "Frankfurt"
            ],
            [
             "FRJ13",
             "FR107",
             "2018",
             "Montpellier",
             "Paris"
            ],
            [
             "FRI12",
             "FRK26",
             "2018",
             "Bordeaux",
             "Lyon"
            ],
            [
             "LU000",
             "DE212",
             "2018",
             "Luxembourg City",
             "Munich"
            ],
            [
             "DEA11",
             "DE600",
             "2018",
             "DÃ¼sseldorf",
             "Hamburg"
            ],
            [
             "DE929",
             "DE212",
             "2018",
             "Hannover",
             "Munich"
            ],
            [
             "FRK26",
             "FRG01",
             "2018",
             "Lyon",
             "Nantes"
            ],
            [
             "ES531",
             "ES532",
             "2018",
             "Ibiza",
             "Palma de Mallorca"
            ],
            [
             "DE712",
             "LU000",
             "2018",
             "Frankfurt",
             "Luxembourg City"
            ],
            [
             "ES120",
             "ES300",
             "2018",
             "Asturias",
             "Madrid"
            ],
            [
             "ES532",
             "ES523",
             "2018",
             "Palma de Mallorca",
             "Valencia"
            ],
            [
             "NL329",
             "DE600",
             "2018",
             "Amsterdam",
             "Hamburg"
            ],
            [
             "DEA23",
             "DE600",
             "2018",
             "Cologne",
             "Hamburg"
            ],
            [
             "DEA11",
             "FR108",
             "2018",
             "DÃ¼sseldorf",
             "Paris"
            ],
            [
             "FRM01",
             "FR107",
             "2018",
             "Ajaccio",
             "Paris"
            ],
            [
             "NL329",
             "FRL03",
             "2018",
             "Amsterdam",
             "Nice"
            ],
            [
             "DE600",
             "FR108",
             "2018",
             "Hamburg",
             "Paris"
            ],
            [
             "NL329",
             "LU000",
             "2018",
             "Amsterdam",
             "Luxembourg City"
            ],
            [
             "ES511",
             "ES614",
             "2018",
             "Barcelona",
             "Granada"
            ],
            [
             "ES511",
             "ES111",
             "2018",
             "Barcelona",
             "Santiago de Compostela"
            ],
            [
             "DEA11",
             "DE712",
             "2018",
             "DÃ¼sseldorf",
             "Frankfurt"
            ],
            [
             "FRK26",
             "FRJ23",
             "2018",
             "Lyon",
             "Toulouse"
            ],
            [
             "FRM02",
             "FR107",
             "2018",
             "Bastia",
             "Paris"
            ],
            [
             "BE100",
             "DE212",
             "2018",
             "Brussels",
             "Munich"
            ],
            [
             "ES521",
             "ES511",
             "2018",
             "Alicante",
             "Barcelona"
            ],
            [
             "FRI15",
             "FR107",
             "2018",
             "Biarritz",
             "Paris"
            ],
            [
             "ES300",
             "FRJ23",
             "2018",
             "Madrid",
             "Toulouse"
            ],
            [
             "DE501",
             "DE212",
             "2018",
             "Bremen",
             "Munich"
            ],
            [
             "DE712",
             "DE929",
             "2018",
             "Frankfurt",
             "Hannover"
            ],
            [
             "FRG01",
             "FR108",
             "2018",
             "Nantes",
             "Paris"
            ],
            [
             "ES300",
             "ES618",
             "2018",
             "Madrid",
             "Seville"
            ],
            [
             "ES708",
             "ES709",
             "2018",
             "Lanzarote",
             "Tenerife North"
            ],
            [
             "FRJ13",
             "FR108",
             "2018",
             "Montpellier",
             "Paris"
            ],
            [
             "FR107",
             "FRL05",
             "2018",
             "Paris",
             "Toulon"
            ],
            [
             "ES300",
             "ES617",
             "2018",
             "Madrid",
             "Malaga"
            ],
            [
             "BE100",
             "FRL03",
             "2018",
             "Brussels",
             "Nice"
            ],
            [
             "DE712",
             "FRK26",
             "2018",
             "Frankfurt",
             "Lyon"
            ],
            [
             "NL329",
             "DE111",
             "2018",
             "Amsterdam",
             "Stuttgart"
            ],
            [
             "ES511",
             "DEA11",
             "2018",
             "Barcelona",
             "DÃ¼sseldorf"
            ],
            [
             "NL329",
             "FRK26",
             "2018",
             "Amsterdam",
             "Lyon"
            ],
            [
             "DE300",
             "BE100",
             "2018",
             "Berlin",
             "Brussels"
            ],
            [
             "FRL04",
             "FRG01",
             "2018",
             "Marseille",
             "Nantes"
            ],
            [
             "DED21",
             "DE712",
             "2018",
             "Dresden",
             "Frankfurt"
            ],
            [
             "DE501",
             "DE712",
             "2018",
             "Bremen",
             "Frankfurt"
            ],
            [
             "NL329",
             "FRL04",
             "2018",
             "Amsterdam",
             "Marseille"
            ],
            [
             "FRI12",
             "FRL04",
             "2018",
             "Bordeaux",
             "Marseille"
            ],
            [
             "FR107",
             "FRI15",
             "2018",
             "Paris",
             "Pau"
            ],
            [
             "DE712",
             "DE111",
             "2018",
             "Frankfurt",
             "Stuttgart"
            ]
           ],
           "hovertemplate": "<b>%{hovertext}</b><br><br>has_connection=0<br>Distance (km)=%{x}<br>Total Yearly Passengers=%{y}<br>NUTS_3_code_A=%{customdata[0]}<br>NUTS_3_code_B=%{customdata[1]}<extra></extra>",
           "hovertext": [
            "Berlin & Frankfurt",
            "Paris & Toulouse",
            "Nice & Paris",
            "Barcelona & Palma de Mallorca",
            "Berlin & Munich",
            "Madrid & Palma de Mallorca",
            "Hamburg & Munich",
            "Frankfurt & Hamburg",
            "DÃ¼sseldorf & Munich",
            "Madrid & Paris",
            "Barcelona & Paris",
            "Berlin & Stuttgart",
            "Barcelona & Paris",
            "Berlin & DÃ¼sseldorf",
            "Frankfurt & Munich",
            "Barcelona & Ibiza",
            "Berlin & Cologne",
            "Madrid & Paris",
            "Cologne & Munich",
            "Barcelona & Frankfurt",
            "Frankfurt & Paris",
            "Amsterdam & Munich",
            "Munich & Paris",
            "Nice & Paris",
            "Barcelona & Seville",
            "Barcelona & Brussels",
            "Paris & Toulouse",
            "Amsterdam & Frankfurt",
            "Barcelona & Munich",
            "Berlin & Paris",
            "Bilbao & Madrid",
            "Barcelona & Menorca",
            "Ibiza & Madrid",
            "Gran Canaria & Lanzarote",
            "Barcelona & Malaga",
            "Munich & Palma de Mallorca",
            "Palma de Mallorca & Stuttgart",
            "Hamburg & Stuttgart",
            "Madrid & Vigo",
            "Amsterdam & Berlin",
            "A Coruna & Madrid",
            "Fuerteventura & Gran Canaria",
            "Bordeaux & Paris",
            "Barcelona & Bilbao",
            "Bordeaux & Paris",
            "Brussels & Frankfurt",
            "Montpellier & Paris",
            "Bordeaux & Lyon",
            "Luxembourg City & Munich",
            "DÃ¼sseldorf & Hamburg",
            "Hannover & Munich",
            "Lyon & Nantes",
            "Ibiza & Palma de Mallorca",
            "Frankfurt & Luxembourg City",
            "Asturias & Madrid",
            "Palma de Mallorca & Valencia",
            "Amsterdam & Hamburg",
            "Cologne & Hamburg",
            "DÃ¼sseldorf & Paris",
            "Ajaccio & Paris",
            "Amsterdam & Nice",
            "Hamburg & Paris",
            "Amsterdam & Luxembourg City",
            "Barcelona & Granada",
            "Barcelona & Santiago de Compostela",
            "DÃ¼sseldorf & Frankfurt",
            "Lyon & Toulouse",
            "Bastia & Paris",
            "Brussels & Munich",
            "Alicante & Barcelona",
            "Biarritz & Paris",
            "Madrid & Toulouse",
            "Bremen & Munich",
            "Frankfurt & Hannover",
            "Nantes & Paris",
            "Madrid & Seville",
            "Lanzarote & Tenerife North",
            "Montpellier & Paris",
            "Paris & Toulon",
            "Madrid & Malaga",
            "Brussels & Nice",
            "Frankfurt & Lyon",
            "Amsterdam & Stuttgart",
            "Barcelona & DÃ¼sseldorf",
            "Amsterdam & Lyon",
            "Berlin & Brussels",
            "Marseille & Nantes",
            "Dresden & Frankfurt",
            "Bremen & Frankfurt",
            "Amsterdam & Marseille",
            "Bordeaux & Marseille",
            "Paris & Pau",
            "Frankfurt & Stuttgart"
           ],
           "legendgroup": "0",
           "marker": {
            "color": "blue",
            "symbol": "circle"
           },
           "mode": "markers",
           "name": "0",
           "orientation": "v",
           "showlegend": true,
           "type": "scatter",
           "x": [
            423.686712362807,
            610.672306408928,
            645.376754516887,
            249.225541856928,
            501.031167189001,
            576.185840400148,
            608.827545798698,
            392.60885455236297,
            483.06189797833997,
            1042.11497925417,
            817.6545978779959,
            510.30360551884297,
            784.517352689714,
            473.7790869111,
            303.686425226354,
            309.20293422786,
            475.18279134836797,
            1059.88503714606,
            452.861881060905,
            1064.51760751428,
            483.079624586604,
            667.3874185834001,
            699.208424968156,
            687.2958584211141,
            811.655848444259,
            1028.94825437443,
            640.685603711761,
            363.70986950103395,
            1036.17036339819,
            877.442211340939,
            313.89499803948405,
            263.943607462963,
            469.310061002716,
            224.714493808608,
            794.792276847837,
            1171.2395609419,
            1131.9399043855599,
            533.5531595518011,
            450.401891831389,
            577.1077854469729,
            490.448768592743,
            160.57733314522,
            496.925829543844,
            430.36062762897996,
            516.266724239048,
            312.67946252365005,
            582.0937584207791,
            423.9083506484,
            436.913073679687,
            336.68180757412404,
            491.99641946151604,
            510.49181148738796,
            150.397059377353,
            186.445813326575,
            363.893605388651,
            322.350851451072,
            367.17519833585396,
            355.694141269246,
            410.2779404023029,
            921.51894448017,
            954.3371356114591,
            738.8068156968959,
            302.697691471432,
            666.318624905471,
            870.927855265631,
            179.37660362849599,
            391.48334019243504,
            881.6546311610041,
            597.4958029132459,
            421.73263278328596,
            662.344846583558,
            514.7206858803211,
            584.1660953359461,
            266.927989622783,
            341.08849522780304,
            380.204645403803,
            295.952918870015,
            619.227019208811,
            660.470063883719,
            418.508828796069,
            794.354709324204,
            558.236080898423,
            503.060625164199,
            1119.1931371947899,
            725.3237708887671,
            649.232486942168,
            677.074423186274,
            377.687954843853,
            332.71930588979797,
            983.8629076111608,
            473.21198007874204,
            662.344846583558,
            154.044021518455
           ],
           "xaxis": "x",
           "y": [
            4583867,
            4564556,
            4279947,
            4071446,
            3970355,
            3934560,
            3491075,
            2878508,
            2839081,
            2657591,
            2530269,
            2475194,
            2414052,
            2393734,
            2384825,
            2350534,
            2348734,
            2274958,
            2030314,
            2023550,
            2010107,
            1988914,
            1972172,
            1967723,
            1957396,
            1885628,
            1814363,
            1726691,
            1724454,
            1681081,
            1620852,
            1614948,
            1606540,
            1589034,
            1573016,
            1551685,
            1497416,
            1475298,
            1328412,
            1320911,
            1294278,
            1282224,
            1272224,
            1256508,
            1242014,
            1175967,
            1131865,
            1121539,
            1086969,
            1051252,
            1051235,
            1039632,
            1036016,
            981608,
            974012,
            970238,
            960786,
            954108,
            941744,
            932261,
            925675,
            912237,
            902283,
            887414,
            855898,
            851550,
            837223,
            833064,
            827690,
            825302,
            804478,
            779358,
            774918,
            762961,
            758404,
            746856,
            746834,
            729134,
            723423,
            721492,
            712047,
            709373,
            689995,
            685254,
            679184,
            670826,
            664840,
            664137,
            663204,
            655466,
            654265,
            648409,
            643476
           ],
           "yaxis": "y"
          },
          {
           "customdata": [
            [
             "ES511",
             "ES300",
             "2018",
             "Barcelona",
             "Madrid"
            ],
            [
             "NL329",
             "FR108",
             "2018",
             "Amsterdam",
             "Paris"
            ],
            [
             "FRL04",
             "FR107",
             "2018",
             "Marseille",
             "Paris"
            ],
            [
             "FRL04",
             "FR108",
             "2018",
             "Marseille",
             "Paris"
            ],
            [
             "ES300",
             "ES111",
             "2018",
             "Madrid",
             "Santiago de Compostela"
            ],
            [
             "FRK26",
             "FR108",
             "2018",
             "Lyon",
             "Paris"
            ],
            [
             "ES300",
             "ES523",
             "2018",
             "Madrid",
             "Valencia"
            ]
           ],
           "hovertemplate": "<b>%{hovertext}</b><br><br>has_connection=1<br>Distance (km)=%{x}<br>Total Yearly Passengers=%{y}<br>NUTS_3_code_A=%{customdata[0]}<br>NUTS_3_code_B=%{customdata[1]}<extra></extra>",
           "hovertext": [
            "Barcelona & Madrid",
            "Amsterdam & Paris",
            "Marseille & Paris",
            "Marseille & Paris",
            "Madrid & Santiago de Compostela",
            "Lyon & Paris",
            "Madrid & Valencia"
           ],
           "legendgroup": "1",
           "marker": {
            "color": "#F31F1F",
            "symbol": "circle"
           },
           "mode": "markers",
           "name": "1",
           "orientation": "v",
           "showlegend": true,
           "type": "scatter",
           "x": [
            496.744786620118,
            415.670102647753,
            615.7859629890961,
            656.2448881051671,
            490.448768592743,
            403.94194129509896,
            280.920383321637
           ],
           "xaxis": "x",
           "y": [
            4935536,
            2472968,
            1890772,
            1346718,
            1339460,
            960252,
            719596
           ],
           "yaxis": "y"
          }
         ],
         "name": "2018"
        },
        {
         "data": [
          {
           "customdata": [
            [
             "DE300",
             "DE712",
             "2019",
             "Berlin",
             "Frankfurt"
            ],
            [
             "FR107",
             "FRJ23",
             "2019",
             "Paris",
             "Toulouse"
            ],
            [
             "ES511",
             "ES532",
             "2019",
             "Barcelona",
             "Palma de Mallorca"
            ],
            [
             "FRL03",
             "FR107",
             "2019",
             "Nice",
             "Paris"
            ],
            [
             "ES300",
             "ES532",
             "2019",
             "Madrid",
             "Palma de Mallorca"
            ],
            [
             "DE300",
             "DE212",
             "2019",
             "Berlin",
             "Munich"
            ],
            [
             "DE600",
             "DE212",
             "2019",
             "Hamburg",
             "Munich"
            ],
            [
             "DEA11",
             "DE212",
             "2019",
             "DÃ¼sseldorf",
             "Munich"
            ],
            [
             "DE712",
             "DE600",
             "2019",
             "Frankfurt",
             "Hamburg"
            ],
            [
             "ES511",
             "FR108",
             "2019",
             "Barcelona",
             "Paris"
            ],
            [
             "ES300",
             "FR107",
             "2019",
             "Madrid",
             "Paris"
            ],
            [
             "DE300",
             "DEA23",
             "2019",
             "Berlin",
             "Cologne"
            ],
            [
             "DE300",
             "DE111",
             "2019",
             "Berlin",
             "Stuttgart"
            ],
            [
             "DE300",
             "DEA11",
             "2019",
             "Berlin",
             "DÃ¼sseldorf"
            ],
            [
             "ES511",
             "ES531",
             "2019",
             "Barcelona",
             "Ibiza"
            ],
            [
             "ES511",
             "FR107",
             "2019",
             "Barcelona",
             "Paris"
            ],
            [
             "DE712",
             "DE212",
             "2019",
             "Frankfurt",
             "Munich"
            ],
            [
             "FRL03",
             "FR108",
             "2019",
             "Nice",
             "Paris"
            ],
            [
             "ES300",
             "FR108",
             "2019",
             "Madrid",
             "Paris"
            ],
            [
             "ES511",
             "ES618",
             "2019",
             "Barcelona",
             "Seville"
            ],
            [
             "DE712",
             "FR108",
             "2019",
             "Frankfurt",
             "Paris"
            ],
            [
             "ES511",
             "DE712",
             "2019",
             "Barcelona",
             "Frankfurt"
            ],
            [
             "DEA23",
             "DE212",
             "2019",
             "Cologne",
             "Munich"
            ],
            [
             "DE212",
             "FR108",
             "2019",
             "Munich",
             "Paris"
            ],
            [
             "FR108",
             "FRJ23",
             "2019",
             "Paris",
             "Toulouse"
            ],
            [
             "NL329",
             "DE212",
             "2019",
             "Amsterdam",
             "Munich"
            ],
            [
             "ES511",
             "BE100",
             "2019",
             "Barcelona",
             "Brussels"
            ],
            [
             "ES511",
             "DE212",
             "2019",
             "Barcelona",
             "Munich"
            ],
            [
             "DE212",
             "ES532",
             "2019",
             "Munich",
             "Palma de Mallorca"
            ],
            [
             "NL329",
             "DE712",
             "2019",
             "Amsterdam",
             "Frankfurt"
            ],
            [
             "DE300",
             "FR108",
             "2019",
             "Berlin",
             "Paris"
            ],
            [
             "ES511",
             "ES617",
             "2019",
             "Barcelona",
             "Malaga"
            ],
            [
             "ES511",
             "ES533",
             "2019",
             "Barcelona",
             "Menorca"
            ],
            [
             "ES531",
             "ES300",
             "2019",
             "Ibiza",
             "Madrid"
            ],
            [
             "ES213",
             "ES300",
             "2019",
             "Bilbao",
             "Madrid"
            ],
            [
             "ES705",
             "ES708",
             "2019",
             "Gran Canaria",
             "Lanzarote"
            ],
            [
             "ES532",
             "DE111",
             "2019",
             "Palma de Mallorca",
             "Stuttgart"
            ],
            [
             "DE600",
             "DE111",
             "2019",
             "Hamburg",
             "Stuttgart"
            ],
            [
             "NL329",
             "DE300",
             "2019",
             "Amsterdam",
             "Berlin"
            ],
            [
             "ES300",
             "ES114",
             "2019",
             "Madrid",
             "Vigo"
            ],
            [
             "ES111",
             "ES300",
             "2019",
             "A Coruna",
             "Madrid"
            ],
            [
             "ES704",
             "ES705",
             "2019",
             "Fuerteventura",
             "Gran Canaria"
            ],
            [
             "FRI12",
             "FR108",
             "2019",
             "Bordeaux",
             "Paris"
            ],
            [
             "ES511",
             "ES213",
             "2019",
             "Barcelona",
             "Bilbao"
            ],
            [
             "FRI12",
             "FRK26",
             "2019",
             "Bordeaux",
             "Lyon"
            ],
            [
             "BE100",
             "DE712",
             "2019",
             "Brussels",
             "Frankfurt"
            ],
            [
             "FRI12",
             "FR107",
             "2019",
             "Bordeaux",
             "Paris"
            ],
            [
             "FRJ13",
             "FR107",
             "2019",
             "Montpellier",
             "Paris"
            ],
            [
             "FRK26",
             "FRG01",
             "2019",
             "Lyon",
             "Nantes"
            ],
            [
             "ES120",
             "ES300",
             "2019",
             "Asturias",
             "Madrid"
            ],
            [
             "DE929",
             "DE212",
             "2019",
             "Hannover",
             "Munich"
            ],
            [
             "LU000",
             "DE212",
             "2019",
             "Luxembourg City",
             "Munich"
            ],
            [
             "ES532",
             "ES523",
             "2019",
             "Palma de Mallorca",
             "Valencia"
            ],
            [
             "ES531",
             "ES532",
             "2019",
             "Ibiza",
             "Palma de Mallorca"
            ],
            [
             "DEA11",
             "DE600",
             "2019",
             "DÃ¼sseldorf",
             "Hamburg"
            ],
            [
             "DE712",
             "LU000",
             "2019",
             "Frankfurt",
             "Luxembourg City"
            ],
            [
             "ES511",
             "ES614",
             "2019",
             "Barcelona",
             "Granada"
            ],
            [
             "ES300",
             "ES618",
             "2019",
             "Madrid",
             "Seville"
            ],
            [
             "NL329",
             "FRL03",
             "2019",
             "Amsterdam",
             "Nice"
            ],
            [
             "NL329",
             "DE600",
             "2019",
             "Amsterdam",
             "Hamburg"
            ],
            [
             "DE600",
             "FR108",
             "2019",
             "Hamburg",
             "Paris"
            ],
            [
             "DEA11",
             "FR108",
             "2019",
             "DÃ¼sseldorf",
             "Paris"
            ],
            [
             "DEA23",
             "DE600",
             "2019",
             "Cologne",
             "Hamburg"
            ],
            [
             "NL329",
             "LU000",
             "2019",
             "Amsterdam",
             "Luxembourg City"
            ],
            [
             "FRG01",
             "FR108",
             "2019",
             "Nantes",
             "Paris"
            ],
            [
             "ES521",
             "ES511",
             "2019",
             "Alicante",
             "Barcelona"
            ],
            [
             "FRM01",
             "FR107",
             "2019",
             "Ajaccio",
             "Paris"
            ],
            [
             "BE100",
             "DE212",
             "2019",
             "Brussels",
             "Munich"
            ],
            [
             "FRM02",
             "FR107",
             "2019",
             "Bastia",
             "Paris"
            ],
            [
             "FRK26",
             "FRJ23",
             "2019",
             "Lyon",
             "Toulouse"
            ],
            [
             "FRJ13",
             "FR108",
             "2019",
             "Montpellier",
             "Paris"
            ],
            [
             "FRI12",
             "FRL04",
             "2019",
             "Bordeaux",
             "Marseille"
            ],
            [
             "ES511",
             "ES111",
             "2019",
             "Barcelona",
             "Santiago de Compostela"
            ],
            [
             "DE501",
             "DE212",
             "2019",
             "Bremen",
             "Munich"
            ],
            [
             "ES708",
             "ES709",
             "2019",
             "Lanzarote",
             "Tenerife North"
            ],
            [
             "BE100",
             "FRL03",
             "2019",
             "Brussels",
             "Nice"
            ],
            [
             "DE712",
             "FRK26",
             "2019",
             "Frankfurt",
             "Lyon"
            ],
            [
             "DEA11",
             "DE712",
             "2019",
             "DÃ¼sseldorf",
             "Frankfurt"
            ],
            [
             "FRI15",
             "FR107",
             "2019",
             "Biarritz",
             "Paris"
            ],
            [
             "FRL04",
             "FRG01",
             "2019",
             "Marseille",
             "Nantes"
            ],
            [
             "ES300",
             "ES617",
             "2019",
             "Madrid",
             "Malaga"
            ],
            [
             "DE712",
             "DE929",
             "2019",
             "Frankfurt",
             "Hannover"
            ],
            [
             "ES532",
             "ES618",
             "2019",
             "Palma de Mallorca",
             "Seville"
            ],
            [
             "DE300",
             "BE100",
             "2019",
             "Berlin",
             "Brussels"
            ],
            [
             "NL329",
             "DE111",
             "2019",
             "Amsterdam",
             "Stuttgart"
            ],
            [
             "FR107",
             "FRL05",
             "2019",
             "Paris",
             "Toulon"
            ],
            [
             "ES511",
             "DEA11",
             "2019",
             "Barcelona",
             "DÃ¼sseldorf"
            ],
            [
             "DED21",
             "DE712",
             "2019",
             "Dresden",
             "Frankfurt"
            ],
            [
             "ES531",
             "ES523",
             "2019",
             "Ibiza",
             "Valencia"
            ],
            [
             "NL329",
             "FRK26",
             "2019",
             "Amsterdam",
             "Lyon"
            ],
            [
             "ES111",
             "ES511",
             "2019",
             "A Coruna",
             "Barcelona"
            ],
            [
             "DE712",
             "DE111",
             "2019",
             "Frankfurt",
             "Stuttgart"
            ],
            [
             "NL329",
             "DE300",
             "2019",
             "Amsterdam",
             "Berlin"
            ]
           ],
           "hovertemplate": "<b>%{hovertext}</b><br><br>has_connection=0<br>Distance (km)=%{x}<br>Total Yearly Passengers=%{y}<br>NUTS_3_code_A=%{customdata[0]}<br>NUTS_3_code_B=%{customdata[1]}<extra></extra>",
           "hovertext": [
            "Berlin & Frankfurt",
            "Paris & Toulouse",
            "Barcelona & Palma de Mallorca",
            "Nice & Paris",
            "Madrid & Palma de Mallorca",
            "Berlin & Munich",
            "Hamburg & Munich",
            "DÃ¼sseldorf & Munich",
            "Frankfurt & Hamburg",
            "Barcelona & Paris",
            "Madrid & Paris",
            "Berlin & Cologne",
            "Berlin & Stuttgart",
            "Berlin & DÃ¼sseldorf",
            "Barcelona & Ibiza",
            "Barcelona & Paris",
            "Frankfurt & Munich",
            "Nice & Paris",
            "Madrid & Paris",
            "Barcelona & Seville",
            "Frankfurt & Paris",
            "Barcelona & Frankfurt",
            "Cologne & Munich",
            "Munich & Paris",
            "Paris & Toulouse",
            "Amsterdam & Munich",
            "Barcelona & Brussels",
            "Barcelona & Munich",
            "Munich & Palma de Mallorca",
            "Amsterdam & Frankfurt",
            "Berlin & Paris",
            "Barcelona & Malaga",
            "Barcelona & Menorca",
            "Ibiza & Madrid",
            "Bilbao & Madrid",
            "Gran Canaria & Lanzarote",
            "Palma de Mallorca & Stuttgart",
            "Hamburg & Stuttgart",
            "Amsterdam & Berlin",
            "Madrid & Vigo",
            "A Coruna & Madrid",
            "Fuerteventura & Gran Canaria",
            "Bordeaux & Paris",
            "Barcelona & Bilbao",
            "Bordeaux & Lyon",
            "Brussels & Frankfurt",
            "Bordeaux & Paris",
            "Montpellier & Paris",
            "Lyon & Nantes",
            "Asturias & Madrid",
            "Hannover & Munich",
            "Luxembourg City & Munich",
            "Palma de Mallorca & Valencia",
            "Ibiza & Palma de Mallorca",
            "DÃ¼sseldorf & Hamburg",
            "Frankfurt & Luxembourg City",
            "Barcelona & Granada",
            "Madrid & Seville",
            "Amsterdam & Nice",
            "Amsterdam & Hamburg",
            "Hamburg & Paris",
            "DÃ¼sseldorf & Paris",
            "Cologne & Hamburg",
            "Amsterdam & Luxembourg City",
            "Nantes & Paris",
            "Alicante & Barcelona",
            "Ajaccio & Paris",
            "Brussels & Munich",
            "Bastia & Paris",
            "Lyon & Toulouse",
            "Montpellier & Paris",
            "Bordeaux & Marseille",
            "Barcelona & Santiago de Compostela",
            "Bremen & Munich",
            "Lanzarote & Tenerife North",
            "Brussels & Nice",
            "Frankfurt & Lyon",
            "DÃ¼sseldorf & Frankfurt",
            "Biarritz & Paris",
            "Marseille & Nantes",
            "Madrid & Malaga",
            "Frankfurt & Hannover",
            "Palma de Mallorca & Seville",
            "Berlin & Brussels",
            "Amsterdam & Stuttgart",
            "Paris & Toulon",
            "Barcelona & DÃ¼sseldorf",
            "Dresden & Frankfurt",
            "Ibiza & Valencia",
            "Amsterdam & Lyon",
            "A Coruna & Barcelona",
            "Frankfurt & Stuttgart",
            "Amsterdam & Berlin"
           ],
           "legendgroup": "0",
           "marker": {
            "color": "blue",
            "symbol": "circle"
           },
           "mode": "markers",
           "name": "0",
           "orientation": "v",
           "showlegend": true,
           "type": "scatter",
           "x": [
            423.686712362807,
            610.672306408928,
            249.225541856928,
            645.376754516887,
            576.185840400148,
            501.031167189001,
            608.827545798698,
            483.06189797833997,
            392.60885455236297,
            817.6545978779959,
            1042.11497925417,
            475.18279134836797,
            510.30360551884297,
            473.7790869111,
            309.20293422786,
            784.517352689714,
            303.686425226354,
            687.2958584211141,
            1059.88503714606,
            811.655848444259,
            483.079624586604,
            1064.51760751428,
            452.861881060905,
            699.208424968156,
            640.685603711761,
            667.3874185834001,
            1028.94825437443,
            1036.17036339819,
            1171.2395609419,
            363.70986950103395,
            877.442211340939,
            794.792276847837,
            263.943607462963,
            469.310061002716,
            313.89499803948405,
            224.714493808608,
            1131.9399043855599,
            533.5531595518011,
            577.1077854469729,
            450.401891831389,
            490.448768592743,
            160.57733314522,
            516.266724239048,
            430.36062762897996,
            423.9083506484,
            312.67946252365005,
            496.925829543844,
            582.0937584207791,
            510.49181148738796,
            363.893605388651,
            491.99641946151604,
            436.913073679687,
            322.350851451072,
            150.397059377353,
            336.68180757412404,
            186.445813326575,
            666.318624905471,
            380.204645403803,
            954.3371356114591,
            367.17519833585396,
            738.8068156968959,
            410.2779404023029,
            355.694141269246,
            302.697691471432,
            341.08849522780304,
            421.73263278328596,
            921.51894448017,
            597.4958029132459,
            881.6546311610041,
            391.48334019243504,
            619.227019208811,
            473.21198007874204,
            870.927855265631,
            584.1660953359461,
            295.952918870015,
            794.354709324204,
            558.236080898423,
            179.37660362849599,
            662.344846583558,
            677.074423186274,
            418.508828796069,
            266.927989622783,
            789.295359072529,
            649.232486942168,
            503.060625164199,
            660.470063883719,
            1119.1931371947899,
            377.687954843853,
            193.272542758871,
            725.3237708887671,
            870.927855265631,
            154.044021518455,
            577.1077854469729
           ],
           "xaxis": "x",
           "y": [
            4496494,
            4434528,
            4347878,
            4111741,
            3990208,
            3868042,
            3479956,
            2976389,
            2852058,
            2734126,
            2716816,
            2634070,
            2468838,
            2466167,
            2412630,
            2286218,
            2273134,
            2250154,
            2224548,
            2090058,
            2082334,
            2069551,
            2033904,
            2027858,
            2000541,
            1939242,
            1903670,
            1778048,
            1762688,
            1762428,
            1726911,
            1697928,
            1675584,
            1674014,
            1671516,
            1607930,
            1582912,
            1473649,
            1369996,
            1367860,
            1360150,
            1328936,
            1304573,
            1245202,
            1164186,
            1154578,
            1132633,
            1124596,
            1122014,
            1096426,
            1082070,
            1081432,
            1078426,
            1069190,
            1043893,
            1011231,
            979072,
            972876,
            956492,
            952802,
            929776,
            929053,
            926861,
            924525,
            903324,
            898196,
            895172,
            876395,
            866427,
            856365,
            854131,
            852952,
            847904,
            826079,
            788564,
            767782,
            763007,
            758062,
            729425,
            724510,
            714516,
            707291,
            705346,
            695656,
            689182,
            674378,
            671239,
            663858,
            654268,
            646766,
            646378,
            642880,
            634704
           ],
           "yaxis": "y"
          },
          {
           "customdata": [
            [
             "ES511",
             "ES300",
             "2019",
             "Barcelona",
             "Madrid"
            ],
            [
             "NL329",
             "FR108",
             "2019",
             "Amsterdam",
             "Paris"
            ],
            [
             "FRL04",
             "FR107",
             "2019",
             "Marseille",
             "Paris"
            ],
            [
             "ES300",
             "ES111",
             "2019",
             "Madrid",
             "Santiago de Compostela"
            ],
            [
             "FRL04",
             "FR108",
             "2019",
             "Marseille",
             "Paris"
            ],
            [
             "FRK26",
             "FR108",
             "2019",
             "Lyon",
             "Paris"
            ],
            [
             "ES300",
             "ES523",
             "2019",
             "Madrid",
             "Valencia"
            ]
           ],
           "hovertemplate": "<b>%{hovertext}</b><br><br>has_connection=1<br>Distance (km)=%{x}<br>Total Yearly Passengers=%{y}<br>NUTS_3_code_A=%{customdata[0]}<br>NUTS_3_code_B=%{customdata[1]}<extra></extra>",
           "hovertext": [
            "Barcelona & Madrid",
            "Amsterdam & Paris",
            "Marseille & Paris",
            "Madrid & Santiago de Compostela",
            "Marseille & Paris",
            "Lyon & Paris",
            "Madrid & Valencia"
           ],
           "legendgroup": "1",
           "marker": {
            "color": "#F31F1F",
            "symbol": "circle"
           },
           "mode": "markers",
           "name": "1",
           "orientation": "v",
           "showlegend": true,
           "type": "scatter",
           "x": [
            496.744786620118,
            415.670102647753,
            615.7859629890961,
            490.448768592743,
            656.2448881051671,
            403.94194129509896,
            280.920383321637
           ],
           "xaxis": "x",
           "y": [
            5145786,
            2474920,
            1768697,
            1439496,
            1352582,
            1075541,
            676434
           ],
           "yaxis": "y"
          }
         ],
         "name": "2019"
        }
       ],
       "layout": {
        "legend": {
         "title": {
          "text": "HSR Connection Status"
         },
         "tracegroupgap": 0
        },
        "sliders": [
         {
          "active": 0,
          "currentvalue": {
           "prefix": "Year="
          },
          "len": 0.9,
          "pad": {
           "b": 10,
           "t": 60
          },
          "steps": [
           {
            "args": [
             [
              "2016"
             ],
             {
              "frame": {
               "duration": 0,
               "redraw": false
              },
              "fromcurrent": true,
              "mode": "immediate",
              "transition": {
               "duration": 0,
               "easing": "linear"
              }
             }
            ],
            "label": "2016",
            "method": "animate"
           },
           {
            "args": [
             [
              "2017"
             ],
             {
              "frame": {
               "duration": 0,
               "redraw": false
              },
              "fromcurrent": true,
              "mode": "immediate",
              "transition": {
               "duration": 0,
               "easing": "linear"
              }
             }
            ],
            "label": "2017",
            "method": "animate"
           },
           {
            "args": [
             [
              "2018"
             ],
             {
              "frame": {
               "duration": 0,
               "redraw": false
              },
              "fromcurrent": true,
              "mode": "immediate",
              "transition": {
               "duration": 0,
               "easing": "linear"
              }
             }
            ],
            "label": "2018",
            "method": "animate"
           },
           {
            "args": [
             [
              "2019"
             ],
             {
              "frame": {
               "duration": 0,
               "redraw": false
              },
              "fromcurrent": true,
              "mode": "immediate",
              "transition": {
               "duration": 0,
               "easing": "linear"
              }
             }
            ],
            "label": "2019",
            "method": "animate"
           }
          ],
          "x": 0.1,
          "xanchor": "left",
          "y": 0,
          "yanchor": "top"
         }
        ],
        "template": {
         "data": {
          "bar": [
           {
            "error_x": {
             "color": "#2a3f5f"
            },
            "error_y": {
             "color": "#2a3f5f"
            },
            "marker": {
             "line": {
              "color": "#E5ECF6",
              "width": 0.5
             },
             "pattern": {
              "fillmode": "overlay",
              "size": 10,
              "solidity": 0.2
             }
            },
            "type": "bar"
           }
          ],
          "barpolar": [
           {
            "marker": {
             "line": {
              "color": "#E5ECF6",
              "width": 0.5
             },
             "pattern": {
              "fillmode": "overlay",
              "size": 10,
              "solidity": 0.2
             }
            },
            "type": "barpolar"
           }
          ],
          "carpet": [
           {
            "aaxis": {
             "endlinecolor": "#2a3f5f",
             "gridcolor": "white",
             "linecolor": "white",
             "minorgridcolor": "white",
             "startlinecolor": "#2a3f5f"
            },
            "baxis": {
             "endlinecolor": "#2a3f5f",
             "gridcolor": "white",
             "linecolor": "white",
             "minorgridcolor": "white",
             "startlinecolor": "#2a3f5f"
            },
            "type": "carpet"
           }
          ],
          "choropleth": [
           {
            "colorbar": {
             "outlinewidth": 0,
             "ticks": ""
            },
            "type": "choropleth"
           }
          ],
          "contour": [
           {
            "colorbar": {
             "outlinewidth": 0,
             "ticks": ""
            },
            "colorscale": [
             [
              0,
              "#0d0887"
             ],
             [
              0.1111111111111111,
              "#46039f"
             ],
             [
              0.2222222222222222,
              "#7201a8"
             ],
             [
              0.3333333333333333,
              "#9c179e"
             ],
             [
              0.4444444444444444,
              "#bd3786"
             ],
             [
              0.5555555555555556,
              "#d8576b"
             ],
             [
              0.6666666666666666,
              "#ed7953"
             ],
             [
              0.7777777777777778,
              "#fb9f3a"
             ],
             [
              0.8888888888888888,
              "#fdca26"
             ],
             [
              1,
              "#f0f921"
             ]
            ],
            "type": "contour"
           }
          ],
          "contourcarpet": [
           {
            "colorbar": {
             "outlinewidth": 0,
             "ticks": ""
            },
            "type": "contourcarpet"
           }
          ],
          "heatmap": [
           {
            "colorbar": {
             "outlinewidth": 0,
             "ticks": ""
            },
            "colorscale": [
             [
              0,
              "#0d0887"
             ],
             [
              0.1111111111111111,
              "#46039f"
             ],
             [
              0.2222222222222222,
              "#7201a8"
             ],
             [
              0.3333333333333333,
              "#9c179e"
             ],
             [
              0.4444444444444444,
              "#bd3786"
             ],
             [
              0.5555555555555556,
              "#d8576b"
             ],
             [
              0.6666666666666666,
              "#ed7953"
             ],
             [
              0.7777777777777778,
              "#fb9f3a"
             ],
             [
              0.8888888888888888,
              "#fdca26"
             ],
             [
              1,
              "#f0f921"
             ]
            ],
            "type": "heatmap"
           }
          ],
          "heatmapgl": [
           {
            "colorbar": {
             "outlinewidth": 0,
             "ticks": ""
            },
            "colorscale": [
             [
              0,
              "#0d0887"
             ],
             [
              0.1111111111111111,
              "#46039f"
             ],
             [
              0.2222222222222222,
              "#7201a8"
             ],
             [
              0.3333333333333333,
              "#9c179e"
             ],
             [
              0.4444444444444444,
              "#bd3786"
             ],
             [
              0.5555555555555556,
              "#d8576b"
             ],
             [
              0.6666666666666666,
              "#ed7953"
             ],
             [
              0.7777777777777778,
              "#fb9f3a"
             ],
             [
              0.8888888888888888,
              "#fdca26"
             ],
             [
              1,
              "#f0f921"
             ]
            ],
            "type": "heatmapgl"
           }
          ],
          "histogram": [
           {
            "marker": {
             "pattern": {
              "fillmode": "overlay",
              "size": 10,
              "solidity": 0.2
             }
            },
            "type": "histogram"
           }
          ],
          "histogram2d": [
           {
            "colorbar": {
             "outlinewidth": 0,
             "ticks": ""
            },
            "colorscale": [
             [
              0,
              "#0d0887"
             ],
             [
              0.1111111111111111,
              "#46039f"
             ],
             [
              0.2222222222222222,
              "#7201a8"
             ],
             [
              0.3333333333333333,
              "#9c179e"
             ],
             [
              0.4444444444444444,
              "#bd3786"
             ],
             [
              0.5555555555555556,
              "#d8576b"
             ],
             [
              0.6666666666666666,
              "#ed7953"
             ],
             [
              0.7777777777777778,
              "#fb9f3a"
             ],
             [
              0.8888888888888888,
              "#fdca26"
             ],
             [
              1,
              "#f0f921"
             ]
            ],
            "type": "histogram2d"
           }
          ],
          "histogram2dcontour": [
           {
            "colorbar": {
             "outlinewidth": 0,
             "ticks": ""
            },
            "colorscale": [
             [
              0,
              "#0d0887"
             ],
             [
              0.1111111111111111,
              "#46039f"
             ],
             [
              0.2222222222222222,
              "#7201a8"
             ],
             [
              0.3333333333333333,
              "#9c179e"
             ],
             [
              0.4444444444444444,
              "#bd3786"
             ],
             [
              0.5555555555555556,
              "#d8576b"
             ],
             [
              0.6666666666666666,
              "#ed7953"
             ],
             [
              0.7777777777777778,
              "#fb9f3a"
             ],
             [
              0.8888888888888888,
              "#fdca26"
             ],
             [
              1,
              "#f0f921"
             ]
            ],
            "type": "histogram2dcontour"
           }
          ],
          "mesh3d": [
           {
            "colorbar": {
             "outlinewidth": 0,
             "ticks": ""
            },
            "type": "mesh3d"
           }
          ],
          "parcoords": [
           {
            "line": {
             "colorbar": {
              "outlinewidth": 0,
              "ticks": ""
             }
            },
            "type": "parcoords"
           }
          ],
          "pie": [
           {
            "automargin": true,
            "type": "pie"
           }
          ],
          "scatter": [
           {
            "fillpattern": {
             "fillmode": "overlay",
             "size": 10,
             "solidity": 0.2
            },
            "type": "scatter"
           }
          ],
          "scatter3d": [
           {
            "line": {
             "colorbar": {
              "outlinewidth": 0,
              "ticks": ""
             }
            },
            "marker": {
             "colorbar": {
              "outlinewidth": 0,
              "ticks": ""
             }
            },
            "type": "scatter3d"
           }
          ],
          "scattercarpet": [
           {
            "marker": {
             "colorbar": {
              "outlinewidth": 0,
              "ticks": ""
             }
            },
            "type": "scattercarpet"
           }
          ],
          "scattergeo": [
           {
            "marker": {
             "colorbar": {
              "outlinewidth": 0,
              "ticks": ""
             }
            },
            "type": "scattergeo"
           }
          ],
          "scattergl": [
           {
            "marker": {
             "colorbar": {
              "outlinewidth": 0,
              "ticks": ""
             }
            },
            "type": "scattergl"
           }
          ],
          "scattermapbox": [
           {
            "marker": {
             "colorbar": {
              "outlinewidth": 0,
              "ticks": ""
             }
            },
            "type": "scattermapbox"
           }
          ],
          "scatterpolar": [
           {
            "marker": {
             "colorbar": {
              "outlinewidth": 0,
              "ticks": ""
             }
            },
            "type": "scatterpolar"
           }
          ],
          "scatterpolargl": [
           {
            "marker": {
             "colorbar": {
              "outlinewidth": 0,
              "ticks": ""
             }
            },
            "type": "scatterpolargl"
           }
          ],
          "scatterternary": [
           {
            "marker": {
             "colorbar": {
              "outlinewidth": 0,
              "ticks": ""
             }
            },
            "type": "scatterternary"
           }
          ],
          "surface": [
           {
            "colorbar": {
             "outlinewidth": 0,
             "ticks": ""
            },
            "colorscale": [
             [
              0,
              "#0d0887"
             ],
             [
              0.1111111111111111,
              "#46039f"
             ],
             [
              0.2222222222222222,
              "#7201a8"
             ],
             [
              0.3333333333333333,
              "#9c179e"
             ],
             [
              0.4444444444444444,
              "#bd3786"
             ],
             [
              0.5555555555555556,
              "#d8576b"
             ],
             [
              0.6666666666666666,
              "#ed7953"
             ],
             [
              0.7777777777777778,
              "#fb9f3a"
             ],
             [
              0.8888888888888888,
              "#fdca26"
             ],
             [
              1,
              "#f0f921"
             ]
            ],
            "type": "surface"
           }
          ],
          "table": [
           {
            "cells": {
             "fill": {
              "color": "#EBF0F8"
             },
             "line": {
              "color": "white"
             }
            },
            "header": {
             "fill": {
              "color": "#C8D4E3"
             },
             "line": {
              "color": "white"
             }
            },
            "type": "table"
           }
          ]
         },
         "layout": {
          "annotationdefaults": {
           "arrowcolor": "#2a3f5f",
           "arrowhead": 0,
           "arrowwidth": 1
          },
          "autotypenumbers": "strict",
          "coloraxis": {
           "colorbar": {
            "outlinewidth": 0,
            "ticks": ""
           }
          },
          "colorscale": {
           "diverging": [
            [
             0,
             "#8e0152"
            ],
            [
             0.1,
             "#c51b7d"
            ],
            [
             0.2,
             "#de77ae"
            ],
            [
             0.3,
             "#f1b6da"
            ],
            [
             0.4,
             "#fde0ef"
            ],
            [
             0.5,
             "#f7f7f7"
            ],
            [
             0.6,
             "#e6f5d0"
            ],
            [
             0.7,
             "#b8e186"
            ],
            [
             0.8,
             "#7fbc41"
            ],
            [
             0.9,
             "#4d9221"
            ],
            [
             1,
             "#276419"
            ]
           ],
           "sequential": [
            [
             0,
             "#0d0887"
            ],
            [
             0.1111111111111111,
             "#46039f"
            ],
            [
             0.2222222222222222,
             "#7201a8"
            ],
            [
             0.3333333333333333,
             "#9c179e"
            ],
            [
             0.4444444444444444,
             "#bd3786"
            ],
            [
             0.5555555555555556,
             "#d8576b"
            ],
            [
             0.6666666666666666,
             "#ed7953"
            ],
            [
             0.7777777777777778,
             "#fb9f3a"
            ],
            [
             0.8888888888888888,
             "#fdca26"
            ],
            [
             1,
             "#f0f921"
            ]
           ],
           "sequentialminus": [
            [
             0,
             "#0d0887"
            ],
            [
             0.1111111111111111,
             "#46039f"
            ],
            [
             0.2222222222222222,
             "#7201a8"
            ],
            [
             0.3333333333333333,
             "#9c179e"
            ],
            [
             0.4444444444444444,
             "#bd3786"
            ],
            [
             0.5555555555555556,
             "#d8576b"
            ],
            [
             0.6666666666666666,
             "#ed7953"
            ],
            [
             0.7777777777777778,
             "#fb9f3a"
            ],
            [
             0.8888888888888888,
             "#fdca26"
            ],
            [
             1,
             "#f0f921"
            ]
           ]
          },
          "colorway": [
           "#636efa",
           "#EF553B",
           "#00cc96",
           "#ab63fa",
           "#FFA15A",
           "#19d3f3",
           "#FF6692",
           "#B6E880",
           "#FF97FF",
           "#FECB52"
          ],
          "font": {
           "color": "#2a3f5f"
          },
          "geo": {
           "bgcolor": "white",
           "lakecolor": "white",
           "landcolor": "#E5ECF6",
           "showlakes": true,
           "showland": true,
           "subunitcolor": "white"
          },
          "hoverlabel": {
           "align": "left"
          },
          "hovermode": "closest",
          "mapbox": {
           "style": "light"
          },
          "paper_bgcolor": "white",
          "plot_bgcolor": "#E5ECF6",
          "polar": {
           "angularaxis": {
            "gridcolor": "white",
            "linecolor": "white",
            "ticks": ""
           },
           "bgcolor": "#E5ECF6",
           "radialaxis": {
            "gridcolor": "white",
            "linecolor": "white",
            "ticks": ""
           }
          },
          "scene": {
           "xaxis": {
            "backgroundcolor": "#E5ECF6",
            "gridcolor": "white",
            "gridwidth": 2,
            "linecolor": "white",
            "showbackground": true,
            "ticks": "",
            "zerolinecolor": "white"
           },
           "yaxis": {
            "backgroundcolor": "#E5ECF6",
            "gridcolor": "white",
            "gridwidth": 2,
            "linecolor": "white",
            "showbackground": true,
            "ticks": "",
            "zerolinecolor": "white"
           },
           "zaxis": {
            "backgroundcolor": "#E5ECF6",
            "gridcolor": "white",
            "gridwidth": 2,
            "linecolor": "white",
            "showbackground": true,
            "ticks": "",
            "zerolinecolor": "white"
           }
          },
          "shapedefaults": {
           "line": {
            "color": "#2a3f5f"
           }
          },
          "ternary": {
           "aaxis": {
            "gridcolor": "white",
            "linecolor": "white",
            "ticks": ""
           },
           "baxis": {
            "gridcolor": "white",
            "linecolor": "white",
            "ticks": ""
           },
           "bgcolor": "#E5ECF6",
           "caxis": {
            "gridcolor": "white",
            "linecolor": "white",
            "ticks": ""
           }
          },
          "title": {
           "x": 0.05
          },
          "xaxis": {
           "automargin": true,
           "gridcolor": "white",
           "linecolor": "white",
           "ticks": "",
           "title": {
            "standoff": 15
           },
           "zerolinecolor": "white",
           "zerolinewidth": 2
          },
          "yaxis": {
           "automargin": true,
           "gridcolor": "white",
           "linecolor": "white",
           "ticks": "",
           "title": {
            "standoff": 15
           },
           "zerolinecolor": "white",
           "zerolinewidth": 2
          }
         }
        },
        "title": {
         "text": "Air Passenger Volumes vs Distance Between City Pairs (2016-2019)"
        },
        "updatemenus": [
         {
          "buttons": [
           {
            "args": [
             null,
             {
              "frame": {
               "duration": 500,
               "redraw": false
              },
              "fromcurrent": true,
              "mode": "immediate",
              "transition": {
               "duration": 500,
               "easing": "linear"
              }
             }
            ],
            "label": "&#9654;",
            "method": "animate"
           },
           {
            "args": [
             [
              null
             ],
             {
              "frame": {
               "duration": 0,
               "redraw": false
              },
              "fromcurrent": true,
              "mode": "immediate",
              "transition": {
               "duration": 0,
               "easing": "linear"
              }
             }
            ],
            "label": "&#9724;",
            "method": "animate"
           }
          ],
          "direction": "left",
          "pad": {
           "r": 10,
           "t": 70
          },
          "showactive": false,
          "type": "buttons",
          "x": 0.1,
          "xanchor": "right",
          "y": 0,
          "yanchor": "top"
         }
        ],
        "xaxis": {
         "anchor": "y",
         "domain": [
          0,
          1
         ],
         "title": {
          "text": "Distance (km)"
         }
        },
        "yaxis": {
         "anchor": "x",
         "domain": [
          0,
          1
         ],
         "title": {
          "text": "Total Yearly Passengers"
         }
        }
       }
      }
     },
     "metadata": {},
     "output_type": "display_data"
    }
   ],
   "source": [
    "# Creating list to store yearly dataFrames\n",
    "sheets = ['2016', '2017', '2018', '2019']\n",
    "data_frames = []\n",
    "\n",
    "# Loop through each sheet, add a 'Year' column, and append it to data_frames list\n",
    "for sheet in sheets:\n",
    "    df = pd.read_excel(file_path, sheet_name=sheet)\n",
    "    df['Year'] = sheet  # Add a Year column for each DataFrame\n",
    "    data_frames.append(df)\n",
    "\n",
    "# Concatenate all data into a single DataFrame\n",
    "df_all = pd.concat(data_frames, ignore_index=True)\n",
    "\n",
    "# Concatenate all data into a single DataFrame\n",
    "df_all = pd.concat(data_frames, ignore_index=True)\n",
    "\n",
    "# Convert Distance from meters to kilometers\n",
    "df_all['Distance'] = df_all['Distance'] / 1000\n",
    "\n",
    "# Filtering city pairs based on the Distance range (150 to 1200 km)\n",
    "df_all = df_all[(df_all['Distance'] >= 150) & (df_all['Distance'] <= 1200)]\n",
    "\n",
    "# Extract relevant columns using the actual column names in the file\n",
    "df_all = df_all[['Total passengers', 'NUTS_3_code_A', 'NUTS_3_code_B', 'Distance', 'Year', 'City_A_Name', 'City_B_Name', 'has_connection']]\n",
    "\n",
    "# Combining city names for the custom hover name\n",
    "df_all['City_Pair'] = df_all['City_A_Name'] + \" & \" + df_all['City_B_Name']\n",
    "\n",
    "# Converts \"has_connection\" column to string for plotly express will see it as a binary option (not continuous\n",
    "df_all['has_connection'] = df_all['has_connection'].astype(str)\n",
    "\n",
    "# Filter to Top 50 Total passenger volumes\n",
    "df_all = df_all.sort_values(by='Total passengers', ascending=False).groupby('Year').head(100)\n",
    "\n",
    "# Sorting year slider in ascending order, aka making sure the slider is correctly laid out\n",
    "df_all = df_all.sort_values(by=['Year', 'Total passengers'], ascending=[True, False])\n",
    "\n",
    "# Map the 'has_connection' column to specific colors (why isn't the red showing up??)\n",
    "color_map = {'0': 'blue', '1': '#F31F1F'} # Medium-dark red for 1\n",
    "\n",
    "# Create a scatter plot using Plotly Express\n",
    "fig = px.scatter(\n",
    "    df_all,\n",
    "    x='Distance',\n",
    "    y='Total passengers',\n",
    "    color = 'has_connection',\n",
    "    color_discrete_map = color_map,\n",
    "    animation_frame='Year',\n",
    "    hover_name='City_Pair',\n",
    "   hover_data={'NUTS_3_code_A': True, 'NUTS_3_code_B': True, 'Distance': True, 'Total passengers': True, 'Year': False,'City_A_Name': False, 'City_B_Name': False},\n",
    "    title=\"Air Passenger Volumes vs Distance Between City Pairs (2016-2019)\",\n",
    "    labels={\"Distance\": \"Distance (km)\", \"Total passengers\": \"Total Yearly Passengers\"},\n",
    ")\n",
    "\n",
    "# Update hover template to show City Pair with custom text\n",
    "fig.update_traces(hovertemplate=\"<br>\".join([\n",
    "    \"City Pair: %{hovertext}\",\n",
    "    \"Distance: %{x} km\",\n",
    "    \"Passengers: %{y}\"\n",
    "]))\n",
    "# Adds title for legend\n",
    "fig.update_layout(legend_title_text='HSR Connection Status')\n",
    "\n",
    "# Update legend to rename \"0\" to \"No pre-existing connection\" and \"1\" to \"Already connected\"\n",
    "fig.for_each_trace(lambda t: t.update(name=\"No pre-existing connection\" if t.name == \"0\" else \"Already connected\"))\n",
    "\n",
    "\n",
    "fig.show()"
   ]
  },
  {
   "cell_type": "code",
   "execution_count": 4,
   "metadata": {},
   "outputs": [
    {
     "name": "stdout",
     "output_type": "stream",
     "text": [
      "\n",
      "Top 10 City Pairs with Highest Air Passenger Volume in 2016\n",
      "                    City_Pair  Total passengers   Distance has_connection\n",
      "             Paris & Toulouse           4716804 610.672306              0\n",
      "           Barcelona & Madrid           4657590 496.744787              1\n",
      "                 Nice & Paris           4249404 645.376755              0\n",
      "              Berlin & Munich           3878625 501.031167              0\n",
      "           Berlin & Frankfurt           3869795 423.686712              0\n",
      "             Hamburg & Munich           3603238 608.827546              0\n",
      "Barcelona & Palma de Mallorca           3545242 249.225542              0\n",
      "   Madrid & Palma de Mallorca           3375136 576.185840              0\n",
      "         DÃ¼sseldorf & Munich           3128381 483.061898              0\n",
      "          Frankfurt & Hamburg           2742869 392.608855              0\n",
      "\n",
      "Top 10 City Pairs with Highest Air Passenger Volume in 2017\n",
      "                    City_Pair  Total passengers   Distance has_connection\n",
      "           Barcelona & Madrid           4684032 496.744787              1\n",
      "             Paris & Toulouse           4649919 610.672306              0\n",
      "                 Nice & Paris           4343784 645.376755              0\n",
      "              Berlin & Munich           3944576 501.031167              0\n",
      "           Berlin & Frankfurt           3911786 423.686712              0\n",
      "Barcelona & Palma de Mallorca           3889456 249.225542              0\n",
      "   Madrid & Palma de Mallorca           3631178 576.185840              0\n",
      "             Hamburg & Munich           3480168 608.827546              0\n",
      "         DÃ¼sseldorf & Munich           3105935 483.061898              0\n",
      "          Frankfurt & Hamburg           2790292 392.608855              0\n",
      "\n",
      "Top 10 City Pairs with Highest Air Passenger Volume in 2018\n",
      "                    City_Pair  Total passengers   Distance has_connection\n",
      "           Barcelona & Madrid           4935536 496.744787              1\n",
      "           Berlin & Frankfurt           4583867 423.686712              0\n",
      "             Paris & Toulouse           4564556 610.672306              0\n",
      "                 Nice & Paris           4279947 645.376755              0\n",
      "Barcelona & Palma de Mallorca           4071446 249.225542              0\n",
      "              Berlin & Munich           3970355 501.031167              0\n",
      "   Madrid & Palma de Mallorca           3934560 576.185840              0\n",
      "             Hamburg & Munich           3491075 608.827546              0\n",
      "          Frankfurt & Hamburg           2878508 392.608855              0\n",
      "         DÃ¼sseldorf & Munich           2839081 483.061898              0\n",
      "\n",
      "Top 10 City Pairs with Highest Air Passenger Volume in 2019\n",
      "                    City_Pair  Total passengers   Distance has_connection\n",
      "           Barcelona & Madrid           5145786 496.744787              1\n",
      "           Berlin & Frankfurt           4496494 423.686712              0\n",
      "             Paris & Toulouse           4434528 610.672306              0\n",
      "Barcelona & Palma de Mallorca           4347878 249.225542              0\n",
      "                 Nice & Paris           4111741 645.376755              0\n",
      "   Madrid & Palma de Mallorca           3990208 576.185840              0\n",
      "              Berlin & Munich           3868042 501.031167              0\n",
      "             Hamburg & Munich           3479956 608.827546              0\n",
      "         DÃ¼sseldorf & Munich           2976389 483.061898              0\n",
      "          Frankfurt & Hamburg           2852058 392.608855              0\n"
     ]
    }
   ],
   "source": [
    "# Create a dictionary to store the top 10 tables for each year\n",
    "top_10_tables = {}\n",
    "\n",
    "# Looping through each year, filter the data, and get the top 10 rows\n",
    "for year in sheets:  # 'sheets' contains ['2016', '2017', '2018', '2019']\n",
    "    # Filter for the specific year and sort by 'Total Passengers' in descending order\n",
    "    top_10 = df_all[df_all['Year'] == year].sort_values(by='Total passengers', ascending=False).head(10)\n",
    "    # Store the result in the dictionary\n",
    "    top_10_tables[year] = top_10[['City_Pair', 'Total passengers', 'Distance', 'has_connection']]\n",
    "\n",
    "# Display the tables\n",
    "for year, table in top_10_tables.items():\n",
    "    print(f\"\\nTop 10 City Pairs with Highest Air Passenger Volume in {year}\")\n",
    "    print(table.to_string(index=False))\n",
    "\n",
    "# Note: distance is in kilometers"
   ]
  },
  {
   "cell_type": "code",
   "execution_count": 5,
   "metadata": {},
   "outputs": [
    {
     "name": "stderr",
     "output_type": "stream",
     "text": [
      "C:\\Users\\yanni\\AppData\\Local\\Temp\\ipykernel_4752\\2278175640.py:4: SettingWithCopyWarning:\n",
      "\n",
      "\n",
      "A value is trying to be set on a copy of a slice from a DataFrame.\n",
      "Try using .loc[row_indexer,col_indexer] = value instead\n",
      "\n",
      "See the caveats in the documentation: https://pandas.pydata.org/pandas-docs/stable/user_guide/indexing.html#returning-a-view-versus-a-copy\n",
      "\n"
     ]
    },
    {
     "data": {
      "application/vnd.plotly.v1+json": {
       "config": {
        "plotlyServerURL": "https://plot.ly"
       },
       "data": [
        {
         "marker": {
          "color": "#636EFA"
         },
         "name": "2019",
         "type": "bar",
         "x": [
          "Barcelona & Madrid",
          "Berlin & Frankfurt",
          "Paris & Toulouse",
          "Barcelona & Palma de Mallorca",
          "Nice & Paris",
          "Madrid & Palma de Mallorca",
          "Berlin & Munich",
          "Hamburg & Munich",
          "DÃ¼sseldorf & Munich",
          "Frankfurt & Hamburg"
         ],
         "y": [
          5145786,
          4496494,
          4434528,
          4347878,
          4111741,
          3990208,
          3868042,
          3479956,
          2976389,
          2852058
         ]
        },
        {
         "marker": {
          "color": "#EF553B"
         },
         "name": "2018",
         "type": "bar",
         "x": [
          "Barcelona & Madrid",
          "Berlin & Frankfurt",
          "Paris & Toulouse",
          "Nice & Paris",
          "Barcelona & Palma de Mallorca",
          "Berlin & Munich",
          "Madrid & Palma de Mallorca",
          "Hamburg & Munich",
          "Frankfurt & Hamburg",
          "DÃ¼sseldorf & Munich"
         ],
         "y": [
          4935536,
          4583867,
          4564556,
          4279947,
          4071446,
          3970355,
          3934560,
          3491075,
          2878508,
          2839081
         ]
        },
        {
         "marker": {
          "color": "#00CC96"
         },
         "name": "2017",
         "type": "bar",
         "x": [
          "Barcelona & Madrid",
          "Paris & Toulouse",
          "Nice & Paris",
          "Berlin & Munich",
          "Berlin & Frankfurt",
          "Barcelona & Palma de Mallorca",
          "Madrid & Palma de Mallorca",
          "Hamburg & Munich",
          "DÃ¼sseldorf & Munich",
          "Frankfurt & Hamburg"
         ],
         "y": [
          4684032,
          4649919,
          4343784,
          3944576,
          3911786,
          3889456,
          3631178,
          3480168,
          3105935,
          2790292
         ]
        },
        {
         "marker": {
          "color": "#AB63FA"
         },
         "name": "2016",
         "type": "bar",
         "x": [
          "Paris & Toulouse",
          "Barcelona & Madrid",
          "Nice & Paris",
          "Berlin & Munich",
          "Berlin & Frankfurt",
          "Hamburg & Munich",
          "Barcelona & Palma de Mallorca",
          "Madrid & Palma de Mallorca",
          "DÃ¼sseldorf & Munich",
          "Frankfurt & Hamburg"
         ],
         "y": [
          4716804,
          4657590,
          4249404,
          3878625,
          3869795,
          3603238,
          3545242,
          3375136,
          3128381,
          2742869
         ]
        }
       ],
       "layout": {
        "barmode": "group",
        "height": 600,
        "legend": {
         "title": {
          "text": "Year"
         }
        },
        "template": {
         "data": {
          "bar": [
           {
            "error_x": {
             "color": "#2a3f5f"
            },
            "error_y": {
             "color": "#2a3f5f"
            },
            "marker": {
             "line": {
              "color": "#E5ECF6",
              "width": 0.5
             },
             "pattern": {
              "fillmode": "overlay",
              "size": 10,
              "solidity": 0.2
             }
            },
            "type": "bar"
           }
          ],
          "barpolar": [
           {
            "marker": {
             "line": {
              "color": "#E5ECF6",
              "width": 0.5
             },
             "pattern": {
              "fillmode": "overlay",
              "size": 10,
              "solidity": 0.2
             }
            },
            "type": "barpolar"
           }
          ],
          "carpet": [
           {
            "aaxis": {
             "endlinecolor": "#2a3f5f",
             "gridcolor": "white",
             "linecolor": "white",
             "minorgridcolor": "white",
             "startlinecolor": "#2a3f5f"
            },
            "baxis": {
             "endlinecolor": "#2a3f5f",
             "gridcolor": "white",
             "linecolor": "white",
             "minorgridcolor": "white",
             "startlinecolor": "#2a3f5f"
            },
            "type": "carpet"
           }
          ],
          "choropleth": [
           {
            "colorbar": {
             "outlinewidth": 0,
             "ticks": ""
            },
            "type": "choropleth"
           }
          ],
          "contour": [
           {
            "colorbar": {
             "outlinewidth": 0,
             "ticks": ""
            },
            "colorscale": [
             [
              0,
              "#0d0887"
             ],
             [
              0.1111111111111111,
              "#46039f"
             ],
             [
              0.2222222222222222,
              "#7201a8"
             ],
             [
              0.3333333333333333,
              "#9c179e"
             ],
             [
              0.4444444444444444,
              "#bd3786"
             ],
             [
              0.5555555555555556,
              "#d8576b"
             ],
             [
              0.6666666666666666,
              "#ed7953"
             ],
             [
              0.7777777777777778,
              "#fb9f3a"
             ],
             [
              0.8888888888888888,
              "#fdca26"
             ],
             [
              1,
              "#f0f921"
             ]
            ],
            "type": "contour"
           }
          ],
          "contourcarpet": [
           {
            "colorbar": {
             "outlinewidth": 0,
             "ticks": ""
            },
            "type": "contourcarpet"
           }
          ],
          "heatmap": [
           {
            "colorbar": {
             "outlinewidth": 0,
             "ticks": ""
            },
            "colorscale": [
             [
              0,
              "#0d0887"
             ],
             [
              0.1111111111111111,
              "#46039f"
             ],
             [
              0.2222222222222222,
              "#7201a8"
             ],
             [
              0.3333333333333333,
              "#9c179e"
             ],
             [
              0.4444444444444444,
              "#bd3786"
             ],
             [
              0.5555555555555556,
              "#d8576b"
             ],
             [
              0.6666666666666666,
              "#ed7953"
             ],
             [
              0.7777777777777778,
              "#fb9f3a"
             ],
             [
              0.8888888888888888,
              "#fdca26"
             ],
             [
              1,
              "#f0f921"
             ]
            ],
            "type": "heatmap"
           }
          ],
          "heatmapgl": [
           {
            "colorbar": {
             "outlinewidth": 0,
             "ticks": ""
            },
            "colorscale": [
             [
              0,
              "#0d0887"
             ],
             [
              0.1111111111111111,
              "#46039f"
             ],
             [
              0.2222222222222222,
              "#7201a8"
             ],
             [
              0.3333333333333333,
              "#9c179e"
             ],
             [
              0.4444444444444444,
              "#bd3786"
             ],
             [
              0.5555555555555556,
              "#d8576b"
             ],
             [
              0.6666666666666666,
              "#ed7953"
             ],
             [
              0.7777777777777778,
              "#fb9f3a"
             ],
             [
              0.8888888888888888,
              "#fdca26"
             ],
             [
              1,
              "#f0f921"
             ]
            ],
            "type": "heatmapgl"
           }
          ],
          "histogram": [
           {
            "marker": {
             "pattern": {
              "fillmode": "overlay",
              "size": 10,
              "solidity": 0.2
             }
            },
            "type": "histogram"
           }
          ],
          "histogram2d": [
           {
            "colorbar": {
             "outlinewidth": 0,
             "ticks": ""
            },
            "colorscale": [
             [
              0,
              "#0d0887"
             ],
             [
              0.1111111111111111,
              "#46039f"
             ],
             [
              0.2222222222222222,
              "#7201a8"
             ],
             [
              0.3333333333333333,
              "#9c179e"
             ],
             [
              0.4444444444444444,
              "#bd3786"
             ],
             [
              0.5555555555555556,
              "#d8576b"
             ],
             [
              0.6666666666666666,
              "#ed7953"
             ],
             [
              0.7777777777777778,
              "#fb9f3a"
             ],
             [
              0.8888888888888888,
              "#fdca26"
             ],
             [
              1,
              "#f0f921"
             ]
            ],
            "type": "histogram2d"
           }
          ],
          "histogram2dcontour": [
           {
            "colorbar": {
             "outlinewidth": 0,
             "ticks": ""
            },
            "colorscale": [
             [
              0,
              "#0d0887"
             ],
             [
              0.1111111111111111,
              "#46039f"
             ],
             [
              0.2222222222222222,
              "#7201a8"
             ],
             [
              0.3333333333333333,
              "#9c179e"
             ],
             [
              0.4444444444444444,
              "#bd3786"
             ],
             [
              0.5555555555555556,
              "#d8576b"
             ],
             [
              0.6666666666666666,
              "#ed7953"
             ],
             [
              0.7777777777777778,
              "#fb9f3a"
             ],
             [
              0.8888888888888888,
              "#fdca26"
             ],
             [
              1,
              "#f0f921"
             ]
            ],
            "type": "histogram2dcontour"
           }
          ],
          "mesh3d": [
           {
            "colorbar": {
             "outlinewidth": 0,
             "ticks": ""
            },
            "type": "mesh3d"
           }
          ],
          "parcoords": [
           {
            "line": {
             "colorbar": {
              "outlinewidth": 0,
              "ticks": ""
             }
            },
            "type": "parcoords"
           }
          ],
          "pie": [
           {
            "automargin": true,
            "type": "pie"
           }
          ],
          "scatter": [
           {
            "fillpattern": {
             "fillmode": "overlay",
             "size": 10,
             "solidity": 0.2
            },
            "type": "scatter"
           }
          ],
          "scatter3d": [
           {
            "line": {
             "colorbar": {
              "outlinewidth": 0,
              "ticks": ""
             }
            },
            "marker": {
             "colorbar": {
              "outlinewidth": 0,
              "ticks": ""
             }
            },
            "type": "scatter3d"
           }
          ],
          "scattercarpet": [
           {
            "marker": {
             "colorbar": {
              "outlinewidth": 0,
              "ticks": ""
             }
            },
            "type": "scattercarpet"
           }
          ],
          "scattergeo": [
           {
            "marker": {
             "colorbar": {
              "outlinewidth": 0,
              "ticks": ""
             }
            },
            "type": "scattergeo"
           }
          ],
          "scattergl": [
           {
            "marker": {
             "colorbar": {
              "outlinewidth": 0,
              "ticks": ""
             }
            },
            "type": "scattergl"
           }
          ],
          "scattermapbox": [
           {
            "marker": {
             "colorbar": {
              "outlinewidth": 0,
              "ticks": ""
             }
            },
            "type": "scattermapbox"
           }
          ],
          "scatterpolar": [
           {
            "marker": {
             "colorbar": {
              "outlinewidth": 0,
              "ticks": ""
             }
            },
            "type": "scatterpolar"
           }
          ],
          "scatterpolargl": [
           {
            "marker": {
             "colorbar": {
              "outlinewidth": 0,
              "ticks": ""
             }
            },
            "type": "scatterpolargl"
           }
          ],
          "scatterternary": [
           {
            "marker": {
             "colorbar": {
              "outlinewidth": 0,
              "ticks": ""
             }
            },
            "type": "scatterternary"
           }
          ],
          "surface": [
           {
            "colorbar": {
             "outlinewidth": 0,
             "ticks": ""
            },
            "colorscale": [
             [
              0,
              "#0d0887"
             ],
             [
              0.1111111111111111,
              "#46039f"
             ],
             [
              0.2222222222222222,
              "#7201a8"
             ],
             [
              0.3333333333333333,
              "#9c179e"
             ],
             [
              0.4444444444444444,
              "#bd3786"
             ],
             [
              0.5555555555555556,
              "#d8576b"
             ],
             [
              0.6666666666666666,
              "#ed7953"
             ],
             [
              0.7777777777777778,
              "#fb9f3a"
             ],
             [
              0.8888888888888888,
              "#fdca26"
             ],
             [
              1,
              "#f0f921"
             ]
            ],
            "type": "surface"
           }
          ],
          "table": [
           {
            "cells": {
             "fill": {
              "color": "#EBF0F8"
             },
             "line": {
              "color": "white"
             }
            },
            "header": {
             "fill": {
              "color": "#C8D4E3"
             },
             "line": {
              "color": "white"
             }
            },
            "type": "table"
           }
          ]
         },
         "layout": {
          "annotationdefaults": {
           "arrowcolor": "#2a3f5f",
           "arrowhead": 0,
           "arrowwidth": 1
          },
          "autotypenumbers": "strict",
          "coloraxis": {
           "colorbar": {
            "outlinewidth": 0,
            "ticks": ""
           }
          },
          "colorscale": {
           "diverging": [
            [
             0,
             "#8e0152"
            ],
            [
             0.1,
             "#c51b7d"
            ],
            [
             0.2,
             "#de77ae"
            ],
            [
             0.3,
             "#f1b6da"
            ],
            [
             0.4,
             "#fde0ef"
            ],
            [
             0.5,
             "#f7f7f7"
            ],
            [
             0.6,
             "#e6f5d0"
            ],
            [
             0.7,
             "#b8e186"
            ],
            [
             0.8,
             "#7fbc41"
            ],
            [
             0.9,
             "#4d9221"
            ],
            [
             1,
             "#276419"
            ]
           ],
           "sequential": [
            [
             0,
             "#0d0887"
            ],
            [
             0.1111111111111111,
             "#46039f"
            ],
            [
             0.2222222222222222,
             "#7201a8"
            ],
            [
             0.3333333333333333,
             "#9c179e"
            ],
            [
             0.4444444444444444,
             "#bd3786"
            ],
            [
             0.5555555555555556,
             "#d8576b"
            ],
            [
             0.6666666666666666,
             "#ed7953"
            ],
            [
             0.7777777777777778,
             "#fb9f3a"
            ],
            [
             0.8888888888888888,
             "#fdca26"
            ],
            [
             1,
             "#f0f921"
            ]
           ],
           "sequentialminus": [
            [
             0,
             "#0d0887"
            ],
            [
             0.1111111111111111,
             "#46039f"
            ],
            [
             0.2222222222222222,
             "#7201a8"
            ],
            [
             0.3333333333333333,
             "#9c179e"
            ],
            [
             0.4444444444444444,
             "#bd3786"
            ],
            [
             0.5555555555555556,
             "#d8576b"
            ],
            [
             0.6666666666666666,
             "#ed7953"
            ],
            [
             0.7777777777777778,
             "#fb9f3a"
            ],
            [
             0.8888888888888888,
             "#fdca26"
            ],
            [
             1,
             "#f0f921"
            ]
           ]
          },
          "colorway": [
           "#636efa",
           "#EF553B",
           "#00cc96",
           "#ab63fa",
           "#FFA15A",
           "#19d3f3",
           "#FF6692",
           "#B6E880",
           "#FF97FF",
           "#FECB52"
          ],
          "font": {
           "color": "#2a3f5f"
          },
          "geo": {
           "bgcolor": "white",
           "lakecolor": "white",
           "landcolor": "#E5ECF6",
           "showlakes": true,
           "showland": true,
           "subunitcolor": "white"
          },
          "hoverlabel": {
           "align": "left"
          },
          "hovermode": "closest",
          "mapbox": {
           "style": "light"
          },
          "paper_bgcolor": "white",
          "plot_bgcolor": "#E5ECF6",
          "polar": {
           "angularaxis": {
            "gridcolor": "white",
            "linecolor": "white",
            "ticks": ""
           },
           "bgcolor": "#E5ECF6",
           "radialaxis": {
            "gridcolor": "white",
            "linecolor": "white",
            "ticks": ""
           }
          },
          "scene": {
           "xaxis": {
            "backgroundcolor": "#E5ECF6",
            "gridcolor": "white",
            "gridwidth": 2,
            "linecolor": "white",
            "showbackground": true,
            "ticks": "",
            "zerolinecolor": "white"
           },
           "yaxis": {
            "backgroundcolor": "#E5ECF6",
            "gridcolor": "white",
            "gridwidth": 2,
            "linecolor": "white",
            "showbackground": true,
            "ticks": "",
            "zerolinecolor": "white"
           },
           "zaxis": {
            "backgroundcolor": "#E5ECF6",
            "gridcolor": "white",
            "gridwidth": 2,
            "linecolor": "white",
            "showbackground": true,
            "ticks": "",
            "zerolinecolor": "white"
           }
          },
          "shapedefaults": {
           "line": {
            "color": "#2a3f5f"
           }
          },
          "ternary": {
           "aaxis": {
            "gridcolor": "white",
            "linecolor": "white",
            "ticks": ""
           },
           "baxis": {
            "gridcolor": "white",
            "linecolor": "white",
            "ticks": ""
           },
           "bgcolor": "#E5ECF6",
           "caxis": {
            "gridcolor": "white",
            "linecolor": "white",
            "ticks": ""
           }
          },
          "title": {
           "x": 0.05
          },
          "xaxis": {
           "automargin": true,
           "gridcolor": "white",
           "linecolor": "white",
           "ticks": "",
           "title": {
            "standoff": 15
           },
           "zerolinecolor": "white",
           "zerolinewidth": 2
          },
          "yaxis": {
           "automargin": true,
           "gridcolor": "white",
           "linecolor": "white",
           "ticks": "",
           "title": {
            "standoff": 15
           },
           "zerolinecolor": "white",
           "zerolinewidth": 2
          }
         }
        },
        "title": {
         "text": "Passenger Numbers by City Pair and Year"
        },
        "width": 900,
        "xaxis": {
         "categoryorder": "total descending",
         "title": {
          "text": "City Pairs"
         }
        },
        "yaxis": {
         "title": {
          "text": "Total Passengers"
         }
        }
       }
      }
     },
     "metadata": {},
     "output_type": "display_data"
    }
   ],
   "source": [
    "top_10_tables[\"2016\"].loc[:, \"Year\"] = \"2016\"\n",
    "top_10_tables[\"2017\"].loc[:, \"Year\"] = \"2017\"\n",
    "top_10_tables[\"2018\"].loc[:, \"Year\"] = \"2018\"\n",
    "top_10_tables[\"2019\"].loc[:, \"Year\"] = \"2019\"\n",
    "\n",
    "# Concatenate the DataFrames\n",
    "df_combined = pd.concat([top_10_tables[\"2016\"], top_10_tables[\"2017\"], top_10_tables[\"2018\"], top_10_tables[\"2019\"]])\n",
    "\n",
    "# Step 2: Identify the top 10 city pairs based on total passengers across all years\n",
    "top_city_pairs = df_combined.groupby('City_Pair')['Total passengers'].sum().nlargest(10).index\n",
    "\n",
    "# Step 3: Filter the DataFrame to include only the top 10 city pairs\n",
    "df_filtered = df_combined[df_combined['City_Pair'].isin(top_city_pairs)]\n",
    "\n",
    "# Step 4: Initialize an empty figure\n",
    "fig = go.Figure()\n",
    "\n",
    "# Plot data for each year and each city pair\n",
    "years = ['2019', '2018', '2017', '2016']\n",
    "colors = ['#636EFA', '#EF553B', '#00CC96', '#AB63FA']  # Color palette for bars by year\n",
    "\n",
    "for year, color in zip(years, colors):\n",
    "    # Filter data for the specific year\n",
    "    df_year = df_filtered[df_filtered['Year'] == year]\n",
    "    \n",
    "    # Add bar trace for each year\n",
    "    fig.add_trace(go.Bar(\n",
    "        x=df_year['City_Pair'],\n",
    "        y=df_year['Total passengers'],\n",
    "        name=str(year),\n",
    "        marker_color=color\n",
    "    ))\n",
    "\n",
    "# Step 5: Update layout to make the chart more readable\n",
    "fig.update_layout(\n",
    "    barmode='group',\n",
    "    title=\"Passenger Numbers by City Pair and Year\",\n",
    "    xaxis_title=\"City Pairs\",\n",
    "    yaxis_title=\"Total Passengers\",\n",
    "    xaxis={'categoryorder': 'total descending'},\n",
    "    legend_title=\"Year\",\n",
    "    width=900,\n",
    "    height=600\n",
    "    \n",
    ")\n",
    "    \n",
    "# Show the figure\n",
    "fig.show()\n"
   ]
  },
  {
   "cell_type": "code",
   "execution_count": 6,
   "metadata": {},
   "outputs": [],
   "source": [
    "#Remove not-applicable city pairs\n",
    "remove = [\"Barcelona & Madrid\",            #Already has a HSR connection\n",
    "          \"Barcelona & Palma de Mallorca\", #Assumed not feasible to connect an island via HSR\n",
    "          \"Madrid & Palma de Mallorca\"     #Assumed not feasible to connect an island via HSR\n",
    "         ]\n",
    "\n",
    "# Filter rows based on the City_Pair column and drop them by index\n",
    "df_combined = df_combined[~df_combined[\"City_Pair\"].isin(remove)]"
   ]
  },
  {
   "cell_type": "code",
   "execution_count": 7,
   "metadata": {},
   "outputs": [
    {
     "data": {
      "application/vnd.plotly.v1+json": {
       "config": {
        "plotlyServerURL": "https://plot.ly"
       },
       "data": [
        {
         "marker": {
          "color": "#636EFA"
         },
         "name": "2019",
         "type": "bar",
         "x": [
          "Berlin & Frankfurt",
          "Paris & Toulouse",
          "Nice & Paris",
          "Berlin & Munich",
          "Hamburg & Munich",
          "DÃ¼sseldorf & Munich",
          "Frankfurt & Hamburg"
         ],
         "y": [
          4496494,
          4434528,
          4111741,
          3868042,
          3479956,
          2976389,
          2852058
         ]
        },
        {
         "marker": {
          "color": "#EF553B"
         },
         "name": "2018",
         "type": "bar",
         "x": [
          "Berlin & Frankfurt",
          "Paris & Toulouse",
          "Nice & Paris",
          "Berlin & Munich",
          "Hamburg & Munich",
          "Frankfurt & Hamburg",
          "DÃ¼sseldorf & Munich"
         ],
         "y": [
          4583867,
          4564556,
          4279947,
          3970355,
          3491075,
          2878508,
          2839081
         ]
        },
        {
         "marker": {
          "color": "#00CC96"
         },
         "name": "2017",
         "type": "bar",
         "x": [
          "Paris & Toulouse",
          "Nice & Paris",
          "Berlin & Munich",
          "Berlin & Frankfurt",
          "Hamburg & Munich",
          "DÃ¼sseldorf & Munich",
          "Frankfurt & Hamburg"
         ],
         "y": [
          4649919,
          4343784,
          3944576,
          3911786,
          3480168,
          3105935,
          2790292
         ]
        },
        {
         "marker": {
          "color": "#AB63FA"
         },
         "name": "2016",
         "type": "bar",
         "x": [
          "Paris & Toulouse",
          "Nice & Paris",
          "Berlin & Munich",
          "Berlin & Frankfurt",
          "Hamburg & Munich",
          "DÃ¼sseldorf & Munich",
          "Frankfurt & Hamburg"
         ],
         "y": [
          4716804,
          4249404,
          3878625,
          3869795,
          3603238,
          3128381,
          2742869
         ]
        }
       ],
       "layout": {
        "barmode": "group",
        "height": 600,
        "legend": {
         "title": {
          "text": "Year"
         }
        },
        "template": {
         "data": {
          "bar": [
           {
            "error_x": {
             "color": "#2a3f5f"
            },
            "error_y": {
             "color": "#2a3f5f"
            },
            "marker": {
             "line": {
              "color": "#E5ECF6",
              "width": 0.5
             },
             "pattern": {
              "fillmode": "overlay",
              "size": 10,
              "solidity": 0.2
             }
            },
            "type": "bar"
           }
          ],
          "barpolar": [
           {
            "marker": {
             "line": {
              "color": "#E5ECF6",
              "width": 0.5
             },
             "pattern": {
              "fillmode": "overlay",
              "size": 10,
              "solidity": 0.2
             }
            },
            "type": "barpolar"
           }
          ],
          "carpet": [
           {
            "aaxis": {
             "endlinecolor": "#2a3f5f",
             "gridcolor": "white",
             "linecolor": "white",
             "minorgridcolor": "white",
             "startlinecolor": "#2a3f5f"
            },
            "baxis": {
             "endlinecolor": "#2a3f5f",
             "gridcolor": "white",
             "linecolor": "white",
             "minorgridcolor": "white",
             "startlinecolor": "#2a3f5f"
            },
            "type": "carpet"
           }
          ],
          "choropleth": [
           {
            "colorbar": {
             "outlinewidth": 0,
             "ticks": ""
            },
            "type": "choropleth"
           }
          ],
          "contour": [
           {
            "colorbar": {
             "outlinewidth": 0,
             "ticks": ""
            },
            "colorscale": [
             [
              0,
              "#0d0887"
             ],
             [
              0.1111111111111111,
              "#46039f"
             ],
             [
              0.2222222222222222,
              "#7201a8"
             ],
             [
              0.3333333333333333,
              "#9c179e"
             ],
             [
              0.4444444444444444,
              "#bd3786"
             ],
             [
              0.5555555555555556,
              "#d8576b"
             ],
             [
              0.6666666666666666,
              "#ed7953"
             ],
             [
              0.7777777777777778,
              "#fb9f3a"
             ],
             [
              0.8888888888888888,
              "#fdca26"
             ],
             [
              1,
              "#f0f921"
             ]
            ],
            "type": "contour"
           }
          ],
          "contourcarpet": [
           {
            "colorbar": {
             "outlinewidth": 0,
             "ticks": ""
            },
            "type": "contourcarpet"
           }
          ],
          "heatmap": [
           {
            "colorbar": {
             "outlinewidth": 0,
             "ticks": ""
            },
            "colorscale": [
             [
              0,
              "#0d0887"
             ],
             [
              0.1111111111111111,
              "#46039f"
             ],
             [
              0.2222222222222222,
              "#7201a8"
             ],
             [
              0.3333333333333333,
              "#9c179e"
             ],
             [
              0.4444444444444444,
              "#bd3786"
             ],
             [
              0.5555555555555556,
              "#d8576b"
             ],
             [
              0.6666666666666666,
              "#ed7953"
             ],
             [
              0.7777777777777778,
              "#fb9f3a"
             ],
             [
              0.8888888888888888,
              "#fdca26"
             ],
             [
              1,
              "#f0f921"
             ]
            ],
            "type": "heatmap"
           }
          ],
          "heatmapgl": [
           {
            "colorbar": {
             "outlinewidth": 0,
             "ticks": ""
            },
            "colorscale": [
             [
              0,
              "#0d0887"
             ],
             [
              0.1111111111111111,
              "#46039f"
             ],
             [
              0.2222222222222222,
              "#7201a8"
             ],
             [
              0.3333333333333333,
              "#9c179e"
             ],
             [
              0.4444444444444444,
              "#bd3786"
             ],
             [
              0.5555555555555556,
              "#d8576b"
             ],
             [
              0.6666666666666666,
              "#ed7953"
             ],
             [
              0.7777777777777778,
              "#fb9f3a"
             ],
             [
              0.8888888888888888,
              "#fdca26"
             ],
             [
              1,
              "#f0f921"
             ]
            ],
            "type": "heatmapgl"
           }
          ],
          "histogram": [
           {
            "marker": {
             "pattern": {
              "fillmode": "overlay",
              "size": 10,
              "solidity": 0.2
             }
            },
            "type": "histogram"
           }
          ],
          "histogram2d": [
           {
            "colorbar": {
             "outlinewidth": 0,
             "ticks": ""
            },
            "colorscale": [
             [
              0,
              "#0d0887"
             ],
             [
              0.1111111111111111,
              "#46039f"
             ],
             [
              0.2222222222222222,
              "#7201a8"
             ],
             [
              0.3333333333333333,
              "#9c179e"
             ],
             [
              0.4444444444444444,
              "#bd3786"
             ],
             [
              0.5555555555555556,
              "#d8576b"
             ],
             [
              0.6666666666666666,
              "#ed7953"
             ],
             [
              0.7777777777777778,
              "#fb9f3a"
             ],
             [
              0.8888888888888888,
              "#fdca26"
             ],
             [
              1,
              "#f0f921"
             ]
            ],
            "type": "histogram2d"
           }
          ],
          "histogram2dcontour": [
           {
            "colorbar": {
             "outlinewidth": 0,
             "ticks": ""
            },
            "colorscale": [
             [
              0,
              "#0d0887"
             ],
             [
              0.1111111111111111,
              "#46039f"
             ],
             [
              0.2222222222222222,
              "#7201a8"
             ],
             [
              0.3333333333333333,
              "#9c179e"
             ],
             [
              0.4444444444444444,
              "#bd3786"
             ],
             [
              0.5555555555555556,
              "#d8576b"
             ],
             [
              0.6666666666666666,
              "#ed7953"
             ],
             [
              0.7777777777777778,
              "#fb9f3a"
             ],
             [
              0.8888888888888888,
              "#fdca26"
             ],
             [
              1,
              "#f0f921"
             ]
            ],
            "type": "histogram2dcontour"
           }
          ],
          "mesh3d": [
           {
            "colorbar": {
             "outlinewidth": 0,
             "ticks": ""
            },
            "type": "mesh3d"
           }
          ],
          "parcoords": [
           {
            "line": {
             "colorbar": {
              "outlinewidth": 0,
              "ticks": ""
             }
            },
            "type": "parcoords"
           }
          ],
          "pie": [
           {
            "automargin": true,
            "type": "pie"
           }
          ],
          "scatter": [
           {
            "fillpattern": {
             "fillmode": "overlay",
             "size": 10,
             "solidity": 0.2
            },
            "type": "scatter"
           }
          ],
          "scatter3d": [
           {
            "line": {
             "colorbar": {
              "outlinewidth": 0,
              "ticks": ""
             }
            },
            "marker": {
             "colorbar": {
              "outlinewidth": 0,
              "ticks": ""
             }
            },
            "type": "scatter3d"
           }
          ],
          "scattercarpet": [
           {
            "marker": {
             "colorbar": {
              "outlinewidth": 0,
              "ticks": ""
             }
            },
            "type": "scattercarpet"
           }
          ],
          "scattergeo": [
           {
            "marker": {
             "colorbar": {
              "outlinewidth": 0,
              "ticks": ""
             }
            },
            "type": "scattergeo"
           }
          ],
          "scattergl": [
           {
            "marker": {
             "colorbar": {
              "outlinewidth": 0,
              "ticks": ""
             }
            },
            "type": "scattergl"
           }
          ],
          "scattermapbox": [
           {
            "marker": {
             "colorbar": {
              "outlinewidth": 0,
              "ticks": ""
             }
            },
            "type": "scattermapbox"
           }
          ],
          "scatterpolar": [
           {
            "marker": {
             "colorbar": {
              "outlinewidth": 0,
              "ticks": ""
             }
            },
            "type": "scatterpolar"
           }
          ],
          "scatterpolargl": [
           {
            "marker": {
             "colorbar": {
              "outlinewidth": 0,
              "ticks": ""
             }
            },
            "type": "scatterpolargl"
           }
          ],
          "scatterternary": [
           {
            "marker": {
             "colorbar": {
              "outlinewidth": 0,
              "ticks": ""
             }
            },
            "type": "scatterternary"
           }
          ],
          "surface": [
           {
            "colorbar": {
             "outlinewidth": 0,
             "ticks": ""
            },
            "colorscale": [
             [
              0,
              "#0d0887"
             ],
             [
              0.1111111111111111,
              "#46039f"
             ],
             [
              0.2222222222222222,
              "#7201a8"
             ],
             [
              0.3333333333333333,
              "#9c179e"
             ],
             [
              0.4444444444444444,
              "#bd3786"
             ],
             [
              0.5555555555555556,
              "#d8576b"
             ],
             [
              0.6666666666666666,
              "#ed7953"
             ],
             [
              0.7777777777777778,
              "#fb9f3a"
             ],
             [
              0.8888888888888888,
              "#fdca26"
             ],
             [
              1,
              "#f0f921"
             ]
            ],
            "type": "surface"
           }
          ],
          "table": [
           {
            "cells": {
             "fill": {
              "color": "#EBF0F8"
             },
             "line": {
              "color": "white"
             }
            },
            "header": {
             "fill": {
              "color": "#C8D4E3"
             },
             "line": {
              "color": "white"
             }
            },
            "type": "table"
           }
          ]
         },
         "layout": {
          "annotationdefaults": {
           "arrowcolor": "#2a3f5f",
           "arrowhead": 0,
           "arrowwidth": 1
          },
          "autotypenumbers": "strict",
          "coloraxis": {
           "colorbar": {
            "outlinewidth": 0,
            "ticks": ""
           }
          },
          "colorscale": {
           "diverging": [
            [
             0,
             "#8e0152"
            ],
            [
             0.1,
             "#c51b7d"
            ],
            [
             0.2,
             "#de77ae"
            ],
            [
             0.3,
             "#f1b6da"
            ],
            [
             0.4,
             "#fde0ef"
            ],
            [
             0.5,
             "#f7f7f7"
            ],
            [
             0.6,
             "#e6f5d0"
            ],
            [
             0.7,
             "#b8e186"
            ],
            [
             0.8,
             "#7fbc41"
            ],
            [
             0.9,
             "#4d9221"
            ],
            [
             1,
             "#276419"
            ]
           ],
           "sequential": [
            [
             0,
             "#0d0887"
            ],
            [
             0.1111111111111111,
             "#46039f"
            ],
            [
             0.2222222222222222,
             "#7201a8"
            ],
            [
             0.3333333333333333,
             "#9c179e"
            ],
            [
             0.4444444444444444,
             "#bd3786"
            ],
            [
             0.5555555555555556,
             "#d8576b"
            ],
            [
             0.6666666666666666,
             "#ed7953"
            ],
            [
             0.7777777777777778,
             "#fb9f3a"
            ],
            [
             0.8888888888888888,
             "#fdca26"
            ],
            [
             1,
             "#f0f921"
            ]
           ],
           "sequentialminus": [
            [
             0,
             "#0d0887"
            ],
            [
             0.1111111111111111,
             "#46039f"
            ],
            [
             0.2222222222222222,
             "#7201a8"
            ],
            [
             0.3333333333333333,
             "#9c179e"
            ],
            [
             0.4444444444444444,
             "#bd3786"
            ],
            [
             0.5555555555555556,
             "#d8576b"
            ],
            [
             0.6666666666666666,
             "#ed7953"
            ],
            [
             0.7777777777777778,
             "#fb9f3a"
            ],
            [
             0.8888888888888888,
             "#fdca26"
            ],
            [
             1,
             "#f0f921"
            ]
           ]
          },
          "colorway": [
           "#636efa",
           "#EF553B",
           "#00cc96",
           "#ab63fa",
           "#FFA15A",
           "#19d3f3",
           "#FF6692",
           "#B6E880",
           "#FF97FF",
           "#FECB52"
          ],
          "font": {
           "color": "#2a3f5f"
          },
          "geo": {
           "bgcolor": "white",
           "lakecolor": "white",
           "landcolor": "#E5ECF6",
           "showlakes": true,
           "showland": true,
           "subunitcolor": "white"
          },
          "hoverlabel": {
           "align": "left"
          },
          "hovermode": "closest",
          "mapbox": {
           "style": "light"
          },
          "paper_bgcolor": "white",
          "plot_bgcolor": "#E5ECF6",
          "polar": {
           "angularaxis": {
            "gridcolor": "white",
            "linecolor": "white",
            "ticks": ""
           },
           "bgcolor": "#E5ECF6",
           "radialaxis": {
            "gridcolor": "white",
            "linecolor": "white",
            "ticks": ""
           }
          },
          "scene": {
           "xaxis": {
            "backgroundcolor": "#E5ECF6",
            "gridcolor": "white",
            "gridwidth": 2,
            "linecolor": "white",
            "showbackground": true,
            "ticks": "",
            "zerolinecolor": "white"
           },
           "yaxis": {
            "backgroundcolor": "#E5ECF6",
            "gridcolor": "white",
            "gridwidth": 2,
            "linecolor": "white",
            "showbackground": true,
            "ticks": "",
            "zerolinecolor": "white"
           },
           "zaxis": {
            "backgroundcolor": "#E5ECF6",
            "gridcolor": "white",
            "gridwidth": 2,
            "linecolor": "white",
            "showbackground": true,
            "ticks": "",
            "zerolinecolor": "white"
           }
          },
          "shapedefaults": {
           "line": {
            "color": "#2a3f5f"
           }
          },
          "ternary": {
           "aaxis": {
            "gridcolor": "white",
            "linecolor": "white",
            "ticks": ""
           },
           "baxis": {
            "gridcolor": "white",
            "linecolor": "white",
            "ticks": ""
           },
           "bgcolor": "#E5ECF6",
           "caxis": {
            "gridcolor": "white",
            "linecolor": "white",
            "ticks": ""
           }
          },
          "title": {
           "x": 0.05
          },
          "xaxis": {
           "automargin": true,
           "gridcolor": "white",
           "linecolor": "white",
           "ticks": "",
           "title": {
            "standoff": 15
           },
           "zerolinecolor": "white",
           "zerolinewidth": 2
          },
          "yaxis": {
           "automargin": true,
           "gridcolor": "white",
           "linecolor": "white",
           "ticks": "",
           "title": {
            "standoff": 15
           },
           "zerolinecolor": "white",
           "zerolinewidth": 2
          }
         }
        },
        "title": {
         "text": "Passenger Numbers by City Pair and Year"
        },
        "width": 900,
        "xaxis": {
         "categoryorder": "total descending",
         "title": {
          "text": "City Pairs"
         }
        },
        "yaxis": {
         "title": {
          "text": "Total Passengers"
         }
        }
       }
      }
     },
     "metadata": {},
     "output_type": "display_data"
    }
   ],
   "source": [
    "# Identify the top 10 city pairs based on total passengers across all years\n",
    "top_city_pairs = df_combined.groupby('City_Pair')['Total passengers'].sum().nlargest(10).index\n",
    "\n",
    "# Filter the DataFrame to include only the top 10 city pairs\n",
    "df_filtered = df_combined[df_combined['City_Pair'].isin(top_city_pairs)]\n",
    "\n",
    "# Initialize an empty figure\n",
    "fig = go.Figure()\n",
    "\n",
    "# Plot data for each year and each city pair\n",
    "years = ['2019', '2018', '2017', '2016']\n",
    "colors = ['#636EFA', '#EF553B', '#00CC96', '#AB63FA']  # Color palette for bars by year\n",
    "\n",
    "for year, color in zip(years, colors):\n",
    "    # Filter data for the specific year\n",
    "    df_year = df_filtered[df_filtered['Year'] == year]\n",
    "    \n",
    "    # Add bar trace for each year\n",
    "    fig.add_trace(go.Bar(\n",
    "        x=df_year['City_Pair'],\n",
    "        y=df_year['Total passengers'],\n",
    "        name=str(year),\n",
    "        marker_color=color\n",
    "    ))\n",
    "\n",
    "# Update layout to make the chart more readable\n",
    "fig.update_layout(\n",
    "    barmode='group',\n",
    "    title=\"Passenger Numbers by City Pair and Year\",\n",
    "    xaxis_title=\"City Pairs\",\n",
    "    yaxis_title=\"Total Passengers\",\n",
    "    xaxis={'categoryorder': 'total descending'},\n",
    "    legend_title=\"Year\",\n",
    "    width=900,\n",
    "    height=600\n",
    "    \n",
    ")\n",
    "    \n",
    "# Show the figure\n",
    "fig.show()"
   ]
  }
 ],
 "metadata": {
  "kernelspec": {
   "display_name": "TIL6022",
   "language": "python",
   "name": "python3"
  },
  "language_info": {
   "codemirror_mode": {
    "name": "ipython",
    "version": 3
   },
   "file_extension": ".py",
   "mimetype": "text/x-python",
   "name": "python",
   "nbconvert_exporter": "python",
   "pygments_lexer": "ipython3",
   "version": "3.12.5"
  }
 },
 "nbformat": 4,
 "nbformat_minor": 2
}
