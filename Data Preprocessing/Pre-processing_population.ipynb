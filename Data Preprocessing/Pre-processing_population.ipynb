{
 "cells": [
  {
   "cell_type": "code",
   "execution_count": 1,
   "metadata": {},
   "outputs": [],
   "source": [
    "import pandas as pd"
   ]
  },
  {
   "cell_type": "code",
   "execution_count": 2,
   "metadata": {},
   "outputs": [
    {
     "data": {
      "text/html": [
       "<div>\n",
       "<style scoped>\n",
       "    .dataframe tbody tr th:only-of-type {\n",
       "        vertical-align: middle;\n",
       "    }\n",
       "\n",
       "    .dataframe tbody tr th {\n",
       "        vertical-align: top;\n",
       "    }\n",
       "\n",
       "    .dataframe thead th {\n",
       "        text-align: right;\n",
       "    }\n",
       "</style>\n",
       "<table border=\"1\" class=\"dataframe\">\n",
       "  <thead>\n",
       "    <tr style=\"text-align: right;\">\n",
       "      <th></th>\n",
       "      <th>NUTS Code</th>\n",
       "      <th>NUTS Desc</th>\n",
       "      <th>1990</th>\n",
       "      <th>1991</th>\n",
       "      <th>1992</th>\n",
       "      <th>1993</th>\n",
       "      <th>1994</th>\n",
       "      <th>1995</th>\n",
       "      <th>1996</th>\n",
       "      <th>1997</th>\n",
       "      <th>...</th>\n",
       "      <th>2014</th>\n",
       "      <th>2015</th>\n",
       "      <th>2016</th>\n",
       "      <th>2017</th>\n",
       "      <th>2018</th>\n",
       "      <th>2019</th>\n",
       "      <th>2020</th>\n",
       "      <th>2021</th>\n",
       "      <th>2022</th>\n",
       "      <th>2023</th>\n",
       "    </tr>\n",
       "  </thead>\n",
       "  <tbody>\n",
       "    <tr>\n",
       "      <th>0</th>\n",
       "      <td>EU27_2020</td>\n",
       "      <td>European Union - 27 countries (from 2020)</td>\n",
       "      <td>418030739</td>\n",
       "      <td>419504036</td>\n",
       "      <td>420413536</td>\n",
       "      <td>421912578</td>\n",
       "      <td>423104986</td>\n",
       "      <td>423960534</td>\n",
       "      <td>424641798</td>\n",
       "      <td>425273491</td>\n",
       "      <td>...</td>\n",
       "      <td>442883888</td>\n",
       "      <td>443666812</td>\n",
       "      <td>444802830</td>\n",
       "      <td>445534430</td>\n",
       "      <td>446208557</td>\n",
       "      <td>446446444</td>\n",
       "      <td>447319916</td>\n",
       "      <td>447073916</td>\n",
       "      <td>446735291</td>\n",
       "      <td>448753823</td>\n",
       "    </tr>\n",
       "    <tr>\n",
       "      <th>1</th>\n",
       "      <td>EU28</td>\n",
       "      <td>European Union - 28 countries (2013-2020)</td>\n",
       "      <td>475187711</td>\n",
       "      <td>476842235</td>\n",
       "      <td>477925130</td>\n",
       "      <td>479561788</td>\n",
       "      <td>480893003</td>\n",
       "      <td>481904006</td>\n",
       "      <td>482736385</td>\n",
       "      <td>483512803</td>\n",
       "      <td>...</td>\n",
       "      <td>507235091</td>\n",
       "      <td>508520205</td>\n",
       "      <td>510181874</td>\n",
       "      <td>511378572</td>\n",
       "      <td>512372000</td>\n",
       "      <td>513093556</td>\n",
       "      <td>:</td>\n",
       "      <td>:</td>\n",
       "      <td>:</td>\n",
       "      <td>:</td>\n",
       "    </tr>\n",
       "    <tr>\n",
       "      <th>2</th>\n",
       "      <td>EU27_2007</td>\n",
       "      <td>European Union - 27 countries (2007-2013)</td>\n",
       "      <td>470415155</td>\n",
       "      <td>472060056</td>\n",
       "      <td>473329265</td>\n",
       "      <td>475006017</td>\n",
       "      <td>476247848</td>\n",
       "      <td>477245113</td>\n",
       "      <td>478155218</td>\n",
       "      <td>478979775</td>\n",
       "      <td>...</td>\n",
       "      <td>502988282</td>\n",
       "      <td>504294889</td>\n",
       "      <td>505991205</td>\n",
       "      <td>507224359</td>\n",
       "      <td>508266507</td>\n",
       "      <td>509017310</td>\n",
       "      <td>:</td>\n",
       "      <td>:</td>\n",
       "      <td>:</td>\n",
       "      <td>:</td>\n",
       "    </tr>\n",
       "    <tr>\n",
       "      <th>3</th>\n",
       "      <td>BE</td>\n",
       "      <td>Belgium</td>\n",
       "      <td>9947782</td>\n",
       "      <td>9986975</td>\n",
       "      <td>10021997</td>\n",
       "      <td>10068319</td>\n",
       "      <td>10100631</td>\n",
       "      <td>10130574</td>\n",
       "      <td>10143047</td>\n",
       "      <td>10170226</td>\n",
       "      <td>...</td>\n",
       "      <td>11180840</td>\n",
       "      <td>11237274</td>\n",
       "      <td>11311117</td>\n",
       "      <td>11351727</td>\n",
       "      <td>11398589</td>\n",
       "      <td>11455519</td>\n",
       "      <td>11522440</td>\n",
       "      <td>11554767</td>\n",
       "      <td>11617623</td>\n",
       "      <td>11742796</td>\n",
       "    </tr>\n",
       "    <tr>\n",
       "      <th>4</th>\n",
       "      <td>BE1</td>\n",
       "      <td>Région de Bruxelles-Capitale/Brussels Hoofdste...</td>\n",
       "      <td>:</td>\n",
       "      <td>:</td>\n",
       "      <td>:</td>\n",
       "      <td>:</td>\n",
       "      <td>:</td>\n",
       "      <td>:</td>\n",
       "      <td>:</td>\n",
       "      <td>:</td>\n",
       "      <td>...</td>\n",
       "      <td>1172751</td>\n",
       "      <td>1184101</td>\n",
       "      <td>1201285</td>\n",
       "      <td>1199095</td>\n",
       "      <td>1205492</td>\n",
       "      <td>1215289</td>\n",
       "      <td>1223364</td>\n",
       "      <td>1226329</td>\n",
       "      <td>1228655</td>\n",
       "      <td>1253178</td>\n",
       "    </tr>\n",
       "    <tr>\n",
       "      <th>...</th>\n",
       "      <td>...</td>\n",
       "      <td>...</td>\n",
       "      <td>...</td>\n",
       "      <td>...</td>\n",
       "      <td>...</td>\n",
       "      <td>...</td>\n",
       "      <td>...</td>\n",
       "      <td>...</td>\n",
       "      <td>...</td>\n",
       "      <td>...</td>\n",
       "      <td>...</td>\n",
       "      <td>...</td>\n",
       "      <td>...</td>\n",
       "      <td>...</td>\n",
       "      <td>...</td>\n",
       "      <td>...</td>\n",
       "      <td>...</td>\n",
       "      <td>...</td>\n",
       "      <td>...</td>\n",
       "      <td>...</td>\n",
       "      <td>...</td>\n",
       "    </tr>\n",
       "    <tr>\n",
       "      <th>2077</th>\n",
       "      <td>TRC3</td>\n",
       "      <td>Mardin, Batman, Şırnak, Siirt</td>\n",
       "      <td>:</td>\n",
       "      <td>:</td>\n",
       "      <td>:</td>\n",
       "      <td>:</td>\n",
       "      <td>:</td>\n",
       "      <td>:</td>\n",
       "      <td>:</td>\n",
       "      <td>:</td>\n",
       "      <td>...</td>\n",
       "      <td>2116727</td>\n",
       "      <td>2153921</td>\n",
       "      <td>2173759</td>\n",
       "      <td>2179588</td>\n",
       "      <td>2222601</td>\n",
       "      <td>2284158</td>\n",
       "      <td>2307332</td>\n",
       "      <td>2343826</td>\n",
       "      <td>2367645</td>\n",
       "      <td>2393781</td>\n",
       "    </tr>\n",
       "    <tr>\n",
       "      <th>2078</th>\n",
       "      <td>TRC31</td>\n",
       "      <td>Mardin</td>\n",
       "      <td>:</td>\n",
       "      <td>:</td>\n",
       "      <td>:</td>\n",
       "      <td>:</td>\n",
       "      <td>:</td>\n",
       "      <td>:</td>\n",
       "      <td>:</td>\n",
       "      <td>:</td>\n",
       "      <td>...</td>\n",
       "      <td>779738</td>\n",
       "      <td>788996</td>\n",
       "      <td>796591</td>\n",
       "      <td>796237</td>\n",
       "      <td>809719</td>\n",
       "      <td>829195</td>\n",
       "      <td>838778</td>\n",
       "      <td>854716</td>\n",
       "      <td>862757</td>\n",
       "      <td>870374</td>\n",
       "    </tr>\n",
       "    <tr>\n",
       "      <th>2079</th>\n",
       "      <td>TRC32</td>\n",
       "      <td>Batman</td>\n",
       "      <td>:</td>\n",
       "      <td>:</td>\n",
       "      <td>:</td>\n",
       "      <td>:</td>\n",
       "      <td>:</td>\n",
       "      <td>:</td>\n",
       "      <td>:</td>\n",
       "      <td>:</td>\n",
       "      <td>...</td>\n",
       "      <td>547581</td>\n",
       "      <td>557593</td>\n",
       "      <td>566633</td>\n",
       "      <td>576899</td>\n",
       "      <td>585252</td>\n",
       "      <td>599103</td>\n",
       "      <td>608659</td>\n",
       "      <td>620278</td>\n",
       "      <td>626319</td>\n",
       "      <td>634491</td>\n",
       "    </tr>\n",
       "    <tr>\n",
       "      <th>2080</th>\n",
       "      <td>TRC33</td>\n",
       "      <td>Şırnak</td>\n",
       "      <td>:</td>\n",
       "      <td>:</td>\n",
       "      <td>:</td>\n",
       "      <td>:</td>\n",
       "      <td>:</td>\n",
       "      <td>:</td>\n",
       "      <td>:</td>\n",
       "      <td>:</td>\n",
       "      <td>...</td>\n",
       "      <td>475255</td>\n",
       "      <td>488966</td>\n",
       "      <td>490184</td>\n",
       "      <td>483788</td>\n",
       "      <td>503236</td>\n",
       "      <td>524190</td>\n",
       "      <td>529615</td>\n",
       "      <td>537762</td>\n",
       "      <td>546589</td>\n",
       "      <td>557605</td>\n",
       "    </tr>\n",
       "    <tr>\n",
       "      <th>2081</th>\n",
       "      <td>TRC34</td>\n",
       "      <td>Siirt</td>\n",
       "      <td>:</td>\n",
       "      <td>:</td>\n",
       "      <td>:</td>\n",
       "      <td>:</td>\n",
       "      <td>:</td>\n",
       "      <td>:</td>\n",
       "      <td>:</td>\n",
       "      <td>:</td>\n",
       "      <td>...</td>\n",
       "      <td>314153</td>\n",
       "      <td>318366</td>\n",
       "      <td>320351</td>\n",
       "      <td>322664</td>\n",
       "      <td>324394</td>\n",
       "      <td>331670</td>\n",
       "      <td>330280</td>\n",
       "      <td>331070</td>\n",
       "      <td>331980</td>\n",
       "      <td>331311</td>\n",
       "    </tr>\n",
       "  </tbody>\n",
       "</table>\n",
       "<p>2082 rows × 36 columns</p>\n",
       "</div>"
      ],
      "text/plain": [
       "      NUTS Code                                          NUTS Desc       1990  \\\n",
       "0     EU27_2020          European Union - 27 countries (from 2020)  418030739   \n",
       "1          EU28          European Union - 28 countries (2013-2020)  475187711   \n",
       "2     EU27_2007          European Union - 27 countries (2007-2013)  470415155   \n",
       "3            BE                                            Belgium    9947782   \n",
       "4           BE1  Région de Bruxelles-Capitale/Brussels Hoofdste...          :   \n",
       "...         ...                                                ...        ...   \n",
       "2077       TRC3                      Mardin, Batman, Şırnak, Siirt          :   \n",
       "2078      TRC31                                             Mardin          :   \n",
       "2079      TRC32                                             Batman          :   \n",
       "2080      TRC33                                             Şırnak          :   \n",
       "2081      TRC34                                              Siirt          :   \n",
       "\n",
       "           1991       1992       1993       1994       1995       1996  \\\n",
       "0     419504036  420413536  421912578  423104986  423960534  424641798   \n",
       "1     476842235  477925130  479561788  480893003  481904006  482736385   \n",
       "2     472060056  473329265  475006017  476247848  477245113  478155218   \n",
       "3       9986975   10021997   10068319   10100631   10130574   10143047   \n",
       "4             :          :          :          :          :          :   \n",
       "...         ...        ...        ...        ...        ...        ...   \n",
       "2077          :          :          :          :          :          :   \n",
       "2078          :          :          :          :          :          :   \n",
       "2079          :          :          :          :          :          :   \n",
       "2080          :          :          :          :          :          :   \n",
       "2081          :          :          :          :          :          :   \n",
       "\n",
       "           1997  ...       2014       2015       2016       2017       2018  \\\n",
       "0     425273491  ...  442883888  443666812  444802830  445534430  446208557   \n",
       "1     483512803  ...  507235091  508520205  510181874  511378572  512372000   \n",
       "2     478979775  ...  502988282  504294889  505991205  507224359  508266507   \n",
       "3      10170226  ...   11180840   11237274   11311117   11351727   11398589   \n",
       "4             :  ...    1172751    1184101    1201285    1199095    1205492   \n",
       "...         ...  ...        ...        ...        ...        ...        ...   \n",
       "2077          :  ...    2116727    2153921    2173759    2179588    2222601   \n",
       "2078          :  ...     779738     788996     796591     796237     809719   \n",
       "2079          :  ...     547581     557593     566633     576899     585252   \n",
       "2080          :  ...     475255     488966     490184     483788     503236   \n",
       "2081          :  ...     314153     318366     320351     322664     324394   \n",
       "\n",
       "           2019       2020       2021       2022       2023  \n",
       "0     446446444  447319916  447073916  446735291  448753823  \n",
       "1     513093556          :          :          :          :  \n",
       "2     509017310          :          :          :          :  \n",
       "3      11455519   11522440   11554767   11617623   11742796  \n",
       "4       1215289    1223364    1226329    1228655    1253178  \n",
       "...         ...        ...        ...        ...        ...  \n",
       "2077    2284158    2307332    2343826    2367645    2393781  \n",
       "2078     829195     838778     854716     862757     870374  \n",
       "2079     599103     608659     620278     626319     634491  \n",
       "2080     524190     529615     537762     546589     557605  \n",
       "2081     331670     330280     331070     331980     331311  \n",
       "\n",
       "[2082 rows x 36 columns]"
      ]
     },
     "execution_count": 2,
     "metadata": {},
     "output_type": "execute_result"
    }
   ],
   "source": [
    "# Read the population data file and skip empty rows\n",
    "pop_filename = '../Data/NUTS-3_Population.xlsx'\n",
    "no_data_rows = [0, 1, 2, 3, 4, 5, 6, 7, 8, 10, 2093, 2094, 2095,\n",
    "                 2096, 2097, 2098, 2099, 2100, 2101, 2102]\n",
    "pop = pd.read_excel(pop_filename, skiprows=no_data_rows)\n",
    "\n",
    "# Preprocess the population file\n",
    "# Skip unnamed columns with no population data\n",
    "named_columns = [col for col in pop.columns if not col.startswith('Unnamed')]\n",
    "pop = pd.read_excel(pop_filename, skiprows=no_data_rows, usecols=named_columns)\n",
    "pop.rename(columns={'TIME': 'NUTS Code', 'TIME.1': 'NUTS Desc'}, inplace=True)\n",
    "pop"
   ]
  },
  {
   "cell_type": "code",
   "execution_count": 3,
   "metadata": {},
   "outputs": [
    {
     "data": {
      "text/html": [
       "<div>\n",
       "<style scoped>\n",
       "    .dataframe tbody tr th:only-of-type {\n",
       "        vertical-align: middle;\n",
       "    }\n",
       "\n",
       "    .dataframe tbody tr th {\n",
       "        vertical-align: top;\n",
       "    }\n",
       "\n",
       "    .dataframe thead th {\n",
       "        text-align: right;\n",
       "    }\n",
       "</style>\n",
       "<table border=\"1\" class=\"dataframe\">\n",
       "  <thead>\n",
       "    <tr style=\"text-align: right;\">\n",
       "      <th></th>\n",
       "      <th>Airport Code</th>\n",
       "      <th>NUTS_3_code</th>\n",
       "      <th>City</th>\n",
       "      <th>Country</th>\n",
       "    </tr>\n",
       "  </thead>\n",
       "  <tbody>\n",
       "    <tr>\n",
       "      <th>0</th>\n",
       "      <td>EBAW</td>\n",
       "      <td>BE211</td>\n",
       "      <td>Antwerp</td>\n",
       "      <td>Belgium</td>\n",
       "    </tr>\n",
       "    <tr>\n",
       "      <th>1</th>\n",
       "      <td>EBBR</td>\n",
       "      <td>BE100</td>\n",
       "      <td>Brussels</td>\n",
       "      <td>Belgium</td>\n",
       "    </tr>\n",
       "    <tr>\n",
       "      <th>2</th>\n",
       "      <td>EBCI</td>\n",
       "      <td>BE322</td>\n",
       "      <td>Charleroi</td>\n",
       "      <td>Belgium</td>\n",
       "    </tr>\n",
       "    <tr>\n",
       "      <th>3</th>\n",
       "      <td>EBLG</td>\n",
       "      <td>BE332</td>\n",
       "      <td>Liege</td>\n",
       "      <td>Belgium</td>\n",
       "    </tr>\n",
       "    <tr>\n",
       "      <th>4</th>\n",
       "      <td>EBOS</td>\n",
       "      <td>BE255</td>\n",
       "      <td>Ostend</td>\n",
       "      <td>Belgium</td>\n",
       "    </tr>\n",
       "    <tr>\n",
       "      <th>...</th>\n",
       "      <td>...</td>\n",
       "      <td>...</td>\n",
       "      <td>...</td>\n",
       "      <td>...</td>\n",
       "    </tr>\n",
       "    <tr>\n",
       "      <th>99</th>\n",
       "      <td>LFRS</td>\n",
       "      <td>FRG01</td>\n",
       "      <td>Nantes</td>\n",
       "      <td>France</td>\n",
       "    </tr>\n",
       "    <tr>\n",
       "      <th>100</th>\n",
       "      <td>LFSB</td>\n",
       "      <td>FRF12</td>\n",
       "      <td>Basel/Mulhouse</td>\n",
       "      <td>France/Switzerland</td>\n",
       "    </tr>\n",
       "    <tr>\n",
       "      <th>101</th>\n",
       "      <td>LFST</td>\n",
       "      <td>FRF11</td>\n",
       "      <td>Strasbourg</td>\n",
       "      <td>France</td>\n",
       "    </tr>\n",
       "    <tr>\n",
       "      <th>102</th>\n",
       "      <td>LFTH</td>\n",
       "      <td>FRL05</td>\n",
       "      <td>Toulon</td>\n",
       "      <td>France</td>\n",
       "    </tr>\n",
       "    <tr>\n",
       "      <th>103</th>\n",
       "      <td>LFTW</td>\n",
       "      <td>FRJ12</td>\n",
       "      <td>Nimes</td>\n",
       "      <td>France</td>\n",
       "    </tr>\n",
       "  </tbody>\n",
       "</table>\n",
       "<p>104 rows × 4 columns</p>\n",
       "</div>"
      ],
      "text/plain": [
       "    Airport Code NUTS_3_code            City             Country\n",
       "0           EBAW       BE211         Antwerp             Belgium\n",
       "1           EBBR       BE100        Brussels             Belgium\n",
       "2           EBCI       BE322       Charleroi             Belgium\n",
       "3           EBLG       BE332           Liege             Belgium\n",
       "4           EBOS       BE255          Ostend             Belgium\n",
       "..           ...         ...             ...                 ...\n",
       "99          LFRS       FRG01          Nantes              France\n",
       "100         LFSB       FRF12  Basel/Mulhouse  France/Switzerland\n",
       "101         LFST       FRF11      Strasbourg              France\n",
       "102         LFTH       FRL05          Toulon              France\n",
       "103         LFTW       FRJ12           Nimes              France\n",
       "\n",
       "[104 rows x 4 columns]"
      ]
     },
     "execution_count": 3,
     "metadata": {},
     "output_type": "execute_result"
    }
   ],
   "source": [
    "# Load cities file\n",
    "c_filename = '../Data/AirportCodes_Cities_NUTS.xlsx'\n",
    "cities = pd.read_excel(c_filename)\n",
    "cities"
   ]
  },
  {
   "cell_type": "code",
   "execution_count": 4,
   "metadata": {},
   "outputs": [],
   "source": [
    "cities = cities.merge(pop, left_on='NUTS_3_code', right_on='NUTS Code', how='left')\n",
    "cities = cities.drop(columns=['NUTS Code', 'NUTS Desc'])\n",
    "\n",
    "output_filepath = '../Data/AirportCodes_Cities_NUTS_Population.xlsx'\n",
    "cities.to_excel(output_filepath)"
   ]
  },
  {
   "cell_type": "code",
   "execution_count": 5,
   "metadata": {},
   "outputs": [
    {
     "data": {
      "application/vnd.plotly.v1+json": {
       "config": {
        "plotlyServerURL": "https://plot.ly"
       },
       "data": [
        {
         "hovertemplate": "City=Madrid<br>Year=%{x}<br>Population=%{y}<extra></extra>",
         "legendgroup": "Madrid",
         "line": {
          "color": "#636efa",
          "dash": "solid"
         },
         "marker": {
          "symbol": "circle"
         },
         "mode": "lines",
         "name": "Madrid",
         "orientation": "v",
         "showlegend": true,
         "type": "scatter",
         "x": [
          "2016",
          "2017",
          "2018",
          "2019"
         ],
         "xaxis": "x",
         "y": [
          6411466,
          6459297,
          6529923,
          6618078
         ],
         "yaxis": "y"
        },
        {
         "hovertemplate": "City=Barcelona<br>Year=%{x}<br>Population=%{y}<extra></extra>",
         "legendgroup": "Barcelona",
         "line": {
          "color": "#EF553B",
          "dash": "solid"
         },
         "marker": {
          "symbol": "circle"
         },
         "mode": "lines",
         "name": "Barcelona",
         "orientation": "v",
         "showlegend": true,
         "type": "scatter",
         "x": [
          "2016",
          "2017",
          "2018",
          "2019"
         ],
         "xaxis": "x",
         "y": [
          5472926,
          5507412,
          5556273,
          5622704
         ],
         "yaxis": "y"
        },
        {
         "hovertemplate": "City=Berlin Brandenburg<br>Year=%{x}<br>Population=%{y}<extra></extra>",
         "legendgroup": "Berlin Brandenburg",
         "line": {
          "color": "#00cc96",
          "dash": "solid"
         },
         "marker": {
          "symbol": "circle"
         },
         "mode": "lines",
         "name": "Berlin Brandenburg",
         "orientation": "v",
         "showlegend": true,
         "type": "scatter",
         "x": [
          "2016",
          "2017",
          "2018",
          "2019"
         ],
         "xaxis": "x",
         "y": [
          3520031,
          3574830,
          3613495,
          3644826
         ],
         "yaxis": "y"
        },
        {
         "hovertemplate": "City=Berlin Tegel (closed)<br>Year=%{x}<br>Population=%{y}<extra></extra>",
         "legendgroup": "Berlin Tegel (closed)",
         "line": {
          "color": "#ab63fa",
          "dash": "solid"
         },
         "marker": {
          "symbol": "circle"
         },
         "mode": "lines",
         "name": "Berlin Tegel (closed)",
         "orientation": "v",
         "showlegend": true,
         "type": "scatter",
         "x": [
          "2016",
          "2017",
          "2018",
          "2019"
         ],
         "xaxis": "x",
         "y": [
          3520031,
          3574830,
          3613495,
          3644826
         ],
         "yaxis": "y"
        },
        {
         "hovertemplate": "City=Lille<br>Year=%{x}<br>Population=%{y}<extra></extra>",
         "legendgroup": "Lille",
         "line": {
          "color": "#FFA15A",
          "dash": "solid"
         },
         "marker": {
          "symbol": "circle"
         },
         "mode": "lines",
         "name": "Lille",
         "orientation": "v",
         "showlegend": true,
         "type": "scatter",
         "x": [
          "2016",
          "2017",
          "2018",
          "2019"
         ],
         "xaxis": "x",
         "y": [
          2603723,
          2604361,
          2606234,
          2608346
         ],
         "yaxis": "y"
        },
        {
         "hovertemplate": "City=Valencia<br>Year=%{x}<br>Population=%{y}<extra></extra>",
         "legendgroup": "Valencia",
         "line": {
          "color": "#19d3f3",
          "dash": "solid"
         },
         "marker": {
          "symbol": "circle"
         },
         "mode": "lines",
         "name": "Valencia",
         "orientation": "v",
         "showlegend": true,
         "type": "scatter",
         "x": [
          "2016",
          "2017",
          "2018",
          "2019"
         ],
         "xaxis": "x",
         "y": [
          2526469,
          2531673,
          2542923,
          2554332
         ],
         "yaxis": "y"
        },
        {
         "hovertemplate": "City=Marseille<br>Year=%{x}<br>Population=%{y}<extra></extra>",
         "legendgroup": "Marseille",
         "line": {
          "color": "#FF6692",
          "dash": "solid"
         },
         "marker": {
          "symbol": "circle"
         },
         "mode": "lines",
         "name": "Marseille",
         "orientation": "v",
         "showlegend": true,
         "type": "scatter",
         "x": [
          "2016",
          "2017",
          "2018",
          "2019"
         ],
         "xaxis": "x",
         "y": [
          2019717,
          2024162,
          2034357,
          2043110
         ],
         "yaxis": "y"
        },
        {
         "hovertemplate": "City=Seville<br>Year=%{x}<br>Population=%{y}<extra></extra>",
         "legendgroup": "Seville",
         "line": {
          "color": "#B6E880",
          "dash": "solid"
         },
         "marker": {
          "symbol": "circle"
         },
         "mode": "lines",
         "name": "Seville",
         "orientation": "v",
         "showlegend": true,
         "type": "scatter",
         "x": [
          "2016",
          "2017",
          "2018",
          "2019"
         ],
         "xaxis": "x",
         "y": [
          1935590,
          1936735,
          1938007,
          1941191
         ],
         "yaxis": "y"
        },
        {
         "hovertemplate": "City=Lyon<br>Year=%{x}<br>Population=%{y}<extra></extra>",
         "legendgroup": "Lyon",
         "line": {
          "color": "#FF97FF",
          "dash": "solid"
         },
         "marker": {
          "symbol": "circle"
         },
         "mode": "lines",
         "name": "Lyon",
         "orientation": "v",
         "showlegend": true,
         "type": "scatter",
         "x": [
          "2016",
          "2017",
          "2018",
          "2019"
         ],
         "xaxis": "x",
         "y": [
          1835903,
          1843319,
          1859524,
          1875747
         ],
         "yaxis": "y"
        },
        {
         "hovertemplate": "City=Alicante<br>Year=%{x}<br>Population=%{y}<extra></extra>",
         "legendgroup": "Alicante",
         "line": {
          "color": "#FECB52",
          "dash": "solid"
         },
         "marker": {
          "symbol": "circle"
         },
         "mode": "lines",
         "name": "Alicante",
         "orientation": "v",
         "showlegend": true,
         "type": "scatter",
         "x": [
          "2016",
          "2017",
          "2018",
          "2019"
         ],
         "xaxis": "x",
         "y": [
          1837873,
          1836715,
          1839319,
          1855384
         ],
         "yaxis": "y"
        }
       ],
       "layout": {
        "legend": {
         "title": {
          "text": "City"
         },
         "tracegroupgap": 0
        },
        "template": {
         "data": {
          "bar": [
           {
            "error_x": {
             "color": "#2a3f5f"
            },
            "error_y": {
             "color": "#2a3f5f"
            },
            "marker": {
             "line": {
              "color": "#E5ECF6",
              "width": 0.5
             },
             "pattern": {
              "fillmode": "overlay",
              "size": 10,
              "solidity": 0.2
             }
            },
            "type": "bar"
           }
          ],
          "barpolar": [
           {
            "marker": {
             "line": {
              "color": "#E5ECF6",
              "width": 0.5
             },
             "pattern": {
              "fillmode": "overlay",
              "size": 10,
              "solidity": 0.2
             }
            },
            "type": "barpolar"
           }
          ],
          "carpet": [
           {
            "aaxis": {
             "endlinecolor": "#2a3f5f",
             "gridcolor": "white",
             "linecolor": "white",
             "minorgridcolor": "white",
             "startlinecolor": "#2a3f5f"
            },
            "baxis": {
             "endlinecolor": "#2a3f5f",
             "gridcolor": "white",
             "linecolor": "white",
             "minorgridcolor": "white",
             "startlinecolor": "#2a3f5f"
            },
            "type": "carpet"
           }
          ],
          "choropleth": [
           {
            "colorbar": {
             "outlinewidth": 0,
             "ticks": ""
            },
            "type": "choropleth"
           }
          ],
          "contour": [
           {
            "colorbar": {
             "outlinewidth": 0,
             "ticks": ""
            },
            "colorscale": [
             [
              0,
              "#0d0887"
             ],
             [
              0.1111111111111111,
              "#46039f"
             ],
             [
              0.2222222222222222,
              "#7201a8"
             ],
             [
              0.3333333333333333,
              "#9c179e"
             ],
             [
              0.4444444444444444,
              "#bd3786"
             ],
             [
              0.5555555555555556,
              "#d8576b"
             ],
             [
              0.6666666666666666,
              "#ed7953"
             ],
             [
              0.7777777777777778,
              "#fb9f3a"
             ],
             [
              0.8888888888888888,
              "#fdca26"
             ],
             [
              1,
              "#f0f921"
             ]
            ],
            "type": "contour"
           }
          ],
          "contourcarpet": [
           {
            "colorbar": {
             "outlinewidth": 0,
             "ticks": ""
            },
            "type": "contourcarpet"
           }
          ],
          "heatmap": [
           {
            "colorbar": {
             "outlinewidth": 0,
             "ticks": ""
            },
            "colorscale": [
             [
              0,
              "#0d0887"
             ],
             [
              0.1111111111111111,
              "#46039f"
             ],
             [
              0.2222222222222222,
              "#7201a8"
             ],
             [
              0.3333333333333333,
              "#9c179e"
             ],
             [
              0.4444444444444444,
              "#bd3786"
             ],
             [
              0.5555555555555556,
              "#d8576b"
             ],
             [
              0.6666666666666666,
              "#ed7953"
             ],
             [
              0.7777777777777778,
              "#fb9f3a"
             ],
             [
              0.8888888888888888,
              "#fdca26"
             ],
             [
              1,
              "#f0f921"
             ]
            ],
            "type": "heatmap"
           }
          ],
          "heatmapgl": [
           {
            "colorbar": {
             "outlinewidth": 0,
             "ticks": ""
            },
            "colorscale": [
             [
              0,
              "#0d0887"
             ],
             [
              0.1111111111111111,
              "#46039f"
             ],
             [
              0.2222222222222222,
              "#7201a8"
             ],
             [
              0.3333333333333333,
              "#9c179e"
             ],
             [
              0.4444444444444444,
              "#bd3786"
             ],
             [
              0.5555555555555556,
              "#d8576b"
             ],
             [
              0.6666666666666666,
              "#ed7953"
             ],
             [
              0.7777777777777778,
              "#fb9f3a"
             ],
             [
              0.8888888888888888,
              "#fdca26"
             ],
             [
              1,
              "#f0f921"
             ]
            ],
            "type": "heatmapgl"
           }
          ],
          "histogram": [
           {
            "marker": {
             "pattern": {
              "fillmode": "overlay",
              "size": 10,
              "solidity": 0.2
             }
            },
            "type": "histogram"
           }
          ],
          "histogram2d": [
           {
            "colorbar": {
             "outlinewidth": 0,
             "ticks": ""
            },
            "colorscale": [
             [
              0,
              "#0d0887"
             ],
             [
              0.1111111111111111,
              "#46039f"
             ],
             [
              0.2222222222222222,
              "#7201a8"
             ],
             [
              0.3333333333333333,
              "#9c179e"
             ],
             [
              0.4444444444444444,
              "#bd3786"
             ],
             [
              0.5555555555555556,
              "#d8576b"
             ],
             [
              0.6666666666666666,
              "#ed7953"
             ],
             [
              0.7777777777777778,
              "#fb9f3a"
             ],
             [
              0.8888888888888888,
              "#fdca26"
             ],
             [
              1,
              "#f0f921"
             ]
            ],
            "type": "histogram2d"
           }
          ],
          "histogram2dcontour": [
           {
            "colorbar": {
             "outlinewidth": 0,
             "ticks": ""
            },
            "colorscale": [
             [
              0,
              "#0d0887"
             ],
             [
              0.1111111111111111,
              "#46039f"
             ],
             [
              0.2222222222222222,
              "#7201a8"
             ],
             [
              0.3333333333333333,
              "#9c179e"
             ],
             [
              0.4444444444444444,
              "#bd3786"
             ],
             [
              0.5555555555555556,
              "#d8576b"
             ],
             [
              0.6666666666666666,
              "#ed7953"
             ],
             [
              0.7777777777777778,
              "#fb9f3a"
             ],
             [
              0.8888888888888888,
              "#fdca26"
             ],
             [
              1,
              "#f0f921"
             ]
            ],
            "type": "histogram2dcontour"
           }
          ],
          "mesh3d": [
           {
            "colorbar": {
             "outlinewidth": 0,
             "ticks": ""
            },
            "type": "mesh3d"
           }
          ],
          "parcoords": [
           {
            "line": {
             "colorbar": {
              "outlinewidth": 0,
              "ticks": ""
             }
            },
            "type": "parcoords"
           }
          ],
          "pie": [
           {
            "automargin": true,
            "type": "pie"
           }
          ],
          "scatter": [
           {
            "fillpattern": {
             "fillmode": "overlay",
             "size": 10,
             "solidity": 0.2
            },
            "type": "scatter"
           }
          ],
          "scatter3d": [
           {
            "line": {
             "colorbar": {
              "outlinewidth": 0,
              "ticks": ""
             }
            },
            "marker": {
             "colorbar": {
              "outlinewidth": 0,
              "ticks": ""
             }
            },
            "type": "scatter3d"
           }
          ],
          "scattercarpet": [
           {
            "marker": {
             "colorbar": {
              "outlinewidth": 0,
              "ticks": ""
             }
            },
            "type": "scattercarpet"
           }
          ],
          "scattergeo": [
           {
            "marker": {
             "colorbar": {
              "outlinewidth": 0,
              "ticks": ""
             }
            },
            "type": "scattergeo"
           }
          ],
          "scattergl": [
           {
            "marker": {
             "colorbar": {
              "outlinewidth": 0,
              "ticks": ""
             }
            },
            "type": "scattergl"
           }
          ],
          "scattermapbox": [
           {
            "marker": {
             "colorbar": {
              "outlinewidth": 0,
              "ticks": ""
             }
            },
            "type": "scattermapbox"
           }
          ],
          "scatterpolar": [
           {
            "marker": {
             "colorbar": {
              "outlinewidth": 0,
              "ticks": ""
             }
            },
            "type": "scatterpolar"
           }
          ],
          "scatterpolargl": [
           {
            "marker": {
             "colorbar": {
              "outlinewidth": 0,
              "ticks": ""
             }
            },
            "type": "scatterpolargl"
           }
          ],
          "scatterternary": [
           {
            "marker": {
             "colorbar": {
              "outlinewidth": 0,
              "ticks": ""
             }
            },
            "type": "scatterternary"
           }
          ],
          "surface": [
           {
            "colorbar": {
             "outlinewidth": 0,
             "ticks": ""
            },
            "colorscale": [
             [
              0,
              "#0d0887"
             ],
             [
              0.1111111111111111,
              "#46039f"
             ],
             [
              0.2222222222222222,
              "#7201a8"
             ],
             [
              0.3333333333333333,
              "#9c179e"
             ],
             [
              0.4444444444444444,
              "#bd3786"
             ],
             [
              0.5555555555555556,
              "#d8576b"
             ],
             [
              0.6666666666666666,
              "#ed7953"
             ],
             [
              0.7777777777777778,
              "#fb9f3a"
             ],
             [
              0.8888888888888888,
              "#fdca26"
             ],
             [
              1,
              "#f0f921"
             ]
            ],
            "type": "surface"
           }
          ],
          "table": [
           {
            "cells": {
             "fill": {
              "color": "#EBF0F8"
             },
             "line": {
              "color": "white"
             }
            },
            "header": {
             "fill": {
              "color": "#C8D4E3"
             },
             "line": {
              "color": "white"
             }
            },
            "type": "table"
           }
          ]
         },
         "layout": {
          "annotationdefaults": {
           "arrowcolor": "#2a3f5f",
           "arrowhead": 0,
           "arrowwidth": 1
          },
          "autotypenumbers": "strict",
          "coloraxis": {
           "colorbar": {
            "outlinewidth": 0,
            "ticks": ""
           }
          },
          "colorscale": {
           "diverging": [
            [
             0,
             "#8e0152"
            ],
            [
             0.1,
             "#c51b7d"
            ],
            [
             0.2,
             "#de77ae"
            ],
            [
             0.3,
             "#f1b6da"
            ],
            [
             0.4,
             "#fde0ef"
            ],
            [
             0.5,
             "#f7f7f7"
            ],
            [
             0.6,
             "#e6f5d0"
            ],
            [
             0.7,
             "#b8e186"
            ],
            [
             0.8,
             "#7fbc41"
            ],
            [
             0.9,
             "#4d9221"
            ],
            [
             1,
             "#276419"
            ]
           ],
           "sequential": [
            [
             0,
             "#0d0887"
            ],
            [
             0.1111111111111111,
             "#46039f"
            ],
            [
             0.2222222222222222,
             "#7201a8"
            ],
            [
             0.3333333333333333,
             "#9c179e"
            ],
            [
             0.4444444444444444,
             "#bd3786"
            ],
            [
             0.5555555555555556,
             "#d8576b"
            ],
            [
             0.6666666666666666,
             "#ed7953"
            ],
            [
             0.7777777777777778,
             "#fb9f3a"
            ],
            [
             0.8888888888888888,
             "#fdca26"
            ],
            [
             1,
             "#f0f921"
            ]
           ],
           "sequentialminus": [
            [
             0,
             "#0d0887"
            ],
            [
             0.1111111111111111,
             "#46039f"
            ],
            [
             0.2222222222222222,
             "#7201a8"
            ],
            [
             0.3333333333333333,
             "#9c179e"
            ],
            [
             0.4444444444444444,
             "#bd3786"
            ],
            [
             0.5555555555555556,
             "#d8576b"
            ],
            [
             0.6666666666666666,
             "#ed7953"
            ],
            [
             0.7777777777777778,
             "#fb9f3a"
            ],
            [
             0.8888888888888888,
             "#fdca26"
            ],
            [
             1,
             "#f0f921"
            ]
           ]
          },
          "colorway": [
           "#636efa",
           "#EF553B",
           "#00cc96",
           "#ab63fa",
           "#FFA15A",
           "#19d3f3",
           "#FF6692",
           "#B6E880",
           "#FF97FF",
           "#FECB52"
          ],
          "font": {
           "color": "#2a3f5f"
          },
          "geo": {
           "bgcolor": "white",
           "lakecolor": "white",
           "landcolor": "#E5ECF6",
           "showlakes": true,
           "showland": true,
           "subunitcolor": "white"
          },
          "hoverlabel": {
           "align": "left"
          },
          "hovermode": "closest",
          "mapbox": {
           "style": "light"
          },
          "paper_bgcolor": "white",
          "plot_bgcolor": "#E5ECF6",
          "polar": {
           "angularaxis": {
            "gridcolor": "white",
            "linecolor": "white",
            "ticks": ""
           },
           "bgcolor": "#E5ECF6",
           "radialaxis": {
            "gridcolor": "white",
            "linecolor": "white",
            "ticks": ""
           }
          },
          "scene": {
           "xaxis": {
            "backgroundcolor": "#E5ECF6",
            "gridcolor": "white",
            "gridwidth": 2,
            "linecolor": "white",
            "showbackground": true,
            "ticks": "",
            "zerolinecolor": "white"
           },
           "yaxis": {
            "backgroundcolor": "#E5ECF6",
            "gridcolor": "white",
            "gridwidth": 2,
            "linecolor": "white",
            "showbackground": true,
            "ticks": "",
            "zerolinecolor": "white"
           },
           "zaxis": {
            "backgroundcolor": "#E5ECF6",
            "gridcolor": "white",
            "gridwidth": 2,
            "linecolor": "white",
            "showbackground": true,
            "ticks": "",
            "zerolinecolor": "white"
           }
          },
          "shapedefaults": {
           "line": {
            "color": "#2a3f5f"
           }
          },
          "ternary": {
           "aaxis": {
            "gridcolor": "white",
            "linecolor": "white",
            "ticks": ""
           },
           "baxis": {
            "gridcolor": "white",
            "linecolor": "white",
            "ticks": ""
           },
           "bgcolor": "#E5ECF6",
           "caxis": {
            "gridcolor": "white",
            "linecolor": "white",
            "ticks": ""
           }
          },
          "title": {
           "x": 0.05
          },
          "xaxis": {
           "automargin": true,
           "gridcolor": "white",
           "linecolor": "white",
           "ticks": "",
           "title": {
            "standoff": 15
           },
           "zerolinecolor": "white",
           "zerolinewidth": 2
          },
          "yaxis": {
           "automargin": true,
           "gridcolor": "white",
           "linecolor": "white",
           "ticks": "",
           "title": {
            "standoff": 15
           },
           "zerolinecolor": "white",
           "zerolinewidth": 2
          }
         }
        },
        "title": {
         "text": "Population Development Over Time"
        },
        "xaxis": {
         "anchor": "y",
         "domain": [
          0,
          1
         ],
         "title": {
          "text": "Year"
         }
        },
        "yaxis": {
         "anchor": "x",
         "domain": [
          0,
          1
         ],
         "title": {
          "text": "Population"
         }
        }
       }
      }
     },
     "metadata": {},
     "output_type": "display_data"
    }
   ],
   "source": [
    "import plotly_express as px\n",
    "\n",
    "for year in ['2016', '2017', '2018', '2019']:\n",
    "    cities[year] = pd.to_numeric(cities[year], errors='coerce')\n",
    "\n",
    "top_cities = cities.nlargest(10, '2019')\n",
    "\n",
    "cities_long = pd.melt(top_cities,\n",
    "                      id_vars=['NUTS_3_code', 'City'],\n",
    "                      value_vars=['2016', '2017', '2018', '2019'],\n",
    "                      var_name='Year',\n",
    "                      value_name='Population')\n",
    "\n",
    "fig = px.line(cities_long, \n",
    "              x='Year', \n",
    "              y='Population', \n",
    "              color='City', \n",
    "              title='Population Development Over Time',\n",
    "              labels={'Population': 'Population', 'Year': 'Year'})\n",
    "\n",
    "fig.show()"
   ]
  },
  {
   "cell_type": "code",
   "execution_count": 7,
   "metadata": {},
   "outputs": [
    {
     "data": {
      "text/html": [
       "<div>\n",
       "<style scoped>\n",
       "    .dataframe tbody tr th:only-of-type {\n",
       "        vertical-align: middle;\n",
       "    }\n",
       "\n",
       "    .dataframe tbody tr th {\n",
       "        vertical-align: top;\n",
       "    }\n",
       "\n",
       "    .dataframe thead th {\n",
       "        text-align: right;\n",
       "    }\n",
       "</style>\n",
       "<table border=\"1\" class=\"dataframe\">\n",
       "  <thead>\n",
       "    <tr style=\"text-align: right;\">\n",
       "      <th></th>\n",
       "      <th>Airport Code</th>\n",
       "      <th>NUTS_3_code</th>\n",
       "      <th>City</th>\n",
       "      <th>Country</th>\n",
       "      <th>1990</th>\n",
       "      <th>1991</th>\n",
       "      <th>1992</th>\n",
       "      <th>1993</th>\n",
       "      <th>1994</th>\n",
       "      <th>1995</th>\n",
       "      <th>...</th>\n",
       "      <th>2016</th>\n",
       "      <th>2017</th>\n",
       "      <th>2018</th>\n",
       "      <th>2019</th>\n",
       "      <th>2020</th>\n",
       "      <th>2021</th>\n",
       "      <th>2022</th>\n",
       "      <th>2023</th>\n",
       "      <th>Latitude</th>\n",
       "      <th>Longitude</th>\n",
       "    </tr>\n",
       "  </thead>\n",
       "  <tbody>\n",
       "    <tr>\n",
       "      <th>0</th>\n",
       "      <td>EBAW</td>\n",
       "      <td>BE211</td>\n",
       "      <td>Antwerp</td>\n",
       "      <td>Belgium</td>\n",
       "      <td>:</td>\n",
       "      <td>:</td>\n",
       "      <td>:</td>\n",
       "      <td>:</td>\n",
       "      <td>:</td>\n",
       "      <td>:</td>\n",
       "      <td>...</td>\n",
       "      <td>1036031</td>\n",
       "      <td>1041811</td>\n",
       "      <td>1047030</td>\n",
       "      <td>1053033</td>\n",
       "      <td>1059946</td>\n",
       "      <td>1062427</td>\n",
       "      <td>1067117</td>\n",
       "      <td>1081771</td>\n",
       "      <td>51.221110</td>\n",
       "      <td>4.399708</td>\n",
       "    </tr>\n",
       "    <tr>\n",
       "      <th>1</th>\n",
       "      <td>EBBR</td>\n",
       "      <td>BE100</td>\n",
       "      <td>Brussels</td>\n",
       "      <td>Belgium</td>\n",
       "      <td>:</td>\n",
       "      <td>:</td>\n",
       "      <td>:</td>\n",
       "      <td>:</td>\n",
       "      <td>:</td>\n",
       "      <td>:</td>\n",
       "      <td>...</td>\n",
       "      <td>1201285</td>\n",
       "      <td>1199095</td>\n",
       "      <td>1205492</td>\n",
       "      <td>1215289</td>\n",
       "      <td>1223364</td>\n",
       "      <td>1226329</td>\n",
       "      <td>1228655</td>\n",
       "      <td>1253178</td>\n",
       "      <td>50.846557</td>\n",
       "      <td>4.351697</td>\n",
       "    </tr>\n",
       "    <tr>\n",
       "      <th>2</th>\n",
       "      <td>EBCI</td>\n",
       "      <td>BE322</td>\n",
       "      <td>Charleroi</td>\n",
       "      <td>Belgium</td>\n",
       "      <td>:</td>\n",
       "      <td>:</td>\n",
       "      <td>:</td>\n",
       "      <td>:</td>\n",
       "      <td>:</td>\n",
       "      <td>:</td>\n",
       "      <td>...</td>\n",
       "      <td>431693</td>\n",
       "      <td>431043</td>\n",
       "      <td>431398</td>\n",
       "      <td>431879</td>\n",
       "      <td>432660</td>\n",
       "      <td>:</td>\n",
       "      <td>:</td>\n",
       "      <td>:</td>\n",
       "      <td>50.411623</td>\n",
       "      <td>4.444528</td>\n",
       "    </tr>\n",
       "    <tr>\n",
       "      <th>3</th>\n",
       "      <td>EBLG</td>\n",
       "      <td>BE332</td>\n",
       "      <td>Liege</td>\n",
       "      <td>Belgium</td>\n",
       "      <td>:</td>\n",
       "      <td>:</td>\n",
       "      <td>:</td>\n",
       "      <td>:</td>\n",
       "      <td>:</td>\n",
       "      <td>:</td>\n",
       "      <td>...</td>\n",
       "      <td>623887</td>\n",
       "      <td>625131</td>\n",
       "      <td>626222</td>\n",
       "      <td>626627</td>\n",
       "      <td>628363</td>\n",
       "      <td>627304</td>\n",
       "      <td>628067</td>\n",
       "      <td>630743</td>\n",
       "      <td>50.470816</td>\n",
       "      <td>5.773546</td>\n",
       "    </tr>\n",
       "    <tr>\n",
       "      <th>4</th>\n",
       "      <td>EBOS</td>\n",
       "      <td>BE255</td>\n",
       "      <td>Ostend</td>\n",
       "      <td>Belgium</td>\n",
       "      <td>:</td>\n",
       "      <td>:</td>\n",
       "      <td>:</td>\n",
       "      <td>:</td>\n",
       "      <td>:</td>\n",
       "      <td>:</td>\n",
       "      <td>...</td>\n",
       "      <td>155256</td>\n",
       "      <td>155982</td>\n",
       "      <td>156638</td>\n",
       "      <td>157293</td>\n",
       "      <td>157925</td>\n",
       "      <td>158320</td>\n",
       "      <td>158339</td>\n",
       "      <td>159568</td>\n",
       "      <td>51.225856</td>\n",
       "      <td>2.919496</td>\n",
       "    </tr>\n",
       "    <tr>\n",
       "      <th>...</th>\n",
       "      <td>...</td>\n",
       "      <td>...</td>\n",
       "      <td>...</td>\n",
       "      <td>...</td>\n",
       "      <td>...</td>\n",
       "      <td>...</td>\n",
       "      <td>...</td>\n",
       "      <td>...</td>\n",
       "      <td>...</td>\n",
       "      <td>...</td>\n",
       "      <td>...</td>\n",
       "      <td>...</td>\n",
       "      <td>...</td>\n",
       "      <td>...</td>\n",
       "      <td>...</td>\n",
       "      <td>...</td>\n",
       "      <td>...</td>\n",
       "      <td>...</td>\n",
       "      <td>...</td>\n",
       "      <td>...</td>\n",
       "      <td>...</td>\n",
       "    </tr>\n",
       "    <tr>\n",
       "      <th>99</th>\n",
       "      <td>LFRS</td>\n",
       "      <td>FRG01</td>\n",
       "      <td>Nantes</td>\n",
       "      <td>France</td>\n",
       "      <td>1050539</td>\n",
       "      <td>1058966</td>\n",
       "      <td>1068983</td>\n",
       "      <td>1079601</td>\n",
       "      <td>1087854</td>\n",
       "      <td>1096033</td>\n",
       "      <td>...</td>\n",
       "      <td>1380852</td>\n",
       "      <td>1394909</td>\n",
       "      <td>1412502</td>\n",
       "      <td>1429272</td>\n",
       "      <td>1445171</td>\n",
       "      <td>1457806</td>\n",
       "      <td>1473637</td>\n",
       "      <td>1488876</td>\n",
       "      <td>47.218637</td>\n",
       "      <td>-1.554136</td>\n",
       "    </tr>\n",
       "    <tr>\n",
       "      <th>100</th>\n",
       "      <td>LFSB</td>\n",
       "      <td>FRF12</td>\n",
       "      <td>Basel/Mulhouse</td>\n",
       "      <td>France/Switzerland</td>\n",
       "      <td>670652</td>\n",
       "      <td>675110</td>\n",
       "      <td>679085</td>\n",
       "      <td>684357</td>\n",
       "      <td>688363</td>\n",
       "      <td>692543</td>\n",
       "      <td>...</td>\n",
       "      <td>762743</td>\n",
       "      <td>764030</td>\n",
       "      <td>764981</td>\n",
       "      <td>767086</td>\n",
       "      <td>767842</td>\n",
       "      <td>767083</td>\n",
       "      <td>767909</td>\n",
       "      <td>768372</td>\n",
       "      <td>NaN</td>\n",
       "      <td>NaN</td>\n",
       "    </tr>\n",
       "    <tr>\n",
       "      <th>101</th>\n",
       "      <td>LFST</td>\n",
       "      <td>FRF11</td>\n",
       "      <td>Strasbourg</td>\n",
       "      <td>France</td>\n",
       "      <td>952158</td>\n",
       "      <td>960320</td>\n",
       "      <td>968879</td>\n",
       "      <td>978610</td>\n",
       "      <td>987370</td>\n",
       "      <td>994932</td>\n",
       "      <td>...</td>\n",
       "      <td>1121407</td>\n",
       "      <td>1125559</td>\n",
       "      <td>1133552</td>\n",
       "      <td>1140057</td>\n",
       "      <td>1148073</td>\n",
       "      <td>1152662</td>\n",
       "      <td>1158915</td>\n",
       "      <td>1164485</td>\n",
       "      <td>48.584614</td>\n",
       "      <td>7.750713</td>\n",
       "    </tr>\n",
       "    <tr>\n",
       "      <th>102</th>\n",
       "      <td>LFTH</td>\n",
       "      <td>FRL05</td>\n",
       "      <td>Toulon</td>\n",
       "      <td>France</td>\n",
       "      <td>815714</td>\n",
       "      <td>825813</td>\n",
       "      <td>837166</td>\n",
       "      <td>846896</td>\n",
       "      <td>856303</td>\n",
       "      <td>864290</td>\n",
       "      <td>...</td>\n",
       "      <td>1055821</td>\n",
       "      <td>1058740</td>\n",
       "      <td>1067697</td>\n",
       "      <td>1076711</td>\n",
       "      <td>1085189</td>\n",
       "      <td>1095337</td>\n",
       "      <td>1103664</td>\n",
       "      <td>1112421</td>\n",
       "      <td>43.125731</td>\n",
       "      <td>5.930492</td>\n",
       "    </tr>\n",
       "    <tr>\n",
       "      <th>103</th>\n",
       "      <td>LFTW</td>\n",
       "      <td>FRJ12</td>\n",
       "      <td>Nimes</td>\n",
       "      <td>France</td>\n",
       "      <td>584982</td>\n",
       "      <td>588745</td>\n",
       "      <td>593423</td>\n",
       "      <td>598655</td>\n",
       "      <td>602896</td>\n",
       "      <td>605413</td>\n",
       "      <td>...</td>\n",
       "      <td>742006</td>\n",
       "      <td>744178</td>\n",
       "      <td>745458</td>\n",
       "      <td>748437</td>\n",
       "      <td>751457</td>\n",
       "      <td>756543</td>\n",
       "      <td>759973</td>\n",
       "      <td>763311</td>\n",
       "      <td>43.837425</td>\n",
       "      <td>4.360069</td>\n",
       "    </tr>\n",
       "  </tbody>\n",
       "</table>\n",
       "<p>104 rows × 40 columns</p>\n",
       "</div>"
      ],
      "text/plain": [
       "    Airport Code NUTS_3_code            City             Country     1990  \\\n",
       "0           EBAW       BE211         Antwerp             Belgium        :   \n",
       "1           EBBR       BE100        Brussels             Belgium        :   \n",
       "2           EBCI       BE322       Charleroi             Belgium        :   \n",
       "3           EBLG       BE332           Liege             Belgium        :   \n",
       "4           EBOS       BE255          Ostend             Belgium        :   \n",
       "..           ...         ...             ...                 ...      ...   \n",
       "99          LFRS       FRG01          Nantes              France  1050539   \n",
       "100         LFSB       FRF12  Basel/Mulhouse  France/Switzerland   670652   \n",
       "101         LFST       FRF11      Strasbourg              France   952158   \n",
       "102         LFTH       FRL05          Toulon              France   815714   \n",
       "103         LFTW       FRJ12           Nimes              France   584982   \n",
       "\n",
       "        1991     1992     1993     1994     1995  ...     2016     2017  \\\n",
       "0          :        :        :        :        :  ...  1036031  1041811   \n",
       "1          :        :        :        :        :  ...  1201285  1199095   \n",
       "2          :        :        :        :        :  ...   431693   431043   \n",
       "3          :        :        :        :        :  ...   623887   625131   \n",
       "4          :        :        :        :        :  ...   155256   155982   \n",
       "..       ...      ...      ...      ...      ...  ...      ...      ...   \n",
       "99   1058966  1068983  1079601  1087854  1096033  ...  1380852  1394909   \n",
       "100   675110   679085   684357   688363   692543  ...   762743   764030   \n",
       "101   960320   968879   978610   987370   994932  ...  1121407  1125559   \n",
       "102   825813   837166   846896   856303   864290  ...  1055821  1058740   \n",
       "103   588745   593423   598655   602896   605413  ...   742006   744178   \n",
       "\n",
       "        2018     2019     2020     2021     2022     2023   Latitude Longitude  \n",
       "0    1047030  1053033  1059946  1062427  1067117  1081771  51.221110  4.399708  \n",
       "1    1205492  1215289  1223364  1226329  1228655  1253178  50.846557  4.351697  \n",
       "2     431398   431879   432660        :        :        :  50.411623  4.444528  \n",
       "3     626222   626627   628363   627304   628067   630743  50.470816  5.773546  \n",
       "4     156638   157293   157925   158320   158339   159568  51.225856  2.919496  \n",
       "..       ...      ...      ...      ...      ...      ...        ...       ...  \n",
       "99   1412502  1429272  1445171  1457806  1473637  1488876  47.218637 -1.554136  \n",
       "100   764981   767086   767842   767083   767909   768372        NaN       NaN  \n",
       "101  1133552  1140057  1148073  1152662  1158915  1164485  48.584614  7.750713  \n",
       "102  1067697  1076711  1085189  1095337  1103664  1112421  43.125731  5.930492  \n",
       "103   745458   748437   751457   756543   759973   763311  43.837425  4.360069  \n",
       "\n",
       "[104 rows x 40 columns]"
      ]
     },
     "execution_count": 7,
     "metadata": {},
     "output_type": "execute_result"
    }
   ],
   "source": [
    "from geopy.geocoders import Nominatim\n",
    "from geopy.extra.rate_limiter import RateLimiter\n",
    "\n",
    "# Initialize the geolocator\n",
    "geolocator = Nominatim(user_agent=\"geoapiExercises\")\n",
    "\n",
    "# Add a rate limiter to avoid exceeding the rate limits\n",
    "geocode = RateLimiter(geolocator.geocode, min_delay_seconds=1)\n",
    "\n",
    "# Function to get latitude and longitude\n",
    "def get_lat_lon(city_name, country_name):\n",
    "    try:\n",
    "        location = geocode(f\"{city_name}, {country_name}\")\n",
    "        if location:\n",
    "            return pd.Series([location.latitude, location.longitude])\n",
    "        else:\n",
    "            return pd.Series([None, None])\n",
    "    except Exception as e:\n",
    "        return pd.Series([None, None])\n",
    "\n",
    "# Apply the function to the 'City' column\n",
    "\n",
    "cities_lat_lon = cities\n",
    "cities_lat_lon[['Latitude', 'Longitude']] = cities_lat_lon.apply(lambda row: get_lat_lon(row['City'], row['Country']), axis=1)\n",
    "\n",
    "cities_lat_lon\n"
   ]
  },
  {
   "cell_type": "code",
   "execution_count": 8,
   "metadata": {},
   "outputs": [
    {
     "data": {
      "application/vnd.plotly.v1+json": {
       "config": {
        "plotlyServerURL": "https://plot.ly"
       },
       "data": [
        {
         "geo": "geo",
         "hovertemplate": "<b>%{hovertext}</b><br><br>Population=%{marker.size}<br>Latitude=%{lat}<br>Longitude=%{lon}<extra></extra>",
         "hovertext": [
          "Antwerp",
          "Brussels",
          "Charleroi",
          "Liege",
          "Ostend",
          "Berlin Brandenburg",
          "Dresden",
          "Erfurt",
          "Frankfurt",
          "Munster",
          "Hamburg",
          "Cologne",
          "Düsseldorf",
          "Munich",
          "Nuremberg",
          "Leipzig",
          "Saarbrucken",
          "Stuttgart",
          "Hannover",
          "Bremen",
          "Frankfurt-Hahn",
          "Memmingen",
          "Paderborn",
          "Weeze",
          "Dortmund",
          "Friedrichshafen",
          "Karlsruhe/Baden-Baden",
          "Amsterdam",
          "Maastricht",
          "Eindhoven",
          "Groningen",
          "Rotterdam",
          "Luxembourg City",
          "Rostock",
          "Fuerteventura",
          "El Hierro",
          "La Palma",
          "Gran Canaria",
          "Lanzarote",
          "Tenerife South",
          "Tenerife North",
          "Melilla",
          "Alicante",
          "Almeria",
          "Asturias",
          "Bilbao",
          "Barcelona",
          "A Coruna",
          "Girona",
          "Granada",
          "Ibiza",
          "Jerez",
          "Murcia",
          "Madrid",
          "Malaga",
          "Menorca",
          "Murcia-Corvera",
          "Palma de Mallorca",
          "Pamplona",
          "Reus",
          "San Sebastian",
          "Santiago de Compostela",
          "Valencia",
          "Valladolid",
          "Vitoria",
          "Vigo",
          "Santander",
          "Zaragoza",
          "Seville",
          "Bordeaux",
          "Bergerac",
          "La Rochelle",
          "Limoges",
          "Toulouse",
          "Pau",
          "Tarbes",
          "Biarritz",
          "Metz-Nancy-Lorraine",
          "Bastia",
          "Calvi",
          "Figari",
          "Ajaccio",
          "Clermont-Ferrand",
          "Lyon",
          "Carcassonne",
          "Marseille",
          "Nice",
          "Perpignan",
          "Montpellier",
          "Beziers",
          "Beauvais",
          "Tours",
          "Paris Charles de Gaulle",
          "Paris Orly",
          "Lille",
          "Brest",
          "Caen",
          "Rennes",
          "Nantes",
          "Strasbourg",
          "Toulon",
          "Nimes"
         ],
         "lat": [
          51.2211097,
          50.8465573,
          50.4116233,
          50.47081585,
          51.2258565,
          52.5091145,
          51.0493286,
          50.9777974,
          50.1106444,
          51.9625101,
          53.550341,
          50.938361,
          51.2254018,
          48.1371079,
          49.453872,
          51.3406321,
          49.234362,
          48.7784485,
          52.3744779,
          53.0758196,
          49.944633350000004,
          47.9867696,
          51.7177044,
          51.6267298,
          51.5142273,
          47.6500279,
          48.7787136,
          52.3730796,
          50.8512438,
          51.4392648,
          53.2190652,
          51.9244424,
          49.6112768,
          54.0886707,
          28.40037685,
          27.74350835,
          28.6551163,
          27.9580004,
          29.03970805,
          28.04614105,
          28.48275745,
          35.2919028,
          38.3436365,
          36.8414197,
          43.3133868,
          43.2630018,
          41.3828939,
          43.3709703,
          41.9793006,
          37.1734995,
          38.974390099999994,
          36.6816936,
          37.9923795,
          40.4167047,
          36.7213028,
          39.949285950000004,
          37.8281408,
          39.5695818,
          42.81568595,
          41.1555564,
          43.3224219,
          42.876383700000005,
          39.4697065,
          41.6521807,
          42.8465088,
          42.2376602,
          43.4618932,
          41.6521342,
          37.3886303,
          44.841225,
          44.8534568,
          46.1591126,
          45.8354243,
          43.6044622,
          43.2957547,
          43.232858,
          43.471143749999996,
          48.978364850000006,
          42.6993979,
          42.5677079,
          41.4874599,
          41.9263991,
          45.7774551,
          45.7578137,
          43.2130358,
          43.2961743,
          43.7009358,
          42.6985304,
          43.6112422,
          43.3426562,
          49.4300997,
          47.3900474,
          49.0068908,
          48.73005955,
          50.6365654,
          48.3905283,
          49.1813403,
          48.1113387,
          47.2186371,
          48.584614,
          43.1257311,
          43.8374249
         ],
         "legendgroup": "",
         "lon": [
          4.3997081,
          4.351697,
          4.444528,
          5.773545903524977,
          2.919496,
          13.2755211,
          13.7381437,
          11.0287364,
          8.6820917,
          7.6251879,
          10.000654,
          6.959974,
          6.7763137,
          11.5753822,
          11.077298,
          12.3747329,
          6.996379,
          9.1800132,
          9.7385532,
          8.8071646,
          7.261210336785306,
          10.181319,
          8.752653,
          6.2011559,
          7.4652789,
          9.4800858,
          8.081971309890005,
          4.8924534,
          5.6909768,
          5.478633,
          6.5680077,
          4.47775,
          6.129799,
          12.1400211,
          -14.004869713542156,
          -18.038179618209902,
          -17.857268565579673,
          -15.6062305376665,
          -13.636291608604138,
          -16.57200777057564,
          -16.34122474502233,
          -2.9407146,
          -0.4881708,
          -2.4628135,
          -5.94192,
          -2.9350039,
          2.1774322,
          -8.3959425,
          2.8199439,
          -3.5995337,
          1.4197463178515335,
          -6.1377402,
          -1.1305431,
          -3.7035825,
          -4.4216366,
          4.052948547976488,
          -1.1565987,
          2.6500745,
          -1.6522353378580308,
          1.1076133,
          -1.9838889,
          -8.539081858079587,
          -0.3763353,
          -4.728605,
          -2.6724025,
          -8.7247205,
          -3.8100255,
          -0.8809428,
          -5.9953403,
          -0.5800364,
          0.487531,
          -1.1520434,
          1.2644847,
          1.4442469,
          -0.3685668,
          0.0781021,
          -1.552726590666314,
          6.2437694381861775,
          9.4509187,
          8.7590528,
          9.1282853,
          8.7376029,
          3.0819427,
          4.8320114,
          2.3491069,
          5.3699525,
          7.2683912,
          2.8953121,
          3.8767337,
          3.2131307,
          2.0823355,
          0.6889268,
          2.5710819691019156,
          2.3678312558143455,
          3.0635282,
          -4.4860088,
          -0.3635615,
          -1.6800198,
          -1.5541362,
          7.7507127,
          5.9304919,
          4.3600687
         ],
         "marker": {
          "color": "#636efa",
          "size": [
           1053033,
           1215289,
           431879,
           626627,
           157293,
           3644826,
           554649,
           213699,
           753056,
           314319,
           1841179,
           1085664,
           619294,
           1471508,
           518365,
           587857,
           329708,
           634830,
           1157624,
           569352,
           102937,
           43837,
           306890,
           310974,
           587010,
           216227,
           313092,
           1370657,
           597368,
           773203,
           146803,
           1441452,
           613894,
           208886,
           119050,
           10976,
           82711,
           851964,
           150672,
           916449,
           916449,
           86373,
           1855384,
           714123,
           1021469,
           1147589,
           5622704,
           1120432,
           765476,
           916879,
           162187,
           1243186,
           1491312,
           6618078,
           1660348,
           94349,
           1491312,
           901392,
           652797,
           803528,
           719613,
           1120432,
           2554332,
           520483,
           330104,
           942944,
           581989,
           965673,
           1941191,
           1623749,
           413223,
           651358,
           372359,
           1400039,
           682621,
           229567,
           682621,
           1046543,
           181933,
           181933,
           158507,
           158507,
           662152,
           1875747,
           374070,
           2043110,
           1094283,
           479979,
           1175623,
           1175623,
           829419,
           610079,
           1249674,
           1407124,
           2608346,
           915090,
           694905,
           1079498,
           1429272,
           1140057,
           1076711,
           748437
          ],
          "sizemin": 4,
          "sizemode": "area",
          "sizeref": 1323.6156,
          "symbol": "circle"
         },
         "mode": "markers",
         "name": "",
         "showlegend": false,
         "type": "scattergeo"
        }
       ],
       "layout": {
        "geo": {
         "center": {},
         "coastlinecolor": "black",
         "domain": {
          "x": [
           0,
           1
          ],
          "y": [
           0,
           1
          ]
         },
         "lakecolor": "blue",
         "landcolor": "lightgray",
         "oceancolor": "lightblue",
         "projection": {
          "type": "natural earth"
         },
         "resolution": 50,
         "scope": "europe",
         "showcoastlines": true,
         "showlakes": true,
         "showland": true,
         "showocean": true
        },
        "height": 800,
        "legend": {
         "itemsizing": "constant",
         "tracegroupgap": 0
        },
        "template": {
         "data": {
          "bar": [
           {
            "error_x": {
             "color": "#2a3f5f"
            },
            "error_y": {
             "color": "#2a3f5f"
            },
            "marker": {
             "line": {
              "color": "#E5ECF6",
              "width": 0.5
             },
             "pattern": {
              "fillmode": "overlay",
              "size": 10,
              "solidity": 0.2
             }
            },
            "type": "bar"
           }
          ],
          "barpolar": [
           {
            "marker": {
             "line": {
              "color": "#E5ECF6",
              "width": 0.5
             },
             "pattern": {
              "fillmode": "overlay",
              "size": 10,
              "solidity": 0.2
             }
            },
            "type": "barpolar"
           }
          ],
          "carpet": [
           {
            "aaxis": {
             "endlinecolor": "#2a3f5f",
             "gridcolor": "white",
             "linecolor": "white",
             "minorgridcolor": "white",
             "startlinecolor": "#2a3f5f"
            },
            "baxis": {
             "endlinecolor": "#2a3f5f",
             "gridcolor": "white",
             "linecolor": "white",
             "minorgridcolor": "white",
             "startlinecolor": "#2a3f5f"
            },
            "type": "carpet"
           }
          ],
          "choropleth": [
           {
            "colorbar": {
             "outlinewidth": 0,
             "ticks": ""
            },
            "type": "choropleth"
           }
          ],
          "contour": [
           {
            "colorbar": {
             "outlinewidth": 0,
             "ticks": ""
            },
            "colorscale": [
             [
              0,
              "#0d0887"
             ],
             [
              0.1111111111111111,
              "#46039f"
             ],
             [
              0.2222222222222222,
              "#7201a8"
             ],
             [
              0.3333333333333333,
              "#9c179e"
             ],
             [
              0.4444444444444444,
              "#bd3786"
             ],
             [
              0.5555555555555556,
              "#d8576b"
             ],
             [
              0.6666666666666666,
              "#ed7953"
             ],
             [
              0.7777777777777778,
              "#fb9f3a"
             ],
             [
              0.8888888888888888,
              "#fdca26"
             ],
             [
              1,
              "#f0f921"
             ]
            ],
            "type": "contour"
           }
          ],
          "contourcarpet": [
           {
            "colorbar": {
             "outlinewidth": 0,
             "ticks": ""
            },
            "type": "contourcarpet"
           }
          ],
          "heatmap": [
           {
            "colorbar": {
             "outlinewidth": 0,
             "ticks": ""
            },
            "colorscale": [
             [
              0,
              "#0d0887"
             ],
             [
              0.1111111111111111,
              "#46039f"
             ],
             [
              0.2222222222222222,
              "#7201a8"
             ],
             [
              0.3333333333333333,
              "#9c179e"
             ],
             [
              0.4444444444444444,
              "#bd3786"
             ],
             [
              0.5555555555555556,
              "#d8576b"
             ],
             [
              0.6666666666666666,
              "#ed7953"
             ],
             [
              0.7777777777777778,
              "#fb9f3a"
             ],
             [
              0.8888888888888888,
              "#fdca26"
             ],
             [
              1,
              "#f0f921"
             ]
            ],
            "type": "heatmap"
           }
          ],
          "heatmapgl": [
           {
            "colorbar": {
             "outlinewidth": 0,
             "ticks": ""
            },
            "colorscale": [
             [
              0,
              "#0d0887"
             ],
             [
              0.1111111111111111,
              "#46039f"
             ],
             [
              0.2222222222222222,
              "#7201a8"
             ],
             [
              0.3333333333333333,
              "#9c179e"
             ],
             [
              0.4444444444444444,
              "#bd3786"
             ],
             [
              0.5555555555555556,
              "#d8576b"
             ],
             [
              0.6666666666666666,
              "#ed7953"
             ],
             [
              0.7777777777777778,
              "#fb9f3a"
             ],
             [
              0.8888888888888888,
              "#fdca26"
             ],
             [
              1,
              "#f0f921"
             ]
            ],
            "type": "heatmapgl"
           }
          ],
          "histogram": [
           {
            "marker": {
             "pattern": {
              "fillmode": "overlay",
              "size": 10,
              "solidity": 0.2
             }
            },
            "type": "histogram"
           }
          ],
          "histogram2d": [
           {
            "colorbar": {
             "outlinewidth": 0,
             "ticks": ""
            },
            "colorscale": [
             [
              0,
              "#0d0887"
             ],
             [
              0.1111111111111111,
              "#46039f"
             ],
             [
              0.2222222222222222,
              "#7201a8"
             ],
             [
              0.3333333333333333,
              "#9c179e"
             ],
             [
              0.4444444444444444,
              "#bd3786"
             ],
             [
              0.5555555555555556,
              "#d8576b"
             ],
             [
              0.6666666666666666,
              "#ed7953"
             ],
             [
              0.7777777777777778,
              "#fb9f3a"
             ],
             [
              0.8888888888888888,
              "#fdca26"
             ],
             [
              1,
              "#f0f921"
             ]
            ],
            "type": "histogram2d"
           }
          ],
          "histogram2dcontour": [
           {
            "colorbar": {
             "outlinewidth": 0,
             "ticks": ""
            },
            "colorscale": [
             [
              0,
              "#0d0887"
             ],
             [
              0.1111111111111111,
              "#46039f"
             ],
             [
              0.2222222222222222,
              "#7201a8"
             ],
             [
              0.3333333333333333,
              "#9c179e"
             ],
             [
              0.4444444444444444,
              "#bd3786"
             ],
             [
              0.5555555555555556,
              "#d8576b"
             ],
             [
              0.6666666666666666,
              "#ed7953"
             ],
             [
              0.7777777777777778,
              "#fb9f3a"
             ],
             [
              0.8888888888888888,
              "#fdca26"
             ],
             [
              1,
              "#f0f921"
             ]
            ],
            "type": "histogram2dcontour"
           }
          ],
          "mesh3d": [
           {
            "colorbar": {
             "outlinewidth": 0,
             "ticks": ""
            },
            "type": "mesh3d"
           }
          ],
          "parcoords": [
           {
            "line": {
             "colorbar": {
              "outlinewidth": 0,
              "ticks": ""
             }
            },
            "type": "parcoords"
           }
          ],
          "pie": [
           {
            "automargin": true,
            "type": "pie"
           }
          ],
          "scatter": [
           {
            "fillpattern": {
             "fillmode": "overlay",
             "size": 10,
             "solidity": 0.2
            },
            "type": "scatter"
           }
          ],
          "scatter3d": [
           {
            "line": {
             "colorbar": {
              "outlinewidth": 0,
              "ticks": ""
             }
            },
            "marker": {
             "colorbar": {
              "outlinewidth": 0,
              "ticks": ""
             }
            },
            "type": "scatter3d"
           }
          ],
          "scattercarpet": [
           {
            "marker": {
             "colorbar": {
              "outlinewidth": 0,
              "ticks": ""
             }
            },
            "type": "scattercarpet"
           }
          ],
          "scattergeo": [
           {
            "marker": {
             "colorbar": {
              "outlinewidth": 0,
              "ticks": ""
             }
            },
            "type": "scattergeo"
           }
          ],
          "scattergl": [
           {
            "marker": {
             "colorbar": {
              "outlinewidth": 0,
              "ticks": ""
             }
            },
            "type": "scattergl"
           }
          ],
          "scattermapbox": [
           {
            "marker": {
             "colorbar": {
              "outlinewidth": 0,
              "ticks": ""
             }
            },
            "type": "scattermapbox"
           }
          ],
          "scatterpolar": [
           {
            "marker": {
             "colorbar": {
              "outlinewidth": 0,
              "ticks": ""
             }
            },
            "type": "scatterpolar"
           }
          ],
          "scatterpolargl": [
           {
            "marker": {
             "colorbar": {
              "outlinewidth": 0,
              "ticks": ""
             }
            },
            "type": "scatterpolargl"
           }
          ],
          "scatterternary": [
           {
            "marker": {
             "colorbar": {
              "outlinewidth": 0,
              "ticks": ""
             }
            },
            "type": "scatterternary"
           }
          ],
          "surface": [
           {
            "colorbar": {
             "outlinewidth": 0,
             "ticks": ""
            },
            "colorscale": [
             [
              0,
              "#0d0887"
             ],
             [
              0.1111111111111111,
              "#46039f"
             ],
             [
              0.2222222222222222,
              "#7201a8"
             ],
             [
              0.3333333333333333,
              "#9c179e"
             ],
             [
              0.4444444444444444,
              "#bd3786"
             ],
             [
              0.5555555555555556,
              "#d8576b"
             ],
             [
              0.6666666666666666,
              "#ed7953"
             ],
             [
              0.7777777777777778,
              "#fb9f3a"
             ],
             [
              0.8888888888888888,
              "#fdca26"
             ],
             [
              1,
              "#f0f921"
             ]
            ],
            "type": "surface"
           }
          ],
          "table": [
           {
            "cells": {
             "fill": {
              "color": "#EBF0F8"
             },
             "line": {
              "color": "white"
             }
            },
            "header": {
             "fill": {
              "color": "#C8D4E3"
             },
             "line": {
              "color": "white"
             }
            },
            "type": "table"
           }
          ]
         },
         "layout": {
          "annotationdefaults": {
           "arrowcolor": "#2a3f5f",
           "arrowhead": 0,
           "arrowwidth": 1
          },
          "autotypenumbers": "strict",
          "coloraxis": {
           "colorbar": {
            "outlinewidth": 0,
            "ticks": ""
           }
          },
          "colorscale": {
           "diverging": [
            [
             0,
             "#8e0152"
            ],
            [
             0.1,
             "#c51b7d"
            ],
            [
             0.2,
             "#de77ae"
            ],
            [
             0.3,
             "#f1b6da"
            ],
            [
             0.4,
             "#fde0ef"
            ],
            [
             0.5,
             "#f7f7f7"
            ],
            [
             0.6,
             "#e6f5d0"
            ],
            [
             0.7,
             "#b8e186"
            ],
            [
             0.8,
             "#7fbc41"
            ],
            [
             0.9,
             "#4d9221"
            ],
            [
             1,
             "#276419"
            ]
           ],
           "sequential": [
            [
             0,
             "#0d0887"
            ],
            [
             0.1111111111111111,
             "#46039f"
            ],
            [
             0.2222222222222222,
             "#7201a8"
            ],
            [
             0.3333333333333333,
             "#9c179e"
            ],
            [
             0.4444444444444444,
             "#bd3786"
            ],
            [
             0.5555555555555556,
             "#d8576b"
            ],
            [
             0.6666666666666666,
             "#ed7953"
            ],
            [
             0.7777777777777778,
             "#fb9f3a"
            ],
            [
             0.8888888888888888,
             "#fdca26"
            ],
            [
             1,
             "#f0f921"
            ]
           ],
           "sequentialminus": [
            [
             0,
             "#0d0887"
            ],
            [
             0.1111111111111111,
             "#46039f"
            ],
            [
             0.2222222222222222,
             "#7201a8"
            ],
            [
             0.3333333333333333,
             "#9c179e"
            ],
            [
             0.4444444444444444,
             "#bd3786"
            ],
            [
             0.5555555555555556,
             "#d8576b"
            ],
            [
             0.6666666666666666,
             "#ed7953"
            ],
            [
             0.7777777777777778,
             "#fb9f3a"
            ],
            [
             0.8888888888888888,
             "#fdca26"
            ],
            [
             1,
             "#f0f921"
            ]
           ]
          },
          "colorway": [
           "#636efa",
           "#EF553B",
           "#00cc96",
           "#ab63fa",
           "#FFA15A",
           "#19d3f3",
           "#FF6692",
           "#B6E880",
           "#FF97FF",
           "#FECB52"
          ],
          "font": {
           "color": "#2a3f5f"
          },
          "geo": {
           "bgcolor": "white",
           "lakecolor": "white",
           "landcolor": "#E5ECF6",
           "showlakes": true,
           "showland": true,
           "subunitcolor": "white"
          },
          "hoverlabel": {
           "align": "left"
          },
          "hovermode": "closest",
          "mapbox": {
           "style": "light"
          },
          "paper_bgcolor": "white",
          "plot_bgcolor": "#E5ECF6",
          "polar": {
           "angularaxis": {
            "gridcolor": "white",
            "linecolor": "white",
            "ticks": ""
           },
           "bgcolor": "#E5ECF6",
           "radialaxis": {
            "gridcolor": "white",
            "linecolor": "white",
            "ticks": ""
           }
          },
          "scene": {
           "xaxis": {
            "backgroundcolor": "#E5ECF6",
            "gridcolor": "white",
            "gridwidth": 2,
            "linecolor": "white",
            "showbackground": true,
            "ticks": "",
            "zerolinecolor": "white"
           },
           "yaxis": {
            "backgroundcolor": "#E5ECF6",
            "gridcolor": "white",
            "gridwidth": 2,
            "linecolor": "white",
            "showbackground": true,
            "ticks": "",
            "zerolinecolor": "white"
           },
           "zaxis": {
            "backgroundcolor": "#E5ECF6",
            "gridcolor": "white",
            "gridwidth": 2,
            "linecolor": "white",
            "showbackground": true,
            "ticks": "",
            "zerolinecolor": "white"
           }
          },
          "shapedefaults": {
           "line": {
            "color": "#2a3f5f"
           }
          },
          "ternary": {
           "aaxis": {
            "gridcolor": "white",
            "linecolor": "white",
            "ticks": ""
           },
           "baxis": {
            "gridcolor": "white",
            "linecolor": "white",
            "ticks": ""
           },
           "bgcolor": "#E5ECF6",
           "caxis": {
            "gridcolor": "white",
            "linecolor": "white",
            "ticks": ""
           }
          },
          "title": {
           "x": 0.05
          },
          "xaxis": {
           "automargin": true,
           "gridcolor": "white",
           "linecolor": "white",
           "ticks": "",
           "title": {
            "standoff": 15
           },
           "zerolinecolor": "white",
           "zerolinewidth": 2
          },
          "yaxis": {
           "automargin": true,
           "gridcolor": "white",
           "linecolor": "white",
           "ticks": "",
           "title": {
            "standoff": 15
           },
           "zerolinecolor": "white",
           "zerolinewidth": 2
          }
         }
        },
        "title": {
         "text": "Population of European Cities in 2019"
        },
        "width": 1200
       }
      }
     },
     "metadata": {},
     "output_type": "display_data"
    }
   ],
   "source": [
    "cities_with_data = cities_lat_lon.dropna(subset=['Latitude', 'Longitude', '2019'])\n",
    "\n",
    "# Create a scatter map for the 2019 population\n",
    "fig = px.scatter_geo(\n",
    "    cities_with_data,\n",
    "    lat='Latitude',\n",
    "    lon='Longitude',\n",
    "    hover_name='City',\n",
    "    size='2019',  # Use the 2019 population for bubble size\n",
    "    projection='natural earth',\n",
    "    title='Population of European Cities in 2019',\n",
    "    labels={'2019': 'Population'},\n",
    "    scope='europe',  # Limit the map to Europe\n",
    ")\n",
    "\n",
    "# Adjust marker settings for better visualization\n",
    "fig.update_traces(marker=dict(sizemode='area', sizeref=2.*max(cities_with_data['2019'])/(100.**2), sizemin=4))\n",
    "\n",
    "fig.update_layout(\n",
    "    width=1200,  \n",
    "    height=800,  \n",
    "    geo=dict(\n",
    "        resolution=50,\n",
    "        showland=True,\n",
    "        landcolor=\"lightgray\",\n",
    "        showcoastlines=True,\n",
    "        coastlinecolor=\"black\",\n",
    "        showocean=True,\n",
    "        oceancolor=\"lightblue\",\n",
    "        showlakes=True,\n",
    "        lakecolor=\"blue\"\n",
    "    )\n",
    ")\n",
    "fig.show()"
   ]
  }
 ],
 "metadata": {
  "kernelspec": {
   "display_name": "TIL6022",
   "language": "python",
   "name": "python3"
  },
  "language_info": {
   "codemirror_mode": {
    "name": "ipython",
    "version": 3
   },
   "file_extension": ".py",
   "mimetype": "text/x-python",
   "name": "python",
   "nbconvert_exporter": "python",
   "pygments_lexer": "ipython3",
   "version": "3.12.5"
  }
 },
 "nbformat": 4,
 "nbformat_minor": 2
}
