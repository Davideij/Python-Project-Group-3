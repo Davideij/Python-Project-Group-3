{
 "cells": [
  {
   "cell_type": "code",
   "execution_count": 1,
   "id": "93006fae-c064-4b08-9f94-c84af2b82158",
   "metadata": {},
   "outputs": [],
   "source": [
    "import pandas as pd"
   ]
  },
  {
   "cell_type": "code",
   "execution_count": 2,
   "id": "926abfa9-4d8f-45fd-b52e-2e21e6dda542",
   "metadata": {},
   "outputs": [
    {
     "data": {
      "text/html": [
       "<div>\n",
       "<style scoped>\n",
       "    .dataframe tbody tr th:only-of-type {\n",
       "        vertical-align: middle;\n",
       "    }\n",
       "\n",
       "    .dataframe tbody tr th {\n",
       "        vertical-align: top;\n",
       "    }\n",
       "\n",
       "    .dataframe thead th {\n",
       "        text-align: right;\n",
       "    }\n",
       "</style>\n",
       "<table border=\"1\" class=\"dataframe\">\n",
       "  <thead>\n",
       "    <tr style=\"text-align: right;\">\n",
       "      <th></th>\n",
       "      <th>airp_pr</th>\n",
       "      <th>TIME_PERIOD</th>\n",
       "      <th>OBS_VALUE</th>\n",
       "    </tr>\n",
       "  </thead>\n",
       "  <tbody>\n",
       "    <tr>\n",
       "      <th>0</th>\n",
       "      <td>DE_EDDB_BE_EBBR</td>\n",
       "      <td>2016</td>\n",
       "      <td>428055</td>\n",
       "    </tr>\n",
       "    <tr>\n",
       "      <th>1</th>\n",
       "      <td>DE_EDDB_BE_EBBR</td>\n",
       "      <td>2017</td>\n",
       "      <td>302160</td>\n",
       "    </tr>\n",
       "    <tr>\n",
       "      <th>2</th>\n",
       "      <td>DE_EDDB_BE_EBBR</td>\n",
       "      <td>2018</td>\n",
       "      <td>160682</td>\n",
       "    </tr>\n",
       "  </tbody>\n",
       "</table>\n",
       "</div>"
      ],
      "text/plain": [
       "           airp_pr  TIME_PERIOD  OBS_VALUE\n",
       "0  DE_EDDB_BE_EBBR         2016     428055\n",
       "1  DE_EDDB_BE_EBBR         2017     302160\n",
       "2  DE_EDDB_BE_EBBR         2018     160682"
      ]
     },
     "execution_count": 2,
     "metadata": {},
     "output_type": "execute_result"
    }
   ],
   "source": [
    "# Step 1: Load raw data and concatenate\n",
    "raw_data_list = []\n",
    "data = pd.DataFrame()\n",
    "\n",
    "files = [\n",
    "    \"Data_sources/avia_par_de.csv\",\n",
    "    \"Data_sources/avia_par_nl.csv\",\n",
    "    \"Data_sources/avia_par_lu.csv\",\n",
    "    \"Data_sources/avia_par_be.csv\",\n",
    "    \"Data_sources/avia_par_fr.csv\",\n",
    "    \"Data_sources/avia_par_es.csv\"\n",
    "]\n",
    "\n",
    "for file in files:\n",
    "    temp = pd.read_csv(file, encoding='Windows-1252')\n",
    "    data = pd.concat([data, temp[['airp_pr', 'TIME_PERIOD', 'OBS_VALUE']]], ignore_index=True)\n",
    "\n",
    "data.head(3)"
   ]
  },
  {
   "cell_type": "code",
   "execution_count": 3,
   "id": "349f1ce1-169b-4d24-8691-81746e815b3e",
   "metadata": {},
   "outputs": [],
   "source": [
    "# Step 2: Extract Origin and Destination columns (by airport code)\n",
    "for idx, i in enumerate(data[\"airp_pr\"]):\n",
    "    org = i.split(\"_\")[1]\n",
    "    dest = i.split(\"_\")[3]\n",
    "    data.loc[idx, 'Origin'] = org\n",
    "    data.loc[idx, 'Destination'] = dest"
   ]
  },
  {
   "cell_type": "code",
   "execution_count": 4,
   "id": "d4b28c0d-5c6d-49e7-b253-a3b263dcc39a",
   "metadata": {},
   "outputs": [],
   "source": [
    "# Step 3: Group data by year\n",
    "grouped_years = data.groupby(\"TIME_PERIOD\")\n",
    "grouped_years_2016 = grouped_years.get_group(2016)\n",
    "grouped_years_2017 = grouped_years.get_group(2017)\n",
    "grouped_years_2018 = grouped_years.get_group(2018)\n",
    "grouped_years_2019 = grouped_years.get_group(2019)"
   ]
  },
  {
   "cell_type": "code",
   "execution_count": 5,
   "id": "62e70a38-e6a3-46a6-b5aa-a30691d31c22",
   "metadata": {},
   "outputs": [],
   "source": [
    "# Step 4: Import the airport codes to city mapping\n",
    "file_codes = \"Data_sources/Airport_codes_cities.csv\"\n",
    "codes = pd.read_csv(file_codes, encoding='Windows-1252')\n",
    "\n",
    "# Step 5: Function to get the city name from the airport code\n",
    "def get_city(airport_code):\n",
    "    match = codes[codes[\"Airport_Code\"] == airport_code]\n",
    "    if not match.empty:\n",
    "        return match[\"City\"].values[0]\n",
    "    return None\n",
    "\n",
    "# Step 6: Add city names to the data (for both origin and destination airports)\n",
    "def add_city_names(dataframe):\n",
    "    dataframe = dataframe.copy()  # This creates a copy to avoid the warning\n",
    "    dataframe.loc[:, 'Origin_City'] = dataframe['Origin'].apply(get_city)\n",
    "    dataframe.loc[:, 'Destination_City'] = dataframe['Destination'].apply(get_city)\n",
    "    return dataframe\n",
    "\n",
    "# Add city names for each year's data\n",
    "grouped_years_2016 = add_city_names(grouped_years_2016)\n",
    "grouped_years_2017 = add_city_names(grouped_years_2017)\n",
    "grouped_years_2018 = add_city_names(grouped_years_2018)\n",
    "grouped_years_2019 = add_city_names(grouped_years_2019)"
   ]
  },
  {
   "cell_type": "code",
   "execution_count": 6,
   "id": "11322667-9b30-4b82-a566-aaf25c9fecfb",
   "metadata": {},
   "outputs": [],
   "source": [
    "# Step 7: Function to calculate total passengers between city pairs\n",
    "def passenger_data_by_city(dataset):\n",
    "    # Ensure both cities are valid strings, and filter out rows with missing or invalid city data\n",
    "    dataset = dataset.dropna(subset=['Origin_City', 'Destination_City']).copy()\n",
    "\n",
    "    # Standardize city pair order by ensuring City_A is always alphabetically before City_B\n",
    "    dataset['City_A'] = dataset[['Origin_City', 'Destination_City']].min(axis=1)\n",
    "    dataset['City_B'] = dataset[['Origin_City', 'Destination_City']].max(axis=1)\n",
    "\n",
    "    # Also align the airport codes with the correct city pair\n",
    "    dataset['Airport_A'] = dataset.apply(lambda x: x['Origin'] if x['City_A'] == x['Origin_City'] else x['Destination'], axis=1)\n",
    "    dataset['Airport_B'] = dataset.apply(lambda x: x['Destination'] if x['City_B'] == x['Destination_City'] else x['Origin'], axis=1)\n",
    "\n",
    "    # Group by city pairs and airport codes, and sum the passengers\n",
    "    citypairs = dataset.groupby(['City_A', 'City_B', 'Airport_A', 'Airport_B'], as_index=False).agg({'OBS_VALUE': 'sum'})\n",
    "    \n",
    "    # Rename columns\n",
    "    citypairs.rename(columns={'OBS_VALUE': 'Total passengers'}, inplace=True)\n",
    "\n",
    "    return citypairs\n",
    "\n",
    "# Step 8: Get city pair data for each year\n",
    "citypairs_2016 = passenger_data_by_city(grouped_years_2016)\n",
    "citypairs_2017 = passenger_data_by_city(grouped_years_2017)\n",
    "citypairs_2018 = passenger_data_by_city(grouped_years_2018)\n",
    "citypairs_2019 = passenger_data_by_city(grouped_years_2019)"
   ]
  },
  {
   "cell_type": "code",
   "execution_count": 7,
   "id": "75abfc59-b0e6-47f3-838b-4a5678d09f75",
   "metadata": {},
   "outputs": [],
   "source": [
    "# Step 9: Sort city pairs by total passengers\n",
    "def sort_cities(citypairs):\n",
    "    return citypairs.sort_values(by=['Total passengers'], ascending=False)\n",
    "\n",
    "citypairs_sorted_2016 = sort_cities(citypairs_2016)\n",
    "citypairs_sorted_2017 = sort_cities(citypairs_2017)\n",
    "citypairs_sorted_2018 = sort_cities(citypairs_2018)\n",
    "citypairs_sorted_2019 = sort_cities(citypairs_2019)"
   ]
  },
  {
   "cell_type": "code",
   "execution_count": 8,
   "id": "6fb9d387-adf9-4844-a811-36e55f8d44fe",
   "metadata": {},
   "outputs": [],
   "source": [
    "# Step 10: Export results to Excel\n",
    "citypairs_sorted_2016.to_excel(\"2016_cities.xlsx\", index=False)\n",
    "citypairs_sorted_2017.to_excel(\"2017_cities.xlsx\", index=False)\n",
    "citypairs_sorted_2018.to_excel(\"2018_cities.xlsx\", index=False)\n",
    "citypairs_sorted_2019.to_excel(\"2019_cities.xlsx\", index=False)"
   ]
  }
 ],
 "metadata": {
  "kernelspec": {
   "display_name": "Python 3 (ipykernel)",
   "language": "python",
   "name": "python3"
  },
  "language_info": {
   "codemirror_mode": {
    "name": "ipython",
    "version": 3
   },
   "file_extension": ".py",
   "mimetype": "text/x-python",
   "name": "python",
   "nbconvert_exporter": "python",
   "pygments_lexer": "ipython3",
   "version": "3.12.4"
  }
 },
 "nbformat": 4,
 "nbformat_minor": 5
}
