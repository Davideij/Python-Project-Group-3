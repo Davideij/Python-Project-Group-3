{
 "cells": [
  {
   "cell_type": "code",
   "execution_count": 19,
   "id": "93006fae-c064-4b08-9f94-c84af2b82158",
   "metadata": {},
   "outputs": [],
   "source": [
    "import pandas as pd"
   ]
  },
  {
   "cell_type": "code",
   "execution_count": 20,
   "id": "926abfa9-4d8f-45fd-b52e-2e21e6dda542",
   "metadata": {},
   "outputs": [
    {
     "data": {
      "text/html": [
       "<div>\n",
       "<style scoped>\n",
       "    .dataframe tbody tr th:only-of-type {\n",
       "        vertical-align: middle;\n",
       "    }\n",
       "\n",
       "    .dataframe tbody tr th {\n",
       "        vertical-align: top;\n",
       "    }\n",
       "\n",
       "    .dataframe thead th {\n",
       "        text-align: right;\n",
       "    }\n",
       "</style>\n",
       "<table border=\"1\" class=\"dataframe\">\n",
       "  <thead>\n",
       "    <tr style=\"text-align: right;\">\n",
       "      <th></th>\n",
       "      <th>airp_pr</th>\n",
       "      <th>TIME_PERIOD</th>\n",
       "      <th>OBS_VALUE</th>\n",
       "    </tr>\n",
       "  </thead>\n",
       "  <tbody>\n",
       "    <tr>\n",
       "      <th>0</th>\n",
       "      <td>DE_EDDB_BE_EBBR</td>\n",
       "      <td>2016</td>\n",
       "      <td>428055</td>\n",
       "    </tr>\n",
       "    <tr>\n",
       "      <th>1</th>\n",
       "      <td>DE_EDDB_BE_EBBR</td>\n",
       "      <td>2017</td>\n",
       "      <td>302160</td>\n",
       "    </tr>\n",
       "    <tr>\n",
       "      <th>2</th>\n",
       "      <td>DE_EDDB_BE_EBBR</td>\n",
       "      <td>2018</td>\n",
       "      <td>160682</td>\n",
       "    </tr>\n",
       "  </tbody>\n",
       "</table>\n",
       "</div>"
      ],
      "text/plain": [
       "           airp_pr  TIME_PERIOD  OBS_VALUE\n",
       "0  DE_EDDB_BE_EBBR         2016     428055\n",
       "1  DE_EDDB_BE_EBBR         2017     302160\n",
       "2  DE_EDDB_BE_EBBR         2018     160682"
      ]
     },
     "execution_count": 20,
     "metadata": {},
     "output_type": "execute_result"
    }
   ],
   "source": [
    "# Step 1: Load raw data and concatenate\n",
    "raw_data_list = []\n",
    "data = pd.DataFrame()\n",
    "\n",
    "files = [\n",
    "    \"../Data/Airport_pas_datasets/avia_par_de.csv\",\n",
    "    \"../Data/Airport_pas_datasets/avia_par_nl.csv\",\n",
    "    \"../Data/Airport_pas_datasets/avia_par_lu.csv\",\n",
    "    \"../Data/Airport_pas_datasets/avia_par_be.csv\",\n",
    "    \"../Data/Airport_pas_datasets/avia_par_fr.csv\",\n",
    "    \"../Data/Airport_pas_datasets/avia_par_es.csv\"\n",
    "]\n",
    "\n",
    "for file in files:\n",
    "    temp = pd.read_csv(file, encoding='Windows-1252')\n",
    "    data = pd.concat([data, temp[['airp_pr', 'TIME_PERIOD', 'OBS_VALUE']]], ignore_index=True)\n",
    "\n",
    "data.head(3)"
   ]
  },
  {
   "cell_type": "code",
   "execution_count": 21,
   "id": "349f1ce1-169b-4d24-8691-81746e815b3e",
   "metadata": {},
   "outputs": [],
   "source": [
    "# Step 2: Extract Origin and Destination columns (by airport code)\n",
    "for idx, i in enumerate(data[\"airp_pr\"]):\n",
    "    org = i.split(\"_\")[1]\n",
    "    dest = i.split(\"_\")[3]\n",
    "    data.loc[idx, 'Origin'] = org\n",
    "    data.loc[idx, 'Destination'] = dest"
   ]
  },
  {
   "cell_type": "code",
   "execution_count": 22,
   "id": "d4b28c0d-5c6d-49e7-b253-a3b263dcc39a",
   "metadata": {},
   "outputs": [],
   "source": [
    "# Step 3: Group data by year\n",
    "grouped_years = data.groupby(\"TIME_PERIOD\")\n",
    "grouped_years_2016 = grouped_years.get_group(2016)\n",
    "grouped_years_2017 = grouped_years.get_group(2017)\n",
    "grouped_years_2018 = grouped_years.get_group(2018)\n",
    "grouped_years_2019 = grouped_years.get_group(2019)"
   ]
  },
  {
   "cell_type": "code",
   "execution_count": 23,
   "id": "62e70a38-e6a3-46a6-b5aa-a30691d31c22",
   "metadata": {},
   "outputs": [],
   "source": [
    "# Step 4: Import the airport codes\n",
    "file_codes = \"../Data/Airport_codes_cities.csv\"\n",
    "codes = pd.read_csv(file_codes, encoding='Windows-1252')\n",
    "\n",
    "# Step 5: Function to get the city name from the airport code\n",
    "def get_city(airport_code):\n",
    "    match = codes[codes[\"Airport_Code\"] == airport_code]\n",
    "    if not match.empty:\n",
    "        return match[\"City\"].values[0]\n",
    "    return None\n",
    "\n",
    "# Step 6: Add city names to the data (for both origin and destination airports)\n",
    "def add_city_names(dataframe):\n",
    "    dataframe = dataframe.copy()  # This creates a copy to avoid a warning\n",
    "    dataframe.loc[:, 'Origin_City'] = dataframe['Origin'].apply(get_city)\n",
    "    dataframe.loc[:, 'Destination_City'] = dataframe['Destination'].apply(get_city)\n",
    "    return dataframe\n",
    "\n",
    "# Add city names for each year's data\n",
    "grouped_years_2016 = add_city_names(grouped_years_2016)\n",
    "grouped_years_2017 = add_city_names(grouped_years_2017)\n",
    "grouped_years_2018 = add_city_names(grouped_years_2018)\n",
    "grouped_years_2019 = add_city_names(grouped_years_2019)"
   ]
  },
  {
   "cell_type": "code",
   "execution_count": 24,
   "id": "11322667-9b30-4b82-a566-aaf25c9fecfb",
   "metadata": {},
   "outputs": [],
   "source": [
    "# Step 7: Function to calculate total passengers between city pairs\n",
    "def passenger_data_by_city(dataset):\n",
    "    # Ensure both cities are valid strings, and filter out rows with missing or invalid city data\n",
    "    dataset = dataset.dropna(subset=['Origin_City', 'Destination_City']).copy()\n",
    "\n",
    "    # Standardize city pair order by ensuring City_A is always alphabetically before City_B\n",
    "    dataset['City_A'] = dataset[['Origin_City', 'Destination_City']].min(axis=1)\n",
    "    dataset['City_B'] = dataset[['Origin_City', 'Destination_City']].max(axis=1)\n",
    "\n",
    "    # Also align the airport codes with the correct city pair\n",
    "    dataset['Airport_A'] = dataset.apply(lambda x: x['Origin'] if x['City_A'] == x['Origin_City'] else x['Destination'], axis=1)\n",
    "    dataset['Airport_B'] = dataset.apply(lambda x: x['Destination'] if x['City_B'] == x['Destination_City'] else x['Origin'], axis=1)\n",
    "\n",
    "    # Group by city pairs and airport codes, and sum the passengers\n",
    "    citypairs = dataset.groupby(['City_A', 'City_B', 'Airport_A', 'Airport_B'], as_index=False).agg({'OBS_VALUE': 'sum'})\n",
    "    \n",
    "    # Rename columns\n",
    "    citypairs.rename(columns={'OBS_VALUE': 'Total passengers'}, inplace=True)\n",
    "\n",
    "    return citypairs\n",
    "\n",
    "# Step 8: Get city pair data for each year\n",
    "citypairs_2016 = passenger_data_by_city(grouped_years_2016)\n",
    "citypairs_2017 = passenger_data_by_city(grouped_years_2017)\n",
    "citypairs_2018 = passenger_data_by_city(grouped_years_2018)\n",
    "citypairs_2019 = passenger_data_by_city(grouped_years_2019)"
   ]
  },
  {
   "cell_type": "code",
   "execution_count": 25,
   "id": "75abfc59-b0e6-47f3-838b-4a5678d09f75",
   "metadata": {},
   "outputs": [],
   "source": [
    "# Step 9: Sort city pairs by total passengers\n",
    "def sort_cities(citypairs):\n",
    "    return citypairs.sort_values(by=['Total passengers'], ascending=False)\n",
    "\n",
    "citypairs_sorted_2016 = sort_cities(citypairs_2016)\n",
    "citypairs_sorted_2017 = sort_cities(citypairs_2017)\n",
    "citypairs_sorted_2018 = sort_cities(citypairs_2018)\n",
    "citypairs_sorted_2019 = sort_cities(citypairs_2019)"
   ]
  },
  {
   "cell_type": "code",
   "execution_count": 28,
   "id": "6fb9d387-adf9-4844-a811-36e55f8d44fe",
   "metadata": {},
   "outputs": [
    {
     "ename": "ModuleNotFoundError",
     "evalue": "No module named 'openpyxl'",
     "output_type": "error",
     "traceback": [
      "\u001b[0;31m---------------------------------------------------------------------------\u001b[0m",
      "\u001b[0;31mModuleNotFoundError\u001b[0m                       Traceback (most recent call last)",
      "Cell \u001b[0;32mIn[28], line 2\u001b[0m\n\u001b[1;32m      1\u001b[0m \u001b[38;5;66;03m# Step 10: Export results to Excel\u001b[39;00m\n\u001b[0;32m----> 2\u001b[0m citypairs_sorted_2016\u001b[38;5;241m.\u001b[39mto_excel(\u001b[38;5;124m\"\u001b[39m\u001b[38;5;124m2016_cities.xlsx\u001b[39m\u001b[38;5;124m\"\u001b[39m, index\u001b[38;5;241m=\u001b[39m\u001b[38;5;28;01mFalse\u001b[39;00m)\n\u001b[1;32m      3\u001b[0m citypairs_sorted_2017\u001b[38;5;241m.\u001b[39mto_excel(\u001b[38;5;124m\"\u001b[39m\u001b[38;5;124m2017_cities.xlsx\u001b[39m\u001b[38;5;124m\"\u001b[39m, index\u001b[38;5;241m=\u001b[39m\u001b[38;5;28;01mFalse\u001b[39;00m)\n\u001b[1;32m      4\u001b[0m citypairs_sorted_2018\u001b[38;5;241m.\u001b[39mto_excel(\u001b[38;5;124m\"\u001b[39m\u001b[38;5;124m2018_cities.xlsx\u001b[39m\u001b[38;5;124m\"\u001b[39m, index\u001b[38;5;241m=\u001b[39m\u001b[38;5;28;01mFalse\u001b[39;00m)\n",
      "File \u001b[0;32m/opt/anaconda3/envs/TIL6022/lib/python3.12/site-packages/pandas/util/_decorators.py:333\u001b[0m, in \u001b[0;36mdeprecate_nonkeyword_arguments.<locals>.decorate.<locals>.wrapper\u001b[0;34m(*args, **kwargs)\u001b[0m\n\u001b[1;32m    327\u001b[0m \u001b[38;5;28;01mif\u001b[39;00m \u001b[38;5;28mlen\u001b[39m(args) \u001b[38;5;241m>\u001b[39m num_allow_args:\n\u001b[1;32m    328\u001b[0m     warnings\u001b[38;5;241m.\u001b[39mwarn(\n\u001b[1;32m    329\u001b[0m         msg\u001b[38;5;241m.\u001b[39mformat(arguments\u001b[38;5;241m=\u001b[39m_format_argument_list(allow_args)),\n\u001b[1;32m    330\u001b[0m         \u001b[38;5;167;01mFutureWarning\u001b[39;00m,\n\u001b[1;32m    331\u001b[0m         stacklevel\u001b[38;5;241m=\u001b[39mfind_stack_level(),\n\u001b[1;32m    332\u001b[0m     )\n\u001b[0;32m--> 333\u001b[0m \u001b[38;5;28;01mreturn\u001b[39;00m func(\u001b[38;5;241m*\u001b[39margs, \u001b[38;5;241m*\u001b[39m\u001b[38;5;241m*\u001b[39mkwargs)\n",
      "File \u001b[0;32m/opt/anaconda3/envs/TIL6022/lib/python3.12/site-packages/pandas/core/generic.py:2417\u001b[0m, in \u001b[0;36mNDFrame.to_excel\u001b[0;34m(self, excel_writer, sheet_name, na_rep, float_format, columns, header, index, index_label, startrow, startcol, engine, merge_cells, inf_rep, freeze_panes, storage_options, engine_kwargs)\u001b[0m\n\u001b[1;32m   2404\u001b[0m \u001b[38;5;28;01mfrom\u001b[39;00m \u001b[38;5;21;01mpandas\u001b[39;00m\u001b[38;5;21;01m.\u001b[39;00m\u001b[38;5;21;01mio\u001b[39;00m\u001b[38;5;21;01m.\u001b[39;00m\u001b[38;5;21;01mformats\u001b[39;00m\u001b[38;5;21;01m.\u001b[39;00m\u001b[38;5;21;01mexcel\u001b[39;00m \u001b[38;5;28;01mimport\u001b[39;00m ExcelFormatter\n\u001b[1;32m   2406\u001b[0m formatter \u001b[38;5;241m=\u001b[39m ExcelFormatter(\n\u001b[1;32m   2407\u001b[0m     df,\n\u001b[1;32m   2408\u001b[0m     na_rep\u001b[38;5;241m=\u001b[39mna_rep,\n\u001b[0;32m   (...)\u001b[0m\n\u001b[1;32m   2415\u001b[0m     inf_rep\u001b[38;5;241m=\u001b[39minf_rep,\n\u001b[1;32m   2416\u001b[0m )\n\u001b[0;32m-> 2417\u001b[0m formatter\u001b[38;5;241m.\u001b[39mwrite(\n\u001b[1;32m   2418\u001b[0m     excel_writer,\n\u001b[1;32m   2419\u001b[0m     sheet_name\u001b[38;5;241m=\u001b[39msheet_name,\n\u001b[1;32m   2420\u001b[0m     startrow\u001b[38;5;241m=\u001b[39mstartrow,\n\u001b[1;32m   2421\u001b[0m     startcol\u001b[38;5;241m=\u001b[39mstartcol,\n\u001b[1;32m   2422\u001b[0m     freeze_panes\u001b[38;5;241m=\u001b[39mfreeze_panes,\n\u001b[1;32m   2423\u001b[0m     engine\u001b[38;5;241m=\u001b[39mengine,\n\u001b[1;32m   2424\u001b[0m     storage_options\u001b[38;5;241m=\u001b[39mstorage_options,\n\u001b[1;32m   2425\u001b[0m     engine_kwargs\u001b[38;5;241m=\u001b[39mengine_kwargs,\n\u001b[1;32m   2426\u001b[0m )\n",
      "File \u001b[0;32m/opt/anaconda3/envs/TIL6022/lib/python3.12/site-packages/pandas/io/formats/excel.py:943\u001b[0m, in \u001b[0;36mExcelFormatter.write\u001b[0;34m(self, writer, sheet_name, startrow, startcol, freeze_panes, engine, storage_options, engine_kwargs)\u001b[0m\n\u001b[1;32m    941\u001b[0m     need_save \u001b[38;5;241m=\u001b[39m \u001b[38;5;28;01mFalse\u001b[39;00m\n\u001b[1;32m    942\u001b[0m \u001b[38;5;28;01melse\u001b[39;00m:\n\u001b[0;32m--> 943\u001b[0m     writer \u001b[38;5;241m=\u001b[39m ExcelWriter(\n\u001b[1;32m    944\u001b[0m         writer,\n\u001b[1;32m    945\u001b[0m         engine\u001b[38;5;241m=\u001b[39mengine,\n\u001b[1;32m    946\u001b[0m         storage_options\u001b[38;5;241m=\u001b[39mstorage_options,\n\u001b[1;32m    947\u001b[0m         engine_kwargs\u001b[38;5;241m=\u001b[39mengine_kwargs,\n\u001b[1;32m    948\u001b[0m     )\n\u001b[1;32m    949\u001b[0m     need_save \u001b[38;5;241m=\u001b[39m \u001b[38;5;28;01mTrue\u001b[39;00m\n\u001b[1;32m    951\u001b[0m \u001b[38;5;28;01mtry\u001b[39;00m:\n",
      "File \u001b[0;32m/opt/anaconda3/envs/TIL6022/lib/python3.12/site-packages/pandas/io/excel/_openpyxl.py:57\u001b[0m, in \u001b[0;36mOpenpyxlWriter.__init__\u001b[0;34m(self, path, engine, date_format, datetime_format, mode, storage_options, if_sheet_exists, engine_kwargs, **kwargs)\u001b[0m\n\u001b[1;32m     44\u001b[0m \u001b[38;5;28;01mdef\u001b[39;00m \u001b[38;5;21m__init__\u001b[39m(\n\u001b[1;32m     45\u001b[0m     \u001b[38;5;28mself\u001b[39m,\n\u001b[1;32m     46\u001b[0m     path: FilePath \u001b[38;5;241m|\u001b[39m WriteExcelBuffer \u001b[38;5;241m|\u001b[39m ExcelWriter,\n\u001b[0;32m   (...)\u001b[0m\n\u001b[1;32m     55\u001b[0m ) \u001b[38;5;241m-\u001b[39m\u001b[38;5;241m>\u001b[39m \u001b[38;5;28;01mNone\u001b[39;00m:\n\u001b[1;32m     56\u001b[0m     \u001b[38;5;66;03m# Use the openpyxl module as the Excel writer.\u001b[39;00m\n\u001b[0;32m---> 57\u001b[0m     \u001b[38;5;28;01mfrom\u001b[39;00m \u001b[38;5;21;01mopenpyxl\u001b[39;00m\u001b[38;5;21;01m.\u001b[39;00m\u001b[38;5;21;01mworkbook\u001b[39;00m \u001b[38;5;28;01mimport\u001b[39;00m Workbook\n\u001b[1;32m     59\u001b[0m     engine_kwargs \u001b[38;5;241m=\u001b[39m combine_kwargs(engine_kwargs, kwargs)\n\u001b[1;32m     61\u001b[0m     \u001b[38;5;28msuper\u001b[39m()\u001b[38;5;241m.\u001b[39m\u001b[38;5;21m__init__\u001b[39m(\n\u001b[1;32m     62\u001b[0m         path,\n\u001b[1;32m     63\u001b[0m         mode\u001b[38;5;241m=\u001b[39mmode,\n\u001b[0;32m   (...)\u001b[0m\n\u001b[1;32m     66\u001b[0m         engine_kwargs\u001b[38;5;241m=\u001b[39mengine_kwargs,\n\u001b[1;32m     67\u001b[0m     )\n",
      "\u001b[0;31mModuleNotFoundError\u001b[0m: No module named 'openpyxl'"
     ]
    }
   ],
   "source": [
    "# Step 10: Export results to Excel\n",
    "citypairs_sorted_2016.to_excel(\"2016_cities.xlsx\", index=False)\n",
    "citypairs_sorted_2017.to_excel(\"2017_cities.xlsx\", index=False)\n",
    "citypairs_sorted_2018.to_excel(\"2018_cities.xlsx\", index=False)\n",
    "citypairs_sorted_2019.to_excel(\"2019_cities.xlsx\", index=False)"
   ]
  }
 ],
 "metadata": {
  "kernelspec": {
   "display_name": "TIL6022",
   "language": "python",
   "name": "python3"
  },
  "language_info": {
   "codemirror_mode": {
    "name": "ipython",
    "version": 3
   },
   "file_extension": ".py",
   "mimetype": "text/x-python",
   "name": "python",
   "nbconvert_exporter": "python",
   "pygments_lexer": "ipython3",
   "version": "3.12.2"
  }
 },
 "nbformat": 4,
 "nbformat_minor": 5
}
